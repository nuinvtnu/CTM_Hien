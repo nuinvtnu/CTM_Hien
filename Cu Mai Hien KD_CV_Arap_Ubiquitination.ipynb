{
  "cells": [
    {
      "cell_type": "code",
      "execution_count": 1,
      "metadata": {
        "id": "x7LBfh0uLpup",
        "colab": {
          "base_uri": "https://localhost:8080/"
        },
        "outputId": "cdffc1e8-bb94-4b58-ca06-09770f477d9b"
      },
      "outputs": [
        {
          "output_type": "stream",
          "name": "stdout",
          "text": [
            "Mounted at /content/drive\n"
          ]
        }
      ],
      "source": [
        "from google.colab import drive\n",
        "drive.mount('/content/drive')"
      ]
    },
    {
      "cell_type": "code",
      "execution_count": 2,
      "metadata": {
        "id": "HOc-mgrK5B_6"
      },
      "outputs": [],
      "source": [
        "import tensorflow as tf\n",
        "from tensorflow import keras\n",
        "from tensorflow.keras import layers\n",
        "import numpy as np\n",
        "from tensorflow.keras.preprocessing.sequence import pad_sequences\n",
        "import numpy as np\n",
        "import pickle as cPickle\n",
        "import pandas as pd\n",
        "from keras.callbacks import EarlyStopping\n",
        "from tensorflow.keras.utils import to_categorical\n",
        "from sklearn.preprocessing import LabelBinarizer\n",
        "from keras.layers import LSTM, Dense, TimeDistributed, Bidirectional\n",
        "import sklearn.metrics\n",
        "from sklearn.metrics import confusion_matrix\n",
        "\n",
        "from sklearn.model_selection import KFold\n",
        "from keras.models import Sequential\n",
        "from keras.layers import Conv1D, MaxPooling1D, Flatten, Dense\n",
        "from keras.layers import concatenate\n",
        "from tensorflow.keras import Model\n",
        "from keras.layers import Dense,Embedding,LSTM,Dropout,Bidirectional\n",
        "from keras import models"
      ]
    },
    {
      "cell_type": "code",
      "execution_count": 3,
      "metadata": {
        "id": "Mt34EtLoLpup"
      },
      "outputs": [],
      "source": [
        "data_student = \"/content/drive/nuinvtnu 2021/Github_Data_Codes/CTM_Hien/\"\n",
		"data_teacher = \"/content/drive/nuinvtnu 2021/Github_Data_Codes/CTM_Hien/\"\n",
        "path = \"/content/drive/nuinvtnu 2021/Github_Data_Codes/CTM_Hien/\""
      ]
    },
    {
      "cell_type": "code",
      "execution_count": 4,
      "metadata": {
        "id": "CUUYvlp8Lpup"
      },
      "outputs": [],
      "source": [
        "def twoTupleDic3():\n",
        "    AA_list_sort = ['G','A','V','L','I','M','P','F','W','S','T','N','Q','Y','C','K','R','H','D','E','X']\n",
        "\n",
        "    AA_dict = {}\n",
        "    numm = 1\n",
        "    for i in AA_list_sort:\n",
        "        for j in AA_list_sort:\n",
        "          for jj in AA_list_sort:\n",
        "             AA_dict[i+j+jj] = numm\n",
        "             numm += 1\n",
        "    return AA_dict\n",
        "def twoTupleDic2():\n",
        "    AA_list_sort = ['G','A','V','L','I','M','P','F','W','S','T','N','Q','Y','C','K','R','H','D','E','X']\n",
        "\n",
        "    AA_dict = {}\n",
        "    numm = 1\n",
        "    for i in AA_list_sort:\n",
        "        for j in AA_list_sort:\n",
        "          AA_dict[i+j] = numm\n",
        "          numm += 1\n",
        "    return AA_dict\n",
        "\n",
        "def twoTupleDic1():\n",
        "    AA_list_sort = ['G','A','V','L','I','M','P','F','W','S','T','N','Q','Y','C','K','R','H','D','E','X']\n",
        "\n",
        "    AA_dict = {}\n",
        "    numm = 1\n",
        "    for i in AA_list_sort:\n",
        "        AA_dict[i] = numm\n",
        "        numm += 1\n",
        "    return AA_dict\n",
        "def ProSentence(pro, K):\n",
        "\tsentence = \"\"\n",
        "\tlength = len(pro)\n",
        "\tfor i in range(length - K + 1):\n",
        "\t\tsentence += pro[i: i + K] + \" \"\n",
        "    #delete extra space\n",
        "\tsentence = sentence[0 : len(sentence) - 1]\n",
        "\treturn sentence\n",
        "k =1#1-gram\n",
        "word_index1 = twoTupleDic1()\n",
        "vocab_size = len(word_index1)\n",
        "num_folds = 5\n",
        "TIME_STEPS = 33\n",
        "INPUT_SIZE = 300"
      ]
    },
    {
      "cell_type": "code",
      "execution_count": 5,
      "metadata": {
        "id": "QeJNsISDLput",
        "colab": {
          "base_uri": "https://localhost:8080/"
        },
        "outputId": "b6eda561-2766-487c-8bce-9ea3872966b7"
      },
      "outputs": [
        {
          "output_type": "execute_result",
          "data": {
            "text/plain": [
              "(3064, 2)"
            ]
          },
          "metadata": {},
          "execution_count": 5
        }
      ],
      "source": [
        "# Load Traindata\n",
        "import pandas as pd\n",
        "file_train_student = \"train_data_31_Arathailiana_1_1.csv\"\n",
        "df_train_student =pd.read_csv(data_student+file_train_student, delimiter= ',')\n",
        "\n",
        "texts_train_student =[] #PTMsequend kmer\n",
        "for i in df_train_student['Sequence']:\n",
        "  temp = ProSentence(i,k)\n",
        "  texts_train_student.append(temp)\n",
        "df_train_student['k_mer'] =texts_train_student\n",
        "train_sequences_student = []\n",
        "for each in texts_train_student:\n",
        "    each_index_list = []\n",
        "    each = each.split(' ')\n",
        "    for i in each:\n",
        "        each_index_list.append(word_index1[i])\n",
        "    train_sequences_student.append(each_index_list)\n",
        "# Tokenizer train data input Word2vec\n",
        "data_token_student = []\n",
        "for i in df_train_student['k_mer']:\n",
        "   data_token_student.append(i.split())\n",
        "\n",
        "MAX_SEQUENCE_LENGTH_student = len(data_token_student[1])\n",
        "Xtrain_student = pad_sequences(train_sequences_student, maxlen=MAX_SEQUENCE_LENGTH_student)\n",
        "ytrain_student = np.array(df_train_student['Label'])\n",
        "ytrain_student = np.array(ytrain_student)\n",
        "# perform one-hot encoding on the labels\n",
        "lb = LabelBinarizer()\n",
        "ytrain_student = lb.fit_transform(ytrain_student)\n",
        "ytrain_student = to_categorical(ytrain_student)\n",
        "ytrain_student.shape\n"
      ]
    },
    {
      "cell_type": "markdown",
      "source": [
        "**Define model**"
      ],
      "metadata": {
        "id": "Hud3BNBGkcH_"
      }
    },
    {
      "cell_type": "code",
      "execution_count": 7,
      "metadata": {
        "id": "o92YRtPh5Knd"
      },
      "outputs": [],
      "source": [
        "class Distiller(keras.Model):\n",
        "    def __init__(self, student, teacher):\n",
        "        super().__init__()\n",
        "        self.teacher = teacher\n",
        "        self.student = student\n",
        "\n",
        "    def compile(\n",
        "        self,\n",
        "        optimizer,\n",
        "        metrics,\n",
        "        student_loss_fn,\n",
        "        distillation_loss_fn,\n",
        "        alpha=0.1,\n",
        "        temperature=3,\n",
        "    ):\n",
        "        \"\"\" Configure the distiller.\n",
        "\n",
        "        Args:\n",
        "            optimizer: Keras optimizer for the student weights\n",
        "            metrics: Keras metrics for evaluation\n",
        "            student_loss_fn: Loss function of difference between student\n",
        "                predictions and ground-truth\n",
        "            distillation_loss_fn: Loss function of difference between soft\n",
        "                student predictions and soft teacher predictions\n",
        "            alpha: weight to student_loss_fn and 1-alpha to distillation_loss_fn\n",
        "            temperature: Temperature for softening probability distributions.\n",
        "                Larger temperature gives softer distributions.\n",
        "        \"\"\"\n",
        "        super().compile(optimizer=optimizer, metrics=metrics)\n",
        "        self.student_loss_fn = student_loss_fn\n",
        "        self.distillation_loss_fn = distillation_loss_fn\n",
        "        self.alpha = alpha\n",
        "        self.temperature = temperature\n",
        "\n",
        "    def train_step(self, data):\n",
        "        # Unpack data\n",
        "        x, y = data\n",
        "\n",
        "        # Forward pass of teacher\n",
        "        teacher_predictions = self.teacher(x, training=False)\n",
        "\n",
        "        with tf.GradientTape() as tape:\n",
        "            # Forward pass of student\n",
        "            student_predictions = self.student(x, training=True)\n",
        "\n",
        "            # Compute losses\n",
        "            student_loss = self.student_loss_fn(y, student_predictions)\n",
        "\n",
        "            # Compute scaled distillation loss from https://arxiv.org/abs/1503.02531\n",
        "            # The magnitudes of the gradients produced by the soft targets scale\n",
        "            # as 1/T^2, multiply them by T^2 when using both hard and soft targets.\n",
        "            distillation_loss = (\n",
        "                self.distillation_loss_fn(\n",
        "                    tf.nn.softmax(teacher_predictions / self.temperature, axis=1),\n",
        "                    tf.nn.softmax(student_predictions / self.temperature, axis=1),\n",
        "                )\n",
        "                * self.temperature**2\n",
        "            )\n",
        "\n",
        "            loss = self.alpha * student_loss + (1 - self.alpha) * distillation_loss\n",
        "\n",
        "        # Compute gradients\n",
        "        trainable_vars = self.student.trainable_variables\n",
        "        gradients = tape.gradient(loss, trainable_vars)\n",
        "\n",
        "        # Update weights\n",
        "        self.optimizer.apply_gradients(zip(gradients, trainable_vars))\n",
        "\n",
        "        # Update the metrics configured in `compile()`.\n",
        "        self.compiled_metrics.update_state(y, student_predictions)\n",
        "\n",
        "        # Return a dict of performance\n",
        "        results = {m.name: m.result() for m in self.metrics}\n",
        "        results.update(\n",
        "            {\"student_loss\": student_loss, \"distillation_loss\": distillation_loss}\n",
        "        )\n",
        "        return results\n",
        "\n",
        "    def test_step(self, data):\n",
        "        # Unpack the data\n",
        "        x, y = data\n",
        "\n",
        "        # Compute predictions\n",
        "        y_prediction = self.student(x, training=False)\n",
        "\n",
        "        # Calculate the loss\n",
        "        student_loss = self.student_loss_fn(y, y_prediction)\n",
        "\n",
        "        # Update the metrics.\n",
        "        self.compiled_metrics.update_state(y, y_prediction)\n",
        "\n",
        "        # Return a dict of performance\n",
        "        results = {m.name: m.result() for m in self.metrics}\n",
        "        results.update({\"student_loss\": student_loss})\n",
        "        return results\n",
        "\n"
      ]
    },
    {
      "cell_type": "code",
      "execution_count": 8,
      "metadata": {
        "id": "O336skmC67je"
      },
      "outputs": [],
      "source": [
        "checkpoint = EarlyStopping(monitor='val_loss',\n",
        "            min_delta=0,\n",
        "            patience=3,\n",
        "            verbose=1, mode='auto')\n",
        "result_test =data_student +\"Result_KD_BiLSTM.txt\"\n"
      ]
    },
    {
      "cell_type": "code",
      "source": [
        "#  Cross validation Knowlege distillation model\n",
        "kf = KFold(n_splits=num_folds, shuffle=True)\n",
        "\n",
        "X_student = Xtrain_student\n",
        "Y_student = ytrain_student\n",
        "model_teacher = models.load_model(path+'teacher.h5')\n",
        "fold_idx =1\n",
        "for train_index_student, test_index_student in kf.split(X_student,Y_student):\n",
        "    X_train_student, X_test_student =X_student[train_index_student], X_student[test_index_student]\n",
        "    Y_train_student, Y_test_student = Y_student[train_index_student], Y_student[test_index_student]\n",
        "# Create the student\n",
        "    print(\"Start train Fold \", fold_idx)\n",
        "    student = keras.Sequential(\n",
        "    [\n",
        "        layers.Embedding(vocab_size+1, 300, input_length=MAX_SEQUENCE_LENGTH_student,trainable=True),\n",
        "        #layers.Embedding(len(embedding_matrix), EMBEDDING_DIM, weights=[embedding_matrix], input_length=MAX_SEQUENCE_LENGTH_student,trainable=True),\n",
        "        layers.Bidirectional(LSTM(units=16,batch_input_shape=(None,TIME_STEPS, INPUT_SIZE),return_sequences=True)),\n",
        "        layers.Dropout(0.2),\n",
        "        layers.Flatten(),\n",
        "        layers.Dense(128),\n",
        "        layers.Activation('relu'),\n",
        "        layers.Dropout(0.2),\n",
        "        layers.Dense(2),\n",
        "        layers.Activation('softmax'),\n",
        "    ],\n",
        "    name=\"student\",\n",
        "    )\n",
        "    student_scratch = keras.models.clone_model(student)\n",
        "    distiller = Distiller(student=student, teacher= model_teacher)\n",
        "    distiller.compile(\n",
        "          student_loss_fn= keras.losses.CategoricalCrossentropy(from_logits=True),\n",
        "          #student_loss_fn= keras.losses.BinaryCrossentropy(from_logits=True),\n",
        "          optimizer=keras.optimizers.Adam(learning_rate = 0.0001),\n",
        "          metrics=[\n",
        "                  \"categorical_accuracy\",\n",
        "                  \"AUC\",\n",
        "                  ], # , f1\n",
        "          distillation_loss_fn=keras.losses.KLDivergence(),\n",
        "          alpha=0.1,\n",
        "          temperature=10\n",
        "    )\n",
        "    history_KD = distiller.fit(X_train_student, Y_train_student, batch_size=16, validation_data =(X_test_student, Y_test_student), epochs=100, callbacks=[checkpoint],verbose=1)\n",
        "    result2 = distiller.evaluate(X_test_student, Y_test_student)#, validation_data=(X_test,Y_test), shuffle = True,callbacks=[checkpoint],verbose=1)\n",
        "    f = open(result_test, 'a+', encoding='UTF-8')\n",
        "    f.write(\"\\n KD_BiLSTM fold: \\n\")\n",
        "    f.write(str(fold_idx))\n",
        "    s = str(result2)\n",
        "    f.write(s)\n",
        "    f.close()\n",
        "\n",
        "\n",
        "    ypred = student.predict(X_test_student)\n",
        "    ypred =np.argmax(ypred,axis =1)\n",
        "\n",
        "    ytest_true = np.argmax(Y_test_student,axis =1)\n",
        "\n",
        "    result22 = confusion_matrix(ytest_true,ypred)\n",
        "    print(result22)\n",
        "    f = open(result_test, 'a+', encoding='UTF-8')\n",
        "    f.write(\"\\n Fold Confusion_matric: \\n \")\n",
        "    s = str(result22)\n",
        "    f.write(s)\n",
        "    f.close()\n",
        "    fold_idx = fold_idx +1"
      ],
      "metadata": {
        "id": "JjvLbtJWtx-m",
        "colab": {
          "base_uri": "https://localhost:8080/"
        },
        "outputId": "4ada9662-92c7-4a81-d78d-23a793f7c267"
      },
      "execution_count": 10,
      "outputs": [
        {
          "output_type": "stream",
          "name": "stdout",
          "text": [
            "Start train Fold  1\n",
            "Epoch 1/100\n"
          ]
        },
        {
          "output_type": "stream",
          "name": "stderr",
          "text": [
            "/usr/local/lib/python3.10/dist-packages/keras/src/backend.py:5575: UserWarning: \"`categorical_crossentropy` received `from_logits=True`, but the `output` argument was produced by a Softmax activation and thus does not represent logits. Was this intended?\n",
            "  output, from_logits = _get_logits(\n"
          ]
        },
        {
          "output_type": "stream",
          "name": "stdout",
          "text": [
            "152/154 [============================>.] - ETA: 0s - categorical_accuracy: 0.6846 - auc: 0.7386 - student_loss: 0.6396 - distillation_loss: 0.0463"
          ]
        },
        {
          "output_type": "stream",
          "name": "stderr",
          "text": [
            "WARNING:tensorflow:Early stopping conditioned on metric `val_loss` which is not available. Available metrics are: categorical_accuracy,auc,student_loss,distillation_loss,val_categorical_accuracy,val_auc,val_student_loss\n"
          ]
        },
        {
          "output_type": "stream",
          "name": "stdout",
          "text": [
            "\b\b\b\b\b\b\b\b\b\b\b\b\b\b\b\b\b\b\b\b\b\b\b\b\b\b\b\b\b\b\b\b\b\b\b\b\b\b\b\b\b\b\b\b\b\b\b\b\b\b\b\b\b\b\b\b\b\b\b\b\b\b\b\b\b\b\b\b\b\b\b\b\b\b\b\b\b\b\b\b\b\b\b\b\b\b\b\b\b\b\b\b\b\b\b\b\b\b\b\b\b\b\b\b\b\b\b\b\b\b\b\b\b\b\b\b\b\b\b\b\b\b\b\b\b\b\b\b\b\b\b\b\b\b\b\b\b\b\b\b\b\b\b\b\b\b\r154/154 [==============================] - 10s 25ms/step - categorical_accuracy: 0.6830 - auc: 0.7362 - student_loss: 0.6384 - distillation_loss: 0.0459 - val_categorical_accuracy: 0.7488 - val_auc: 0.8201 - val_student_loss: 0.8870\n",
            "Epoch 2/100\n",
            "152/154 [============================>.] - ETA: 0s - categorical_accuracy: 0.7755 - auc: 0.8351 - student_loss: 0.5101 - distillation_loss: 0.0266"
          ]
        },
        {
          "output_type": "stream",
          "name": "stderr",
          "text": [
            "WARNING:tensorflow:Early stopping conditioned on metric `val_loss` which is not available. Available metrics are: categorical_accuracy,auc,student_loss,distillation_loss,val_categorical_accuracy,val_auc,val_student_loss\n"
          ]
        },
        {
          "output_type": "stream",
          "name": "stdout",
          "text": [
            "\b\b\b\b\b\b\b\b\b\b\b\b\b\b\b\b\b\b\b\b\b\b\b\b\b\b\b\b\b\b\b\b\b\b\b\b\b\b\b\b\b\b\b\b\b\b\b\b\b\b\b\b\b\b\b\b\b\b\b\b\b\b\b\b\b\b\b\b\b\b\b\b\b\b\b\b\b\b\b\b\b\b\b\b\b\b\b\b\b\b\b\b\b\b\b\b\b\b\b\b\b\b\b\b\b\b\b\b\b\b\b\b\b\b\b\b\b\b\b\b\b\b\b\b\b\b\b\b\b\b\b\b\b\b\b\b\b\b\b\b\b\b\b\b\b\b\r154/154 [==============================] - 3s 20ms/step - categorical_accuracy: 0.7756 - auc: 0.8353 - student_loss: 0.5087 - distillation_loss: 0.0263 - val_categorical_accuracy: 0.7569 - val_auc: 0.8493 - val_student_loss: 0.8758\n",
            "Epoch 3/100\n",
            "152/154 [============================>.] - ETA: 0s - categorical_accuracy: 0.7903 - auc: 0.8574 - student_loss: 0.4750 - distillation_loss: 0.0243"
          ]
        },
        {
          "output_type": "stream",
          "name": "stderr",
          "text": [
            "WARNING:tensorflow:Early stopping conditioned on metric `val_loss` which is not available. Available metrics are: categorical_accuracy,auc,student_loss,distillation_loss,val_categorical_accuracy,val_auc,val_student_loss\n"
          ]
        },
        {
          "output_type": "stream",
          "name": "stdout",
          "text": [
            "\b\b\b\b\b\b\b\b\b\b\b\b\b\b\b\b\b\b\b\b\b\b\b\b\b\b\b\b\b\b\b\b\b\b\b\b\b\b\b\b\b\b\b\b\b\b\b\b\b\b\b\b\b\b\b\b\b\b\b\b\b\b\b\b\b\b\b\b\b\b\b\b\b\b\b\b\b\b\b\b\b\b\b\b\b\b\b\b\b\b\b\b\b\b\b\b\b\b\b\b\b\b\b\b\b\b\b\b\b\b\b\b\b\b\b\b\b\b\b\b\b\b\b\b\b\b\b\b\b\b\b\b\b\b\b\b\b\b\b\b\b\b\b\b\b\b\r154/154 [==============================] - 3s 19ms/step - categorical_accuracy: 0.7899 - auc: 0.8565 - student_loss: 0.4792 - distillation_loss: 0.0243 - val_categorical_accuracy: 0.7781 - val_auc: 0.8632 - val_student_loss: 0.8108\n",
            "Epoch 4/100\n",
            "153/154 [============================>.] - ETA: 0s - categorical_accuracy: 0.7974 - auc: 0.8719 - student_loss: 0.4544 - distillation_loss: 0.0228"
          ]
        },
        {
          "output_type": "stream",
          "name": "stderr",
          "text": [
            "WARNING:tensorflow:Early stopping conditioned on metric `val_loss` which is not available. Available metrics are: categorical_accuracy,auc,student_loss,distillation_loss,val_categorical_accuracy,val_auc,val_student_loss\n"
          ]
        },
        {
          "output_type": "stream",
          "name": "stdout",
          "text": [
            "\b\b\b\b\b\b\b\b\b\b\b\b\b\b\b\b\b\b\b\b\b\b\b\b\b\b\b\b\b\b\b\b\b\b\b\b\b\b\b\b\b\b\b\b\b\b\b\b\b\b\b\b\b\b\b\b\b\b\b\b\b\b\b\b\b\b\b\b\b\b\b\b\b\b\b\b\b\b\b\b\b\b\b\b\b\b\b\b\b\b\b\b\b\b\b\b\b\b\b\b\b\b\b\b\b\b\b\b\b\b\b\b\b\b\b\b\b\b\b\b\b\b\b\b\b\b\b\b\b\b\b\b\b\b\b\b\b\b\b\b\b\b\b\b\b\b\r154/154 [==============================] - 3s 19ms/step - categorical_accuracy: 0.7976 - auc: 0.8720 - student_loss: 0.4538 - distillation_loss: 0.0226 - val_categorical_accuracy: 0.7961 - val_auc: 0.8742 - val_student_loss: 0.7193\n",
            "Epoch 5/100\n",
            "152/154 [============================>.] - ETA: 0s - categorical_accuracy: 0.8109 - auc: 0.8868 - student_loss: 0.4306 - distillation_loss: 0.0202"
          ]
        },
        {
          "output_type": "stream",
          "name": "stderr",
          "text": [
            "WARNING:tensorflow:Early stopping conditioned on metric `val_loss` which is not available. Available metrics are: categorical_accuracy,auc,student_loss,distillation_loss,val_categorical_accuracy,val_auc,val_student_loss\n"
          ]
        },
        {
          "output_type": "stream",
          "name": "stdout",
          "text": [
            "\b\b\b\b\b\b\b\b\b\b\b\b\b\b\b\b\b\b\b\b\b\b\b\b\b\b\b\b\b\b\b\b\b\b\b\b\b\b\b\b\b\b\b\b\b\b\b\b\b\b\b\b\b\b\b\b\b\b\b\b\b\b\b\b\b\b\b\b\b\b\b\b\b\b\b\b\b\b\b\b\b\b\b\b\b\b\b\b\b\b\b\b\b\b\b\b\b\b\b\b\b\b\b\b\b\b\b\b\b\b\b\b\b\b\b\b\b\b\b\b\b\b\b\b\b\b\b\b\b\b\b\b\b\b\b\b\b\b\b\b\b\b\b\b\b\b\r154/154 [==============================] - 3s 20ms/step - categorical_accuracy: 0.8103 - auc: 0.8868 - student_loss: 0.4333 - distillation_loss: 0.0209 - val_categorical_accuracy: 0.8042 - val_auc: 0.8841 - val_student_loss: 0.5942\n",
            "Epoch 6/100\n",
            "152/154 [============================>.] - ETA: 0s - categorical_accuracy: 0.8191 - auc: 0.9042 - student_loss: 0.4036 - distillation_loss: 0.0175"
          ]
        },
        {
          "output_type": "stream",
          "name": "stderr",
          "text": [
            "WARNING:tensorflow:Early stopping conditioned on metric `val_loss` which is not available. Available metrics are: categorical_accuracy,auc,student_loss,distillation_loss,val_categorical_accuracy,val_auc,val_student_loss\n"
          ]
        },
        {
          "output_type": "stream",
          "name": "stdout",
          "text": [
            "\b\b\b\b\b\b\b\b\b\b\b\b\b\b\b\b\b\b\b\b\b\b\b\b\b\b\b\b\b\b\b\b\b\b\b\b\b\b\b\b\b\b\b\b\b\b\b\b\b\b\b\b\b\b\b\b\b\b\b\b\b\b\b\b\b\b\b\b\b\b\b\b\b\b\b\b\b\b\b\b\b\b\b\b\b\b\b\b\b\b\b\b\b\b\b\b\b\b\b\b\b\b\b\b\b\b\b\b\b\b\b\b\b\b\b\b\b\b\b\b\b\b\b\b\b\b\b\b\b\b\b\b\b\b\b\b\b\b\b\b\b\b\b\b\b\b\r154/154 [==============================] - 3s 20ms/step - categorical_accuracy: 0.8193 - auc: 0.9041 - student_loss: 0.4064 - distillation_loss: 0.0173 - val_categorical_accuracy: 0.8157 - val_auc: 0.8943 - val_student_loss: 0.4583\n",
            "Epoch 7/100\n",
            "153/154 [============================>.] - ETA: 0s - categorical_accuracy: 0.8358 - auc: 0.9132 - student_loss: 0.3838 - distillation_loss: 0.0157"
          ]
        },
        {
          "output_type": "stream",
          "name": "stderr",
          "text": [
            "WARNING:tensorflow:Early stopping conditioned on metric `val_loss` which is not available. Available metrics are: categorical_accuracy,auc,student_loss,distillation_loss,val_categorical_accuracy,val_auc,val_student_loss\n"
          ]
        },
        {
          "output_type": "stream",
          "name": "stdout",
          "text": [
            "\b\b\b\b\b\b\b\b\b\b\b\b\b\b\b\b\b\b\b\b\b\b\b\b\b\b\b\b\b\b\b\b\b\b\b\b\b\b\b\b\b\b\b\b\b\b\b\b\b\b\b\b\b\b\b\b\b\b\b\b\b\b\b\b\b\b\b\b\b\b\b\b\b\b\b\b\b\b\b\b\b\b\b\b\b\b\b\b\b\b\b\b\b\b\b\b\b\b\b\b\b\b\b\b\b\b\b\b\b\b\b\b\b\b\b\b\b\b\b\b\b\b\b\b\b\b\b\b\b\b\b\b\b\b\b\b\b\b\b\b\b\b\b\b\b\b\r154/154 [==============================] - 3s 19ms/step - categorical_accuracy: 0.8356 - auc: 0.9131 - student_loss: 0.3855 - distillation_loss: 0.0158 - val_categorical_accuracy: 0.8385 - val_auc: 0.9027 - val_student_loss: 0.4049\n",
            "Epoch 8/100\n",
            "154/154 [==============================] - ETA: 0s - categorical_accuracy: 0.8392 - auc: 0.9194 - student_loss: 0.3684 - distillation_loss: 0.0139"
          ]
        },
        {
          "output_type": "stream",
          "name": "stderr",
          "text": [
            "WARNING:tensorflow:Early stopping conditioned on metric `val_loss` which is not available. Available metrics are: categorical_accuracy,auc,student_loss,distillation_loss,val_categorical_accuracy,val_auc,val_student_loss\n"
          ]
        },
        {
          "output_type": "stream",
          "name": "stdout",
          "text": [
            "\b\b\b\b\b\b\b\b\b\b\b\b\b\b\b\b\b\b\b\b\b\b\b\b\b\b\b\b\b\b\b\b\b\b\b\b\b\b\b\b\b\b\b\b\b\b\b\b\b\b\b\b\b\b\b\b\b\b\b\b\b\b\b\b\b\b\b\b\b\b\b\b\b\b\b\b\b\b\b\b\b\b\b\b\b\b\b\b\b\b\b\b\b\b\b\b\b\b\b\b\b\b\b\b\b\b\b\b\b\b\b\b\b\b\b\b\b\b\b\b\b\b\b\b\b\b\b\b\b\b\b\b\b\b\b\b\b\b\b\b\b\b\b\b\b\b\r154/154 [==============================] - 3s 19ms/step - categorical_accuracy: 0.8392 - auc: 0.9194 - student_loss: 0.3673 - distillation_loss: 0.0138 - val_categorical_accuracy: 0.8336 - val_auc: 0.9047 - val_student_loss: 0.4239\n",
            "Epoch 9/100\n",
            "151/154 [============================>.] - ETA: 0s - categorical_accuracy: 0.8506 - auc: 0.9242 - student_loss: 0.3565 - distillation_loss: 0.0136"
          ]
        },
        {
          "output_type": "stream",
          "name": "stderr",
          "text": [
            "WARNING:tensorflow:Early stopping conditioned on metric `val_loss` which is not available. Available metrics are: categorical_accuracy,auc,student_loss,distillation_loss,val_categorical_accuracy,val_auc,val_student_loss\n"
          ]
        },
        {
          "output_type": "stream",
          "name": "stdout",
          "text": [
            "\b\b\b\b\b\b\b\b\b\b\b\b\b\b\b\b\b\b\b\b\b\b\b\b\b\b\b\b\b\b\b\b\b\b\b\b\b\b\b\b\b\b\b\b\b\b\b\b\b\b\b\b\b\b\b\b\b\b\b\b\b\b\b\b\b\b\b\b\b\b\b\b\b\b\b\b\b\b\b\b\b\b\b\b\b\b\b\b\b\b\b\b\b\b\b\b\b\b\b\b\b\b\b\b\b\b\b\b\b\b\b\b\b\b\b\b\b\b\b\b\b\b\b\b\b\b\b\b\b\b\b\b\b\b\b\b\b\b\b\b\b\b\b\b\b\b\r154/154 [==============================] - 3s 19ms/step - categorical_accuracy: 0.8511 - auc: 0.9245 - student_loss: 0.3547 - distillation_loss: 0.0136 - val_categorical_accuracy: 0.8385 - val_auc: 0.9052 - val_student_loss: 0.4538\n",
            "Epoch 10/100\n",
            "154/154 [==============================] - ETA: 0s - categorical_accuracy: 0.8507 - auc: 0.9258 - student_loss: 0.3500 - distillation_loss: 0.0130"
          ]
        },
        {
          "output_type": "stream",
          "name": "stderr",
          "text": [
            "WARNING:tensorflow:Early stopping conditioned on metric `val_loss` which is not available. Available metrics are: categorical_accuracy,auc,student_loss,distillation_loss,val_categorical_accuracy,val_auc,val_student_loss\n"
          ]
        },
        {
          "output_type": "stream",
          "name": "stdout",
          "text": [
            "\b\b\b\b\b\b\b\b\b\b\b\b\b\b\b\b\b\b\b\b\b\b\b\b\b\b\b\b\b\b\b\b\b\b\b\b\b\b\b\b\b\b\b\b\b\b\b\b\b\b\b\b\b\b\b\b\b\b\b\b\b\b\b\b\b\b\b\b\b\b\b\b\b\b\b\b\b\b\b\b\b\b\b\b\b\b\b\b\b\b\b\b\b\b\b\b\b\b\b\b\b\b\b\b\b\b\b\b\b\b\b\b\b\b\b\b\b\b\b\b\b\b\b\b\b\b\b\b\b\b\b\b\b\b\b\b\b\b\b\b\b\b\b\b\b\b\r154/154 [==============================] - 3s 20ms/step - categorical_accuracy: 0.8507 - auc: 0.9258 - student_loss: 0.3493 - distillation_loss: 0.0130 - val_categorical_accuracy: 0.8434 - val_auc: 0.9143 - val_student_loss: 0.3204\n",
            "Epoch 11/100\n",
            "151/154 [============================>.] - ETA: 0s - categorical_accuracy: 0.8568 - auc: 0.9304 - student_loss: 0.3416 - distillation_loss: 0.0129"
          ]
        },
        {
          "output_type": "stream",
          "name": "stderr",
          "text": [
            "WARNING:tensorflow:Early stopping conditioned on metric `val_loss` which is not available. Available metrics are: categorical_accuracy,auc,student_loss,distillation_loss,val_categorical_accuracy,val_auc,val_student_loss\n"
          ]
        },
        {
          "output_type": "stream",
          "name": "stdout",
          "text": [
            "\b\b\b\b\b\b\b\b\b\b\b\b\b\b\b\b\b\b\b\b\b\b\b\b\b\b\b\b\b\b\b\b\b\b\b\b\b\b\b\b\b\b\b\b\b\b\b\b\b\b\b\b\b\b\b\b\b\b\b\b\b\b\b\b\b\b\b\b\b\b\b\b\b\b\b\b\b\b\b\b\b\b\b\b\b\b\b\b\b\b\b\b\b\b\b\b\b\b\b\b\b\b\b\b\b\b\b\b\b\b\b\b\b\b\b\b\b\b\b\b\b\b\b\b\b\b\b\b\b\b\b\b\b\b\b\b\b\b\b\b\b\b\b\b\b\b\r154/154 [==============================] - 3s 19ms/step - categorical_accuracy: 0.8560 - auc: 0.9302 - student_loss: 0.3519 - distillation_loss: 0.0130 - val_categorical_accuracy: 0.8483 - val_auc: 0.9151 - val_student_loss: 0.3617\n",
            "Epoch 12/100\n",
            "152/154 [============================>.] - ETA: 0s - categorical_accuracy: 0.8561 - auc: 0.9303 - student_loss: 0.3410 - distillation_loss: 0.0126"
          ]
        },
        {
          "output_type": "stream",
          "name": "stderr",
          "text": [
            "WARNING:tensorflow:Early stopping conditioned on metric `val_loss` which is not available. Available metrics are: categorical_accuracy,auc,student_loss,distillation_loss,val_categorical_accuracy,val_auc,val_student_loss\n"
          ]
        },
        {
          "output_type": "stream",
          "name": "stdout",
          "text": [
            "\b\b\b\b\b\b\b\b\b\b\b\b\b\b\b\b\b\b\b\b\b\b\b\b\b\b\b\b\b\b\b\b\b\b\b\b\b\b\b\b\b\b\b\b\b\b\b\b\b\b\b\b\b\b\b\b\b\b\b\b\b\b\b\b\b\b\b\b\b\b\b\b\b\b\b\b\b\b\b\b\b\b\b\b\b\b\b\b\b\b\b\b\b\b\b\b\b\b\b\b\b\b\b\b\b\b\b\b\b\b\b\b\b\b\b\b\b\b\b\b\b\b\b\b\b\b\b\b\b\b\b\b\b\b\b\b\b\b\b\b\b\b\b\b\b\b\r154/154 [==============================] - 3s 19ms/step - categorical_accuracy: 0.8552 - auc: 0.9302 - student_loss: 0.3396 - distillation_loss: 0.0125 - val_categorical_accuracy: 0.8450 - val_auc: 0.9145 - val_student_loss: 0.3704\n",
            "Epoch 13/100\n",
            "153/154 [============================>.] - ETA: 0s - categorical_accuracy: 0.8603 - auc: 0.9323 - student_loss: 0.3357 - distillation_loss: 0.0125"
          ]
        },
        {
          "output_type": "stream",
          "name": "stderr",
          "text": [
            "WARNING:tensorflow:Early stopping conditioned on metric `val_loss` which is not available. Available metrics are: categorical_accuracy,auc,student_loss,distillation_loss,val_categorical_accuracy,val_auc,val_student_loss\n"
          ]
        },
        {
          "output_type": "stream",
          "name": "stdout",
          "text": [
            "\b\b\b\b\b\b\b\b\b\b\b\b\b\b\b\b\b\b\b\b\b\b\b\b\b\b\b\b\b\b\b\b\b\b\b\b\b\b\b\b\b\b\b\b\b\b\b\b\b\b\b\b\b\b\b\b\b\b\b\b\b\b\b\b\b\b\b\b\b\b\b\b\b\b\b\b\b\b\b\b\b\b\b\b\b\b\b\b\b\b\b\b\b\b\b\b\b\b\b\b\b\b\b\b\b\b\b\b\b\b\b\b\b\b\b\b\b\b\b\b\b\b\b\b\b\b\b\b\b\b\b\b\b\b\b\b\b\b\b\b\b\b\b\b\b\b\r154/154 [==============================] - 3s 19ms/step - categorical_accuracy: 0.8601 - auc: 0.9317 - student_loss: 0.3495 - distillation_loss: 0.0124 - val_categorical_accuracy: 0.8515 - val_auc: 0.9149 - val_student_loss: 0.3661\n",
            "Epoch 14/100\n",
            "153/154 [============================>.] - ETA: 0s - categorical_accuracy: 0.8574 - auc: 0.9360 - student_loss: 0.3283 - distillation_loss: 0.0122"
          ]
        },
        {
          "output_type": "stream",
          "name": "stderr",
          "text": [
            "WARNING:tensorflow:Early stopping conditioned on metric `val_loss` which is not available. Available metrics are: categorical_accuracy,auc,student_loss,distillation_loss,val_categorical_accuracy,val_auc,val_student_loss\n"
          ]
        },
        {
          "output_type": "stream",
          "name": "stdout",
          "text": [
            "\b\b\b\b\b\b\b\b\b\b\b\b\b\b\b\b\b\b\b\b\b\b\b\b\b\b\b\b\b\b\b\b\b\b\b\b\b\b\b\b\b\b\b\b\b\b\b\b\b\b\b\b\b\b\b\b\b\b\b\b\b\b\b\b\b\b\b\b\b\b\b\b\b\b\b\b\b\b\b\b\b\b\b\b\b\b\b\b\b\b\b\b\b\b\b\b\b\b\b\b\b\b\b\b\b\b\b\b\b\b\b\b\b\b\b\b\b\b\b\b\b\b\b\b\b\b\b\b\b\b\b\b\b\b\b\b\b\b\b\b\b\b\b\b\b\b\r154/154 [==============================] - 3s 20ms/step - categorical_accuracy: 0.8576 - auc: 0.9361 - student_loss: 0.3254 - distillation_loss: 0.0121 - val_categorical_accuracy: 0.8467 - val_auc: 0.9166 - val_student_loss: 0.3898\n",
            "Epoch 15/100\n",
            "151/154 [============================>.] - ETA: 0s - categorical_accuracy: 0.8638 - auc: 0.9364 - student_loss: 0.3263 - distillation_loss: 0.0123"
          ]
        },
        {
          "output_type": "stream",
          "name": "stderr",
          "text": [
            "WARNING:tensorflow:Early stopping conditioned on metric `val_loss` which is not available. Available metrics are: categorical_accuracy,auc,student_loss,distillation_loss,val_categorical_accuracy,val_auc,val_student_loss\n"
          ]
        },
        {
          "output_type": "stream",
          "name": "stdout",
          "text": [
            "\b\b\b\b\b\b\b\b\b\b\b\b\b\b\b\b\b\b\b\b\b\b\b\b\b\b\b\b\b\b\b\b\b\b\b\b\b\b\b\b\b\b\b\b\b\b\b\b\b\b\b\b\b\b\b\b\b\b\b\b\b\b\b\b\b\b\b\b\b\b\b\b\b\b\b\b\b\b\b\b\b\b\b\b\b\b\b\b\b\b\b\b\b\b\b\b\b\b\b\b\b\b\b\b\b\b\b\b\b\b\b\b\b\b\b\b\b\b\b\b\b\b\b\b\b\b\b\b\b\b\b\b\b\b\b\b\b\b\b\b\b\b\b\b\b\b\r154/154 [==============================] - 3s 19ms/step - categorical_accuracy: 0.8629 - auc: 0.9361 - student_loss: 0.3249 - distillation_loss: 0.0123 - val_categorical_accuracy: 0.8483 - val_auc: 0.9134 - val_student_loss: 0.3770\n",
            "Epoch 16/100\n",
            "152/154 [============================>.] - ETA: 0s - categorical_accuracy: 0.8738 - auc: 0.9384 - student_loss: 0.3213 - distillation_loss: 0.0120"
          ]
        },
        {
          "output_type": "stream",
          "name": "stderr",
          "text": [
            "WARNING:tensorflow:Early stopping conditioned on metric `val_loss` which is not available. Available metrics are: categorical_accuracy,auc,student_loss,distillation_loss,val_categorical_accuracy,val_auc,val_student_loss\n"
          ]
        },
        {
          "output_type": "stream",
          "name": "stdout",
          "text": [
            "\b\b\b\b\b\b\b\b\b\b\b\b\b\b\b\b\b\b\b\b\b\b\b\b\b\b\b\b\b\b\b\b\b\b\b\b\b\b\b\b\b\b\b\b\b\b\b\b\b\b\b\b\b\b\b\b\b\b\b\b\b\b\b\b\b\b\b\b\b\b\b\b\b\b\b\b\b\b\b\b\b\b\b\b\b\b\b\b\b\b\b\b\b\b\b\b\b\b\b\b\b\b\b\b\b\b\b\b\b\b\b\b\b\b\b\b\b\b\b\b\b\b\b\b\b\b\b\b\b\b\b\b\b\b\b\b\b\b\b\b\b\b\b\b\b\b\r154/154 [==============================] - 3s 19ms/step - categorical_accuracy: 0.8723 - auc: 0.9377 - student_loss: 0.3217 - distillation_loss: 0.0118 - val_categorical_accuracy: 0.8564 - val_auc: 0.9196 - val_student_loss: 0.2905\n",
            "Epoch 17/100\n",
            "152/154 [============================>.] - ETA: 0s - categorical_accuracy: 0.8610 - auc: 0.9377 - student_loss: 0.3223 - distillation_loss: 0.0121"
          ]
        },
        {
          "output_type": "stream",
          "name": "stderr",
          "text": [
            "WARNING:tensorflow:Early stopping conditioned on metric `val_loss` which is not available. Available metrics are: categorical_accuracy,auc,student_loss,distillation_loss,val_categorical_accuracy,val_auc,val_student_loss\n"
          ]
        },
        {
          "output_type": "stream",
          "name": "stdout",
          "text": [
            "\b\b\b\b\b\b\b\b\b\b\b\b\b\b\b\b\b\b\b\b\b\b\b\b\b\b\b\b\b\b\b\b\b\b\b\b\b\b\b\b\b\b\b\b\b\b\b\b\b\b\b\b\b\b\b\b\b\b\b\b\b\b\b\b\b\b\b\b\b\b\b\b\b\b\b\b\b\b\b\b\b\b\b\b\b\b\b\b\b\b\b\b\b\b\b\b\b\b\b\b\b\b\b\b\b\b\b\b\b\b\b\b\b\b\b\b\b\b\b\b\b\b\b\b\b\b\b\b\b\b\b\b\b\b\b\b\b\b\b\b\b\b\b\b\b\b\r154/154 [==============================] - 3s 20ms/step - categorical_accuracy: 0.8617 - auc: 0.9380 - student_loss: 0.3203 - distillation_loss: 0.0119 - val_categorical_accuracy: 0.8548 - val_auc: 0.9166 - val_student_loss: 0.3371\n",
            "Epoch 18/100\n",
            "153/154 [============================>.] - ETA: 0s - categorical_accuracy: 0.8615 - auc: 0.9385 - student_loss: 0.3218 - distillation_loss: 0.0118"
          ]
        },
        {
          "output_type": "stream",
          "name": "stderr",
          "text": [
            "WARNING:tensorflow:Early stopping conditioned on metric `val_loss` which is not available. Available metrics are: categorical_accuracy,auc,student_loss,distillation_loss,val_categorical_accuracy,val_auc,val_student_loss\n"
          ]
        },
        {
          "output_type": "stream",
          "name": "stdout",
          "text": [
            "\b\b\b\b\b\b\b\b\b\b\b\b\b\b\b\b\b\b\b\b\b\b\b\b\b\b\b\b\b\b\b\b\b\b\b\b\b\b\b\b\b\b\b\b\b\b\b\b\b\b\b\b\b\b\b\b\b\b\b\b\b\b\b\b\b\b\b\b\b\b\b\b\b\b\b\b\b\b\b\b\b\b\b\b\b\b\b\b\b\b\b\b\b\b\b\b\b\b\b\b\b\b\b\b\b\b\b\b\b\b\b\b\b\b\b\b\b\b\b\b\b\b\b\b\b\b\b\b\b\b\b\b\b\b\b\b\b\b\b\b\b\b\b\b\b\b\r154/154 [==============================] - 3s 19ms/step - categorical_accuracy: 0.8613 - auc: 0.9385 - student_loss: 0.3220 - distillation_loss: 0.0118 - val_categorical_accuracy: 0.8646 - val_auc: 0.9224 - val_student_loss: 0.3242\n",
            "Epoch 19/100\n",
            "152/154 [============================>.] - ETA: 0s - categorical_accuracy: 0.8647 - auc: 0.9398 - student_loss: 0.3185 - distillation_loss: 0.0118"
          ]
        },
        {
          "output_type": "stream",
          "name": "stderr",
          "text": [
            "WARNING:tensorflow:Early stopping conditioned on metric `val_loss` which is not available. Available metrics are: categorical_accuracy,auc,student_loss,distillation_loss,val_categorical_accuracy,val_auc,val_student_loss\n"
          ]
        },
        {
          "output_type": "stream",
          "name": "stdout",
          "text": [
            "\b\b\b\b\b\b\b\b\b\b\b\b\b\b\b\b\b\b\b\b\b\b\b\b\b\b\b\b\b\b\b\b\b\b\b\b\b\b\b\b\b\b\b\b\b\b\b\b\b\b\b\b\b\b\b\b\b\b\b\b\b\b\b\b\b\b\b\b\b\b\b\b\b\b\b\b\b\b\b\b\b\b\b\b\b\b\b\b\b\b\b\b\b\b\b\b\b\b\b\b\b\b\b\b\b\b\b\b\b\b\b\b\b\b\b\b\b\b\b\b\b\b\b\b\b\b\b\b\b\b\b\b\b\b\b\b\b\b\b\b\b\b\b\b\b\b\r154/154 [==============================] - 3s 20ms/step - categorical_accuracy: 0.8650 - auc: 0.9400 - student_loss: 0.3169 - distillation_loss: 0.0117 - val_categorical_accuracy: 0.8597 - val_auc: 0.9192 - val_student_loss: 0.3566\n",
            "Epoch 20/100\n",
            "152/154 [============================>.] - ETA: 0s - categorical_accuracy: 0.8721 - auc: 0.9428 - student_loss: 0.3114 - distillation_loss: 0.0111"
          ]
        },
        {
          "output_type": "stream",
          "name": "stderr",
          "text": [
            "WARNING:tensorflow:Early stopping conditioned on metric `val_loss` which is not available. Available metrics are: categorical_accuracy,auc,student_loss,distillation_loss,val_categorical_accuracy,val_auc,val_student_loss\n"
          ]
        },
        {
          "output_type": "stream",
          "name": "stdout",
          "text": [
            "\b\b\b\b\b\b\b\b\b\b\b\b\b\b\b\b\b\b\b\b\b\b\b\b\b\b\b\b\b\b\b\b\b\b\b\b\b\b\b\b\b\b\b\b\b\b\b\b\b\b\b\b\b\b\b\b\b\b\b\b\b\b\b\b\b\b\b\b\b\b\b\b\b\b\b\b\b\b\b\b\b\b\b\b\b\b\b\b\b\b\b\b\b\b\b\b\b\b\b\b\b\b\b\b\b\b\b\b\b\b\b\b\b\b\b\b\b\b\b\b\b\b\b\b\b\b\b\b\b\b\b\b\b\b\b\b\b\b\b\b\b\b\b\b\b\b\r154/154 [==============================] - 3s 18ms/step - categorical_accuracy: 0.8723 - auc: 0.9429 - student_loss: 0.3182 - distillation_loss: 0.0111 - val_categorical_accuracy: 0.8630 - val_auc: 0.9216 - val_student_loss: 0.3408\n",
            "Epoch 21/100\n",
            "152/154 [============================>.] - ETA: 0s - categorical_accuracy: 0.8701 - auc: 0.9421 - student_loss: 0.3138 - distillation_loss: 0.0112"
          ]
        },
        {
          "output_type": "stream",
          "name": "stderr",
          "text": [
            "WARNING:tensorflow:Early stopping conditioned on metric `val_loss` which is not available. Available metrics are: categorical_accuracy,auc,student_loss,distillation_loss,val_categorical_accuracy,val_auc,val_student_loss\n"
          ]
        },
        {
          "output_type": "stream",
          "name": "stdout",
          "text": [
            "\b\b\b\b\b\b\b\b\b\b\b\b\b\b\b\b\b\b\b\b\b\b\b\b\b\b\b\b\b\b\b\b\b\b\b\b\b\b\b\b\b\b\b\b\b\b\b\b\b\b\b\b\b\b\b\b\b\b\b\b\b\b\b\b\b\b\b\b\b\b\b\b\b\b\b\b\b\b\b\b\b\b\b\b\b\b\b\b\b\b\b\b\b\b\b\b\b\b\b\b\b\b\b\b\b\b\b\b\b\b\b\b\b\b\b\b\b\b\b\b\b\b\b\b\b\b\b\b\b\b\b\b\b\b\b\b\b\b\b\b\b\b\b\b\b\b\r154/154 [==============================] - 3s 19ms/step - categorical_accuracy: 0.8694 - auc: 0.9419 - student_loss: 0.3156 - distillation_loss: 0.0112 - val_categorical_accuracy: 0.8564 - val_auc: 0.9247 - val_student_loss: 0.2527\n",
            "Epoch 22/100\n",
            "152/154 [============================>.] - ETA: 0s - categorical_accuracy: 0.8672 - auc: 0.9435 - student_loss: 0.3101 - distillation_loss: 0.0115"
          ]
        },
        {
          "output_type": "stream",
          "name": "stderr",
          "text": [
            "WARNING:tensorflow:Early stopping conditioned on metric `val_loss` which is not available. Available metrics are: categorical_accuracy,auc,student_loss,distillation_loss,val_categorical_accuracy,val_auc,val_student_loss\n"
          ]
        },
        {
          "output_type": "stream",
          "name": "stdout",
          "text": [
            "\b\b\b\b\b\b\b\b\b\b\b\b\b\b\b\b\b\b\b\b\b\b\b\b\b\b\b\b\b\b\b\b\b\b\b\b\b\b\b\b\b\b\b\b\b\b\b\b\b\b\b\b\b\b\b\b\b\b\b\b\b\b\b\b\b\b\b\b\b\b\b\b\b\b\b\b\b\b\b\b\b\b\b\b\b\b\b\b\b\b\b\b\b\b\b\b\b\b\b\b\b\b\b\b\b\b\b\b\b\b\b\b\b\b\b\b\b\b\b\b\b\b\b\b\b\b\b\b\b\b\b\b\b\b\b\b\b\b\b\b\b\b\b\b\b\b\r154/154 [==============================] - 3s 19ms/step - categorical_accuracy: 0.8682 - auc: 0.9442 - student_loss: 0.3069 - distillation_loss: 0.0114 - val_categorical_accuracy: 0.8564 - val_auc: 0.9221 - val_student_loss: 0.3276\n",
            "Epoch 23/100\n",
            "154/154 [==============================] - ETA: 0s - categorical_accuracy: 0.8694 - auc: 0.9440 - student_loss: 0.3072 - distillation_loss: 0.0110"
          ]
        },
        {
          "output_type": "stream",
          "name": "stderr",
          "text": [
            "WARNING:tensorflow:Early stopping conditioned on metric `val_loss` which is not available. Available metrics are: categorical_accuracy,auc,student_loss,distillation_loss,val_categorical_accuracy,val_auc,val_student_loss\n"
          ]
        },
        {
          "output_type": "stream",
          "name": "stdout",
          "text": [
            "\b\b\b\b\b\b\b\b\b\b\b\b\b\b\b\b\b\b\b\b\b\b\b\b\b\b\b\b\b\b\b\b\b\b\b\b\b\b\b\b\b\b\b\b\b\b\b\b\b\b\b\b\b\b\b\b\b\b\b\b\b\b\b\b\b\b\b\b\b\b\b\b\b\b\b\b\b\b\b\b\b\b\b\b\b\b\b\b\b\b\b\b\b\b\b\b\b\b\b\b\b\b\b\b\b\b\b\b\b\b\b\b\b\b\b\b\b\b\b\b\b\b\b\b\b\b\b\b\b\b\b\b\b\b\b\b\b\b\b\b\b\b\b\b\b\b\r154/154 [==============================] - 3s 21ms/step - categorical_accuracy: 0.8694 - auc: 0.9440 - student_loss: 0.3069 - distillation_loss: 0.0110 - val_categorical_accuracy: 0.8515 - val_auc: 0.9238 - val_student_loss: 0.2478\n",
            "Epoch 24/100\n",
            "153/154 [============================>.] - ETA: 0s - categorical_accuracy: 0.8775 - auc: 0.9459 - student_loss: 0.3029 - distillation_loss: 0.0113"
          ]
        },
        {
          "output_type": "stream",
          "name": "stderr",
          "text": [
            "WARNING:tensorflow:Early stopping conditioned on metric `val_loss` which is not available. Available metrics are: categorical_accuracy,auc,student_loss,distillation_loss,val_categorical_accuracy,val_auc,val_student_loss\n"
          ]
        },
        {
          "output_type": "stream",
          "name": "stdout",
          "text": [
            "\b\b\b\b\b\b\b\b\b\b\b\b\b\b\b\b\b\b\b\b\b\b\b\b\b\b\b\b\b\b\b\b\b\b\b\b\b\b\b\b\b\b\b\b\b\b\b\b\b\b\b\b\b\b\b\b\b\b\b\b\b\b\b\b\b\b\b\b\b\b\b\b\b\b\b\b\b\b\b\b\b\b\b\b\b\b\b\b\b\b\b\b\b\b\b\b\b\b\b\b\b\b\b\b\b\b\b\b\b\b\b\b\b\b\b\b\b\b\b\b\b\b\b\b\b\b\b\b\b\b\b\b\b\b\b\b\b\b\b\b\b\b\b\b\b\b\r154/154 [==============================] - 3s 20ms/step - categorical_accuracy: 0.8776 - auc: 0.9460 - student_loss: 0.3002 - distillation_loss: 0.0113 - val_categorical_accuracy: 0.8581 - val_auc: 0.9244 - val_student_loss: 0.2613\n",
            "Epoch 25/100\n",
            "154/154 [==============================] - ETA: 0s - categorical_accuracy: 0.8739 - auc: 0.9463 - student_loss: 0.3027 - distillation_loss: 0.0108"
          ]
        },
        {
          "output_type": "stream",
          "name": "stderr",
          "text": [
            "WARNING:tensorflow:Early stopping conditioned on metric `val_loss` which is not available. Available metrics are: categorical_accuracy,auc,student_loss,distillation_loss,val_categorical_accuracy,val_auc,val_student_loss\n"
          ]
        },
        {
          "output_type": "stream",
          "name": "stdout",
          "text": [
            "\b\b\b\b\b\b\b\b\b\b\b\b\b\b\b\b\b\b\b\b\b\b\b\b\b\b\b\b\b\b\b\b\b\b\b\b\b\b\b\b\b\b\b\b\b\b\b\b\b\b\b\b\b\b\b\b\b\b\b\b\b\b\b\b\b\b\b\b\b\b\b\b\b\b\b\b\b\b\b\b\b\b\b\b\b\b\b\b\b\b\b\b\b\b\b\b\b\b\b\b\b\b\b\b\b\b\b\b\b\b\b\b\b\b\b\b\b\b\b\b\b\b\b\b\b\b\b\b\b\b\b\b\b\b\b\b\b\b\b\b\b\b\b\b\b\b\r154/154 [==============================] - 3s 20ms/step - categorical_accuracy: 0.8739 - auc: 0.9463 - student_loss: 0.3029 - distillation_loss: 0.0107 - val_categorical_accuracy: 0.8532 - val_auc: 0.9236 - val_student_loss: 0.2496\n",
            "Epoch 26/100\n",
            "154/154 [==============================] - ETA: 0s - categorical_accuracy: 0.8743 - auc: 0.9457 - student_loss: 0.3032 - distillation_loss: 0.0106"
          ]
        },
        {
          "output_type": "stream",
          "name": "stderr",
          "text": [
            "WARNING:tensorflow:Early stopping conditioned on metric `val_loss` which is not available. Available metrics are: categorical_accuracy,auc,student_loss,distillation_loss,val_categorical_accuracy,val_auc,val_student_loss\n"
          ]
        },
        {
          "output_type": "stream",
          "name": "stdout",
          "text": [
            "\b\b\b\b\b\b\b\b\b\b\b\b\b\b\b\b\b\b\b\b\b\b\b\b\b\b\b\b\b\b\b\b\b\b\b\b\b\b\b\b\b\b\b\b\b\b\b\b\b\b\b\b\b\b\b\b\b\b\b\b\b\b\b\b\b\b\b\b\b\b\b\b\b\b\b\b\b\b\b\b\b\b\b\b\b\b\b\b\b\b\b\b\b\b\b\b\b\b\b\b\b\b\b\b\b\b\b\b\b\b\b\b\b\b\b\b\b\b\b\b\b\b\b\b\b\b\b\b\b\b\b\b\b\b\b\b\b\b\b\b\b\b\b\b\b\b\r154/154 [==============================] - 3s 19ms/step - categorical_accuracy: 0.8743 - auc: 0.9457 - student_loss: 0.3012 - distillation_loss: 0.0106 - val_categorical_accuracy: 0.8613 - val_auc: 0.9223 - val_student_loss: 0.2713\n",
            "Epoch 27/100\n",
            "152/154 [============================>.] - ETA: 0s - categorical_accuracy: 0.8771 - auc: 0.9488 - student_loss: 0.2979 - distillation_loss: 0.0108"
          ]
        },
        {
          "output_type": "stream",
          "name": "stderr",
          "text": [
            "WARNING:tensorflow:Early stopping conditioned on metric `val_loss` which is not available. Available metrics are: categorical_accuracy,auc,student_loss,distillation_loss,val_categorical_accuracy,val_auc,val_student_loss\n"
          ]
        },
        {
          "output_type": "stream",
          "name": "stdout",
          "text": [
            "\b\b\b\b\b\b\b\b\b\b\b\b\b\b\b\b\b\b\b\b\b\b\b\b\b\b\b\b\b\b\b\b\b\b\b\b\b\b\b\b\b\b\b\b\b\b\b\b\b\b\b\b\b\b\b\b\b\b\b\b\b\b\b\b\b\b\b\b\b\b\b\b\b\b\b\b\b\b\b\b\b\b\b\b\b\b\b\b\b\b\b\b\b\b\b\b\b\b\b\b\b\b\b\b\b\b\b\b\b\b\b\b\b\b\b\b\b\b\b\b\b\b\b\b\b\b\b\b\b\b\b\b\b\b\b\b\b\b\b\b\b\b\b\b\b\b\r154/154 [==============================] - 3s 21ms/step - categorical_accuracy: 0.8772 - auc: 0.9490 - student_loss: 0.2956 - distillation_loss: 0.0106 - val_categorical_accuracy: 0.8613 - val_auc: 0.9252 - val_student_loss: 0.2310\n",
            "Epoch 28/100\n",
            "154/154 [==============================] - ETA: 0s - categorical_accuracy: 0.8772 - auc: 0.9487 - student_loss: 0.2947 - distillation_loss: 0.0109"
          ]
        },
        {
          "output_type": "stream",
          "name": "stderr",
          "text": [
            "WARNING:tensorflow:Early stopping conditioned on metric `val_loss` which is not available. Available metrics are: categorical_accuracy,auc,student_loss,distillation_loss,val_categorical_accuracy,val_auc,val_student_loss\n"
          ]
        },
        {
          "output_type": "stream",
          "name": "stdout",
          "text": [
            "\b\b\b\b\b\b\b\b\b\b\b\b\b\b\b\b\b\b\b\b\b\b\b\b\b\b\b\b\b\b\b\b\b\b\b\b\b\b\b\b\b\b\b\b\b\b\b\b\b\b\b\b\b\b\b\b\b\b\b\b\b\b\b\b\b\b\b\b\b\b\b\b\b\b\b\b\b\b\b\b\b\b\b\b\b\b\b\b\b\b\b\b\b\b\b\b\b\b\b\b\b\b\b\b\b\b\b\b\b\b\b\b\b\b\b\b\b\b\b\b\b\b\b\b\b\b\b\b\b\b\b\b\b\b\b\b\b\b\b\b\b\b\b\b\b\b\r154/154 [==============================] - 3s 19ms/step - categorical_accuracy: 0.8772 - auc: 0.9487 - student_loss: 0.2937 - distillation_loss: 0.0109 - val_categorical_accuracy: 0.8515 - val_auc: 0.9252 - val_student_loss: 0.2274\n",
            "Epoch 29/100\n",
            "151/154 [============================>.] - ETA: 0s - categorical_accuracy: 0.8796 - auc: 0.9485 - student_loss: 0.2978 - distillation_loss: 0.0105"
          ]
        },
        {
          "output_type": "stream",
          "name": "stderr",
          "text": [
            "WARNING:tensorflow:Early stopping conditioned on metric `val_loss` which is not available. Available metrics are: categorical_accuracy,auc,student_loss,distillation_loss,val_categorical_accuracy,val_auc,val_student_loss\n"
          ]
        },
        {
          "output_type": "stream",
          "name": "stdout",
          "text": [
            "\b\b\b\b\b\b\b\b\b\b\b\b\b\b\b\b\b\b\b\b\b\b\b\b\b\b\b\b\b\b\b\b\b\b\b\b\b\b\b\b\b\b\b\b\b\b\b\b\b\b\b\b\b\b\b\b\b\b\b\b\b\b\b\b\b\b\b\b\b\b\b\b\b\b\b\b\b\b\b\b\b\b\b\b\b\b\b\b\b\b\b\b\b\b\b\b\b\b\b\b\b\b\b\b\b\b\b\b\b\b\b\b\b\b\b\b\b\b\b\b\b\b\b\b\b\b\b\b\b\b\b\b\b\b\b\b\b\b\b\b\b\b\b\b\b\b\r154/154 [==============================] - 3s 20ms/step - categorical_accuracy: 0.8796 - auc: 0.9484 - student_loss: 0.2979 - distillation_loss: 0.0105 - val_categorical_accuracy: 0.8532 - val_auc: 0.9251 - val_student_loss: 0.2310\n",
            "Epoch 30/100\n",
            "151/154 [============================>.] - ETA: 0s - categorical_accuracy: 0.8837 - auc: 0.9496 - student_loss: 0.2940 - distillation_loss: 0.0109"
          ]
        },
        {
          "output_type": "stream",
          "name": "stderr",
          "text": [
            "WARNING:tensorflow:Early stopping conditioned on metric `val_loss` which is not available. Available metrics are: categorical_accuracy,auc,student_loss,distillation_loss,val_categorical_accuracy,val_auc,val_student_loss\n"
          ]
        },
        {
          "output_type": "stream",
          "name": "stdout",
          "text": [
            "\b\b\b\b\b\b\b\b\b\b\b\b\b\b\b\b\b\b\b\b\b\b\b\b\b\b\b\b\b\b\b\b\b\b\b\b\b\b\b\b\b\b\b\b\b\b\b\b\b\b\b\b\b\b\b\b\b\b\b\b\b\b\b\b\b\b\b\b\b\b\b\b\b\b\b\b\b\b\b\b\b\b\b\b\b\b\b\b\b\b\b\b\b\b\b\b\b\b\b\b\b\b\b\b\b\b\b\b\b\b\b\b\b\b\b\b\b\b\b\b\b\b\b\b\b\b\b\b\b\b\b\b\b\b\b\b\b\b\b\b\b\b\b\b\b\b\r154/154 [==============================] - 3s 19ms/step - categorical_accuracy: 0.8837 - auc: 0.9495 - student_loss: 0.2922 - distillation_loss: 0.0110 - val_categorical_accuracy: 0.8581 - val_auc: 0.9245 - val_student_loss: 0.2308\n",
            "Epoch 31/100\n",
            "153/154 [============================>.] - ETA: 0s - categorical_accuracy: 0.8807 - auc: 0.9503 - student_loss: 0.2929 - distillation_loss: 0.0106"
          ]
        },
        {
          "output_type": "stream",
          "name": "stderr",
          "text": [
            "WARNING:tensorflow:Early stopping conditioned on metric `val_loss` which is not available. Available metrics are: categorical_accuracy,auc,student_loss,distillation_loss,val_categorical_accuracy,val_auc,val_student_loss\n"
          ]
        },
        {
          "output_type": "stream",
          "name": "stdout",
          "text": [
            "\b\b\b\b\b\b\b\b\b\b\b\b\b\b\b\b\b\b\b\b\b\b\b\b\b\b\b\b\b\b\b\b\b\b\b\b\b\b\b\b\b\b\b\b\b\b\b\b\b\b\b\b\b\b\b\b\b\b\b\b\b\b\b\b\b\b\b\b\b\b\b\b\b\b\b\b\b\b\b\b\b\b\b\b\b\b\b\b\b\b\b\b\b\b\b\b\b\b\b\b\b\b\b\b\b\b\b\b\b\b\b\b\b\b\b\b\b\b\b\b\b\b\b\b\b\b\b\b\b\b\b\b\b\b\b\b\b\b\b\b\b\b\b\b\b\b\r154/154 [==============================] - 3s 19ms/step - categorical_accuracy: 0.8809 - auc: 0.9504 - student_loss: 0.2903 - distillation_loss: 0.0105 - val_categorical_accuracy: 0.8564 - val_auc: 0.9261 - val_student_loss: 0.2323\n",
            "Epoch 32/100\n",
            "153/154 [============================>.] - ETA: 0s - categorical_accuracy: 0.8795 - auc: 0.9490 - student_loss: 0.2956 - distillation_loss: 0.0105"
          ]
        },
        {
          "output_type": "stream",
          "name": "stderr",
          "text": [
            "WARNING:tensorflow:Early stopping conditioned on metric `val_loss` which is not available. Available metrics are: categorical_accuracy,auc,student_loss,distillation_loss,val_categorical_accuracy,val_auc,val_student_loss\n"
          ]
        },
        {
          "output_type": "stream",
          "name": "stdout",
          "text": [
            "\b\b\b\b\b\b\b\b\b\b\b\b\b\b\b\b\b\b\b\b\b\b\b\b\b\b\b\b\b\b\b\b\b\b\b\b\b\b\b\b\b\b\b\b\b\b\b\b\b\b\b\b\b\b\b\b\b\b\b\b\b\b\b\b\b\b\b\b\b\b\b\b\b\b\b\b\b\b\b\b\b\b\b\b\b\b\b\b\b\b\b\b\b\b\b\b\b\b\b\b\b\b\b\b\b\b\b\b\b\b\b\b\b\b\b\b\b\b\b\b\b\b\b\b\b\b\b\b\b\b\b\b\b\b\b\b\b\b\b\b\b\b\b\b\b\b\r154/154 [==============================] - 3s 20ms/step - categorical_accuracy: 0.8796 - auc: 0.9490 - student_loss: 0.2933 - distillation_loss: 0.0104 - val_categorical_accuracy: 0.8532 - val_auc: 0.9269 - val_student_loss: 0.1895\n",
            "Epoch 33/100\n",
            "152/154 [============================>.] - ETA: 0s - categorical_accuracy: 0.8882 - auc: 0.9533 - student_loss: 0.2856 - distillation_loss: 0.0108"
          ]
        },
        {
          "output_type": "stream",
          "name": "stderr",
          "text": [
            "WARNING:tensorflow:Early stopping conditioned on metric `val_loss` which is not available. Available metrics are: categorical_accuracy,auc,student_loss,distillation_loss,val_categorical_accuracy,val_auc,val_student_loss\n"
          ]
        },
        {
          "output_type": "stream",
          "name": "stdout",
          "text": [
            "\b\b\b\b\b\b\b\b\b\b\b\b\b\b\b\b\b\b\b\b\b\b\b\b\b\b\b\b\b\b\b\b\b\b\b\b\b\b\b\b\b\b\b\b\b\b\b\b\b\b\b\b\b\b\b\b\b\b\b\b\b\b\b\b\b\b\b\b\b\b\b\b\b\b\b\b\b\b\b\b\b\b\b\b\b\b\b\b\b\b\b\b\b\b\b\b\b\b\b\b\b\b\b\b\b\b\b\b\b\b\b\b\b\b\b\b\b\b\b\b\b\b\b\b\b\b\b\b\b\b\b\b\b\b\b\b\b\b\b\b\b\b\b\b\b\b\r154/154 [==============================] - 3s 20ms/step - categorical_accuracy: 0.8878 - auc: 0.9530 - student_loss: 0.2842 - distillation_loss: 0.0107 - val_categorical_accuracy: 0.8548 - val_auc: 0.9265 - val_student_loss: 0.1870\n",
            "Epoch 34/100\n",
            "154/154 [==============================] - ETA: 0s - categorical_accuracy: 0.8825 - auc: 0.9505 - student_loss: 0.2899 - distillation_loss: 0.0107"
          ]
        },
        {
          "output_type": "stream",
          "name": "stderr",
          "text": [
            "WARNING:tensorflow:Early stopping conditioned on metric `val_loss` which is not available. Available metrics are: categorical_accuracy,auc,student_loss,distillation_loss,val_categorical_accuracy,val_auc,val_student_loss\n"
          ]
        },
        {
          "output_type": "stream",
          "name": "stdout",
          "text": [
            "\b\b\b\b\b\b\b\b\b\b\b\b\b\b\b\b\b\b\b\b\b\b\b\b\b\b\b\b\b\b\b\b\b\b\b\b\b\b\b\b\b\b\b\b\b\b\b\b\b\b\b\b\b\b\b\b\b\b\b\b\b\b\b\b\b\b\b\b\b\b\b\b\b\b\b\b\b\b\b\b\b\b\b\b\b\b\b\b\b\b\b\b\b\b\b\b\b\b\b\b\b\b\b\b\b\b\b\b\b\b\b\b\b\b\b\b\b\b\b\b\b\b\b\b\b\b\b\b\b\b\b\b\b\b\b\b\b\b\b\b\b\b\b\b\b\b\r154/154 [==============================] - 3s 19ms/step - categorical_accuracy: 0.8825 - auc: 0.9505 - student_loss: 0.2883 - distillation_loss: 0.0108 - val_categorical_accuracy: 0.8499 - val_auc: 0.9253 - val_student_loss: 0.2066\n",
            "Epoch 35/100\n",
            "152/154 [============================>.] - ETA: 0s - categorical_accuracy: 0.8828 - auc: 0.9521 - student_loss: 0.2895 - distillation_loss: 0.0102"
          ]
        },
        {
          "output_type": "stream",
          "name": "stderr",
          "text": [
            "WARNING:tensorflow:Early stopping conditioned on metric `val_loss` which is not available. Available metrics are: categorical_accuracy,auc,student_loss,distillation_loss,val_categorical_accuracy,val_auc,val_student_loss\n"
          ]
        },
        {
          "output_type": "stream",
          "name": "stdout",
          "text": [
            "\b\b\b\b\b\b\b\b\b\b\b\b\b\b\b\b\b\b\b\b\b\b\b\b\b\b\b\b\b\b\b\b\b\b\b\b\b\b\b\b\b\b\b\b\b\b\b\b\b\b\b\b\b\b\b\b\b\b\b\b\b\b\b\b\b\b\b\b\b\b\b\b\b\b\b\b\b\b\b\b\b\b\b\b\b\b\b\b\b\b\b\b\b\b\b\b\b\b\b\b\b\b\b\b\b\b\b\b\b\b\b\b\b\b\b\b\b\b\b\b\b\b\b\b\b\b\b\b\b\b\b\b\b\b\b\b\b\b\b\b\b\b\b\b\b\b\r154/154 [==============================] - 3s 19ms/step - categorical_accuracy: 0.8833 - auc: 0.9522 - student_loss: 0.2864 - distillation_loss: 0.0105 - val_categorical_accuracy: 0.8515 - val_auc: 0.9246 - val_student_loss: 0.2201\n",
            "Epoch 36/100\n",
            "154/154 [==============================] - ETA: 0s - categorical_accuracy: 0.8845 - auc: 0.9531 - student_loss: 0.2888 - distillation_loss: 0.0101"
          ]
        },
        {
          "output_type": "stream",
          "name": "stderr",
          "text": [
            "WARNING:tensorflow:Early stopping conditioned on metric `val_loss` which is not available. Available metrics are: categorical_accuracy,auc,student_loss,distillation_loss,val_categorical_accuracy,val_auc,val_student_loss\n"
          ]
        },
        {
          "output_type": "stream",
          "name": "stdout",
          "text": [
            "\b\b\b\b\b\b\b\b\b\b\b\b\b\b\b\b\b\b\b\b\b\b\b\b\b\b\b\b\b\b\b\b\b\b\b\b\b\b\b\b\b\b\b\b\b\b\b\b\b\b\b\b\b\b\b\b\b\b\b\b\b\b\b\b\b\b\b\b\b\b\b\b\b\b\b\b\b\b\b\b\b\b\b\b\b\b\b\b\b\b\b\b\b\b\b\b\b\b\b\b\b\b\b\b\b\b\b\b\b\b\b\b\b\b\b\b\b\b\b\b\b\b\b\b\b\b\b\b\b\b\b\b\b\b\b\b\b\b\b\b\b\b\b\b\b\b\r154/154 [==============================] - 3s 20ms/step - categorical_accuracy: 0.8845 - auc: 0.9531 - student_loss: 0.2912 - distillation_loss: 0.0101 - val_categorical_accuracy: 0.8564 - val_auc: 0.9273 - val_student_loss: 0.1725\n",
            "Epoch 37/100\n",
            "154/154 [==============================] - ETA: 0s - categorical_accuracy: 0.8878 - auc: 0.9540 - student_loss: 0.2872 - distillation_loss: 0.0105"
          ]
        },
        {
          "output_type": "stream",
          "name": "stderr",
          "text": [
            "WARNING:tensorflow:Early stopping conditioned on metric `val_loss` which is not available. Available metrics are: categorical_accuracy,auc,student_loss,distillation_loss,val_categorical_accuracy,val_auc,val_student_loss\n"
          ]
        },
        {
          "output_type": "stream",
          "name": "stdout",
          "text": [
            "\b\b\b\b\b\b\b\b\b\b\b\b\b\b\b\b\b\b\b\b\b\b\b\b\b\b\b\b\b\b\b\b\b\b\b\b\b\b\b\b\b\b\b\b\b\b\b\b\b\b\b\b\b\b\b\b\b\b\b\b\b\b\b\b\b\b\b\b\b\b\b\b\b\b\b\b\b\b\b\b\b\b\b\b\b\b\b\b\b\b\b\b\b\b\b\b\b\b\b\b\b\b\b\b\b\b\b\b\b\b\b\b\b\b\b\b\b\b\b\b\b\b\b\b\b\b\b\b\b\b\b\b\b\b\b\b\b\b\b\b\b\b\b\b\b\b\r154/154 [==============================] - 3s 18ms/step - categorical_accuracy: 0.8878 - auc: 0.9540 - student_loss: 0.2915 - distillation_loss: 0.0104 - val_categorical_accuracy: 0.8499 - val_auc: 0.9266 - val_student_loss: 0.1908\n",
            "Epoch 38/100\n",
            "151/154 [============================>.] - ETA: 0s - categorical_accuracy: 0.8845 - auc: 0.9529 - student_loss: 0.2872 - distillation_loss: 0.0099"
          ]
        },
        {
          "output_type": "stream",
          "name": "stderr",
          "text": [
            "WARNING:tensorflow:Early stopping conditioned on metric `val_loss` which is not available. Available metrics are: categorical_accuracy,auc,student_loss,distillation_loss,val_categorical_accuracy,val_auc,val_student_loss\n"
          ]
        },
        {
          "output_type": "stream",
          "name": "stdout",
          "text": [
            "\b\b\b\b\b\b\b\b\b\b\b\b\b\b\b\b\b\b\b\b\b\b\b\b\b\b\b\b\b\b\b\b\b\b\b\b\b\b\b\b\b\b\b\b\b\b\b\b\b\b\b\b\b\b\b\b\b\b\b\b\b\b\b\b\b\b\b\b\b\b\b\b\b\b\b\b\b\b\b\b\b\b\b\b\b\b\b\b\b\b\b\b\b\b\b\b\b\b\b\b\b\b\b\b\b\b\b\b\b\b\b\b\b\b\b\b\b\b\b\b\b\b\b\b\b\b\b\b\b\b\b\b\b\b\b\b\b\b\b\b\b\b\b\b\b\b\r154/154 [==============================] - 3s 18ms/step - categorical_accuracy: 0.8845 - auc: 0.9535 - student_loss: 0.2896 - distillation_loss: 0.0098 - val_categorical_accuracy: 0.8499 - val_auc: 0.9260 - val_student_loss: 0.1948\n",
            "Epoch 39/100\n",
            "152/154 [============================>.] - ETA: 0s - categorical_accuracy: 0.8820 - auc: 0.9533 - student_loss: 0.2852 - distillation_loss: 0.0100"
          ]
        },
        {
          "output_type": "stream",
          "name": "stderr",
          "text": [
            "WARNING:tensorflow:Early stopping conditioned on metric `val_loss` which is not available. Available metrics are: categorical_accuracy,auc,student_loss,distillation_loss,val_categorical_accuracy,val_auc,val_student_loss\n"
          ]
        },
        {
          "output_type": "stream",
          "name": "stdout",
          "text": [
            "\b\b\b\b\b\b\b\b\b\b\b\b\b\b\b\b\b\b\b\b\b\b\b\b\b\b\b\b\b\b\b\b\b\b\b\b\b\b\b\b\b\b\b\b\b\b\b\b\b\b\b\b\b\b\b\b\b\b\b\b\b\b\b\b\b\b\b\b\b\b\b\b\b\b\b\b\b\b\b\b\b\b\b\b\b\b\b\b\b\b\b\b\b\b\b\b\b\b\b\b\b\b\b\b\b\b\b\b\b\b\b\b\b\b\b\b\b\b\b\b\b\b\b\b\b\b\b\b\b\b\b\b\b\b\b\b\b\b\b\b\b\b\b\b\b\b\r154/154 [==============================] - 3s 19ms/step - categorical_accuracy: 0.8825 - auc: 0.9536 - student_loss: 0.2830 - distillation_loss: 0.0100 - val_categorical_accuracy: 0.8515 - val_auc: 0.9226 - val_student_loss: 0.1832\n",
            "Epoch 40/100\n",
            "154/154 [==============================] - ETA: 0s - categorical_accuracy: 0.8886 - auc: 0.9571 - student_loss: 0.2756 - distillation_loss: 0.0101"
          ]
        },
        {
          "output_type": "stream",
          "name": "stderr",
          "text": [
            "WARNING:tensorflow:Early stopping conditioned on metric `val_loss` which is not available. Available metrics are: categorical_accuracy,auc,student_loss,distillation_loss,val_categorical_accuracy,val_auc,val_student_loss\n"
          ]
        },
        {
          "output_type": "stream",
          "name": "stdout",
          "text": [
            "\b\b\b\b\b\b\b\b\b\b\b\b\b\b\b\b\b\b\b\b\b\b\b\b\b\b\b\b\b\b\b\b\b\b\b\b\b\b\b\b\b\b\b\b\b\b\b\b\b\b\b\b\b\b\b\b\b\b\b\b\b\b\b\b\b\b\b\b\b\b\b\b\b\b\b\b\b\b\b\b\b\b\b\b\b\b\b\b\b\b\b\b\b\b\b\b\b\b\b\b\b\b\b\b\b\b\b\b\b\b\b\b\b\b\b\b\b\b\b\b\b\b\b\b\b\b\b\b\b\b\b\b\b\b\b\b\b\b\b\b\b\b\b\b\b\b\r154/154 [==============================] - 3s 20ms/step - categorical_accuracy: 0.8886 - auc: 0.9571 - student_loss: 0.2750 - distillation_loss: 0.0100 - val_categorical_accuracy: 0.8450 - val_auc: 0.9160 - val_student_loss: 0.2372\n",
            "Epoch 41/100\n",
            "153/154 [============================>.] - ETA: 0s - categorical_accuracy: 0.8901 - auc: 0.9572 - student_loss: 0.2752 - distillation_loss: 0.0099"
          ]
        },
        {
          "output_type": "stream",
          "name": "stderr",
          "text": [
            "WARNING:tensorflow:Early stopping conditioned on metric `val_loss` which is not available. Available metrics are: categorical_accuracy,auc,student_loss,distillation_loss,val_categorical_accuracy,val_auc,val_student_loss\n"
          ]
        },
        {
          "output_type": "stream",
          "name": "stdout",
          "text": [
            "\b\b\b\b\b\b\b\b\b\b\b\b\b\b\b\b\b\b\b\b\b\b\b\b\b\b\b\b\b\b\b\b\b\b\b\b\b\b\b\b\b\b\b\b\b\b\b\b\b\b\b\b\b\b\b\b\b\b\b\b\b\b\b\b\b\b\b\b\b\b\b\b\b\b\b\b\b\b\b\b\b\b\b\b\b\b\b\b\b\b\b\b\b\b\b\b\b\b\b\b\b\b\b\b\b\b\b\b\b\b\b\b\b\b\b\b\b\b\b\b\b\b\b\b\b\b\b\b\b\b\b\b\b\b\b\b\b\b\b\b\b\b\b\b\b\b\r154/154 [==============================] - 3s 19ms/step - categorical_accuracy: 0.8902 - auc: 0.9572 - student_loss: 0.2744 - distillation_loss: 0.0100 - val_categorical_accuracy: 0.8532 - val_auc: 0.9259 - val_student_loss: 0.1654\n",
            "Epoch 42/100\n",
            "153/154 [============================>.] - ETA: 0s - categorical_accuracy: 0.8856 - auc: 0.9553 - student_loss: 0.2804 - distillation_loss: 0.0097"
          ]
        },
        {
          "output_type": "stream",
          "name": "stderr",
          "text": [
            "WARNING:tensorflow:Early stopping conditioned on metric `val_loss` which is not available. Available metrics are: categorical_accuracy,auc,student_loss,distillation_loss,val_categorical_accuracy,val_auc,val_student_loss\n"
          ]
        },
        {
          "output_type": "stream",
          "name": "stdout",
          "text": [
            "\b\b\b\b\b\b\b\b\b\b\b\b\b\b\b\b\b\b\b\b\b\b\b\b\b\b\b\b\b\b\b\b\b\b\b\b\b\b\b\b\b\b\b\b\b\b\b\b\b\b\b\b\b\b\b\b\b\b\b\b\b\b\b\b\b\b\b\b\b\b\b\b\b\b\b\b\b\b\b\b\b\b\b\b\b\b\b\b\b\b\b\b\b\b\b\b\b\b\b\b\b\b\b\b\b\b\b\b\b\b\b\b\b\b\b\b\b\b\b\b\b\b\b\b\b\b\b\b\b\b\b\b\b\b\b\b\b\b\b\b\b\b\b\b\b\b\r154/154 [==============================] - 3s 19ms/step - categorical_accuracy: 0.8858 - auc: 0.9554 - student_loss: 0.2771 - distillation_loss: 0.0096 - val_categorical_accuracy: 0.8597 - val_auc: 0.9246 - val_student_loss: 0.1585\n",
            "Epoch 43/100\n",
            "153/154 [============================>.] - ETA: 0s - categorical_accuracy: 0.8909 - auc: 0.9569 - student_loss: 0.2762 - distillation_loss: 0.0099"
          ]
        },
        {
          "output_type": "stream",
          "name": "stderr",
          "text": [
            "WARNING:tensorflow:Early stopping conditioned on metric `val_loss` which is not available. Available metrics are: categorical_accuracy,auc,student_loss,distillation_loss,val_categorical_accuracy,val_auc,val_student_loss\n"
          ]
        },
        {
          "output_type": "stream",
          "name": "stdout",
          "text": [
            "\b\b\b\b\b\b\b\b\b\b\b\b\b\b\b\b\b\b\b\b\b\b\b\b\b\b\b\b\b\b\b\b\b\b\b\b\b\b\b\b\b\b\b\b\b\b\b\b\b\b\b\b\b\b\b\b\b\b\b\b\b\b\b\b\b\b\b\b\b\b\b\b\b\b\b\b\b\b\b\b\b\b\b\b\b\b\b\b\b\b\b\b\b\b\b\b\b\b\b\b\b\b\b\b\b\b\b\b\b\b\b\b\b\b\b\b\b\b\b\b\b\b\b\b\b\b\b\b\b\b\b\b\b\b\b\b\b\b\b\b\b\b\b\b\b\b\r154/154 [==============================] - 3s 19ms/step - categorical_accuracy: 0.8907 - auc: 0.9568 - student_loss: 0.2783 - distillation_loss: 0.0098 - val_categorical_accuracy: 0.8564 - val_auc: 0.9229 - val_student_loss: 0.1760\n",
            "Epoch 44/100\n",
            "153/154 [============================>.] - ETA: 0s - categorical_accuracy: 0.8913 - auc: 0.9564 - student_loss: 0.2774 - distillation_loss: 0.0097"
          ]
        },
        {
          "output_type": "stream",
          "name": "stderr",
          "text": [
            "WARNING:tensorflow:Early stopping conditioned on metric `val_loss` which is not available. Available metrics are: categorical_accuracy,auc,student_loss,distillation_loss,val_categorical_accuracy,val_auc,val_student_loss\n"
          ]
        },
        {
          "output_type": "stream",
          "name": "stdout",
          "text": [
            "\b\b\b\b\b\b\b\b\b\b\b\b\b\b\b\b\b\b\b\b\b\b\b\b\b\b\b\b\b\b\b\b\b\b\b\b\b\b\b\b\b\b\b\b\b\b\b\b\b\b\b\b\b\b\b\b\b\b\b\b\b\b\b\b\b\b\b\b\b\b\b\b\b\b\b\b\b\b\b\b\b\b\b\b\b\b\b\b\b\b\b\b\b\b\b\b\b\b\b\b\b\b\b\b\b\b\b\b\b\b\b\b\b\b\b\b\b\b\b\b\b\b\b\b\b\b\b\b\b\b\b\b\b\b\b\b\b\b\b\b\b\b\b\b\b\b\r154/154 [==============================] - 3s 22ms/step - categorical_accuracy: 0.8911 - auc: 0.9564 - student_loss: 0.2780 - distillation_loss: 0.0105 - val_categorical_accuracy: 0.8630 - val_auc: 0.9243 - val_student_loss: 0.1882\n",
            "Epoch 45/100\n",
            "151/154 [============================>.] - ETA: 0s - categorical_accuracy: 0.8853 - auc: 0.9555 - student_loss: 0.2813 - distillation_loss: 0.0095"
          ]
        },
        {
          "output_type": "stream",
          "name": "stderr",
          "text": [
            "WARNING:tensorflow:Early stopping conditioned on metric `val_loss` which is not available. Available metrics are: categorical_accuracy,auc,student_loss,distillation_loss,val_categorical_accuracy,val_auc,val_student_loss\n"
          ]
        },
        {
          "output_type": "stream",
          "name": "stdout",
          "text": [
            "\b\b\b\b\b\b\b\b\b\b\b\b\b\b\b\b\b\b\b\b\b\b\b\b\b\b\b\b\b\b\b\b\b\b\b\b\b\b\b\b\b\b\b\b\b\b\b\b\b\b\b\b\b\b\b\b\b\b\b\b\b\b\b\b\b\b\b\b\b\b\b\b\b\b\b\b\b\b\b\b\b\b\b\b\b\b\b\b\b\b\b\b\b\b\b\b\b\b\b\b\b\b\b\b\b\b\b\b\b\b\b\b\b\b\b\b\b\b\b\b\b\b\b\b\b\b\b\b\b\b\b\b\b\b\b\b\b\b\b\b\b\b\b\b\b\b\r154/154 [==============================] - 3s 20ms/step - categorical_accuracy: 0.8858 - auc: 0.9559 - student_loss: 0.2783 - distillation_loss: 0.0096 - val_categorical_accuracy: 0.8630 - val_auc: 0.9251 - val_student_loss: 0.1609\n",
            "Epoch 46/100\n",
            "154/154 [==============================] - ETA: 0s - categorical_accuracy: 0.8915 - auc: 0.9580 - student_loss: 0.2766 - distillation_loss: 0.0097"
          ]
        },
        {
          "output_type": "stream",
          "name": "stderr",
          "text": [
            "WARNING:tensorflow:Early stopping conditioned on metric `val_loss` which is not available. Available metrics are: categorical_accuracy,auc,student_loss,distillation_loss,val_categorical_accuracy,val_auc,val_student_loss\n"
          ]
        },
        {
          "output_type": "stream",
          "name": "stdout",
          "text": [
            "\b\b\b\b\b\b\b\b\b\b\b\b\b\b\b\b\b\b\b\b\b\b\b\b\b\b\b\b\b\b\b\b\b\b\b\b\b\b\b\b\b\b\b\b\b\b\b\b\b\b\b\b\b\b\b\b\b\b\b\b\b\b\b\b\b\b\b\b\b\b\b\b\b\b\b\b\b\b\b\b\b\b\b\b\b\b\b\b\b\b\b\b\b\b\b\b\b\b\b\b\b\b\b\b\b\b\b\b\b\b\b\b\b\b\b\b\b\b\b\b\b\b\b\b\b\b\b\b\b\b\b\b\b\b\b\b\b\b\b\b\b\b\b\b\b\b\r154/154 [==============================] - 3s 19ms/step - categorical_accuracy: 0.8915 - auc: 0.9580 - student_loss: 0.2797 - distillation_loss: 0.0097 - val_categorical_accuracy: 0.8532 - val_auc: 0.9259 - val_student_loss: 0.1586\n",
            "Epoch 47/100\n",
            "152/154 [============================>.] - ETA: 0s - categorical_accuracy: 0.8947 - auc: 0.9596 - student_loss: 0.2703 - distillation_loss: 0.0096"
          ]
        },
        {
          "output_type": "stream",
          "name": "stderr",
          "text": [
            "WARNING:tensorflow:Early stopping conditioned on metric `val_loss` which is not available. Available metrics are: categorical_accuracy,auc,student_loss,distillation_loss,val_categorical_accuracy,val_auc,val_student_loss\n"
          ]
        },
        {
          "output_type": "stream",
          "name": "stdout",
          "text": [
            "\b\b\b\b\b\b\b\b\b\b\b\b\b\b\b\b\b\b\b\b\b\b\b\b\b\b\b\b\b\b\b\b\b\b\b\b\b\b\b\b\b\b\b\b\b\b\b\b\b\b\b\b\b\b\b\b\b\b\b\b\b\b\b\b\b\b\b\b\b\b\b\b\b\b\b\b\b\b\b\b\b\b\b\b\b\b\b\b\b\b\b\b\b\b\b\b\b\b\b\b\b\b\b\b\b\b\b\b\b\b\b\b\b\b\b\b\b\b\b\b\b\b\b\b\b\b\b\b\b\b\b\b\b\b\b\b\b\b\b\b\b\b\b\b\b\b\r154/154 [==============================] - 3s 19ms/step - categorical_accuracy: 0.8947 - auc: 0.9595 - student_loss: 0.2740 - distillation_loss: 0.0097 - val_categorical_accuracy: 0.8532 - val_auc: 0.9266 - val_student_loss: 0.1406\n",
            "Epoch 48/100\n",
            "154/154 [==============================] - ETA: 0s - categorical_accuracy: 0.8919 - auc: 0.9590 - student_loss: 0.2723 - distillation_loss: 0.0098"
          ]
        },
        {
          "output_type": "stream",
          "name": "stderr",
          "text": [
            "WARNING:tensorflow:Early stopping conditioned on metric `val_loss` which is not available. Available metrics are: categorical_accuracy,auc,student_loss,distillation_loss,val_categorical_accuracy,val_auc,val_student_loss\n"
          ]
        },
        {
          "output_type": "stream",
          "name": "stdout",
          "text": [
            "\b\b\b\b\b\b\b\b\b\b\b\b\b\b\b\b\b\b\b\b\b\b\b\b\b\b\b\b\b\b\b\b\b\b\b\b\b\b\b\b\b\b\b\b\b\b\b\b\b\b\b\b\b\b\b\b\b\b\b\b\b\b\b\b\b\b\b\b\b\b\b\b\b\b\b\b\b\b\b\b\b\b\b\b\b\b\b\b\b\b\b\b\b\b\b\b\b\b\b\b\b\b\b\b\b\b\b\b\b\b\b\b\b\b\b\b\b\b\b\b\b\b\b\b\b\b\b\b\b\b\b\b\b\b\b\b\b\b\b\b\b\b\b\b\b\b\r154/154 [==============================] - 3s 20ms/step - categorical_accuracy: 0.8919 - auc: 0.9590 - student_loss: 0.2726 - distillation_loss: 0.0098 - val_categorical_accuracy: 0.8548 - val_auc: 0.9254 - val_student_loss: 0.1497\n",
            "Epoch 49/100\n",
            "154/154 [==============================] - ETA: 0s - categorical_accuracy: 0.8956 - auc: 0.9593 - student_loss: 0.2714 - distillation_loss: 0.0093"
          ]
        },
        {
          "output_type": "stream",
          "name": "stderr",
          "text": [
            "WARNING:tensorflow:Early stopping conditioned on metric `val_loss` which is not available. Available metrics are: categorical_accuracy,auc,student_loss,distillation_loss,val_categorical_accuracy,val_auc,val_student_loss\n"
          ]
        },
        {
          "output_type": "stream",
          "name": "stdout",
          "text": [
            "\b\b\b\b\b\b\b\b\b\b\b\b\b\b\b\b\b\b\b\b\b\b\b\b\b\b\b\b\b\b\b\b\b\b\b\b\b\b\b\b\b\b\b\b\b\b\b\b\b\b\b\b\b\b\b\b\b\b\b\b\b\b\b\b\b\b\b\b\b\b\b\b\b\b\b\b\b\b\b\b\b\b\b\b\b\b\b\b\b\b\b\b\b\b\b\b\b\b\b\b\b\b\b\b\b\b\b\b\b\b\b\b\b\b\b\b\b\b\b\b\b\b\b\b\b\b\b\b\b\b\b\b\b\b\b\b\b\b\b\b\b\b\b\b\b\b\r154/154 [==============================] - 3s 20ms/step - categorical_accuracy: 0.8956 - auc: 0.9593 - student_loss: 0.2716 - distillation_loss: 0.0093 - val_categorical_accuracy: 0.8597 - val_auc: 0.9265 - val_student_loss: 0.1536\n",
            "Epoch 50/100\n",
            "152/154 [============================>.] - ETA: 0s - categorical_accuracy: 0.8951 - auc: 0.9604 - student_loss: 0.2677 - distillation_loss: 0.0094"
          ]
        },
        {
          "output_type": "stream",
          "name": "stderr",
          "text": [
            "WARNING:tensorflow:Early stopping conditioned on metric `val_loss` which is not available. Available metrics are: categorical_accuracy,auc,student_loss,distillation_loss,val_categorical_accuracy,val_auc,val_student_loss\n"
          ]
        },
        {
          "output_type": "stream",
          "name": "stdout",
          "text": [
            "\b\b\b\b\b\b\b\b\b\b\b\b\b\b\b\b\b\b\b\b\b\b\b\b\b\b\b\b\b\b\b\b\b\b\b\b\b\b\b\b\b\b\b\b\b\b\b\b\b\b\b\b\b\b\b\b\b\b\b\b\b\b\b\b\b\b\b\b\b\b\b\b\b\b\b\b\b\b\b\b\b\b\b\b\b\b\b\b\b\b\b\b\b\b\b\b\b\b\b\b\b\b\b\b\b\b\b\b\b\b\b\b\b\b\b\b\b\b\b\b\b\b\b\b\b\b\b\b\b\b\b\b\b\b\b\b\b\b\b\b\b\b\b\b\b\b\r154/154 [==============================] - 3s 19ms/step - categorical_accuracy: 0.8951 - auc: 0.9605 - student_loss: 0.2675 - distillation_loss: 0.0094 - val_categorical_accuracy: 0.8597 - val_auc: 0.9227 - val_student_loss: 0.1506\n",
            "Epoch 51/100\n",
            "153/154 [============================>.] - ETA: 0s - categorical_accuracy: 0.8950 - auc: 0.9594 - student_loss: 0.2712 - distillation_loss: 0.0093"
          ]
        },
        {
          "output_type": "stream",
          "name": "stderr",
          "text": [
            "WARNING:tensorflow:Early stopping conditioned on metric `val_loss` which is not available. Available metrics are: categorical_accuracy,auc,student_loss,distillation_loss,val_categorical_accuracy,val_auc,val_student_loss\n"
          ]
        },
        {
          "output_type": "stream",
          "name": "stdout",
          "text": [
            "\b\b\b\b\b\b\b\b\b\b\b\b\b\b\b\b\b\b\b\b\b\b\b\b\b\b\b\b\b\b\b\b\b\b\b\b\b\b\b\b\b\b\b\b\b\b\b\b\b\b\b\b\b\b\b\b\b\b\b\b\b\b\b\b\b\b\b\b\b\b\b\b\b\b\b\b\b\b\b\b\b\b\b\b\b\b\b\b\b\b\b\b\b\b\b\b\b\b\b\b\b\b\b\b\b\b\b\b\b\b\b\b\b\b\b\b\b\b\b\b\b\b\b\b\b\b\b\b\b\b\b\b\b\b\b\b\b\b\b\b\b\b\b\b\b\b\r154/154 [==============================] - 3s 19ms/step - categorical_accuracy: 0.8951 - auc: 0.9595 - student_loss: 0.2697 - distillation_loss: 0.0092 - val_categorical_accuracy: 0.8613 - val_auc: 0.9245 - val_student_loss: 0.1572\n",
            "Epoch 52/100\n",
            "154/154 [==============================] - ETA: 0s - categorical_accuracy: 0.8964 - auc: 0.9621 - student_loss: 0.2622 - distillation_loss: 0.0094"
          ]
        },
        {
          "output_type": "stream",
          "name": "stderr",
          "text": [
            "WARNING:tensorflow:Early stopping conditioned on metric `val_loss` which is not available. Available metrics are: categorical_accuracy,auc,student_loss,distillation_loss,val_categorical_accuracy,val_auc,val_student_loss\n"
          ]
        },
        {
          "output_type": "stream",
          "name": "stdout",
          "text": [
            "\b\b\b\b\b\b\b\b\b\b\b\b\b\b\b\b\b\b\b\b\b\b\b\b\b\b\b\b\b\b\b\b\b\b\b\b\b\b\b\b\b\b\b\b\b\b\b\b\b\b\b\b\b\b\b\b\b\b\b\b\b\b\b\b\b\b\b\b\b\b\b\b\b\b\b\b\b\b\b\b\b\b\b\b\b\b\b\b\b\b\b\b\b\b\b\b\b\b\b\b\b\b\b\b\b\b\b\b\b\b\b\b\b\b\b\b\b\b\b\b\b\b\b\b\b\b\b\b\b\b\b\b\b\b\b\b\b\b\b\b\b\b\b\b\b\b\r154/154 [==============================] - 3s 19ms/step - categorical_accuracy: 0.8964 - auc: 0.9621 - student_loss: 0.2611 - distillation_loss: 0.0094 - val_categorical_accuracy: 0.8581 - val_auc: 0.9241 - val_student_loss: 0.1380\n",
            "Epoch 53/100\n",
            "153/154 [============================>.] - ETA: 0s - categorical_accuracy: 0.8946 - auc: 0.9614 - student_loss: 0.2666 - distillation_loss: 0.0091"
          ]
        },
        {
          "output_type": "stream",
          "name": "stderr",
          "text": [
            "WARNING:tensorflow:Early stopping conditioned on metric `val_loss` which is not available. Available metrics are: categorical_accuracy,auc,student_loss,distillation_loss,val_categorical_accuracy,val_auc,val_student_loss\n"
          ]
        },
        {
          "output_type": "stream",
          "name": "stdout",
          "text": [
            "\b\b\b\b\b\b\b\b\b\b\b\b\b\b\b\b\b\b\b\b\b\b\b\b\b\b\b\b\b\b\b\b\b\b\b\b\b\b\b\b\b\b\b\b\b\b\b\b\b\b\b\b\b\b\b\b\b\b\b\b\b\b\b\b\b\b\b\b\b\b\b\b\b\b\b\b\b\b\b\b\b\b\b\b\b\b\b\b\b\b\b\b\b\b\b\b\b\b\b\b\b\b\b\b\b\b\b\b\b\b\b\b\b\b\b\b\b\b\b\b\b\b\b\b\b\b\b\b\b\b\b\b\b\b\b\b\b\b\b\b\b\b\b\b\b\b\r154/154 [==============================] - 3s 20ms/step - categorical_accuracy: 0.8939 - auc: 0.9610 - student_loss: 0.2766 - distillation_loss: 0.0090 - val_categorical_accuracy: 0.8597 - val_auc: 0.9267 - val_student_loss: 0.1216\n",
            "Epoch 54/100\n",
            "151/154 [============================>.] - ETA: 0s - categorical_accuracy: 0.8961 - auc: 0.9635 - student_loss: 0.2606 - distillation_loss: 0.0091"
          ]
        },
        {
          "output_type": "stream",
          "name": "stderr",
          "text": [
            "WARNING:tensorflow:Early stopping conditioned on metric `val_loss` which is not available. Available metrics are: categorical_accuracy,auc,student_loss,distillation_loss,val_categorical_accuracy,val_auc,val_student_loss\n"
          ]
        },
        {
          "output_type": "stream",
          "name": "stdout",
          "text": [
            "\b\b\b\b\b\b\b\b\b\b\b\b\b\b\b\b\b\b\b\b\b\b\b\b\b\b\b\b\b\b\b\b\b\b\b\b\b\b\b\b\b\b\b\b\b\b\b\b\b\b\b\b\b\b\b\b\b\b\b\b\b\b\b\b\b\b\b\b\b\b\b\b\b\b\b\b\b\b\b\b\b\b\b\b\b\b\b\b\b\b\b\b\b\b\b\b\b\b\b\b\b\b\b\b\b\b\b\b\b\b\b\b\b\b\b\b\b\b\b\b\b\b\b\b\b\b\b\b\b\b\b\b\b\b\b\b\b\b\b\b\b\b\b\b\b\b\r154/154 [==============================] - 3s 19ms/step - categorical_accuracy: 0.8964 - auc: 0.9635 - student_loss: 0.2673 - distillation_loss: 0.0090 - val_categorical_accuracy: 0.8630 - val_auc: 0.9240 - val_student_loss: 0.1329\n",
            "Epoch 55/100\n",
            "152/154 [============================>.] - ETA: 0s - categorical_accuracy: 0.8980 - auc: 0.9632 - student_loss: 0.2612 - distillation_loss: 0.0091"
          ]
        },
        {
          "output_type": "stream",
          "name": "stderr",
          "text": [
            "WARNING:tensorflow:Early stopping conditioned on metric `val_loss` which is not available. Available metrics are: categorical_accuracy,auc,student_loss,distillation_loss,val_categorical_accuracy,val_auc,val_student_loss\n"
          ]
        },
        {
          "output_type": "stream",
          "name": "stdout",
          "text": [
            "\b\b\b\b\b\b\b\b\b\b\b\b\b\b\b\b\b\b\b\b\b\b\b\b\b\b\b\b\b\b\b\b\b\b\b\b\b\b\b\b\b\b\b\b\b\b\b\b\b\b\b\b\b\b\b\b\b\b\b\b\b\b\b\b\b\b\b\b\b\b\b\b\b\b\b\b\b\b\b\b\b\b\b\b\b\b\b\b\b\b\b\b\b\b\b\b\b\b\b\b\b\b\b\b\b\b\b\b\b\b\b\b\b\b\b\b\b\b\b\b\b\b\b\b\b\b\b\b\b\b\b\b\b\b\b\b\b\b\b\b\b\b\b\b\b\b\r154/154 [==============================] - 3s 19ms/step - categorical_accuracy: 0.8980 - auc: 0.9633 - student_loss: 0.2587 - distillation_loss: 0.0090 - val_categorical_accuracy: 0.8613 - val_auc: 0.9265 - val_student_loss: 0.1434\n",
            "Epoch 56/100\n",
            "154/154 [==============================] - ETA: 0s - categorical_accuracy: 0.9021 - auc: 0.9625 - student_loss: 0.2630 - distillation_loss: 0.0090"
          ]
        },
        {
          "output_type": "stream",
          "name": "stderr",
          "text": [
            "WARNING:tensorflow:Early stopping conditioned on metric `val_loss` which is not available. Available metrics are: categorical_accuracy,auc,student_loss,distillation_loss,val_categorical_accuracy,val_auc,val_student_loss\n"
          ]
        },
        {
          "output_type": "stream",
          "name": "stdout",
          "text": [
            "\b\b\b\b\b\b\b\b\b\b\b\b\b\b\b\b\b\b\b\b\b\b\b\b\b\b\b\b\b\b\b\b\b\b\b\b\b\b\b\b\b\b\b\b\b\b\b\b\b\b\b\b\b\b\b\b\b\b\b\b\b\b\b\b\b\b\b\b\b\b\b\b\b\b\b\b\b\b\b\b\b\b\b\b\b\b\b\b\b\b\b\b\b\b\b\b\b\b\b\b\b\b\b\b\b\b\b\b\b\b\b\b\b\b\b\b\b\b\b\b\b\b\b\b\b\b\b\b\b\b\b\b\b\b\b\b\b\b\b\b\b\b\b\b\b\b\r154/154 [==============================] - 3s 19ms/step - categorical_accuracy: 0.9021 - auc: 0.9625 - student_loss: 0.2645 - distillation_loss: 0.0089 - val_categorical_accuracy: 0.8564 - val_auc: 0.9274 - val_student_loss: 0.1136\n",
            "Epoch 57/100\n",
            "153/154 [============================>.] - ETA: 0s - categorical_accuracy: 0.9007 - auc: 0.9653 - student_loss: 0.2569 - distillation_loss: 0.0090"
          ]
        },
        {
          "output_type": "stream",
          "name": "stderr",
          "text": [
            "WARNING:tensorflow:Early stopping conditioned on metric `val_loss` which is not available. Available metrics are: categorical_accuracy,auc,student_loss,distillation_loss,val_categorical_accuracy,val_auc,val_student_loss\n"
          ]
        },
        {
          "output_type": "stream",
          "name": "stdout",
          "text": [
            "\b\b\b\b\b\b\b\b\b\b\b\b\b\b\b\b\b\b\b\b\b\b\b\b\b\b\b\b\b\b\b\b\b\b\b\b\b\b\b\b\b\b\b\b\b\b\b\b\b\b\b\b\b\b\b\b\b\b\b\b\b\b\b\b\b\b\b\b\b\b\b\b\b\b\b\b\b\b\b\b\b\b\b\b\b\b\b\b\b\b\b\b\b\b\b\b\b\b\b\b\b\b\b\b\b\b\b\b\b\b\b\b\b\b\b\b\b\b\b\b\b\b\b\b\b\b\b\b\b\b\b\b\b\b\b\b\b\b\b\b\b\b\b\b\b\b\r154/154 [==============================] - 3s 19ms/step - categorical_accuracy: 0.9004 - auc: 0.9650 - student_loss: 0.2626 - distillation_loss: 0.0089 - val_categorical_accuracy: 0.8630 - val_auc: 0.9258 - val_student_loss: 0.1319\n",
            "Epoch 58/100\n",
            "154/154 [==============================] - ETA: 0s - categorical_accuracy: 0.8988 - auc: 0.9649 - student_loss: 0.2558 - distillation_loss: 0.0088"
          ]
        },
        {
          "output_type": "stream",
          "name": "stderr",
          "text": [
            "WARNING:tensorflow:Early stopping conditioned on metric `val_loss` which is not available. Available metrics are: categorical_accuracy,auc,student_loss,distillation_loss,val_categorical_accuracy,val_auc,val_student_loss\n"
          ]
        },
        {
          "output_type": "stream",
          "name": "stdout",
          "text": [
            "\b\b\b\b\b\b\b\b\b\b\b\b\b\b\b\b\b\b\b\b\b\b\b\b\b\b\b\b\b\b\b\b\b\b\b\b\b\b\b\b\b\b\b\b\b\b\b\b\b\b\b\b\b\b\b\b\b\b\b\b\b\b\b\b\b\b\b\b\b\b\b\b\b\b\b\b\b\b\b\b\b\b\b\b\b\b\b\b\b\b\b\b\b\b\b\b\b\b\b\b\b\b\b\b\b\b\b\b\b\b\b\b\b\b\b\b\b\b\b\b\b\b\b\b\b\b\b\b\b\b\b\b\b\b\b\b\b\b\b\b\b\b\b\b\b\b\r154/154 [==============================] - 3s 20ms/step - categorical_accuracy: 0.8988 - auc: 0.9649 - student_loss: 0.2545 - distillation_loss: 0.0087 - val_categorical_accuracy: 0.8662 - val_auc: 0.9214 - val_student_loss: 0.1470\n",
            "Epoch 59/100\n",
            "154/154 [==============================] - ETA: 0s - categorical_accuracy: 0.8992 - auc: 0.9641 - student_loss: 0.2586 - distillation_loss: 0.0088"
          ]
        },
        {
          "output_type": "stream",
          "name": "stderr",
          "text": [
            "WARNING:tensorflow:Early stopping conditioned on metric `val_loss` which is not available. Available metrics are: categorical_accuracy,auc,student_loss,distillation_loss,val_categorical_accuracy,val_auc,val_student_loss\n"
          ]
        },
        {
          "output_type": "stream",
          "name": "stdout",
          "text": [
            "\b\b\b\b\b\b\b\b\b\b\b\b\b\b\b\b\b\b\b\b\b\b\b\b\b\b\b\b\b\b\b\b\b\b\b\b\b\b\b\b\b\b\b\b\b\b\b\b\b\b\b\b\b\b\b\b\b\b\b\b\b\b\b\b\b\b\b\b\b\b\b\b\b\b\b\b\b\b\b\b\b\b\b\b\b\b\b\b\b\b\b\b\b\b\b\b\b\b\b\b\b\b\b\b\b\b\b\b\b\b\b\b\b\b\b\b\b\b\b\b\b\b\b\b\b\b\b\b\b\b\b\b\b\b\b\b\b\b\b\b\b\b\b\b\b\b\r154/154 [==============================] - 3s 19ms/step - categorical_accuracy: 0.8992 - auc: 0.9641 - student_loss: 0.2581 - distillation_loss: 0.0089 - val_categorical_accuracy: 0.8581 - val_auc: 0.9212 - val_student_loss: 0.1493\n",
            "Epoch 60/100\n",
            "152/154 [============================>.] - ETA: 0s - categorical_accuracy: 0.9062 - auc: 0.9668 - student_loss: 0.2523 - distillation_loss: 0.0084"
          ]
        },
        {
          "output_type": "stream",
          "name": "stderr",
          "text": [
            "WARNING:tensorflow:Early stopping conditioned on metric `val_loss` which is not available. Available metrics are: categorical_accuracy,auc,student_loss,distillation_loss,val_categorical_accuracy,val_auc,val_student_loss\n"
          ]
        },
        {
          "output_type": "stream",
          "name": "stdout",
          "text": [
            "\b\b\b\b\b\b\b\b\b\b\b\b\b\b\b\b\b\b\b\b\b\b\b\b\b\b\b\b\b\b\b\b\b\b\b\b\b\b\b\b\b\b\b\b\b\b\b\b\b\b\b\b\b\b\b\b\b\b\b\b\b\b\b\b\b\b\b\b\b\b\b\b\b\b\b\b\b\b\b\b\b\b\b\b\b\b\b\b\b\b\b\b\b\b\b\b\b\b\b\b\b\b\b\b\b\b\b\b\b\b\b\b\b\b\b\b\b\b\b\b\b\b\b\b\b\b\b\b\b\b\b\b\b\b\b\b\b\b\b\b\b\b\b\b\b\b\r154/154 [==============================] - 3s 19ms/step - categorical_accuracy: 0.9062 - auc: 0.9668 - student_loss: 0.2506 - distillation_loss: 0.0084 - val_categorical_accuracy: 0.8646 - val_auc: 0.9227 - val_student_loss: 0.1739\n",
            "Epoch 61/100\n",
            "154/154 [==============================] - ETA: 0s - categorical_accuracy: 0.9021 - auc: 0.9661 - student_loss: 0.2539 - distillation_loss: 0.0086"
          ]
        },
        {
          "output_type": "stream",
          "name": "stderr",
          "text": [
            "WARNING:tensorflow:Early stopping conditioned on metric `val_loss` which is not available. Available metrics are: categorical_accuracy,auc,student_loss,distillation_loss,val_categorical_accuracy,val_auc,val_student_loss\n"
          ]
        },
        {
          "output_type": "stream",
          "name": "stdout",
          "text": [
            "\b\b\b\b\b\b\b\b\b\b\b\b\b\b\b\b\b\b\b\b\b\b\b\b\b\b\b\b\b\b\b\b\b\b\b\b\b\b\b\b\b\b\b\b\b\b\b\b\b\b\b\b\b\b\b\b\b\b\b\b\b\b\b\b\b\b\b\b\b\b\b\b\b\b\b\b\b\b\b\b\b\b\b\b\b\b\b\b\b\b\b\b\b\b\b\b\b\b\b\b\b\b\b\b\b\b\b\b\b\b\b\b\b\b\b\b\b\b\b\b\b\b\b\b\b\b\b\b\b\b\b\b\b\b\b\b\b\b\b\b\b\b\b\b\b\b\r154/154 [==============================] - 3s 19ms/step - categorical_accuracy: 0.9021 - auc: 0.9661 - student_loss: 0.2539 - distillation_loss: 0.0086 - val_categorical_accuracy: 0.8646 - val_auc: 0.9267 - val_student_loss: 0.1309\n",
            "Epoch 62/100\n",
            "154/154 [==============================] - ETA: 0s - categorical_accuracy: 0.9009 - auc: 0.9676 - student_loss: 0.2504 - distillation_loss: 0.0088"
          ]
        },
        {
          "output_type": "stream",
          "name": "stderr",
          "text": [
            "WARNING:tensorflow:Early stopping conditioned on metric `val_loss` which is not available. Available metrics are: categorical_accuracy,auc,student_loss,distillation_loss,val_categorical_accuracy,val_auc,val_student_loss\n"
          ]
        },
        {
          "output_type": "stream",
          "name": "stdout",
          "text": [
            "\b\b\b\b\b\b\b\b\b\b\b\b\b\b\b\b\b\b\b\b\b\b\b\b\b\b\b\b\b\b\b\b\b\b\b\b\b\b\b\b\b\b\b\b\b\b\b\b\b\b\b\b\b\b\b\b\b\b\b\b\b\b\b\b\b\b\b\b\b\b\b\b\b\b\b\b\b\b\b\b\b\b\b\b\b\b\b\b\b\b\b\b\b\b\b\b\b\b\b\b\b\b\b\b\b\b\b\b\b\b\b\b\b\b\b\b\b\b\b\b\b\b\b\b\b\b\b\b\b\b\b\b\b\b\b\b\b\b\b\b\b\b\b\b\b\b\r154/154 [==============================] - 3s 20ms/step - categorical_accuracy: 0.9009 - auc: 0.9676 - student_loss: 0.2500 - distillation_loss: 0.0088 - val_categorical_accuracy: 0.8613 - val_auc: 0.9227 - val_student_loss: 0.1340\n",
            "Epoch 63/100\n",
            "152/154 [============================>.] - ETA: 0s - categorical_accuracy: 0.9005 - auc: 0.9681 - student_loss: 0.2472 - distillation_loss: 0.0085"
          ]
        },
        {
          "output_type": "stream",
          "name": "stderr",
          "text": [
            "WARNING:tensorflow:Early stopping conditioned on metric `val_loss` which is not available. Available metrics are: categorical_accuracy,auc,student_loss,distillation_loss,val_categorical_accuracy,val_auc,val_student_loss\n"
          ]
        },
        {
          "output_type": "stream",
          "name": "stdout",
          "text": [
            "\b\b\b\b\b\b\b\b\b\b\b\b\b\b\b\b\b\b\b\b\b\b\b\b\b\b\b\b\b\b\b\b\b\b\b\b\b\b\b\b\b\b\b\b\b\b\b\b\b\b\b\b\b\b\b\b\b\b\b\b\b\b\b\b\b\b\b\b\b\b\b\b\b\b\b\b\b\b\b\b\b\b\b\b\b\b\b\b\b\b\b\b\b\b\b\b\b\b\b\b\b\b\b\b\b\b\b\b\b\b\b\b\b\b\b\b\b\b\b\b\b\b\b\b\b\b\b\b\b\b\b\b\b\b\b\b\b\b\b\b\b\b\b\b\b\b\r154/154 [==============================] - 3s 19ms/step - categorical_accuracy: 0.9004 - auc: 0.9682 - student_loss: 0.2455 - distillation_loss: 0.0086 - val_categorical_accuracy: 0.8662 - val_auc: 0.9234 - val_student_loss: 0.1427\n",
            "Epoch 64/100\n",
            "153/154 [============================>.] - ETA: 0s - categorical_accuracy: 0.9011 - auc: 0.9663 - student_loss: 0.2527 - distillation_loss: 0.0085"
          ]
        },
        {
          "output_type": "stream",
          "name": "stderr",
          "text": [
            "WARNING:tensorflow:Early stopping conditioned on metric `val_loss` which is not available. Available metrics are: categorical_accuracy,auc,student_loss,distillation_loss,val_categorical_accuracy,val_auc,val_student_loss\n"
          ]
        },
        {
          "output_type": "stream",
          "name": "stdout",
          "text": [
            "\b\b\b\b\b\b\b\b\b\b\b\b\b\b\b\b\b\b\b\b\b\b\b\b\b\b\b\b\b\b\b\b\b\b\b\b\b\b\b\b\b\b\b\b\b\b\b\b\b\b\b\b\b\b\b\b\b\b\b\b\b\b\b\b\b\b\b\b\b\b\b\b\b\b\b\b\b\b\b\b\b\b\b\b\b\b\b\b\b\b\b\b\b\b\b\b\b\b\b\b\b\b\b\b\b\b\b\b\b\b\b\b\b\b\b\b\b\b\b\b\b\b\b\b\b\b\b\b\b\b\b\b\b\b\b\b\b\b\b\b\b\b\b\b\b\b\r154/154 [==============================] - 3s 19ms/step - categorical_accuracy: 0.9013 - auc: 0.9664 - student_loss: 0.2508 - distillation_loss: 0.0084 - val_categorical_accuracy: 0.8581 - val_auc: 0.9205 - val_student_loss: 0.1549\n",
            "Epoch 65/100\n",
            "152/154 [============================>.] - ETA: 0s - categorical_accuracy: 0.8980 - auc: 0.9672 - student_loss: 0.2501 - distillation_loss: 0.0082"
          ]
        },
        {
          "output_type": "stream",
          "name": "stderr",
          "text": [
            "WARNING:tensorflow:Early stopping conditioned on metric `val_loss` which is not available. Available metrics are: categorical_accuracy,auc,student_loss,distillation_loss,val_categorical_accuracy,val_auc,val_student_loss\n"
          ]
        },
        {
          "output_type": "stream",
          "name": "stdout",
          "text": [
            "\b\b\b\b\b\b\b\b\b\b\b\b\b\b\b\b\b\b\b\b\b\b\b\b\b\b\b\b\b\b\b\b\b\b\b\b\b\b\b\b\b\b\b\b\b\b\b\b\b\b\b\b\b\b\b\b\b\b\b\b\b\b\b\b\b\b\b\b\b\b\b\b\b\b\b\b\b\b\b\b\b\b\b\b\b\b\b\b\b\b\b\b\b\b\b\b\b\b\b\b\b\b\b\b\b\b\b\b\b\b\b\b\b\b\b\b\b\b\b\b\b\b\b\b\b\b\b\b\b\b\b\b\b\b\b\b\b\b\b\b\b\b\b\b\b\b\r154/154 [==============================] - 3s 19ms/step - categorical_accuracy: 0.8980 - auc: 0.9672 - student_loss: 0.2537 - distillation_loss: 0.0083 - val_categorical_accuracy: 0.8646 - val_auc: 0.9245 - val_student_loss: 0.1191\n",
            "Epoch 66/100\n",
            "152/154 [============================>.] - ETA: 0s - categorical_accuracy: 0.9120 - auc: 0.9705 - student_loss: 0.2415 - distillation_loss: 0.0089"
          ]
        },
        {
          "output_type": "stream",
          "name": "stderr",
          "text": [
            "WARNING:tensorflow:Early stopping conditioned on metric `val_loss` which is not available. Available metrics are: categorical_accuracy,auc,student_loss,distillation_loss,val_categorical_accuracy,val_auc,val_student_loss\n"
          ]
        },
        {
          "output_type": "stream",
          "name": "stdout",
          "text": [
            "\b\b\b\b\b\b\b\b\b\b\b\b\b\b\b\b\b\b\b\b\b\b\b\b\b\b\b\b\b\b\b\b\b\b\b\b\b\b\b\b\b\b\b\b\b\b\b\b\b\b\b\b\b\b\b\b\b\b\b\b\b\b\b\b\b\b\b\b\b\b\b\b\b\b\b\b\b\b\b\b\b\b\b\b\b\b\b\b\b\b\b\b\b\b\b\b\b\b\b\b\b\b\b\b\b\b\b\b\b\b\b\b\b\b\b\b\b\b\b\b\b\b\b\b\b\b\b\b\b\b\b\b\b\b\b\b\b\b\b\b\b\b\b\b\b\b\r154/154 [==============================] - 3s 19ms/step - categorical_accuracy: 0.9115 - auc: 0.9699 - student_loss: 0.2440 - distillation_loss: 0.0090 - val_categorical_accuracy: 0.8630 - val_auc: 0.9228 - val_student_loss: 0.1119\n",
            "Epoch 67/100\n",
            "153/154 [============================>.] - ETA: 0s - categorical_accuracy: 0.9093 - auc: 0.9700 - student_loss: 0.2425 - distillation_loss: 0.0083"
          ]
        },
        {
          "output_type": "stream",
          "name": "stderr",
          "text": [
            "WARNING:tensorflow:Early stopping conditioned on metric `val_loss` which is not available. Available metrics are: categorical_accuracy,auc,student_loss,distillation_loss,val_categorical_accuracy,val_auc,val_student_loss\n"
          ]
        },
        {
          "output_type": "stream",
          "name": "stdout",
          "text": [
            "\b\b\b\b\b\b\b\b\b\b\b\b\b\b\b\b\b\b\b\b\b\b\b\b\b\b\b\b\b\b\b\b\b\b\b\b\b\b\b\b\b\b\b\b\b\b\b\b\b\b\b\b\b\b\b\b\b\b\b\b\b\b\b\b\b\b\b\b\b\b\b\b\b\b\b\b\b\b\b\b\b\b\b\b\b\b\b\b\b\b\b\b\b\b\b\b\b\b\b\b\b\b\b\b\b\b\b\b\b\b\b\b\b\b\b\b\b\b\b\b\b\b\b\b\b\b\b\b\b\b\b\b\b\b\b\b\b\b\b\b\b\b\b\b\b\b\r154/154 [==============================] - 3s 20ms/step - categorical_accuracy: 0.9094 - auc: 0.9701 - student_loss: 0.2407 - distillation_loss: 0.0084 - val_categorical_accuracy: 0.8613 - val_auc: 0.9228 - val_student_loss: 0.1129\n",
            "Epoch 68/100\n",
            "152/154 [============================>.] - ETA: 0s - categorical_accuracy: 0.9087 - auc: 0.9680 - student_loss: 0.2471 - distillation_loss: 0.0083"
          ]
        },
        {
          "output_type": "stream",
          "name": "stderr",
          "text": [
            "WARNING:tensorflow:Early stopping conditioned on metric `val_loss` which is not available. Available metrics are: categorical_accuracy,auc,student_loss,distillation_loss,val_categorical_accuracy,val_auc,val_student_loss\n"
          ]
        },
        {
          "output_type": "stream",
          "name": "stdout",
          "text": [
            "\b\b\b\b\b\b\b\b\b\b\b\b\b\b\b\b\b\b\b\b\b\b\b\b\b\b\b\b\b\b\b\b\b\b\b\b\b\b\b\b\b\b\b\b\b\b\b\b\b\b\b\b\b\b\b\b\b\b\b\b\b\b\b\b\b\b\b\b\b\b\b\b\b\b\b\b\b\b\b\b\b\b\b\b\b\b\b\b\b\b\b\b\b\b\b\b\b\b\b\b\b\b\b\b\b\b\b\b\b\b\b\b\b\b\b\b\b\b\b\b\b\b\b\b\b\b\b\b\b\b\b\b\b\b\b\b\b\b\b\b\b\b\b\b\b\b\r154/154 [==============================] - 3s 19ms/step - categorical_accuracy: 0.9086 - auc: 0.9680 - student_loss: 0.2462 - distillation_loss: 0.0084 - val_categorical_accuracy: 0.8581 - val_auc: 0.9252 - val_student_loss: 0.1118\n",
            "Epoch 69/100\n",
            "153/154 [============================>.] - ETA: 0s - categorical_accuracy: 0.9073 - auc: 0.9691 - student_loss: 0.2447 - distillation_loss: 0.0084"
          ]
        },
        {
          "output_type": "stream",
          "name": "stderr",
          "text": [
            "WARNING:tensorflow:Early stopping conditioned on metric `val_loss` which is not available. Available metrics are: categorical_accuracy,auc,student_loss,distillation_loss,val_categorical_accuracy,val_auc,val_student_loss\n"
          ]
        },
        {
          "output_type": "stream",
          "name": "stdout",
          "text": [
            "\b\b\b\b\b\b\b\b\b\b\b\b\b\b\b\b\b\b\b\b\b\b\b\b\b\b\b\b\b\b\b\b\b\b\b\b\b\b\b\b\b\b\b\b\b\b\b\b\b\b\b\b\b\b\b\b\b\b\b\b\b\b\b\b\b\b\b\b\b\b\b\b\b\b\b\b\b\b\b\b\b\b\b\b\b\b\b\b\b\b\b\b\b\b\b\b\b\b\b\b\b\b\b\b\b\b\b\b\b\b\b\b\b\b\b\b\b\b\b\b\b\b\b\b\b\b\b\b\b\b\b\b\b\b\b\b\b\b\b\b\b\b\b\b\b\b\r154/154 [==============================] - 3s 18ms/step - categorical_accuracy: 0.9074 - auc: 0.9691 - student_loss: 0.2442 - distillation_loss: 0.0084 - val_categorical_accuracy: 0.8581 - val_auc: 0.9227 - val_student_loss: 0.1054\n",
            "Epoch 70/100\n",
            "152/154 [============================>.] - ETA: 0s - categorical_accuracy: 0.9067 - auc: 0.9695 - student_loss: 0.2430 - distillation_loss: 0.0086"
          ]
        },
        {
          "output_type": "stream",
          "name": "stderr",
          "text": [
            "WARNING:tensorflow:Early stopping conditioned on metric `val_loss` which is not available. Available metrics are: categorical_accuracy,auc,student_loss,distillation_loss,val_categorical_accuracy,val_auc,val_student_loss\n"
          ]
        },
        {
          "output_type": "stream",
          "name": "stdout",
          "text": [
            "\b\b\b\b\b\b\b\b\b\b\b\b\b\b\b\b\b\b\b\b\b\b\b\b\b\b\b\b\b\b\b\b\b\b\b\b\b\b\b\b\b\b\b\b\b\b\b\b\b\b\b\b\b\b\b\b\b\b\b\b\b\b\b\b\b\b\b\b\b\b\b\b\b\b\b\b\b\b\b\b\b\b\b\b\b\b\b\b\b\b\b\b\b\b\b\b\b\b\b\b\b\b\b\b\b\b\b\b\b\b\b\b\b\b\b\b\b\b\b\b\b\b\b\b\b\b\b\b\b\b\b\b\b\b\b\b\b\b\b\b\b\b\b\b\b\b\r154/154 [==============================] - 3s 19ms/step - categorical_accuracy: 0.9070 - auc: 0.9695 - student_loss: 0.2425 - distillation_loss: 0.0090 - val_categorical_accuracy: 0.8613 - val_auc: 0.9217 - val_student_loss: 0.1293\n",
            "Epoch 71/100\n",
            "154/154 [==============================] - ETA: 0s - categorical_accuracy: 0.9078 - auc: 0.9707 - student_loss: 0.2439 - distillation_loss: 0.0083"
          ]
        },
        {
          "output_type": "stream",
          "name": "stderr",
          "text": [
            "WARNING:tensorflow:Early stopping conditioned on metric `val_loss` which is not available. Available metrics are: categorical_accuracy,auc,student_loss,distillation_loss,val_categorical_accuracy,val_auc,val_student_loss\n"
          ]
        },
        {
          "output_type": "stream",
          "name": "stdout",
          "text": [
            "\b\b\b\b\b\b\b\b\b\b\b\b\b\b\b\b\b\b\b\b\b\b\b\b\b\b\b\b\b\b\b\b\b\b\b\b\b\b\b\b\b\b\b\b\b\b\b\b\b\b\b\b\b\b\b\b\b\b\b\b\b\b\b\b\b\b\b\b\b\b\b\b\b\b\b\b\b\b\b\b\b\b\b\b\b\b\b\b\b\b\b\b\b\b\b\b\b\b\b\b\b\b\b\b\b\b\b\b\b\b\b\b\b\b\b\b\b\b\b\b\b\b\b\b\b\b\b\b\b\b\b\b\b\b\b\b\b\b\b\b\b\b\b\b\b\b\r154/154 [==============================] - 3s 20ms/step - categorical_accuracy: 0.9078 - auc: 0.9707 - student_loss: 0.2475 - distillation_loss: 0.0083 - val_categorical_accuracy: 0.8597 - val_auc: 0.9226 - val_student_loss: 0.1146\n",
            "Epoch 72/100\n",
            "153/154 [============================>.] - ETA: 0s - categorical_accuracy: 0.9052 - auc: 0.9700 - student_loss: 0.2417 - distillation_loss: 0.0081"
          ]
        },
        {
          "output_type": "stream",
          "name": "stderr",
          "text": [
            "WARNING:tensorflow:Early stopping conditioned on metric `val_loss` which is not available. Available metrics are: categorical_accuracy,auc,student_loss,distillation_loss,val_categorical_accuracy,val_auc,val_student_loss\n"
          ]
        },
        {
          "output_type": "stream",
          "name": "stdout",
          "text": [
            "\b\b\b\b\b\b\b\b\b\b\b\b\b\b\b\b\b\b\b\b\b\b\b\b\b\b\b\b\b\b\b\b\b\b\b\b\b\b\b\b\b\b\b\b\b\b\b\b\b\b\b\b\b\b\b\b\b\b\b\b\b\b\b\b\b\b\b\b\b\b\b\b\b\b\b\b\b\b\b\b\b\b\b\b\b\b\b\b\b\b\b\b\b\b\b\b\b\b\b\b\b\b\b\b\b\b\b\b\b\b\b\b\b\b\b\b\b\b\b\b\b\b\b\b\b\b\b\b\b\b\b\b\b\b\b\b\b\b\b\b\b\b\b\b\b\b\r154/154 [==============================] - 3s 19ms/step - categorical_accuracy: 0.9053 - auc: 0.9700 - student_loss: 0.2393 - distillation_loss: 0.0080 - val_categorical_accuracy: 0.8564 - val_auc: 0.9188 - val_student_loss: 0.1206\n",
            "Epoch 73/100\n",
            "152/154 [============================>.] - ETA: 0s - categorical_accuracy: 0.9141 - auc: 0.9720 - student_loss: 0.2365 - distillation_loss: 0.0088"
          ]
        },
        {
          "output_type": "stream",
          "name": "stderr",
          "text": [
            "WARNING:tensorflow:Early stopping conditioned on metric `val_loss` which is not available. Available metrics are: categorical_accuracy,auc,student_loss,distillation_loss,val_categorical_accuracy,val_auc,val_student_loss\n"
          ]
        },
        {
          "output_type": "stream",
          "name": "stdout",
          "text": [
            "\b\b\b\b\b\b\b\b\b\b\b\b\b\b\b\b\b\b\b\b\b\b\b\b\b\b\b\b\b\b\b\b\b\b\b\b\b\b\b\b\b\b\b\b\b\b\b\b\b\b\b\b\b\b\b\b\b\b\b\b\b\b\b\b\b\b\b\b\b\b\b\b\b\b\b\b\b\b\b\b\b\b\b\b\b\b\b\b\b\b\b\b\b\b\b\b\b\b\b\b\b\b\b\b\b\b\b\b\b\b\b\b\b\b\b\b\b\b\b\b\b\b\b\b\b\b\b\b\b\b\b\b\b\b\b\b\b\b\b\b\b\b\b\b\b\b\r154/154 [==============================] - 3s 18ms/step - categorical_accuracy: 0.9143 - auc: 0.9721 - student_loss: 0.2341 - distillation_loss: 0.0087 - val_categorical_accuracy: 0.8581 - val_auc: 0.9231 - val_student_loss: 0.1036\n",
            "Epoch 74/100\n",
            "152/154 [============================>.] - ETA: 0s - categorical_accuracy: 0.9083 - auc: 0.9721 - student_loss: 0.2359 - distillation_loss: 0.0086"
          ]
        },
        {
          "output_type": "stream",
          "name": "stderr",
          "text": [
            "WARNING:tensorflow:Early stopping conditioned on metric `val_loss` which is not available. Available metrics are: categorical_accuracy,auc,student_loss,distillation_loss,val_categorical_accuracy,val_auc,val_student_loss\n"
          ]
        },
        {
          "output_type": "stream",
          "name": "stdout",
          "text": [
            "\b\b\b\b\b\b\b\b\b\b\b\b\b\b\b\b\b\b\b\b\b\b\b\b\b\b\b\b\b\b\b\b\b\b\b\b\b\b\b\b\b\b\b\b\b\b\b\b\b\b\b\b\b\b\b\b\b\b\b\b\b\b\b\b\b\b\b\b\b\b\b\b\b\b\b\b\b\b\b\b\b\b\b\b\b\b\b\b\b\b\b\b\b\b\b\b\b\b\b\b\b\b\b\b\b\b\b\b\b\b\b\b\b\b\b\b\b\b\b\b\b\b\b\b\b\b\b\b\b\b\b\b\b\b\b\b\b\b\b\b\b\b\b\b\b\b\r154/154 [==============================] - 3s 19ms/step - categorical_accuracy: 0.9086 - auc: 0.9722 - student_loss: 0.2339 - distillation_loss: 0.0085 - val_categorical_accuracy: 0.8483 - val_auc: 0.9219 - val_student_loss: 0.0885\n",
            "Epoch 75/100\n",
            "154/154 [==============================] - ETA: 0s - categorical_accuracy: 0.9058 - auc: 0.9713 - student_loss: 0.2362 - distillation_loss: 0.0086"
          ]
        },
        {
          "output_type": "stream",
          "name": "stderr",
          "text": [
            "WARNING:tensorflow:Early stopping conditioned on metric `val_loss` which is not available. Available metrics are: categorical_accuracy,auc,student_loss,distillation_loss,val_categorical_accuracy,val_auc,val_student_loss\n"
          ]
        },
        {
          "output_type": "stream",
          "name": "stdout",
          "text": [
            "\b\b\b\b\b\b\b\b\b\b\b\b\b\b\b\b\b\b\b\b\b\b\b\b\b\b\b\b\b\b\b\b\b\b\b\b\b\b\b\b\b\b\b\b\b\b\b\b\b\b\b\b\b\b\b\b\b\b\b\b\b\b\b\b\b\b\b\b\b\b\b\b\b\b\b\b\b\b\b\b\b\b\b\b\b\b\b\b\b\b\b\b\b\b\b\b\b\b\b\b\b\b\b\b\b\b\b\b\b\b\b\b\b\b\b\b\b\b\b\b\b\b\b\b\b\b\b\b\b\b\b\b\b\b\b\b\b\b\b\b\b\b\b\b\b\b\r154/154 [==============================] - 3s 20ms/step - categorical_accuracy: 0.9058 - auc: 0.9713 - student_loss: 0.2352 - distillation_loss: 0.0086 - val_categorical_accuracy: 0.8548 - val_auc: 0.9203 - val_student_loss: 0.1010\n",
            "Epoch 76/100\n",
            "153/154 [============================>.] - ETA: 0s - categorical_accuracy: 0.9065 - auc: 0.9712 - student_loss: 0.2395 - distillation_loss: 0.0081"
          ]
        },
        {
          "output_type": "stream",
          "name": "stderr",
          "text": [
            "WARNING:tensorflow:Early stopping conditioned on metric `val_loss` which is not available. Available metrics are: categorical_accuracy,auc,student_loss,distillation_loss,val_categorical_accuracy,val_auc,val_student_loss\n"
          ]
        },
        {
          "output_type": "stream",
          "name": "stdout",
          "text": [
            "\b\b\b\b\b\b\b\b\b\b\b\b\b\b\b\b\b\b\b\b\b\b\b\b\b\b\b\b\b\b\b\b\b\b\b\b\b\b\b\b\b\b\b\b\b\b\b\b\b\b\b\b\b\b\b\b\b\b\b\b\b\b\b\b\b\b\b\b\b\b\b\b\b\b\b\b\b\b\b\b\b\b\b\b\b\b\b\b\b\b\b\b\b\b\b\b\b\b\b\b\b\b\b\b\b\b\b\b\b\b\b\b\b\b\b\b\b\b\b\b\b\b\b\b\b\b\b\b\b\b\b\b\b\b\b\b\b\b\b\b\b\b\b\b\b\b\r154/154 [==============================] - 3s 19ms/step - categorical_accuracy: 0.9062 - auc: 0.9711 - student_loss: 0.2408 - distillation_loss: 0.0080 - val_categorical_accuracy: 0.8564 - val_auc: 0.9186 - val_student_loss: 0.1237\n",
            "Epoch 77/100\n",
            "152/154 [============================>.] - ETA: 0s - categorical_accuracy: 0.9067 - auc: 0.9715 - student_loss: 0.2365 - distillation_loss: 0.0085"
          ]
        },
        {
          "output_type": "stream",
          "name": "stderr",
          "text": [
            "WARNING:tensorflow:Early stopping conditioned on metric `val_loss` which is not available. Available metrics are: categorical_accuracy,auc,student_loss,distillation_loss,val_categorical_accuracy,val_auc,val_student_loss\n"
          ]
        },
        {
          "output_type": "stream",
          "name": "stdout",
          "text": [
            "\b\b\b\b\b\b\b\b\b\b\b\b\b\b\b\b\b\b\b\b\b\b\b\b\b\b\b\b\b\b\b\b\b\b\b\b\b\b\b\b\b\b\b\b\b\b\b\b\b\b\b\b\b\b\b\b\b\b\b\b\b\b\b\b\b\b\b\b\b\b\b\b\b\b\b\b\b\b\b\b\b\b\b\b\b\b\b\b\b\b\b\b\b\b\b\b\b\b\b\b\b\b\b\b\b\b\b\b\b\b\b\b\b\b\b\b\b\b\b\b\b\b\b\b\b\b\b\b\b\b\b\b\b\b\b\b\b\b\b\b\b\b\b\b\b\b\r154/154 [==============================] - 3s 19ms/step - categorical_accuracy: 0.9070 - auc: 0.9717 - student_loss: 0.2341 - distillation_loss: 0.0085 - val_categorical_accuracy: 0.8564 - val_auc: 0.9214 - val_student_loss: 0.0950\n",
            "Epoch 78/100\n",
            "154/154 [==============================] - ETA: 0s - categorical_accuracy: 0.9160 - auc: 0.9748 - student_loss: 0.2275 - distillation_loss: 0.0088"
          ]
        },
        {
          "output_type": "stream",
          "name": "stderr",
          "text": [
            "WARNING:tensorflow:Early stopping conditioned on metric `val_loss` which is not available. Available metrics are: categorical_accuracy,auc,student_loss,distillation_loss,val_categorical_accuracy,val_auc,val_student_loss\n"
          ]
        },
        {
          "output_type": "stream",
          "name": "stdout",
          "text": [
            "\b\b\b\b\b\b\b\b\b\b\b\b\b\b\b\b\b\b\b\b\b\b\b\b\b\b\b\b\b\b\b\b\b\b\b\b\b\b\b\b\b\b\b\b\b\b\b\b\b\b\b\b\b\b\b\b\b\b\b\b\b\b\b\b\b\b\b\b\b\b\b\b\b\b\b\b\b\b\b\b\b\b\b\b\b\b\b\b\b\b\b\b\b\b\b\b\b\b\b\b\b\b\b\b\b\b\b\b\b\b\b\b\b\b\b\b\b\b\b\b\b\b\b\b\b\b\b\b\b\b\b\b\b\b\b\b\b\b\b\b\b\b\b\b\b\b\r154/154 [==============================] - 3s 19ms/step - categorical_accuracy: 0.9160 - auc: 0.9748 - student_loss: 0.2272 - distillation_loss: 0.0087 - val_categorical_accuracy: 0.8597 - val_auc: 0.9207 - val_student_loss: 0.1109\n",
            "Epoch 79/100\n",
            "153/154 [============================>.] - ETA: 0s - categorical_accuracy: 0.9150 - auc: 0.9728 - student_loss: 0.2339 - distillation_loss: 0.0084"
          ]
        },
        {
          "output_type": "stream",
          "name": "stderr",
          "text": [
            "WARNING:tensorflow:Early stopping conditioned on metric `val_loss` which is not available. Available metrics are: categorical_accuracy,auc,student_loss,distillation_loss,val_categorical_accuracy,val_auc,val_student_loss\n"
          ]
        },
        {
          "output_type": "stream",
          "name": "stdout",
          "text": [
            "\b\b\b\b\b\b\b\b\b\b\b\b\b\b\b\b\b\b\b\b\b\b\b\b\b\b\b\b\b\b\b\b\b\b\b\b\b\b\b\b\b\b\b\b\b\b\b\b\b\b\b\b\b\b\b\b\b\b\b\b\b\b\b\b\b\b\b\b\b\b\b\b\b\b\b\b\b\b\b\b\b\b\b\b\b\b\b\b\b\b\b\b\b\b\b\b\b\b\b\b\b\b\b\b\b\b\b\b\b\b\b\b\b\b\b\b\b\b\b\b\b\b\b\b\b\b\b\b\b\b\b\b\b\b\b\b\b\b\b\b\b\b\b\b\b\b\r154/154 [==============================] - 3s 19ms/step - categorical_accuracy: 0.9151 - auc: 0.9728 - student_loss: 0.2348 - distillation_loss: 0.0084 - val_categorical_accuracy: 0.8646 - val_auc: 0.9211 - val_student_loss: 0.1112\n",
            "Epoch 80/100\n",
            "152/154 [============================>.] - ETA: 0s - categorical_accuracy: 0.9120 - auc: 0.9731 - student_loss: 0.2323 - distillation_loss: 0.0082"
          ]
        },
        {
          "output_type": "stream",
          "name": "stderr",
          "text": [
            "WARNING:tensorflow:Early stopping conditioned on metric `val_loss` which is not available. Available metrics are: categorical_accuracy,auc,student_loss,distillation_loss,val_categorical_accuracy,val_auc,val_student_loss\n"
          ]
        },
        {
          "output_type": "stream",
          "name": "stdout",
          "text": [
            "\b\b\b\b\b\b\b\b\b\b\b\b\b\b\b\b\b\b\b\b\b\b\b\b\b\b\b\b\b\b\b\b\b\b\b\b\b\b\b\b\b\b\b\b\b\b\b\b\b\b\b\b\b\b\b\b\b\b\b\b\b\b\b\b\b\b\b\b\b\b\b\b\b\b\b\b\b\b\b\b\b\b\b\b\b\b\b\b\b\b\b\b\b\b\b\b\b\b\b\b\b\b\b\b\b\b\b\b\b\b\b\b\b\b\b\b\b\b\b\b\b\b\b\b\b\b\b\b\b\b\b\b\b\b\b\b\b\b\b\b\b\b\b\b\b\b\r154/154 [==============================] - 3s 19ms/step - categorical_accuracy: 0.9119 - auc: 0.9730 - student_loss: 0.2312 - distillation_loss: 0.0081 - val_categorical_accuracy: 0.8630 - val_auc: 0.9223 - val_student_loss: 0.1077\n",
            "Epoch 81/100\n",
            "151/154 [============================>.] - ETA: 0s - categorical_accuracy: 0.9098 - auc: 0.9749 - student_loss: 0.2270 - distillation_loss: 0.0086"
          ]
        },
        {
          "output_type": "stream",
          "name": "stderr",
          "text": [
            "WARNING:tensorflow:Early stopping conditioned on metric `val_loss` which is not available. Available metrics are: categorical_accuracy,auc,student_loss,distillation_loss,val_categorical_accuracy,val_auc,val_student_loss\n"
          ]
        },
        {
          "output_type": "stream",
          "name": "stdout",
          "text": [
            "\b\b\b\b\b\b\b\b\b\b\b\b\b\b\b\b\b\b\b\b\b\b\b\b\b\b\b\b\b\b\b\b\b\b\b\b\b\b\b\b\b\b\b\b\b\b\b\b\b\b\b\b\b\b\b\b\b\b\b\b\b\b\b\b\b\b\b\b\b\b\b\b\b\b\b\b\b\b\b\b\b\b\b\b\b\b\b\b\b\b\b\b\b\b\b\b\b\b\b\b\b\b\b\b\b\b\b\b\b\b\b\b\b\b\b\b\b\b\b\b\b\b\b\b\b\b\b\b\b\b\b\b\b\b\b\b\b\b\b\b\b\b\b\b\b\b\r154/154 [==============================] - 3s 19ms/step - categorical_accuracy: 0.9086 - auc: 0.9748 - student_loss: 0.2287 - distillation_loss: 0.0086 - val_categorical_accuracy: 0.8597 - val_auc: 0.9215 - val_student_loss: 0.1065\n",
            "Epoch 82/100\n",
            "153/154 [============================>.] - ETA: 0s - categorical_accuracy: 0.9146 - auc: 0.9740 - student_loss: 0.2312 - distillation_loss: 0.0084"
          ]
        },
        {
          "output_type": "stream",
          "name": "stderr",
          "text": [
            "WARNING:tensorflow:Early stopping conditioned on metric `val_loss` which is not available. Available metrics are: categorical_accuracy,auc,student_loss,distillation_loss,val_categorical_accuracy,val_auc,val_student_loss\n"
          ]
        },
        {
          "output_type": "stream",
          "name": "stdout",
          "text": [
            "\b\b\b\b\b\b\b\b\b\b\b\b\b\b\b\b\b\b\b\b\b\b\b\b\b\b\b\b\b\b\b\b\b\b\b\b\b\b\b\b\b\b\b\b\b\b\b\b\b\b\b\b\b\b\b\b\b\b\b\b\b\b\b\b\b\b\b\b\b\b\b\b\b\b\b\b\b\b\b\b\b\b\b\b\b\b\b\b\b\b\b\b\b\b\b\b\b\b\b\b\b\b\b\b\b\b\b\b\b\b\b\b\b\b\b\b\b\b\b\b\b\b\b\b\b\b\b\b\b\b\b\b\b\b\b\b\b\b\b\b\b\b\b\b\b\b\r154/154 [==============================] - 3s 19ms/step - categorical_accuracy: 0.9147 - auc: 0.9740 - student_loss: 0.2290 - distillation_loss: 0.0083 - val_categorical_accuracy: 0.8564 - val_auc: 0.9236 - val_student_loss: 0.0811\n",
            "Epoch 83/100\n",
            "153/154 [============================>.] - ETA: 0s - categorical_accuracy: 0.9183 - auc: 0.9752 - student_loss: 0.2247 - distillation_loss: 0.0090"
          ]
        },
        {
          "output_type": "stream",
          "name": "stderr",
          "text": [
            "WARNING:tensorflow:Early stopping conditioned on metric `val_loss` which is not available. Available metrics are: categorical_accuracy,auc,student_loss,distillation_loss,val_categorical_accuracy,val_auc,val_student_loss\n"
          ]
        },
        {
          "output_type": "stream",
          "name": "stdout",
          "text": [
            "\b\b\b\b\b\b\b\b\b\b\b\b\b\b\b\b\b\b\b\b\b\b\b\b\b\b\b\b\b\b\b\b\b\b\b\b\b\b\b\b\b\b\b\b\b\b\b\b\b\b\b\b\b\b\b\b\b\b\b\b\b\b\b\b\b\b\b\b\b\b\b\b\b\b\b\b\b\b\b\b\b\b\b\b\b\b\b\b\b\b\b\b\b\b\b\b\b\b\b\b\b\b\b\b\b\b\b\b\b\b\b\b\b\b\b\b\b\b\b\b\b\b\b\b\b\b\b\b\b\b\b\b\b\b\b\b\b\b\b\b\b\b\b\b\b\b\r154/154 [==============================] - 3s 19ms/step - categorical_accuracy: 0.9184 - auc: 0.9752 - student_loss: 0.2226 - distillation_loss: 0.0090 - val_categorical_accuracy: 0.8532 - val_auc: 0.9226 - val_student_loss: 0.0867\n",
            "Epoch 84/100\n",
            "154/154 [==============================] - ETA: 0s - categorical_accuracy: 0.9151 - auc: 0.9749 - student_loss: 0.2288 - distillation_loss: 0.0085"
          ]
        },
        {
          "output_type": "stream",
          "name": "stderr",
          "text": [
            "WARNING:tensorflow:Early stopping conditioned on metric `val_loss` which is not available. Available metrics are: categorical_accuracy,auc,student_loss,distillation_loss,val_categorical_accuracy,val_auc,val_student_loss\n"
          ]
        },
        {
          "output_type": "stream",
          "name": "stdout",
          "text": [
            "\b\b\b\b\b\b\b\b\b\b\b\b\b\b\b\b\b\b\b\b\b\b\b\b\b\b\b\b\b\b\b\b\b\b\b\b\b\b\b\b\b\b\b\b\b\b\b\b\b\b\b\b\b\b\b\b\b\b\b\b\b\b\b\b\b\b\b\b\b\b\b\b\b\b\b\b\b\b\b\b\b\b\b\b\b\b\b\b\b\b\b\b\b\b\b\b\b\b\b\b\b\b\b\b\b\b\b\b\b\b\b\b\b\b\b\b\b\b\b\b\b\b\b\b\b\b\b\b\b\b\b\b\b\b\b\b\b\b\b\b\b\b\b\b\b\b\r154/154 [==============================] - 3s 20ms/step - categorical_accuracy: 0.9151 - auc: 0.9749 - student_loss: 0.2311 - distillation_loss: 0.0085 - val_categorical_accuracy: 0.8613 - val_auc: 0.9241 - val_student_loss: 0.0843\n",
            "Epoch 85/100\n",
            "152/154 [============================>.] - ETA: 0s - categorical_accuracy: 0.9145 - auc: 0.9756 - student_loss: 0.2245 - distillation_loss: 0.0087"
          ]
        },
        {
          "output_type": "stream",
          "name": "stderr",
          "text": [
            "WARNING:tensorflow:Early stopping conditioned on metric `val_loss` which is not available. Available metrics are: categorical_accuracy,auc,student_loss,distillation_loss,val_categorical_accuracy,val_auc,val_student_loss\n"
          ]
        },
        {
          "output_type": "stream",
          "name": "stdout",
          "text": [
            "\b\b\b\b\b\b\b\b\b\b\b\b\b\b\b\b\b\b\b\b\b\b\b\b\b\b\b\b\b\b\b\b\b\b\b\b\b\b\b\b\b\b\b\b\b\b\b\b\b\b\b\b\b\b\b\b\b\b\b\b\b\b\b\b\b\b\b\b\b\b\b\b\b\b\b\b\b\b\b\b\b\b\b\b\b\b\b\b\b\b\b\b\b\b\b\b\b\b\b\b\b\b\b\b\b\b\b\b\b\b\b\b\b\b\b\b\b\b\b\b\b\b\b\b\b\b\b\b\b\b\b\b\b\b\b\b\b\b\b\b\b\b\b\b\b\b\r154/154 [==============================] - 3s 20ms/step - categorical_accuracy: 0.9143 - auc: 0.9756 - student_loss: 0.2235 - distillation_loss: 0.0086 - val_categorical_accuracy: 0.8613 - val_auc: 0.9218 - val_student_loss: 0.0934\n",
            "Epoch 86/100\n",
            "154/154 [==============================] - ETA: 0s - categorical_accuracy: 0.9151 - auc: 0.9757 - student_loss: 0.2269 - distillation_loss: 0.0084"
          ]
        },
        {
          "output_type": "stream",
          "name": "stderr",
          "text": [
            "WARNING:tensorflow:Early stopping conditioned on metric `val_loss` which is not available. Available metrics are: categorical_accuracy,auc,student_loss,distillation_loss,val_categorical_accuracy,val_auc,val_student_loss\n"
          ]
        },
        {
          "output_type": "stream",
          "name": "stdout",
          "text": [
            "\b\b\b\b\b\b\b\b\b\b\b\b\b\b\b\b\b\b\b\b\b\b\b\b\b\b\b\b\b\b\b\b\b\b\b\b\b\b\b\b\b\b\b\b\b\b\b\b\b\b\b\b\b\b\b\b\b\b\b\b\b\b\b\b\b\b\b\b\b\b\b\b\b\b\b\b\b\b\b\b\b\b\b\b\b\b\b\b\b\b\b\b\b\b\b\b\b\b\b\b\b\b\b\b\b\b\b\b\b\b\b\b\b\b\b\b\b\b\b\b\b\b\b\b\b\b\b\b\b\b\b\b\b\b\b\b\b\b\b\b\b\b\b\b\b\b\r154/154 [==============================] - 3s 19ms/step - categorical_accuracy: 0.9151 - auc: 0.9757 - student_loss: 0.2275 - distillation_loss: 0.0084 - val_categorical_accuracy: 0.8646 - val_auc: 0.9229 - val_student_loss: 0.0909\n",
            "Epoch 87/100\n",
            "154/154 [==============================] - ETA: 0s - categorical_accuracy: 0.9123 - auc: 0.9748 - student_loss: 0.2256 - distillation_loss: 0.0086"
          ]
        },
        {
          "output_type": "stream",
          "name": "stderr",
          "text": [
            "WARNING:tensorflow:Early stopping conditioned on metric `val_loss` which is not available. Available metrics are: categorical_accuracy,auc,student_loss,distillation_loss,val_categorical_accuracy,val_auc,val_student_loss\n"
          ]
        },
        {
          "output_type": "stream",
          "name": "stdout",
          "text": [
            "\b\b\b\b\b\b\b\b\b\b\b\b\b\b\b\b\b\b\b\b\b\b\b\b\b\b\b\b\b\b\b\b\b\b\b\b\b\b\b\b\b\b\b\b\b\b\b\b\b\b\b\b\b\b\b\b\b\b\b\b\b\b\b\b\b\b\b\b\b\b\b\b\b\b\b\b\b\b\b\b\b\b\b\b\b\b\b\b\b\b\b\b\b\b\b\b\b\b\b\b\b\b\b\b\b\b\b\b\b\b\b\b\b\b\b\b\b\b\b\b\b\b\b\b\b\b\b\b\b\b\b\b\b\b\b\b\b\b\b\b\b\b\b\b\b\b\r154/154 [==============================] - 3s 19ms/step - categorical_accuracy: 0.9123 - auc: 0.9748 - student_loss: 0.2251 - distillation_loss: 0.0086 - val_categorical_accuracy: 0.8613 - val_auc: 0.9226 - val_student_loss: 0.1015\n",
            "Epoch 88/100\n",
            "152/154 [============================>.] - ETA: 0s - categorical_accuracy: 0.9174 - auc: 0.9775 - student_loss: 0.2217 - distillation_loss: 0.0087"
          ]
        },
        {
          "output_type": "stream",
          "name": "stderr",
          "text": [
            "WARNING:tensorflow:Early stopping conditioned on metric `val_loss` which is not available. Available metrics are: categorical_accuracy,auc,student_loss,distillation_loss,val_categorical_accuracy,val_auc,val_student_loss\n"
          ]
        },
        {
          "output_type": "stream",
          "name": "stdout",
          "text": [
            "\b\b\b\b\b\b\b\b\b\b\b\b\b\b\b\b\b\b\b\b\b\b\b\b\b\b\b\b\b\b\b\b\b\b\b\b\b\b\b\b\b\b\b\b\b\b\b\b\b\b\b\b\b\b\b\b\b\b\b\b\b\b\b\b\b\b\b\b\b\b\b\b\b\b\b\b\b\b\b\b\b\b\b\b\b\b\b\b\b\b\b\b\b\b\b\b\b\b\b\b\b\b\b\b\b\b\b\b\b\b\b\b\b\b\b\b\b\b\b\b\b\b\b\b\b\b\b\b\b\b\b\b\b\b\b\b\b\b\b\b\b\b\b\b\b\b\r154/154 [==============================] - 3s 22ms/step - categorical_accuracy: 0.9176 - auc: 0.9777 - student_loss: 0.2216 - distillation_loss: 0.0090 - val_categorical_accuracy: 0.8662 - val_auc: 0.9186 - val_student_loss: 0.1266\n",
            "Epoch 89/100\n",
            "154/154 [==============================] - ETA: 0s - categorical_accuracy: 0.9172 - auc: 0.9758 - student_loss: 0.2237 - distillation_loss: 0.0089"
          ]
        },
        {
          "output_type": "stream",
          "name": "stderr",
          "text": [
            "WARNING:tensorflow:Early stopping conditioned on metric `val_loss` which is not available. Available metrics are: categorical_accuracy,auc,student_loss,distillation_loss,val_categorical_accuracy,val_auc,val_student_loss\n"
          ]
        },
        {
          "output_type": "stream",
          "name": "stdout",
          "text": [
            "\b\b\b\b\b\b\b\b\b\b\b\b\b\b\b\b\b\b\b\b\b\b\b\b\b\b\b\b\b\b\b\b\b\b\b\b\b\b\b\b\b\b\b\b\b\b\b\b\b\b\b\b\b\b\b\b\b\b\b\b\b\b\b\b\b\b\b\b\b\b\b\b\b\b\b\b\b\b\b\b\b\b\b\b\b\b\b\b\b\b\b\b\b\b\b\b\b\b\b\b\b\b\b\b\b\b\b\b\b\b\b\b\b\b\b\b\b\b\b\b\b\b\b\b\b\b\b\b\b\b\b\b\b\b\b\b\b\b\b\b\b\b\b\b\b\b\r154/154 [==============================] - 3s 20ms/step - categorical_accuracy: 0.9172 - auc: 0.9758 - student_loss: 0.2233 - distillation_loss: 0.0090 - val_categorical_accuracy: 0.8613 - val_auc: 0.9213 - val_student_loss: 0.1004\n",
            "Epoch 90/100\n",
            "152/154 [============================>.] - ETA: 0s - categorical_accuracy: 0.9165 - auc: 0.9777 - student_loss: 0.2192 - distillation_loss: 0.0086"
          ]
        },
        {
          "output_type": "stream",
          "name": "stderr",
          "text": [
            "WARNING:tensorflow:Early stopping conditioned on metric `val_loss` which is not available. Available metrics are: categorical_accuracy,auc,student_loss,distillation_loss,val_categorical_accuracy,val_auc,val_student_loss\n"
          ]
        },
        {
          "output_type": "stream",
          "name": "stdout",
          "text": [
            "\b\b\b\b\b\b\b\b\b\b\b\b\b\b\b\b\b\b\b\b\b\b\b\b\b\b\b\b\b\b\b\b\b\b\b\b\b\b\b\b\b\b\b\b\b\b\b\b\b\b\b\b\b\b\b\b\b\b\b\b\b\b\b\b\b\b\b\b\b\b\b\b\b\b\b\b\b\b\b\b\b\b\b\b\b\b\b\b\b\b\b\b\b\b\b\b\b\b\b\b\b\b\b\b\b\b\b\b\b\b\b\b\b\b\b\b\b\b\b\b\b\b\b\b\b\b\b\b\b\b\b\b\b\b\b\b\b\b\b\b\b\b\b\b\b\b\r154/154 [==============================] - 3s 18ms/step - categorical_accuracy: 0.9168 - auc: 0.9778 - student_loss: 0.2173 - distillation_loss: 0.0086 - val_categorical_accuracy: 0.8597 - val_auc: 0.9196 - val_student_loss: 0.0923\n",
            "Epoch 91/100\n",
            "154/154 [==============================] - ETA: 0s - categorical_accuracy: 0.9200 - auc: 0.9768 - student_loss: 0.2208 - distillation_loss: 0.0088"
          ]
        },
        {
          "output_type": "stream",
          "name": "stderr",
          "text": [
            "WARNING:tensorflow:Early stopping conditioned on metric `val_loss` which is not available. Available metrics are: categorical_accuracy,auc,student_loss,distillation_loss,val_categorical_accuracy,val_auc,val_student_loss\n"
          ]
        },
        {
          "output_type": "stream",
          "name": "stdout",
          "text": [
            "\b\b\b\b\b\b\b\b\b\b\b\b\b\b\b\b\b\b\b\b\b\b\b\b\b\b\b\b\b\b\b\b\b\b\b\b\b\b\b\b\b\b\b\b\b\b\b\b\b\b\b\b\b\b\b\b\b\b\b\b\b\b\b\b\b\b\b\b\b\b\b\b\b\b\b\b\b\b\b\b\b\b\b\b\b\b\b\b\b\b\b\b\b\b\b\b\b\b\b\b\b\b\b\b\b\b\b\b\b\b\b\b\b\b\b\b\b\b\b\b\b\b\b\b\b\b\b\b\b\b\b\b\b\b\b\b\b\b\b\b\b\b\b\b\b\b\r154/154 [==============================] - 3s 19ms/step - categorical_accuracy: 0.9200 - auc: 0.9768 - student_loss: 0.2211 - distillation_loss: 0.0088 - val_categorical_accuracy: 0.8613 - val_auc: 0.9204 - val_student_loss: 0.1252\n",
            "Epoch 92/100\n",
            "152/154 [============================>.] - ETA: 0s - categorical_accuracy: 0.9161 - auc: 0.9767 - student_loss: 0.2225 - distillation_loss: 0.0086"
          ]
        },
        {
          "output_type": "stream",
          "name": "stderr",
          "text": [
            "WARNING:tensorflow:Early stopping conditioned on metric `val_loss` which is not available. Available metrics are: categorical_accuracy,auc,student_loss,distillation_loss,val_categorical_accuracy,val_auc,val_student_loss\n"
          ]
        },
        {
          "output_type": "stream",
          "name": "stdout",
          "text": [
            "\b\b\b\b\b\b\b\b\b\b\b\b\b\b\b\b\b\b\b\b\b\b\b\b\b\b\b\b\b\b\b\b\b\b\b\b\b\b\b\b\b\b\b\b\b\b\b\b\b\b\b\b\b\b\b\b\b\b\b\b\b\b\b\b\b\b\b\b\b\b\b\b\b\b\b\b\b\b\b\b\b\b\b\b\b\b\b\b\b\b\b\b\b\b\b\b\b\b\b\b\b\b\b\b\b\b\b\b\b\b\b\b\b\b\b\b\b\b\b\b\b\b\b\b\b\b\b\b\b\b\b\b\b\b\b\b\b\b\b\b\b\b\b\b\b\b\r154/154 [==============================] - 3s 19ms/step - categorical_accuracy: 0.9155 - auc: 0.9767 - student_loss: 0.2212 - distillation_loss: 0.0086 - val_categorical_accuracy: 0.8646 - val_auc: 0.9208 - val_student_loss: 0.0959\n",
            "Epoch 93/100\n",
            "151/154 [============================>.] - ETA: 0s - categorical_accuracy: 0.9218 - auc: 0.9778 - student_loss: 0.2188 - distillation_loss: 0.0089"
          ]
        },
        {
          "output_type": "stream",
          "name": "stderr",
          "text": [
            "WARNING:tensorflow:Early stopping conditioned on metric `val_loss` which is not available. Available metrics are: categorical_accuracy,auc,student_loss,distillation_loss,val_categorical_accuracy,val_auc,val_student_loss\n"
          ]
        },
        {
          "output_type": "stream",
          "name": "stdout",
          "text": [
            "\b\b\b\b\b\b\b\b\b\b\b\b\b\b\b\b\b\b\b\b\b\b\b\b\b\b\b\b\b\b\b\b\b\b\b\b\b\b\b\b\b\b\b\b\b\b\b\b\b\b\b\b\b\b\b\b\b\b\b\b\b\b\b\b\b\b\b\b\b\b\b\b\b\b\b\b\b\b\b\b\b\b\b\b\b\b\b\b\b\b\b\b\b\b\b\b\b\b\b\b\b\b\b\b\b\b\b\b\b\b\b\b\b\b\b\b\b\b\b\b\b\b\b\b\b\b\b\b\b\b\b\b\b\b\b\b\b\b\b\b\b\b\b\b\b\b\r154/154 [==============================] - 3s 19ms/step - categorical_accuracy: 0.9229 - auc: 0.9782 - student_loss: 0.2162 - distillation_loss: 0.0088 - val_categorical_accuracy: 0.8630 - val_auc: 0.9208 - val_student_loss: 0.1116\n",
            "Epoch 94/100\n",
            "152/154 [============================>.] - ETA: 0s - categorical_accuracy: 0.9169 - auc: 0.9778 - student_loss: 0.2170 - distillation_loss: 0.0088"
          ]
        },
        {
          "output_type": "stream",
          "name": "stderr",
          "text": [
            "WARNING:tensorflow:Early stopping conditioned on metric `val_loss` which is not available. Available metrics are: categorical_accuracy,auc,student_loss,distillation_loss,val_categorical_accuracy,val_auc,val_student_loss\n"
          ]
        },
        {
          "output_type": "stream",
          "name": "stdout",
          "text": [
            "\b\b\b\b\b\b\b\b\b\b\b\b\b\b\b\b\b\b\b\b\b\b\b\b\b\b\b\b\b\b\b\b\b\b\b\b\b\b\b\b\b\b\b\b\b\b\b\b\b\b\b\b\b\b\b\b\b\b\b\b\b\b\b\b\b\b\b\b\b\b\b\b\b\b\b\b\b\b\b\b\b\b\b\b\b\b\b\b\b\b\b\b\b\b\b\b\b\b\b\b\b\b\b\b\b\b\b\b\b\b\b\b\b\b\b\b\b\b\b\b\b\b\b\b\b\b\b\b\b\b\b\b\b\b\b\b\b\b\b\b\b\b\b\b\b\b\r154/154 [==============================] - 3s 19ms/step - categorical_accuracy: 0.9172 - auc: 0.9779 - student_loss: 0.2149 - distillation_loss: 0.0087 - val_categorical_accuracy: 0.8564 - val_auc: 0.9175 - val_student_loss: 0.1031\n",
            "Epoch 95/100\n",
            "153/154 [============================>.] - ETA: 0s - categorical_accuracy: 0.9203 - auc: 0.9792 - student_loss: 0.2139 - distillation_loss: 0.0090"
          ]
        },
        {
          "output_type": "stream",
          "name": "stderr",
          "text": [
            "WARNING:tensorflow:Early stopping conditioned on metric `val_loss` which is not available. Available metrics are: categorical_accuracy,auc,student_loss,distillation_loss,val_categorical_accuracy,val_auc,val_student_loss\n"
          ]
        },
        {
          "output_type": "stream",
          "name": "stdout",
          "text": [
            "\b\b\b\b\b\b\b\b\b\b\b\b\b\b\b\b\b\b\b\b\b\b\b\b\b\b\b\b\b\b\b\b\b\b\b\b\b\b\b\b\b\b\b\b\b\b\b\b\b\b\b\b\b\b\b\b\b\b\b\b\b\b\b\b\b\b\b\b\b\b\b\b\b\b\b\b\b\b\b\b\b\b\b\b\b\b\b\b\b\b\b\b\b\b\b\b\b\b\b\b\b\b\b\b\b\b\b\b\b\b\b\b\b\b\b\b\b\b\b\b\b\b\b\b\b\b\b\b\b\b\b\b\b\b\b\b\b\b\b\b\b\b\b\b\b\b\r154/154 [==============================] - 3s 19ms/step - categorical_accuracy: 0.9200 - auc: 0.9791 - student_loss: 0.2166 - distillation_loss: 0.0089 - val_categorical_accuracy: 0.8630 - val_auc: 0.9222 - val_student_loss: 0.1069\n",
            "Epoch 96/100\n",
            "153/154 [============================>.] - ETA: 0s - categorical_accuracy: 0.9203 - auc: 0.9782 - student_loss: 0.2164 - distillation_loss: 0.0089"
          ]
        },
        {
          "output_type": "stream",
          "name": "stderr",
          "text": [
            "WARNING:tensorflow:Early stopping conditioned on metric `val_loss` which is not available. Available metrics are: categorical_accuracy,auc,student_loss,distillation_loss,val_categorical_accuracy,val_auc,val_student_loss\n"
          ]
        },
        {
          "output_type": "stream",
          "name": "stdout",
          "text": [
            "\b\b\b\b\b\b\b\b\b\b\b\b\b\b\b\b\b\b\b\b\b\b\b\b\b\b\b\b\b\b\b\b\b\b\b\b\b\b\b\b\b\b\b\b\b\b\b\b\b\b\b\b\b\b\b\b\b\b\b\b\b\b\b\b\b\b\b\b\b\b\b\b\b\b\b\b\b\b\b\b\b\b\b\b\b\b\b\b\b\b\b\b\b\b\b\b\b\b\b\b\b\b\b\b\b\b\b\b\b\b\b\b\b\b\b\b\b\b\b\b\b\b\b\b\b\b\b\b\b\b\b\b\b\b\b\b\b\b\b\b\b\b\b\b\b\b\r154/154 [==============================] - 3s 19ms/step - categorical_accuracy: 0.9204 - auc: 0.9782 - student_loss: 0.2155 - distillation_loss: 0.0090 - val_categorical_accuracy: 0.8613 - val_auc: 0.9212 - val_student_loss: 0.1047\n",
            "Epoch 97/100\n",
            "151/154 [============================>.] - ETA: 0s - categorical_accuracy: 0.9147 - auc: 0.9784 - student_loss: 0.2159 - distillation_loss: 0.0091"
          ]
        },
        {
          "output_type": "stream",
          "name": "stderr",
          "text": [
            "WARNING:tensorflow:Early stopping conditioned on metric `val_loss` which is not available. Available metrics are: categorical_accuracy,auc,student_loss,distillation_loss,val_categorical_accuracy,val_auc,val_student_loss\n"
          ]
        },
        {
          "output_type": "stream",
          "name": "stdout",
          "text": [
            "\b\b\b\b\b\b\b\b\b\b\b\b\b\b\b\b\b\b\b\b\b\b\b\b\b\b\b\b\b\b\b\b\b\b\b\b\b\b\b\b\b\b\b\b\b\b\b\b\b\b\b\b\b\b\b\b\b\b\b\b\b\b\b\b\b\b\b\b\b\b\b\b\b\b\b\b\b\b\b\b\b\b\b\b\b\b\b\b\b\b\b\b\b\b\b\b\b\b\b\b\b\b\b\b\b\b\b\b\b\b\b\b\b\b\b\b\b\b\b\b\b\b\b\b\b\b\b\b\b\b\b\b\b\b\b\b\b\b\b\b\b\b\b\b\b\b\r154/154 [==============================] - 3s 20ms/step - categorical_accuracy: 0.9160 - auc: 0.9788 - student_loss: 0.2154 - distillation_loss: 0.0091 - val_categorical_accuracy: 0.8662 - val_auc: 0.9183 - val_student_loss: 0.1189\n",
            "Epoch 98/100\n",
            "154/154 [==============================] - ETA: 0s - categorical_accuracy: 0.9180 - auc: 0.9784 - student_loss: 0.2147 - distillation_loss: 0.0090"
          ]
        },
        {
          "output_type": "stream",
          "name": "stderr",
          "text": [
            "WARNING:tensorflow:Early stopping conditioned on metric `val_loss` which is not available. Available metrics are: categorical_accuracy,auc,student_loss,distillation_loss,val_categorical_accuracy,val_auc,val_student_loss\n"
          ]
        },
        {
          "output_type": "stream",
          "name": "stdout",
          "text": [
            "\b\b\b\b\b\b\b\b\b\b\b\b\b\b\b\b\b\b\b\b\b\b\b\b\b\b\b\b\b\b\b\b\b\b\b\b\b\b\b\b\b\b\b\b\b\b\b\b\b\b\b\b\b\b\b\b\b\b\b\b\b\b\b\b\b\b\b\b\b\b\b\b\b\b\b\b\b\b\b\b\b\b\b\b\b\b\b\b\b\b\b\b\b\b\b\b\b\b\b\b\b\b\b\b\b\b\b\b\b\b\b\b\b\b\b\b\b\b\b\b\b\b\b\b\b\b\b\b\b\b\b\b\b\b\b\b\b\b\b\b\b\b\b\b\b\b\r154/154 [==============================] - 3s 19ms/step - categorical_accuracy: 0.9180 - auc: 0.9784 - student_loss: 0.2151 - distillation_loss: 0.0090 - val_categorical_accuracy: 0.8597 - val_auc: 0.9201 - val_student_loss: 0.1100\n",
            "Epoch 99/100\n",
            "153/154 [============================>.] - ETA: 0s - categorical_accuracy: 0.9191 - auc: 0.9802 - student_loss: 0.2113 - distillation_loss: 0.0092"
          ]
        },
        {
          "output_type": "stream",
          "name": "stderr",
          "text": [
            "WARNING:tensorflow:Early stopping conditioned on metric `val_loss` which is not available. Available metrics are: categorical_accuracy,auc,student_loss,distillation_loss,val_categorical_accuracy,val_auc,val_student_loss\n"
          ]
        },
        {
          "output_type": "stream",
          "name": "stdout",
          "text": [
            "\b\b\b\b\b\b\b\b\b\b\b\b\b\b\b\b\b\b\b\b\b\b\b\b\b\b\b\b\b\b\b\b\b\b\b\b\b\b\b\b\b\b\b\b\b\b\b\b\b\b\b\b\b\b\b\b\b\b\b\b\b\b\b\b\b\b\b\b\b\b\b\b\b\b\b\b\b\b\b\b\b\b\b\b\b\b\b\b\b\b\b\b\b\b\b\b\b\b\b\b\b\b\b\b\b\b\b\b\b\b\b\b\b\b\b\b\b\b\b\b\b\b\b\b\b\b\b\b\b\b\b\b\b\b\b\b\b\b\b\b\b\b\b\b\b\b\r154/154 [==============================] - 3s 19ms/step - categorical_accuracy: 0.9192 - auc: 0.9802 - student_loss: 0.2102 - distillation_loss: 0.0092 - val_categorical_accuracy: 0.8613 - val_auc: 0.9170 - val_student_loss: 0.1225\n",
            "Epoch 100/100\n",
            "153/154 [============================>.] - ETA: 0s - categorical_accuracy: 0.9208 - auc: 0.9796 - student_loss: 0.2126 - distillation_loss: 0.0088"
          ]
        },
        {
          "output_type": "stream",
          "name": "stderr",
          "text": [
            "WARNING:tensorflow:Early stopping conditioned on metric `val_loss` which is not available. Available metrics are: categorical_accuracy,auc,student_loss,distillation_loss,val_categorical_accuracy,val_auc,val_student_loss\n"
          ]
        },
        {
          "output_type": "stream",
          "name": "stdout",
          "text": [
            "154/154 [==============================] - 3s 20ms/step - categorical_accuracy: 0.9204 - auc: 0.9796 - student_loss: 0.2136 - distillation_loss: 0.0087 - val_categorical_accuracy: 0.8630 - val_auc: 0.9170 - val_student_loss: 0.1259\n",
            "20/20 [==============================] - 0s 7ms/step - categorical_accuracy: 0.8630 - auc: 0.9170 - student_loss: 0.3436\n",
            "20/20 [==============================] - 1s 7ms/step\n",
            "[[245  58]\n",
            " [ 26 284]]\n",
            "Start train Fold  2\n",
            "Epoch 1/100\n"
          ]
        },
        {
          "output_type": "stream",
          "name": "stderr",
          "text": [
            "/usr/local/lib/python3.10/dist-packages/keras/src/backend.py:5575: UserWarning: \"`categorical_crossentropy` received `from_logits=True`, but the `output` argument was produced by a Softmax activation and thus does not represent logits. Was this intended?\n",
            "  output, from_logits = _get_logits(\n"
          ]
        },
        {
          "output_type": "stream",
          "name": "stdout",
          "text": [
            "152/154 [============================>.] - ETA: 0s - categorical_accuracy: 0.5822 - auc: 0.6542 - student_loss: 0.6620 - distillation_loss: 0.0498"
          ]
        },
        {
          "output_type": "stream",
          "name": "stderr",
          "text": [
            "WARNING:tensorflow:Early stopping conditioned on metric `val_loss` which is not available. Available metrics are: categorical_accuracy,auc,student_loss,distillation_loss,val_categorical_accuracy,val_auc,val_student_loss\n"
          ]
        },
        {
          "output_type": "stream",
          "name": "stdout",
          "text": [
            "\b\b\b\b\b\b\b\b\b\b\b\b\b\b\b\b\b\b\b\b\b\b\b\b\b\b\b\b\b\b\b\b\b\b\b\b\b\b\b\b\b\b\b\b\b\b\b\b\b\b\b\b\b\b\b\b\b\b\b\b\b\b\b\b\b\b\b\b\b\b\b\b\b\b\b\b\b\b\b\b\b\b\b\b\b\b\b\b\b\b\b\b\b\b\b\b\b\b\b\b\b\b\b\b\b\b\b\b\b\b\b\b\b\b\b\b\b\b\b\b\b\b\b\b\b\b\b\b\b\b\b\b\b\b\b\b\b\b\b\b\b\b\b\b\b\b\r154/154 [==============================] - 9s 25ms/step - categorical_accuracy: 0.5834 - auc: 0.6558 - student_loss: 0.6592 - distillation_loss: 0.0498 - val_categorical_accuracy: 0.6770 - val_auc: 0.7464 - val_student_loss: 0.8642\n",
            "Epoch 2/100\n",
            "154/154 [==============================] - ETA: 0s - categorical_accuracy: 0.7719 - auc: 0.8384 - student_loss: 0.5130 - distillation_loss: 0.0263"
          ]
        },
        {
          "output_type": "stream",
          "name": "stderr",
          "text": [
            "WARNING:tensorflow:Early stopping conditioned on metric `val_loss` which is not available. Available metrics are: categorical_accuracy,auc,student_loss,distillation_loss,val_categorical_accuracy,val_auc,val_student_loss\n"
          ]
        },
        {
          "output_type": "stream",
          "name": "stdout",
          "text": [
            "\b\b\b\b\b\b\b\b\b\b\b\b\b\b\b\b\b\b\b\b\b\b\b\b\b\b\b\b\b\b\b\b\b\b\b\b\b\b\b\b\b\b\b\b\b\b\b\b\b\b\b\b\b\b\b\b\b\b\b\b\b\b\b\b\b\b\b\b\b\b\b\b\b\b\b\b\b\b\b\b\b\b\b\b\b\b\b\b\b\b\b\b\b\b\b\b\b\b\b\b\b\b\b\b\b\b\b\b\b\b\b\b\b\b\b\b\b\b\b\b\b\b\b\b\b\b\b\b\b\b\b\b\b\b\b\b\b\b\b\b\b\b\b\b\b\b\r154/154 [==============================] - 3s 20ms/step - categorical_accuracy: 0.7719 - auc: 0.8384 - student_loss: 0.5138 - distillation_loss: 0.0262 - val_categorical_accuracy: 0.7423 - val_auc: 0.7929 - val_student_loss: 1.0107\n",
            "Epoch 3/100\n",
            "153/154 [============================>.] - ETA: 0s - categorical_accuracy: 0.7970 - auc: 0.8640 - student_loss: 0.4666 - distillation_loss: 0.0240"
          ]
        },
        {
          "output_type": "stream",
          "name": "stderr",
          "text": [
            "WARNING:tensorflow:Early stopping conditioned on metric `val_loss` which is not available. Available metrics are: categorical_accuracy,auc,student_loss,distillation_loss,val_categorical_accuracy,val_auc,val_student_loss\n"
          ]
        },
        {
          "output_type": "stream",
          "name": "stdout",
          "text": [
            "\b\b\b\b\b\b\b\b\b\b\b\b\b\b\b\b\b\b\b\b\b\b\b\b\b\b\b\b\b\b\b\b\b\b\b\b\b\b\b\b\b\b\b\b\b\b\b\b\b\b\b\b\b\b\b\b\b\b\b\b\b\b\b\b\b\b\b\b\b\b\b\b\b\b\b\b\b\b\b\b\b\b\b\b\b\b\b\b\b\b\b\b\b\b\b\b\b\b\b\b\b\b\b\b\b\b\b\b\b\b\b\b\b\b\b\b\b\b\b\b\b\b\b\b\b\b\b\b\b\b\b\b\b\b\b\b\b\b\b\b\b\b\b\b\b\b\r154/154 [==============================] - 3s 19ms/step - categorical_accuracy: 0.7968 - auc: 0.8641 - student_loss: 0.4664 - distillation_loss: 0.0241 - val_categorical_accuracy: 0.7504 - val_auc: 0.8103 - val_student_loss: 0.9644\n",
            "Epoch 4/100\n",
            "152/154 [============================>.] - ETA: 0s - categorical_accuracy: 0.8088 - auc: 0.8761 - student_loss: 0.4472 - distillation_loss: 0.0232"
          ]
        },
        {
          "output_type": "stream",
          "name": "stderr",
          "text": [
            "WARNING:tensorflow:Early stopping conditioned on metric `val_loss` which is not available. Available metrics are: categorical_accuracy,auc,student_loss,distillation_loss,val_categorical_accuracy,val_auc,val_student_loss\n"
          ]
        },
        {
          "output_type": "stream",
          "name": "stdout",
          "text": [
            "\b\b\b\b\b\b\b\b\b\b\b\b\b\b\b\b\b\b\b\b\b\b\b\b\b\b\b\b\b\b\b\b\b\b\b\b\b\b\b\b\b\b\b\b\b\b\b\b\b\b\b\b\b\b\b\b\b\b\b\b\b\b\b\b\b\b\b\b\b\b\b\b\b\b\b\b\b\b\b\b\b\b\b\b\b\b\b\b\b\b\b\b\b\b\b\b\b\b\b\b\b\b\b\b\b\b\b\b\b\b\b\b\b\b\b\b\b\b\b\b\b\b\b\b\b\b\b\b\b\b\b\b\b\b\b\b\b\b\b\b\b\b\b\b\b\b\r154/154 [==============================] - 3s 19ms/step - categorical_accuracy: 0.8091 - auc: 0.8761 - student_loss: 0.4456 - distillation_loss: 0.0235 - val_categorical_accuracy: 0.7569 - val_auc: 0.8334 - val_student_loss: 0.8376\n",
            "Epoch 5/100\n",
            "154/154 [==============================] - ETA: 0s - categorical_accuracy: 0.8140 - auc: 0.8876 - student_loss: 0.4289 - distillation_loss: 0.0215"
          ]
        },
        {
          "output_type": "stream",
          "name": "stderr",
          "text": [
            "WARNING:tensorflow:Early stopping conditioned on metric `val_loss` which is not available. Available metrics are: categorical_accuracy,auc,student_loss,distillation_loss,val_categorical_accuracy,val_auc,val_student_loss\n"
          ]
        },
        {
          "output_type": "stream",
          "name": "stdout",
          "text": [
            "\b\b\b\b\b\b\b\b\b\b\b\b\b\b\b\b\b\b\b\b\b\b\b\b\b\b\b\b\b\b\b\b\b\b\b\b\b\b\b\b\b\b\b\b\b\b\b\b\b\b\b\b\b\b\b\b\b\b\b\b\b\b\b\b\b\b\b\b\b\b\b\b\b\b\b\b\b\b\b\b\b\b\b\b\b\b\b\b\b\b\b\b\b\b\b\b\b\b\b\b\b\b\b\b\b\b\b\b\b\b\b\b\b\b\b\b\b\b\b\b\b\b\b\b\b\b\b\b\b\b\b\b\b\b\b\b\b\b\b\b\b\b\b\b\b\b\r154/154 [==============================] - 3s 20ms/step - categorical_accuracy: 0.8140 - auc: 0.8876 - student_loss: 0.4297 - distillation_loss: 0.0217 - val_categorical_accuracy: 0.7635 - val_auc: 0.8458 - val_student_loss: 0.8115\n",
            "Epoch 6/100\n",
            "154/154 [==============================] - ETA: 0s - categorical_accuracy: 0.8237 - auc: 0.9000 - student_loss: 0.4100 - distillation_loss: 0.0189"
          ]
        },
        {
          "output_type": "stream",
          "name": "stderr",
          "text": [
            "WARNING:tensorflow:Early stopping conditioned on metric `val_loss` which is not available. Available metrics are: categorical_accuracy,auc,student_loss,distillation_loss,val_categorical_accuracy,val_auc,val_student_loss\n"
          ]
        },
        {
          "output_type": "stream",
          "name": "stdout",
          "text": [
            "\b\b\b\b\b\b\b\b\b\b\b\b\b\b\b\b\b\b\b\b\b\b\b\b\b\b\b\b\b\b\b\b\b\b\b\b\b\b\b\b\b\b\b\b\b\b\b\b\b\b\b\b\b\b\b\b\b\b\b\b\b\b\b\b\b\b\b\b\b\b\b\b\b\b\b\b\b\b\b\b\b\b\b\b\b\b\b\b\b\b\b\b\b\b\b\b\b\b\b\b\b\b\b\b\b\b\b\b\b\b\b\b\b\b\b\b\b\b\b\b\b\b\b\b\b\b\b\b\b\b\b\b\b\b\b\b\b\b\b\b\b\b\b\b\b\b\r154/154 [==============================] - 3s 21ms/step - categorical_accuracy: 0.8237 - auc: 0.9000 - student_loss: 0.4110 - distillation_loss: 0.0189 - val_categorical_accuracy: 0.7765 - val_auc: 0.8663 - val_student_loss: 0.7145\n",
            "Epoch 7/100\n",
            "153/154 [============================>.] - ETA: 0s - categorical_accuracy: 0.8350 - auc: 0.9114 - student_loss: 0.3888 - distillation_loss: 0.0165"
          ]
        },
        {
          "output_type": "stream",
          "name": "stderr",
          "text": [
            "WARNING:tensorflow:Early stopping conditioned on metric `val_loss` which is not available. Available metrics are: categorical_accuracy,auc,student_loss,distillation_loss,val_categorical_accuracy,val_auc,val_student_loss\n"
          ]
        },
        {
          "output_type": "stream",
          "name": "stdout",
          "text": [
            "\b\b\b\b\b\b\b\b\b\b\b\b\b\b\b\b\b\b\b\b\b\b\b\b\b\b\b\b\b\b\b\b\b\b\b\b\b\b\b\b\b\b\b\b\b\b\b\b\b\b\b\b\b\b\b\b\b\b\b\b\b\b\b\b\b\b\b\b\b\b\b\b\b\b\b\b\b\b\b\b\b\b\b\b\b\b\b\b\b\b\b\b\b\b\b\b\b\b\b\b\b\b\b\b\b\b\b\b\b\b\b\b\b\b\b\b\b\b\b\b\b\b\b\b\b\b\b\b\b\b\b\b\b\b\b\b\b\b\b\b\b\b\b\b\b\b\r154/154 [==============================] - 3s 19ms/step - categorical_accuracy: 0.8352 - auc: 0.9115 - student_loss: 0.3861 - distillation_loss: 0.0165 - val_categorical_accuracy: 0.7847 - val_auc: 0.8749 - val_student_loss: 0.7750\n",
            "Epoch 8/100\n",
            "152/154 [============================>.] - ETA: 0s - categorical_accuracy: 0.8446 - auc: 0.9196 - student_loss: 0.3695 - distillation_loss: 0.0152"
          ]
        },
        {
          "output_type": "stream",
          "name": "stderr",
          "text": [
            "WARNING:tensorflow:Early stopping conditioned on metric `val_loss` which is not available. Available metrics are: categorical_accuracy,auc,student_loss,distillation_loss,val_categorical_accuracy,val_auc,val_student_loss\n"
          ]
        },
        {
          "output_type": "stream",
          "name": "stdout",
          "text": [
            "\b\b\b\b\b\b\b\b\b\b\b\b\b\b\b\b\b\b\b\b\b\b\b\b\b\b\b\b\b\b\b\b\b\b\b\b\b\b\b\b\b\b\b\b\b\b\b\b\b\b\b\b\b\b\b\b\b\b\b\b\b\b\b\b\b\b\b\b\b\b\b\b\b\b\b\b\b\b\b\b\b\b\b\b\b\b\b\b\b\b\b\b\b\b\b\b\b\b\b\b\b\b\b\b\b\b\b\b\b\b\b\b\b\b\b\b\b\b\b\b\b\b\b\b\b\b\b\b\b\b\b\b\b\b\b\b\b\b\b\b\b\b\b\b\b\b\r154/154 [==============================] - 3s 19ms/step - categorical_accuracy: 0.8446 - auc: 0.9199 - student_loss: 0.3693 - distillation_loss: 0.0149 - val_categorical_accuracy: 0.8026 - val_auc: 0.8906 - val_student_loss: 0.6873\n",
            "Epoch 9/100\n",
            "151/154 [============================>.] - ETA: 0s - categorical_accuracy: 0.8543 - auc: 0.9252 - student_loss: 0.3572 - distillation_loss: 0.0135"
          ]
        },
        {
          "output_type": "stream",
          "name": "stderr",
          "text": [
            "WARNING:tensorflow:Early stopping conditioned on metric `val_loss` which is not available. Available metrics are: categorical_accuracy,auc,student_loss,distillation_loss,val_categorical_accuracy,val_auc,val_student_loss\n"
          ]
        },
        {
          "output_type": "stream",
          "name": "stdout",
          "text": [
            "\b\b\b\b\b\b\b\b\b\b\b\b\b\b\b\b\b\b\b\b\b\b\b\b\b\b\b\b\b\b\b\b\b\b\b\b\b\b\b\b\b\b\b\b\b\b\b\b\b\b\b\b\b\b\b\b\b\b\b\b\b\b\b\b\b\b\b\b\b\b\b\b\b\b\b\b\b\b\b\b\b\b\b\b\b\b\b\b\b\b\b\b\b\b\b\b\b\b\b\b\b\b\b\b\b\b\b\b\b\b\b\b\b\b\b\b\b\b\b\b\b\b\b\b\b\b\b\b\b\b\b\b\b\b\b\b\b\b\b\b\b\b\b\b\b\b\r154/154 [==============================] - 3s 19ms/step - categorical_accuracy: 0.8543 - auc: 0.9254 - student_loss: 0.3567 - distillation_loss: 0.0135 - val_categorical_accuracy: 0.8059 - val_auc: 0.8929 - val_student_loss: 0.7526\n",
            "Epoch 10/100\n",
            "152/154 [============================>.] - ETA: 0s - categorical_accuracy: 0.8590 - auc: 0.9289 - student_loss: 0.3460 - distillation_loss: 0.0130"
          ]
        },
        {
          "output_type": "stream",
          "name": "stderr",
          "text": [
            "WARNING:tensorflow:Early stopping conditioned on metric `val_loss` which is not available. Available metrics are: categorical_accuracy,auc,student_loss,distillation_loss,val_categorical_accuracy,val_auc,val_student_loss\n"
          ]
        },
        {
          "output_type": "stream",
          "name": "stdout",
          "text": [
            "\b\b\b\b\b\b\b\b\b\b\b\b\b\b\b\b\b\b\b\b\b\b\b\b\b\b\b\b\b\b\b\b\b\b\b\b\b\b\b\b\b\b\b\b\b\b\b\b\b\b\b\b\b\b\b\b\b\b\b\b\b\b\b\b\b\b\b\b\b\b\b\b\b\b\b\b\b\b\b\b\b\b\b\b\b\b\b\b\b\b\b\b\b\b\b\b\b\b\b\b\b\b\b\b\b\b\b\b\b\b\b\b\b\b\b\b\b\b\b\b\b\b\b\b\b\b\b\b\b\b\b\b\b\b\b\b\b\b\b\b\b\b\b\b\b\b\r154/154 [==============================] - 3s 20ms/step - categorical_accuracy: 0.8584 - auc: 0.9282 - student_loss: 0.3550 - distillation_loss: 0.0131 - val_categorical_accuracy: 0.8026 - val_auc: 0.8987 - val_student_loss: 0.6601\n",
            "Epoch 11/100\n",
            "152/154 [============================>.] - ETA: 0s - categorical_accuracy: 0.8602 - auc: 0.9306 - student_loss: 0.3422 - distillation_loss: 0.0125"
          ]
        },
        {
          "output_type": "stream",
          "name": "stderr",
          "text": [
            "WARNING:tensorflow:Early stopping conditioned on metric `val_loss` which is not available. Available metrics are: categorical_accuracy,auc,student_loss,distillation_loss,val_categorical_accuracy,val_auc,val_student_loss\n"
          ]
        },
        {
          "output_type": "stream",
          "name": "stdout",
          "text": [
            "\b\b\b\b\b\b\b\b\b\b\b\b\b\b\b\b\b\b\b\b\b\b\b\b\b\b\b\b\b\b\b\b\b\b\b\b\b\b\b\b\b\b\b\b\b\b\b\b\b\b\b\b\b\b\b\b\b\b\b\b\b\b\b\b\b\b\b\b\b\b\b\b\b\b\b\b\b\b\b\b\b\b\b\b\b\b\b\b\b\b\b\b\b\b\b\b\b\b\b\b\b\b\b\b\b\b\b\b\b\b\b\b\b\b\b\b\b\b\b\b\b\b\b\b\b\b\b\b\b\b\b\b\b\b\b\b\b\b\b\b\b\b\b\b\b\b\r154/154 [==============================] - 3s 21ms/step - categorical_accuracy: 0.8613 - auc: 0.9312 - student_loss: 0.3381 - distillation_loss: 0.0127 - val_categorical_accuracy: 0.8042 - val_auc: 0.9022 - val_student_loss: 0.6760\n",
            "Epoch 12/100\n",
            "153/154 [============================>.] - ETA: 0s - categorical_accuracy: 0.8615 - auc: 0.9316 - student_loss: 0.3386 - distillation_loss: 0.0124"
          ]
        },
        {
          "output_type": "stream",
          "name": "stderr",
          "text": [
            "WARNING:tensorflow:Early stopping conditioned on metric `val_loss` which is not available. Available metrics are: categorical_accuracy,auc,student_loss,distillation_loss,val_categorical_accuracy,val_auc,val_student_loss\n"
          ]
        },
        {
          "output_type": "stream",
          "name": "stdout",
          "text": [
            "\b\b\b\b\b\b\b\b\b\b\b\b\b\b\b\b\b\b\b\b\b\b\b\b\b\b\b\b\b\b\b\b\b\b\b\b\b\b\b\b\b\b\b\b\b\b\b\b\b\b\b\b\b\b\b\b\b\b\b\b\b\b\b\b\b\b\b\b\b\b\b\b\b\b\b\b\b\b\b\b\b\b\b\b\b\b\b\b\b\b\b\b\b\b\b\b\b\b\b\b\b\b\b\b\b\b\b\b\b\b\b\b\b\b\b\b\b\b\b\b\b\b\b\b\b\b\b\b\b\b\b\b\b\b\b\b\b\b\b\b\b\b\b\b\b\b\r154/154 [==============================] - 3s 19ms/step - categorical_accuracy: 0.8617 - auc: 0.9318 - student_loss: 0.3345 - distillation_loss: 0.0126 - val_categorical_accuracy: 0.7993 - val_auc: 0.8940 - val_student_loss: 0.8410\n",
            "Epoch 13/100\n",
            "154/154 [==============================] - ETA: 0s - categorical_accuracy: 0.8678 - auc: 0.9352 - student_loss: 0.3323 - distillation_loss: 0.0119"
          ]
        },
        {
          "output_type": "stream",
          "name": "stderr",
          "text": [
            "WARNING:tensorflow:Early stopping conditioned on metric `val_loss` which is not available. Available metrics are: categorical_accuracy,auc,student_loss,distillation_loss,val_categorical_accuracy,val_auc,val_student_loss\n"
          ]
        },
        {
          "output_type": "stream",
          "name": "stdout",
          "text": [
            "\b\b\b\b\b\b\b\b\b\b\b\b\b\b\b\b\b\b\b\b\b\b\b\b\b\b\b\b\b\b\b\b\b\b\b\b\b\b\b\b\b\b\b\b\b\b\b\b\b\b\b\b\b\b\b\b\b\b\b\b\b\b\b\b\b\b\b\b\b\b\b\b\b\b\b\b\b\b\b\b\b\b\b\b\b\b\b\b\b\b\b\b\b\b\b\b\b\b\b\b\b\b\b\b\b\b\b\b\b\b\b\b\b\b\b\b\b\b\b\b\b\b\b\b\b\b\b\b\b\b\b\b\b\b\b\b\b\b\b\b\b\b\b\b\b\b\r154/154 [==============================] - 3s 19ms/step - categorical_accuracy: 0.8678 - auc: 0.9352 - student_loss: 0.3353 - distillation_loss: 0.0119 - val_categorical_accuracy: 0.8042 - val_auc: 0.9007 - val_student_loss: 0.7182\n",
            "Epoch 14/100\n",
            "152/154 [============================>.] - ETA: 0s - categorical_accuracy: 0.8701 - auc: 0.9384 - student_loss: 0.3224 - distillation_loss: 0.0117"
          ]
        },
        {
          "output_type": "stream",
          "name": "stderr",
          "text": [
            "WARNING:tensorflow:Early stopping conditioned on metric `val_loss` which is not available. Available metrics are: categorical_accuracy,auc,student_loss,distillation_loss,val_categorical_accuracy,val_auc,val_student_loss\n"
          ]
        },
        {
          "output_type": "stream",
          "name": "stdout",
          "text": [
            "\b\b\b\b\b\b\b\b\b\b\b\b\b\b\b\b\b\b\b\b\b\b\b\b\b\b\b\b\b\b\b\b\b\b\b\b\b\b\b\b\b\b\b\b\b\b\b\b\b\b\b\b\b\b\b\b\b\b\b\b\b\b\b\b\b\b\b\b\b\b\b\b\b\b\b\b\b\b\b\b\b\b\b\b\b\b\b\b\b\b\b\b\b\b\b\b\b\b\b\b\b\b\b\b\b\b\b\b\b\b\b\b\b\b\b\b\b\b\b\b\b\b\b\b\b\b\b\b\b\b\b\b\b\b\b\b\b\b\b\b\b\b\b\b\b\b\r154/154 [==============================] - 3s 19ms/step - categorical_accuracy: 0.8703 - auc: 0.9378 - student_loss: 0.3220 - distillation_loss: 0.0117 - val_categorical_accuracy: 0.8157 - val_auc: 0.9039 - val_student_loss: 0.7115\n",
            "Epoch 15/100\n",
            "152/154 [============================>.] - ETA: 0s - categorical_accuracy: 0.8651 - auc: 0.9367 - student_loss: 0.3261 - distillation_loss: 0.0113"
          ]
        },
        {
          "output_type": "stream",
          "name": "stderr",
          "text": [
            "WARNING:tensorflow:Early stopping conditioned on metric `val_loss` which is not available. Available metrics are: categorical_accuracy,auc,student_loss,distillation_loss,val_categorical_accuracy,val_auc,val_student_loss\n"
          ]
        },
        {
          "output_type": "stream",
          "name": "stdout",
          "text": [
            "\b\b\b\b\b\b\b\b\b\b\b\b\b\b\b\b\b\b\b\b\b\b\b\b\b\b\b\b\b\b\b\b\b\b\b\b\b\b\b\b\b\b\b\b\b\b\b\b\b\b\b\b\b\b\b\b\b\b\b\b\b\b\b\b\b\b\b\b\b\b\b\b\b\b\b\b\b\b\b\b\b\b\b\b\b\b\b\b\b\b\b\b\b\b\b\b\b\b\b\b\b\b\b\b\b\b\b\b\b\b\b\b\b\b\b\b\b\b\b\b\b\b\b\b\b\b\b\b\b\b\b\b\b\b\b\b\b\b\b\b\b\b\b\b\b\b\r154/154 [==============================] - 3s 20ms/step - categorical_accuracy: 0.8654 - auc: 0.9369 - student_loss: 0.3225 - distillation_loss: 0.0112 - val_categorical_accuracy: 0.8173 - val_auc: 0.9044 - val_student_loss: 0.7455\n",
            "Epoch 16/100\n",
            "152/154 [============================>.] - ETA: 0s - categorical_accuracy: 0.8754 - auc: 0.9392 - student_loss: 0.3198 - distillation_loss: 0.0113"
          ]
        },
        {
          "output_type": "stream",
          "name": "stderr",
          "text": [
            "WARNING:tensorflow:Early stopping conditioned on metric `val_loss` which is not available. Available metrics are: categorical_accuracy,auc,student_loss,distillation_loss,val_categorical_accuracy,val_auc,val_student_loss\n"
          ]
        },
        {
          "output_type": "stream",
          "name": "stdout",
          "text": [
            "\b\b\b\b\b\b\b\b\b\b\b\b\b\b\b\b\b\b\b\b\b\b\b\b\b\b\b\b\b\b\b\b\b\b\b\b\b\b\b\b\b\b\b\b\b\b\b\b\b\b\b\b\b\b\b\b\b\b\b\b\b\b\b\b\b\b\b\b\b\b\b\b\b\b\b\b\b\b\b\b\b\b\b\b\b\b\b\b\b\b\b\b\b\b\b\b\b\b\b\b\b\b\b\b\b\b\b\b\b\b\b\b\b\b\b\b\b\b\b\b\b\b\b\b\b\b\b\b\b\b\b\b\b\b\b\b\b\b\b\b\b\b\b\b\b\b\r154/154 [==============================] - 3s 19ms/step - categorical_accuracy: 0.8743 - auc: 0.9389 - student_loss: 0.3176 - distillation_loss: 0.0114 - val_categorical_accuracy: 0.8059 - val_auc: 0.9007 - val_student_loss: 0.7195\n",
            "Epoch 17/100\n",
            "152/154 [============================>.] - ETA: 0s - categorical_accuracy: 0.8734 - auc: 0.9393 - student_loss: 0.3194 - distillation_loss: 0.0111"
          ]
        },
        {
          "output_type": "stream",
          "name": "stderr",
          "text": [
            "WARNING:tensorflow:Early stopping conditioned on metric `val_loss` which is not available. Available metrics are: categorical_accuracy,auc,student_loss,distillation_loss,val_categorical_accuracy,val_auc,val_student_loss\n"
          ]
        },
        {
          "output_type": "stream",
          "name": "stdout",
          "text": [
            "\b\b\b\b\b\b\b\b\b\b\b\b\b\b\b\b\b\b\b\b\b\b\b\b\b\b\b\b\b\b\b\b\b\b\b\b\b\b\b\b\b\b\b\b\b\b\b\b\b\b\b\b\b\b\b\b\b\b\b\b\b\b\b\b\b\b\b\b\b\b\b\b\b\b\b\b\b\b\b\b\b\b\b\b\b\b\b\b\b\b\b\b\b\b\b\b\b\b\b\b\b\b\b\b\b\b\b\b\b\b\b\b\b\b\b\b\b\b\b\b\b\b\b\b\b\b\b\b\b\b\b\b\b\b\b\b\b\b\b\b\b\b\b\b\b\b\r154/154 [==============================] - 3s 19ms/step - categorical_accuracy: 0.8719 - auc: 0.9386 - student_loss: 0.3244 - distillation_loss: 0.0112 - val_categorical_accuracy: 0.8157 - val_auc: 0.9063 - val_student_loss: 0.7724\n",
            "Epoch 18/100\n",
            "152/154 [============================>.] - ETA: 0s - categorical_accuracy: 0.8705 - auc: 0.9400 - student_loss: 0.3182 - distillation_loss: 0.0115"
          ]
        },
        {
          "output_type": "stream",
          "name": "stderr",
          "text": [
            "WARNING:tensorflow:Early stopping conditioned on metric `val_loss` which is not available. Available metrics are: categorical_accuracy,auc,student_loss,distillation_loss,val_categorical_accuracy,val_auc,val_student_loss\n"
          ]
        },
        {
          "output_type": "stream",
          "name": "stdout",
          "text": [
            "\b\b\b\b\b\b\b\b\b\b\b\b\b\b\b\b\b\b\b\b\b\b\b\b\b\b\b\b\b\b\b\b\b\b\b\b\b\b\b\b\b\b\b\b\b\b\b\b\b\b\b\b\b\b\b\b\b\b\b\b\b\b\b\b\b\b\b\b\b\b\b\b\b\b\b\b\b\b\b\b\b\b\b\b\b\b\b\b\b\b\b\b\b\b\b\b\b\b\b\b\b\b\b\b\b\b\b\b\b\b\b\b\b\b\b\b\b\b\b\b\b\b\b\b\b\b\b\b\b\b\b\b\b\b\b\b\b\b\b\b\b\b\b\b\b\b\r154/154 [==============================] - 3s 19ms/step - categorical_accuracy: 0.8707 - auc: 0.9397 - student_loss: 0.3171 - distillation_loss: 0.0116 - val_categorical_accuracy: 0.8124 - val_auc: 0.9049 - val_student_loss: 0.7558\n",
            "Epoch 19/100\n",
            "154/154 [==============================] - ETA: 0s - categorical_accuracy: 0.8703 - auc: 0.9405 - student_loss: 0.3155 - distillation_loss: 0.0107"
          ]
        },
        {
          "output_type": "stream",
          "name": "stderr",
          "text": [
            "WARNING:tensorflow:Early stopping conditioned on metric `val_loss` which is not available. Available metrics are: categorical_accuracy,auc,student_loss,distillation_loss,val_categorical_accuracy,val_auc,val_student_loss\n"
          ]
        },
        {
          "output_type": "stream",
          "name": "stdout",
          "text": [
            "\b\b\b\b\b\b\b\b\b\b\b\b\b\b\b\b\b\b\b\b\b\b\b\b\b\b\b\b\b\b\b\b\b\b\b\b\b\b\b\b\b\b\b\b\b\b\b\b\b\b\b\b\b\b\b\b\b\b\b\b\b\b\b\b\b\b\b\b\b\b\b\b\b\b\b\b\b\b\b\b\b\b\b\b\b\b\b\b\b\b\b\b\b\b\b\b\b\b\b\b\b\b\b\b\b\b\b\b\b\b\b\b\b\b\b\b\b\b\b\b\b\b\b\b\b\b\b\b\b\b\b\b\b\b\b\b\b\b\b\b\b\b\b\b\b\b\r154/154 [==============================] - 3s 20ms/step - categorical_accuracy: 0.8703 - auc: 0.9405 - student_loss: 0.3144 - distillation_loss: 0.0106 - val_categorical_accuracy: 0.8091 - val_auc: 0.9053 - val_student_loss: 0.7344\n",
            "Epoch 20/100\n",
            "153/154 [============================>.] - ETA: 0s - categorical_accuracy: 0.8738 - auc: 0.9419 - student_loss: 0.3136 - distillation_loss: 0.0108"
          ]
        },
        {
          "output_type": "stream",
          "name": "stderr",
          "text": [
            "WARNING:tensorflow:Early stopping conditioned on metric `val_loss` which is not available. Available metrics are: categorical_accuracy,auc,student_loss,distillation_loss,val_categorical_accuracy,val_auc,val_student_loss\n"
          ]
        },
        {
          "output_type": "stream",
          "name": "stdout",
          "text": [
            "\b\b\b\b\b\b\b\b\b\b\b\b\b\b\b\b\b\b\b\b\b\b\b\b\b\b\b\b\b\b\b\b\b\b\b\b\b\b\b\b\b\b\b\b\b\b\b\b\b\b\b\b\b\b\b\b\b\b\b\b\b\b\b\b\b\b\b\b\b\b\b\b\b\b\b\b\b\b\b\b\b\b\b\b\b\b\b\b\b\b\b\b\b\b\b\b\b\b\b\b\b\b\b\b\b\b\b\b\b\b\b\b\b\b\b\b\b\b\b\b\b\b\b\b\b\b\b\b\b\b\b\b\b\b\b\b\b\b\b\b\b\b\b\b\b\b\r154/154 [==============================] - 3s 19ms/step - categorical_accuracy: 0.8739 - auc: 0.9420 - student_loss: 0.3122 - distillation_loss: 0.0107 - val_categorical_accuracy: 0.8189 - val_auc: 0.9071 - val_student_loss: 0.7339\n",
            "Epoch 21/100\n",
            "152/154 [============================>.] - ETA: 0s - categorical_accuracy: 0.8799 - auc: 0.9427 - student_loss: 0.3101 - distillation_loss: 0.0109"
          ]
        },
        {
          "output_type": "stream",
          "name": "stderr",
          "text": [
            "WARNING:tensorflow:Early stopping conditioned on metric `val_loss` which is not available. Available metrics are: categorical_accuracy,auc,student_loss,distillation_loss,val_categorical_accuracy,val_auc,val_student_loss\n"
          ]
        },
        {
          "output_type": "stream",
          "name": "stdout",
          "text": [
            "\b\b\b\b\b\b\b\b\b\b\b\b\b\b\b\b\b\b\b\b\b\b\b\b\b\b\b\b\b\b\b\b\b\b\b\b\b\b\b\b\b\b\b\b\b\b\b\b\b\b\b\b\b\b\b\b\b\b\b\b\b\b\b\b\b\b\b\b\b\b\b\b\b\b\b\b\b\b\b\b\b\b\b\b\b\b\b\b\b\b\b\b\b\b\b\b\b\b\b\b\b\b\b\b\b\b\b\b\b\b\b\b\b\b\b\b\b\b\b\b\b\b\b\b\b\b\b\b\b\b\b\b\b\b\b\b\b\b\b\b\b\b\b\b\b\b\r154/154 [==============================] - 3s 19ms/step - categorical_accuracy: 0.8800 - auc: 0.9428 - student_loss: 0.3111 - distillation_loss: 0.0109 - val_categorical_accuracy: 0.8206 - val_auc: 0.9108 - val_student_loss: 0.5874\n",
            "Epoch 22/100\n",
            "153/154 [============================>.] - ETA: 0s - categorical_accuracy: 0.8725 - auc: 0.9426 - student_loss: 0.3118 - distillation_loss: 0.0108"
          ]
        },
        {
          "output_type": "stream",
          "name": "stderr",
          "text": [
            "WARNING:tensorflow:Early stopping conditioned on metric `val_loss` which is not available. Available metrics are: categorical_accuracy,auc,student_loss,distillation_loss,val_categorical_accuracy,val_auc,val_student_loss\n"
          ]
        },
        {
          "output_type": "stream",
          "name": "stdout",
          "text": [
            "\b\b\b\b\b\b\b\b\b\b\b\b\b\b\b\b\b\b\b\b\b\b\b\b\b\b\b\b\b\b\b\b\b\b\b\b\b\b\b\b\b\b\b\b\b\b\b\b\b\b\b\b\b\b\b\b\b\b\b\b\b\b\b\b\b\b\b\b\b\b\b\b\b\b\b\b\b\b\b\b\b\b\b\b\b\b\b\b\b\b\b\b\b\b\b\b\b\b\b\b\b\b\b\b\b\b\b\b\b\b\b\b\b\b\b\b\b\b\b\b\b\b\b\b\b\b\b\b\b\b\b\b\b\b\b\b\b\b\b\b\b\b\b\b\b\b\r154/154 [==============================] - 3s 20ms/step - categorical_accuracy: 0.8727 - auc: 0.9427 - student_loss: 0.3086 - distillation_loss: 0.0107 - val_categorical_accuracy: 0.8124 - val_auc: 0.9054 - val_student_loss: 0.7046\n",
            "Epoch 23/100\n",
            "152/154 [============================>.] - ETA: 0s - categorical_accuracy: 0.8725 - auc: 0.9425 - student_loss: 0.3118 - distillation_loss: 0.0105"
          ]
        },
        {
          "output_type": "stream",
          "name": "stderr",
          "text": [
            "WARNING:tensorflow:Early stopping conditioned on metric `val_loss` which is not available. Available metrics are: categorical_accuracy,auc,student_loss,distillation_loss,val_categorical_accuracy,val_auc,val_student_loss\n"
          ]
        },
        {
          "output_type": "stream",
          "name": "stdout",
          "text": [
            "\b\b\b\b\b\b\b\b\b\b\b\b\b\b\b\b\b\b\b\b\b\b\b\b\b\b\b\b\b\b\b\b\b\b\b\b\b\b\b\b\b\b\b\b\b\b\b\b\b\b\b\b\b\b\b\b\b\b\b\b\b\b\b\b\b\b\b\b\b\b\b\b\b\b\b\b\b\b\b\b\b\b\b\b\b\b\b\b\b\b\b\b\b\b\b\b\b\b\b\b\b\b\b\b\b\b\b\b\b\b\b\b\b\b\b\b\b\b\b\b\b\b\b\b\b\b\b\b\b\b\b\b\b\b\b\b\b\b\b\b\b\b\b\b\b\b\r154/154 [==============================] - 3s 20ms/step - categorical_accuracy: 0.8735 - auc: 0.9431 - student_loss: 0.3078 - distillation_loss: 0.0104 - val_categorical_accuracy: 0.8140 - val_auc: 0.9123 - val_student_loss: 0.5817\n",
            "Epoch 24/100\n",
            "153/154 [============================>.] - ETA: 0s - categorical_accuracy: 0.8730 - auc: 0.9431 - student_loss: 0.3087 - distillation_loss: 0.0107"
          ]
        },
        {
          "output_type": "stream",
          "name": "stderr",
          "text": [
            "WARNING:tensorflow:Early stopping conditioned on metric `val_loss` which is not available. Available metrics are: categorical_accuracy,auc,student_loss,distillation_loss,val_categorical_accuracy,val_auc,val_student_loss\n"
          ]
        },
        {
          "output_type": "stream",
          "name": "stdout",
          "text": [
            "\b\b\b\b\b\b\b\b\b\b\b\b\b\b\b\b\b\b\b\b\b\b\b\b\b\b\b\b\b\b\b\b\b\b\b\b\b\b\b\b\b\b\b\b\b\b\b\b\b\b\b\b\b\b\b\b\b\b\b\b\b\b\b\b\b\b\b\b\b\b\b\b\b\b\b\b\b\b\b\b\b\b\b\b\b\b\b\b\b\b\b\b\b\b\b\b\b\b\b\b\b\b\b\b\b\b\b\b\b\b\b\b\b\b\b\b\b\b\b\b\b\b\b\b\b\b\b\b\b\b\b\b\b\b\b\b\b\b\b\b\b\b\b\b\b\b\r154/154 [==============================] - 3s 20ms/step - categorical_accuracy: 0.8731 - auc: 0.9432 - student_loss: 0.3075 - distillation_loss: 0.0106 - val_categorical_accuracy: 0.8238 - val_auc: 0.9148 - val_student_loss: 0.5518\n",
            "Epoch 25/100\n",
            "154/154 [==============================] - ETA: 0s - categorical_accuracy: 0.8829 - auc: 0.9464 - student_loss: 0.3017 - distillation_loss: 0.0102"
          ]
        },
        {
          "output_type": "stream",
          "name": "stderr",
          "text": [
            "WARNING:tensorflow:Early stopping conditioned on metric `val_loss` which is not available. Available metrics are: categorical_accuracy,auc,student_loss,distillation_loss,val_categorical_accuracy,val_auc,val_student_loss\n"
          ]
        },
        {
          "output_type": "stream",
          "name": "stdout",
          "text": [
            "\b\b\b\b\b\b\b\b\b\b\b\b\b\b\b\b\b\b\b\b\b\b\b\b\b\b\b\b\b\b\b\b\b\b\b\b\b\b\b\b\b\b\b\b\b\b\b\b\b\b\b\b\b\b\b\b\b\b\b\b\b\b\b\b\b\b\b\b\b\b\b\b\b\b\b\b\b\b\b\b\b\b\b\b\b\b\b\b\b\b\b\b\b\b\b\b\b\b\b\b\b\b\b\b\b\b\b\b\b\b\b\b\b\b\b\b\b\b\b\b\b\b\b\b\b\b\b\b\b\b\b\b\b\b\b\b\b\b\b\b\b\b\b\b\b\b\r154/154 [==============================] - 3s 20ms/step - categorical_accuracy: 0.8829 - auc: 0.9464 - student_loss: 0.3015 - distillation_loss: 0.0102 - val_categorical_accuracy: 0.8254 - val_auc: 0.9128 - val_student_loss: 0.6712\n",
            "Epoch 26/100\n",
            "152/154 [============================>.] - ETA: 0s - categorical_accuracy: 0.8758 - auc: 0.9458 - student_loss: 0.3040 - distillation_loss: 0.0100"
          ]
        },
        {
          "output_type": "stream",
          "name": "stderr",
          "text": [
            "WARNING:tensorflow:Early stopping conditioned on metric `val_loss` which is not available. Available metrics are: categorical_accuracy,auc,student_loss,distillation_loss,val_categorical_accuracy,val_auc,val_student_loss\n"
          ]
        },
        {
          "output_type": "stream",
          "name": "stdout",
          "text": [
            "\b\b\b\b\b\b\b\b\b\b\b\b\b\b\b\b\b\b\b\b\b\b\b\b\b\b\b\b\b\b\b\b\b\b\b\b\b\b\b\b\b\b\b\b\b\b\b\b\b\b\b\b\b\b\b\b\b\b\b\b\b\b\b\b\b\b\b\b\b\b\b\b\b\b\b\b\b\b\b\b\b\b\b\b\b\b\b\b\b\b\b\b\b\b\b\b\b\b\b\b\b\b\b\b\b\b\b\b\b\b\b\b\b\b\b\b\b\b\b\b\b\b\b\b\b\b\b\b\b\b\b\b\b\b\b\b\b\b\b\b\b\b\b\b\b\b\r154/154 [==============================] - 3s 19ms/step - categorical_accuracy: 0.8764 - auc: 0.9463 - student_loss: 0.3011 - distillation_loss: 0.0101 - val_categorical_accuracy: 0.8271 - val_auc: 0.9090 - val_student_loss: 0.6754\n",
            "Epoch 27/100\n",
            "152/154 [============================>.] - ETA: 0s - categorical_accuracy: 0.8771 - auc: 0.9446 - student_loss: 0.3067 - distillation_loss: 0.0098"
          ]
        },
        {
          "output_type": "stream",
          "name": "stderr",
          "text": [
            "WARNING:tensorflow:Early stopping conditioned on metric `val_loss` which is not available. Available metrics are: categorical_accuracy,auc,student_loss,distillation_loss,val_categorical_accuracy,val_auc,val_student_loss\n"
          ]
        },
        {
          "output_type": "stream",
          "name": "stdout",
          "text": [
            "\b\b\b\b\b\b\b\b\b\b\b\b\b\b\b\b\b\b\b\b\b\b\b\b\b\b\b\b\b\b\b\b\b\b\b\b\b\b\b\b\b\b\b\b\b\b\b\b\b\b\b\b\b\b\b\b\b\b\b\b\b\b\b\b\b\b\b\b\b\b\b\b\b\b\b\b\b\b\b\b\b\b\b\b\b\b\b\b\b\b\b\b\b\b\b\b\b\b\b\b\b\b\b\b\b\b\b\b\b\b\b\b\b\b\b\b\b\b\b\b\b\b\b\b\b\b\b\b\b\b\b\b\b\b\b\b\b\b\b\b\b\b\b\b\b\b\r154/154 [==============================] - 3s 19ms/step - categorical_accuracy: 0.8768 - auc: 0.9443 - student_loss: 0.3057 - distillation_loss: 0.0098 - val_categorical_accuracy: 0.8238 - val_auc: 0.9138 - val_student_loss: 0.6403\n",
            "Epoch 28/100\n",
            "151/154 [============================>.] - ETA: 0s - categorical_accuracy: 0.8808 - auc: 0.9471 - student_loss: 0.2999 - distillation_loss: 0.0098"
          ]
        },
        {
          "output_type": "stream",
          "name": "stderr",
          "text": [
            "WARNING:tensorflow:Early stopping conditioned on metric `val_loss` which is not available. Available metrics are: categorical_accuracy,auc,student_loss,distillation_loss,val_categorical_accuracy,val_auc,val_student_loss\n"
          ]
        },
        {
          "output_type": "stream",
          "name": "stdout",
          "text": [
            "\b\b\b\b\b\b\b\b\b\b\b\b\b\b\b\b\b\b\b\b\b\b\b\b\b\b\b\b\b\b\b\b\b\b\b\b\b\b\b\b\b\b\b\b\b\b\b\b\b\b\b\b\b\b\b\b\b\b\b\b\b\b\b\b\b\b\b\b\b\b\b\b\b\b\b\b\b\b\b\b\b\b\b\b\b\b\b\b\b\b\b\b\b\b\b\b\b\b\b\b\b\b\b\b\b\b\b\b\b\b\b\b\b\b\b\b\b\b\b\b\b\b\b\b\b\b\b\b\b\b\b\b\b\b\b\b\b\b\b\b\b\b\b\b\b\b\r154/154 [==============================] - 3s 20ms/step - categorical_accuracy: 0.8805 - auc: 0.9472 - student_loss: 0.2972 - distillation_loss: 0.0097 - val_categorical_accuracy: 0.8320 - val_auc: 0.9142 - val_student_loss: 0.5983\n",
            "Epoch 29/100\n",
            "153/154 [============================>.] - ETA: 0s - categorical_accuracy: 0.8807 - auc: 0.9479 - student_loss: 0.2981 - distillation_loss: 0.0099"
          ]
        },
        {
          "output_type": "stream",
          "name": "stderr",
          "text": [
            "WARNING:tensorflow:Early stopping conditioned on metric `val_loss` which is not available. Available metrics are: categorical_accuracy,auc,student_loss,distillation_loss,val_categorical_accuracy,val_auc,val_student_loss\n"
          ]
        },
        {
          "output_type": "stream",
          "name": "stdout",
          "text": [
            "\b\b\b\b\b\b\b\b\b\b\b\b\b\b\b\b\b\b\b\b\b\b\b\b\b\b\b\b\b\b\b\b\b\b\b\b\b\b\b\b\b\b\b\b\b\b\b\b\b\b\b\b\b\b\b\b\b\b\b\b\b\b\b\b\b\b\b\b\b\b\b\b\b\b\b\b\b\b\b\b\b\b\b\b\b\b\b\b\b\b\b\b\b\b\b\b\b\b\b\b\b\b\b\b\b\b\b\b\b\b\b\b\b\b\b\b\b\b\b\b\b\b\b\b\b\b\b\b\b\b\b\b\b\b\b\b\b\b\b\b\b\b\b\b\b\b\r154/154 [==============================] - 3s 19ms/step - categorical_accuracy: 0.8809 - auc: 0.9480 - student_loss: 0.2960 - distillation_loss: 0.0099 - val_categorical_accuracy: 0.8287 - val_auc: 0.9130 - val_student_loss: 0.5768\n",
            "Epoch 30/100\n",
            "151/154 [============================>.] - ETA: 0s - categorical_accuracy: 0.8820 - auc: 0.9494 - student_loss: 0.2946 - distillation_loss: 0.0099"
          ]
        },
        {
          "output_type": "stream",
          "name": "stderr",
          "text": [
            "WARNING:tensorflow:Early stopping conditioned on metric `val_loss` which is not available. Available metrics are: categorical_accuracy,auc,student_loss,distillation_loss,val_categorical_accuracy,val_auc,val_student_loss\n"
          ]
        },
        {
          "output_type": "stream",
          "name": "stdout",
          "text": [
            "\b\b\b\b\b\b\b\b\b\b\b\b\b\b\b\b\b\b\b\b\b\b\b\b\b\b\b\b\b\b\b\b\b\b\b\b\b\b\b\b\b\b\b\b\b\b\b\b\b\b\b\b\b\b\b\b\b\b\b\b\b\b\b\b\b\b\b\b\b\b\b\b\b\b\b\b\b\b\b\b\b\b\b\b\b\b\b\b\b\b\b\b\b\b\b\b\b\b\b\b\b\b\b\b\b\b\b\b\b\b\b\b\b\b\b\b\b\b\b\b\b\b\b\b\b\b\b\b\b\b\b\b\b\b\b\b\b\b\b\b\b\b\b\b\b\b\r154/154 [==============================] - 3s 19ms/step - categorical_accuracy: 0.8821 - auc: 0.9499 - student_loss: 0.2920 - distillation_loss: 0.0097 - val_categorical_accuracy: 0.8189 - val_auc: 0.9144 - val_student_loss: 0.6249\n",
            "Epoch 31/100\n",
            "153/154 [============================>.] - ETA: 0s - categorical_accuracy: 0.8852 - auc: 0.9507 - student_loss: 0.2915 - distillation_loss: 0.0095"
          ]
        },
        {
          "output_type": "stream",
          "name": "stderr",
          "text": [
            "WARNING:tensorflow:Early stopping conditioned on metric `val_loss` which is not available. Available metrics are: categorical_accuracy,auc,student_loss,distillation_loss,val_categorical_accuracy,val_auc,val_student_loss\n"
          ]
        },
        {
          "output_type": "stream",
          "name": "stdout",
          "text": [
            "\b\b\b\b\b\b\b\b\b\b\b\b\b\b\b\b\b\b\b\b\b\b\b\b\b\b\b\b\b\b\b\b\b\b\b\b\b\b\b\b\b\b\b\b\b\b\b\b\b\b\b\b\b\b\b\b\b\b\b\b\b\b\b\b\b\b\b\b\b\b\b\b\b\b\b\b\b\b\b\b\b\b\b\b\b\b\b\b\b\b\b\b\b\b\b\b\b\b\b\b\b\b\b\b\b\b\b\b\b\b\b\b\b\b\b\b\b\b\b\b\b\b\b\b\b\b\b\b\b\b\b\b\b\b\b\b\b\b\b\b\b\b\b\b\b\b\r154/154 [==============================] - 3s 19ms/step - categorical_accuracy: 0.8854 - auc: 0.9507 - student_loss: 0.2918 - distillation_loss: 0.0095 - val_categorical_accuracy: 0.8320 - val_auc: 0.9169 - val_student_loss: 0.5388\n",
            "Epoch 32/100\n",
            "154/154 [==============================] - ETA: 0s - categorical_accuracy: 0.8849 - auc: 0.9504 - student_loss: 0.2907 - distillation_loss: 0.0097"
          ]
        },
        {
          "output_type": "stream",
          "name": "stderr",
          "text": [
            "WARNING:tensorflow:Early stopping conditioned on metric `val_loss` which is not available. Available metrics are: categorical_accuracy,auc,student_loss,distillation_loss,val_categorical_accuracy,val_auc,val_student_loss\n"
          ]
        },
        {
          "output_type": "stream",
          "name": "stdout",
          "text": [
            "\b\b\b\b\b\b\b\b\b\b\b\b\b\b\b\b\b\b\b\b\b\b\b\b\b\b\b\b\b\b\b\b\b\b\b\b\b\b\b\b\b\b\b\b\b\b\b\b\b\b\b\b\b\b\b\b\b\b\b\b\b\b\b\b\b\b\b\b\b\b\b\b\b\b\b\b\b\b\b\b\b\b\b\b\b\b\b\b\b\b\b\b\b\b\b\b\b\b\b\b\b\b\b\b\b\b\b\b\b\b\b\b\b\b\b\b\b\b\b\b\b\b\b\b\b\b\b\b\b\b\b\b\b\b\b\b\b\b\b\b\b\b\b\b\b\b\r154/154 [==============================] - 3s 20ms/step - categorical_accuracy: 0.8849 - auc: 0.9504 - student_loss: 0.2891 - distillation_loss: 0.0097 - val_categorical_accuracy: 0.8222 - val_auc: 0.9077 - val_student_loss: 0.6300\n",
            "Epoch 33/100\n",
            "153/154 [============================>.] - ETA: 0s - categorical_accuracy: 0.8803 - auc: 0.9488 - student_loss: 0.2963 - distillation_loss: 0.0096"
          ]
        },
        {
          "output_type": "stream",
          "name": "stderr",
          "text": [
            "WARNING:tensorflow:Early stopping conditioned on metric `val_loss` which is not available. Available metrics are: categorical_accuracy,auc,student_loss,distillation_loss,val_categorical_accuracy,val_auc,val_student_loss\n"
          ]
        },
        {
          "output_type": "stream",
          "name": "stdout",
          "text": [
            "\b\b\b\b\b\b\b\b\b\b\b\b\b\b\b\b\b\b\b\b\b\b\b\b\b\b\b\b\b\b\b\b\b\b\b\b\b\b\b\b\b\b\b\b\b\b\b\b\b\b\b\b\b\b\b\b\b\b\b\b\b\b\b\b\b\b\b\b\b\b\b\b\b\b\b\b\b\b\b\b\b\b\b\b\b\b\b\b\b\b\b\b\b\b\b\b\b\b\b\b\b\b\b\b\b\b\b\b\b\b\b\b\b\b\b\b\b\b\b\b\b\b\b\b\b\b\b\b\b\b\b\b\b\b\b\b\b\b\b\b\b\b\b\b\b\b\r154/154 [==============================] - 3s 19ms/step - categorical_accuracy: 0.8805 - auc: 0.9488 - student_loss: 0.2948 - distillation_loss: 0.0095 - val_categorical_accuracy: 0.8271 - val_auc: 0.9137 - val_student_loss: 0.6326\n",
            "Epoch 34/100\n",
            "153/154 [============================>.] - ETA: 0s - categorical_accuracy: 0.8877 - auc: 0.9516 - student_loss: 0.2899 - distillation_loss: 0.0092"
          ]
        },
        {
          "output_type": "stream",
          "name": "stderr",
          "text": [
            "WARNING:tensorflow:Early stopping conditioned on metric `val_loss` which is not available. Available metrics are: categorical_accuracy,auc,student_loss,distillation_loss,val_categorical_accuracy,val_auc,val_student_loss\n"
          ]
        },
        {
          "output_type": "stream",
          "name": "stdout",
          "text": [
            "\b\b\b\b\b\b\b\b\b\b\b\b\b\b\b\b\b\b\b\b\b\b\b\b\b\b\b\b\b\b\b\b\b\b\b\b\b\b\b\b\b\b\b\b\b\b\b\b\b\b\b\b\b\b\b\b\b\b\b\b\b\b\b\b\b\b\b\b\b\b\b\b\b\b\b\b\b\b\b\b\b\b\b\b\b\b\b\b\b\b\b\b\b\b\b\b\b\b\b\b\b\b\b\b\b\b\b\b\b\b\b\b\b\b\b\b\b\b\b\b\b\b\b\b\b\b\b\b\b\b\b\b\b\b\b\b\b\b\b\b\b\b\b\b\b\b\r154/154 [==============================] - 3s 19ms/step - categorical_accuracy: 0.8878 - auc: 0.9516 - student_loss: 0.2889 - distillation_loss: 0.0097 - val_categorical_accuracy: 0.8303 - val_auc: 0.9110 - val_student_loss: 0.6297\n",
            "Epoch 35/100\n",
            "151/154 [============================>.] - ETA: 0s - categorical_accuracy: 0.8862 - auc: 0.9526 - student_loss: 0.2869 - distillation_loss: 0.0095"
          ]
        },
        {
          "output_type": "stream",
          "name": "stderr",
          "text": [
            "WARNING:tensorflow:Early stopping conditioned on metric `val_loss` which is not available. Available metrics are: categorical_accuracy,auc,student_loss,distillation_loss,val_categorical_accuracy,val_auc,val_student_loss\n"
          ]
        },
        {
          "output_type": "stream",
          "name": "stdout",
          "text": [
            "\b\b\b\b\b\b\b\b\b\b\b\b\b\b\b\b\b\b\b\b\b\b\b\b\b\b\b\b\b\b\b\b\b\b\b\b\b\b\b\b\b\b\b\b\b\b\b\b\b\b\b\b\b\b\b\b\b\b\b\b\b\b\b\b\b\b\b\b\b\b\b\b\b\b\b\b\b\b\b\b\b\b\b\b\b\b\b\b\b\b\b\b\b\b\b\b\b\b\b\b\b\b\b\b\b\b\b\b\b\b\b\b\b\b\b\b\b\b\b\b\b\b\b\b\b\b\b\b\b\b\b\b\b\b\b\b\b\b\b\b\b\b\b\b\b\b\r154/154 [==============================] - 3s 19ms/step - categorical_accuracy: 0.8870 - auc: 0.9527 - student_loss: 0.2855 - distillation_loss: 0.0094 - val_categorical_accuracy: 0.8271 - val_auc: 0.9164 - val_student_loss: 0.5308\n",
            "Epoch 36/100\n",
            "154/154 [==============================] - ETA: 0s - categorical_accuracy: 0.8878 - auc: 0.9515 - student_loss: 0.2880 - distillation_loss: 0.0094"
          ]
        },
        {
          "output_type": "stream",
          "name": "stderr",
          "text": [
            "WARNING:tensorflow:Early stopping conditioned on metric `val_loss` which is not available. Available metrics are: categorical_accuracy,auc,student_loss,distillation_loss,val_categorical_accuracy,val_auc,val_student_loss\n"
          ]
        },
        {
          "output_type": "stream",
          "name": "stdout",
          "text": [
            "\b\b\b\b\b\b\b\b\b\b\b\b\b\b\b\b\b\b\b\b\b\b\b\b\b\b\b\b\b\b\b\b\b\b\b\b\b\b\b\b\b\b\b\b\b\b\b\b\b\b\b\b\b\b\b\b\b\b\b\b\b\b\b\b\b\b\b\b\b\b\b\b\b\b\b\b\b\b\b\b\b\b\b\b\b\b\b\b\b\b\b\b\b\b\b\b\b\b\b\b\b\b\b\b\b\b\b\b\b\b\b\b\b\b\b\b\b\b\b\b\b\b\b\b\b\b\b\b\b\b\b\b\b\b\b\b\b\b\b\b\b\b\b\b\b\b\r154/154 [==============================] - 3s 21ms/step - categorical_accuracy: 0.8878 - auc: 0.9515 - student_loss: 0.2870 - distillation_loss: 0.0094 - val_categorical_accuracy: 0.8271 - val_auc: 0.9139 - val_student_loss: 0.5452\n",
            "Epoch 37/100\n",
            "154/154 [==============================] - ETA: 0s - categorical_accuracy: 0.8870 - auc: 0.9506 - student_loss: 0.2912 - distillation_loss: 0.0091"
          ]
        },
        {
          "output_type": "stream",
          "name": "stderr",
          "text": [
            "WARNING:tensorflow:Early stopping conditioned on metric `val_loss` which is not available. Available metrics are: categorical_accuracy,auc,student_loss,distillation_loss,val_categorical_accuracy,val_auc,val_student_loss\n"
          ]
        },
        {
          "output_type": "stream",
          "name": "stdout",
          "text": [
            "\b\b\b\b\b\b\b\b\b\b\b\b\b\b\b\b\b\b\b\b\b\b\b\b\b\b\b\b\b\b\b\b\b\b\b\b\b\b\b\b\b\b\b\b\b\b\b\b\b\b\b\b\b\b\b\b\b\b\b\b\b\b\b\b\b\b\b\b\b\b\b\b\b\b\b\b\b\b\b\b\b\b\b\b\b\b\b\b\b\b\b\b\b\b\b\b\b\b\b\b\b\b\b\b\b\b\b\b\b\b\b\b\b\b\b\b\b\b\b\b\b\b\b\b\b\b\b\b\b\b\b\b\b\b\b\b\b\b\b\b\b\b\b\b\b\b\r154/154 [==============================] - 3s 19ms/step - categorical_accuracy: 0.8870 - auc: 0.9506 - student_loss: 0.2920 - distillation_loss: 0.0093 - val_categorical_accuracy: 0.8320 - val_auc: 0.9158 - val_student_loss: 0.5740\n",
            "Epoch 38/100\n",
            "154/154 [==============================] - ETA: 0s - categorical_accuracy: 0.8923 - auc: 0.9534 - student_loss: 0.2847 - distillation_loss: 0.0091"
          ]
        },
        {
          "output_type": "stream",
          "name": "stderr",
          "text": [
            "WARNING:tensorflow:Early stopping conditioned on metric `val_loss` which is not available. Available metrics are: categorical_accuracy,auc,student_loss,distillation_loss,val_categorical_accuracy,val_auc,val_student_loss\n"
          ]
        },
        {
          "output_type": "stream",
          "name": "stdout",
          "text": [
            "\b\b\b\b\b\b\b\b\b\b\b\b\b\b\b\b\b\b\b\b\b\b\b\b\b\b\b\b\b\b\b\b\b\b\b\b\b\b\b\b\b\b\b\b\b\b\b\b\b\b\b\b\b\b\b\b\b\b\b\b\b\b\b\b\b\b\b\b\b\b\b\b\b\b\b\b\b\b\b\b\b\b\b\b\b\b\b\b\b\b\b\b\b\b\b\b\b\b\b\b\b\b\b\b\b\b\b\b\b\b\b\b\b\b\b\b\b\b\b\b\b\b\b\b\b\b\b\b\b\b\b\b\b\b\b\b\b\b\b\b\b\b\b\b\b\b\r154/154 [==============================] - 3s 19ms/step - categorical_accuracy: 0.8923 - auc: 0.9534 - student_loss: 0.2839 - distillation_loss: 0.0091 - val_categorical_accuracy: 0.8254 - val_auc: 0.9162 - val_student_loss: 0.5626\n",
            "Epoch 39/100\n",
            "152/154 [============================>.] - ETA: 0s - categorical_accuracy: 0.8877 - auc: 0.9537 - student_loss: 0.2841 - distillation_loss: 0.0092"
          ]
        },
        {
          "output_type": "stream",
          "name": "stderr",
          "text": [
            "WARNING:tensorflow:Early stopping conditioned on metric `val_loss` which is not available. Available metrics are: categorical_accuracy,auc,student_loss,distillation_loss,val_categorical_accuracy,val_auc,val_student_loss\n"
          ]
        },
        {
          "output_type": "stream",
          "name": "stdout",
          "text": [
            "\b\b\b\b\b\b\b\b\b\b\b\b\b\b\b\b\b\b\b\b\b\b\b\b\b\b\b\b\b\b\b\b\b\b\b\b\b\b\b\b\b\b\b\b\b\b\b\b\b\b\b\b\b\b\b\b\b\b\b\b\b\b\b\b\b\b\b\b\b\b\b\b\b\b\b\b\b\b\b\b\b\b\b\b\b\b\b\b\b\b\b\b\b\b\b\b\b\b\b\b\b\b\b\b\b\b\b\b\b\b\b\b\b\b\b\b\b\b\b\b\b\b\b\b\b\b\b\b\b\b\b\b\b\b\b\b\b\b\b\b\b\b\b\b\b\b\r154/154 [==============================] - 3s 19ms/step - categorical_accuracy: 0.8878 - auc: 0.9536 - student_loss: 0.2823 - distillation_loss: 0.0093 - val_categorical_accuracy: 0.8336 - val_auc: 0.9129 - val_student_loss: 0.5554\n",
            "Epoch 40/100\n",
            "154/154 [==============================] - ETA: 0s - categorical_accuracy: 0.8939 - auc: 0.9558 - student_loss: 0.2782 - distillation_loss: 0.0090"
          ]
        },
        {
          "output_type": "stream",
          "name": "stderr",
          "text": [
            "WARNING:tensorflow:Early stopping conditioned on metric `val_loss` which is not available. Available metrics are: categorical_accuracy,auc,student_loss,distillation_loss,val_categorical_accuracy,val_auc,val_student_loss\n"
          ]
        },
        {
          "output_type": "stream",
          "name": "stdout",
          "text": [
            "\b\b\b\b\b\b\b\b\b\b\b\b\b\b\b\b\b\b\b\b\b\b\b\b\b\b\b\b\b\b\b\b\b\b\b\b\b\b\b\b\b\b\b\b\b\b\b\b\b\b\b\b\b\b\b\b\b\b\b\b\b\b\b\b\b\b\b\b\b\b\b\b\b\b\b\b\b\b\b\b\b\b\b\b\b\b\b\b\b\b\b\b\b\b\b\b\b\b\b\b\b\b\b\b\b\b\b\b\b\b\b\b\b\b\b\b\b\b\b\b\b\b\b\b\b\b\b\b\b\b\b\b\b\b\b\b\b\b\b\b\b\b\b\b\b\b\r154/154 [==============================] - 3s 20ms/step - categorical_accuracy: 0.8939 - auc: 0.9558 - student_loss: 0.2772 - distillation_loss: 0.0090 - val_categorical_accuracy: 0.8320 - val_auc: 0.9153 - val_student_loss: 0.5388\n",
            "Epoch 41/100\n",
            "153/154 [============================>.] - ETA: 0s - categorical_accuracy: 0.8864 - auc: 0.9562 - student_loss: 0.2789 - distillation_loss: 0.0087"
          ]
        },
        {
          "output_type": "stream",
          "name": "stderr",
          "text": [
            "WARNING:tensorflow:Early stopping conditioned on metric `val_loss` which is not available. Available metrics are: categorical_accuracy,auc,student_loss,distillation_loss,val_categorical_accuracy,val_auc,val_student_loss\n"
          ]
        },
        {
          "output_type": "stream",
          "name": "stdout",
          "text": [
            "\b\b\b\b\b\b\b\b\b\b\b\b\b\b\b\b\b\b\b\b\b\b\b\b\b\b\b\b\b\b\b\b\b\b\b\b\b\b\b\b\b\b\b\b\b\b\b\b\b\b\b\b\b\b\b\b\b\b\b\b\b\b\b\b\b\b\b\b\b\b\b\b\b\b\b\b\b\b\b\b\b\b\b\b\b\b\b\b\b\b\b\b\b\b\b\b\b\b\b\b\b\b\b\b\b\b\b\b\b\b\b\b\b\b\b\b\b\b\b\b\b\b\b\b\b\b\b\b\b\b\b\b\b\b\b\b\b\b\b\b\b\b\b\b\b\b\r154/154 [==============================] - 3s 20ms/step - categorical_accuracy: 0.8866 - auc: 0.9562 - student_loss: 0.2765 - distillation_loss: 0.0087 - val_categorical_accuracy: 0.8206 - val_auc: 0.9147 - val_student_loss: 0.5220\n",
            "Epoch 42/100\n",
            "152/154 [============================>.] - ETA: 0s - categorical_accuracy: 0.8935 - auc: 0.9544 - student_loss: 0.2824 - distillation_loss: 0.0087"
          ]
        },
        {
          "output_type": "stream",
          "name": "stderr",
          "text": [
            "WARNING:tensorflow:Early stopping conditioned on metric `val_loss` which is not available. Available metrics are: categorical_accuracy,auc,student_loss,distillation_loss,val_categorical_accuracy,val_auc,val_student_loss\n"
          ]
        },
        {
          "output_type": "stream",
          "name": "stdout",
          "text": [
            "\b\b\b\b\b\b\b\b\b\b\b\b\b\b\b\b\b\b\b\b\b\b\b\b\b\b\b\b\b\b\b\b\b\b\b\b\b\b\b\b\b\b\b\b\b\b\b\b\b\b\b\b\b\b\b\b\b\b\b\b\b\b\b\b\b\b\b\b\b\b\b\b\b\b\b\b\b\b\b\b\b\b\b\b\b\b\b\b\b\b\b\b\b\b\b\b\b\b\b\b\b\b\b\b\b\b\b\b\b\b\b\b\b\b\b\b\b\b\b\b\b\b\b\b\b\b\b\b\b\b\b\b\b\b\b\b\b\b\b\b\b\b\b\b\b\b\r154/154 [==============================] - 3s 20ms/step - categorical_accuracy: 0.8943 - auc: 0.9549 - student_loss: 0.2793 - distillation_loss: 0.0088 - val_categorical_accuracy: 0.8222 - val_auc: 0.9116 - val_student_loss: 0.5890\n",
            "Epoch 43/100\n",
            "152/154 [============================>.] - ETA: 0s - categorical_accuracy: 0.8877 - auc: 0.9553 - student_loss: 0.2808 - distillation_loss: 0.0085"
          ]
        },
        {
          "output_type": "stream",
          "name": "stderr",
          "text": [
            "WARNING:tensorflow:Early stopping conditioned on metric `val_loss` which is not available. Available metrics are: categorical_accuracy,auc,student_loss,distillation_loss,val_categorical_accuracy,val_auc,val_student_loss\n"
          ]
        },
        {
          "output_type": "stream",
          "name": "stdout",
          "text": [
            "\b\b\b\b\b\b\b\b\b\b\b\b\b\b\b\b\b\b\b\b\b\b\b\b\b\b\b\b\b\b\b\b\b\b\b\b\b\b\b\b\b\b\b\b\b\b\b\b\b\b\b\b\b\b\b\b\b\b\b\b\b\b\b\b\b\b\b\b\b\b\b\b\b\b\b\b\b\b\b\b\b\b\b\b\b\b\b\b\b\b\b\b\b\b\b\b\b\b\b\b\b\b\b\b\b\b\b\b\b\b\b\b\b\b\b\b\b\b\b\b\b\b\b\b\b\b\b\b\b\b\b\b\b\b\b\b\b\b\b\b\b\b\b\b\b\b\r154/154 [==============================] - 3s 19ms/step - categorical_accuracy: 0.8870 - auc: 0.9548 - student_loss: 0.2877 - distillation_loss: 0.0084 - val_categorical_accuracy: 0.8303 - val_auc: 0.9161 - val_student_loss: 0.4728\n",
            "Epoch 44/100\n",
            "154/154 [==============================] - ETA: 0s - categorical_accuracy: 0.8907 - auc: 0.9558 - student_loss: 0.2796 - distillation_loss: 0.0084"
          ]
        },
        {
          "output_type": "stream",
          "name": "stderr",
          "text": [
            "WARNING:tensorflow:Early stopping conditioned on metric `val_loss` which is not available. Available metrics are: categorical_accuracy,auc,student_loss,distillation_loss,val_categorical_accuracy,val_auc,val_student_loss\n"
          ]
        },
        {
          "output_type": "stream",
          "name": "stdout",
          "text": [
            "\b\b\b\b\b\b\b\b\b\b\b\b\b\b\b\b\b\b\b\b\b\b\b\b\b\b\b\b\b\b\b\b\b\b\b\b\b\b\b\b\b\b\b\b\b\b\b\b\b\b\b\b\b\b\b\b\b\b\b\b\b\b\b\b\b\b\b\b\b\b\b\b\b\b\b\b\b\b\b\b\b\b\b\b\b\b\b\b\b\b\b\b\b\b\b\b\b\b\b\b\b\b\b\b\b\b\b\b\b\b\b\b\b\b\b\b\b\b\b\b\b\b\b\b\b\b\b\b\b\b\b\b\b\b\b\b\b\b\b\b\b\b\b\b\b\b\r154/154 [==============================] - 3s 20ms/step - categorical_accuracy: 0.8907 - auc: 0.9558 - student_loss: 0.2791 - distillation_loss: 0.0084 - val_categorical_accuracy: 0.8303 - val_auc: 0.9146 - val_student_loss: 0.5528\n",
            "Epoch 45/100\n",
            "154/154 [==============================] - ETA: 0s - categorical_accuracy: 0.8911 - auc: 0.9571 - student_loss: 0.2778 - distillation_loss: 0.0086"
          ]
        },
        {
          "output_type": "stream",
          "name": "stderr",
          "text": [
            "WARNING:tensorflow:Early stopping conditioned on metric `val_loss` which is not available. Available metrics are: categorical_accuracy,auc,student_loss,distillation_loss,val_categorical_accuracy,val_auc,val_student_loss\n"
          ]
        },
        {
          "output_type": "stream",
          "name": "stdout",
          "text": [
            "\b\b\b\b\b\b\b\b\b\b\b\b\b\b\b\b\b\b\b\b\b\b\b\b\b\b\b\b\b\b\b\b\b\b\b\b\b\b\b\b\b\b\b\b\b\b\b\b\b\b\b\b\b\b\b\b\b\b\b\b\b\b\b\b\b\b\b\b\b\b\b\b\b\b\b\b\b\b\b\b\b\b\b\b\b\b\b\b\b\b\b\b\b\b\b\b\b\b\b\b\b\b\b\b\b\b\b\b\b\b\b\b\b\b\b\b\b\b\b\b\b\b\b\b\b\b\b\b\b\b\b\b\b\b\b\b\b\b\b\b\b\b\b\b\b\b\r154/154 [==============================] - 3s 20ms/step - categorical_accuracy: 0.8911 - auc: 0.9571 - student_loss: 0.2791 - distillation_loss: 0.0086 - val_categorical_accuracy: 0.8352 - val_auc: 0.9133 - val_student_loss: 0.5643\n",
            "Epoch 46/100\n",
            "153/154 [============================>.] - ETA: 0s - categorical_accuracy: 0.8946 - auc: 0.9602 - student_loss: 0.2694 - distillation_loss: 0.0083"
          ]
        },
        {
          "output_type": "stream",
          "name": "stderr",
          "text": [
            "WARNING:tensorflow:Early stopping conditioned on metric `val_loss` which is not available. Available metrics are: categorical_accuracy,auc,student_loss,distillation_loss,val_categorical_accuracy,val_auc,val_student_loss\n"
          ]
        },
        {
          "output_type": "stream",
          "name": "stdout",
          "text": [
            "\b\b\b\b\b\b\b\b\b\b\b\b\b\b\b\b\b\b\b\b\b\b\b\b\b\b\b\b\b\b\b\b\b\b\b\b\b\b\b\b\b\b\b\b\b\b\b\b\b\b\b\b\b\b\b\b\b\b\b\b\b\b\b\b\b\b\b\b\b\b\b\b\b\b\b\b\b\b\b\b\b\b\b\b\b\b\b\b\b\b\b\b\b\b\b\b\b\b\b\b\b\b\b\b\b\b\b\b\b\b\b\b\b\b\b\b\b\b\b\b\b\b\b\b\b\b\b\b\b\b\b\b\b\b\b\b\b\b\b\b\b\b\b\b\b\b\r154/154 [==============================] - 3s 20ms/step - categorical_accuracy: 0.8947 - auc: 0.9603 - student_loss: 0.2678 - distillation_loss: 0.0082 - val_categorical_accuracy: 0.8336 - val_auc: 0.9114 - val_student_loss: 0.6148\n",
            "Epoch 47/100\n",
            "154/154 [==============================] - ETA: 0s - categorical_accuracy: 0.8943 - auc: 0.9554 - student_loss: 0.2792 - distillation_loss: 0.0084"
          ]
        },
        {
          "output_type": "stream",
          "name": "stderr",
          "text": [
            "WARNING:tensorflow:Early stopping conditioned on metric `val_loss` which is not available. Available metrics are: categorical_accuracy,auc,student_loss,distillation_loss,val_categorical_accuracy,val_auc,val_student_loss\n"
          ]
        },
        {
          "output_type": "stream",
          "name": "stdout",
          "text": [
            "\b\b\b\b\b\b\b\b\b\b\b\b\b\b\b\b\b\b\b\b\b\b\b\b\b\b\b\b\b\b\b\b\b\b\b\b\b\b\b\b\b\b\b\b\b\b\b\b\b\b\b\b\b\b\b\b\b\b\b\b\b\b\b\b\b\b\b\b\b\b\b\b\b\b\b\b\b\b\b\b\b\b\b\b\b\b\b\b\b\b\b\b\b\b\b\b\b\b\b\b\b\b\b\b\b\b\b\b\b\b\b\b\b\b\b\b\b\b\b\b\b\b\b\b\b\b\b\b\b\b\b\b\b\b\b\b\b\b\b\b\b\b\b\b\b\b\r154/154 [==============================] - 3s 19ms/step - categorical_accuracy: 0.8943 - auc: 0.9554 - student_loss: 0.2796 - distillation_loss: 0.0083 - val_categorical_accuracy: 0.8303 - val_auc: 0.9148 - val_student_loss: 0.5086\n",
            "Epoch 48/100\n",
            "153/154 [============================>.] - ETA: 0s - categorical_accuracy: 0.8897 - auc: 0.9573 - student_loss: 0.2766 - distillation_loss: 0.0081"
          ]
        },
        {
          "output_type": "stream",
          "name": "stderr",
          "text": [
            "WARNING:tensorflow:Early stopping conditioned on metric `val_loss` which is not available. Available metrics are: categorical_accuracy,auc,student_loss,distillation_loss,val_categorical_accuracy,val_auc,val_student_loss\n"
          ]
        },
        {
          "output_type": "stream",
          "name": "stdout",
          "text": [
            "\b\b\b\b\b\b\b\b\b\b\b\b\b\b\b\b\b\b\b\b\b\b\b\b\b\b\b\b\b\b\b\b\b\b\b\b\b\b\b\b\b\b\b\b\b\b\b\b\b\b\b\b\b\b\b\b\b\b\b\b\b\b\b\b\b\b\b\b\b\b\b\b\b\b\b\b\b\b\b\b\b\b\b\b\b\b\b\b\b\b\b\b\b\b\b\b\b\b\b\b\b\b\b\b\b\b\b\b\b\b\b\b\b\b\b\b\b\b\b\b\b\b\b\b\b\b\b\b\b\b\b\b\b\b\b\b\b\b\b\b\b\b\b\b\b\b\r154/154 [==============================] - 3s 20ms/step - categorical_accuracy: 0.8894 - auc: 0.9573 - student_loss: 0.2772 - distillation_loss: 0.0082 - val_categorical_accuracy: 0.8254 - val_auc: 0.9116 - val_student_loss: 0.4830\n",
            "Epoch 49/100\n",
            "154/154 [==============================] - ETA: 0s - categorical_accuracy: 0.8956 - auc: 0.9588 - student_loss: 0.2732 - distillation_loss: 0.0080"
          ]
        },
        {
          "output_type": "stream",
          "name": "stderr",
          "text": [
            "WARNING:tensorflow:Early stopping conditioned on metric `val_loss` which is not available. Available metrics are: categorical_accuracy,auc,student_loss,distillation_loss,val_categorical_accuracy,val_auc,val_student_loss\n"
          ]
        },
        {
          "output_type": "stream",
          "name": "stdout",
          "text": [
            "\b\b\b\b\b\b\b\b\b\b\b\b\b\b\b\b\b\b\b\b\b\b\b\b\b\b\b\b\b\b\b\b\b\b\b\b\b\b\b\b\b\b\b\b\b\b\b\b\b\b\b\b\b\b\b\b\b\b\b\b\b\b\b\b\b\b\b\b\b\b\b\b\b\b\b\b\b\b\b\b\b\b\b\b\b\b\b\b\b\b\b\b\b\b\b\b\b\b\b\b\b\b\b\b\b\b\b\b\b\b\b\b\b\b\b\b\b\b\b\b\b\b\b\b\b\b\b\b\b\b\b\b\b\b\b\b\b\b\b\b\b\b\b\b\b\b\r154/154 [==============================] - 3s 21ms/step - categorical_accuracy: 0.8956 - auc: 0.9588 - student_loss: 0.2728 - distillation_loss: 0.0080 - val_categorical_accuracy: 0.8320 - val_auc: 0.9132 - val_student_loss: 0.5629\n",
            "Epoch 50/100\n",
            "154/154 [==============================] - ETA: 0s - categorical_accuracy: 0.8972 - auc: 0.9581 - student_loss: 0.2750 - distillation_loss: 0.0079"
          ]
        },
        {
          "output_type": "stream",
          "name": "stderr",
          "text": [
            "WARNING:tensorflow:Early stopping conditioned on metric `val_loss` which is not available. Available metrics are: categorical_accuracy,auc,student_loss,distillation_loss,val_categorical_accuracy,val_auc,val_student_loss\n"
          ]
        },
        {
          "output_type": "stream",
          "name": "stdout",
          "text": [
            "\b\b\b\b\b\b\b\b\b\b\b\b\b\b\b\b\b\b\b\b\b\b\b\b\b\b\b\b\b\b\b\b\b\b\b\b\b\b\b\b\b\b\b\b\b\b\b\b\b\b\b\b\b\b\b\b\b\b\b\b\b\b\b\b\b\b\b\b\b\b\b\b\b\b\b\b\b\b\b\b\b\b\b\b\b\b\b\b\b\b\b\b\b\b\b\b\b\b\b\b\b\b\b\b\b\b\b\b\b\b\b\b\b\b\b\b\b\b\b\b\b\b\b\b\b\b\b\b\b\b\b\b\b\b\b\b\b\b\b\b\b\b\b\b\b\b\r154/154 [==============================] - 3s 19ms/step - categorical_accuracy: 0.8972 - auc: 0.9581 - student_loss: 0.2777 - distillation_loss: 0.0079 - val_categorical_accuracy: 0.8336 - val_auc: 0.9124 - val_student_loss: 0.5716\n",
            "Epoch 51/100\n",
            "153/154 [============================>.] - ETA: 0s - categorical_accuracy: 0.8962 - auc: 0.9598 - student_loss: 0.2706 - distillation_loss: 0.0079"
          ]
        },
        {
          "output_type": "stream",
          "name": "stderr",
          "text": [
            "WARNING:tensorflow:Early stopping conditioned on metric `val_loss` which is not available. Available metrics are: categorical_accuracy,auc,student_loss,distillation_loss,val_categorical_accuracy,val_auc,val_student_loss\n"
          ]
        },
        {
          "output_type": "stream",
          "name": "stdout",
          "text": [
            "\b\b\b\b\b\b\b\b\b\b\b\b\b\b\b\b\b\b\b\b\b\b\b\b\b\b\b\b\b\b\b\b\b\b\b\b\b\b\b\b\b\b\b\b\b\b\b\b\b\b\b\b\b\b\b\b\b\b\b\b\b\b\b\b\b\b\b\b\b\b\b\b\b\b\b\b\b\b\b\b\b\b\b\b\b\b\b\b\b\b\b\b\b\b\b\b\b\b\b\b\b\b\b\b\b\b\b\b\b\b\b\b\b\b\b\b\b\b\b\b\b\b\b\b\b\b\b\b\b\b\b\b\b\b\b\b\b\b\b\b\b\b\b\b\b\b\r154/154 [==============================] - 3s 20ms/step - categorical_accuracy: 0.8964 - auc: 0.9598 - student_loss: 0.2684 - distillation_loss: 0.0079 - val_categorical_accuracy: 0.8320 - val_auc: 0.9119 - val_student_loss: 0.5187\n",
            "Epoch 52/100\n",
            "153/154 [============================>.] - ETA: 0s - categorical_accuracy: 0.8934 - auc: 0.9578 - student_loss: 0.2751 - distillation_loss: 0.0075"
          ]
        },
        {
          "output_type": "stream",
          "name": "stderr",
          "text": [
            "WARNING:tensorflow:Early stopping conditioned on metric `val_loss` which is not available. Available metrics are: categorical_accuracy,auc,student_loss,distillation_loss,val_categorical_accuracy,val_auc,val_student_loss\n"
          ]
        },
        {
          "output_type": "stream",
          "name": "stdout",
          "text": [
            "\b\b\b\b\b\b\b\b\b\b\b\b\b\b\b\b\b\b\b\b\b\b\b\b\b\b\b\b\b\b\b\b\b\b\b\b\b\b\b\b\b\b\b\b\b\b\b\b\b\b\b\b\b\b\b\b\b\b\b\b\b\b\b\b\b\b\b\b\b\b\b\b\b\b\b\b\b\b\b\b\b\b\b\b\b\b\b\b\b\b\b\b\b\b\b\b\b\b\b\b\b\b\b\b\b\b\b\b\b\b\b\b\b\b\b\b\b\b\b\b\b\b\b\b\b\b\b\b\b\b\b\b\b\b\b\b\b\b\b\b\b\b\b\b\b\b\r154/154 [==============================] - 3s 20ms/step - categorical_accuracy: 0.8935 - auc: 0.9579 - student_loss: 0.2739 - distillation_loss: 0.0074 - val_categorical_accuracy: 0.8352 - val_auc: 0.9146 - val_student_loss: 0.5220\n",
            "Epoch 53/100\n",
            "154/154 [==============================] - ETA: 0s - categorical_accuracy: 0.8984 - auc: 0.9612 - student_loss: 0.2640 - distillation_loss: 0.0081"
          ]
        },
        {
          "output_type": "stream",
          "name": "stderr",
          "text": [
            "WARNING:tensorflow:Early stopping conditioned on metric `val_loss` which is not available. Available metrics are: categorical_accuracy,auc,student_loss,distillation_loss,val_categorical_accuracy,val_auc,val_student_loss\n"
          ]
        },
        {
          "output_type": "stream",
          "name": "stdout",
          "text": [
            "\b\b\b\b\b\b\b\b\b\b\b\b\b\b\b\b\b\b\b\b\b\b\b\b\b\b\b\b\b\b\b\b\b\b\b\b\b\b\b\b\b\b\b\b\b\b\b\b\b\b\b\b\b\b\b\b\b\b\b\b\b\b\b\b\b\b\b\b\b\b\b\b\b\b\b\b\b\b\b\b\b\b\b\b\b\b\b\b\b\b\b\b\b\b\b\b\b\b\b\b\b\b\b\b\b\b\b\b\b\b\b\b\b\b\b\b\b\b\b\b\b\b\b\b\b\b\b\b\b\b\b\b\b\b\b\b\b\b\b\b\b\b\b\b\b\b\r154/154 [==============================] - 3s 20ms/step - categorical_accuracy: 0.8984 - auc: 0.9612 - student_loss: 0.2626 - distillation_loss: 0.0082 - val_categorical_accuracy: 0.8352 - val_auc: 0.9132 - val_student_loss: 0.5325\n",
            "Epoch 54/100\n",
            "152/154 [============================>.] - ETA: 0s - categorical_accuracy: 0.8976 - auc: 0.9617 - student_loss: 0.2659 - distillation_loss: 0.0078"
          ]
        },
        {
          "output_type": "stream",
          "name": "stderr",
          "text": [
            "WARNING:tensorflow:Early stopping conditioned on metric `val_loss` which is not available. Available metrics are: categorical_accuracy,auc,student_loss,distillation_loss,val_categorical_accuracy,val_auc,val_student_loss\n"
          ]
        },
        {
          "output_type": "stream",
          "name": "stdout",
          "text": [
            "\b\b\b\b\b\b\b\b\b\b\b\b\b\b\b\b\b\b\b\b\b\b\b\b\b\b\b\b\b\b\b\b\b\b\b\b\b\b\b\b\b\b\b\b\b\b\b\b\b\b\b\b\b\b\b\b\b\b\b\b\b\b\b\b\b\b\b\b\b\b\b\b\b\b\b\b\b\b\b\b\b\b\b\b\b\b\b\b\b\b\b\b\b\b\b\b\b\b\b\b\b\b\b\b\b\b\b\b\b\b\b\b\b\b\b\b\b\b\b\b\b\b\b\b\b\b\b\b\b\b\b\b\b\b\b\b\b\b\b\b\b\b\b\b\b\b\r154/154 [==============================] - 3s 20ms/step - categorical_accuracy: 0.8972 - auc: 0.9617 - student_loss: 0.2686 - distillation_loss: 0.0077 - val_categorical_accuracy: 0.8320 - val_auc: 0.9074 - val_student_loss: 0.6048\n",
            "Epoch 55/100\n",
            "153/154 [============================>.] - ETA: 0s - categorical_accuracy: 0.8967 - auc: 0.9599 - student_loss: 0.2682 - distillation_loss: 0.0076"
          ]
        },
        {
          "output_type": "stream",
          "name": "stderr",
          "text": [
            "WARNING:tensorflow:Early stopping conditioned on metric `val_loss` which is not available. Available metrics are: categorical_accuracy,auc,student_loss,distillation_loss,val_categorical_accuracy,val_auc,val_student_loss\n"
          ]
        },
        {
          "output_type": "stream",
          "name": "stdout",
          "text": [
            "\b\b\b\b\b\b\b\b\b\b\b\b\b\b\b\b\b\b\b\b\b\b\b\b\b\b\b\b\b\b\b\b\b\b\b\b\b\b\b\b\b\b\b\b\b\b\b\b\b\b\b\b\b\b\b\b\b\b\b\b\b\b\b\b\b\b\b\b\b\b\b\b\b\b\b\b\b\b\b\b\b\b\b\b\b\b\b\b\b\b\b\b\b\b\b\b\b\b\b\b\b\b\b\b\b\b\b\b\b\b\b\b\b\b\b\b\b\b\b\b\b\b\b\b\b\b\b\b\b\b\b\b\b\b\b\b\b\b\b\b\b\b\b\b\b\b\r154/154 [==============================] - 3s 19ms/step - categorical_accuracy: 0.8968 - auc: 0.9600 - student_loss: 0.2654 - distillation_loss: 0.0075 - val_categorical_accuracy: 0.8352 - val_auc: 0.9086 - val_student_loss: 0.6547\n",
            "Epoch 56/100\n",
            "153/154 [============================>.] - ETA: 0s - categorical_accuracy: 0.8893 - auc: 0.9614 - student_loss: 0.2654 - distillation_loss: 0.0077"
          ]
        },
        {
          "output_type": "stream",
          "name": "stderr",
          "text": [
            "WARNING:tensorflow:Early stopping conditioned on metric `val_loss` which is not available. Available metrics are: categorical_accuracy,auc,student_loss,distillation_loss,val_categorical_accuracy,val_auc,val_student_loss\n"
          ]
        },
        {
          "output_type": "stream",
          "name": "stdout",
          "text": [
            "\b\b\b\b\b\b\b\b\b\b\b\b\b\b\b\b\b\b\b\b\b\b\b\b\b\b\b\b\b\b\b\b\b\b\b\b\b\b\b\b\b\b\b\b\b\b\b\b\b\b\b\b\b\b\b\b\b\b\b\b\b\b\b\b\b\b\b\b\b\b\b\b\b\b\b\b\b\b\b\b\b\b\b\b\b\b\b\b\b\b\b\b\b\b\b\b\b\b\b\b\b\b\b\b\b\b\b\b\b\b\b\b\b\b\b\b\b\b\b\b\b\b\b\b\b\b\b\b\b\b\b\b\b\b\b\b\b\b\b\b\b\b\b\b\b\b\r154/154 [==============================] - 3s 19ms/step - categorical_accuracy: 0.8890 - auc: 0.9614 - student_loss: 0.2661 - distillation_loss: 0.0077 - val_categorical_accuracy: 0.8336 - val_auc: 0.9156 - val_student_loss: 0.5440\n",
            "Epoch 57/100\n",
            "154/154 [==============================] - ETA: 0s - categorical_accuracy: 0.8964 - auc: 0.9616 - student_loss: 0.2646 - distillation_loss: 0.0073"
          ]
        },
        {
          "output_type": "stream",
          "name": "stderr",
          "text": [
            "WARNING:tensorflow:Early stopping conditioned on metric `val_loss` which is not available. Available metrics are: categorical_accuracy,auc,student_loss,distillation_loss,val_categorical_accuracy,val_auc,val_student_loss\n"
          ]
        },
        {
          "output_type": "stream",
          "name": "stdout",
          "text": [
            "\b\b\b\b\b\b\b\b\b\b\b\b\b\b\b\b\b\b\b\b\b\b\b\b\b\b\b\b\b\b\b\b\b\b\b\b\b\b\b\b\b\b\b\b\b\b\b\b\b\b\b\b\b\b\b\b\b\b\b\b\b\b\b\b\b\b\b\b\b\b\b\b\b\b\b\b\b\b\b\b\b\b\b\b\b\b\b\b\b\b\b\b\b\b\b\b\b\b\b\b\b\b\b\b\b\b\b\b\b\b\b\b\b\b\b\b\b\b\b\b\b\b\b\b\b\b\b\b\b\b\b\b\b\b\b\b\b\b\b\b\b\b\b\b\b\b\r154/154 [==============================] - 3s 20ms/step - categorical_accuracy: 0.8964 - auc: 0.9616 - student_loss: 0.2631 - distillation_loss: 0.0073 - val_categorical_accuracy: 0.8303 - val_auc: 0.9085 - val_student_loss: 0.6423\n",
            "Epoch 58/100\n",
            "152/154 [============================>.] - ETA: 0s - categorical_accuracy: 0.8951 - auc: 0.9619 - student_loss: 0.2646 - distillation_loss: 0.0075"
          ]
        },
        {
          "output_type": "stream",
          "name": "stderr",
          "text": [
            "WARNING:tensorflow:Early stopping conditioned on metric `val_loss` which is not available. Available metrics are: categorical_accuracy,auc,student_loss,distillation_loss,val_categorical_accuracy,val_auc,val_student_loss\n"
          ]
        },
        {
          "output_type": "stream",
          "name": "stdout",
          "text": [
            "\b\b\b\b\b\b\b\b\b\b\b\b\b\b\b\b\b\b\b\b\b\b\b\b\b\b\b\b\b\b\b\b\b\b\b\b\b\b\b\b\b\b\b\b\b\b\b\b\b\b\b\b\b\b\b\b\b\b\b\b\b\b\b\b\b\b\b\b\b\b\b\b\b\b\b\b\b\b\b\b\b\b\b\b\b\b\b\b\b\b\b\b\b\b\b\b\b\b\b\b\b\b\b\b\b\b\b\b\b\b\b\b\b\b\b\b\b\b\b\b\b\b\b\b\b\b\b\b\b\b\b\b\b\b\b\b\b\b\b\b\b\b\b\b\b\b\r154/154 [==============================] - 3s 20ms/step - categorical_accuracy: 0.8951 - auc: 0.9620 - student_loss: 0.2649 - distillation_loss: 0.0075 - val_categorical_accuracy: 0.8401 - val_auc: 0.9167 - val_student_loss: 0.4548\n",
            "Epoch 59/100\n",
            "153/154 [============================>.] - ETA: 0s - categorical_accuracy: 0.9020 - auc: 0.9647 - student_loss: 0.2585 - distillation_loss: 0.0078"
          ]
        },
        {
          "output_type": "stream",
          "name": "stderr",
          "text": [
            "WARNING:tensorflow:Early stopping conditioned on metric `val_loss` which is not available. Available metrics are: categorical_accuracy,auc,student_loss,distillation_loss,val_categorical_accuracy,val_auc,val_student_loss\n"
          ]
        },
        {
          "output_type": "stream",
          "name": "stdout",
          "text": [
            "\b\b\b\b\b\b\b\b\b\b\b\b\b\b\b\b\b\b\b\b\b\b\b\b\b\b\b\b\b\b\b\b\b\b\b\b\b\b\b\b\b\b\b\b\b\b\b\b\b\b\b\b\b\b\b\b\b\b\b\b\b\b\b\b\b\b\b\b\b\b\b\b\b\b\b\b\b\b\b\b\b\b\b\b\b\b\b\b\b\b\b\b\b\b\b\b\b\b\b\b\b\b\b\b\b\b\b\b\b\b\b\b\b\b\b\b\b\b\b\b\b\b\b\b\b\b\b\b\b\b\b\b\b\b\b\b\b\b\b\b\b\b\b\b\b\b\r154/154 [==============================] - 3s 19ms/step - categorical_accuracy: 0.9021 - auc: 0.9647 - student_loss: 0.2581 - distillation_loss: 0.0078 - val_categorical_accuracy: 0.8320 - val_auc: 0.9112 - val_student_loss: 0.5618\n",
            "Epoch 60/100\n",
            "152/154 [============================>.] - ETA: 0s - categorical_accuracy: 0.8997 - auc: 0.9627 - student_loss: 0.2606 - distillation_loss: 0.0076"
          ]
        },
        {
          "output_type": "stream",
          "name": "stderr",
          "text": [
            "WARNING:tensorflow:Early stopping conditioned on metric `val_loss` which is not available. Available metrics are: categorical_accuracy,auc,student_loss,distillation_loss,val_categorical_accuracy,val_auc,val_student_loss\n"
          ]
        },
        {
          "output_type": "stream",
          "name": "stdout",
          "text": [
            "\b\b\b\b\b\b\b\b\b\b\b\b\b\b\b\b\b\b\b\b\b\b\b\b\b\b\b\b\b\b\b\b\b\b\b\b\b\b\b\b\b\b\b\b\b\b\b\b\b\b\b\b\b\b\b\b\b\b\b\b\b\b\b\b\b\b\b\b\b\b\b\b\b\b\b\b\b\b\b\b\b\b\b\b\b\b\b\b\b\b\b\b\b\b\b\b\b\b\b\b\b\b\b\b\b\b\b\b\b\b\b\b\b\b\b\b\b\b\b\b\b\b\b\b\b\b\b\b\b\b\b\b\b\b\b\b\b\b\b\b\b\b\b\b\b\b\r154/154 [==============================] - 3s 19ms/step - categorical_accuracy: 0.8996 - auc: 0.9629 - student_loss: 0.2609 - distillation_loss: 0.0076 - val_categorical_accuracy: 0.8369 - val_auc: 0.9149 - val_student_loss: 0.5133\n",
            "Epoch 61/100\n",
            "154/154 [==============================] - ETA: 0s - categorical_accuracy: 0.8984 - auc: 0.9634 - student_loss: 0.2598 - distillation_loss: 0.0073"
          ]
        },
        {
          "output_type": "stream",
          "name": "stderr",
          "text": [
            "WARNING:tensorflow:Early stopping conditioned on metric `val_loss` which is not available. Available metrics are: categorical_accuracy,auc,student_loss,distillation_loss,val_categorical_accuracy,val_auc,val_student_loss\n"
          ]
        },
        {
          "output_type": "stream",
          "name": "stdout",
          "text": [
            "\b\b\b\b\b\b\b\b\b\b\b\b\b\b\b\b\b\b\b\b\b\b\b\b\b\b\b\b\b\b\b\b\b\b\b\b\b\b\b\b\b\b\b\b\b\b\b\b\b\b\b\b\b\b\b\b\b\b\b\b\b\b\b\b\b\b\b\b\b\b\b\b\b\b\b\b\b\b\b\b\b\b\b\b\b\b\b\b\b\b\b\b\b\b\b\b\b\b\b\b\b\b\b\b\b\b\b\b\b\b\b\b\b\b\b\b\b\b\b\b\b\b\b\b\b\b\b\b\b\b\b\b\b\b\b\b\b\b\b\b\b\b\b\b\b\b\r154/154 [==============================] - 3s 20ms/step - categorical_accuracy: 0.8984 - auc: 0.9634 - student_loss: 0.2584 - distillation_loss: 0.0073 - val_categorical_accuracy: 0.8369 - val_auc: 0.9139 - val_student_loss: 0.5171\n",
            "Epoch 62/100\n",
            "154/154 [==============================] - ETA: 0s - categorical_accuracy: 0.8984 - auc: 0.9651 - student_loss: 0.2558 - distillation_loss: 0.0075"
          ]
        },
        {
          "output_type": "stream",
          "name": "stderr",
          "text": [
            "WARNING:tensorflow:Early stopping conditioned on metric `val_loss` which is not available. Available metrics are: categorical_accuracy,auc,student_loss,distillation_loss,val_categorical_accuracy,val_auc,val_student_loss\n"
          ]
        },
        {
          "output_type": "stream",
          "name": "stdout",
          "text": [
            "\b\b\b\b\b\b\b\b\b\b\b\b\b\b\b\b\b\b\b\b\b\b\b\b\b\b\b\b\b\b\b\b\b\b\b\b\b\b\b\b\b\b\b\b\b\b\b\b\b\b\b\b\b\b\b\b\b\b\b\b\b\b\b\b\b\b\b\b\b\b\b\b\b\b\b\b\b\b\b\b\b\b\b\b\b\b\b\b\b\b\b\b\b\b\b\b\b\b\b\b\b\b\b\b\b\b\b\b\b\b\b\b\b\b\b\b\b\b\b\b\b\b\b\b\b\b\b\b\b\b\b\b\b\b\b\b\b\b\b\b\b\b\b\b\b\b\r154/154 [==============================] - 3s 22ms/step - categorical_accuracy: 0.8984 - auc: 0.9651 - student_loss: 0.2548 - distillation_loss: 0.0075 - val_categorical_accuracy: 0.8336 - val_auc: 0.9168 - val_student_loss: 0.4571\n",
            "Epoch 63/100\n",
            "152/154 [============================>.] - ETA: 0s - categorical_accuracy: 0.8997 - auc: 0.9640 - student_loss: 0.2585 - distillation_loss: 0.0078"
          ]
        },
        {
          "output_type": "stream",
          "name": "stderr",
          "text": [
            "WARNING:tensorflow:Early stopping conditioned on metric `val_loss` which is not available. Available metrics are: categorical_accuracy,auc,student_loss,distillation_loss,val_categorical_accuracy,val_auc,val_student_loss\n"
          ]
        },
        {
          "output_type": "stream",
          "name": "stdout",
          "text": [
            "\b\b\b\b\b\b\b\b\b\b\b\b\b\b\b\b\b\b\b\b\b\b\b\b\b\b\b\b\b\b\b\b\b\b\b\b\b\b\b\b\b\b\b\b\b\b\b\b\b\b\b\b\b\b\b\b\b\b\b\b\b\b\b\b\b\b\b\b\b\b\b\b\b\b\b\b\b\b\b\b\b\b\b\b\b\b\b\b\b\b\b\b\b\b\b\b\b\b\b\b\b\b\b\b\b\b\b\b\b\b\b\b\b\b\b\b\b\b\b\b\b\b\b\b\b\b\b\b\b\b\b\b\b\b\b\b\b\b\b\b\b\b\b\b\b\b\r154/154 [==============================] - 3s 20ms/step - categorical_accuracy: 0.9000 - auc: 0.9641 - student_loss: 0.2585 - distillation_loss: 0.0077 - val_categorical_accuracy: 0.8401 - val_auc: 0.9136 - val_student_loss: 0.5526\n",
            "Epoch 64/100\n",
            "151/154 [============================>.] - ETA: 0s - categorical_accuracy: 0.8982 - auc: 0.9641 - student_loss: 0.2599 - distillation_loss: 0.0072"
          ]
        },
        {
          "output_type": "stream",
          "name": "stderr",
          "text": [
            "WARNING:tensorflow:Early stopping conditioned on metric `val_loss` which is not available. Available metrics are: categorical_accuracy,auc,student_loss,distillation_loss,val_categorical_accuracy,val_auc,val_student_loss\n"
          ]
        },
        {
          "output_type": "stream",
          "name": "stdout",
          "text": [
            "\b\b\b\b\b\b\b\b\b\b\b\b\b\b\b\b\b\b\b\b\b\b\b\b\b\b\b\b\b\b\b\b\b\b\b\b\b\b\b\b\b\b\b\b\b\b\b\b\b\b\b\b\b\b\b\b\b\b\b\b\b\b\b\b\b\b\b\b\b\b\b\b\b\b\b\b\b\b\b\b\b\b\b\b\b\b\b\b\b\b\b\b\b\b\b\b\b\b\b\b\b\b\b\b\b\b\b\b\b\b\b\b\b\b\b\b\b\b\b\b\b\b\b\b\b\b\b\b\b\b\b\b\b\b\b\b\b\b\b\b\b\b\b\b\b\b\r154/154 [==============================] - 3s 20ms/step - categorical_accuracy: 0.8984 - auc: 0.9645 - student_loss: 0.2561 - distillation_loss: 0.0071 - val_categorical_accuracy: 0.8320 - val_auc: 0.9159 - val_student_loss: 0.5443\n",
            "Epoch 65/100\n",
            "152/154 [============================>.] - ETA: 0s - categorical_accuracy: 0.9005 - auc: 0.9645 - student_loss: 0.2579 - distillation_loss: 0.0073"
          ]
        },
        {
          "output_type": "stream",
          "name": "stderr",
          "text": [
            "WARNING:tensorflow:Early stopping conditioned on metric `val_loss` which is not available. Available metrics are: categorical_accuracy,auc,student_loss,distillation_loss,val_categorical_accuracy,val_auc,val_student_loss\n"
          ]
        },
        {
          "output_type": "stream",
          "name": "stdout",
          "text": [
            "\b\b\b\b\b\b\b\b\b\b\b\b\b\b\b\b\b\b\b\b\b\b\b\b\b\b\b\b\b\b\b\b\b\b\b\b\b\b\b\b\b\b\b\b\b\b\b\b\b\b\b\b\b\b\b\b\b\b\b\b\b\b\b\b\b\b\b\b\b\b\b\b\b\b\b\b\b\b\b\b\b\b\b\b\b\b\b\b\b\b\b\b\b\b\b\b\b\b\b\b\b\b\b\b\b\b\b\b\b\b\b\b\b\b\b\b\b\b\b\b\b\b\b\b\b\b\b\b\b\b\b\b\b\b\b\b\b\b\b\b\b\b\b\b\b\b\r154/154 [==============================] - 3s 20ms/step - categorical_accuracy: 0.9004 - auc: 0.9645 - student_loss: 0.2601 - distillation_loss: 0.0074 - val_categorical_accuracy: 0.8450 - val_auc: 0.9168 - val_student_loss: 0.5146\n",
            "Epoch 66/100\n",
            "153/154 [============================>.] - ETA: 0s - categorical_accuracy: 0.9081 - auc: 0.9663 - student_loss: 0.2526 - distillation_loss: 0.0075"
          ]
        },
        {
          "output_type": "stream",
          "name": "stderr",
          "text": [
            "WARNING:tensorflow:Early stopping conditioned on metric `val_loss` which is not available. Available metrics are: categorical_accuracy,auc,student_loss,distillation_loss,val_categorical_accuracy,val_auc,val_student_loss\n"
          ]
        },
        {
          "output_type": "stream",
          "name": "stdout",
          "text": [
            "\b\b\b\b\b\b\b\b\b\b\b\b\b\b\b\b\b\b\b\b\b\b\b\b\b\b\b\b\b\b\b\b\b\b\b\b\b\b\b\b\b\b\b\b\b\b\b\b\b\b\b\b\b\b\b\b\b\b\b\b\b\b\b\b\b\b\b\b\b\b\b\b\b\b\b\b\b\b\b\b\b\b\b\b\b\b\b\b\b\b\b\b\b\b\b\b\b\b\b\b\b\b\b\b\b\b\b\b\b\b\b\b\b\b\b\b\b\b\b\b\b\b\b\b\b\b\b\b\b\b\b\b\b\b\b\b\b\b\b\b\b\b\b\b\b\b\r154/154 [==============================] - 3s 20ms/step - categorical_accuracy: 0.9082 - auc: 0.9663 - student_loss: 0.2511 - distillation_loss: 0.0074 - val_categorical_accuracy: 0.8401 - val_auc: 0.9134 - val_student_loss: 0.5731\n",
            "Epoch 67/100\n",
            "151/154 [============================>.] - ETA: 0s - categorical_accuracy: 0.8990 - auc: 0.9650 - student_loss: 0.2566 - distillation_loss: 0.0074"
          ]
        },
        {
          "output_type": "stream",
          "name": "stderr",
          "text": [
            "WARNING:tensorflow:Early stopping conditioned on metric `val_loss` which is not available. Available metrics are: categorical_accuracy,auc,student_loss,distillation_loss,val_categorical_accuracy,val_auc,val_student_loss\n"
          ]
        },
        {
          "output_type": "stream",
          "name": "stdout",
          "text": [
            "\b\b\b\b\b\b\b\b\b\b\b\b\b\b\b\b\b\b\b\b\b\b\b\b\b\b\b\b\b\b\b\b\b\b\b\b\b\b\b\b\b\b\b\b\b\b\b\b\b\b\b\b\b\b\b\b\b\b\b\b\b\b\b\b\b\b\b\b\b\b\b\b\b\b\b\b\b\b\b\b\b\b\b\b\b\b\b\b\b\b\b\b\b\b\b\b\b\b\b\b\b\b\b\b\b\b\b\b\b\b\b\b\b\b\b\b\b\b\b\b\b\b\b\b\b\b\b\b\b\b\b\b\b\b\b\b\b\b\b\b\b\b\b\b\b\b\r154/154 [==============================] - 3s 19ms/step - categorical_accuracy: 0.8992 - auc: 0.9655 - student_loss: 0.2531 - distillation_loss: 0.0074 - val_categorical_accuracy: 0.8336 - val_auc: 0.9113 - val_student_loss: 0.6250\n",
            "Epoch 68/100\n",
            "152/154 [============================>.] - ETA: 0s - categorical_accuracy: 0.9058 - auc: 0.9676 - student_loss: 0.2501 - distillation_loss: 0.0073"
          ]
        },
        {
          "output_type": "stream",
          "name": "stderr",
          "text": [
            "WARNING:tensorflow:Early stopping conditioned on metric `val_loss` which is not available. Available metrics are: categorical_accuracy,auc,student_loss,distillation_loss,val_categorical_accuracy,val_auc,val_student_loss\n"
          ]
        },
        {
          "output_type": "stream",
          "name": "stdout",
          "text": [
            "\b\b\b\b\b\b\b\b\b\b\b\b\b\b\b\b\b\b\b\b\b\b\b\b\b\b\b\b\b\b\b\b\b\b\b\b\b\b\b\b\b\b\b\b\b\b\b\b\b\b\b\b\b\b\b\b\b\b\b\b\b\b\b\b\b\b\b\b\b\b\b\b\b\b\b\b\b\b\b\b\b\b\b\b\b\b\b\b\b\b\b\b\b\b\b\b\b\b\b\b\b\b\b\b\b\b\b\b\b\b\b\b\b\b\b\b\b\b\b\b\b\b\b\b\b\b\b\b\b\b\b\b\b\b\b\b\b\b\b\b\b\b\b\b\b\b\r154/154 [==============================] - 3s 19ms/step - categorical_accuracy: 0.9062 - auc: 0.9678 - student_loss: 0.2476 - distillation_loss: 0.0073 - val_categorical_accuracy: 0.8303 - val_auc: 0.9130 - val_student_loss: 0.4516\n",
            "Epoch 69/100\n",
            "151/154 [============================>.] - ETA: 0s - categorical_accuracy: 0.9065 - auc: 0.9704 - student_loss: 0.2428 - distillation_loss: 0.0077"
          ]
        },
        {
          "output_type": "stream",
          "name": "stderr",
          "text": [
            "WARNING:tensorflow:Early stopping conditioned on metric `val_loss` which is not available. Available metrics are: categorical_accuracy,auc,student_loss,distillation_loss,val_categorical_accuracy,val_auc,val_student_loss\n"
          ]
        },
        {
          "output_type": "stream",
          "name": "stdout",
          "text": [
            "\b\b\b\b\b\b\b\b\b\b\b\b\b\b\b\b\b\b\b\b\b\b\b\b\b\b\b\b\b\b\b\b\b\b\b\b\b\b\b\b\b\b\b\b\b\b\b\b\b\b\b\b\b\b\b\b\b\b\b\b\b\b\b\b\b\b\b\b\b\b\b\b\b\b\b\b\b\b\b\b\b\b\b\b\b\b\b\b\b\b\b\b\b\b\b\b\b\b\b\b\b\b\b\b\b\b\b\b\b\b\b\b\b\b\b\b\b\b\b\b\b\b\b\b\b\b\b\b\b\b\b\b\b\b\b\b\b\b\b\b\b\b\b\b\b\b\r154/154 [==============================] - 3s 19ms/step - categorical_accuracy: 0.9058 - auc: 0.9700 - student_loss: 0.2427 - distillation_loss: 0.0082 - val_categorical_accuracy: 0.8385 - val_auc: 0.9128 - val_student_loss: 0.6096\n",
            "Epoch 70/100\n",
            "154/154 [==============================] - ETA: 0s - categorical_accuracy: 0.8996 - auc: 0.9653 - student_loss: 0.2535 - distillation_loss: 0.0073"
          ]
        },
        {
          "output_type": "stream",
          "name": "stderr",
          "text": [
            "WARNING:tensorflow:Early stopping conditioned on metric `val_loss` which is not available. Available metrics are: categorical_accuracy,auc,student_loss,distillation_loss,val_categorical_accuracy,val_auc,val_student_loss\n"
          ]
        },
        {
          "output_type": "stream",
          "name": "stdout",
          "text": [
            "\b\b\b\b\b\b\b\b\b\b\b\b\b\b\b\b\b\b\b\b\b\b\b\b\b\b\b\b\b\b\b\b\b\b\b\b\b\b\b\b\b\b\b\b\b\b\b\b\b\b\b\b\b\b\b\b\b\b\b\b\b\b\b\b\b\b\b\b\b\b\b\b\b\b\b\b\b\b\b\b\b\b\b\b\b\b\b\b\b\b\b\b\b\b\b\b\b\b\b\b\b\b\b\b\b\b\b\b\b\b\b\b\b\b\b\b\b\b\b\b\b\b\b\b\b\b\b\b\b\b\b\b\b\b\b\b\b\b\b\b\b\b\b\b\b\b\r154/154 [==============================] - 4s 28ms/step - categorical_accuracy: 0.8996 - auc: 0.9653 - student_loss: 0.2525 - distillation_loss: 0.0072 - val_categorical_accuracy: 0.8369 - val_auc: 0.9164 - val_student_loss: 0.4810\n",
            "Epoch 71/100\n",
            "154/154 [==============================] - ETA: 0s - categorical_accuracy: 0.9070 - auc: 0.9693 - student_loss: 0.2445 - distillation_loss: 0.0077"
          ]
        },
        {
          "output_type": "stream",
          "name": "stderr",
          "text": [
            "WARNING:tensorflow:Early stopping conditioned on metric `val_loss` which is not available. Available metrics are: categorical_accuracy,auc,student_loss,distillation_loss,val_categorical_accuracy,val_auc,val_student_loss\n"
          ]
        },
        {
          "output_type": "stream",
          "name": "stdout",
          "text": [
            "\b\b\b\b\b\b\b\b\b\b\b\b\b\b\b\b\b\b\b\b\b\b\b\b\b\b\b\b\b\b\b\b\b\b\b\b\b\b\b\b\b\b\b\b\b\b\b\b\b\b\b\b\b\b\b\b\b\b\b\b\b\b\b\b\b\b\b\b\b\b\b\b\b\b\b\b\b\b\b\b\b\b\b\b\b\b\b\b\b\b\b\b\b\b\b\b\b\b\b\b\b\b\b\b\b\b\b\b\b\b\b\b\b\b\b\b\b\b\b\b\b\b\b\b\b\b\b\b\b\b\b\b\b\b\b\b\b\b\b\b\b\b\b\b\b\b\r154/154 [==============================] - 3s 20ms/step - categorical_accuracy: 0.9070 - auc: 0.9693 - student_loss: 0.2448 - distillation_loss: 0.0078 - val_categorical_accuracy: 0.8418 - val_auc: 0.9129 - val_student_loss: 0.5201\n",
            "Epoch 72/100\n",
            "153/154 [============================>.] - ETA: 0s - categorical_accuracy: 0.9093 - auc: 0.9718 - student_loss: 0.2373 - distillation_loss: 0.0077"
          ]
        },
        {
          "output_type": "stream",
          "name": "stderr",
          "text": [
            "WARNING:tensorflow:Early stopping conditioned on metric `val_loss` which is not available. Available metrics are: categorical_accuracy,auc,student_loss,distillation_loss,val_categorical_accuracy,val_auc,val_student_loss\n"
          ]
        },
        {
          "output_type": "stream",
          "name": "stdout",
          "text": [
            "\b\b\b\b\b\b\b\b\b\b\b\b\b\b\b\b\b\b\b\b\b\b\b\b\b\b\b\b\b\b\b\b\b\b\b\b\b\b\b\b\b\b\b\b\b\b\b\b\b\b\b\b\b\b\b\b\b\b\b\b\b\b\b\b\b\b\b\b\b\b\b\b\b\b\b\b\b\b\b\b\b\b\b\b\b\b\b\b\b\b\b\b\b\b\b\b\b\b\b\b\b\b\b\b\b\b\b\b\b\b\b\b\b\b\b\b\b\b\b\b\b\b\b\b\b\b\b\b\b\b\b\b\b\b\b\b\b\b\b\b\b\b\b\b\b\b\r154/154 [==============================] - 3s 19ms/step - categorical_accuracy: 0.9094 - auc: 0.9719 - student_loss: 0.2371 - distillation_loss: 0.0076 - val_categorical_accuracy: 0.8385 - val_auc: 0.9153 - val_student_loss: 0.5068\n",
            "Epoch 73/100\n",
            "154/154 [==============================] - ETA: 0s - categorical_accuracy: 0.8992 - auc: 0.9696 - student_loss: 0.2430 - distillation_loss: 0.0074"
          ]
        },
        {
          "output_type": "stream",
          "name": "stderr",
          "text": [
            "WARNING:tensorflow:Early stopping conditioned on metric `val_loss` which is not available. Available metrics are: categorical_accuracy,auc,student_loss,distillation_loss,val_categorical_accuracy,val_auc,val_student_loss\n"
          ]
        },
        {
          "output_type": "stream",
          "name": "stdout",
          "text": [
            "\b\b\b\b\b\b\b\b\b\b\b\b\b\b\b\b\b\b\b\b\b\b\b\b\b\b\b\b\b\b\b\b\b\b\b\b\b\b\b\b\b\b\b\b\b\b\b\b\b\b\b\b\b\b\b\b\b\b\b\b\b\b\b\b\b\b\b\b\b\b\b\b\b\b\b\b\b\b\b\b\b\b\b\b\b\b\b\b\b\b\b\b\b\b\b\b\b\b\b\b\b\b\b\b\b\b\b\b\b\b\b\b\b\b\b\b\b\b\b\b\b\b\b\b\b\b\b\b\b\b\b\b\b\b\b\b\b\b\b\b\b\b\b\b\b\b\r154/154 [==============================] - 3s 19ms/step - categorical_accuracy: 0.8992 - auc: 0.9696 - student_loss: 0.2434 - distillation_loss: 0.0073 - val_categorical_accuracy: 0.8401 - val_auc: 0.9145 - val_student_loss: 0.5401\n",
            "Epoch 74/100\n",
            "154/154 [==============================] - ETA: 0s - categorical_accuracy: 0.9074 - auc: 0.9687 - student_loss: 0.2446 - distillation_loss: 0.0077"
          ]
        },
        {
          "output_type": "stream",
          "name": "stderr",
          "text": [
            "WARNING:tensorflow:Early stopping conditioned on metric `val_loss` which is not available. Available metrics are: categorical_accuracy,auc,student_loss,distillation_loss,val_categorical_accuracy,val_auc,val_student_loss\n"
          ]
        },
        {
          "output_type": "stream",
          "name": "stdout",
          "text": [
            "\b\b\b\b\b\b\b\b\b\b\b\b\b\b\b\b\b\b\b\b\b\b\b\b\b\b\b\b\b\b\b\b\b\b\b\b\b\b\b\b\b\b\b\b\b\b\b\b\b\b\b\b\b\b\b\b\b\b\b\b\b\b\b\b\b\b\b\b\b\b\b\b\b\b\b\b\b\b\b\b\b\b\b\b\b\b\b\b\b\b\b\b\b\b\b\b\b\b\b\b\b\b\b\b\b\b\b\b\b\b\b\b\b\b\b\b\b\b\b\b\b\b\b\b\b\b\b\b\b\b\b\b\b\b\b\b\b\b\b\b\b\b\b\b\b\b\r154/154 [==============================] - 3s 21ms/step - categorical_accuracy: 0.9074 - auc: 0.9687 - student_loss: 0.2434 - distillation_loss: 0.0077 - val_categorical_accuracy: 0.8401 - val_auc: 0.9156 - val_student_loss: 0.5531\n",
            "Epoch 75/100\n",
            "154/154 [==============================] - ETA: 0s - categorical_accuracy: 0.9029 - auc: 0.9698 - student_loss: 0.2428 - distillation_loss: 0.0075"
          ]
        },
        {
          "output_type": "stream",
          "name": "stderr",
          "text": [
            "WARNING:tensorflow:Early stopping conditioned on metric `val_loss` which is not available. Available metrics are: categorical_accuracy,auc,student_loss,distillation_loss,val_categorical_accuracy,val_auc,val_student_loss\n"
          ]
        },
        {
          "output_type": "stream",
          "name": "stdout",
          "text": [
            "\b\b\b\b\b\b\b\b\b\b\b\b\b\b\b\b\b\b\b\b\b\b\b\b\b\b\b\b\b\b\b\b\b\b\b\b\b\b\b\b\b\b\b\b\b\b\b\b\b\b\b\b\b\b\b\b\b\b\b\b\b\b\b\b\b\b\b\b\b\b\b\b\b\b\b\b\b\b\b\b\b\b\b\b\b\b\b\b\b\b\b\b\b\b\b\b\b\b\b\b\b\b\b\b\b\b\b\b\b\b\b\b\b\b\b\b\b\b\b\b\b\b\b\b\b\b\b\b\b\b\b\b\b\b\b\b\b\b\b\b\b\b\b\b\b\b\r154/154 [==============================] - 3s 19ms/step - categorical_accuracy: 0.9029 - auc: 0.9698 - student_loss: 0.2422 - distillation_loss: 0.0075 - val_categorical_accuracy: 0.8369 - val_auc: 0.9120 - val_student_loss: 0.5753\n",
            "Epoch 76/100\n",
            "152/154 [============================>.] - ETA: 0s - categorical_accuracy: 0.9104 - auc: 0.9713 - student_loss: 0.2379 - distillation_loss: 0.0077"
          ]
        },
        {
          "output_type": "stream",
          "name": "stderr",
          "text": [
            "WARNING:tensorflow:Early stopping conditioned on metric `val_loss` which is not available. Available metrics are: categorical_accuracy,auc,student_loss,distillation_loss,val_categorical_accuracy,val_auc,val_student_loss\n"
          ]
        },
        {
          "output_type": "stream",
          "name": "stdout",
          "text": [
            "\b\b\b\b\b\b\b\b\b\b\b\b\b\b\b\b\b\b\b\b\b\b\b\b\b\b\b\b\b\b\b\b\b\b\b\b\b\b\b\b\b\b\b\b\b\b\b\b\b\b\b\b\b\b\b\b\b\b\b\b\b\b\b\b\b\b\b\b\b\b\b\b\b\b\b\b\b\b\b\b\b\b\b\b\b\b\b\b\b\b\b\b\b\b\b\b\b\b\b\b\b\b\b\b\b\b\b\b\b\b\b\b\b\b\b\b\b\b\b\b\b\b\b\b\b\b\b\b\b\b\b\b\b\b\b\b\b\b\b\b\b\b\b\b\b\b\r154/154 [==============================] - 3s 20ms/step - categorical_accuracy: 0.9106 - auc: 0.9713 - student_loss: 0.2363 - distillation_loss: 0.0077 - val_categorical_accuracy: 0.8401 - val_auc: 0.9176 - val_student_loss: 0.6178\n",
            "Epoch 77/100\n",
            "152/154 [============================>.] - ETA: 0s - categorical_accuracy: 0.9079 - auc: 0.9714 - student_loss: 0.2371 - distillation_loss: 0.0079"
          ]
        },
        {
          "output_type": "stream",
          "name": "stderr",
          "text": [
            "WARNING:tensorflow:Early stopping conditioned on metric `val_loss` which is not available. Available metrics are: categorical_accuracy,auc,student_loss,distillation_loss,val_categorical_accuracy,val_auc,val_student_loss\n"
          ]
        },
        {
          "output_type": "stream",
          "name": "stdout",
          "text": [
            "\b\b\b\b\b\b\b\b\b\b\b\b\b\b\b\b\b\b\b\b\b\b\b\b\b\b\b\b\b\b\b\b\b\b\b\b\b\b\b\b\b\b\b\b\b\b\b\b\b\b\b\b\b\b\b\b\b\b\b\b\b\b\b\b\b\b\b\b\b\b\b\b\b\b\b\b\b\b\b\b\b\b\b\b\b\b\b\b\b\b\b\b\b\b\b\b\b\b\b\b\b\b\b\b\b\b\b\b\b\b\b\b\b\b\b\b\b\b\b\b\b\b\b\b\b\b\b\b\b\b\b\b\b\b\b\b\b\b\b\b\b\b\b\b\b\b\r154/154 [==============================] - 3s 20ms/step - categorical_accuracy: 0.9082 - auc: 0.9715 - student_loss: 0.2353 - distillation_loss: 0.0079 - val_categorical_accuracy: 0.8434 - val_auc: 0.9136 - val_student_loss: 0.5610\n",
            "Epoch 78/100\n",
            "152/154 [============================>.] - ETA: 0s - categorical_accuracy: 0.9087 - auc: 0.9725 - student_loss: 0.2363 - distillation_loss: 0.0076"
          ]
        },
        {
          "output_type": "stream",
          "name": "stderr",
          "text": [
            "WARNING:tensorflow:Early stopping conditioned on metric `val_loss` which is not available. Available metrics are: categorical_accuracy,auc,student_loss,distillation_loss,val_categorical_accuracy,val_auc,val_student_loss\n"
          ]
        },
        {
          "output_type": "stream",
          "name": "stdout",
          "text": [
            "\b\b\b\b\b\b\b\b\b\b\b\b\b\b\b\b\b\b\b\b\b\b\b\b\b\b\b\b\b\b\b\b\b\b\b\b\b\b\b\b\b\b\b\b\b\b\b\b\b\b\b\b\b\b\b\b\b\b\b\b\b\b\b\b\b\b\b\b\b\b\b\b\b\b\b\b\b\b\b\b\b\b\b\b\b\b\b\b\b\b\b\b\b\b\b\b\b\b\b\b\b\b\b\b\b\b\b\b\b\b\b\b\b\b\b\b\b\b\b\b\b\b\b\b\b\b\b\b\b\b\b\b\b\b\b\b\b\b\b\b\b\b\b\b\b\b\r154/154 [==============================] - 3s 20ms/step - categorical_accuracy: 0.9086 - auc: 0.9722 - student_loss: 0.2446 - distillation_loss: 0.0075 - val_categorical_accuracy: 0.8418 - val_auc: 0.9146 - val_student_loss: 0.5504\n",
            "Epoch 79/100\n",
            "152/154 [============================>.] - ETA: 0s - categorical_accuracy: 0.9149 - auc: 0.9715 - student_loss: 0.2388 - distillation_loss: 0.0076"
          ]
        },
        {
          "output_type": "stream",
          "name": "stderr",
          "text": [
            "WARNING:tensorflow:Early stopping conditioned on metric `val_loss` which is not available. Available metrics are: categorical_accuracy,auc,student_loss,distillation_loss,val_categorical_accuracy,val_auc,val_student_loss\n"
          ]
        },
        {
          "output_type": "stream",
          "name": "stdout",
          "text": [
            "\b\b\b\b\b\b\b\b\b\b\b\b\b\b\b\b\b\b\b\b\b\b\b\b\b\b\b\b\b\b\b\b\b\b\b\b\b\b\b\b\b\b\b\b\b\b\b\b\b\b\b\b\b\b\b\b\b\b\b\b\b\b\b\b\b\b\b\b\b\b\b\b\b\b\b\b\b\b\b\b\b\b\b\b\b\b\b\b\b\b\b\b\b\b\b\b\b\b\b\b\b\b\b\b\b\b\b\b\b\b\b\b\b\b\b\b\b\b\b\b\b\b\b\b\b\b\b\b\b\b\b\b\b\b\b\b\b\b\b\b\b\b\b\b\b\b\r154/154 [==============================] - 3s 20ms/step - categorical_accuracy: 0.9143 - auc: 0.9715 - student_loss: 0.2414 - distillation_loss: 0.0076 - val_categorical_accuracy: 0.8352 - val_auc: 0.9136 - val_student_loss: 0.5327\n",
            "Epoch 80/100\n",
            "152/154 [============================>.] - ETA: 0s - categorical_accuracy: 0.9124 - auc: 0.9731 - student_loss: 0.2346 - distillation_loss: 0.0075"
          ]
        },
        {
          "output_type": "stream",
          "name": "stderr",
          "text": [
            "WARNING:tensorflow:Early stopping conditioned on metric `val_loss` which is not available. Available metrics are: categorical_accuracy,auc,student_loss,distillation_loss,val_categorical_accuracy,val_auc,val_student_loss\n"
          ]
        },
        {
          "output_type": "stream",
          "name": "stdout",
          "text": [
            "\b\b\b\b\b\b\b\b\b\b\b\b\b\b\b\b\b\b\b\b\b\b\b\b\b\b\b\b\b\b\b\b\b\b\b\b\b\b\b\b\b\b\b\b\b\b\b\b\b\b\b\b\b\b\b\b\b\b\b\b\b\b\b\b\b\b\b\b\b\b\b\b\b\b\b\b\b\b\b\b\b\b\b\b\b\b\b\b\b\b\b\b\b\b\b\b\b\b\b\b\b\b\b\b\b\b\b\b\b\b\b\b\b\b\b\b\b\b\b\b\b\b\b\b\b\b\b\b\b\b\b\b\b\b\b\b\b\b\b\b\b\b\b\b\b\b\r154/154 [==============================] - 3s 19ms/step - categorical_accuracy: 0.9115 - auc: 0.9727 - student_loss: 0.2375 - distillation_loss: 0.0076 - val_categorical_accuracy: 0.8418 - val_auc: 0.9145 - val_student_loss: 0.5524\n",
            "Epoch 81/100\n",
            "154/154 [==============================] - ETA: 0s - categorical_accuracy: 0.9062 - auc: 0.9739 - student_loss: 0.2305 - distillation_loss: 0.0080"
          ]
        },
        {
          "output_type": "stream",
          "name": "stderr",
          "text": [
            "WARNING:tensorflow:Early stopping conditioned on metric `val_loss` which is not available. Available metrics are: categorical_accuracy,auc,student_loss,distillation_loss,val_categorical_accuracy,val_auc,val_student_loss\n"
          ]
        },
        {
          "output_type": "stream",
          "name": "stdout",
          "text": [
            "\b\b\b\b\b\b\b\b\b\b\b\b\b\b\b\b\b\b\b\b\b\b\b\b\b\b\b\b\b\b\b\b\b\b\b\b\b\b\b\b\b\b\b\b\b\b\b\b\b\b\b\b\b\b\b\b\b\b\b\b\b\b\b\b\b\b\b\b\b\b\b\b\b\b\b\b\b\b\b\b\b\b\b\b\b\b\b\b\b\b\b\b\b\b\b\b\b\b\b\b\b\b\b\b\b\b\b\b\b\b\b\b\b\b\b\b\b\b\b\b\b\b\b\b\b\b\b\b\b\b\b\b\b\b\b\b\b\b\b\b\b\b\b\b\b\b\r154/154 [==============================] - 3s 20ms/step - categorical_accuracy: 0.9062 - auc: 0.9739 - student_loss: 0.2295 - distillation_loss: 0.0080 - val_categorical_accuracy: 0.8336 - val_auc: 0.9073 - val_student_loss: 0.6490\n",
            "Epoch 82/100\n",
            "154/154 [==============================] - ETA: 0s - categorical_accuracy: 0.9139 - auc: 0.9731 - student_loss: 0.2335 - distillation_loss: 0.0080"
          ]
        },
        {
          "output_type": "stream",
          "name": "stderr",
          "text": [
            "WARNING:tensorflow:Early stopping conditioned on metric `val_loss` which is not available. Available metrics are: categorical_accuracy,auc,student_loss,distillation_loss,val_categorical_accuracy,val_auc,val_student_loss\n"
          ]
        },
        {
          "output_type": "stream",
          "name": "stdout",
          "text": [
            "\b\b\b\b\b\b\b\b\b\b\b\b\b\b\b\b\b\b\b\b\b\b\b\b\b\b\b\b\b\b\b\b\b\b\b\b\b\b\b\b\b\b\b\b\b\b\b\b\b\b\b\b\b\b\b\b\b\b\b\b\b\b\b\b\b\b\b\b\b\b\b\b\b\b\b\b\b\b\b\b\b\b\b\b\b\b\b\b\b\b\b\b\b\b\b\b\b\b\b\b\b\b\b\b\b\b\b\b\b\b\b\b\b\b\b\b\b\b\b\b\b\b\b\b\b\b\b\b\b\b\b\b\b\b\b\b\b\b\b\b\b\b\b\b\b\b\r154/154 [==============================] - 3s 20ms/step - categorical_accuracy: 0.9139 - auc: 0.9731 - student_loss: 0.2328 - distillation_loss: 0.0080 - val_categorical_accuracy: 0.8434 - val_auc: 0.9128 - val_student_loss: 0.5045\n",
            "Epoch 83/100\n",
            "153/154 [============================>.] - ETA: 0s - categorical_accuracy: 0.9158 - auc: 0.9747 - student_loss: 0.2293 - distillation_loss: 0.0078"
          ]
        },
        {
          "output_type": "stream",
          "name": "stderr",
          "text": [
            "WARNING:tensorflow:Early stopping conditioned on metric `val_loss` which is not available. Available metrics are: categorical_accuracy,auc,student_loss,distillation_loss,val_categorical_accuracy,val_auc,val_student_loss\n"
          ]
        },
        {
          "output_type": "stream",
          "name": "stdout",
          "text": [
            "\b\b\b\b\b\b\b\b\b\b\b\b\b\b\b\b\b\b\b\b\b\b\b\b\b\b\b\b\b\b\b\b\b\b\b\b\b\b\b\b\b\b\b\b\b\b\b\b\b\b\b\b\b\b\b\b\b\b\b\b\b\b\b\b\b\b\b\b\b\b\b\b\b\b\b\b\b\b\b\b\b\b\b\b\b\b\b\b\b\b\b\b\b\b\b\b\b\b\b\b\b\b\b\b\b\b\b\b\b\b\b\b\b\b\b\b\b\b\b\b\b\b\b\b\b\b\b\b\b\b\b\b\b\b\b\b\b\b\b\b\b\b\b\b\b\b\r154/154 [==============================] - 3s 20ms/step - categorical_accuracy: 0.9155 - auc: 0.9746 - student_loss: 0.2341 - distillation_loss: 0.0077 - val_categorical_accuracy: 0.8369 - val_auc: 0.9137 - val_student_loss: 0.5569\n",
            "Epoch 84/100\n",
            "151/154 [============================>.] - ETA: 0s - categorical_accuracy: 0.9065 - auc: 0.9746 - student_loss: 0.2289 - distillation_loss: 0.0080"
          ]
        },
        {
          "output_type": "stream",
          "name": "stderr",
          "text": [
            "WARNING:tensorflow:Early stopping conditioned on metric `val_loss` which is not available. Available metrics are: categorical_accuracy,auc,student_loss,distillation_loss,val_categorical_accuracy,val_auc,val_student_loss\n"
          ]
        },
        {
          "output_type": "stream",
          "name": "stdout",
          "text": [
            "\b\b\b\b\b\b\b\b\b\b\b\b\b\b\b\b\b\b\b\b\b\b\b\b\b\b\b\b\b\b\b\b\b\b\b\b\b\b\b\b\b\b\b\b\b\b\b\b\b\b\b\b\b\b\b\b\b\b\b\b\b\b\b\b\b\b\b\b\b\b\b\b\b\b\b\b\b\b\b\b\b\b\b\b\b\b\b\b\b\b\b\b\b\b\b\b\b\b\b\b\b\b\b\b\b\b\b\b\b\b\b\b\b\b\b\b\b\b\b\b\b\b\b\b\b\b\b\b\b\b\b\b\b\b\b\b\b\b\b\b\b\b\b\b\b\b\r154/154 [==============================] - 3s 19ms/step - categorical_accuracy: 0.9053 - auc: 0.9744 - student_loss: 0.2364 - distillation_loss: 0.0080 - val_categorical_accuracy: 0.8352 - val_auc: 0.9104 - val_student_loss: 0.5411\n",
            "Epoch 85/100\n",
            "153/154 [============================>.] - ETA: 0s - categorical_accuracy: 0.9167 - auc: 0.9734 - student_loss: 0.2319 - distillation_loss: 0.0081"
          ]
        },
        {
          "output_type": "stream",
          "name": "stderr",
          "text": [
            "WARNING:tensorflow:Early stopping conditioned on metric `val_loss` which is not available. Available metrics are: categorical_accuracy,auc,student_loss,distillation_loss,val_categorical_accuracy,val_auc,val_student_loss\n"
          ]
        },
        {
          "output_type": "stream",
          "name": "stdout",
          "text": [
            "\b\b\b\b\b\b\b\b\b\b\b\b\b\b\b\b\b\b\b\b\b\b\b\b\b\b\b\b\b\b\b\b\b\b\b\b\b\b\b\b\b\b\b\b\b\b\b\b\b\b\b\b\b\b\b\b\b\b\b\b\b\b\b\b\b\b\b\b\b\b\b\b\b\b\b\b\b\b\b\b\b\b\b\b\b\b\b\b\b\b\b\b\b\b\b\b\b\b\b\b\b\b\b\b\b\b\b\b\b\b\b\b\b\b\b\b\b\b\b\b\b\b\b\b\b\b\b\b\b\b\b\b\b\b\b\b\b\b\b\b\b\b\b\b\b\b\r154/154 [==============================] - 3s 19ms/step - categorical_accuracy: 0.9168 - auc: 0.9734 - student_loss: 0.2315 - distillation_loss: 0.0080 - val_categorical_accuracy: 0.8467 - val_auc: 0.9145 - val_student_loss: 0.5434\n",
            "Epoch 86/100\n",
            "153/154 [============================>.] - ETA: 0s - categorical_accuracy: 0.9085 - auc: 0.9753 - student_loss: 0.2266 - distillation_loss: 0.0077"
          ]
        },
        {
          "output_type": "stream",
          "name": "stderr",
          "text": [
            "WARNING:tensorflow:Early stopping conditioned on metric `val_loss` which is not available. Available metrics are: categorical_accuracy,auc,student_loss,distillation_loss,val_categorical_accuracy,val_auc,val_student_loss\n"
          ]
        },
        {
          "output_type": "stream",
          "name": "stdout",
          "text": [
            "\b\b\b\b\b\b\b\b\b\b\b\b\b\b\b\b\b\b\b\b\b\b\b\b\b\b\b\b\b\b\b\b\b\b\b\b\b\b\b\b\b\b\b\b\b\b\b\b\b\b\b\b\b\b\b\b\b\b\b\b\b\b\b\b\b\b\b\b\b\b\b\b\b\b\b\b\b\b\b\b\b\b\b\b\b\b\b\b\b\b\b\b\b\b\b\b\b\b\b\b\b\b\b\b\b\b\b\b\b\b\b\b\b\b\b\b\b\b\b\b\b\b\b\b\b\b\b\b\b\b\b\b\b\b\b\b\b\b\b\b\b\b\b\b\b\b\r154/154 [==============================] - 3s 19ms/step - categorical_accuracy: 0.9086 - auc: 0.9754 - student_loss: 0.2240 - distillation_loss: 0.0077 - val_categorical_accuracy: 0.8385 - val_auc: 0.9141 - val_student_loss: 0.5317\n",
            "Epoch 87/100\n",
            "151/154 [============================>.] - ETA: 0s - categorical_accuracy: 0.9160 - auc: 0.9746 - student_loss: 0.2284 - distillation_loss: 0.0080"
          ]
        },
        {
          "output_type": "stream",
          "name": "stderr",
          "text": [
            "WARNING:tensorflow:Early stopping conditioned on metric `val_loss` which is not available. Available metrics are: categorical_accuracy,auc,student_loss,distillation_loss,val_categorical_accuracy,val_auc,val_student_loss\n"
          ]
        },
        {
          "output_type": "stream",
          "name": "stdout",
          "text": [
            "\b\b\b\b\b\b\b\b\b\b\b\b\b\b\b\b\b\b\b\b\b\b\b\b\b\b\b\b\b\b\b\b\b\b\b\b\b\b\b\b\b\b\b\b\b\b\b\b\b\b\b\b\b\b\b\b\b\b\b\b\b\b\b\b\b\b\b\b\b\b\b\b\b\b\b\b\b\b\b\b\b\b\b\b\b\b\b\b\b\b\b\b\b\b\b\b\b\b\b\b\b\b\b\b\b\b\b\b\b\b\b\b\b\b\b\b\b\b\b\b\b\b\b\b\b\b\b\b\b\b\b\b\b\b\b\b\b\b\b\b\b\b\b\b\b\b\r154/154 [==============================] - 3s 20ms/step - categorical_accuracy: 0.9147 - auc: 0.9745 - student_loss: 0.2288 - distillation_loss: 0.0081 - val_categorical_accuracy: 0.8401 - val_auc: 0.9132 - val_student_loss: 0.6008\n",
            "Epoch 88/100\n",
            "152/154 [============================>.] - ETA: 0s - categorical_accuracy: 0.9145 - auc: 0.9752 - student_loss: 0.2272 - distillation_loss: 0.0077"
          ]
        },
        {
          "output_type": "stream",
          "name": "stderr",
          "text": [
            "WARNING:tensorflow:Early stopping conditioned on metric `val_loss` which is not available. Available metrics are: categorical_accuracy,auc,student_loss,distillation_loss,val_categorical_accuracy,val_auc,val_student_loss\n"
          ]
        },
        {
          "output_type": "stream",
          "name": "stdout",
          "text": [
            "\b\b\b\b\b\b\b\b\b\b\b\b\b\b\b\b\b\b\b\b\b\b\b\b\b\b\b\b\b\b\b\b\b\b\b\b\b\b\b\b\b\b\b\b\b\b\b\b\b\b\b\b\b\b\b\b\b\b\b\b\b\b\b\b\b\b\b\b\b\b\b\b\b\b\b\b\b\b\b\b\b\b\b\b\b\b\b\b\b\b\b\b\b\b\b\b\b\b\b\b\b\b\b\b\b\b\b\b\b\b\b\b\b\b\b\b\b\b\b\b\b\b\b\b\b\b\b\b\b\b\b\b\b\b\b\b\b\b\b\b\b\b\b\b\b\b\r154/154 [==============================] - 3s 19ms/step - categorical_accuracy: 0.9147 - auc: 0.9753 - student_loss: 0.2264 - distillation_loss: 0.0077 - val_categorical_accuracy: 0.8450 - val_auc: 0.9164 - val_student_loss: 0.5631\n",
            "Epoch 89/100\n",
            "154/154 [==============================] - ETA: 0s - categorical_accuracy: 0.9151 - auc: 0.9766 - student_loss: 0.2211 - distillation_loss: 0.0083"
          ]
        },
        {
          "output_type": "stream",
          "name": "stderr",
          "text": [
            "WARNING:tensorflow:Early stopping conditioned on metric `val_loss` which is not available. Available metrics are: categorical_accuracy,auc,student_loss,distillation_loss,val_categorical_accuracy,val_auc,val_student_loss\n"
          ]
        },
        {
          "output_type": "stream",
          "name": "stdout",
          "text": [
            "\b\b\b\b\b\b\b\b\b\b\b\b\b\b\b\b\b\b\b\b\b\b\b\b\b\b\b\b\b\b\b\b\b\b\b\b\b\b\b\b\b\b\b\b\b\b\b\b\b\b\b\b\b\b\b\b\b\b\b\b\b\b\b\b\b\b\b\b\b\b\b\b\b\b\b\b\b\b\b\b\b\b\b\b\b\b\b\b\b\b\b\b\b\b\b\b\b\b\b\b\b\b\b\b\b\b\b\b\b\b\b\b\b\b\b\b\b\b\b\b\b\b\b\b\b\b\b\b\b\b\b\b\b\b\b\b\b\b\b\b\b\b\b\b\b\b\r154/154 [==============================] - 3s 19ms/step - categorical_accuracy: 0.9151 - auc: 0.9766 - student_loss: 0.2198 - distillation_loss: 0.0083 - val_categorical_accuracy: 0.8434 - val_auc: 0.9155 - val_student_loss: 0.5776\n",
            "Epoch 90/100\n",
            "152/154 [============================>.] - ETA: 0s - categorical_accuracy: 0.9095 - auc: 0.9760 - student_loss: 0.2243 - distillation_loss: 0.0079"
          ]
        },
        {
          "output_type": "stream",
          "name": "stderr",
          "text": [
            "WARNING:tensorflow:Early stopping conditioned on metric `val_loss` which is not available. Available metrics are: categorical_accuracy,auc,student_loss,distillation_loss,val_categorical_accuracy,val_auc,val_student_loss\n"
          ]
        },
        {
          "output_type": "stream",
          "name": "stdout",
          "text": [
            "\b\b\b\b\b\b\b\b\b\b\b\b\b\b\b\b\b\b\b\b\b\b\b\b\b\b\b\b\b\b\b\b\b\b\b\b\b\b\b\b\b\b\b\b\b\b\b\b\b\b\b\b\b\b\b\b\b\b\b\b\b\b\b\b\b\b\b\b\b\b\b\b\b\b\b\b\b\b\b\b\b\b\b\b\b\b\b\b\b\b\b\b\b\b\b\b\b\b\b\b\b\b\b\b\b\b\b\b\b\b\b\b\b\b\b\b\b\b\b\b\b\b\b\b\b\b\b\b\b\b\b\b\b\b\b\b\b\b\b\b\b\b\b\b\b\b\r154/154 [==============================] - 3s 19ms/step - categorical_accuracy: 0.9094 - auc: 0.9760 - student_loss: 0.2231 - distillation_loss: 0.0079 - val_categorical_accuracy: 0.8483 - val_auc: 0.9151 - val_student_loss: 0.5721\n",
            "Epoch 91/100\n",
            "154/154 [==============================] - ETA: 0s - categorical_accuracy: 0.9123 - auc: 0.9772 - student_loss: 0.2229 - distillation_loss: 0.0083"
          ]
        },
        {
          "output_type": "stream",
          "name": "stderr",
          "text": [
            "WARNING:tensorflow:Early stopping conditioned on metric `val_loss` which is not available. Available metrics are: categorical_accuracy,auc,student_loss,distillation_loss,val_categorical_accuracy,val_auc,val_student_loss\n"
          ]
        },
        {
          "output_type": "stream",
          "name": "stdout",
          "text": [
            "\b\b\b\b\b\b\b\b\b\b\b\b\b\b\b\b\b\b\b\b\b\b\b\b\b\b\b\b\b\b\b\b\b\b\b\b\b\b\b\b\b\b\b\b\b\b\b\b\b\b\b\b\b\b\b\b\b\b\b\b\b\b\b\b\b\b\b\b\b\b\b\b\b\b\b\b\b\b\b\b\b\b\b\b\b\b\b\b\b\b\b\b\b\b\b\b\b\b\b\b\b\b\b\b\b\b\b\b\b\b\b\b\b\b\b\b\b\b\b\b\b\b\b\b\b\b\b\b\b\b\b\b\b\b\b\b\b\b\b\b\b\b\b\b\b\b\r154/154 [==============================] - 3s 20ms/step - categorical_accuracy: 0.9123 - auc: 0.9772 - student_loss: 0.2259 - distillation_loss: 0.0084 - val_categorical_accuracy: 0.8401 - val_auc: 0.9121 - val_student_loss: 0.6180\n",
            "Epoch 92/100\n",
            "153/154 [============================>.] - ETA: 0s - categorical_accuracy: 0.9171 - auc: 0.9773 - student_loss: 0.2202 - distillation_loss: 0.0087"
          ]
        },
        {
          "output_type": "stream",
          "name": "stderr",
          "text": [
            "WARNING:tensorflow:Early stopping conditioned on metric `val_loss` which is not available. Available metrics are: categorical_accuracy,auc,student_loss,distillation_loss,val_categorical_accuracy,val_auc,val_student_loss\n"
          ]
        },
        {
          "output_type": "stream",
          "name": "stdout",
          "text": [
            "\b\b\b\b\b\b\b\b\b\b\b\b\b\b\b\b\b\b\b\b\b\b\b\b\b\b\b\b\b\b\b\b\b\b\b\b\b\b\b\b\b\b\b\b\b\b\b\b\b\b\b\b\b\b\b\b\b\b\b\b\b\b\b\b\b\b\b\b\b\b\b\b\b\b\b\b\b\b\b\b\b\b\b\b\b\b\b\b\b\b\b\b\b\b\b\b\b\b\b\b\b\b\b\b\b\b\b\b\b\b\b\b\b\b\b\b\b\b\b\b\b\b\b\b\b\b\b\b\b\b\b\b\b\b\b\b\b\b\b\b\b\b\b\b\b\b\r154/154 [==============================] - 3s 19ms/step - categorical_accuracy: 0.9172 - auc: 0.9774 - student_loss: 0.2184 - distillation_loss: 0.0086 - val_categorical_accuracy: 0.8434 - val_auc: 0.9139 - val_student_loss: 0.6057\n",
            "Epoch 93/100\n",
            "154/154 [==============================] - ETA: 0s - categorical_accuracy: 0.9135 - auc: 0.9758 - student_loss: 0.2246 - distillation_loss: 0.0079"
          ]
        },
        {
          "output_type": "stream",
          "name": "stderr",
          "text": [
            "WARNING:tensorflow:Early stopping conditioned on metric `val_loss` which is not available. Available metrics are: categorical_accuracy,auc,student_loss,distillation_loss,val_categorical_accuracy,val_auc,val_student_loss\n"
          ]
        },
        {
          "output_type": "stream",
          "name": "stdout",
          "text": [
            "\b\b\b\b\b\b\b\b\b\b\b\b\b\b\b\b\b\b\b\b\b\b\b\b\b\b\b\b\b\b\b\b\b\b\b\b\b\b\b\b\b\b\b\b\b\b\b\b\b\b\b\b\b\b\b\b\b\b\b\b\b\b\b\b\b\b\b\b\b\b\b\b\b\b\b\b\b\b\b\b\b\b\b\b\b\b\b\b\b\b\b\b\b\b\b\b\b\b\b\b\b\b\b\b\b\b\b\b\b\b\b\b\b\b\b\b\b\b\b\b\b\b\b\b\b\b\b\b\b\b\b\b\b\b\b\b\b\b\b\b\b\b\b\b\b\b\r154/154 [==============================] - 3s 20ms/step - categorical_accuracy: 0.9135 - auc: 0.9758 - student_loss: 0.2252 - distillation_loss: 0.0079 - val_categorical_accuracy: 0.8369 - val_auc: 0.9132 - val_student_loss: 0.5768\n",
            "Epoch 94/100\n",
            "152/154 [============================>.] - ETA: 0s - categorical_accuracy: 0.9202 - auc: 0.9771 - student_loss: 0.2208 - distillation_loss: 0.0080"
          ]
        },
        {
          "output_type": "stream",
          "name": "stderr",
          "text": [
            "WARNING:tensorflow:Early stopping conditioned on metric `val_loss` which is not available. Available metrics are: categorical_accuracy,auc,student_loss,distillation_loss,val_categorical_accuracy,val_auc,val_student_loss\n"
          ]
        },
        {
          "output_type": "stream",
          "name": "stdout",
          "text": [
            "\b\b\b\b\b\b\b\b\b\b\b\b\b\b\b\b\b\b\b\b\b\b\b\b\b\b\b\b\b\b\b\b\b\b\b\b\b\b\b\b\b\b\b\b\b\b\b\b\b\b\b\b\b\b\b\b\b\b\b\b\b\b\b\b\b\b\b\b\b\b\b\b\b\b\b\b\b\b\b\b\b\b\b\b\b\b\b\b\b\b\b\b\b\b\b\b\b\b\b\b\b\b\b\b\b\b\b\b\b\b\b\b\b\b\b\b\b\b\b\b\b\b\b\b\b\b\b\b\b\b\b\b\b\b\b\b\b\b\b\b\b\b\b\b\b\b\r154/154 [==============================] - 3s 20ms/step - categorical_accuracy: 0.9208 - auc: 0.9773 - student_loss: 0.2191 - distillation_loss: 0.0081 - val_categorical_accuracy: 0.8401 - val_auc: 0.9124 - val_student_loss: 0.5257\n",
            "Epoch 95/100\n",
            "152/154 [============================>.] - ETA: 0s - categorical_accuracy: 0.9153 - auc: 0.9767 - student_loss: 0.2214 - distillation_loss: 0.0084"
          ]
        },
        {
          "output_type": "stream",
          "name": "stderr",
          "text": [
            "WARNING:tensorflow:Early stopping conditioned on metric `val_loss` which is not available. Available metrics are: categorical_accuracy,auc,student_loss,distillation_loss,val_categorical_accuracy,val_auc,val_student_loss\n"
          ]
        },
        {
          "output_type": "stream",
          "name": "stdout",
          "text": [
            "\b\b\b\b\b\b\b\b\b\b\b\b\b\b\b\b\b\b\b\b\b\b\b\b\b\b\b\b\b\b\b\b\b\b\b\b\b\b\b\b\b\b\b\b\b\b\b\b\b\b\b\b\b\b\b\b\b\b\b\b\b\b\b\b\b\b\b\b\b\b\b\b\b\b\b\b\b\b\b\b\b\b\b\b\b\b\b\b\b\b\b\b\b\b\b\b\b\b\b\b\b\b\b\b\b\b\b\b\b\b\b\b\b\b\b\b\b\b\b\b\b\b\b\b\b\b\b\b\b\b\b\b\b\b\b\b\b\b\b\b\b\b\b\b\b\b\r154/154 [==============================] - 3s 21ms/step - categorical_accuracy: 0.9155 - auc: 0.9767 - student_loss: 0.2197 - distillation_loss: 0.0084 - val_categorical_accuracy: 0.8483 - val_auc: 0.9143 - val_student_loss: 0.5411\n",
            "Epoch 96/100\n",
            "151/154 [============================>.] - ETA: 0s - categorical_accuracy: 0.9127 - auc: 0.9776 - student_loss: 0.2202 - distillation_loss: 0.0082"
          ]
        },
        {
          "output_type": "stream",
          "name": "stderr",
          "text": [
            "WARNING:tensorflow:Early stopping conditioned on metric `val_loss` which is not available. Available metrics are: categorical_accuracy,auc,student_loss,distillation_loss,val_categorical_accuracy,val_auc,val_student_loss\n"
          ]
        },
        {
          "output_type": "stream",
          "name": "stdout",
          "text": [
            "\b\b\b\b\b\b\b\b\b\b\b\b\b\b\b\b\b\b\b\b\b\b\b\b\b\b\b\b\b\b\b\b\b\b\b\b\b\b\b\b\b\b\b\b\b\b\b\b\b\b\b\b\b\b\b\b\b\b\b\b\b\b\b\b\b\b\b\b\b\b\b\b\b\b\b\b\b\b\b\b\b\b\b\b\b\b\b\b\b\b\b\b\b\b\b\b\b\b\b\b\b\b\b\b\b\b\b\b\b\b\b\b\b\b\b\b\b\b\b\b\b\b\b\b\b\b\b\b\b\b\b\b\b\b\b\b\b\b\b\b\b\b\b\b\b\b\r154/154 [==============================] - 3s 19ms/step - categorical_accuracy: 0.9135 - auc: 0.9779 - student_loss: 0.2169 - distillation_loss: 0.0081 - val_categorical_accuracy: 0.8418 - val_auc: 0.9158 - val_student_loss: 0.5686\n",
            "Epoch 97/100\n",
            "152/154 [============================>.] - ETA: 0s - categorical_accuracy: 0.9182 - auc: 0.9785 - student_loss: 0.2162 - distillation_loss: 0.0083"
          ]
        },
        {
          "output_type": "stream",
          "name": "stderr",
          "text": [
            "WARNING:tensorflow:Early stopping conditioned on metric `val_loss` which is not available. Available metrics are: categorical_accuracy,auc,student_loss,distillation_loss,val_categorical_accuracy,val_auc,val_student_loss\n"
          ]
        },
        {
          "output_type": "stream",
          "name": "stdout",
          "text": [
            "\b\b\b\b\b\b\b\b\b\b\b\b\b\b\b\b\b\b\b\b\b\b\b\b\b\b\b\b\b\b\b\b\b\b\b\b\b\b\b\b\b\b\b\b\b\b\b\b\b\b\b\b\b\b\b\b\b\b\b\b\b\b\b\b\b\b\b\b\b\b\b\b\b\b\b\b\b\b\b\b\b\b\b\b\b\b\b\b\b\b\b\b\b\b\b\b\b\b\b\b\b\b\b\b\b\b\b\b\b\b\b\b\b\b\b\b\b\b\b\b\b\b\b\b\b\b\b\b\b\b\b\b\b\b\b\b\b\b\b\b\b\b\b\b\b\b\r154/154 [==============================] - 3s 19ms/step - categorical_accuracy: 0.9172 - auc: 0.9778 - student_loss: 0.2189 - distillation_loss: 0.0082 - val_categorical_accuracy: 0.8434 - val_auc: 0.9137 - val_student_loss: 0.5994\n",
            "Epoch 98/100\n",
            "152/154 [============================>.] - ETA: 0s - categorical_accuracy: 0.9169 - auc: 0.9772 - student_loss: 0.2193 - distillation_loss: 0.0081"
          ]
        },
        {
          "output_type": "stream",
          "name": "stderr",
          "text": [
            "WARNING:tensorflow:Early stopping conditioned on metric `val_loss` which is not available. Available metrics are: categorical_accuracy,auc,student_loss,distillation_loss,val_categorical_accuracy,val_auc,val_student_loss\n"
          ]
        },
        {
          "output_type": "stream",
          "name": "stdout",
          "text": [
            "\b\b\b\b\b\b\b\b\b\b\b\b\b\b\b\b\b\b\b\b\b\b\b\b\b\b\b\b\b\b\b\b\b\b\b\b\b\b\b\b\b\b\b\b\b\b\b\b\b\b\b\b\b\b\b\b\b\b\b\b\b\b\b\b\b\b\b\b\b\b\b\b\b\b\b\b\b\b\b\b\b\b\b\b\b\b\b\b\b\b\b\b\b\b\b\b\b\b\b\b\b\b\b\b\b\b\b\b\b\b\b\b\b\b\b\b\b\b\b\b\b\b\b\b\b\b\b\b\b\b\b\b\b\b\b\b\b\b\b\b\b\b\b\b\b\b\r154/154 [==============================] - 3s 19ms/step - categorical_accuracy: 0.9172 - auc: 0.9774 - student_loss: 0.2173 - distillation_loss: 0.0084 - val_categorical_accuracy: 0.8418 - val_auc: 0.9137 - val_student_loss: 0.5059\n",
            "Epoch 99/100\n",
            "154/154 [==============================] - ETA: 0s - categorical_accuracy: 0.9196 - auc: 0.9794 - student_loss: 0.2129 - distillation_loss: 0.0085"
          ]
        },
        {
          "output_type": "stream",
          "name": "stderr",
          "text": [
            "WARNING:tensorflow:Early stopping conditioned on metric `val_loss` which is not available. Available metrics are: categorical_accuracy,auc,student_loss,distillation_loss,val_categorical_accuracy,val_auc,val_student_loss\n"
          ]
        },
        {
          "output_type": "stream",
          "name": "stdout",
          "text": [
            "\b\b\b\b\b\b\b\b\b\b\b\b\b\b\b\b\b\b\b\b\b\b\b\b\b\b\b\b\b\b\b\b\b\b\b\b\b\b\b\b\b\b\b\b\b\b\b\b\b\b\b\b\b\b\b\b\b\b\b\b\b\b\b\b\b\b\b\b\b\b\b\b\b\b\b\b\b\b\b\b\b\b\b\b\b\b\b\b\b\b\b\b\b\b\b\b\b\b\b\b\b\b\b\b\b\b\b\b\b\b\b\b\b\b\b\b\b\b\b\b\b\b\b\b\b\b\b\b\b\b\b\b\b\b\b\b\b\b\b\b\b\b\b\b\b\b\r154/154 [==============================] - 3s 20ms/step - categorical_accuracy: 0.9196 - auc: 0.9794 - student_loss: 0.2122 - distillation_loss: 0.0085 - val_categorical_accuracy: 0.8434 - val_auc: 0.9124 - val_student_loss: 0.5612\n",
            "Epoch 100/100\n",
            "154/154 [==============================] - ETA: 0s - categorical_accuracy: 0.9147 - auc: 0.9786 - student_loss: 0.2164 - distillation_loss: 0.0081"
          ]
        },
        {
          "output_type": "stream",
          "name": "stderr",
          "text": [
            "WARNING:tensorflow:Early stopping conditioned on metric `val_loss` which is not available. Available metrics are: categorical_accuracy,auc,student_loss,distillation_loss,val_categorical_accuracy,val_auc,val_student_loss\n"
          ]
        },
        {
          "output_type": "stream",
          "name": "stdout",
          "text": [
            "154/154 [==============================] - 3s 21ms/step - categorical_accuracy: 0.9147 - auc: 0.9786 - student_loss: 0.2168 - distillation_loss: 0.0081 - val_categorical_accuracy: 0.8434 - val_auc: 0.9161 - val_student_loss: 0.5187\n",
            "20/20 [==============================] - 0s 7ms/step - categorical_accuracy: 0.8434 - auc: 0.9161 - student_loss: 0.3847\n",
            "20/20 [==============================] - 1s 6ms/step\n",
            "[[249  62]\n",
            " [ 34 268]]\n",
            "Start train Fold  3\n",
            "Epoch 1/100\n"
          ]
        },
        {
          "output_type": "stream",
          "name": "stderr",
          "text": [
            "/usr/local/lib/python3.10/dist-packages/keras/src/backend.py:5575: UserWarning: \"`categorical_crossentropy` received `from_logits=True`, but the `output` argument was produced by a Softmax activation and thus does not represent logits. Was this intended?\n",
            "  output, from_logits = _get_logits(\n"
          ]
        },
        {
          "output_type": "stream",
          "name": "stdout",
          "text": [
            "154/154 [==============================] - ETA: 0s - categorical_accuracy: 0.5887 - auc: 0.6477 - student_loss: 0.6664 - distillation_loss: 0.0488"
          ]
        },
        {
          "output_type": "stream",
          "name": "stderr",
          "text": [
            "WARNING:tensorflow:Early stopping conditioned on metric `val_loss` which is not available. Available metrics are: categorical_accuracy,auc,student_loss,distillation_loss,val_categorical_accuracy,val_auc,val_student_loss\n"
          ]
        },
        {
          "output_type": "stream",
          "name": "stdout",
          "text": [
            "\b\b\b\b\b\b\b\b\b\b\b\b\b\b\b\b\b\b\b\b\b\b\b\b\b\b\b\b\b\b\b\b\b\b\b\b\b\b\b\b\b\b\b\b\b\b\b\b\b\b\b\b\b\b\b\b\b\b\b\b\b\b\b\b\b\b\b\b\b\b\b\b\b\b\b\b\b\b\b\b\b\b\b\b\b\b\b\b\b\b\b\b\b\b\b\b\b\b\b\b\b\b\b\b\b\b\b\b\b\b\b\b\b\b\b\b\b\b\b\b\b\b\b\b\b\b\b\b\b\b\b\b\b\b\b\b\b\b\b\b\b\b\b\b\b\b\r154/154 [==============================] - 9s 27ms/step - categorical_accuracy: 0.5887 - auc: 0.6477 - student_loss: 0.6679 - distillation_loss: 0.0486 - val_categorical_accuracy: 0.7635 - val_auc: 0.8395 - val_student_loss: 0.4771\n",
            "Epoch 2/100\n",
            "154/154 [==============================] - ETA: 0s - categorical_accuracy: 0.7438 - auc: 0.8106 - student_loss: 0.5477 - distillation_loss: 0.0283"
          ]
        },
        {
          "output_type": "stream",
          "name": "stderr",
          "text": [
            "WARNING:tensorflow:Early stopping conditioned on metric `val_loss` which is not available. Available metrics are: categorical_accuracy,auc,student_loss,distillation_loss,val_categorical_accuracy,val_auc,val_student_loss\n"
          ]
        },
        {
          "output_type": "stream",
          "name": "stdout",
          "text": [
            "\b\b\b\b\b\b\b\b\b\b\b\b\b\b\b\b\b\b\b\b\b\b\b\b\b\b\b\b\b\b\b\b\b\b\b\b\b\b\b\b\b\b\b\b\b\b\b\b\b\b\b\b\b\b\b\b\b\b\b\b\b\b\b\b\b\b\b\b\b\b\b\b\b\b\b\b\b\b\b\b\b\b\b\b\b\b\b\b\b\b\b\b\b\b\b\b\b\b\b\b\b\b\b\b\b\b\b\b\b\b\b\b\b\b\b\b\b\b\b\b\b\b\b\b\b\b\b\b\b\b\b\b\b\b\b\b\b\b\b\b\b\b\b\b\b\b\r154/154 [==============================] - 3s 19ms/step - categorical_accuracy: 0.7438 - auc: 0.8106 - student_loss: 0.5525 - distillation_loss: 0.0282 - val_categorical_accuracy: 0.8026 - val_auc: 0.8642 - val_student_loss: 0.5069\n",
            "Epoch 3/100\n",
            "153/154 [============================>.] - ETA: 0s - categorical_accuracy: 0.7766 - auc: 0.8491 - student_loss: 0.4898 - distillation_loss: 0.0237"
          ]
        },
        {
          "output_type": "stream",
          "name": "stderr",
          "text": [
            "WARNING:tensorflow:Early stopping conditioned on metric `val_loss` which is not available. Available metrics are: categorical_accuracy,auc,student_loss,distillation_loss,val_categorical_accuracy,val_auc,val_student_loss\n"
          ]
        },
        {
          "output_type": "stream",
          "name": "stdout",
          "text": [
            "\b\b\b\b\b\b\b\b\b\b\b\b\b\b\b\b\b\b\b\b\b\b\b\b\b\b\b\b\b\b\b\b\b\b\b\b\b\b\b\b\b\b\b\b\b\b\b\b\b\b\b\b\b\b\b\b\b\b\b\b\b\b\b\b\b\b\b\b\b\b\b\b\b\b\b\b\b\b\b\b\b\b\b\b\b\b\b\b\b\b\b\b\b\b\b\b\b\b\b\b\b\b\b\b\b\b\b\b\b\b\b\b\b\b\b\b\b\b\b\b\b\b\b\b\b\b\b\b\b\b\b\b\b\b\b\b\b\b\b\b\b\b\b\b\b\b\r154/154 [==============================] - 3s 20ms/step - categorical_accuracy: 0.7760 - auc: 0.8483 - student_loss: 0.4975 - distillation_loss: 0.0235 - val_categorical_accuracy: 0.8271 - val_auc: 0.8976 - val_student_loss: 0.3779\n",
            "Epoch 4/100\n",
            "154/154 [==============================] - ETA: 0s - categorical_accuracy: 0.7874 - auc: 0.8682 - student_loss: 0.4619 - distillation_loss: 0.0220"
          ]
        },
        {
          "output_type": "stream",
          "name": "stderr",
          "text": [
            "WARNING:tensorflow:Early stopping conditioned on metric `val_loss` which is not available. Available metrics are: categorical_accuracy,auc,student_loss,distillation_loss,val_categorical_accuracy,val_auc,val_student_loss\n"
          ]
        },
        {
          "output_type": "stream",
          "name": "stdout",
          "text": [
            "\b\b\b\b\b\b\b\b\b\b\b\b\b\b\b\b\b\b\b\b\b\b\b\b\b\b\b\b\b\b\b\b\b\b\b\b\b\b\b\b\b\b\b\b\b\b\b\b\b\b\b\b\b\b\b\b\b\b\b\b\b\b\b\b\b\b\b\b\b\b\b\b\b\b\b\b\b\b\b\b\b\b\b\b\b\b\b\b\b\b\b\b\b\b\b\b\b\b\b\b\b\b\b\b\b\b\b\b\b\b\b\b\b\b\b\b\b\b\b\b\b\b\b\b\b\b\b\b\b\b\b\b\b\b\b\b\b\b\b\b\b\b\b\b\b\b\r154/154 [==============================] - 3s 19ms/step - categorical_accuracy: 0.7874 - auc: 0.8682 - student_loss: 0.4629 - distillation_loss: 0.0219 - val_categorical_accuracy: 0.8303 - val_auc: 0.9063 - val_student_loss: 0.4191\n",
            "Epoch 5/100\n",
            "154/154 [==============================] - ETA: 0s - categorical_accuracy: 0.8009 - auc: 0.8843 - student_loss: 0.4340 - distillation_loss: 0.0202"
          ]
        },
        {
          "output_type": "stream",
          "name": "stderr",
          "text": [
            "WARNING:tensorflow:Early stopping conditioned on metric `val_loss` which is not available. Available metrics are: categorical_accuracy,auc,student_loss,distillation_loss,val_categorical_accuracy,val_auc,val_student_loss\n"
          ]
        },
        {
          "output_type": "stream",
          "name": "stdout",
          "text": [
            "\b\b\b\b\b\b\b\b\b\b\b\b\b\b\b\b\b\b\b\b\b\b\b\b\b\b\b\b\b\b\b\b\b\b\b\b\b\b\b\b\b\b\b\b\b\b\b\b\b\b\b\b\b\b\b\b\b\b\b\b\b\b\b\b\b\b\b\b\b\b\b\b\b\b\b\b\b\b\b\b\b\b\b\b\b\b\b\b\b\b\b\b\b\b\b\b\b\b\b\b\b\b\b\b\b\b\b\b\b\b\b\b\b\b\b\b\b\b\b\b\b\b\b\b\b\b\b\b\b\b\b\b\b\b\b\b\b\b\b\b\b\b\b\b\b\b\r154/154 [==============================] - 3s 20ms/step - categorical_accuracy: 0.8009 - auc: 0.8843 - student_loss: 0.4325 - distillation_loss: 0.0201 - val_categorical_accuracy: 0.8287 - val_auc: 0.9082 - val_student_loss: 0.5352\n",
            "Epoch 6/100\n",
            "154/154 [==============================] - ETA: 0s - categorical_accuracy: 0.8115 - auc: 0.8943 - student_loss: 0.4187 - distillation_loss: 0.0182"
          ]
        },
        {
          "output_type": "stream",
          "name": "stderr",
          "text": [
            "WARNING:tensorflow:Early stopping conditioned on metric `val_loss` which is not available. Available metrics are: categorical_accuracy,auc,student_loss,distillation_loss,val_categorical_accuracy,val_auc,val_student_loss\n"
          ]
        },
        {
          "output_type": "stream",
          "name": "stdout",
          "text": [
            "\b\b\b\b\b\b\b\b\b\b\b\b\b\b\b\b\b\b\b\b\b\b\b\b\b\b\b\b\b\b\b\b\b\b\b\b\b\b\b\b\b\b\b\b\b\b\b\b\b\b\b\b\b\b\b\b\b\b\b\b\b\b\b\b\b\b\b\b\b\b\b\b\b\b\b\b\b\b\b\b\b\b\b\b\b\b\b\b\b\b\b\b\b\b\b\b\b\b\b\b\b\b\b\b\b\b\b\b\b\b\b\b\b\b\b\b\b\b\b\b\b\b\b\b\b\b\b\b\b\b\b\b\b\b\b\b\b\b\b\b\b\b\b\b\b\b\r154/154 [==============================] - 3s 19ms/step - categorical_accuracy: 0.8115 - auc: 0.8943 - student_loss: 0.4197 - distillation_loss: 0.0184 - val_categorical_accuracy: 0.8467 - val_auc: 0.9226 - val_student_loss: 0.3560\n",
            "Epoch 7/100\n",
            "153/154 [============================>.] - ETA: 0s - categorical_accuracy: 0.8268 - auc: 0.9043 - student_loss: 0.3995 - distillation_loss: 0.0164"
          ]
        },
        {
          "output_type": "stream",
          "name": "stderr",
          "text": [
            "WARNING:tensorflow:Early stopping conditioned on metric `val_loss` which is not available. Available metrics are: categorical_accuracy,auc,student_loss,distillation_loss,val_categorical_accuracy,val_auc,val_student_loss\n"
          ]
        },
        {
          "output_type": "stream",
          "name": "stdout",
          "text": [
            "\b\b\b\b\b\b\b\b\b\b\b\b\b\b\b\b\b\b\b\b\b\b\b\b\b\b\b\b\b\b\b\b\b\b\b\b\b\b\b\b\b\b\b\b\b\b\b\b\b\b\b\b\b\b\b\b\b\b\b\b\b\b\b\b\b\b\b\b\b\b\b\b\b\b\b\b\b\b\b\b\b\b\b\b\b\b\b\b\b\b\b\b\b\b\b\b\b\b\b\b\b\b\b\b\b\b\b\b\b\b\b\b\b\b\b\b\b\b\b\b\b\b\b\b\b\b\b\b\b\b\b\b\b\b\b\b\b\b\b\b\b\b\b\b\b\b\r154/154 [==============================] - 3s 19ms/step - categorical_accuracy: 0.8270 - auc: 0.9045 - student_loss: 0.3965 - distillation_loss: 0.0166 - val_categorical_accuracy: 0.8532 - val_auc: 0.9280 - val_student_loss: 0.4645\n",
            "Epoch 8/100\n",
            "151/154 [============================>.] - ETA: 0s - categorical_accuracy: 0.8299 - auc: 0.9091 - student_loss: 0.3872 - distillation_loss: 0.0157"
          ]
        },
        {
          "output_type": "stream",
          "name": "stderr",
          "text": [
            "WARNING:tensorflow:Early stopping conditioned on metric `val_loss` which is not available. Available metrics are: categorical_accuracy,auc,student_loss,distillation_loss,val_categorical_accuracy,val_auc,val_student_loss\n"
          ]
        },
        {
          "output_type": "stream",
          "name": "stdout",
          "text": [
            "\b\b\b\b\b\b\b\b\b\b\b\b\b\b\b\b\b\b\b\b\b\b\b\b\b\b\b\b\b\b\b\b\b\b\b\b\b\b\b\b\b\b\b\b\b\b\b\b\b\b\b\b\b\b\b\b\b\b\b\b\b\b\b\b\b\b\b\b\b\b\b\b\b\b\b\b\b\b\b\b\b\b\b\b\b\b\b\b\b\b\b\b\b\b\b\b\b\b\b\b\b\b\b\b\b\b\b\b\b\b\b\b\b\b\b\b\b\b\b\b\b\b\b\b\b\b\b\b\b\b\b\b\b\b\b\b\b\b\b\b\b\b\b\b\b\b\r154/154 [==============================] - 3s 19ms/step - categorical_accuracy: 0.8315 - auc: 0.9105 - student_loss: 0.3840 - distillation_loss: 0.0156 - val_categorical_accuracy: 0.8581 - val_auc: 0.9281 - val_student_loss: 0.5694\n",
            "Epoch 9/100\n",
            "154/154 [==============================] - ETA: 0s - categorical_accuracy: 0.8433 - auc: 0.9171 - student_loss: 0.3723 - distillation_loss: 0.0143"
          ]
        },
        {
          "output_type": "stream",
          "name": "stderr",
          "text": [
            "WARNING:tensorflow:Early stopping conditioned on metric `val_loss` which is not available. Available metrics are: categorical_accuracy,auc,student_loss,distillation_loss,val_categorical_accuracy,val_auc,val_student_loss\n"
          ]
        },
        {
          "output_type": "stream",
          "name": "stdout",
          "text": [
            "\b\b\b\b\b\b\b\b\b\b\b\b\b\b\b\b\b\b\b\b\b\b\b\b\b\b\b\b\b\b\b\b\b\b\b\b\b\b\b\b\b\b\b\b\b\b\b\b\b\b\b\b\b\b\b\b\b\b\b\b\b\b\b\b\b\b\b\b\b\b\b\b\b\b\b\b\b\b\b\b\b\b\b\b\b\b\b\b\b\b\b\b\b\b\b\b\b\b\b\b\b\b\b\b\b\b\b\b\b\b\b\b\b\b\b\b\b\b\b\b\b\b\b\b\b\b\b\b\b\b\b\b\b\b\b\b\b\b\b\b\b\b\b\b\b\b\r154/154 [==============================] - 3s 22ms/step - categorical_accuracy: 0.8433 - auc: 0.9171 - student_loss: 0.3722 - distillation_loss: 0.0142 - val_categorical_accuracy: 0.8613 - val_auc: 0.9354 - val_student_loss: 0.4643\n",
            "Epoch 10/100\n",
            "154/154 [==============================] - ETA: 0s - categorical_accuracy: 0.8450 - auc: 0.9203 - student_loss: 0.3627 - distillation_loss: 0.0137"
          ]
        },
        {
          "output_type": "stream",
          "name": "stderr",
          "text": [
            "WARNING:tensorflow:Early stopping conditioned on metric `val_loss` which is not available. Available metrics are: categorical_accuracy,auc,student_loss,distillation_loss,val_categorical_accuracy,val_auc,val_student_loss\n"
          ]
        },
        {
          "output_type": "stream",
          "name": "stdout",
          "text": [
            "\b\b\b\b\b\b\b\b\b\b\b\b\b\b\b\b\b\b\b\b\b\b\b\b\b\b\b\b\b\b\b\b\b\b\b\b\b\b\b\b\b\b\b\b\b\b\b\b\b\b\b\b\b\b\b\b\b\b\b\b\b\b\b\b\b\b\b\b\b\b\b\b\b\b\b\b\b\b\b\b\b\b\b\b\b\b\b\b\b\b\b\b\b\b\b\b\b\b\b\b\b\b\b\b\b\b\b\b\b\b\b\b\b\b\b\b\b\b\b\b\b\b\b\b\b\b\b\b\b\b\b\b\b\b\b\b\b\b\b\b\b\b\b\b\b\b\r154/154 [==============================] - 3s 20ms/step - categorical_accuracy: 0.8450 - auc: 0.9203 - student_loss: 0.3604 - distillation_loss: 0.0136 - val_categorical_accuracy: 0.8744 - val_auc: 0.9390 - val_student_loss: 0.4508\n",
            "Epoch 11/100\n",
            "153/154 [============================>.] - ETA: 0s - categorical_accuracy: 0.8480 - auc: 0.9196 - student_loss: 0.3639 - distillation_loss: 0.0129"
          ]
        },
        {
          "output_type": "stream",
          "name": "stderr",
          "text": [
            "WARNING:tensorflow:Early stopping conditioned on metric `val_loss` which is not available. Available metrics are: categorical_accuracy,auc,student_loss,distillation_loss,val_categorical_accuracy,val_auc,val_student_loss\n"
          ]
        },
        {
          "output_type": "stream",
          "name": "stdout",
          "text": [
            "\b\b\b\b\b\b\b\b\b\b\b\b\b\b\b\b\b\b\b\b\b\b\b\b\b\b\b\b\b\b\b\b\b\b\b\b\b\b\b\b\b\b\b\b\b\b\b\b\b\b\b\b\b\b\b\b\b\b\b\b\b\b\b\b\b\b\b\b\b\b\b\b\b\b\b\b\b\b\b\b\b\b\b\b\b\b\b\b\b\b\b\b\b\b\b\b\b\b\b\b\b\b\b\b\b\b\b\b\b\b\b\b\b\b\b\b\b\b\b\b\b\b\b\b\b\b\b\b\b\b\b\b\b\b\b\b\b\b\b\b\b\b\b\b\b\b\r154/154 [==============================] - 3s 19ms/step - categorical_accuracy: 0.8482 - auc: 0.9198 - student_loss: 0.3605 - distillation_loss: 0.0127 - val_categorical_accuracy: 0.8744 - val_auc: 0.9389 - val_student_loss: 0.3697\n",
            "Epoch 12/100\n",
            "152/154 [============================>.] - ETA: 0s - categorical_accuracy: 0.8491 - auc: 0.9221 - student_loss: 0.3593 - distillation_loss: 0.0130"
          ]
        },
        {
          "output_type": "stream",
          "name": "stderr",
          "text": [
            "WARNING:tensorflow:Early stopping conditioned on metric `val_loss` which is not available. Available metrics are: categorical_accuracy,auc,student_loss,distillation_loss,val_categorical_accuracy,val_auc,val_student_loss\n"
          ]
        },
        {
          "output_type": "stream",
          "name": "stdout",
          "text": [
            "\b\b\b\b\b\b\b\b\b\b\b\b\b\b\b\b\b\b\b\b\b\b\b\b\b\b\b\b\b\b\b\b\b\b\b\b\b\b\b\b\b\b\b\b\b\b\b\b\b\b\b\b\b\b\b\b\b\b\b\b\b\b\b\b\b\b\b\b\b\b\b\b\b\b\b\b\b\b\b\b\b\b\b\b\b\b\b\b\b\b\b\b\b\b\b\b\b\b\b\b\b\b\b\b\b\b\b\b\b\b\b\b\b\b\b\b\b\b\b\b\b\b\b\b\b\b\b\b\b\b\b\b\b\b\b\b\b\b\b\b\b\b\b\b\b\b\r154/154 [==============================] - 3s 20ms/step - categorical_accuracy: 0.8494 - auc: 0.9225 - student_loss: 0.3553 - distillation_loss: 0.0130 - val_categorical_accuracy: 0.8760 - val_auc: 0.9404 - val_student_loss: 0.4425\n",
            "Epoch 13/100\n",
            "154/154 [==============================] - ETA: 0s - categorical_accuracy: 0.8478 - auc: 0.9244 - student_loss: 0.3569 - distillation_loss: 0.0122"
          ]
        },
        {
          "output_type": "stream",
          "name": "stderr",
          "text": [
            "WARNING:tensorflow:Early stopping conditioned on metric `val_loss` which is not available. Available metrics are: categorical_accuracy,auc,student_loss,distillation_loss,val_categorical_accuracy,val_auc,val_student_loss\n"
          ]
        },
        {
          "output_type": "stream",
          "name": "stdout",
          "text": [
            "\b\b\b\b\b\b\b\b\b\b\b\b\b\b\b\b\b\b\b\b\b\b\b\b\b\b\b\b\b\b\b\b\b\b\b\b\b\b\b\b\b\b\b\b\b\b\b\b\b\b\b\b\b\b\b\b\b\b\b\b\b\b\b\b\b\b\b\b\b\b\b\b\b\b\b\b\b\b\b\b\b\b\b\b\b\b\b\b\b\b\b\b\b\b\b\b\b\b\b\b\b\b\b\b\b\b\b\b\b\b\b\b\b\b\b\b\b\b\b\b\b\b\b\b\b\b\b\b\b\b\b\b\b\b\b\b\b\b\b\b\b\b\b\b\b\b\r154/154 [==============================] - 3s 20ms/step - categorical_accuracy: 0.8478 - auc: 0.9244 - student_loss: 0.3615 - distillation_loss: 0.0122 - val_categorical_accuracy: 0.8793 - val_auc: 0.9417 - val_student_loss: 0.3950\n",
            "Epoch 14/100\n",
            "151/154 [============================>.] - ETA: 0s - categorical_accuracy: 0.8473 - auc: 0.9268 - student_loss: 0.3493 - distillation_loss: 0.0121"
          ]
        },
        {
          "output_type": "stream",
          "name": "stderr",
          "text": [
            "WARNING:tensorflow:Early stopping conditioned on metric `val_loss` which is not available. Available metrics are: categorical_accuracy,auc,student_loss,distillation_loss,val_categorical_accuracy,val_auc,val_student_loss\n"
          ]
        },
        {
          "output_type": "stream",
          "name": "stdout",
          "text": [
            "\b\b\b\b\b\b\b\b\b\b\b\b\b\b\b\b\b\b\b\b\b\b\b\b\b\b\b\b\b\b\b\b\b\b\b\b\b\b\b\b\b\b\b\b\b\b\b\b\b\b\b\b\b\b\b\b\b\b\b\b\b\b\b\b\b\b\b\b\b\b\b\b\b\b\b\b\b\b\b\b\b\b\b\b\b\b\b\b\b\b\b\b\b\b\b\b\b\b\b\b\b\b\b\b\b\b\b\b\b\b\b\b\b\b\b\b\b\b\b\b\b\b\b\b\b\b\b\b\b\b\b\b\b\b\b\b\b\b\b\b\b\b\b\b\b\b\r154/154 [==============================] - 3s 20ms/step - categorical_accuracy: 0.8482 - auc: 0.9265 - student_loss: 0.3472 - distillation_loss: 0.0120 - val_categorical_accuracy: 0.8809 - val_auc: 0.9418 - val_student_loss: 0.4446\n",
            "Epoch 15/100\n",
            "154/154 [==============================] - ETA: 0s - categorical_accuracy: 0.8519 - auc: 0.9282 - student_loss: 0.3446 - distillation_loss: 0.0125"
          ]
        },
        {
          "output_type": "stream",
          "name": "stderr",
          "text": [
            "WARNING:tensorflow:Early stopping conditioned on metric `val_loss` which is not available. Available metrics are: categorical_accuracy,auc,student_loss,distillation_loss,val_categorical_accuracy,val_auc,val_student_loss\n"
          ]
        },
        {
          "output_type": "stream",
          "name": "stdout",
          "text": [
            "\b\b\b\b\b\b\b\b\b\b\b\b\b\b\b\b\b\b\b\b\b\b\b\b\b\b\b\b\b\b\b\b\b\b\b\b\b\b\b\b\b\b\b\b\b\b\b\b\b\b\b\b\b\b\b\b\b\b\b\b\b\b\b\b\b\b\b\b\b\b\b\b\b\b\b\b\b\b\b\b\b\b\b\b\b\b\b\b\b\b\b\b\b\b\b\b\b\b\b\b\b\b\b\b\b\b\b\b\b\b\b\b\b\b\b\b\b\b\b\b\b\b\b\b\b\b\b\b\b\b\b\b\b\b\b\b\b\b\b\b\b\b\b\b\b\b\r154/154 [==============================] - 3s 19ms/step - categorical_accuracy: 0.8519 - auc: 0.9282 - student_loss: 0.3433 - distillation_loss: 0.0125 - val_categorical_accuracy: 0.8825 - val_auc: 0.9418 - val_student_loss: 0.4354\n",
            "Epoch 16/100\n",
            "154/154 [==============================] - ETA: 0s - categorical_accuracy: 0.8560 - auc: 0.9273 - student_loss: 0.3452 - distillation_loss: 0.0126"
          ]
        },
        {
          "output_type": "stream",
          "name": "stderr",
          "text": [
            "WARNING:tensorflow:Early stopping conditioned on metric `val_loss` which is not available. Available metrics are: categorical_accuracy,auc,student_loss,distillation_loss,val_categorical_accuracy,val_auc,val_student_loss\n"
          ]
        },
        {
          "output_type": "stream",
          "name": "stdout",
          "text": [
            "\b\b\b\b\b\b\b\b\b\b\b\b\b\b\b\b\b\b\b\b\b\b\b\b\b\b\b\b\b\b\b\b\b\b\b\b\b\b\b\b\b\b\b\b\b\b\b\b\b\b\b\b\b\b\b\b\b\b\b\b\b\b\b\b\b\b\b\b\b\b\b\b\b\b\b\b\b\b\b\b\b\b\b\b\b\b\b\b\b\b\b\b\b\b\b\b\b\b\b\b\b\b\b\b\b\b\b\b\b\b\b\b\b\b\b\b\b\b\b\b\b\b\b\b\b\b\b\b\b\b\b\b\b\b\b\b\b\b\b\b\b\b\b\b\b\b\r154/154 [==============================] - 3s 20ms/step - categorical_accuracy: 0.8560 - auc: 0.9273 - student_loss: 0.3442 - distillation_loss: 0.0125 - val_categorical_accuracy: 0.8728 - val_auc: 0.9392 - val_student_loss: 0.5691\n",
            "Epoch 17/100\n",
            "152/154 [============================>.] - ETA: 0s - categorical_accuracy: 0.8561 - auc: 0.9302 - student_loss: 0.3409 - distillation_loss: 0.0116"
          ]
        },
        {
          "output_type": "stream",
          "name": "stderr",
          "text": [
            "WARNING:tensorflow:Early stopping conditioned on metric `val_loss` which is not available. Available metrics are: categorical_accuracy,auc,student_loss,distillation_loss,val_categorical_accuracy,val_auc,val_student_loss\n"
          ]
        },
        {
          "output_type": "stream",
          "name": "stdout",
          "text": [
            "\b\b\b\b\b\b\b\b\b\b\b\b\b\b\b\b\b\b\b\b\b\b\b\b\b\b\b\b\b\b\b\b\b\b\b\b\b\b\b\b\b\b\b\b\b\b\b\b\b\b\b\b\b\b\b\b\b\b\b\b\b\b\b\b\b\b\b\b\b\b\b\b\b\b\b\b\b\b\b\b\b\b\b\b\b\b\b\b\b\b\b\b\b\b\b\b\b\b\b\b\b\b\b\b\b\b\b\b\b\b\b\b\b\b\b\b\b\b\b\b\b\b\b\b\b\b\b\b\b\b\b\b\b\b\b\b\b\b\b\b\b\b\b\b\b\b\r154/154 [==============================] - 3s 20ms/step - categorical_accuracy: 0.8568 - auc: 0.9307 - student_loss: 0.3371 - distillation_loss: 0.0117 - val_categorical_accuracy: 0.8842 - val_auc: 0.9436 - val_student_loss: 0.4431\n",
            "Epoch 18/100\n",
            "151/154 [============================>.] - ETA: 0s - categorical_accuracy: 0.8597 - auc: 0.9326 - student_loss: 0.3350 - distillation_loss: 0.0119"
          ]
        },
        {
          "output_type": "stream",
          "name": "stderr",
          "text": [
            "WARNING:tensorflow:Early stopping conditioned on metric `val_loss` which is not available. Available metrics are: categorical_accuracy,auc,student_loss,distillation_loss,val_categorical_accuracy,val_auc,val_student_loss\n"
          ]
        },
        {
          "output_type": "stream",
          "name": "stdout",
          "text": [
            "\b\b\b\b\b\b\b\b\b\b\b\b\b\b\b\b\b\b\b\b\b\b\b\b\b\b\b\b\b\b\b\b\b\b\b\b\b\b\b\b\b\b\b\b\b\b\b\b\b\b\b\b\b\b\b\b\b\b\b\b\b\b\b\b\b\b\b\b\b\b\b\b\b\b\b\b\b\b\b\b\b\b\b\b\b\b\b\b\b\b\b\b\b\b\b\b\b\b\b\b\b\b\b\b\b\b\b\b\b\b\b\b\b\b\b\b\b\b\b\b\b\b\b\b\b\b\b\b\b\b\b\b\b\b\b\b\b\b\b\b\b\b\b\b\b\b\r154/154 [==============================] - 3s 20ms/step - categorical_accuracy: 0.8596 - auc: 0.9328 - student_loss: 0.3315 - distillation_loss: 0.0118 - val_categorical_accuracy: 0.8842 - val_auc: 0.9414 - val_student_loss: 0.4897\n",
            "Epoch 19/100\n",
            "152/154 [============================>.] - ETA: 0s - categorical_accuracy: 0.8614 - auc: 0.9330 - student_loss: 0.3341 - distillation_loss: 0.0115"
          ]
        },
        {
          "output_type": "stream",
          "name": "stderr",
          "text": [
            "WARNING:tensorflow:Early stopping conditioned on metric `val_loss` which is not available. Available metrics are: categorical_accuracy,auc,student_loss,distillation_loss,val_categorical_accuracy,val_auc,val_student_loss\n"
          ]
        },
        {
          "output_type": "stream",
          "name": "stdout",
          "text": [
            "\b\b\b\b\b\b\b\b\b\b\b\b\b\b\b\b\b\b\b\b\b\b\b\b\b\b\b\b\b\b\b\b\b\b\b\b\b\b\b\b\b\b\b\b\b\b\b\b\b\b\b\b\b\b\b\b\b\b\b\b\b\b\b\b\b\b\b\b\b\b\b\b\b\b\b\b\b\b\b\b\b\b\b\b\b\b\b\b\b\b\b\b\b\b\b\b\b\b\b\b\b\b\b\b\b\b\b\b\b\b\b\b\b\b\b\b\b\b\b\b\b\b\b\b\b\b\b\b\b\b\b\b\b\b\b\b\b\b\b\b\b\b\b\b\b\b\r154/154 [==============================] - 3s 19ms/step - categorical_accuracy: 0.8613 - auc: 0.9330 - student_loss: 0.3350 - distillation_loss: 0.0113 - val_categorical_accuracy: 0.8744 - val_auc: 0.9434 - val_student_loss: 0.4399\n",
            "Epoch 20/100\n",
            "151/154 [============================>.] - ETA: 0s - categorical_accuracy: 0.8638 - auc: 0.9357 - student_loss: 0.3294 - distillation_loss: 0.0113"
          ]
        },
        {
          "output_type": "stream",
          "name": "stderr",
          "text": [
            "WARNING:tensorflow:Early stopping conditioned on metric `val_loss` which is not available. Available metrics are: categorical_accuracy,auc,student_loss,distillation_loss,val_categorical_accuracy,val_auc,val_student_loss\n"
          ]
        },
        {
          "output_type": "stream",
          "name": "stdout",
          "text": [
            "\b\b\b\b\b\b\b\b\b\b\b\b\b\b\b\b\b\b\b\b\b\b\b\b\b\b\b\b\b\b\b\b\b\b\b\b\b\b\b\b\b\b\b\b\b\b\b\b\b\b\b\b\b\b\b\b\b\b\b\b\b\b\b\b\b\b\b\b\b\b\b\b\b\b\b\b\b\b\b\b\b\b\b\b\b\b\b\b\b\b\b\b\b\b\b\b\b\b\b\b\b\b\b\b\b\b\b\b\b\b\b\b\b\b\b\b\b\b\b\b\b\b\b\b\b\b\b\b\b\b\b\b\b\b\b\b\b\b\b\b\b\b\b\b\b\b\r154/154 [==============================] - 3s 19ms/step - categorical_accuracy: 0.8633 - auc: 0.9348 - student_loss: 0.3444 - distillation_loss: 0.0113 - val_categorical_accuracy: 0.8809 - val_auc: 0.9406 - val_student_loss: 0.5530\n",
            "Epoch 21/100\n",
            "154/154 [==============================] - ETA: 0s - categorical_accuracy: 0.8621 - auc: 0.9347 - student_loss: 0.3335 - distillation_loss: 0.0112"
          ]
        },
        {
          "output_type": "stream",
          "name": "stderr",
          "text": [
            "WARNING:tensorflow:Early stopping conditioned on metric `val_loss` which is not available. Available metrics are: categorical_accuracy,auc,student_loss,distillation_loss,val_categorical_accuracy,val_auc,val_student_loss\n"
          ]
        },
        {
          "output_type": "stream",
          "name": "stdout",
          "text": [
            "\b\b\b\b\b\b\b\b\b\b\b\b\b\b\b\b\b\b\b\b\b\b\b\b\b\b\b\b\b\b\b\b\b\b\b\b\b\b\b\b\b\b\b\b\b\b\b\b\b\b\b\b\b\b\b\b\b\b\b\b\b\b\b\b\b\b\b\b\b\b\b\b\b\b\b\b\b\b\b\b\b\b\b\b\b\b\b\b\b\b\b\b\b\b\b\b\b\b\b\b\b\b\b\b\b\b\b\b\b\b\b\b\b\b\b\b\b\b\b\b\b\b\b\b\b\b\b\b\b\b\b\b\b\b\b\b\b\b\b\b\b\b\b\b\b\b\r154/154 [==============================] - 3s 19ms/step - categorical_accuracy: 0.8621 - auc: 0.9347 - student_loss: 0.3348 - distillation_loss: 0.0112 - val_categorical_accuracy: 0.8825 - val_auc: 0.9439 - val_student_loss: 0.4468\n",
            "Epoch 22/100\n",
            "151/154 [============================>.] - ETA: 0s - categorical_accuracy: 0.8560 - auc: 0.9345 - student_loss: 0.3302 - distillation_loss: 0.0114"
          ]
        },
        {
          "output_type": "stream",
          "name": "stderr",
          "text": [
            "WARNING:tensorflow:Early stopping conditioned on metric `val_loss` which is not available. Available metrics are: categorical_accuracy,auc,student_loss,distillation_loss,val_categorical_accuracy,val_auc,val_student_loss\n"
          ]
        },
        {
          "output_type": "stream",
          "name": "stdout",
          "text": [
            "\b\b\b\b\b\b\b\b\b\b\b\b\b\b\b\b\b\b\b\b\b\b\b\b\b\b\b\b\b\b\b\b\b\b\b\b\b\b\b\b\b\b\b\b\b\b\b\b\b\b\b\b\b\b\b\b\b\b\b\b\b\b\b\b\b\b\b\b\b\b\b\b\b\b\b\b\b\b\b\b\b\b\b\b\b\b\b\b\b\b\b\b\b\b\b\b\b\b\b\b\b\b\b\b\b\b\b\b\b\b\b\b\b\b\b\b\b\b\b\b\b\b\b\b\b\b\b\b\b\b\b\b\b\b\b\b\b\b\b\b\b\b\b\b\b\b\r154/154 [==============================] - 3s 21ms/step - categorical_accuracy: 0.8564 - auc: 0.9343 - student_loss: 0.3290 - distillation_loss: 0.0115 - val_categorical_accuracy: 0.8858 - val_auc: 0.9446 - val_student_loss: 0.3881\n",
            "Epoch 23/100\n",
            "154/154 [==============================] - ETA: 0s - categorical_accuracy: 0.8625 - auc: 0.9376 - student_loss: 0.3256 - distillation_loss: 0.0108"
          ]
        },
        {
          "output_type": "stream",
          "name": "stderr",
          "text": [
            "WARNING:tensorflow:Early stopping conditioned on metric `val_loss` which is not available. Available metrics are: categorical_accuracy,auc,student_loss,distillation_loss,val_categorical_accuracy,val_auc,val_student_loss\n"
          ]
        },
        {
          "output_type": "stream",
          "name": "stdout",
          "text": [
            "\b\b\b\b\b\b\b\b\b\b\b\b\b\b\b\b\b\b\b\b\b\b\b\b\b\b\b\b\b\b\b\b\b\b\b\b\b\b\b\b\b\b\b\b\b\b\b\b\b\b\b\b\b\b\b\b\b\b\b\b\b\b\b\b\b\b\b\b\b\b\b\b\b\b\b\b\b\b\b\b\b\b\b\b\b\b\b\b\b\b\b\b\b\b\b\b\b\b\b\b\b\b\b\b\b\b\b\b\b\b\b\b\b\b\b\b\b\b\b\b\b\b\b\b\b\b\b\b\b\b\b\b\b\b\b\b\b\b\b\b\b\b\b\b\b\b\r154/154 [==============================] - 3s 19ms/step - categorical_accuracy: 0.8625 - auc: 0.9376 - student_loss: 0.3264 - distillation_loss: 0.0107 - val_categorical_accuracy: 0.8891 - val_auc: 0.9442 - val_student_loss: 0.3880\n",
            "Epoch 24/100\n",
            "152/154 [============================>.] - ETA: 0s - categorical_accuracy: 0.8602 - auc: 0.9371 - student_loss: 0.3256 - distillation_loss: 0.0111"
          ]
        },
        {
          "output_type": "stream",
          "name": "stderr",
          "text": [
            "WARNING:tensorflow:Early stopping conditioned on metric `val_loss` which is not available. Available metrics are: categorical_accuracy,auc,student_loss,distillation_loss,val_categorical_accuracy,val_auc,val_student_loss\n"
          ]
        },
        {
          "output_type": "stream",
          "name": "stdout",
          "text": [
            "\b\b\b\b\b\b\b\b\b\b\b\b\b\b\b\b\b\b\b\b\b\b\b\b\b\b\b\b\b\b\b\b\b\b\b\b\b\b\b\b\b\b\b\b\b\b\b\b\b\b\b\b\b\b\b\b\b\b\b\b\b\b\b\b\b\b\b\b\b\b\b\b\b\b\b\b\b\b\b\b\b\b\b\b\b\b\b\b\b\b\b\b\b\b\b\b\b\b\b\b\b\b\b\b\b\b\b\b\b\b\b\b\b\b\b\b\b\b\b\b\b\b\b\b\b\b\b\b\b\b\b\b\b\b\b\b\b\b\b\b\b\b\b\b\b\b\r154/154 [==============================] - 3s 19ms/step - categorical_accuracy: 0.8605 - auc: 0.9372 - student_loss: 0.3248 - distillation_loss: 0.0110 - val_categorical_accuracy: 0.8809 - val_auc: 0.9435 - val_student_loss: 0.4369\n",
            "Epoch 25/100\n",
            "152/154 [============================>.] - ETA: 0s - categorical_accuracy: 0.8643 - auc: 0.9387 - student_loss: 0.3221 - distillation_loss: 0.0110"
          ]
        },
        {
          "output_type": "stream",
          "name": "stderr",
          "text": [
            "WARNING:tensorflow:Early stopping conditioned on metric `val_loss` which is not available. Available metrics are: categorical_accuracy,auc,student_loss,distillation_loss,val_categorical_accuracy,val_auc,val_student_loss\n"
          ]
        },
        {
          "output_type": "stream",
          "name": "stdout",
          "text": [
            "\b\b\b\b\b\b\b\b\b\b\b\b\b\b\b\b\b\b\b\b\b\b\b\b\b\b\b\b\b\b\b\b\b\b\b\b\b\b\b\b\b\b\b\b\b\b\b\b\b\b\b\b\b\b\b\b\b\b\b\b\b\b\b\b\b\b\b\b\b\b\b\b\b\b\b\b\b\b\b\b\b\b\b\b\b\b\b\b\b\b\b\b\b\b\b\b\b\b\b\b\b\b\b\b\b\b\b\b\b\b\b\b\b\b\b\b\b\b\b\b\b\b\b\b\b\b\b\b\b\b\b\b\b\b\b\b\b\b\b\b\b\b\b\b\b\b\r154/154 [==============================] - 3s 20ms/step - categorical_accuracy: 0.8637 - auc: 0.9380 - student_loss: 0.3207 - distillation_loss: 0.0108 - val_categorical_accuracy: 0.8809 - val_auc: 0.9427 - val_student_loss: 0.4511\n",
            "Epoch 26/100\n",
            "151/154 [============================>.] - ETA: 0s - categorical_accuracy: 0.8659 - auc: 0.9408 - student_loss: 0.3171 - distillation_loss: 0.0105"
          ]
        },
        {
          "output_type": "stream",
          "name": "stderr",
          "text": [
            "WARNING:tensorflow:Early stopping conditioned on metric `val_loss` which is not available. Available metrics are: categorical_accuracy,auc,student_loss,distillation_loss,val_categorical_accuracy,val_auc,val_student_loss\n"
          ]
        },
        {
          "output_type": "stream",
          "name": "stdout",
          "text": [
            "\b\b\b\b\b\b\b\b\b\b\b\b\b\b\b\b\b\b\b\b\b\b\b\b\b\b\b\b\b\b\b\b\b\b\b\b\b\b\b\b\b\b\b\b\b\b\b\b\b\b\b\b\b\b\b\b\b\b\b\b\b\b\b\b\b\b\b\b\b\b\b\b\b\b\b\b\b\b\b\b\b\b\b\b\b\b\b\b\b\b\b\b\b\b\b\b\b\b\b\b\b\b\b\b\b\b\b\b\b\b\b\b\b\b\b\b\b\b\b\b\b\b\b\b\b\b\b\b\b\b\b\b\b\b\b\b\b\b\b\b\b\b\b\b\b\b\r154/154 [==============================] - 3s 21ms/step - categorical_accuracy: 0.8662 - auc: 0.9406 - student_loss: 0.3147 - distillation_loss: 0.0104 - val_categorical_accuracy: 0.8809 - val_auc: 0.9416 - val_student_loss: 0.4668\n",
            "Epoch 27/100\n",
            "152/154 [============================>.] - ETA: 0s - categorical_accuracy: 0.8668 - auc: 0.9397 - student_loss: 0.3185 - distillation_loss: 0.0106"
          ]
        },
        {
          "output_type": "stream",
          "name": "stderr",
          "text": [
            "WARNING:tensorflow:Early stopping conditioned on metric `val_loss` which is not available. Available metrics are: categorical_accuracy,auc,student_loss,distillation_loss,val_categorical_accuracy,val_auc,val_student_loss\n"
          ]
        },
        {
          "output_type": "stream",
          "name": "stdout",
          "text": [
            "\b\b\b\b\b\b\b\b\b\b\b\b\b\b\b\b\b\b\b\b\b\b\b\b\b\b\b\b\b\b\b\b\b\b\b\b\b\b\b\b\b\b\b\b\b\b\b\b\b\b\b\b\b\b\b\b\b\b\b\b\b\b\b\b\b\b\b\b\b\b\b\b\b\b\b\b\b\b\b\b\b\b\b\b\b\b\b\b\b\b\b\b\b\b\b\b\b\b\b\b\b\b\b\b\b\b\b\b\b\b\b\b\b\b\b\b\b\b\b\b\b\b\b\b\b\b\b\b\b\b\b\b\b\b\b\b\b\b\b\b\b\b\b\b\b\b\r154/154 [==============================] - 3s 19ms/step - categorical_accuracy: 0.8678 - auc: 0.9402 - student_loss: 0.3175 - distillation_loss: 0.0106 - val_categorical_accuracy: 0.8793 - val_auc: 0.9449 - val_student_loss: 0.4462\n",
            "Epoch 28/100\n",
            "154/154 [==============================] - ETA: 0s - categorical_accuracy: 0.8698 - auc: 0.9411 - student_loss: 0.3149 - distillation_loss: 0.0108"
          ]
        },
        {
          "output_type": "stream",
          "name": "stderr",
          "text": [
            "WARNING:tensorflow:Early stopping conditioned on metric `val_loss` which is not available. Available metrics are: categorical_accuracy,auc,student_loss,distillation_loss,val_categorical_accuracy,val_auc,val_student_loss\n"
          ]
        },
        {
          "output_type": "stream",
          "name": "stdout",
          "text": [
            "\b\b\b\b\b\b\b\b\b\b\b\b\b\b\b\b\b\b\b\b\b\b\b\b\b\b\b\b\b\b\b\b\b\b\b\b\b\b\b\b\b\b\b\b\b\b\b\b\b\b\b\b\b\b\b\b\b\b\b\b\b\b\b\b\b\b\b\b\b\b\b\b\b\b\b\b\b\b\b\b\b\b\b\b\b\b\b\b\b\b\b\b\b\b\b\b\b\b\b\b\b\b\b\b\b\b\b\b\b\b\b\b\b\b\b\b\b\b\b\b\b\b\b\b\b\b\b\b\b\b\b\b\b\b\b\b\b\b\b\b\b\b\b\b\b\b\r154/154 [==============================] - 3s 19ms/step - categorical_accuracy: 0.8698 - auc: 0.9411 - student_loss: 0.3135 - distillation_loss: 0.0108 - val_categorical_accuracy: 0.8858 - val_auc: 0.9450 - val_student_loss: 0.4152\n",
            "Epoch 29/100\n",
            "152/154 [============================>.] - ETA: 0s - categorical_accuracy: 0.8668 - auc: 0.9410 - student_loss: 0.3167 - distillation_loss: 0.0105"
          ]
        },
        {
          "output_type": "stream",
          "name": "stderr",
          "text": [
            "WARNING:tensorflow:Early stopping conditioned on metric `val_loss` which is not available. Available metrics are: categorical_accuracy,auc,student_loss,distillation_loss,val_categorical_accuracy,val_auc,val_student_loss\n"
          ]
        },
        {
          "output_type": "stream",
          "name": "stdout",
          "text": [
            "\b\b\b\b\b\b\b\b\b\b\b\b\b\b\b\b\b\b\b\b\b\b\b\b\b\b\b\b\b\b\b\b\b\b\b\b\b\b\b\b\b\b\b\b\b\b\b\b\b\b\b\b\b\b\b\b\b\b\b\b\b\b\b\b\b\b\b\b\b\b\b\b\b\b\b\b\b\b\b\b\b\b\b\b\b\b\b\b\b\b\b\b\b\b\b\b\b\b\b\b\b\b\b\b\b\b\b\b\b\b\b\b\b\b\b\b\b\b\b\b\b\b\b\b\b\b\b\b\b\b\b\b\b\b\b\b\b\b\b\b\b\b\b\b\b\b\r154/154 [==============================] - 3s 19ms/step - categorical_accuracy: 0.8678 - auc: 0.9416 - student_loss: 0.3130 - distillation_loss: 0.0104 - val_categorical_accuracy: 0.8874 - val_auc: 0.9443 - val_student_loss: 0.4038\n",
            "Epoch 30/100\n",
            "154/154 [==============================] - ETA: 0s - categorical_accuracy: 0.8690 - auc: 0.9424 - student_loss: 0.3124 - distillation_loss: 0.0100"
          ]
        },
        {
          "output_type": "stream",
          "name": "stderr",
          "text": [
            "WARNING:tensorflow:Early stopping conditioned on metric `val_loss` which is not available. Available metrics are: categorical_accuracy,auc,student_loss,distillation_loss,val_categorical_accuracy,val_auc,val_student_loss\n"
          ]
        },
        {
          "output_type": "stream",
          "name": "stdout",
          "text": [
            "\b\b\b\b\b\b\b\b\b\b\b\b\b\b\b\b\b\b\b\b\b\b\b\b\b\b\b\b\b\b\b\b\b\b\b\b\b\b\b\b\b\b\b\b\b\b\b\b\b\b\b\b\b\b\b\b\b\b\b\b\b\b\b\b\b\b\b\b\b\b\b\b\b\b\b\b\b\b\b\b\b\b\b\b\b\b\b\b\b\b\b\b\b\b\b\b\b\b\b\b\b\b\b\b\b\b\b\b\b\b\b\b\b\b\b\b\b\b\b\b\b\b\b\b\b\b\b\b\b\b\b\b\b\b\b\b\b\b\b\b\b\b\b\b\b\b\r154/154 [==============================] - 3s 20ms/step - categorical_accuracy: 0.8690 - auc: 0.9424 - student_loss: 0.3111 - distillation_loss: 0.0100 - val_categorical_accuracy: 0.8825 - val_auc: 0.9445 - val_student_loss: 0.3941\n",
            "Epoch 31/100\n",
            "153/154 [============================>.] - ETA: 0s - categorical_accuracy: 0.8664 - auc: 0.9434 - student_loss: 0.3124 - distillation_loss: 0.0100"
          ]
        },
        {
          "output_type": "stream",
          "name": "stderr",
          "text": [
            "WARNING:tensorflow:Early stopping conditioned on metric `val_loss` which is not available. Available metrics are: categorical_accuracy,auc,student_loss,distillation_loss,val_categorical_accuracy,val_auc,val_student_loss\n"
          ]
        },
        {
          "output_type": "stream",
          "name": "stdout",
          "text": [
            "\b\b\b\b\b\b\b\b\b\b\b\b\b\b\b\b\b\b\b\b\b\b\b\b\b\b\b\b\b\b\b\b\b\b\b\b\b\b\b\b\b\b\b\b\b\b\b\b\b\b\b\b\b\b\b\b\b\b\b\b\b\b\b\b\b\b\b\b\b\b\b\b\b\b\b\b\b\b\b\b\b\b\b\b\b\b\b\b\b\b\b\b\b\b\b\b\b\b\b\b\b\b\b\b\b\b\b\b\b\b\b\b\b\b\b\b\b\b\b\b\b\b\b\b\b\b\b\b\b\b\b\b\b\b\b\b\b\b\b\b\b\b\b\b\b\b\r154/154 [==============================] - 3s 19ms/step - categorical_accuracy: 0.8666 - auc: 0.9435 - student_loss: 0.3091 - distillation_loss: 0.0103 - val_categorical_accuracy: 0.8825 - val_auc: 0.9417 - val_student_loss: 0.4471\n",
            "Epoch 32/100\n",
            "154/154 [==============================] - ETA: 0s - categorical_accuracy: 0.8723 - auc: 0.9443 - student_loss: 0.3101 - distillation_loss: 0.0101"
          ]
        },
        {
          "output_type": "stream",
          "name": "stderr",
          "text": [
            "WARNING:tensorflow:Early stopping conditioned on metric `val_loss` which is not available. Available metrics are: categorical_accuracy,auc,student_loss,distillation_loss,val_categorical_accuracy,val_auc,val_student_loss\n"
          ]
        },
        {
          "output_type": "stream",
          "name": "stdout",
          "text": [
            "\b\b\b\b\b\b\b\b\b\b\b\b\b\b\b\b\b\b\b\b\b\b\b\b\b\b\b\b\b\b\b\b\b\b\b\b\b\b\b\b\b\b\b\b\b\b\b\b\b\b\b\b\b\b\b\b\b\b\b\b\b\b\b\b\b\b\b\b\b\b\b\b\b\b\b\b\b\b\b\b\b\b\b\b\b\b\b\b\b\b\b\b\b\b\b\b\b\b\b\b\b\b\b\b\b\b\b\b\b\b\b\b\b\b\b\b\b\b\b\b\b\b\b\b\b\b\b\b\b\b\b\b\b\b\b\b\b\b\b\b\b\b\b\b\b\b\r154/154 [==============================] - 3s 19ms/step - categorical_accuracy: 0.8723 - auc: 0.9443 - student_loss: 0.3121 - distillation_loss: 0.0100 - val_categorical_accuracy: 0.8842 - val_auc: 0.9442 - val_student_loss: 0.3088\n",
            "Epoch 33/100\n",
            "153/154 [============================>.] - ETA: 0s - categorical_accuracy: 0.8742 - auc: 0.9455 - student_loss: 0.3067 - distillation_loss: 0.0103"
          ]
        },
        {
          "output_type": "stream",
          "name": "stderr",
          "text": [
            "WARNING:tensorflow:Early stopping conditioned on metric `val_loss` which is not available. Available metrics are: categorical_accuracy,auc,student_loss,distillation_loss,val_categorical_accuracy,val_auc,val_student_loss\n"
          ]
        },
        {
          "output_type": "stream",
          "name": "stdout",
          "text": [
            "\b\b\b\b\b\b\b\b\b\b\b\b\b\b\b\b\b\b\b\b\b\b\b\b\b\b\b\b\b\b\b\b\b\b\b\b\b\b\b\b\b\b\b\b\b\b\b\b\b\b\b\b\b\b\b\b\b\b\b\b\b\b\b\b\b\b\b\b\b\b\b\b\b\b\b\b\b\b\b\b\b\b\b\b\b\b\b\b\b\b\b\b\b\b\b\b\b\b\b\b\b\b\b\b\b\b\b\b\b\b\b\b\b\b\b\b\b\b\b\b\b\b\b\b\b\b\b\b\b\b\b\b\b\b\b\b\b\b\b\b\b\b\b\b\b\b\r154/154 [==============================] - 3s 19ms/step - categorical_accuracy: 0.8743 - auc: 0.9456 - student_loss: 0.3057 - distillation_loss: 0.0104 - val_categorical_accuracy: 0.8825 - val_auc: 0.9398 - val_student_loss: 0.4684\n",
            "Epoch 34/100\n",
            "154/154 [==============================] - ETA: 0s - categorical_accuracy: 0.8747 - auc: 0.9460 - student_loss: 0.3085 - distillation_loss: 0.0098"
          ]
        },
        {
          "output_type": "stream",
          "name": "stderr",
          "text": [
            "WARNING:tensorflow:Early stopping conditioned on metric `val_loss` which is not available. Available metrics are: categorical_accuracy,auc,student_loss,distillation_loss,val_categorical_accuracy,val_auc,val_student_loss\n"
          ]
        },
        {
          "output_type": "stream",
          "name": "stdout",
          "text": [
            "\b\b\b\b\b\b\b\b\b\b\b\b\b\b\b\b\b\b\b\b\b\b\b\b\b\b\b\b\b\b\b\b\b\b\b\b\b\b\b\b\b\b\b\b\b\b\b\b\b\b\b\b\b\b\b\b\b\b\b\b\b\b\b\b\b\b\b\b\b\b\b\b\b\b\b\b\b\b\b\b\b\b\b\b\b\b\b\b\b\b\b\b\b\b\b\b\b\b\b\b\b\b\b\b\b\b\b\b\b\b\b\b\b\b\b\b\b\b\b\b\b\b\b\b\b\b\b\b\b\b\b\b\b\b\b\b\b\b\b\b\b\b\b\b\b\b\r154/154 [==============================] - 3s 20ms/step - categorical_accuracy: 0.8747 - auc: 0.9460 - student_loss: 0.3126 - distillation_loss: 0.0099 - val_categorical_accuracy: 0.8858 - val_auc: 0.9452 - val_student_loss: 0.3752\n",
            "Epoch 35/100\n",
            "152/154 [============================>.] - ETA: 0s - categorical_accuracy: 0.8750 - auc: 0.9465 - student_loss: 0.3055 - distillation_loss: 0.0098"
          ]
        },
        {
          "output_type": "stream",
          "name": "stderr",
          "text": [
            "WARNING:tensorflow:Early stopping conditioned on metric `val_loss` which is not available. Available metrics are: categorical_accuracy,auc,student_loss,distillation_loss,val_categorical_accuracy,val_auc,val_student_loss\n"
          ]
        },
        {
          "output_type": "stream",
          "name": "stdout",
          "text": [
            "\b\b\b\b\b\b\b\b\b\b\b\b\b\b\b\b\b\b\b\b\b\b\b\b\b\b\b\b\b\b\b\b\b\b\b\b\b\b\b\b\b\b\b\b\b\b\b\b\b\b\b\b\b\b\b\b\b\b\b\b\b\b\b\b\b\b\b\b\b\b\b\b\b\b\b\b\b\b\b\b\b\b\b\b\b\b\b\b\b\b\b\b\b\b\b\b\b\b\b\b\b\b\b\b\b\b\b\b\b\b\b\b\b\b\b\b\b\b\b\b\b\b\b\b\b\b\b\b\b\b\b\b\b\b\b\b\b\b\b\b\b\b\b\b\b\b\r154/154 [==============================] - 3s 19ms/step - categorical_accuracy: 0.8743 - auc: 0.9466 - student_loss: 0.3063 - distillation_loss: 0.0098 - val_categorical_accuracy: 0.8858 - val_auc: 0.9459 - val_student_loss: 0.3423\n",
            "Epoch 36/100\n",
            "153/154 [============================>.] - ETA: 0s - categorical_accuracy: 0.8754 - auc: 0.9466 - student_loss: 0.3049 - distillation_loss: 0.0097"
          ]
        },
        {
          "output_type": "stream",
          "name": "stderr",
          "text": [
            "WARNING:tensorflow:Early stopping conditioned on metric `val_loss` which is not available. Available metrics are: categorical_accuracy,auc,student_loss,distillation_loss,val_categorical_accuracy,val_auc,val_student_loss\n"
          ]
        },
        {
          "output_type": "stream",
          "name": "stdout",
          "text": [
            "\b\b\b\b\b\b\b\b\b\b\b\b\b\b\b\b\b\b\b\b\b\b\b\b\b\b\b\b\b\b\b\b\b\b\b\b\b\b\b\b\b\b\b\b\b\b\b\b\b\b\b\b\b\b\b\b\b\b\b\b\b\b\b\b\b\b\b\b\b\b\b\b\b\b\b\b\b\b\b\b\b\b\b\b\b\b\b\b\b\b\b\b\b\b\b\b\b\b\b\b\b\b\b\b\b\b\b\b\b\b\b\b\b\b\b\b\b\b\b\b\b\b\b\b\b\b\b\b\b\b\b\b\b\b\b\b\b\b\b\b\b\b\b\b\b\b\r154/154 [==============================] - 3s 19ms/step - categorical_accuracy: 0.8756 - auc: 0.9466 - student_loss: 0.3038 - distillation_loss: 0.0097 - val_categorical_accuracy: 0.8842 - val_auc: 0.9461 - val_student_loss: 0.3688\n",
            "Epoch 37/100\n",
            "153/154 [============================>.] - ETA: 0s - categorical_accuracy: 0.8725 - auc: 0.9492 - student_loss: 0.2986 - distillation_loss: 0.0097"
          ]
        },
        {
          "output_type": "stream",
          "name": "stderr",
          "text": [
            "WARNING:tensorflow:Early stopping conditioned on metric `val_loss` which is not available. Available metrics are: categorical_accuracy,auc,student_loss,distillation_loss,val_categorical_accuracy,val_auc,val_student_loss\n"
          ]
        },
        {
          "output_type": "stream",
          "name": "stdout",
          "text": [
            "\b\b\b\b\b\b\b\b\b\b\b\b\b\b\b\b\b\b\b\b\b\b\b\b\b\b\b\b\b\b\b\b\b\b\b\b\b\b\b\b\b\b\b\b\b\b\b\b\b\b\b\b\b\b\b\b\b\b\b\b\b\b\b\b\b\b\b\b\b\b\b\b\b\b\b\b\b\b\b\b\b\b\b\b\b\b\b\b\b\b\b\b\b\b\b\b\b\b\b\b\b\b\b\b\b\b\b\b\b\b\b\b\b\b\b\b\b\b\b\b\b\b\b\b\b\b\b\b\b\b\b\b\b\b\b\b\b\b\b\b\b\b\b\b\b\b\r154/154 [==============================] - 3s 20ms/step - categorical_accuracy: 0.8727 - auc: 0.9492 - student_loss: 0.2975 - distillation_loss: 0.0096 - val_categorical_accuracy: 0.8809 - val_auc: 0.9452 - val_student_loss: 0.3842\n",
            "Epoch 38/100\n",
            "154/154 [==============================] - ETA: 0s - categorical_accuracy: 0.8743 - auc: 0.9483 - student_loss: 0.2994 - distillation_loss: 0.0096"
          ]
        },
        {
          "output_type": "stream",
          "name": "stderr",
          "text": [
            "WARNING:tensorflow:Early stopping conditioned on metric `val_loss` which is not available. Available metrics are: categorical_accuracy,auc,student_loss,distillation_loss,val_categorical_accuracy,val_auc,val_student_loss\n"
          ]
        },
        {
          "output_type": "stream",
          "name": "stdout",
          "text": [
            "\b\b\b\b\b\b\b\b\b\b\b\b\b\b\b\b\b\b\b\b\b\b\b\b\b\b\b\b\b\b\b\b\b\b\b\b\b\b\b\b\b\b\b\b\b\b\b\b\b\b\b\b\b\b\b\b\b\b\b\b\b\b\b\b\b\b\b\b\b\b\b\b\b\b\b\b\b\b\b\b\b\b\b\b\b\b\b\b\b\b\b\b\b\b\b\b\b\b\b\b\b\b\b\b\b\b\b\b\b\b\b\b\b\b\b\b\b\b\b\b\b\b\b\b\b\b\b\b\b\b\b\b\b\b\b\b\b\b\b\b\b\b\b\b\b\b\r154/154 [==============================] - 3s 20ms/step - categorical_accuracy: 0.8743 - auc: 0.9483 - student_loss: 0.2991 - distillation_loss: 0.0096 - val_categorical_accuracy: 0.8923 - val_auc: 0.9467 - val_student_loss: 0.3450\n",
            "Epoch 39/100\n",
            "154/154 [==============================] - ETA: 0s - categorical_accuracy: 0.8796 - auc: 0.9475 - student_loss: 0.3023 - distillation_loss: 0.0095"
          ]
        },
        {
          "output_type": "stream",
          "name": "stderr",
          "text": [
            "WARNING:tensorflow:Early stopping conditioned on metric `val_loss` which is not available. Available metrics are: categorical_accuracy,auc,student_loss,distillation_loss,val_categorical_accuracy,val_auc,val_student_loss\n"
          ]
        },
        {
          "output_type": "stream",
          "name": "stdout",
          "text": [
            "\b\b\b\b\b\b\b\b\b\b\b\b\b\b\b\b\b\b\b\b\b\b\b\b\b\b\b\b\b\b\b\b\b\b\b\b\b\b\b\b\b\b\b\b\b\b\b\b\b\b\b\b\b\b\b\b\b\b\b\b\b\b\b\b\b\b\b\b\b\b\b\b\b\b\b\b\b\b\b\b\b\b\b\b\b\b\b\b\b\b\b\b\b\b\b\b\b\b\b\b\b\b\b\b\b\b\b\b\b\b\b\b\b\b\b\b\b\b\b\b\b\b\b\b\b\b\b\b\b\b\b\b\b\b\b\b\b\b\b\b\b\b\b\b\b\b\r154/154 [==============================] - 3s 20ms/step - categorical_accuracy: 0.8796 - auc: 0.9475 - student_loss: 0.3020 - distillation_loss: 0.0097 - val_categorical_accuracy: 0.8858 - val_auc: 0.9443 - val_student_loss: 0.3778\n",
            "Epoch 40/100\n",
            "152/154 [============================>.] - ETA: 0s - categorical_accuracy: 0.8795 - auc: 0.9493 - student_loss: 0.2982 - distillation_loss: 0.0094"
          ]
        },
        {
          "output_type": "stream",
          "name": "stderr",
          "text": [
            "WARNING:tensorflow:Early stopping conditioned on metric `val_loss` which is not available. Available metrics are: categorical_accuracy,auc,student_loss,distillation_loss,val_categorical_accuracy,val_auc,val_student_loss\n"
          ]
        },
        {
          "output_type": "stream",
          "name": "stdout",
          "text": [
            "\b\b\b\b\b\b\b\b\b\b\b\b\b\b\b\b\b\b\b\b\b\b\b\b\b\b\b\b\b\b\b\b\b\b\b\b\b\b\b\b\b\b\b\b\b\b\b\b\b\b\b\b\b\b\b\b\b\b\b\b\b\b\b\b\b\b\b\b\b\b\b\b\b\b\b\b\b\b\b\b\b\b\b\b\b\b\b\b\b\b\b\b\b\b\b\b\b\b\b\b\b\b\b\b\b\b\b\b\b\b\b\b\b\b\b\b\b\b\b\b\b\b\b\b\b\b\b\b\b\b\b\b\b\b\b\b\b\b\b\b\b\b\b\b\b\b\r154/154 [==============================] - 3s 20ms/step - categorical_accuracy: 0.8805 - auc: 0.9498 - student_loss: 0.2948 - distillation_loss: 0.0094 - val_categorical_accuracy: 0.8874 - val_auc: 0.9460 - val_student_loss: 0.3385\n",
            "Epoch 41/100\n",
            "152/154 [============================>.] - ETA: 0s - categorical_accuracy: 0.8820 - auc: 0.9501 - student_loss: 0.2953 - distillation_loss: 0.0092"
          ]
        },
        {
          "output_type": "stream",
          "name": "stderr",
          "text": [
            "WARNING:tensorflow:Early stopping conditioned on metric `val_loss` which is not available. Available metrics are: categorical_accuracy,auc,student_loss,distillation_loss,val_categorical_accuracy,val_auc,val_student_loss\n"
          ]
        },
        {
          "output_type": "stream",
          "name": "stdout",
          "text": [
            "\b\b\b\b\b\b\b\b\b\b\b\b\b\b\b\b\b\b\b\b\b\b\b\b\b\b\b\b\b\b\b\b\b\b\b\b\b\b\b\b\b\b\b\b\b\b\b\b\b\b\b\b\b\b\b\b\b\b\b\b\b\b\b\b\b\b\b\b\b\b\b\b\b\b\b\b\b\b\b\b\b\b\b\b\b\b\b\b\b\b\b\b\b\b\b\b\b\b\b\b\b\b\b\b\b\b\b\b\b\b\b\b\b\b\b\b\b\b\b\b\b\b\b\b\b\b\b\b\b\b\b\b\b\b\b\b\b\b\b\b\b\b\b\b\b\b\r154/154 [==============================] - 3s 20ms/step - categorical_accuracy: 0.8817 - auc: 0.9501 - student_loss: 0.2921 - distillation_loss: 0.0094 - val_categorical_accuracy: 0.8874 - val_auc: 0.9434 - val_student_loss: 0.3967\n",
            "Epoch 42/100\n",
            "153/154 [============================>.] - ETA: 0s - categorical_accuracy: 0.8828 - auc: 0.9521 - student_loss: 0.2932 - distillation_loss: 0.0090"
          ]
        },
        {
          "output_type": "stream",
          "name": "stderr",
          "text": [
            "WARNING:tensorflow:Early stopping conditioned on metric `val_loss` which is not available. Available metrics are: categorical_accuracy,auc,student_loss,distillation_loss,val_categorical_accuracy,val_auc,val_student_loss\n"
          ]
        },
        {
          "output_type": "stream",
          "name": "stdout",
          "text": [
            "\b\b\b\b\b\b\b\b\b\b\b\b\b\b\b\b\b\b\b\b\b\b\b\b\b\b\b\b\b\b\b\b\b\b\b\b\b\b\b\b\b\b\b\b\b\b\b\b\b\b\b\b\b\b\b\b\b\b\b\b\b\b\b\b\b\b\b\b\b\b\b\b\b\b\b\b\b\b\b\b\b\b\b\b\b\b\b\b\b\b\b\b\b\b\b\b\b\b\b\b\b\b\b\b\b\b\b\b\b\b\b\b\b\b\b\b\b\b\b\b\b\b\b\b\b\b\b\b\b\b\b\b\b\b\b\b\b\b\b\b\b\b\b\b\b\b\r154/154 [==============================] - 3s 20ms/step - categorical_accuracy: 0.8829 - auc: 0.9523 - student_loss: 0.2899 - distillation_loss: 0.0090 - val_categorical_accuracy: 0.8858 - val_auc: 0.9439 - val_student_loss: 0.3396\n",
            "Epoch 43/100\n",
            "152/154 [============================>.] - ETA: 0s - categorical_accuracy: 0.8791 - auc: 0.9511 - student_loss: 0.2937 - distillation_loss: 0.0089"
          ]
        },
        {
          "output_type": "stream",
          "name": "stderr",
          "text": [
            "WARNING:tensorflow:Early stopping conditioned on metric `val_loss` which is not available. Available metrics are: categorical_accuracy,auc,student_loss,distillation_loss,val_categorical_accuracy,val_auc,val_student_loss\n"
          ]
        },
        {
          "output_type": "stream",
          "name": "stdout",
          "text": [
            "\b\b\b\b\b\b\b\b\b\b\b\b\b\b\b\b\b\b\b\b\b\b\b\b\b\b\b\b\b\b\b\b\b\b\b\b\b\b\b\b\b\b\b\b\b\b\b\b\b\b\b\b\b\b\b\b\b\b\b\b\b\b\b\b\b\b\b\b\b\b\b\b\b\b\b\b\b\b\b\b\b\b\b\b\b\b\b\b\b\b\b\b\b\b\b\b\b\b\b\b\b\b\b\b\b\b\b\b\b\b\b\b\b\b\b\b\b\b\b\b\b\b\b\b\b\b\b\b\b\b\b\b\b\b\b\b\b\b\b\b\b\b\b\b\b\b\r154/154 [==============================] - 3s 21ms/step - categorical_accuracy: 0.8792 - auc: 0.9509 - student_loss: 0.2968 - distillation_loss: 0.0090 - val_categorical_accuracy: 0.8842 - val_auc: 0.9444 - val_student_loss: 0.3346\n",
            "Epoch 44/100\n",
            "154/154 [==============================] - ETA: 0s - categorical_accuracy: 0.8866 - auc: 0.9520 - student_loss: 0.2919 - distillation_loss: 0.0090"
          ]
        },
        {
          "output_type": "stream",
          "name": "stderr",
          "text": [
            "WARNING:tensorflow:Early stopping conditioned on metric `val_loss` which is not available. Available metrics are: categorical_accuracy,auc,student_loss,distillation_loss,val_categorical_accuracy,val_auc,val_student_loss\n"
          ]
        },
        {
          "output_type": "stream",
          "name": "stdout",
          "text": [
            "\b\b\b\b\b\b\b\b\b\b\b\b\b\b\b\b\b\b\b\b\b\b\b\b\b\b\b\b\b\b\b\b\b\b\b\b\b\b\b\b\b\b\b\b\b\b\b\b\b\b\b\b\b\b\b\b\b\b\b\b\b\b\b\b\b\b\b\b\b\b\b\b\b\b\b\b\b\b\b\b\b\b\b\b\b\b\b\b\b\b\b\b\b\b\b\b\b\b\b\b\b\b\b\b\b\b\b\b\b\b\b\b\b\b\b\b\b\b\b\b\b\b\b\b\b\b\b\b\b\b\b\b\b\b\b\b\b\b\b\b\b\b\b\b\b\b\r154/154 [==============================] - 3s 19ms/step - categorical_accuracy: 0.8866 - auc: 0.9520 - student_loss: 0.2939 - distillation_loss: 0.0090 - val_categorical_accuracy: 0.8842 - val_auc: 0.9453 - val_student_loss: 0.4099\n",
            "Epoch 45/100\n",
            "153/154 [============================>.] - ETA: 0s - categorical_accuracy: 0.8885 - auc: 0.9536 - student_loss: 0.2879 - distillation_loss: 0.0088"
          ]
        },
        {
          "output_type": "stream",
          "name": "stderr",
          "text": [
            "WARNING:tensorflow:Early stopping conditioned on metric `val_loss` which is not available. Available metrics are: categorical_accuracy,auc,student_loss,distillation_loss,val_categorical_accuracy,val_auc,val_student_loss\n"
          ]
        },
        {
          "output_type": "stream",
          "name": "stdout",
          "text": [
            "\b\b\b\b\b\b\b\b\b\b\b\b\b\b\b\b\b\b\b\b\b\b\b\b\b\b\b\b\b\b\b\b\b\b\b\b\b\b\b\b\b\b\b\b\b\b\b\b\b\b\b\b\b\b\b\b\b\b\b\b\b\b\b\b\b\b\b\b\b\b\b\b\b\b\b\b\b\b\b\b\b\b\b\b\b\b\b\b\b\b\b\b\b\b\b\b\b\b\b\b\b\b\b\b\b\b\b\b\b\b\b\b\b\b\b\b\b\b\b\b\b\b\b\b\b\b\b\b\b\b\b\b\b\b\b\b\b\b\b\b\b\b\b\b\b\b\r154/154 [==============================] - 3s 19ms/step - categorical_accuracy: 0.8886 - auc: 0.9536 - student_loss: 0.2876 - distillation_loss: 0.0087 - val_categorical_accuracy: 0.8907 - val_auc: 0.9450 - val_student_loss: 0.3333\n",
            "Epoch 46/100\n",
            "152/154 [============================>.] - ETA: 0s - categorical_accuracy: 0.8882 - auc: 0.9523 - student_loss: 0.2910 - distillation_loss: 0.0087"
          ]
        },
        {
          "output_type": "stream",
          "name": "stderr",
          "text": [
            "WARNING:tensorflow:Early stopping conditioned on metric `val_loss` which is not available. Available metrics are: categorical_accuracy,auc,student_loss,distillation_loss,val_categorical_accuracy,val_auc,val_student_loss\n"
          ]
        },
        {
          "output_type": "stream",
          "name": "stdout",
          "text": [
            "\b\b\b\b\b\b\b\b\b\b\b\b\b\b\b\b\b\b\b\b\b\b\b\b\b\b\b\b\b\b\b\b\b\b\b\b\b\b\b\b\b\b\b\b\b\b\b\b\b\b\b\b\b\b\b\b\b\b\b\b\b\b\b\b\b\b\b\b\b\b\b\b\b\b\b\b\b\b\b\b\b\b\b\b\b\b\b\b\b\b\b\b\b\b\b\b\b\b\b\b\b\b\b\b\b\b\b\b\b\b\b\b\b\b\b\b\b\b\b\b\b\b\b\b\b\b\b\b\b\b\b\b\b\b\b\b\b\b\b\b\b\b\b\b\b\b\r154/154 [==============================] - 3s 19ms/step - categorical_accuracy: 0.8882 - auc: 0.9526 - student_loss: 0.2878 - distillation_loss: 0.0086 - val_categorical_accuracy: 0.8842 - val_auc: 0.9456 - val_student_loss: 0.3373\n",
            "Epoch 47/100\n",
            "154/154 [==============================] - ETA: 0s - categorical_accuracy: 0.8825 - auc: 0.9526 - student_loss: 0.2884 - distillation_loss: 0.0086"
          ]
        },
        {
          "output_type": "stream",
          "name": "stderr",
          "text": [
            "WARNING:tensorflow:Early stopping conditioned on metric `val_loss` which is not available. Available metrics are: categorical_accuracy,auc,student_loss,distillation_loss,val_categorical_accuracy,val_auc,val_student_loss\n"
          ]
        },
        {
          "output_type": "stream",
          "name": "stdout",
          "text": [
            "\b\b\b\b\b\b\b\b\b\b\b\b\b\b\b\b\b\b\b\b\b\b\b\b\b\b\b\b\b\b\b\b\b\b\b\b\b\b\b\b\b\b\b\b\b\b\b\b\b\b\b\b\b\b\b\b\b\b\b\b\b\b\b\b\b\b\b\b\b\b\b\b\b\b\b\b\b\b\b\b\b\b\b\b\b\b\b\b\b\b\b\b\b\b\b\b\b\b\b\b\b\b\b\b\b\b\b\b\b\b\b\b\b\b\b\b\b\b\b\b\b\b\b\b\b\b\b\b\b\b\b\b\b\b\b\b\b\b\b\b\b\b\b\b\b\b\r154/154 [==============================] - 3s 20ms/step - categorical_accuracy: 0.8825 - auc: 0.9526 - student_loss: 0.2874 - distillation_loss: 0.0086 - val_categorical_accuracy: 0.8874 - val_auc: 0.9462 - val_student_loss: 0.3211\n",
            "Epoch 48/100\n",
            "154/154 [==============================] - ETA: 0s - categorical_accuracy: 0.8870 - auc: 0.9550 - student_loss: 0.2832 - distillation_loss: 0.0090"
          ]
        },
        {
          "output_type": "stream",
          "name": "stderr",
          "text": [
            "WARNING:tensorflow:Early stopping conditioned on metric `val_loss` which is not available. Available metrics are: categorical_accuracy,auc,student_loss,distillation_loss,val_categorical_accuracy,val_auc,val_student_loss\n"
          ]
        },
        {
          "output_type": "stream",
          "name": "stdout",
          "text": [
            "\b\b\b\b\b\b\b\b\b\b\b\b\b\b\b\b\b\b\b\b\b\b\b\b\b\b\b\b\b\b\b\b\b\b\b\b\b\b\b\b\b\b\b\b\b\b\b\b\b\b\b\b\b\b\b\b\b\b\b\b\b\b\b\b\b\b\b\b\b\b\b\b\b\b\b\b\b\b\b\b\b\b\b\b\b\b\b\b\b\b\b\b\b\b\b\b\b\b\b\b\b\b\b\b\b\b\b\b\b\b\b\b\b\b\b\b\b\b\b\b\b\b\b\b\b\b\b\b\b\b\b\b\b\b\b\b\b\b\b\b\b\b\b\b\b\b\r154/154 [==============================] - 3s 19ms/step - categorical_accuracy: 0.8870 - auc: 0.9550 - student_loss: 0.2815 - distillation_loss: 0.0091 - val_categorical_accuracy: 0.8874 - val_auc: 0.9448 - val_student_loss: 0.3263\n",
            "Epoch 49/100\n",
            "153/154 [============================>.] - ETA: 0s - categorical_accuracy: 0.8877 - auc: 0.9534 - student_loss: 0.2876 - distillation_loss: 0.0084"
          ]
        },
        {
          "output_type": "stream",
          "name": "stderr",
          "text": [
            "WARNING:tensorflow:Early stopping conditioned on metric `val_loss` which is not available. Available metrics are: categorical_accuracy,auc,student_loss,distillation_loss,val_categorical_accuracy,val_auc,val_student_loss\n"
          ]
        },
        {
          "output_type": "stream",
          "name": "stdout",
          "text": [
            "\b\b\b\b\b\b\b\b\b\b\b\b\b\b\b\b\b\b\b\b\b\b\b\b\b\b\b\b\b\b\b\b\b\b\b\b\b\b\b\b\b\b\b\b\b\b\b\b\b\b\b\b\b\b\b\b\b\b\b\b\b\b\b\b\b\b\b\b\b\b\b\b\b\b\b\b\b\b\b\b\b\b\b\b\b\b\b\b\b\b\b\b\b\b\b\b\b\b\b\b\b\b\b\b\b\b\b\b\b\b\b\b\b\b\b\b\b\b\b\b\b\b\b\b\b\b\b\b\b\b\b\b\b\b\b\b\b\b\b\b\b\b\b\b\b\b\r154/154 [==============================] - 3s 19ms/step - categorical_accuracy: 0.8878 - auc: 0.9534 - student_loss: 0.2883 - distillation_loss: 0.0084 - val_categorical_accuracy: 0.8858 - val_auc: 0.9450 - val_student_loss: 0.3248\n",
            "Epoch 50/100\n",
            "151/154 [============================>.] - ETA: 0s - categorical_accuracy: 0.8903 - auc: 0.9558 - student_loss: 0.2828 - distillation_loss: 0.0087"
          ]
        },
        {
          "output_type": "stream",
          "name": "stderr",
          "text": [
            "WARNING:tensorflow:Early stopping conditioned on metric `val_loss` which is not available. Available metrics are: categorical_accuracy,auc,student_loss,distillation_loss,val_categorical_accuracy,val_auc,val_student_loss\n"
          ]
        },
        {
          "output_type": "stream",
          "name": "stdout",
          "text": [
            "\b\b\b\b\b\b\b\b\b\b\b\b\b\b\b\b\b\b\b\b\b\b\b\b\b\b\b\b\b\b\b\b\b\b\b\b\b\b\b\b\b\b\b\b\b\b\b\b\b\b\b\b\b\b\b\b\b\b\b\b\b\b\b\b\b\b\b\b\b\b\b\b\b\b\b\b\b\b\b\b\b\b\b\b\b\b\b\b\b\b\b\b\b\b\b\b\b\b\b\b\b\b\b\b\b\b\b\b\b\b\b\b\b\b\b\b\b\b\b\b\b\b\b\b\b\b\b\b\b\b\b\b\b\b\b\b\b\b\b\b\b\b\b\b\b\b\r154/154 [==============================] - 3s 20ms/step - categorical_accuracy: 0.8907 - auc: 0.9559 - student_loss: 0.2831 - distillation_loss: 0.0089 - val_categorical_accuracy: 0.8891 - val_auc: 0.9450 - val_student_loss: 0.3150\n",
            "Epoch 51/100\n",
            "154/154 [==============================] - ETA: 0s - categorical_accuracy: 0.8902 - auc: 0.9562 - student_loss: 0.2816 - distillation_loss: 0.0085"
          ]
        },
        {
          "output_type": "stream",
          "name": "stderr",
          "text": [
            "WARNING:tensorflow:Early stopping conditioned on metric `val_loss` which is not available. Available metrics are: categorical_accuracy,auc,student_loss,distillation_loss,val_categorical_accuracy,val_auc,val_student_loss\n"
          ]
        },
        {
          "output_type": "stream",
          "name": "stdout",
          "text": [
            "\b\b\b\b\b\b\b\b\b\b\b\b\b\b\b\b\b\b\b\b\b\b\b\b\b\b\b\b\b\b\b\b\b\b\b\b\b\b\b\b\b\b\b\b\b\b\b\b\b\b\b\b\b\b\b\b\b\b\b\b\b\b\b\b\b\b\b\b\b\b\b\b\b\b\b\b\b\b\b\b\b\b\b\b\b\b\b\b\b\b\b\b\b\b\b\b\b\b\b\b\b\b\b\b\b\b\b\b\b\b\b\b\b\b\b\b\b\b\b\b\b\b\b\b\b\b\b\b\b\b\b\b\b\b\b\b\b\b\b\b\b\b\b\b\b\b\r154/154 [==============================] - 3s 21ms/step - categorical_accuracy: 0.8902 - auc: 0.9562 - student_loss: 0.2815 - distillation_loss: 0.0084 - val_categorical_accuracy: 0.8825 - val_auc: 0.9445 - val_student_loss: 0.3203\n",
            "Epoch 52/100\n",
            "153/154 [============================>.] - ETA: 0s - categorical_accuracy: 0.8844 - auc: 0.9565 - student_loss: 0.2808 - distillation_loss: 0.0086"
          ]
        },
        {
          "output_type": "stream",
          "name": "stderr",
          "text": [
            "WARNING:tensorflow:Early stopping conditioned on metric `val_loss` which is not available. Available metrics are: categorical_accuracy,auc,student_loss,distillation_loss,val_categorical_accuracy,val_auc,val_student_loss\n"
          ]
        },
        {
          "output_type": "stream",
          "name": "stdout",
          "text": [
            "\b\b\b\b\b\b\b\b\b\b\b\b\b\b\b\b\b\b\b\b\b\b\b\b\b\b\b\b\b\b\b\b\b\b\b\b\b\b\b\b\b\b\b\b\b\b\b\b\b\b\b\b\b\b\b\b\b\b\b\b\b\b\b\b\b\b\b\b\b\b\b\b\b\b\b\b\b\b\b\b\b\b\b\b\b\b\b\b\b\b\b\b\b\b\b\b\b\b\b\b\b\b\b\b\b\b\b\b\b\b\b\b\b\b\b\b\b\b\b\b\b\b\b\b\b\b\b\b\b\b\b\b\b\b\b\b\b\b\b\b\b\b\b\b\b\b\r154/154 [==============================] - 3s 20ms/step - categorical_accuracy: 0.8841 - auc: 0.9562 - student_loss: 0.2861 - distillation_loss: 0.0085 - val_categorical_accuracy: 0.8891 - val_auc: 0.9463 - val_student_loss: 0.2878\n",
            "Epoch 53/100\n",
            "153/154 [============================>.] - ETA: 0s - categorical_accuracy: 0.8885 - auc: 0.9575 - student_loss: 0.2778 - distillation_loss: 0.0085"
          ]
        },
        {
          "output_type": "stream",
          "name": "stderr",
          "text": [
            "WARNING:tensorflow:Early stopping conditioned on metric `val_loss` which is not available. Available metrics are: categorical_accuracy,auc,student_loss,distillation_loss,val_categorical_accuracy,val_auc,val_student_loss\n"
          ]
        },
        {
          "output_type": "stream",
          "name": "stdout",
          "text": [
            "\b\b\b\b\b\b\b\b\b\b\b\b\b\b\b\b\b\b\b\b\b\b\b\b\b\b\b\b\b\b\b\b\b\b\b\b\b\b\b\b\b\b\b\b\b\b\b\b\b\b\b\b\b\b\b\b\b\b\b\b\b\b\b\b\b\b\b\b\b\b\b\b\b\b\b\b\b\b\b\b\b\b\b\b\b\b\b\b\b\b\b\b\b\b\b\b\b\b\b\b\b\b\b\b\b\b\b\b\b\b\b\b\b\b\b\b\b\b\b\b\b\b\b\b\b\b\b\b\b\b\b\b\b\b\b\b\b\b\b\b\b\b\b\b\b\b\r154/154 [==============================] - 3s 19ms/step - categorical_accuracy: 0.8882 - auc: 0.9574 - student_loss: 0.2789 - distillation_loss: 0.0084 - val_categorical_accuracy: 0.8825 - val_auc: 0.9454 - val_student_loss: 0.4146\n",
            "Epoch 54/100\n",
            "152/154 [============================>.] - ETA: 0s - categorical_accuracy: 0.8919 - auc: 0.9581 - student_loss: 0.2771 - distillation_loss: 0.0084"
          ]
        },
        {
          "output_type": "stream",
          "name": "stderr",
          "text": [
            "WARNING:tensorflow:Early stopping conditioned on metric `val_loss` which is not available. Available metrics are: categorical_accuracy,auc,student_loss,distillation_loss,val_categorical_accuracy,val_auc,val_student_loss\n"
          ]
        },
        {
          "output_type": "stream",
          "name": "stdout",
          "text": [
            "\b\b\b\b\b\b\b\b\b\b\b\b\b\b\b\b\b\b\b\b\b\b\b\b\b\b\b\b\b\b\b\b\b\b\b\b\b\b\b\b\b\b\b\b\b\b\b\b\b\b\b\b\b\b\b\b\b\b\b\b\b\b\b\b\b\b\b\b\b\b\b\b\b\b\b\b\b\b\b\b\b\b\b\b\b\b\b\b\b\b\b\b\b\b\b\b\b\b\b\b\b\b\b\b\b\b\b\b\b\b\b\b\b\b\b\b\b\b\b\b\b\b\b\b\b\b\b\b\b\b\b\b\b\b\b\b\b\b\b\b\b\b\b\b\b\b\r154/154 [==============================] - 3s 20ms/step - categorical_accuracy: 0.8907 - auc: 0.9575 - student_loss: 0.2836 - distillation_loss: 0.0083 - val_categorical_accuracy: 0.8777 - val_auc: 0.9467 - val_student_loss: 0.3621\n",
            "Epoch 55/100\n",
            "152/154 [============================>.] - ETA: 0s - categorical_accuracy: 0.8910 - auc: 0.9599 - student_loss: 0.2735 - distillation_loss: 0.0086"
          ]
        },
        {
          "output_type": "stream",
          "name": "stderr",
          "text": [
            "WARNING:tensorflow:Early stopping conditioned on metric `val_loss` which is not available. Available metrics are: categorical_accuracy,auc,student_loss,distillation_loss,val_categorical_accuracy,val_auc,val_student_loss\n"
          ]
        },
        {
          "output_type": "stream",
          "name": "stdout",
          "text": [
            "\b\b\b\b\b\b\b\b\b\b\b\b\b\b\b\b\b\b\b\b\b\b\b\b\b\b\b\b\b\b\b\b\b\b\b\b\b\b\b\b\b\b\b\b\b\b\b\b\b\b\b\b\b\b\b\b\b\b\b\b\b\b\b\b\b\b\b\b\b\b\b\b\b\b\b\b\b\b\b\b\b\b\b\b\b\b\b\b\b\b\b\b\b\b\b\b\b\b\b\b\b\b\b\b\b\b\b\b\b\b\b\b\b\b\b\b\b\b\b\b\b\b\b\b\b\b\b\b\b\b\b\b\b\b\b\b\b\b\b\b\b\b\b\b\b\b\r154/154 [==============================] - 3s 20ms/step - categorical_accuracy: 0.8915 - auc: 0.9602 - student_loss: 0.2715 - distillation_loss: 0.0088 - val_categorical_accuracy: 0.8825 - val_auc: 0.9439 - val_student_loss: 0.3496\n",
            "Epoch 56/100\n",
            "151/154 [============================>.] - ETA: 0s - categorical_accuracy: 0.8982 - auc: 0.9592 - student_loss: 0.2736 - distillation_loss: 0.0086"
          ]
        },
        {
          "output_type": "stream",
          "name": "stderr",
          "text": [
            "WARNING:tensorflow:Early stopping conditioned on metric `val_loss` which is not available. Available metrics are: categorical_accuracy,auc,student_loss,distillation_loss,val_categorical_accuracy,val_auc,val_student_loss\n"
          ]
        },
        {
          "output_type": "stream",
          "name": "stdout",
          "text": [
            "\b\b\b\b\b\b\b\b\b\b\b\b\b\b\b\b\b\b\b\b\b\b\b\b\b\b\b\b\b\b\b\b\b\b\b\b\b\b\b\b\b\b\b\b\b\b\b\b\b\b\b\b\b\b\b\b\b\b\b\b\b\b\b\b\b\b\b\b\b\b\b\b\b\b\b\b\b\b\b\b\b\b\b\b\b\b\b\b\b\b\b\b\b\b\b\b\b\b\b\b\b\b\b\b\b\b\b\b\b\b\b\b\b\b\b\b\b\b\b\b\b\b\b\b\b\b\b\b\b\b\b\b\b\b\b\b\b\b\b\b\b\b\b\b\b\b\r154/154 [==============================] - 3s 20ms/step - categorical_accuracy: 0.8988 - auc: 0.9597 - student_loss: 0.2728 - distillation_loss: 0.0085 - val_categorical_accuracy: 0.8842 - val_auc: 0.9444 - val_student_loss: 0.3782\n",
            "Epoch 57/100\n",
            "154/154 [==============================] - ETA: 0s - categorical_accuracy: 0.8939 - auc: 0.9584 - student_loss: 0.2752 - distillation_loss: 0.0082"
          ]
        },
        {
          "output_type": "stream",
          "name": "stderr",
          "text": [
            "WARNING:tensorflow:Early stopping conditioned on metric `val_loss` which is not available. Available metrics are: categorical_accuracy,auc,student_loss,distillation_loss,val_categorical_accuracy,val_auc,val_student_loss\n"
          ]
        },
        {
          "output_type": "stream",
          "name": "stdout",
          "text": [
            "\b\b\b\b\b\b\b\b\b\b\b\b\b\b\b\b\b\b\b\b\b\b\b\b\b\b\b\b\b\b\b\b\b\b\b\b\b\b\b\b\b\b\b\b\b\b\b\b\b\b\b\b\b\b\b\b\b\b\b\b\b\b\b\b\b\b\b\b\b\b\b\b\b\b\b\b\b\b\b\b\b\b\b\b\b\b\b\b\b\b\b\b\b\b\b\b\b\b\b\b\b\b\b\b\b\b\b\b\b\b\b\b\b\b\b\b\b\b\b\b\b\b\b\b\b\b\b\b\b\b\b\b\b\b\b\b\b\b\b\b\b\b\b\b\b\b\r154/154 [==============================] - 3s 20ms/step - categorical_accuracy: 0.8939 - auc: 0.9584 - student_loss: 0.2745 - distillation_loss: 0.0082 - val_categorical_accuracy: 0.8793 - val_auc: 0.9465 - val_student_loss: 0.3202\n",
            "Epoch 58/100\n",
            "153/154 [============================>.] - ETA: 0s - categorical_accuracy: 0.8938 - auc: 0.9605 - student_loss: 0.2711 - distillation_loss: 0.0082"
          ]
        },
        {
          "output_type": "stream",
          "name": "stderr",
          "text": [
            "WARNING:tensorflow:Early stopping conditioned on metric `val_loss` which is not available. Available metrics are: categorical_accuracy,auc,student_loss,distillation_loss,val_categorical_accuracy,val_auc,val_student_loss\n"
          ]
        },
        {
          "output_type": "stream",
          "name": "stdout",
          "text": [
            "\b\b\b\b\b\b\b\b\b\b\b\b\b\b\b\b\b\b\b\b\b\b\b\b\b\b\b\b\b\b\b\b\b\b\b\b\b\b\b\b\b\b\b\b\b\b\b\b\b\b\b\b\b\b\b\b\b\b\b\b\b\b\b\b\b\b\b\b\b\b\b\b\b\b\b\b\b\b\b\b\b\b\b\b\b\b\b\b\b\b\b\b\b\b\b\b\b\b\b\b\b\b\b\b\b\b\b\b\b\b\b\b\b\b\b\b\b\b\b\b\b\b\b\b\b\b\b\b\b\b\b\b\b\b\b\b\b\b\b\b\b\b\b\b\b\b\r154/154 [==============================] - 3s 19ms/step - categorical_accuracy: 0.8939 - auc: 0.9606 - student_loss: 0.2688 - distillation_loss: 0.0081 - val_categorical_accuracy: 0.8825 - val_auc: 0.9461 - val_student_loss: 0.2972\n",
            "Epoch 59/100\n",
            "152/154 [============================>.] - ETA: 0s - categorical_accuracy: 0.8894 - auc: 0.9608 - student_loss: 0.2700 - distillation_loss: 0.0082"
          ]
        },
        {
          "output_type": "stream",
          "name": "stderr",
          "text": [
            "WARNING:tensorflow:Early stopping conditioned on metric `val_loss` which is not available. Available metrics are: categorical_accuracy,auc,student_loss,distillation_loss,val_categorical_accuracy,val_auc,val_student_loss\n"
          ]
        },
        {
          "output_type": "stream",
          "name": "stdout",
          "text": [
            "\b\b\b\b\b\b\b\b\b\b\b\b\b\b\b\b\b\b\b\b\b\b\b\b\b\b\b\b\b\b\b\b\b\b\b\b\b\b\b\b\b\b\b\b\b\b\b\b\b\b\b\b\b\b\b\b\b\b\b\b\b\b\b\b\b\b\b\b\b\b\b\b\b\b\b\b\b\b\b\b\b\b\b\b\b\b\b\b\b\b\b\b\b\b\b\b\b\b\b\b\b\b\b\b\b\b\b\b\b\b\b\b\b\b\b\b\b\b\b\b\b\b\b\b\b\b\b\b\b\b\b\b\b\b\b\b\b\b\b\b\b\b\b\b\b\b\r154/154 [==============================] - 3s 20ms/step - categorical_accuracy: 0.8886 - auc: 0.9605 - student_loss: 0.2698 - distillation_loss: 0.0084 - val_categorical_accuracy: 0.8842 - val_auc: 0.9450 - val_student_loss: 0.3244\n",
            "Epoch 60/100\n",
            "154/154 [==============================] - ETA: 0s - categorical_accuracy: 0.8943 - auc: 0.9594 - student_loss: 0.2720 - distillation_loss: 0.0084"
          ]
        },
        {
          "output_type": "stream",
          "name": "stderr",
          "text": [
            "WARNING:tensorflow:Early stopping conditioned on metric `val_loss` which is not available. Available metrics are: categorical_accuracy,auc,student_loss,distillation_loss,val_categorical_accuracy,val_auc,val_student_loss\n"
          ]
        },
        {
          "output_type": "stream",
          "name": "stdout",
          "text": [
            "\b\b\b\b\b\b\b\b\b\b\b\b\b\b\b\b\b\b\b\b\b\b\b\b\b\b\b\b\b\b\b\b\b\b\b\b\b\b\b\b\b\b\b\b\b\b\b\b\b\b\b\b\b\b\b\b\b\b\b\b\b\b\b\b\b\b\b\b\b\b\b\b\b\b\b\b\b\b\b\b\b\b\b\b\b\b\b\b\b\b\b\b\b\b\b\b\b\b\b\b\b\b\b\b\b\b\b\b\b\b\b\b\b\b\b\b\b\b\b\b\b\b\b\b\b\b\b\b\b\b\b\b\b\b\b\b\b\b\b\b\b\b\b\b\b\b\r154/154 [==============================] - 3s 21ms/step - categorical_accuracy: 0.8943 - auc: 0.9594 - student_loss: 0.2714 - distillation_loss: 0.0084 - val_categorical_accuracy: 0.8842 - val_auc: 0.9445 - val_student_loss: 0.3120\n",
            "Epoch 61/100\n",
            "151/154 [============================>.] - ETA: 0s - categorical_accuracy: 0.8949 - auc: 0.9615 - student_loss: 0.2681 - distillation_loss: 0.0078"
          ]
        },
        {
          "output_type": "stream",
          "name": "stderr",
          "text": [
            "WARNING:tensorflow:Early stopping conditioned on metric `val_loss` which is not available. Available metrics are: categorical_accuracy,auc,student_loss,distillation_loss,val_categorical_accuracy,val_auc,val_student_loss\n"
          ]
        },
        {
          "output_type": "stream",
          "name": "stdout",
          "text": [
            "\b\b\b\b\b\b\b\b\b\b\b\b\b\b\b\b\b\b\b\b\b\b\b\b\b\b\b\b\b\b\b\b\b\b\b\b\b\b\b\b\b\b\b\b\b\b\b\b\b\b\b\b\b\b\b\b\b\b\b\b\b\b\b\b\b\b\b\b\b\b\b\b\b\b\b\b\b\b\b\b\b\b\b\b\b\b\b\b\b\b\b\b\b\b\b\b\b\b\b\b\b\b\b\b\b\b\b\b\b\b\b\b\b\b\b\b\b\b\b\b\b\b\b\b\b\b\b\b\b\b\b\b\b\b\b\b\b\b\b\b\b\b\b\b\b\b\r154/154 [==============================] - 3s 20ms/step - categorical_accuracy: 0.8951 - auc: 0.9617 - student_loss: 0.2685 - distillation_loss: 0.0080 - val_categorical_accuracy: 0.8874 - val_auc: 0.9466 - val_student_loss: 0.2599\n",
            "Epoch 62/100\n",
            "152/154 [============================>.] - ETA: 0s - categorical_accuracy: 0.8923 - auc: 0.9624 - student_loss: 0.2660 - distillation_loss: 0.0081"
          ]
        },
        {
          "output_type": "stream",
          "name": "stderr",
          "text": [
            "WARNING:tensorflow:Early stopping conditioned on metric `val_loss` which is not available. Available metrics are: categorical_accuracy,auc,student_loss,distillation_loss,val_categorical_accuracy,val_auc,val_student_loss\n"
          ]
        },
        {
          "output_type": "stream",
          "name": "stdout",
          "text": [
            "\b\b\b\b\b\b\b\b\b\b\b\b\b\b\b\b\b\b\b\b\b\b\b\b\b\b\b\b\b\b\b\b\b\b\b\b\b\b\b\b\b\b\b\b\b\b\b\b\b\b\b\b\b\b\b\b\b\b\b\b\b\b\b\b\b\b\b\b\b\b\b\b\b\b\b\b\b\b\b\b\b\b\b\b\b\b\b\b\b\b\b\b\b\b\b\b\b\b\b\b\b\b\b\b\b\b\b\b\b\b\b\b\b\b\b\b\b\b\b\b\b\b\b\b\b\b\b\b\b\b\b\b\b\b\b\b\b\b\b\b\b\b\b\b\b\b\r154/154 [==============================] - 3s 19ms/step - categorical_accuracy: 0.8927 - auc: 0.9624 - student_loss: 0.2644 - distillation_loss: 0.0081 - val_categorical_accuracy: 0.8858 - val_auc: 0.9450 - val_student_loss: 0.2916\n",
            "Epoch 63/100\n",
            "152/154 [============================>.] - ETA: 0s - categorical_accuracy: 0.8968 - auc: 0.9627 - student_loss: 0.2653 - distillation_loss: 0.0079"
          ]
        },
        {
          "output_type": "stream",
          "name": "stderr",
          "text": [
            "WARNING:tensorflow:Early stopping conditioned on metric `val_loss` which is not available. Available metrics are: categorical_accuracy,auc,student_loss,distillation_loss,val_categorical_accuracy,val_auc,val_student_loss\n"
          ]
        },
        {
          "output_type": "stream",
          "name": "stdout",
          "text": [
            "\b\b\b\b\b\b\b\b\b\b\b\b\b\b\b\b\b\b\b\b\b\b\b\b\b\b\b\b\b\b\b\b\b\b\b\b\b\b\b\b\b\b\b\b\b\b\b\b\b\b\b\b\b\b\b\b\b\b\b\b\b\b\b\b\b\b\b\b\b\b\b\b\b\b\b\b\b\b\b\b\b\b\b\b\b\b\b\b\b\b\b\b\b\b\b\b\b\b\b\b\b\b\b\b\b\b\b\b\b\b\b\b\b\b\b\b\b\b\b\b\b\b\b\b\b\b\b\b\b\b\b\b\b\b\b\b\b\b\b\b\b\b\b\b\b\b\r154/154 [==============================] - 3s 20ms/step - categorical_accuracy: 0.8964 - auc: 0.9624 - student_loss: 0.2732 - distillation_loss: 0.0078 - val_categorical_accuracy: 0.8809 - val_auc: 0.9456 - val_student_loss: 0.3468\n",
            "Epoch 64/100\n",
            "151/154 [============================>.] - ETA: 0s - categorical_accuracy: 0.8957 - auc: 0.9615 - student_loss: 0.2672 - distillation_loss: 0.0080"
          ]
        },
        {
          "output_type": "stream",
          "name": "stderr",
          "text": [
            "WARNING:tensorflow:Early stopping conditioned on metric `val_loss` which is not available. Available metrics are: categorical_accuracy,auc,student_loss,distillation_loss,val_categorical_accuracy,val_auc,val_student_loss\n"
          ]
        },
        {
          "output_type": "stream",
          "name": "stdout",
          "text": [
            "\b\b\b\b\b\b\b\b\b\b\b\b\b\b\b\b\b\b\b\b\b\b\b\b\b\b\b\b\b\b\b\b\b\b\b\b\b\b\b\b\b\b\b\b\b\b\b\b\b\b\b\b\b\b\b\b\b\b\b\b\b\b\b\b\b\b\b\b\b\b\b\b\b\b\b\b\b\b\b\b\b\b\b\b\b\b\b\b\b\b\b\b\b\b\b\b\b\b\b\b\b\b\b\b\b\b\b\b\b\b\b\b\b\b\b\b\b\b\b\b\b\b\b\b\b\b\b\b\b\b\b\b\b\b\b\b\b\b\b\b\b\b\b\b\b\b\r154/154 [==============================] - 3s 21ms/step - categorical_accuracy: 0.8964 - auc: 0.9621 - student_loss: 0.2647 - distillation_loss: 0.0079 - val_categorical_accuracy: 0.8809 - val_auc: 0.9436 - val_student_loss: 0.3245\n",
            "Epoch 65/100\n",
            "153/154 [============================>.] - ETA: 0s - categorical_accuracy: 0.8979 - auc: 0.9651 - student_loss: 0.2584 - distillation_loss: 0.0081"
          ]
        },
        {
          "output_type": "stream",
          "name": "stderr",
          "text": [
            "WARNING:tensorflow:Early stopping conditioned on metric `val_loss` which is not available. Available metrics are: categorical_accuracy,auc,student_loss,distillation_loss,val_categorical_accuracy,val_auc,val_student_loss\n"
          ]
        },
        {
          "output_type": "stream",
          "name": "stdout",
          "text": [
            "\b\b\b\b\b\b\b\b\b\b\b\b\b\b\b\b\b\b\b\b\b\b\b\b\b\b\b\b\b\b\b\b\b\b\b\b\b\b\b\b\b\b\b\b\b\b\b\b\b\b\b\b\b\b\b\b\b\b\b\b\b\b\b\b\b\b\b\b\b\b\b\b\b\b\b\b\b\b\b\b\b\b\b\b\b\b\b\b\b\b\b\b\b\b\b\b\b\b\b\b\b\b\b\b\b\b\b\b\b\b\b\b\b\b\b\b\b\b\b\b\b\b\b\b\b\b\b\b\b\b\b\b\b\b\b\b\b\b\b\b\b\b\b\b\b\b\r154/154 [==============================] - 3s 20ms/step - categorical_accuracy: 0.8980 - auc: 0.9651 - student_loss: 0.2578 - distillation_loss: 0.0082 - val_categorical_accuracy: 0.8793 - val_auc: 0.9445 - val_student_loss: 0.3420\n",
            "Epoch 66/100\n",
            "154/154 [==============================] - ETA: 0s - categorical_accuracy: 0.8980 - auc: 0.9642 - student_loss: 0.2599 - distillation_loss: 0.0082"
          ]
        },
        {
          "output_type": "stream",
          "name": "stderr",
          "text": [
            "WARNING:tensorflow:Early stopping conditioned on metric `val_loss` which is not available. Available metrics are: categorical_accuracy,auc,student_loss,distillation_loss,val_categorical_accuracy,val_auc,val_student_loss\n"
          ]
        },
        {
          "output_type": "stream",
          "name": "stdout",
          "text": [
            "\b\b\b\b\b\b\b\b\b\b\b\b\b\b\b\b\b\b\b\b\b\b\b\b\b\b\b\b\b\b\b\b\b\b\b\b\b\b\b\b\b\b\b\b\b\b\b\b\b\b\b\b\b\b\b\b\b\b\b\b\b\b\b\b\b\b\b\b\b\b\b\b\b\b\b\b\b\b\b\b\b\b\b\b\b\b\b\b\b\b\b\b\b\b\b\b\b\b\b\b\b\b\b\b\b\b\b\b\b\b\b\b\b\b\b\b\b\b\b\b\b\b\b\b\b\b\b\b\b\b\b\b\b\b\b\b\b\b\b\b\b\b\b\b\b\b\r154/154 [==============================] - 3s 20ms/step - categorical_accuracy: 0.8980 - auc: 0.9642 - student_loss: 0.2584 - distillation_loss: 0.0082 - val_categorical_accuracy: 0.8825 - val_auc: 0.9448 - val_student_loss: 0.3400\n",
            "Epoch 67/100\n",
            "154/154 [==============================] - ETA: 0s - categorical_accuracy: 0.8943 - auc: 0.9637 - student_loss: 0.2612 - distillation_loss: 0.0080"
          ]
        },
        {
          "output_type": "stream",
          "name": "stderr",
          "text": [
            "WARNING:tensorflow:Early stopping conditioned on metric `val_loss` which is not available. Available metrics are: categorical_accuracy,auc,student_loss,distillation_loss,val_categorical_accuracy,val_auc,val_student_loss\n"
          ]
        },
        {
          "output_type": "stream",
          "name": "stdout",
          "text": [
            "\b\b\b\b\b\b\b\b\b\b\b\b\b\b\b\b\b\b\b\b\b\b\b\b\b\b\b\b\b\b\b\b\b\b\b\b\b\b\b\b\b\b\b\b\b\b\b\b\b\b\b\b\b\b\b\b\b\b\b\b\b\b\b\b\b\b\b\b\b\b\b\b\b\b\b\b\b\b\b\b\b\b\b\b\b\b\b\b\b\b\b\b\b\b\b\b\b\b\b\b\b\b\b\b\b\b\b\b\b\b\b\b\b\b\b\b\b\b\b\b\b\b\b\b\b\b\b\b\b\b\b\b\b\b\b\b\b\b\b\b\b\b\b\b\b\b\r154/154 [==============================] - 3s 20ms/step - categorical_accuracy: 0.8943 - auc: 0.9637 - student_loss: 0.2606 - distillation_loss: 0.0080 - val_categorical_accuracy: 0.8842 - val_auc: 0.9441 - val_student_loss: 0.2974\n",
            "Epoch 68/100\n",
            "154/154 [==============================] - ETA: 0s - categorical_accuracy: 0.8939 - auc: 0.9640 - student_loss: 0.2623 - distillation_loss: 0.0083"
          ]
        },
        {
          "output_type": "stream",
          "name": "stderr",
          "text": [
            "WARNING:tensorflow:Early stopping conditioned on metric `val_loss` which is not available. Available metrics are: categorical_accuracy,auc,student_loss,distillation_loss,val_categorical_accuracy,val_auc,val_student_loss\n"
          ]
        },
        {
          "output_type": "stream",
          "name": "stdout",
          "text": [
            "\b\b\b\b\b\b\b\b\b\b\b\b\b\b\b\b\b\b\b\b\b\b\b\b\b\b\b\b\b\b\b\b\b\b\b\b\b\b\b\b\b\b\b\b\b\b\b\b\b\b\b\b\b\b\b\b\b\b\b\b\b\b\b\b\b\b\b\b\b\b\b\b\b\b\b\b\b\b\b\b\b\b\b\b\b\b\b\b\b\b\b\b\b\b\b\b\b\b\b\b\b\b\b\b\b\b\b\b\b\b\b\b\b\b\b\b\b\b\b\b\b\b\b\b\b\b\b\b\b\b\b\b\b\b\b\b\b\b\b\b\b\b\b\b\b\b\r154/154 [==============================] - 3s 21ms/step - categorical_accuracy: 0.8939 - auc: 0.9640 - student_loss: 0.2634 - distillation_loss: 0.0082 - val_categorical_accuracy: 0.8809 - val_auc: 0.9442 - val_student_loss: 0.3317\n",
            "Epoch 69/100\n",
            "154/154 [==============================] - ETA: 0s - categorical_accuracy: 0.9037 - auc: 0.9666 - student_loss: 0.2540 - distillation_loss: 0.0086"
          ]
        },
        {
          "output_type": "stream",
          "name": "stderr",
          "text": [
            "WARNING:tensorflow:Early stopping conditioned on metric `val_loss` which is not available. Available metrics are: categorical_accuracy,auc,student_loss,distillation_loss,val_categorical_accuracy,val_auc,val_student_loss\n"
          ]
        },
        {
          "output_type": "stream",
          "name": "stdout",
          "text": [
            "\b\b\b\b\b\b\b\b\b\b\b\b\b\b\b\b\b\b\b\b\b\b\b\b\b\b\b\b\b\b\b\b\b\b\b\b\b\b\b\b\b\b\b\b\b\b\b\b\b\b\b\b\b\b\b\b\b\b\b\b\b\b\b\b\b\b\b\b\b\b\b\b\b\b\b\b\b\b\b\b\b\b\b\b\b\b\b\b\b\b\b\b\b\b\b\b\b\b\b\b\b\b\b\b\b\b\b\b\b\b\b\b\b\b\b\b\b\b\b\b\b\b\b\b\b\b\b\b\b\b\b\b\b\b\b\b\b\b\b\b\b\b\b\b\b\b\r154/154 [==============================] - 3s 19ms/step - categorical_accuracy: 0.9037 - auc: 0.9666 - student_loss: 0.2542 - distillation_loss: 0.0086 - val_categorical_accuracy: 0.8858 - val_auc: 0.9453 - val_student_loss: 0.2656\n",
            "Epoch 70/100\n",
            "153/154 [============================>.] - ETA: 0s - categorical_accuracy: 0.9024 - auc: 0.9657 - student_loss: 0.2557 - distillation_loss: 0.0081"
          ]
        },
        {
          "output_type": "stream",
          "name": "stderr",
          "text": [
            "WARNING:tensorflow:Early stopping conditioned on metric `val_loss` which is not available. Available metrics are: categorical_accuracy,auc,student_loss,distillation_loss,val_categorical_accuracy,val_auc,val_student_loss\n"
          ]
        },
        {
          "output_type": "stream",
          "name": "stdout",
          "text": [
            "\b\b\b\b\b\b\b\b\b\b\b\b\b\b\b\b\b\b\b\b\b\b\b\b\b\b\b\b\b\b\b\b\b\b\b\b\b\b\b\b\b\b\b\b\b\b\b\b\b\b\b\b\b\b\b\b\b\b\b\b\b\b\b\b\b\b\b\b\b\b\b\b\b\b\b\b\b\b\b\b\b\b\b\b\b\b\b\b\b\b\b\b\b\b\b\b\b\b\b\b\b\b\b\b\b\b\b\b\b\b\b\b\b\b\b\b\b\b\b\b\b\b\b\b\b\b\b\b\b\b\b\b\b\b\b\b\b\b\b\b\b\b\b\b\b\b\r154/154 [==============================] - 3s 19ms/step - categorical_accuracy: 0.9025 - auc: 0.9658 - student_loss: 0.2548 - distillation_loss: 0.0080 - val_categorical_accuracy: 0.8874 - val_auc: 0.9431 - val_student_loss: 0.3486\n",
            "Epoch 71/100\n",
            "152/154 [============================>.] - ETA: 0s - categorical_accuracy: 0.9087 - auc: 0.9675 - student_loss: 0.2523 - distillation_loss: 0.0082"
          ]
        },
        {
          "output_type": "stream",
          "name": "stderr",
          "text": [
            "WARNING:tensorflow:Early stopping conditioned on metric `val_loss` which is not available. Available metrics are: categorical_accuracy,auc,student_loss,distillation_loss,val_categorical_accuracy,val_auc,val_student_loss\n"
          ]
        },
        {
          "output_type": "stream",
          "name": "stdout",
          "text": [
            "\b\b\b\b\b\b\b\b\b\b\b\b\b\b\b\b\b\b\b\b\b\b\b\b\b\b\b\b\b\b\b\b\b\b\b\b\b\b\b\b\b\b\b\b\b\b\b\b\b\b\b\b\b\b\b\b\b\b\b\b\b\b\b\b\b\b\b\b\b\b\b\b\b\b\b\b\b\b\b\b\b\b\b\b\b\b\b\b\b\b\b\b\b\b\b\b\b\b\b\b\b\b\b\b\b\b\b\b\b\b\b\b\b\b\b\b\b\b\b\b\b\b\b\b\b\b\b\b\b\b\b\b\b\b\b\b\b\b\b\b\b\b\b\b\b\b\r154/154 [==============================] - 3s 20ms/step - categorical_accuracy: 0.9086 - auc: 0.9676 - student_loss: 0.2524 - distillation_loss: 0.0081 - val_categorical_accuracy: 0.8793 - val_auc: 0.9459 - val_student_loss: 0.2602\n",
            "Epoch 72/100\n",
            "154/154 [==============================] - ETA: 0s - categorical_accuracy: 0.9053 - auc: 0.9674 - student_loss: 0.2505 - distillation_loss: 0.0082"
          ]
        },
        {
          "output_type": "stream",
          "name": "stderr",
          "text": [
            "WARNING:tensorflow:Early stopping conditioned on metric `val_loss` which is not available. Available metrics are: categorical_accuracy,auc,student_loss,distillation_loss,val_categorical_accuracy,val_auc,val_student_loss\n"
          ]
        },
        {
          "output_type": "stream",
          "name": "stdout",
          "text": [
            "\b\b\b\b\b\b\b\b\b\b\b\b\b\b\b\b\b\b\b\b\b\b\b\b\b\b\b\b\b\b\b\b\b\b\b\b\b\b\b\b\b\b\b\b\b\b\b\b\b\b\b\b\b\b\b\b\b\b\b\b\b\b\b\b\b\b\b\b\b\b\b\b\b\b\b\b\b\b\b\b\b\b\b\b\b\b\b\b\b\b\b\b\b\b\b\b\b\b\b\b\b\b\b\b\b\b\b\b\b\b\b\b\b\b\b\b\b\b\b\b\b\b\b\b\b\b\b\b\b\b\b\b\b\b\b\b\b\b\b\b\b\b\b\b\b\b\r154/154 [==============================] - 3s 21ms/step - categorical_accuracy: 0.9053 - auc: 0.9674 - student_loss: 0.2489 - distillation_loss: 0.0082 - val_categorical_accuracy: 0.8874 - val_auc: 0.9442 - val_student_loss: 0.3485\n",
            "Epoch 73/100\n",
            "154/154 [==============================] - ETA: 0s - categorical_accuracy: 0.9000 - auc: 0.9668 - student_loss: 0.2541 - distillation_loss: 0.0082"
          ]
        },
        {
          "output_type": "stream",
          "name": "stderr",
          "text": [
            "WARNING:tensorflow:Early stopping conditioned on metric `val_loss` which is not available. Available metrics are: categorical_accuracy,auc,student_loss,distillation_loss,val_categorical_accuracy,val_auc,val_student_loss\n"
          ]
        },
        {
          "output_type": "stream",
          "name": "stdout",
          "text": [
            "\b\b\b\b\b\b\b\b\b\b\b\b\b\b\b\b\b\b\b\b\b\b\b\b\b\b\b\b\b\b\b\b\b\b\b\b\b\b\b\b\b\b\b\b\b\b\b\b\b\b\b\b\b\b\b\b\b\b\b\b\b\b\b\b\b\b\b\b\b\b\b\b\b\b\b\b\b\b\b\b\b\b\b\b\b\b\b\b\b\b\b\b\b\b\b\b\b\b\b\b\b\b\b\b\b\b\b\b\b\b\b\b\b\b\b\b\b\b\b\b\b\b\b\b\b\b\b\b\b\b\b\b\b\b\b\b\b\b\b\b\b\b\b\b\b\b\r154/154 [==============================] - 3s 19ms/step - categorical_accuracy: 0.9000 - auc: 0.9668 - student_loss: 0.2539 - distillation_loss: 0.0081 - val_categorical_accuracy: 0.8858 - val_auc: 0.9444 - val_student_loss: 0.3137\n",
            "Epoch 74/100\n",
            "152/154 [============================>.] - ETA: 0s - categorical_accuracy: 0.9025 - auc: 0.9671 - student_loss: 0.2522 - distillation_loss: 0.0080"
          ]
        },
        {
          "output_type": "stream",
          "name": "stderr",
          "text": [
            "WARNING:tensorflow:Early stopping conditioned on metric `val_loss` which is not available. Available metrics are: categorical_accuracy,auc,student_loss,distillation_loss,val_categorical_accuracy,val_auc,val_student_loss\n"
          ]
        },
        {
          "output_type": "stream",
          "name": "stdout",
          "text": [
            "\b\b\b\b\b\b\b\b\b\b\b\b\b\b\b\b\b\b\b\b\b\b\b\b\b\b\b\b\b\b\b\b\b\b\b\b\b\b\b\b\b\b\b\b\b\b\b\b\b\b\b\b\b\b\b\b\b\b\b\b\b\b\b\b\b\b\b\b\b\b\b\b\b\b\b\b\b\b\b\b\b\b\b\b\b\b\b\b\b\b\b\b\b\b\b\b\b\b\b\b\b\b\b\b\b\b\b\b\b\b\b\b\b\b\b\b\b\b\b\b\b\b\b\b\b\b\b\b\b\b\b\b\b\b\b\b\b\b\b\b\b\b\b\b\b\b\r154/154 [==============================] - 3s 20ms/step - categorical_accuracy: 0.9029 - auc: 0.9671 - student_loss: 0.2515 - distillation_loss: 0.0082 - val_categorical_accuracy: 0.8793 - val_auc: 0.9445 - val_student_loss: 0.3372\n",
            "Epoch 75/100\n",
            "152/154 [============================>.] - ETA: 0s - categorical_accuracy: 0.9025 - auc: 0.9687 - student_loss: 0.2495 - distillation_loss: 0.0082"
          ]
        },
        {
          "output_type": "stream",
          "name": "stderr",
          "text": [
            "WARNING:tensorflow:Early stopping conditioned on metric `val_loss` which is not available. Available metrics are: categorical_accuracy,auc,student_loss,distillation_loss,val_categorical_accuracy,val_auc,val_student_loss\n"
          ]
        },
        {
          "output_type": "stream",
          "name": "stdout",
          "text": [
            "\b\b\b\b\b\b\b\b\b\b\b\b\b\b\b\b\b\b\b\b\b\b\b\b\b\b\b\b\b\b\b\b\b\b\b\b\b\b\b\b\b\b\b\b\b\b\b\b\b\b\b\b\b\b\b\b\b\b\b\b\b\b\b\b\b\b\b\b\b\b\b\b\b\b\b\b\b\b\b\b\b\b\b\b\b\b\b\b\b\b\b\b\b\b\b\b\b\b\b\b\b\b\b\b\b\b\b\b\b\b\b\b\b\b\b\b\b\b\b\b\b\b\b\b\b\b\b\b\b\b\b\b\b\b\b\b\b\b\b\b\b\b\b\b\b\b\r154/154 [==============================] - 3s 20ms/step - categorical_accuracy: 0.9025 - auc: 0.9688 - student_loss: 0.2523 - distillation_loss: 0.0081 - val_categorical_accuracy: 0.8842 - val_auc: 0.9439 - val_student_loss: 0.3414\n",
            "Epoch 76/100\n",
            "154/154 [==============================] - ETA: 0s - categorical_accuracy: 0.9037 - auc: 0.9675 - student_loss: 0.2528 - distillation_loss: 0.0084"
          ]
        },
        {
          "output_type": "stream",
          "name": "stderr",
          "text": [
            "WARNING:tensorflow:Early stopping conditioned on metric `val_loss` which is not available. Available metrics are: categorical_accuracy,auc,student_loss,distillation_loss,val_categorical_accuracy,val_auc,val_student_loss\n"
          ]
        },
        {
          "output_type": "stream",
          "name": "stdout",
          "text": [
            "\b\b\b\b\b\b\b\b\b\b\b\b\b\b\b\b\b\b\b\b\b\b\b\b\b\b\b\b\b\b\b\b\b\b\b\b\b\b\b\b\b\b\b\b\b\b\b\b\b\b\b\b\b\b\b\b\b\b\b\b\b\b\b\b\b\b\b\b\b\b\b\b\b\b\b\b\b\b\b\b\b\b\b\b\b\b\b\b\b\b\b\b\b\b\b\b\b\b\b\b\b\b\b\b\b\b\b\b\b\b\b\b\b\b\b\b\b\b\b\b\b\b\b\b\b\b\b\b\b\b\b\b\b\b\b\b\b\b\b\b\b\b\b\b\b\b\r154/154 [==============================] - 3s 21ms/step - categorical_accuracy: 0.9037 - auc: 0.9675 - student_loss: 0.2557 - distillation_loss: 0.0084 - val_categorical_accuracy: 0.8825 - val_auc: 0.9434 - val_student_loss: 0.3177\n",
            "Epoch 77/100\n",
            "154/154 [==============================] - ETA: 0s - categorical_accuracy: 0.9049 - auc: 0.9701 - student_loss: 0.2470 - distillation_loss: 0.0083"
          ]
        },
        {
          "output_type": "stream",
          "name": "stderr",
          "text": [
            "WARNING:tensorflow:Early stopping conditioned on metric `val_loss` which is not available. Available metrics are: categorical_accuracy,auc,student_loss,distillation_loss,val_categorical_accuracy,val_auc,val_student_loss\n"
          ]
        },
        {
          "output_type": "stream",
          "name": "stdout",
          "text": [
            "\b\b\b\b\b\b\b\b\b\b\b\b\b\b\b\b\b\b\b\b\b\b\b\b\b\b\b\b\b\b\b\b\b\b\b\b\b\b\b\b\b\b\b\b\b\b\b\b\b\b\b\b\b\b\b\b\b\b\b\b\b\b\b\b\b\b\b\b\b\b\b\b\b\b\b\b\b\b\b\b\b\b\b\b\b\b\b\b\b\b\b\b\b\b\b\b\b\b\b\b\b\b\b\b\b\b\b\b\b\b\b\b\b\b\b\b\b\b\b\b\b\b\b\b\b\b\b\b\b\b\b\b\b\b\b\b\b\b\b\b\b\b\b\b\b\b\r154/154 [==============================] - 3s 22ms/step - categorical_accuracy: 0.9049 - auc: 0.9701 - student_loss: 0.2486 - distillation_loss: 0.0084 - val_categorical_accuracy: 0.8874 - val_auc: 0.9445 - val_student_loss: 0.2891\n",
            "Epoch 78/100\n",
            "152/154 [============================>.] - ETA: 0s - categorical_accuracy: 0.9104 - auc: 0.9702 - student_loss: 0.2437 - distillation_loss: 0.0084"
          ]
        },
        {
          "output_type": "stream",
          "name": "stderr",
          "text": [
            "WARNING:tensorflow:Early stopping conditioned on metric `val_loss` which is not available. Available metrics are: categorical_accuracy,auc,student_loss,distillation_loss,val_categorical_accuracy,val_auc,val_student_loss\n"
          ]
        },
        {
          "output_type": "stream",
          "name": "stdout",
          "text": [
            "\b\b\b\b\b\b\b\b\b\b\b\b\b\b\b\b\b\b\b\b\b\b\b\b\b\b\b\b\b\b\b\b\b\b\b\b\b\b\b\b\b\b\b\b\b\b\b\b\b\b\b\b\b\b\b\b\b\b\b\b\b\b\b\b\b\b\b\b\b\b\b\b\b\b\b\b\b\b\b\b\b\b\b\b\b\b\b\b\b\b\b\b\b\b\b\b\b\b\b\b\b\b\b\b\b\b\b\b\b\b\b\b\b\b\b\b\b\b\b\b\b\b\b\b\b\b\b\b\b\b\b\b\b\b\b\b\b\b\b\b\b\b\b\b\b\b\r154/154 [==============================] - 3s 20ms/step - categorical_accuracy: 0.9098 - auc: 0.9703 - student_loss: 0.2413 - distillation_loss: 0.0086 - val_categorical_accuracy: 0.8825 - val_auc: 0.9450 - val_student_loss: 0.2643\n",
            "Epoch 79/100\n",
            "154/154 [==============================] - ETA: 0s - categorical_accuracy: 0.9086 - auc: 0.9703 - student_loss: 0.2421 - distillation_loss: 0.0085"
          ]
        },
        {
          "output_type": "stream",
          "name": "stderr",
          "text": [
            "WARNING:tensorflow:Early stopping conditioned on metric `val_loss` which is not available. Available metrics are: categorical_accuracy,auc,student_loss,distillation_loss,val_categorical_accuracy,val_auc,val_student_loss\n"
          ]
        },
        {
          "output_type": "stream",
          "name": "stdout",
          "text": [
            "\b\b\b\b\b\b\b\b\b\b\b\b\b\b\b\b\b\b\b\b\b\b\b\b\b\b\b\b\b\b\b\b\b\b\b\b\b\b\b\b\b\b\b\b\b\b\b\b\b\b\b\b\b\b\b\b\b\b\b\b\b\b\b\b\b\b\b\b\b\b\b\b\b\b\b\b\b\b\b\b\b\b\b\b\b\b\b\b\b\b\b\b\b\b\b\b\b\b\b\b\b\b\b\b\b\b\b\b\b\b\b\b\b\b\b\b\b\b\b\b\b\b\b\b\b\b\b\b\b\b\b\b\b\b\b\b\b\b\b\b\b\b\b\b\b\b\r154/154 [==============================] - 3s 21ms/step - categorical_accuracy: 0.9086 - auc: 0.9703 - student_loss: 0.2410 - distillation_loss: 0.0084 - val_categorical_accuracy: 0.8907 - val_auc: 0.9446 - val_student_loss: 0.3145\n",
            "Epoch 80/100\n",
            "154/154 [==============================] - ETA: 0s - categorical_accuracy: 0.9131 - auc: 0.9712 - student_loss: 0.2414 - distillation_loss: 0.0085"
          ]
        },
        {
          "output_type": "stream",
          "name": "stderr",
          "text": [
            "WARNING:tensorflow:Early stopping conditioned on metric `val_loss` which is not available. Available metrics are: categorical_accuracy,auc,student_loss,distillation_loss,val_categorical_accuracy,val_auc,val_student_loss\n"
          ]
        },
        {
          "output_type": "stream",
          "name": "stdout",
          "text": [
            "\b\b\b\b\b\b\b\b\b\b\b\b\b\b\b\b\b\b\b\b\b\b\b\b\b\b\b\b\b\b\b\b\b\b\b\b\b\b\b\b\b\b\b\b\b\b\b\b\b\b\b\b\b\b\b\b\b\b\b\b\b\b\b\b\b\b\b\b\b\b\b\b\b\b\b\b\b\b\b\b\b\b\b\b\b\b\b\b\b\b\b\b\b\b\b\b\b\b\b\b\b\b\b\b\b\b\b\b\b\b\b\b\b\b\b\b\b\b\b\b\b\b\b\b\b\b\b\b\b\b\b\b\b\b\b\b\b\b\b\b\b\b\b\b\b\b\r154/154 [==============================] - 3s 21ms/step - categorical_accuracy: 0.9131 - auc: 0.9712 - student_loss: 0.2413 - distillation_loss: 0.0085 - val_categorical_accuracy: 0.8825 - val_auc: 0.9443 - val_student_loss: 0.3288\n",
            "Epoch 81/100\n",
            "152/154 [============================>.] - ETA: 0s - categorical_accuracy: 0.9075 - auc: 0.9708 - student_loss: 0.2416 - distillation_loss: 0.0083"
          ]
        },
        {
          "output_type": "stream",
          "name": "stderr",
          "text": [
            "WARNING:tensorflow:Early stopping conditioned on metric `val_loss` which is not available. Available metrics are: categorical_accuracy,auc,student_loss,distillation_loss,val_categorical_accuracy,val_auc,val_student_loss\n"
          ]
        },
        {
          "output_type": "stream",
          "name": "stdout",
          "text": [
            "\b\b\b\b\b\b\b\b\b\b\b\b\b\b\b\b\b\b\b\b\b\b\b\b\b\b\b\b\b\b\b\b\b\b\b\b\b\b\b\b\b\b\b\b\b\b\b\b\b\b\b\b\b\b\b\b\b\b\b\b\b\b\b\b\b\b\b\b\b\b\b\b\b\b\b\b\b\b\b\b\b\b\b\b\b\b\b\b\b\b\b\b\b\b\b\b\b\b\b\b\b\b\b\b\b\b\b\b\b\b\b\b\b\b\b\b\b\b\b\b\b\b\b\b\b\b\b\b\b\b\b\b\b\b\b\b\b\b\b\b\b\b\b\b\b\b\r154/154 [==============================] - 3s 20ms/step - categorical_accuracy: 0.9074 - auc: 0.9707 - student_loss: 0.2397 - distillation_loss: 0.0085 - val_categorical_accuracy: 0.8858 - val_auc: 0.9440 - val_student_loss: 0.3399\n",
            "Epoch 82/100\n",
            "152/154 [============================>.] - ETA: 0s - categorical_accuracy: 0.9067 - auc: 0.9723 - student_loss: 0.2393 - distillation_loss: 0.0082"
          ]
        },
        {
          "output_type": "stream",
          "name": "stderr",
          "text": [
            "WARNING:tensorflow:Early stopping conditioned on metric `val_loss` which is not available. Available metrics are: categorical_accuracy,auc,student_loss,distillation_loss,val_categorical_accuracy,val_auc,val_student_loss\n"
          ]
        },
        {
          "output_type": "stream",
          "name": "stdout",
          "text": [
            "\b\b\b\b\b\b\b\b\b\b\b\b\b\b\b\b\b\b\b\b\b\b\b\b\b\b\b\b\b\b\b\b\b\b\b\b\b\b\b\b\b\b\b\b\b\b\b\b\b\b\b\b\b\b\b\b\b\b\b\b\b\b\b\b\b\b\b\b\b\b\b\b\b\b\b\b\b\b\b\b\b\b\b\b\b\b\b\b\b\b\b\b\b\b\b\b\b\b\b\b\b\b\b\b\b\b\b\b\b\b\b\b\b\b\b\b\b\b\b\b\b\b\b\b\b\b\b\b\b\b\b\b\b\b\b\b\b\b\b\b\b\b\b\b\b\b\r154/154 [==============================] - 3s 19ms/step - categorical_accuracy: 0.9066 - auc: 0.9722 - student_loss: 0.2395 - distillation_loss: 0.0082 - val_categorical_accuracy: 0.8891 - val_auc: 0.9454 - val_student_loss: 0.3282\n",
            "Epoch 83/100\n",
            "154/154 [==============================] - ETA: 0s - categorical_accuracy: 0.9033 - auc: 0.9708 - student_loss: 0.2461 - distillation_loss: 0.0084"
          ]
        },
        {
          "output_type": "stream",
          "name": "stderr",
          "text": [
            "WARNING:tensorflow:Early stopping conditioned on metric `val_loss` which is not available. Available metrics are: categorical_accuracy,auc,student_loss,distillation_loss,val_categorical_accuracy,val_auc,val_student_loss\n"
          ]
        },
        {
          "output_type": "stream",
          "name": "stdout",
          "text": [
            "\b\b\b\b\b\b\b\b\b\b\b\b\b\b\b\b\b\b\b\b\b\b\b\b\b\b\b\b\b\b\b\b\b\b\b\b\b\b\b\b\b\b\b\b\b\b\b\b\b\b\b\b\b\b\b\b\b\b\b\b\b\b\b\b\b\b\b\b\b\b\b\b\b\b\b\b\b\b\b\b\b\b\b\b\b\b\b\b\b\b\b\b\b\b\b\b\b\b\b\b\b\b\b\b\b\b\b\b\b\b\b\b\b\b\b\b\b\b\b\b\b\b\b\b\b\b\b\b\b\b\b\b\b\b\b\b\b\b\b\b\b\b\b\b\b\b\r154/154 [==============================] - 3s 19ms/step - categorical_accuracy: 0.9033 - auc: 0.9708 - student_loss: 0.2506 - distillation_loss: 0.0083 - val_categorical_accuracy: 0.8858 - val_auc: 0.9445 - val_student_loss: 0.3268\n",
            "Epoch 84/100\n",
            "154/154 [==============================] - ETA: 0s - categorical_accuracy: 0.9029 - auc: 0.9716 - student_loss: 0.2400 - distillation_loss: 0.0082"
          ]
        },
        {
          "output_type": "stream",
          "name": "stderr",
          "text": [
            "WARNING:tensorflow:Early stopping conditioned on metric `val_loss` which is not available. Available metrics are: categorical_accuracy,auc,student_loss,distillation_loss,val_categorical_accuracy,val_auc,val_student_loss\n"
          ]
        },
        {
          "output_type": "stream",
          "name": "stdout",
          "text": [
            "\b\b\b\b\b\b\b\b\b\b\b\b\b\b\b\b\b\b\b\b\b\b\b\b\b\b\b\b\b\b\b\b\b\b\b\b\b\b\b\b\b\b\b\b\b\b\b\b\b\b\b\b\b\b\b\b\b\b\b\b\b\b\b\b\b\b\b\b\b\b\b\b\b\b\b\b\b\b\b\b\b\b\b\b\b\b\b\b\b\b\b\b\b\b\b\b\b\b\b\b\b\b\b\b\b\b\b\b\b\b\b\b\b\b\b\b\b\b\b\b\b\b\b\b\b\b\b\b\b\b\b\b\b\b\b\b\b\b\b\b\b\b\b\b\b\b\r154/154 [==============================] - 3s 20ms/step - categorical_accuracy: 0.9029 - auc: 0.9716 - student_loss: 0.2393 - distillation_loss: 0.0082 - val_categorical_accuracy: 0.8809 - val_auc: 0.9412 - val_student_loss: 0.3958\n",
            "Epoch 85/100\n",
            "154/154 [==============================] - ETA: 0s - categorical_accuracy: 0.9053 - auc: 0.9727 - student_loss: 0.2383 - distillation_loss: 0.0089"
          ]
        },
        {
          "output_type": "stream",
          "name": "stderr",
          "text": [
            "WARNING:tensorflow:Early stopping conditioned on metric `val_loss` which is not available. Available metrics are: categorical_accuracy,auc,student_loss,distillation_loss,val_categorical_accuracy,val_auc,val_student_loss\n"
          ]
        },
        {
          "output_type": "stream",
          "name": "stdout",
          "text": [
            "\b\b\b\b\b\b\b\b\b\b\b\b\b\b\b\b\b\b\b\b\b\b\b\b\b\b\b\b\b\b\b\b\b\b\b\b\b\b\b\b\b\b\b\b\b\b\b\b\b\b\b\b\b\b\b\b\b\b\b\b\b\b\b\b\b\b\b\b\b\b\b\b\b\b\b\b\b\b\b\b\b\b\b\b\b\b\b\b\b\b\b\b\b\b\b\b\b\b\b\b\b\b\b\b\b\b\b\b\b\b\b\b\b\b\b\b\b\b\b\b\b\b\b\b\b\b\b\b\b\b\b\b\b\b\b\b\b\b\b\b\b\b\b\b\b\b\r154/154 [==============================] - 3s 21ms/step - categorical_accuracy: 0.9053 - auc: 0.9727 - student_loss: 0.2405 - distillation_loss: 0.0089 - val_categorical_accuracy: 0.8907 - val_auc: 0.9433 - val_student_loss: 0.3149\n",
            "Epoch 86/100\n",
            "154/154 [==============================] - ETA: 0s - categorical_accuracy: 0.9111 - auc: 0.9738 - student_loss: 0.2325 - distillation_loss: 0.0090"
          ]
        },
        {
          "output_type": "stream",
          "name": "stderr",
          "text": [
            "WARNING:tensorflow:Early stopping conditioned on metric `val_loss` which is not available. Available metrics are: categorical_accuracy,auc,student_loss,distillation_loss,val_categorical_accuracy,val_auc,val_student_loss\n"
          ]
        },
        {
          "output_type": "stream",
          "name": "stdout",
          "text": [
            "\b\b\b\b\b\b\b\b\b\b\b\b\b\b\b\b\b\b\b\b\b\b\b\b\b\b\b\b\b\b\b\b\b\b\b\b\b\b\b\b\b\b\b\b\b\b\b\b\b\b\b\b\b\b\b\b\b\b\b\b\b\b\b\b\b\b\b\b\b\b\b\b\b\b\b\b\b\b\b\b\b\b\b\b\b\b\b\b\b\b\b\b\b\b\b\b\b\b\b\b\b\b\b\b\b\b\b\b\b\b\b\b\b\b\b\b\b\b\b\b\b\b\b\b\b\b\b\b\b\b\b\b\b\b\b\b\b\b\b\b\b\b\b\b\b\b\r154/154 [==============================] - 3s 20ms/step - categorical_accuracy: 0.9111 - auc: 0.9738 - student_loss: 0.2316 - distillation_loss: 0.0089 - val_categorical_accuracy: 0.8842 - val_auc: 0.9416 - val_student_loss: 0.3806\n",
            "Epoch 87/100\n",
            "153/154 [============================>.] - ETA: 0s - categorical_accuracy: 0.9126 - auc: 0.9739 - student_loss: 0.2329 - distillation_loss: 0.0087"
          ]
        },
        {
          "output_type": "stream",
          "name": "stderr",
          "text": [
            "WARNING:tensorflow:Early stopping conditioned on metric `val_loss` which is not available. Available metrics are: categorical_accuracy,auc,student_loss,distillation_loss,val_categorical_accuracy,val_auc,val_student_loss\n"
          ]
        },
        {
          "output_type": "stream",
          "name": "stdout",
          "text": [
            "\b\b\b\b\b\b\b\b\b\b\b\b\b\b\b\b\b\b\b\b\b\b\b\b\b\b\b\b\b\b\b\b\b\b\b\b\b\b\b\b\b\b\b\b\b\b\b\b\b\b\b\b\b\b\b\b\b\b\b\b\b\b\b\b\b\b\b\b\b\b\b\b\b\b\b\b\b\b\b\b\b\b\b\b\b\b\b\b\b\b\b\b\b\b\b\b\b\b\b\b\b\b\b\b\b\b\b\b\b\b\b\b\b\b\b\b\b\b\b\b\b\b\b\b\b\b\b\b\b\b\b\b\b\b\b\b\b\b\b\b\b\b\b\b\b\b\r154/154 [==============================] - 3s 19ms/step - categorical_accuracy: 0.9123 - auc: 0.9738 - student_loss: 0.2350 - distillation_loss: 0.0086 - val_categorical_accuracy: 0.8809 - val_auc: 0.9428 - val_student_loss: 0.3396\n",
            "Epoch 88/100\n",
            "154/154 [==============================] - ETA: 0s - categorical_accuracy: 0.9106 - auc: 0.9738 - student_loss: 0.2312 - distillation_loss: 0.0087"
          ]
        },
        {
          "output_type": "stream",
          "name": "stderr",
          "text": [
            "WARNING:tensorflow:Early stopping conditioned on metric `val_loss` which is not available. Available metrics are: categorical_accuracy,auc,student_loss,distillation_loss,val_categorical_accuracy,val_auc,val_student_loss\n"
          ]
        },
        {
          "output_type": "stream",
          "name": "stdout",
          "text": [
            "\b\b\b\b\b\b\b\b\b\b\b\b\b\b\b\b\b\b\b\b\b\b\b\b\b\b\b\b\b\b\b\b\b\b\b\b\b\b\b\b\b\b\b\b\b\b\b\b\b\b\b\b\b\b\b\b\b\b\b\b\b\b\b\b\b\b\b\b\b\b\b\b\b\b\b\b\b\b\b\b\b\b\b\b\b\b\b\b\b\b\b\b\b\b\b\b\b\b\b\b\b\b\b\b\b\b\b\b\b\b\b\b\b\b\b\b\b\b\b\b\b\b\b\b\b\b\b\b\b\b\b\b\b\b\b\b\b\b\b\b\b\b\b\b\b\b\r154/154 [==============================] - 3s 19ms/step - categorical_accuracy: 0.9106 - auc: 0.9738 - student_loss: 0.2302 - distillation_loss: 0.0087 - val_categorical_accuracy: 0.8874 - val_auc: 0.9437 - val_student_loss: 0.3356\n",
            "Epoch 89/100\n",
            "154/154 [==============================] - ETA: 0s - categorical_accuracy: 0.9082 - auc: 0.9739 - student_loss: 0.2322 - distillation_loss: 0.0085"
          ]
        },
        {
          "output_type": "stream",
          "name": "stderr",
          "text": [
            "WARNING:tensorflow:Early stopping conditioned on metric `val_loss` which is not available. Available metrics are: categorical_accuracy,auc,student_loss,distillation_loss,val_categorical_accuracy,val_auc,val_student_loss\n"
          ]
        },
        {
          "output_type": "stream",
          "name": "stdout",
          "text": [
            "\b\b\b\b\b\b\b\b\b\b\b\b\b\b\b\b\b\b\b\b\b\b\b\b\b\b\b\b\b\b\b\b\b\b\b\b\b\b\b\b\b\b\b\b\b\b\b\b\b\b\b\b\b\b\b\b\b\b\b\b\b\b\b\b\b\b\b\b\b\b\b\b\b\b\b\b\b\b\b\b\b\b\b\b\b\b\b\b\b\b\b\b\b\b\b\b\b\b\b\b\b\b\b\b\b\b\b\b\b\b\b\b\b\b\b\b\b\b\b\b\b\b\b\b\b\b\b\b\b\b\b\b\b\b\b\b\b\b\b\b\b\b\b\b\b\b\r154/154 [==============================] - 3s 21ms/step - categorical_accuracy: 0.9082 - auc: 0.9739 - student_loss: 0.2315 - distillation_loss: 0.0086 - val_categorical_accuracy: 0.8842 - val_auc: 0.9432 - val_student_loss: 0.3312\n",
            "Epoch 90/100\n",
            "153/154 [============================>.] - ETA: 0s - categorical_accuracy: 0.9101 - auc: 0.9741 - student_loss: 0.2329 - distillation_loss: 0.0085"
          ]
        },
        {
          "output_type": "stream",
          "name": "stderr",
          "text": [
            "WARNING:tensorflow:Early stopping conditioned on metric `val_loss` which is not available. Available metrics are: categorical_accuracy,auc,student_loss,distillation_loss,val_categorical_accuracy,val_auc,val_student_loss\n"
          ]
        },
        {
          "output_type": "stream",
          "name": "stdout",
          "text": [
            "\b\b\b\b\b\b\b\b\b\b\b\b\b\b\b\b\b\b\b\b\b\b\b\b\b\b\b\b\b\b\b\b\b\b\b\b\b\b\b\b\b\b\b\b\b\b\b\b\b\b\b\b\b\b\b\b\b\b\b\b\b\b\b\b\b\b\b\b\b\b\b\b\b\b\b\b\b\b\b\b\b\b\b\b\b\b\b\b\b\b\b\b\b\b\b\b\b\b\b\b\b\b\b\b\b\b\b\b\b\b\b\b\b\b\b\b\b\b\b\b\b\b\b\b\b\b\b\b\b\b\b\b\b\b\b\b\b\b\b\b\b\b\b\b\b\b\r154/154 [==============================] - 3s 19ms/step - categorical_accuracy: 0.9102 - auc: 0.9742 - student_loss: 0.2304 - distillation_loss: 0.0085 - val_categorical_accuracy: 0.8809 - val_auc: 0.9417 - val_student_loss: 0.3151\n",
            "Epoch 91/100\n",
            "153/154 [============================>.] - ETA: 0s - categorical_accuracy: 0.9154 - auc: 0.9750 - student_loss: 0.2301 - distillation_loss: 0.0085"
          ]
        },
        {
          "output_type": "stream",
          "name": "stderr",
          "text": [
            "WARNING:tensorflow:Early stopping conditioned on metric `val_loss` which is not available. Available metrics are: categorical_accuracy,auc,student_loss,distillation_loss,val_categorical_accuracy,val_auc,val_student_loss\n"
          ]
        },
        {
          "output_type": "stream",
          "name": "stdout",
          "text": [
            "\b\b\b\b\b\b\b\b\b\b\b\b\b\b\b\b\b\b\b\b\b\b\b\b\b\b\b\b\b\b\b\b\b\b\b\b\b\b\b\b\b\b\b\b\b\b\b\b\b\b\b\b\b\b\b\b\b\b\b\b\b\b\b\b\b\b\b\b\b\b\b\b\b\b\b\b\b\b\b\b\b\b\b\b\b\b\b\b\b\b\b\b\b\b\b\b\b\b\b\b\b\b\b\b\b\b\b\b\b\b\b\b\b\b\b\b\b\b\b\b\b\b\b\b\b\b\b\b\b\b\b\b\b\b\b\b\b\b\b\b\b\b\b\b\b\b\r154/154 [==============================] - 3s 19ms/step - categorical_accuracy: 0.9151 - auc: 0.9749 - student_loss: 0.2314 - distillation_loss: 0.0085 - val_categorical_accuracy: 0.8858 - val_auc: 0.9433 - val_student_loss: 0.2986\n",
            "Epoch 92/100\n",
            "153/154 [============================>.] - ETA: 0s - categorical_accuracy: 0.9114 - auc: 0.9749 - student_loss: 0.2282 - distillation_loss: 0.0090"
          ]
        },
        {
          "output_type": "stream",
          "name": "stderr",
          "text": [
            "WARNING:tensorflow:Early stopping conditioned on metric `val_loss` which is not available. Available metrics are: categorical_accuracy,auc,student_loss,distillation_loss,val_categorical_accuracy,val_auc,val_student_loss\n"
          ]
        },
        {
          "output_type": "stream",
          "name": "stdout",
          "text": [
            "\b\b\b\b\b\b\b\b\b\b\b\b\b\b\b\b\b\b\b\b\b\b\b\b\b\b\b\b\b\b\b\b\b\b\b\b\b\b\b\b\b\b\b\b\b\b\b\b\b\b\b\b\b\b\b\b\b\b\b\b\b\b\b\b\b\b\b\b\b\b\b\b\b\b\b\b\b\b\b\b\b\b\b\b\b\b\b\b\b\b\b\b\b\b\b\b\b\b\b\b\b\b\b\b\b\b\b\b\b\b\b\b\b\b\b\b\b\b\b\b\b\b\b\b\b\b\b\b\b\b\b\b\b\b\b\b\b\b\b\b\b\b\b\b\b\b\r154/154 [==============================] - 3s 19ms/step - categorical_accuracy: 0.9115 - auc: 0.9750 - student_loss: 0.2257 - distillation_loss: 0.0090 - val_categorical_accuracy: 0.8793 - val_auc: 0.9423 - val_student_loss: 0.2998\n",
            "Epoch 93/100\n",
            "154/154 [==============================] - ETA: 0s - categorical_accuracy: 0.9098 - auc: 0.9757 - student_loss: 0.2313 - distillation_loss: 0.0085"
          ]
        },
        {
          "output_type": "stream",
          "name": "stderr",
          "text": [
            "WARNING:tensorflow:Early stopping conditioned on metric `val_loss` which is not available. Available metrics are: categorical_accuracy,auc,student_loss,distillation_loss,val_categorical_accuracy,val_auc,val_student_loss\n"
          ]
        },
        {
          "output_type": "stream",
          "name": "stdout",
          "text": [
            "\b\b\b\b\b\b\b\b\b\b\b\b\b\b\b\b\b\b\b\b\b\b\b\b\b\b\b\b\b\b\b\b\b\b\b\b\b\b\b\b\b\b\b\b\b\b\b\b\b\b\b\b\b\b\b\b\b\b\b\b\b\b\b\b\b\b\b\b\b\b\b\b\b\b\b\b\b\b\b\b\b\b\b\b\b\b\b\b\b\b\b\b\b\b\b\b\b\b\b\b\b\b\b\b\b\b\b\b\b\b\b\b\b\b\b\b\b\b\b\b\b\b\b\b\b\b\b\b\b\b\b\b\b\b\b\b\b\b\b\b\b\b\b\b\b\b\r154/154 [==============================] - 3s 21ms/step - categorical_accuracy: 0.9098 - auc: 0.9757 - student_loss: 0.2353 - distillation_loss: 0.0085 - val_categorical_accuracy: 0.8858 - val_auc: 0.9423 - val_student_loss: 0.3371\n",
            "Epoch 94/100\n",
            "152/154 [============================>.] - ETA: 0s - categorical_accuracy: 0.9112 - auc: 0.9772 - student_loss: 0.2246 - distillation_loss: 0.0092"
          ]
        },
        {
          "output_type": "stream",
          "name": "stderr",
          "text": [
            "WARNING:tensorflow:Early stopping conditioned on metric `val_loss` which is not available. Available metrics are: categorical_accuracy,auc,student_loss,distillation_loss,val_categorical_accuracy,val_auc,val_student_loss\n"
          ]
        },
        {
          "output_type": "stream",
          "name": "stdout",
          "text": [
            "\b\b\b\b\b\b\b\b\b\b\b\b\b\b\b\b\b\b\b\b\b\b\b\b\b\b\b\b\b\b\b\b\b\b\b\b\b\b\b\b\b\b\b\b\b\b\b\b\b\b\b\b\b\b\b\b\b\b\b\b\b\b\b\b\b\b\b\b\b\b\b\b\b\b\b\b\b\b\b\b\b\b\b\b\b\b\b\b\b\b\b\b\b\b\b\b\b\b\b\b\b\b\b\b\b\b\b\b\b\b\b\b\b\b\b\b\b\b\b\b\b\b\b\b\b\b\b\b\b\b\b\b\b\b\b\b\b\b\b\b\b\b\b\b\b\b\r154/154 [==============================] - 3s 20ms/step - categorical_accuracy: 0.9119 - auc: 0.9774 - student_loss: 0.2241 - distillation_loss: 0.0092 - val_categorical_accuracy: 0.8858 - val_auc: 0.9417 - val_student_loss: 0.3330\n",
            "Epoch 95/100\n",
            "152/154 [============================>.] - ETA: 0s - categorical_accuracy: 0.9120 - auc: 0.9753 - student_loss: 0.2282 - distillation_loss: 0.0087"
          ]
        },
        {
          "output_type": "stream",
          "name": "stderr",
          "text": [
            "WARNING:tensorflow:Early stopping conditioned on metric `val_loss` which is not available. Available metrics are: categorical_accuracy,auc,student_loss,distillation_loss,val_categorical_accuracy,val_auc,val_student_loss\n"
          ]
        },
        {
          "output_type": "stream",
          "name": "stdout",
          "text": [
            "\b\b\b\b\b\b\b\b\b\b\b\b\b\b\b\b\b\b\b\b\b\b\b\b\b\b\b\b\b\b\b\b\b\b\b\b\b\b\b\b\b\b\b\b\b\b\b\b\b\b\b\b\b\b\b\b\b\b\b\b\b\b\b\b\b\b\b\b\b\b\b\b\b\b\b\b\b\b\b\b\b\b\b\b\b\b\b\b\b\b\b\b\b\b\b\b\b\b\b\b\b\b\b\b\b\b\b\b\b\b\b\b\b\b\b\b\b\b\b\b\b\b\b\b\b\b\b\b\b\b\b\b\b\b\b\b\b\b\b\b\b\b\b\b\b\b\r154/154 [==============================] - 3s 19ms/step - categorical_accuracy: 0.9123 - auc: 0.9754 - student_loss: 0.2265 - distillation_loss: 0.0086 - val_categorical_accuracy: 0.8874 - val_auc: 0.9418 - val_student_loss: 0.3517\n",
            "Epoch 96/100\n",
            "152/154 [============================>.] - ETA: 0s - categorical_accuracy: 0.9153 - auc: 0.9756 - student_loss: 0.2264 - distillation_loss: 0.0090"
          ]
        },
        {
          "output_type": "stream",
          "name": "stderr",
          "text": [
            "WARNING:tensorflow:Early stopping conditioned on metric `val_loss` which is not available. Available metrics are: categorical_accuracy,auc,student_loss,distillation_loss,val_categorical_accuracy,val_auc,val_student_loss\n"
          ]
        },
        {
          "output_type": "stream",
          "name": "stdout",
          "text": [
            "\b\b\b\b\b\b\b\b\b\b\b\b\b\b\b\b\b\b\b\b\b\b\b\b\b\b\b\b\b\b\b\b\b\b\b\b\b\b\b\b\b\b\b\b\b\b\b\b\b\b\b\b\b\b\b\b\b\b\b\b\b\b\b\b\b\b\b\b\b\b\b\b\b\b\b\b\b\b\b\b\b\b\b\b\b\b\b\b\b\b\b\b\b\b\b\b\b\b\b\b\b\b\b\b\b\b\b\b\b\b\b\b\b\b\b\b\b\b\b\b\b\b\b\b\b\b\b\b\b\b\b\b\b\b\b\b\b\b\b\b\b\b\b\b\b\b\r154/154 [==============================] - 3s 19ms/step - categorical_accuracy: 0.9151 - auc: 0.9756 - student_loss: 0.2256 - distillation_loss: 0.0094 - val_categorical_accuracy: 0.8907 - val_auc: 0.9440 - val_student_loss: 0.3304\n",
            "Epoch 97/100\n",
            "154/154 [==============================] - ETA: 0s - categorical_accuracy: 0.9139 - auc: 0.9771 - student_loss: 0.2229 - distillation_loss: 0.0091"
          ]
        },
        {
          "output_type": "stream",
          "name": "stderr",
          "text": [
            "WARNING:tensorflow:Early stopping conditioned on metric `val_loss` which is not available. Available metrics are: categorical_accuracy,auc,student_loss,distillation_loss,val_categorical_accuracy,val_auc,val_student_loss\n"
          ]
        },
        {
          "output_type": "stream",
          "name": "stdout",
          "text": [
            "\b\b\b\b\b\b\b\b\b\b\b\b\b\b\b\b\b\b\b\b\b\b\b\b\b\b\b\b\b\b\b\b\b\b\b\b\b\b\b\b\b\b\b\b\b\b\b\b\b\b\b\b\b\b\b\b\b\b\b\b\b\b\b\b\b\b\b\b\b\b\b\b\b\b\b\b\b\b\b\b\b\b\b\b\b\b\b\b\b\b\b\b\b\b\b\b\b\b\b\b\b\b\b\b\b\b\b\b\b\b\b\b\b\b\b\b\b\b\b\b\b\b\b\b\b\b\b\b\b\b\b\b\b\b\b\b\b\b\b\b\b\b\b\b\b\b\r154/154 [==============================] - 3s 21ms/step - categorical_accuracy: 0.9139 - auc: 0.9771 - student_loss: 0.2226 - distillation_loss: 0.0092 - val_categorical_accuracy: 0.8858 - val_auc: 0.9425 - val_student_loss: 0.3213\n",
            "Epoch 98/100\n",
            "154/154 [==============================] - ETA: 0s - categorical_accuracy: 0.9147 - auc: 0.9763 - student_loss: 0.2255 - distillation_loss: 0.0087"
          ]
        },
        {
          "output_type": "stream",
          "name": "stderr",
          "text": [
            "WARNING:tensorflow:Early stopping conditioned on metric `val_loss` which is not available. Available metrics are: categorical_accuracy,auc,student_loss,distillation_loss,val_categorical_accuracy,val_auc,val_student_loss\n"
          ]
        },
        {
          "output_type": "stream",
          "name": "stdout",
          "text": [
            "\b\b\b\b\b\b\b\b\b\b\b\b\b\b\b\b\b\b\b\b\b\b\b\b\b\b\b\b\b\b\b\b\b\b\b\b\b\b\b\b\b\b\b\b\b\b\b\b\b\b\b\b\b\b\b\b\b\b\b\b\b\b\b\b\b\b\b\b\b\b\b\b\b\b\b\b\b\b\b\b\b\b\b\b\b\b\b\b\b\b\b\b\b\b\b\b\b\b\b\b\b\b\b\b\b\b\b\b\b\b\b\b\b\b\b\b\b\b\b\b\b\b\b\b\b\b\b\b\b\b\b\b\b\b\b\b\b\b\b\b\b\b\b\b\b\b\r154/154 [==============================] - 3s 20ms/step - categorical_accuracy: 0.9147 - auc: 0.9763 - student_loss: 0.2250 - distillation_loss: 0.0087 - val_categorical_accuracy: 0.8842 - val_auc: 0.9406 - val_student_loss: 0.3265\n",
            "Epoch 99/100\n",
            "152/154 [============================>.] - ETA: 0s - categorical_accuracy: 0.9186 - auc: 0.9776 - student_loss: 0.2208 - distillation_loss: 0.0093"
          ]
        },
        {
          "output_type": "stream",
          "name": "stderr",
          "text": [
            "WARNING:tensorflow:Early stopping conditioned on metric `val_loss` which is not available. Available metrics are: categorical_accuracy,auc,student_loss,distillation_loss,val_categorical_accuracy,val_auc,val_student_loss\n"
          ]
        },
        {
          "output_type": "stream",
          "name": "stdout",
          "text": [
            "\b\b\b\b\b\b\b\b\b\b\b\b\b\b\b\b\b\b\b\b\b\b\b\b\b\b\b\b\b\b\b\b\b\b\b\b\b\b\b\b\b\b\b\b\b\b\b\b\b\b\b\b\b\b\b\b\b\b\b\b\b\b\b\b\b\b\b\b\b\b\b\b\b\b\b\b\b\b\b\b\b\b\b\b\b\b\b\b\b\b\b\b\b\b\b\b\b\b\b\b\b\b\b\b\b\b\b\b\b\b\b\b\b\b\b\b\b\b\b\b\b\b\b\b\b\b\b\b\b\b\b\b\b\b\b\b\b\b\b\b\b\b\b\b\b\b\r154/154 [==============================] - 3s 19ms/step - categorical_accuracy: 0.9192 - auc: 0.9777 - student_loss: 0.2206 - distillation_loss: 0.0095 - val_categorical_accuracy: 0.8858 - val_auc: 0.9414 - val_student_loss: 0.3521\n",
            "Epoch 100/100\n",
            "151/154 [============================>.] - ETA: 0s - categorical_accuracy: 0.9218 - auc: 0.9781 - student_loss: 0.2211 - distillation_loss: 0.0090"
          ]
        },
        {
          "output_type": "stream",
          "name": "stderr",
          "text": [
            "WARNING:tensorflow:Early stopping conditioned on metric `val_loss` which is not available. Available metrics are: categorical_accuracy,auc,student_loss,distillation_loss,val_categorical_accuracy,val_auc,val_student_loss\n"
          ]
        },
        {
          "output_type": "stream",
          "name": "stdout",
          "text": [
            "154/154 [==============================] - 3s 20ms/step - categorical_accuracy: 0.9221 - auc: 0.9783 - student_loss: 0.2196 - distillation_loss: 0.0091 - val_categorical_accuracy: 0.8842 - val_auc: 0.9418 - val_student_loss: 0.2919\n",
            "20/20 [==============================] - 0s 7ms/step - categorical_accuracy: 0.8842 - auc: 0.9418 - student_loss: 0.3026\n",
            "20/20 [==============================] - 1s 6ms/step\n",
            "[[251  44]\n",
            " [ 27 291]]\n",
            "Start train Fold  4\n",
            "Epoch 1/100\n"
          ]
        },
        {
          "output_type": "stream",
          "name": "stderr",
          "text": [
            "/usr/local/lib/python3.10/dist-packages/keras/src/backend.py:5575: UserWarning: \"`categorical_crossentropy` received `from_logits=True`, but the `output` argument was produced by a Softmax activation and thus does not represent logits. Was this intended?\n",
            "  output, from_logits = _get_logits(\n"
          ]
        },
        {
          "output_type": "stream",
          "name": "stdout",
          "text": [
            "153/154 [============================>.] - ETA: 0s - categorical_accuracy: 0.6164 - auc: 0.6760 - student_loss: 0.6551 - distillation_loss: 0.0480"
          ]
        },
        {
          "output_type": "stream",
          "name": "stderr",
          "text": [
            "WARNING:tensorflow:Early stopping conditioned on metric `val_loss` which is not available. Available metrics are: categorical_accuracy,auc,student_loss,distillation_loss,val_categorical_accuracy,val_auc,val_student_loss\n"
          ]
        },
        {
          "output_type": "stream",
          "name": "stdout",
          "text": [
            "\b\b\b\b\b\b\b\b\b\b\b\b\b\b\b\b\b\b\b\b\b\b\b\b\b\b\b\b\b\b\b\b\b\b\b\b\b\b\b\b\b\b\b\b\b\b\b\b\b\b\b\b\b\b\b\b\b\b\b\b\b\b\b\b\b\b\b\b\b\b\b\b\b\b\b\b\b\b\b\b\b\b\b\b\b\b\b\b\b\b\b\b\b\b\b\b\b\b\b\b\b\b\b\b\b\b\b\b\b\b\b\b\b\b\b\b\b\b\b\b\b\b\b\b\b\b\b\b\b\b\b\b\b\b\b\b\b\b\b\b\b\b\b\b\b\b\r154/154 [==============================] - 11s 26ms/step - categorical_accuracy: 0.6165 - auc: 0.6760 - student_loss: 0.6546 - distillation_loss: 0.0476 - val_categorical_accuracy: 0.7520 - val_auc: 0.8029 - val_student_loss: 0.6312\n",
            "Epoch 2/100\n",
            "152/154 [============================>.] - ETA: 0s - categorical_accuracy: 0.7586 - auc: 0.8277 - student_loss: 0.5194 - distillation_loss: 0.0265"
          ]
        },
        {
          "output_type": "stream",
          "name": "stderr",
          "text": [
            "WARNING:tensorflow:Early stopping conditioned on metric `val_loss` which is not available. Available metrics are: categorical_accuracy,auc,student_loss,distillation_loss,val_categorical_accuracy,val_auc,val_student_loss\n"
          ]
        },
        {
          "output_type": "stream",
          "name": "stdout",
          "text": [
            "\b\b\b\b\b\b\b\b\b\b\b\b\b\b\b\b\b\b\b\b\b\b\b\b\b\b\b\b\b\b\b\b\b\b\b\b\b\b\b\b\b\b\b\b\b\b\b\b\b\b\b\b\b\b\b\b\b\b\b\b\b\b\b\b\b\b\b\b\b\b\b\b\b\b\b\b\b\b\b\b\b\b\b\b\b\b\b\b\b\b\b\b\b\b\b\b\b\b\b\b\b\b\b\b\b\b\b\b\b\b\b\b\b\b\b\b\b\b\b\b\b\b\b\b\b\b\b\b\b\b\b\b\b\b\b\b\b\b\b\b\b\b\b\b\b\b\r154/154 [==============================] - 3s 20ms/step - categorical_accuracy: 0.7581 - auc: 0.8266 - student_loss: 0.5173 - distillation_loss: 0.0264 - val_categorical_accuracy: 0.7798 - val_auc: 0.8549 - val_student_loss: 0.4693\n",
            "Epoch 3/100\n",
            "154/154 [==============================] - ETA: 0s - categorical_accuracy: 0.7842 - auc: 0.8531 - student_loss: 0.4829 - distillation_loss: 0.0244"
          ]
        },
        {
          "output_type": "stream",
          "name": "stderr",
          "text": [
            "WARNING:tensorflow:Early stopping conditioned on metric `val_loss` which is not available. Available metrics are: categorical_accuracy,auc,student_loss,distillation_loss,val_categorical_accuracy,val_auc,val_student_loss\n"
          ]
        },
        {
          "output_type": "stream",
          "name": "stdout",
          "text": [
            "\b\b\b\b\b\b\b\b\b\b\b\b\b\b\b\b\b\b\b\b\b\b\b\b\b\b\b\b\b\b\b\b\b\b\b\b\b\b\b\b\b\b\b\b\b\b\b\b\b\b\b\b\b\b\b\b\b\b\b\b\b\b\b\b\b\b\b\b\b\b\b\b\b\b\b\b\b\b\b\b\b\b\b\b\b\b\b\b\b\b\b\b\b\b\b\b\b\b\b\b\b\b\b\b\b\b\b\b\b\b\b\b\b\b\b\b\b\b\b\b\b\b\b\b\b\b\b\b\b\b\b\b\b\b\b\b\b\b\b\b\b\b\b\b\b\b\r154/154 [==============================] - 3s 20ms/step - categorical_accuracy: 0.7842 - auc: 0.8531 - student_loss: 0.4846 - distillation_loss: 0.0242 - val_categorical_accuracy: 0.7781 - val_auc: 0.8434 - val_student_loss: 0.5349\n",
            "Epoch 4/100\n",
            "153/154 [============================>.] - ETA: 0s - categorical_accuracy: 0.7913 - auc: 0.8687 - student_loss: 0.4596 - distillation_loss: 0.0224"
          ]
        },
        {
          "output_type": "stream",
          "name": "stderr",
          "text": [
            "WARNING:tensorflow:Early stopping conditioned on metric `val_loss` which is not available. Available metrics are: categorical_accuracy,auc,student_loss,distillation_loss,val_categorical_accuracy,val_auc,val_student_loss\n"
          ]
        },
        {
          "output_type": "stream",
          "name": "stdout",
          "text": [
            "\b\b\b\b\b\b\b\b\b\b\b\b\b\b\b\b\b\b\b\b\b\b\b\b\b\b\b\b\b\b\b\b\b\b\b\b\b\b\b\b\b\b\b\b\b\b\b\b\b\b\b\b\b\b\b\b\b\b\b\b\b\b\b\b\b\b\b\b\b\b\b\b\b\b\b\b\b\b\b\b\b\b\b\b\b\b\b\b\b\b\b\b\b\b\b\b\b\b\b\b\b\b\b\b\b\b\b\b\b\b\b\b\b\b\b\b\b\b\b\b\b\b\b\b\b\b\b\b\b\b\b\b\b\b\b\b\b\b\b\b\b\b\b\b\b\b\r154/154 [==============================] - 3s 20ms/step - categorical_accuracy: 0.7915 - auc: 0.8689 - student_loss: 0.4568 - distillation_loss: 0.0222 - val_categorical_accuracy: 0.7896 - val_auc: 0.8747 - val_student_loss: 0.3842\n",
            "Epoch 5/100\n",
            "154/154 [==============================] - ETA: 0s - categorical_accuracy: 0.8058 - auc: 0.8810 - student_loss: 0.4386 - distillation_loss: 0.0207"
          ]
        },
        {
          "output_type": "stream",
          "name": "stderr",
          "text": [
            "WARNING:tensorflow:Early stopping conditioned on metric `val_loss` which is not available. Available metrics are: categorical_accuracy,auc,student_loss,distillation_loss,val_categorical_accuracy,val_auc,val_student_loss\n"
          ]
        },
        {
          "output_type": "stream",
          "name": "stdout",
          "text": [
            "\b\b\b\b\b\b\b\b\b\b\b\b\b\b\b\b\b\b\b\b\b\b\b\b\b\b\b\b\b\b\b\b\b\b\b\b\b\b\b\b\b\b\b\b\b\b\b\b\b\b\b\b\b\b\b\b\b\b\b\b\b\b\b\b\b\b\b\b\b\b\b\b\b\b\b\b\b\b\b\b\b\b\b\b\b\b\b\b\b\b\b\b\b\b\b\b\b\b\b\b\b\b\b\b\b\b\b\b\b\b\b\b\b\b\b\b\b\b\b\b\b\b\b\b\b\b\b\b\b\b\b\b\b\b\b\b\b\b\b\b\b\b\b\b\b\b\r154/154 [==============================] - 3s 22ms/step - categorical_accuracy: 0.8058 - auc: 0.8810 - student_loss: 0.4367 - distillation_loss: 0.0208 - val_categorical_accuracy: 0.7961 - val_auc: 0.8817 - val_student_loss: 0.3522\n",
            "Epoch 6/100\n",
            "154/154 [==============================] - ETA: 0s - categorical_accuracy: 0.8095 - auc: 0.8923 - student_loss: 0.4220 - distillation_loss: 0.0183"
          ]
        },
        {
          "output_type": "stream",
          "name": "stderr",
          "text": [
            "WARNING:tensorflow:Early stopping conditioned on metric `val_loss` which is not available. Available metrics are: categorical_accuracy,auc,student_loss,distillation_loss,val_categorical_accuracy,val_auc,val_student_loss\n"
          ]
        },
        {
          "output_type": "stream",
          "name": "stdout",
          "text": [
            "\b\b\b\b\b\b\b\b\b\b\b\b\b\b\b\b\b\b\b\b\b\b\b\b\b\b\b\b\b\b\b\b\b\b\b\b\b\b\b\b\b\b\b\b\b\b\b\b\b\b\b\b\b\b\b\b\b\b\b\b\b\b\b\b\b\b\b\b\b\b\b\b\b\b\b\b\b\b\b\b\b\b\b\b\b\b\b\b\b\b\b\b\b\b\b\b\b\b\b\b\b\b\b\b\b\b\b\b\b\b\b\b\b\b\b\b\b\b\b\b\b\b\b\b\b\b\b\b\b\b\b\b\b\b\b\b\b\b\b\b\b\b\b\b\b\b\r154/154 [==============================] - 3s 20ms/step - categorical_accuracy: 0.8095 - auc: 0.8923 - student_loss: 0.4214 - distillation_loss: 0.0183 - val_categorical_accuracy: 0.8140 - val_auc: 0.8902 - val_student_loss: 0.3163\n",
            "Epoch 7/100\n",
            "152/154 [============================>.] - ETA: 0s - categorical_accuracy: 0.8277 - auc: 0.9060 - student_loss: 0.3993 - distillation_loss: 0.0162"
          ]
        },
        {
          "output_type": "stream",
          "name": "stderr",
          "text": [
            "WARNING:tensorflow:Early stopping conditioned on metric `val_loss` which is not available. Available metrics are: categorical_accuracy,auc,student_loss,distillation_loss,val_categorical_accuracy,val_auc,val_student_loss\n"
          ]
        },
        {
          "output_type": "stream",
          "name": "stdout",
          "text": [
            "\b\b\b\b\b\b\b\b\b\b\b\b\b\b\b\b\b\b\b\b\b\b\b\b\b\b\b\b\b\b\b\b\b\b\b\b\b\b\b\b\b\b\b\b\b\b\b\b\b\b\b\b\b\b\b\b\b\b\b\b\b\b\b\b\b\b\b\b\b\b\b\b\b\b\b\b\b\b\b\b\b\b\b\b\b\b\b\b\b\b\b\b\b\b\b\b\b\b\b\b\b\b\b\b\b\b\b\b\b\b\b\b\b\b\b\b\b\b\b\b\b\b\b\b\b\b\b\b\b\b\b\b\b\b\b\b\b\b\b\b\b\b\b\b\b\b\r154/154 [==============================] - 3s 21ms/step - categorical_accuracy: 0.8278 - auc: 0.9062 - student_loss: 0.3995 - distillation_loss: 0.0164 - val_categorical_accuracy: 0.8222 - val_auc: 0.9018 - val_student_loss: 0.2490\n",
            "Epoch 8/100\n",
            "154/154 [==============================] - ETA: 0s - categorical_accuracy: 0.8433 - auc: 0.9138 - student_loss: 0.3836 - distillation_loss: 0.0138"
          ]
        },
        {
          "output_type": "stream",
          "name": "stderr",
          "text": [
            "WARNING:tensorflow:Early stopping conditioned on metric `val_loss` which is not available. Available metrics are: categorical_accuracy,auc,student_loss,distillation_loss,val_categorical_accuracy,val_auc,val_student_loss\n"
          ]
        },
        {
          "output_type": "stream",
          "name": "stdout",
          "text": [
            "\b\b\b\b\b\b\b\b\b\b\b\b\b\b\b\b\b\b\b\b\b\b\b\b\b\b\b\b\b\b\b\b\b\b\b\b\b\b\b\b\b\b\b\b\b\b\b\b\b\b\b\b\b\b\b\b\b\b\b\b\b\b\b\b\b\b\b\b\b\b\b\b\b\b\b\b\b\b\b\b\b\b\b\b\b\b\b\b\b\b\b\b\b\b\b\b\b\b\b\b\b\b\b\b\b\b\b\b\b\b\b\b\b\b\b\b\b\b\b\b\b\b\b\b\b\b\b\b\b\b\b\b\b\b\b\b\b\b\b\b\b\b\b\b\b\b\r154/154 [==============================] - 3s 20ms/step - categorical_accuracy: 0.8433 - auc: 0.9138 - student_loss: 0.3869 - distillation_loss: 0.0137 - val_categorical_accuracy: 0.8303 - val_auc: 0.9013 - val_student_loss: 0.2186\n",
            "Epoch 9/100\n",
            "153/154 [============================>.] - ETA: 0s - categorical_accuracy: 0.8505 - auc: 0.9210 - student_loss: 0.3664 - distillation_loss: 0.0132"
          ]
        },
        {
          "output_type": "stream",
          "name": "stderr",
          "text": [
            "WARNING:tensorflow:Early stopping conditioned on metric `val_loss` which is not available. Available metrics are: categorical_accuracy,auc,student_loss,distillation_loss,val_categorical_accuracy,val_auc,val_student_loss\n"
          ]
        },
        {
          "output_type": "stream",
          "name": "stdout",
          "text": [
            "\b\b\b\b\b\b\b\b\b\b\b\b\b\b\b\b\b\b\b\b\b\b\b\b\b\b\b\b\b\b\b\b\b\b\b\b\b\b\b\b\b\b\b\b\b\b\b\b\b\b\b\b\b\b\b\b\b\b\b\b\b\b\b\b\b\b\b\b\b\b\b\b\b\b\b\b\b\b\b\b\b\b\b\b\b\b\b\b\b\b\b\b\b\b\b\b\b\b\b\b\b\b\b\b\b\b\b\b\b\b\b\b\b\b\b\b\b\b\b\b\b\b\b\b\b\b\b\b\b\b\b\b\b\b\b\b\b\b\b\b\b\b\b\b\b\b\r154/154 [==============================] - 3s 23ms/step - categorical_accuracy: 0.8507 - auc: 0.9212 - student_loss: 0.3628 - distillation_loss: 0.0131 - val_categorical_accuracy: 0.8336 - val_auc: 0.9084 - val_student_loss: 0.1841\n",
            "Epoch 10/100\n",
            "154/154 [==============================] - ETA: 0s - categorical_accuracy: 0.8519 - auc: 0.9260 - student_loss: 0.3529 - distillation_loss: 0.0125"
          ]
        },
        {
          "output_type": "stream",
          "name": "stderr",
          "text": [
            "WARNING:tensorflow:Early stopping conditioned on metric `val_loss` which is not available. Available metrics are: categorical_accuracy,auc,student_loss,distillation_loss,val_categorical_accuracy,val_auc,val_student_loss\n"
          ]
        },
        {
          "output_type": "stream",
          "name": "stdout",
          "text": [
            "\b\b\b\b\b\b\b\b\b\b\b\b\b\b\b\b\b\b\b\b\b\b\b\b\b\b\b\b\b\b\b\b\b\b\b\b\b\b\b\b\b\b\b\b\b\b\b\b\b\b\b\b\b\b\b\b\b\b\b\b\b\b\b\b\b\b\b\b\b\b\b\b\b\b\b\b\b\b\b\b\b\b\b\b\b\b\b\b\b\b\b\b\b\b\b\b\b\b\b\b\b\b\b\b\b\b\b\b\b\b\b\b\b\b\b\b\b\b\b\b\b\b\b\b\b\b\b\b\b\b\b\b\b\b\b\b\b\b\b\b\b\b\b\b\b\b\r154/154 [==============================] - 3s 21ms/step - categorical_accuracy: 0.8519 - auc: 0.9260 - student_loss: 0.3525 - distillation_loss: 0.0125 - val_categorical_accuracy: 0.8303 - val_auc: 0.9099 - val_student_loss: 0.1719\n",
            "Epoch 11/100\n",
            "154/154 [==============================] - ETA: 0s - categorical_accuracy: 0.8572 - auc: 0.9281 - student_loss: 0.3465 - distillation_loss: 0.0125"
          ]
        },
        {
          "output_type": "stream",
          "name": "stderr",
          "text": [
            "WARNING:tensorflow:Early stopping conditioned on metric `val_loss` which is not available. Available metrics are: categorical_accuracy,auc,student_loss,distillation_loss,val_categorical_accuracy,val_auc,val_student_loss\n"
          ]
        },
        {
          "output_type": "stream",
          "name": "stdout",
          "text": [
            "\b\b\b\b\b\b\b\b\b\b\b\b\b\b\b\b\b\b\b\b\b\b\b\b\b\b\b\b\b\b\b\b\b\b\b\b\b\b\b\b\b\b\b\b\b\b\b\b\b\b\b\b\b\b\b\b\b\b\b\b\b\b\b\b\b\b\b\b\b\b\b\b\b\b\b\b\b\b\b\b\b\b\b\b\b\b\b\b\b\b\b\b\b\b\b\b\b\b\b\b\b\b\b\b\b\b\b\b\b\b\b\b\b\b\b\b\b\b\b\b\b\b\b\b\b\b\b\b\b\b\b\b\b\b\b\b\b\b\b\b\b\b\b\b\b\b\r154/154 [==============================] - 3s 22ms/step - categorical_accuracy: 0.8572 - auc: 0.9281 - student_loss: 0.3449 - distillation_loss: 0.0129 - val_categorical_accuracy: 0.8385 - val_auc: 0.9106 - val_student_loss: 0.1507\n",
            "Epoch 12/100\n",
            "154/154 [==============================] - ETA: 0s - categorical_accuracy: 0.8584 - auc: 0.9310 - student_loss: 0.3414 - distillation_loss: 0.0118"
          ]
        },
        {
          "output_type": "stream",
          "name": "stderr",
          "text": [
            "WARNING:tensorflow:Early stopping conditioned on metric `val_loss` which is not available. Available metrics are: categorical_accuracy,auc,student_loss,distillation_loss,val_categorical_accuracy,val_auc,val_student_loss\n"
          ]
        },
        {
          "output_type": "stream",
          "name": "stdout",
          "text": [
            "\b\b\b\b\b\b\b\b\b\b\b\b\b\b\b\b\b\b\b\b\b\b\b\b\b\b\b\b\b\b\b\b\b\b\b\b\b\b\b\b\b\b\b\b\b\b\b\b\b\b\b\b\b\b\b\b\b\b\b\b\b\b\b\b\b\b\b\b\b\b\b\b\b\b\b\b\b\b\b\b\b\b\b\b\b\b\b\b\b\b\b\b\b\b\b\b\b\b\b\b\b\b\b\b\b\b\b\b\b\b\b\b\b\b\b\b\b\b\b\b\b\b\b\b\b\b\b\b\b\b\b\b\b\b\b\b\b\b\b\b\b\b\b\b\b\b\r154/154 [==============================] - 3s 20ms/step - categorical_accuracy: 0.8584 - auc: 0.9310 - student_loss: 0.3433 - distillation_loss: 0.0117 - val_categorical_accuracy: 0.8434 - val_auc: 0.9261 - val_student_loss: 0.1085\n",
            "Epoch 13/100\n",
            "154/154 [==============================] - ETA: 0s - categorical_accuracy: 0.8637 - auc: 0.9322 - student_loss: 0.3387 - distillation_loss: 0.0120"
          ]
        },
        {
          "output_type": "stream",
          "name": "stderr",
          "text": [
            "WARNING:tensorflow:Early stopping conditioned on metric `val_loss` which is not available. Available metrics are: categorical_accuracy,auc,student_loss,distillation_loss,val_categorical_accuracy,val_auc,val_student_loss\n"
          ]
        },
        {
          "output_type": "stream",
          "name": "stdout",
          "text": [
            "\b\b\b\b\b\b\b\b\b\b\b\b\b\b\b\b\b\b\b\b\b\b\b\b\b\b\b\b\b\b\b\b\b\b\b\b\b\b\b\b\b\b\b\b\b\b\b\b\b\b\b\b\b\b\b\b\b\b\b\b\b\b\b\b\b\b\b\b\b\b\b\b\b\b\b\b\b\b\b\b\b\b\b\b\b\b\b\b\b\b\b\b\b\b\b\b\b\b\b\b\b\b\b\b\b\b\b\b\b\b\b\b\b\b\b\b\b\b\b\b\b\b\b\b\b\b\b\b\b\b\b\b\b\b\b\b\b\b\b\b\b\b\b\b\b\b\r154/154 [==============================] - 3s 21ms/step - categorical_accuracy: 0.8637 - auc: 0.9322 - student_loss: 0.3407 - distillation_loss: 0.0120 - val_categorical_accuracy: 0.8418 - val_auc: 0.9123 - val_student_loss: 0.1371\n",
            "Epoch 14/100\n",
            "151/154 [============================>.] - ETA: 0s - categorical_accuracy: 0.8593 - auc: 0.9335 - student_loss: 0.3343 - distillation_loss: 0.0113"
          ]
        },
        {
          "output_type": "stream",
          "name": "stderr",
          "text": [
            "WARNING:tensorflow:Early stopping conditioned on metric `val_loss` which is not available. Available metrics are: categorical_accuracy,auc,student_loss,distillation_loss,val_categorical_accuracy,val_auc,val_student_loss\n"
          ]
        },
        {
          "output_type": "stream",
          "name": "stdout",
          "text": [
            "\b\b\b\b\b\b\b\b\b\b\b\b\b\b\b\b\b\b\b\b\b\b\b\b\b\b\b\b\b\b\b\b\b\b\b\b\b\b\b\b\b\b\b\b\b\b\b\b\b\b\b\b\b\b\b\b\b\b\b\b\b\b\b\b\b\b\b\b\b\b\b\b\b\b\b\b\b\b\b\b\b\b\b\b\b\b\b\b\b\b\b\b\b\b\b\b\b\b\b\b\b\b\b\b\b\b\b\b\b\b\b\b\b\b\b\b\b\b\b\b\b\b\b\b\b\b\b\b\b\b\b\b\b\b\b\b\b\b\b\b\b\b\b\b\b\b\r154/154 [==============================] - 3s 20ms/step - categorical_accuracy: 0.8601 - auc: 0.9337 - student_loss: 0.3322 - distillation_loss: 0.0116 - val_categorical_accuracy: 0.8434 - val_auc: 0.9230 - val_student_loss: 0.1165\n",
            "Epoch 15/100\n",
            "151/154 [============================>.] - ETA: 0s - categorical_accuracy: 0.8576 - auc: 0.9326 - student_loss: 0.3353 - distillation_loss: 0.0113"
          ]
        },
        {
          "output_type": "stream",
          "name": "stderr",
          "text": [
            "WARNING:tensorflow:Early stopping conditioned on metric `val_loss` which is not available. Available metrics are: categorical_accuracy,auc,student_loss,distillation_loss,val_categorical_accuracy,val_auc,val_student_loss\n"
          ]
        },
        {
          "output_type": "stream",
          "name": "stdout",
          "text": [
            "\b\b\b\b\b\b\b\b\b\b\b\b\b\b\b\b\b\b\b\b\b\b\b\b\b\b\b\b\b\b\b\b\b\b\b\b\b\b\b\b\b\b\b\b\b\b\b\b\b\b\b\b\b\b\b\b\b\b\b\b\b\b\b\b\b\b\b\b\b\b\b\b\b\b\b\b\b\b\b\b\b\b\b\b\b\b\b\b\b\b\b\b\b\b\b\b\b\b\b\b\b\b\b\b\b\b\b\b\b\b\b\b\b\b\b\b\b\b\b\b\b\b\b\b\b\b\b\b\b\b\b\b\b\b\b\b\b\b\b\b\b\b\b\b\b\b\r154/154 [==============================] - 3s 19ms/step - categorical_accuracy: 0.8564 - auc: 0.9326 - student_loss: 0.3330 - distillation_loss: 0.0113 - val_categorical_accuracy: 0.8434 - val_auc: 0.9225 - val_student_loss: 0.1084\n",
            "Epoch 16/100\n",
            "153/154 [============================>.] - ETA: 0s - categorical_accuracy: 0.8672 - auc: 0.9362 - student_loss: 0.3268 - distillation_loss: 0.0115"
          ]
        },
        {
          "output_type": "stream",
          "name": "stderr",
          "text": [
            "WARNING:tensorflow:Early stopping conditioned on metric `val_loss` which is not available. Available metrics are: categorical_accuracy,auc,student_loss,distillation_loss,val_categorical_accuracy,val_auc,val_student_loss\n"
          ]
        },
        {
          "output_type": "stream",
          "name": "stdout",
          "text": [
            "\b\b\b\b\b\b\b\b\b\b\b\b\b\b\b\b\b\b\b\b\b\b\b\b\b\b\b\b\b\b\b\b\b\b\b\b\b\b\b\b\b\b\b\b\b\b\b\b\b\b\b\b\b\b\b\b\b\b\b\b\b\b\b\b\b\b\b\b\b\b\b\b\b\b\b\b\b\b\b\b\b\b\b\b\b\b\b\b\b\b\b\b\b\b\b\b\b\b\b\b\b\b\b\b\b\b\b\b\b\b\b\b\b\b\b\b\b\b\b\b\b\b\b\b\b\b\b\b\b\b\b\b\b\b\b\b\b\b\b\b\b\b\b\b\b\b\r154/154 [==============================] - 3s 20ms/step - categorical_accuracy: 0.8670 - auc: 0.9362 - student_loss: 0.3269 - distillation_loss: 0.0115 - val_categorical_accuracy: 0.8434 - val_auc: 0.9278 - val_student_loss: 0.1019\n",
            "Epoch 17/100\n",
            "152/154 [============================>.] - ETA: 0s - categorical_accuracy: 0.8684 - auc: 0.9358 - student_loss: 0.3276 - distillation_loss: 0.0109"
          ]
        },
        {
          "output_type": "stream",
          "name": "stderr",
          "text": [
            "WARNING:tensorflow:Early stopping conditioned on metric `val_loss` which is not available. Available metrics are: categorical_accuracy,auc,student_loss,distillation_loss,val_categorical_accuracy,val_auc,val_student_loss\n"
          ]
        },
        {
          "output_type": "stream",
          "name": "stdout",
          "text": [
            "\b\b\b\b\b\b\b\b\b\b\b\b\b\b\b\b\b\b\b\b\b\b\b\b\b\b\b\b\b\b\b\b\b\b\b\b\b\b\b\b\b\b\b\b\b\b\b\b\b\b\b\b\b\b\b\b\b\b\b\b\b\b\b\b\b\b\b\b\b\b\b\b\b\b\b\b\b\b\b\b\b\b\b\b\b\b\b\b\b\b\b\b\b\b\b\b\b\b\b\b\b\b\b\b\b\b\b\b\b\b\b\b\b\b\b\b\b\b\b\b\b\b\b\b\b\b\b\b\b\b\b\b\b\b\b\b\b\b\b\b\b\b\b\b\b\b\r154/154 [==============================] - 3s 21ms/step - categorical_accuracy: 0.8670 - auc: 0.9348 - student_loss: 0.3277 - distillation_loss: 0.0108 - val_categorical_accuracy: 0.8385 - val_auc: 0.9242 - val_student_loss: 0.1144\n",
            "Epoch 18/100\n",
            "154/154 [==============================] - ETA: 0s - categorical_accuracy: 0.8698 - auc: 0.9392 - student_loss: 0.3238 - distillation_loss: 0.0112"
          ]
        },
        {
          "output_type": "stream",
          "name": "stderr",
          "text": [
            "WARNING:tensorflow:Early stopping conditioned on metric `val_loss` which is not available. Available metrics are: categorical_accuracy,auc,student_loss,distillation_loss,val_categorical_accuracy,val_auc,val_student_loss\n"
          ]
        },
        {
          "output_type": "stream",
          "name": "stdout",
          "text": [
            "\b\b\b\b\b\b\b\b\b\b\b\b\b\b\b\b\b\b\b\b\b\b\b\b\b\b\b\b\b\b\b\b\b\b\b\b\b\b\b\b\b\b\b\b\b\b\b\b\b\b\b\b\b\b\b\b\b\b\b\b\b\b\b\b\b\b\b\b\b\b\b\b\b\b\b\b\b\b\b\b\b\b\b\b\b\b\b\b\b\b\b\b\b\b\b\b\b\b\b\b\b\b\b\b\b\b\b\b\b\b\b\b\b\b\b\b\b\b\b\b\b\b\b\b\b\b\b\b\b\b\b\b\b\b\b\b\b\b\b\b\b\b\b\b\b\b\r154/154 [==============================] - 3s 20ms/step - categorical_accuracy: 0.8698 - auc: 0.9392 - student_loss: 0.3280 - distillation_loss: 0.0112 - val_categorical_accuracy: 0.8450 - val_auc: 0.9196 - val_student_loss: 0.1121\n",
            "Epoch 19/100\n",
            "154/154 [==============================] - ETA: 0s - categorical_accuracy: 0.8719 - auc: 0.9388 - student_loss: 0.3242 - distillation_loss: 0.0107"
          ]
        },
        {
          "output_type": "stream",
          "name": "stderr",
          "text": [
            "WARNING:tensorflow:Early stopping conditioned on metric `val_loss` which is not available. Available metrics are: categorical_accuracy,auc,student_loss,distillation_loss,val_categorical_accuracy,val_auc,val_student_loss\n"
          ]
        },
        {
          "output_type": "stream",
          "name": "stdout",
          "text": [
            "\b\b\b\b\b\b\b\b\b\b\b\b\b\b\b\b\b\b\b\b\b\b\b\b\b\b\b\b\b\b\b\b\b\b\b\b\b\b\b\b\b\b\b\b\b\b\b\b\b\b\b\b\b\b\b\b\b\b\b\b\b\b\b\b\b\b\b\b\b\b\b\b\b\b\b\b\b\b\b\b\b\b\b\b\b\b\b\b\b\b\b\b\b\b\b\b\b\b\b\b\b\b\b\b\b\b\b\b\b\b\b\b\b\b\b\b\b\b\b\b\b\b\b\b\b\b\b\b\b\b\b\b\b\b\b\b\b\b\b\b\b\b\b\b\b\b\r154/154 [==============================] - 3s 20ms/step - categorical_accuracy: 0.8719 - auc: 0.9388 - student_loss: 0.3285 - distillation_loss: 0.0106 - val_categorical_accuracy: 0.8450 - val_auc: 0.9248 - val_student_loss: 0.1092\n",
            "Epoch 20/100\n",
            "154/154 [==============================] - ETA: 0s - categorical_accuracy: 0.8719 - auc: 0.9407 - student_loss: 0.3153 - distillation_loss: 0.0111"
          ]
        },
        {
          "output_type": "stream",
          "name": "stderr",
          "text": [
            "WARNING:tensorflow:Early stopping conditioned on metric `val_loss` which is not available. Available metrics are: categorical_accuracy,auc,student_loss,distillation_loss,val_categorical_accuracy,val_auc,val_student_loss\n"
          ]
        },
        {
          "output_type": "stream",
          "name": "stdout",
          "text": [
            "\b\b\b\b\b\b\b\b\b\b\b\b\b\b\b\b\b\b\b\b\b\b\b\b\b\b\b\b\b\b\b\b\b\b\b\b\b\b\b\b\b\b\b\b\b\b\b\b\b\b\b\b\b\b\b\b\b\b\b\b\b\b\b\b\b\b\b\b\b\b\b\b\b\b\b\b\b\b\b\b\b\b\b\b\b\b\b\b\b\b\b\b\b\b\b\b\b\b\b\b\b\b\b\b\b\b\b\b\b\b\b\b\b\b\b\b\b\b\b\b\b\b\b\b\b\b\b\b\b\b\b\b\b\b\b\b\b\b\b\b\b\b\b\b\b\b\r154/154 [==============================] - 3s 20ms/step - categorical_accuracy: 0.8719 - auc: 0.9407 - student_loss: 0.3146 - distillation_loss: 0.0115 - val_categorical_accuracy: 0.8532 - val_auc: 0.9270 - val_student_loss: 0.1081\n",
            "Epoch 21/100\n",
            "154/154 [==============================] - ETA: 0s - categorical_accuracy: 0.8739 - auc: 0.9417 - student_loss: 0.3124 - distillation_loss: 0.0109"
          ]
        },
        {
          "output_type": "stream",
          "name": "stderr",
          "text": [
            "WARNING:tensorflow:Early stopping conditioned on metric `val_loss` which is not available. Available metrics are: categorical_accuracy,auc,student_loss,distillation_loss,val_categorical_accuracy,val_auc,val_student_loss\n"
          ]
        },
        {
          "output_type": "stream",
          "name": "stdout",
          "text": [
            "\b\b\b\b\b\b\b\b\b\b\b\b\b\b\b\b\b\b\b\b\b\b\b\b\b\b\b\b\b\b\b\b\b\b\b\b\b\b\b\b\b\b\b\b\b\b\b\b\b\b\b\b\b\b\b\b\b\b\b\b\b\b\b\b\b\b\b\b\b\b\b\b\b\b\b\b\b\b\b\b\b\b\b\b\b\b\b\b\b\b\b\b\b\b\b\b\b\b\b\b\b\b\b\b\b\b\b\b\b\b\b\b\b\b\b\b\b\b\b\b\b\b\b\b\b\b\b\b\b\b\b\b\b\b\b\b\b\b\b\b\b\b\b\b\b\b\r154/154 [==============================] - 3s 20ms/step - categorical_accuracy: 0.8739 - auc: 0.9417 - student_loss: 0.3116 - distillation_loss: 0.0112 - val_categorical_accuracy: 0.8483 - val_auc: 0.9314 - val_student_loss: 0.1039\n",
            "Epoch 22/100\n",
            "154/154 [==============================] - ETA: 0s - categorical_accuracy: 0.8719 - auc: 0.9400 - student_loss: 0.3213 - distillation_loss: 0.0103"
          ]
        },
        {
          "output_type": "stream",
          "name": "stderr",
          "text": [
            "WARNING:tensorflow:Early stopping conditioned on metric `val_loss` which is not available. Available metrics are: categorical_accuracy,auc,student_loss,distillation_loss,val_categorical_accuracy,val_auc,val_student_loss\n"
          ]
        },
        {
          "output_type": "stream",
          "name": "stdout",
          "text": [
            "\b\b\b\b\b\b\b\b\b\b\b\b\b\b\b\b\b\b\b\b\b\b\b\b\b\b\b\b\b\b\b\b\b\b\b\b\b\b\b\b\b\b\b\b\b\b\b\b\b\b\b\b\b\b\b\b\b\b\b\b\b\b\b\b\b\b\b\b\b\b\b\b\b\b\b\b\b\b\b\b\b\b\b\b\b\b\b\b\b\b\b\b\b\b\b\b\b\b\b\b\b\b\b\b\b\b\b\b\b\b\b\b\b\b\b\b\b\b\b\b\b\b\b\b\b\b\b\b\b\b\b\b\b\b\b\b\b\b\b\b\b\b\b\b\b\b\r154/154 [==============================] - 3s 20ms/step - categorical_accuracy: 0.8719 - auc: 0.9400 - student_loss: 0.3261 - distillation_loss: 0.0103 - val_categorical_accuracy: 0.8499 - val_auc: 0.9294 - val_student_loss: 0.1007\n",
            "Epoch 23/100\n",
            "153/154 [============================>.] - ETA: 0s - categorical_accuracy: 0.8758 - auc: 0.9434 - student_loss: 0.3102 - distillation_loss: 0.0105"
          ]
        },
        {
          "output_type": "stream",
          "name": "stderr",
          "text": [
            "WARNING:tensorflow:Early stopping conditioned on metric `val_loss` which is not available. Available metrics are: categorical_accuracy,auc,student_loss,distillation_loss,val_categorical_accuracy,val_auc,val_student_loss\n"
          ]
        },
        {
          "output_type": "stream",
          "name": "stdout",
          "text": [
            "\b\b\b\b\b\b\b\b\b\b\b\b\b\b\b\b\b\b\b\b\b\b\b\b\b\b\b\b\b\b\b\b\b\b\b\b\b\b\b\b\b\b\b\b\b\b\b\b\b\b\b\b\b\b\b\b\b\b\b\b\b\b\b\b\b\b\b\b\b\b\b\b\b\b\b\b\b\b\b\b\b\b\b\b\b\b\b\b\b\b\b\b\b\b\b\b\b\b\b\b\b\b\b\b\b\b\b\b\b\b\b\b\b\b\b\b\b\b\b\b\b\b\b\b\b\b\b\b\b\b\b\b\b\b\b\b\b\b\b\b\b\b\b\b\b\b\r154/154 [==============================] - 3s 19ms/step - categorical_accuracy: 0.8760 - auc: 0.9435 - student_loss: 0.3086 - distillation_loss: 0.0104 - val_categorical_accuracy: 0.8483 - val_auc: 0.9276 - val_student_loss: 0.1038\n",
            "Epoch 24/100\n",
            "152/154 [============================>.] - ETA: 0s - categorical_accuracy: 0.8791 - auc: 0.9427 - student_loss: 0.3100 - distillation_loss: 0.0105"
          ]
        },
        {
          "output_type": "stream",
          "name": "stderr",
          "text": [
            "WARNING:tensorflow:Early stopping conditioned on metric `val_loss` which is not available. Available metrics are: categorical_accuracy,auc,student_loss,distillation_loss,val_categorical_accuracy,val_auc,val_student_loss\n"
          ]
        },
        {
          "output_type": "stream",
          "name": "stdout",
          "text": [
            "\b\b\b\b\b\b\b\b\b\b\b\b\b\b\b\b\b\b\b\b\b\b\b\b\b\b\b\b\b\b\b\b\b\b\b\b\b\b\b\b\b\b\b\b\b\b\b\b\b\b\b\b\b\b\b\b\b\b\b\b\b\b\b\b\b\b\b\b\b\b\b\b\b\b\b\b\b\b\b\b\b\b\b\b\b\b\b\b\b\b\b\b\b\b\b\b\b\b\b\b\b\b\b\b\b\b\b\b\b\b\b\b\b\b\b\b\b\b\b\b\b\b\b\b\b\b\b\b\b\b\b\b\b\b\b\b\b\b\b\b\b\b\b\b\b\b\r154/154 [==============================] - 3s 19ms/step - categorical_accuracy: 0.8792 - auc: 0.9430 - student_loss: 0.3129 - distillation_loss: 0.0107 - val_categorical_accuracy: 0.8467 - val_auc: 0.9291 - val_student_loss: 0.0999\n",
            "Epoch 25/100\n",
            "152/154 [============================>.] - ETA: 0s - categorical_accuracy: 0.8709 - auc: 0.9408 - student_loss: 0.3146 - distillation_loss: 0.0101"
          ]
        },
        {
          "output_type": "stream",
          "name": "stderr",
          "text": [
            "WARNING:tensorflow:Early stopping conditioned on metric `val_loss` which is not available. Available metrics are: categorical_accuracy,auc,student_loss,distillation_loss,val_categorical_accuracy,val_auc,val_student_loss\n"
          ]
        },
        {
          "output_type": "stream",
          "name": "stdout",
          "text": [
            "\b\b\b\b\b\b\b\b\b\b\b\b\b\b\b\b\b\b\b\b\b\b\b\b\b\b\b\b\b\b\b\b\b\b\b\b\b\b\b\b\b\b\b\b\b\b\b\b\b\b\b\b\b\b\b\b\b\b\b\b\b\b\b\b\b\b\b\b\b\b\b\b\b\b\b\b\b\b\b\b\b\b\b\b\b\b\b\b\b\b\b\b\b\b\b\b\b\b\b\b\b\b\b\b\b\b\b\b\b\b\b\b\b\b\b\b\b\b\b\b\b\b\b\b\b\b\b\b\b\b\b\b\b\b\b\b\b\b\b\b\b\b\b\b\b\b\r154/154 [==============================] - 3s 20ms/step - categorical_accuracy: 0.8707 - auc: 0.9405 - student_loss: 0.3139 - distillation_loss: 0.0100 - val_categorical_accuracy: 0.8467 - val_auc: 0.9204 - val_student_loss: 0.1127\n",
            "Epoch 26/100\n",
            "153/154 [============================>.] - ETA: 0s - categorical_accuracy: 0.8742 - auc: 0.9439 - student_loss: 0.3090 - distillation_loss: 0.0099"
          ]
        },
        {
          "output_type": "stream",
          "name": "stderr",
          "text": [
            "WARNING:tensorflow:Early stopping conditioned on metric `val_loss` which is not available. Available metrics are: categorical_accuracy,auc,student_loss,distillation_loss,val_categorical_accuracy,val_auc,val_student_loss\n"
          ]
        },
        {
          "output_type": "stream",
          "name": "stdout",
          "text": [
            "\b\b\b\b\b\b\b\b\b\b\b\b\b\b\b\b\b\b\b\b\b\b\b\b\b\b\b\b\b\b\b\b\b\b\b\b\b\b\b\b\b\b\b\b\b\b\b\b\b\b\b\b\b\b\b\b\b\b\b\b\b\b\b\b\b\b\b\b\b\b\b\b\b\b\b\b\b\b\b\b\b\b\b\b\b\b\b\b\b\b\b\b\b\b\b\b\b\b\b\b\b\b\b\b\b\b\b\b\b\b\b\b\b\b\b\b\b\b\b\b\b\b\b\b\b\b\b\b\b\b\b\b\b\b\b\b\b\b\b\b\b\b\b\b\b\b\r154/154 [==============================] - 3s 20ms/step - categorical_accuracy: 0.8743 - auc: 0.9439 - student_loss: 0.3082 - distillation_loss: 0.0099 - val_categorical_accuracy: 0.8434 - val_auc: 0.9240 - val_student_loss: 0.1082\n",
            "Epoch 27/100\n",
            "153/154 [============================>.] - ETA: 0s - categorical_accuracy: 0.8758 - auc: 0.9455 - student_loss: 0.3055 - distillation_loss: 0.0104"
          ]
        },
        {
          "output_type": "stream",
          "name": "stderr",
          "text": [
            "WARNING:tensorflow:Early stopping conditioned on metric `val_loss` which is not available. Available metrics are: categorical_accuracy,auc,student_loss,distillation_loss,val_categorical_accuracy,val_auc,val_student_loss\n"
          ]
        },
        {
          "output_type": "stream",
          "name": "stdout",
          "text": [
            "\b\b\b\b\b\b\b\b\b\b\b\b\b\b\b\b\b\b\b\b\b\b\b\b\b\b\b\b\b\b\b\b\b\b\b\b\b\b\b\b\b\b\b\b\b\b\b\b\b\b\b\b\b\b\b\b\b\b\b\b\b\b\b\b\b\b\b\b\b\b\b\b\b\b\b\b\b\b\b\b\b\b\b\b\b\b\b\b\b\b\b\b\b\b\b\b\b\b\b\b\b\b\b\b\b\b\b\b\b\b\b\b\b\b\b\b\b\b\b\b\b\b\b\b\b\b\b\b\b\b\b\b\b\b\b\b\b\b\b\b\b\b\b\b\b\b\r154/154 [==============================] - 3s 19ms/step - categorical_accuracy: 0.8760 - auc: 0.9456 - student_loss: 0.3034 - distillation_loss: 0.0103 - val_categorical_accuracy: 0.8499 - val_auc: 0.9303 - val_student_loss: 0.0971\n",
            "Epoch 28/100\n",
            "154/154 [==============================] - ETA: 0s - categorical_accuracy: 0.8739 - auc: 0.9454 - student_loss: 0.3035 - distillation_loss: 0.0099"
          ]
        },
        {
          "output_type": "stream",
          "name": "stderr",
          "text": [
            "WARNING:tensorflow:Early stopping conditioned on metric `val_loss` which is not available. Available metrics are: categorical_accuracy,auc,student_loss,distillation_loss,val_categorical_accuracy,val_auc,val_student_loss\n"
          ]
        },
        {
          "output_type": "stream",
          "name": "stdout",
          "text": [
            "\b\b\b\b\b\b\b\b\b\b\b\b\b\b\b\b\b\b\b\b\b\b\b\b\b\b\b\b\b\b\b\b\b\b\b\b\b\b\b\b\b\b\b\b\b\b\b\b\b\b\b\b\b\b\b\b\b\b\b\b\b\b\b\b\b\b\b\b\b\b\b\b\b\b\b\b\b\b\b\b\b\b\b\b\b\b\b\b\b\b\b\b\b\b\b\b\b\b\b\b\b\b\b\b\b\b\b\b\b\b\b\b\b\b\b\b\b\b\b\b\b\b\b\b\b\b\b\b\b\b\b\b\b\b\b\b\b\b\b\b\b\b\b\b\b\b\r154/154 [==============================] - 3s 19ms/step - categorical_accuracy: 0.8739 - auc: 0.9454 - student_loss: 0.3023 - distillation_loss: 0.0099 - val_categorical_accuracy: 0.8532 - val_auc: 0.9299 - val_student_loss: 0.0966\n",
            "Epoch 29/100\n",
            "151/154 [============================>.] - ETA: 0s - categorical_accuracy: 0.8825 - auc: 0.9484 - student_loss: 0.2972 - distillation_loss: 0.0100"
          ]
        },
        {
          "output_type": "stream",
          "name": "stderr",
          "text": [
            "WARNING:tensorflow:Early stopping conditioned on metric `val_loss` which is not available. Available metrics are: categorical_accuracy,auc,student_loss,distillation_loss,val_categorical_accuracy,val_auc,val_student_loss\n"
          ]
        },
        {
          "output_type": "stream",
          "name": "stdout",
          "text": [
            "\b\b\b\b\b\b\b\b\b\b\b\b\b\b\b\b\b\b\b\b\b\b\b\b\b\b\b\b\b\b\b\b\b\b\b\b\b\b\b\b\b\b\b\b\b\b\b\b\b\b\b\b\b\b\b\b\b\b\b\b\b\b\b\b\b\b\b\b\b\b\b\b\b\b\b\b\b\b\b\b\b\b\b\b\b\b\b\b\b\b\b\b\b\b\b\b\b\b\b\b\b\b\b\b\b\b\b\b\b\b\b\b\b\b\b\b\b\b\b\b\b\b\b\b\b\b\b\b\b\b\b\b\b\b\b\b\b\b\b\b\b\b\b\b\b\b\r154/154 [==============================] - 3s 20ms/step - categorical_accuracy: 0.8833 - auc: 0.9491 - student_loss: 0.2957 - distillation_loss: 0.0100 - val_categorical_accuracy: 0.8418 - val_auc: 0.9245 - val_student_loss: 0.1057\n",
            "Epoch 30/100\n",
            "154/154 [==============================] - ETA: 0s - categorical_accuracy: 0.8764 - auc: 0.9472 - student_loss: 0.2987 - distillation_loss: 0.0101"
          ]
        },
        {
          "output_type": "stream",
          "name": "stderr",
          "text": [
            "WARNING:tensorflow:Early stopping conditioned on metric `val_loss` which is not available. Available metrics are: categorical_accuracy,auc,student_loss,distillation_loss,val_categorical_accuracy,val_auc,val_student_loss\n"
          ]
        },
        {
          "output_type": "stream",
          "name": "stdout",
          "text": [
            "\b\b\b\b\b\b\b\b\b\b\b\b\b\b\b\b\b\b\b\b\b\b\b\b\b\b\b\b\b\b\b\b\b\b\b\b\b\b\b\b\b\b\b\b\b\b\b\b\b\b\b\b\b\b\b\b\b\b\b\b\b\b\b\b\b\b\b\b\b\b\b\b\b\b\b\b\b\b\b\b\b\b\b\b\b\b\b\b\b\b\b\b\b\b\b\b\b\b\b\b\b\b\b\b\b\b\b\b\b\b\b\b\b\b\b\b\b\b\b\b\b\b\b\b\b\b\b\b\b\b\b\b\b\b\b\b\b\b\b\b\b\b\b\b\b\b\r154/154 [==============================] - 3s 21ms/step - categorical_accuracy: 0.8764 - auc: 0.9472 - student_loss: 0.2973 - distillation_loss: 0.0103 - val_categorical_accuracy: 0.8515 - val_auc: 0.9236 - val_student_loss: 0.1126\n",
            "Epoch 31/100\n",
            "154/154 [==============================] - ETA: 0s - categorical_accuracy: 0.8829 - auc: 0.9476 - student_loss: 0.2979 - distillation_loss: 0.0098"
          ]
        },
        {
          "output_type": "stream",
          "name": "stderr",
          "text": [
            "WARNING:tensorflow:Early stopping conditioned on metric `val_loss` which is not available. Available metrics are: categorical_accuracy,auc,student_loss,distillation_loss,val_categorical_accuracy,val_auc,val_student_loss\n"
          ]
        },
        {
          "output_type": "stream",
          "name": "stdout",
          "text": [
            "\b\b\b\b\b\b\b\b\b\b\b\b\b\b\b\b\b\b\b\b\b\b\b\b\b\b\b\b\b\b\b\b\b\b\b\b\b\b\b\b\b\b\b\b\b\b\b\b\b\b\b\b\b\b\b\b\b\b\b\b\b\b\b\b\b\b\b\b\b\b\b\b\b\b\b\b\b\b\b\b\b\b\b\b\b\b\b\b\b\b\b\b\b\b\b\b\b\b\b\b\b\b\b\b\b\b\b\b\b\b\b\b\b\b\b\b\b\b\b\b\b\b\b\b\b\b\b\b\b\b\b\b\b\b\b\b\b\b\b\b\b\b\b\b\b\b\r154/154 [==============================] - 3s 19ms/step - categorical_accuracy: 0.8829 - auc: 0.9476 - student_loss: 0.2964 - distillation_loss: 0.0098 - val_categorical_accuracy: 0.8483 - val_auc: 0.9212 - val_student_loss: 0.1101\n",
            "Epoch 32/100\n",
            "151/154 [============================>.] - ETA: 0s - categorical_accuracy: 0.8804 - auc: 0.9485 - student_loss: 0.2974 - distillation_loss: 0.0097"
          ]
        },
        {
          "output_type": "stream",
          "name": "stderr",
          "text": [
            "WARNING:tensorflow:Early stopping conditioned on metric `val_loss` which is not available. Available metrics are: categorical_accuracy,auc,student_loss,distillation_loss,val_categorical_accuracy,val_auc,val_student_loss\n"
          ]
        },
        {
          "output_type": "stream",
          "name": "stdout",
          "text": [
            "\b\b\b\b\b\b\b\b\b\b\b\b\b\b\b\b\b\b\b\b\b\b\b\b\b\b\b\b\b\b\b\b\b\b\b\b\b\b\b\b\b\b\b\b\b\b\b\b\b\b\b\b\b\b\b\b\b\b\b\b\b\b\b\b\b\b\b\b\b\b\b\b\b\b\b\b\b\b\b\b\b\b\b\b\b\b\b\b\b\b\b\b\b\b\b\b\b\b\b\b\b\b\b\b\b\b\b\b\b\b\b\b\b\b\b\b\b\b\b\b\b\b\b\b\b\b\b\b\b\b\b\b\b\b\b\b\b\b\b\b\b\b\b\b\b\b\r154/154 [==============================] - 3s 19ms/step - categorical_accuracy: 0.8800 - auc: 0.9482 - student_loss: 0.2978 - distillation_loss: 0.0096 - val_categorical_accuracy: 0.8467 - val_auc: 0.9265 - val_student_loss: 0.1045\n",
            "Epoch 33/100\n",
            "154/154 [==============================] - ETA: 0s - categorical_accuracy: 0.8833 - auc: 0.9477 - student_loss: 0.3010 - distillation_loss: 0.0095"
          ]
        },
        {
          "output_type": "stream",
          "name": "stderr",
          "text": [
            "WARNING:tensorflow:Early stopping conditioned on metric `val_loss` which is not available. Available metrics are: categorical_accuracy,auc,student_loss,distillation_loss,val_categorical_accuracy,val_auc,val_student_loss\n"
          ]
        },
        {
          "output_type": "stream",
          "name": "stdout",
          "text": [
            "\b\b\b\b\b\b\b\b\b\b\b\b\b\b\b\b\b\b\b\b\b\b\b\b\b\b\b\b\b\b\b\b\b\b\b\b\b\b\b\b\b\b\b\b\b\b\b\b\b\b\b\b\b\b\b\b\b\b\b\b\b\b\b\b\b\b\b\b\b\b\b\b\b\b\b\b\b\b\b\b\b\b\b\b\b\b\b\b\b\b\b\b\b\b\b\b\b\b\b\b\b\b\b\b\b\b\b\b\b\b\b\b\b\b\b\b\b\b\b\b\b\b\b\b\b\b\b\b\b\b\b\b\b\b\b\b\b\b\b\b\b\b\b\b\b\b\r154/154 [==============================] - 3s 19ms/step - categorical_accuracy: 0.8833 - auc: 0.9477 - student_loss: 0.3044 - distillation_loss: 0.0095 - val_categorical_accuracy: 0.8515 - val_auc: 0.9271 - val_student_loss: 0.1048\n",
            "Epoch 34/100\n",
            "154/154 [==============================] - ETA: 0s - categorical_accuracy: 0.8796 - auc: 0.9478 - student_loss: 0.2996 - distillation_loss: 0.0097"
          ]
        },
        {
          "output_type": "stream",
          "name": "stderr",
          "text": [
            "WARNING:tensorflow:Early stopping conditioned on metric `val_loss` which is not available. Available metrics are: categorical_accuracy,auc,student_loss,distillation_loss,val_categorical_accuracy,val_auc,val_student_loss\n"
          ]
        },
        {
          "output_type": "stream",
          "name": "stdout",
          "text": [
            "\b\b\b\b\b\b\b\b\b\b\b\b\b\b\b\b\b\b\b\b\b\b\b\b\b\b\b\b\b\b\b\b\b\b\b\b\b\b\b\b\b\b\b\b\b\b\b\b\b\b\b\b\b\b\b\b\b\b\b\b\b\b\b\b\b\b\b\b\b\b\b\b\b\b\b\b\b\b\b\b\b\b\b\b\b\b\b\b\b\b\b\b\b\b\b\b\b\b\b\b\b\b\b\b\b\b\b\b\b\b\b\b\b\b\b\b\b\b\b\b\b\b\b\b\b\b\b\b\b\b\b\b\b\b\b\b\b\b\b\b\b\b\b\b\b\b\r154/154 [==============================] - 3s 21ms/step - categorical_accuracy: 0.8796 - auc: 0.9478 - student_loss: 0.3000 - distillation_loss: 0.0097 - val_categorical_accuracy: 0.8515 - val_auc: 0.9329 - val_student_loss: 0.0985\n",
            "Epoch 35/100\n",
            "153/154 [============================>.] - ETA: 0s - categorical_accuracy: 0.8844 - auc: 0.9510 - student_loss: 0.2909 - distillation_loss: 0.0097"
          ]
        },
        {
          "output_type": "stream",
          "name": "stderr",
          "text": [
            "WARNING:tensorflow:Early stopping conditioned on metric `val_loss` which is not available. Available metrics are: categorical_accuracy,auc,student_loss,distillation_loss,val_categorical_accuracy,val_auc,val_student_loss\n"
          ]
        },
        {
          "output_type": "stream",
          "name": "stdout",
          "text": [
            "\b\b\b\b\b\b\b\b\b\b\b\b\b\b\b\b\b\b\b\b\b\b\b\b\b\b\b\b\b\b\b\b\b\b\b\b\b\b\b\b\b\b\b\b\b\b\b\b\b\b\b\b\b\b\b\b\b\b\b\b\b\b\b\b\b\b\b\b\b\b\b\b\b\b\b\b\b\b\b\b\b\b\b\b\b\b\b\b\b\b\b\b\b\b\b\b\b\b\b\b\b\b\b\b\b\b\b\b\b\b\b\b\b\b\b\b\b\b\b\b\b\b\b\b\b\b\b\b\b\b\b\b\b\b\b\b\b\b\b\b\b\b\b\b\b\b\r154/154 [==============================] - 3s 19ms/step - categorical_accuracy: 0.8841 - auc: 0.9508 - student_loss: 0.2954 - distillation_loss: 0.0096 - val_categorical_accuracy: 0.8467 - val_auc: 0.9243 - val_student_loss: 0.1138\n",
            "Epoch 36/100\n",
            "154/154 [==============================] - ETA: 0s - categorical_accuracy: 0.8800 - auc: 0.9501 - student_loss: 0.2933 - distillation_loss: 0.0095"
          ]
        },
        {
          "output_type": "stream",
          "name": "stderr",
          "text": [
            "WARNING:tensorflow:Early stopping conditioned on metric `val_loss` which is not available. Available metrics are: categorical_accuracy,auc,student_loss,distillation_loss,val_categorical_accuracy,val_auc,val_student_loss\n"
          ]
        },
        {
          "output_type": "stream",
          "name": "stdout",
          "text": [
            "\b\b\b\b\b\b\b\b\b\b\b\b\b\b\b\b\b\b\b\b\b\b\b\b\b\b\b\b\b\b\b\b\b\b\b\b\b\b\b\b\b\b\b\b\b\b\b\b\b\b\b\b\b\b\b\b\b\b\b\b\b\b\b\b\b\b\b\b\b\b\b\b\b\b\b\b\b\b\b\b\b\b\b\b\b\b\b\b\b\b\b\b\b\b\b\b\b\b\b\b\b\b\b\b\b\b\b\b\b\b\b\b\b\b\b\b\b\b\b\b\b\b\b\b\b\b\b\b\b\b\b\b\b\b\b\b\b\b\b\b\b\b\b\b\b\b\r154/154 [==============================] - 3s 20ms/step - categorical_accuracy: 0.8800 - auc: 0.9501 - student_loss: 0.2924 - distillation_loss: 0.0094 - val_categorical_accuracy: 0.8434 - val_auc: 0.9148 - val_student_loss: 0.1313\n",
            "Epoch 37/100\n",
            "154/154 [==============================] - ETA: 0s - categorical_accuracy: 0.8833 - auc: 0.9503 - student_loss: 0.2944 - distillation_loss: 0.0095"
          ]
        },
        {
          "output_type": "stream",
          "name": "stderr",
          "text": [
            "WARNING:tensorflow:Early stopping conditioned on metric `val_loss` which is not available. Available metrics are: categorical_accuracy,auc,student_loss,distillation_loss,val_categorical_accuracy,val_auc,val_student_loss\n"
          ]
        },
        {
          "output_type": "stream",
          "name": "stdout",
          "text": [
            "\b\b\b\b\b\b\b\b\b\b\b\b\b\b\b\b\b\b\b\b\b\b\b\b\b\b\b\b\b\b\b\b\b\b\b\b\b\b\b\b\b\b\b\b\b\b\b\b\b\b\b\b\b\b\b\b\b\b\b\b\b\b\b\b\b\b\b\b\b\b\b\b\b\b\b\b\b\b\b\b\b\b\b\b\b\b\b\b\b\b\b\b\b\b\b\b\b\b\b\b\b\b\b\b\b\b\b\b\b\b\b\b\b\b\b\b\b\b\b\b\b\b\b\b\b\b\b\b\b\b\b\b\b\b\b\b\b\b\b\b\b\b\b\b\b\b\r154/154 [==============================] - 3s 19ms/step - categorical_accuracy: 0.8833 - auc: 0.9503 - student_loss: 0.2956 - distillation_loss: 0.0095 - val_categorical_accuracy: 0.8467 - val_auc: 0.9229 - val_student_loss: 0.1177\n",
            "Epoch 38/100\n",
            "154/154 [==============================] - ETA: 0s - categorical_accuracy: 0.8841 - auc: 0.9489 - student_loss: 0.2939 - distillation_loss: 0.0093"
          ]
        },
        {
          "output_type": "stream",
          "name": "stderr",
          "text": [
            "WARNING:tensorflow:Early stopping conditioned on metric `val_loss` which is not available. Available metrics are: categorical_accuracy,auc,student_loss,distillation_loss,val_categorical_accuracy,val_auc,val_student_loss\n"
          ]
        },
        {
          "output_type": "stream",
          "name": "stdout",
          "text": [
            "\b\b\b\b\b\b\b\b\b\b\b\b\b\b\b\b\b\b\b\b\b\b\b\b\b\b\b\b\b\b\b\b\b\b\b\b\b\b\b\b\b\b\b\b\b\b\b\b\b\b\b\b\b\b\b\b\b\b\b\b\b\b\b\b\b\b\b\b\b\b\b\b\b\b\b\b\b\b\b\b\b\b\b\b\b\b\b\b\b\b\b\b\b\b\b\b\b\b\b\b\b\b\b\b\b\b\b\b\b\b\b\b\b\b\b\b\b\b\b\b\b\b\b\b\b\b\b\b\b\b\b\b\b\b\b\b\b\b\b\b\b\b\b\b\b\b\r154/154 [==============================] - 3s 21ms/step - categorical_accuracy: 0.8841 - auc: 0.9489 - student_loss: 0.2923 - distillation_loss: 0.0093 - val_categorical_accuracy: 0.8515 - val_auc: 0.9291 - val_student_loss: 0.1107\n",
            "Epoch 39/100\n",
            "154/154 [==============================] - ETA: 0s - categorical_accuracy: 0.8841 - auc: 0.9505 - student_loss: 0.2919 - distillation_loss: 0.0091"
          ]
        },
        {
          "output_type": "stream",
          "name": "stderr",
          "text": [
            "WARNING:tensorflow:Early stopping conditioned on metric `val_loss` which is not available. Available metrics are: categorical_accuracy,auc,student_loss,distillation_loss,val_categorical_accuracy,val_auc,val_student_loss\n"
          ]
        },
        {
          "output_type": "stream",
          "name": "stdout",
          "text": [
            "\b\b\b\b\b\b\b\b\b\b\b\b\b\b\b\b\b\b\b\b\b\b\b\b\b\b\b\b\b\b\b\b\b\b\b\b\b\b\b\b\b\b\b\b\b\b\b\b\b\b\b\b\b\b\b\b\b\b\b\b\b\b\b\b\b\b\b\b\b\b\b\b\b\b\b\b\b\b\b\b\b\b\b\b\b\b\b\b\b\b\b\b\b\b\b\b\b\b\b\b\b\b\b\b\b\b\b\b\b\b\b\b\b\b\b\b\b\b\b\b\b\b\b\b\b\b\b\b\b\b\b\b\b\b\b\b\b\b\b\b\b\b\b\b\b\b\r154/154 [==============================] - 3s 20ms/step - categorical_accuracy: 0.8841 - auc: 0.9505 - student_loss: 0.2907 - distillation_loss: 0.0090 - val_categorical_accuracy: 0.8499 - val_auc: 0.9282 - val_student_loss: 0.1238\n",
            "Epoch 40/100\n",
            "152/154 [============================>.] - ETA: 0s - categorical_accuracy: 0.8935 - auc: 0.9533 - student_loss: 0.2855 - distillation_loss: 0.0091"
          ]
        },
        {
          "output_type": "stream",
          "name": "stderr",
          "text": [
            "WARNING:tensorflow:Early stopping conditioned on metric `val_loss` which is not available. Available metrics are: categorical_accuracy,auc,student_loss,distillation_loss,val_categorical_accuracy,val_auc,val_student_loss\n"
          ]
        },
        {
          "output_type": "stream",
          "name": "stdout",
          "text": [
            "\b\b\b\b\b\b\b\b\b\b\b\b\b\b\b\b\b\b\b\b\b\b\b\b\b\b\b\b\b\b\b\b\b\b\b\b\b\b\b\b\b\b\b\b\b\b\b\b\b\b\b\b\b\b\b\b\b\b\b\b\b\b\b\b\b\b\b\b\b\b\b\b\b\b\b\b\b\b\b\b\b\b\b\b\b\b\b\b\b\b\b\b\b\b\b\b\b\b\b\b\b\b\b\b\b\b\b\b\b\b\b\b\b\b\b\b\b\b\b\b\b\b\b\b\b\b\b\b\b\b\b\b\b\b\b\b\b\b\b\b\b\b\b\b\b\b\r154/154 [==============================] - 3s 20ms/step - categorical_accuracy: 0.8927 - auc: 0.9532 - student_loss: 0.2875 - distillation_loss: 0.0090 - val_categorical_accuracy: 0.8499 - val_auc: 0.9269 - val_student_loss: 0.1067\n",
            "Epoch 41/100\n",
            "153/154 [============================>.] - ETA: 0s - categorical_accuracy: 0.8885 - auc: 0.9534 - student_loss: 0.2865 - distillation_loss: 0.0092"
          ]
        },
        {
          "output_type": "stream",
          "name": "stderr",
          "text": [
            "WARNING:tensorflow:Early stopping conditioned on metric `val_loss` which is not available. Available metrics are: categorical_accuracy,auc,student_loss,distillation_loss,val_categorical_accuracy,val_auc,val_student_loss\n"
          ]
        },
        {
          "output_type": "stream",
          "name": "stdout",
          "text": [
            "\b\b\b\b\b\b\b\b\b\b\b\b\b\b\b\b\b\b\b\b\b\b\b\b\b\b\b\b\b\b\b\b\b\b\b\b\b\b\b\b\b\b\b\b\b\b\b\b\b\b\b\b\b\b\b\b\b\b\b\b\b\b\b\b\b\b\b\b\b\b\b\b\b\b\b\b\b\b\b\b\b\b\b\b\b\b\b\b\b\b\b\b\b\b\b\b\b\b\b\b\b\b\b\b\b\b\b\b\b\b\b\b\b\b\b\b\b\b\b\b\b\b\b\b\b\b\b\b\b\b\b\b\b\b\b\b\b\b\b\b\b\b\b\b\b\b\r154/154 [==============================] - 3s 19ms/step - categorical_accuracy: 0.8882 - auc: 0.9533 - student_loss: 0.2896 - distillation_loss: 0.0091 - val_categorical_accuracy: 0.8467 - val_auc: 0.9217 - val_student_loss: 0.1269\n",
            "Epoch 42/100\n",
            "152/154 [============================>.] - ETA: 0s - categorical_accuracy: 0.8886 - auc: 0.9556 - student_loss: 0.2809 - distillation_loss: 0.0089"
          ]
        },
        {
          "output_type": "stream",
          "name": "stderr",
          "text": [
            "WARNING:tensorflow:Early stopping conditioned on metric `val_loss` which is not available. Available metrics are: categorical_accuracy,auc,student_loss,distillation_loss,val_categorical_accuracy,val_auc,val_student_loss\n"
          ]
        },
        {
          "output_type": "stream",
          "name": "stdout",
          "text": [
            "\b\b\b\b\b\b\b\b\b\b\b\b\b\b\b\b\b\b\b\b\b\b\b\b\b\b\b\b\b\b\b\b\b\b\b\b\b\b\b\b\b\b\b\b\b\b\b\b\b\b\b\b\b\b\b\b\b\b\b\b\b\b\b\b\b\b\b\b\b\b\b\b\b\b\b\b\b\b\b\b\b\b\b\b\b\b\b\b\b\b\b\b\b\b\b\b\b\b\b\b\b\b\b\b\b\b\b\b\b\b\b\b\b\b\b\b\b\b\b\b\b\b\b\b\b\b\b\b\b\b\b\b\b\b\b\b\b\b\b\b\b\b\b\b\b\b\r154/154 [==============================] - 3s 20ms/step - categorical_accuracy: 0.8878 - auc: 0.9553 - student_loss: 0.2838 - distillation_loss: 0.0089 - val_categorical_accuracy: 0.8418 - val_auc: 0.9200 - val_student_loss: 0.1197\n",
            "Epoch 43/100\n",
            "154/154 [==============================] - ETA: 0s - categorical_accuracy: 0.8882 - auc: 0.9525 - student_loss: 0.2884 - distillation_loss: 0.0089"
          ]
        },
        {
          "output_type": "stream",
          "name": "stderr",
          "text": [
            "WARNING:tensorflow:Early stopping conditioned on metric `val_loss` which is not available. Available metrics are: categorical_accuracy,auc,student_loss,distillation_loss,val_categorical_accuracy,val_auc,val_student_loss\n"
          ]
        },
        {
          "output_type": "stream",
          "name": "stdout",
          "text": [
            "\b\b\b\b\b\b\b\b\b\b\b\b\b\b\b\b\b\b\b\b\b\b\b\b\b\b\b\b\b\b\b\b\b\b\b\b\b\b\b\b\b\b\b\b\b\b\b\b\b\b\b\b\b\b\b\b\b\b\b\b\b\b\b\b\b\b\b\b\b\b\b\b\b\b\b\b\b\b\b\b\b\b\b\b\b\b\b\b\b\b\b\b\b\b\b\b\b\b\b\b\b\b\b\b\b\b\b\b\b\b\b\b\b\b\b\b\b\b\b\b\b\b\b\b\b\b\b\b\b\b\b\b\b\b\b\b\b\b\b\b\b\b\b\b\b\b\r154/154 [==============================] - 3s 21ms/step - categorical_accuracy: 0.8882 - auc: 0.9525 - student_loss: 0.2902 - distillation_loss: 0.0089 - val_categorical_accuracy: 0.8499 - val_auc: 0.9261 - val_student_loss: 0.1143\n",
            "Epoch 44/100\n",
            "154/154 [==============================] - ETA: 0s - categorical_accuracy: 0.8902 - auc: 0.9559 - student_loss: 0.2780 - distillation_loss: 0.0090"
          ]
        },
        {
          "output_type": "stream",
          "name": "stderr",
          "text": [
            "WARNING:tensorflow:Early stopping conditioned on metric `val_loss` which is not available. Available metrics are: categorical_accuracy,auc,student_loss,distillation_loss,val_categorical_accuracy,val_auc,val_student_loss\n"
          ]
        },
        {
          "output_type": "stream",
          "name": "stdout",
          "text": [
            "\b\b\b\b\b\b\b\b\b\b\b\b\b\b\b\b\b\b\b\b\b\b\b\b\b\b\b\b\b\b\b\b\b\b\b\b\b\b\b\b\b\b\b\b\b\b\b\b\b\b\b\b\b\b\b\b\b\b\b\b\b\b\b\b\b\b\b\b\b\b\b\b\b\b\b\b\b\b\b\b\b\b\b\b\b\b\b\b\b\b\b\b\b\b\b\b\b\b\b\b\b\b\b\b\b\b\b\b\b\b\b\b\b\b\b\b\b\b\b\b\b\b\b\b\b\b\b\b\b\b\b\b\b\b\b\b\b\b\b\b\b\b\b\b\b\b\r154/154 [==============================] - 3s 19ms/step - categorical_accuracy: 0.8902 - auc: 0.9559 - student_loss: 0.2772 - distillation_loss: 0.0090 - val_categorical_accuracy: 0.8581 - val_auc: 0.9314 - val_student_loss: 0.1088\n",
            "Epoch 45/100\n",
            "154/154 [==============================] - ETA: 0s - categorical_accuracy: 0.8894 - auc: 0.9530 - student_loss: 0.2851 - distillation_loss: 0.0085"
          ]
        },
        {
          "output_type": "stream",
          "name": "stderr",
          "text": [
            "WARNING:tensorflow:Early stopping conditioned on metric `val_loss` which is not available. Available metrics are: categorical_accuracy,auc,student_loss,distillation_loss,val_categorical_accuracy,val_auc,val_student_loss\n"
          ]
        },
        {
          "output_type": "stream",
          "name": "stdout",
          "text": [
            "\b\b\b\b\b\b\b\b\b\b\b\b\b\b\b\b\b\b\b\b\b\b\b\b\b\b\b\b\b\b\b\b\b\b\b\b\b\b\b\b\b\b\b\b\b\b\b\b\b\b\b\b\b\b\b\b\b\b\b\b\b\b\b\b\b\b\b\b\b\b\b\b\b\b\b\b\b\b\b\b\b\b\b\b\b\b\b\b\b\b\b\b\b\b\b\b\b\b\b\b\b\b\b\b\b\b\b\b\b\b\b\b\b\b\b\b\b\b\b\b\b\b\b\b\b\b\b\b\b\b\b\b\b\b\b\b\b\b\b\b\b\b\b\b\b\b\r154/154 [==============================] - 3s 20ms/step - categorical_accuracy: 0.8894 - auc: 0.9530 - student_loss: 0.2838 - distillation_loss: 0.0085 - val_categorical_accuracy: 0.8450 - val_auc: 0.9236 - val_student_loss: 0.1248\n",
            "Epoch 46/100\n",
            "152/154 [============================>.] - ETA: 0s - categorical_accuracy: 0.8861 - auc: 0.9540 - student_loss: 0.2838 - distillation_loss: 0.0089"
          ]
        },
        {
          "output_type": "stream",
          "name": "stderr",
          "text": [
            "WARNING:tensorflow:Early stopping conditioned on metric `val_loss` which is not available. Available metrics are: categorical_accuracy,auc,student_loss,distillation_loss,val_categorical_accuracy,val_auc,val_student_loss\n"
          ]
        },
        {
          "output_type": "stream",
          "name": "stdout",
          "text": [
            "\b\b\b\b\b\b\b\b\b\b\b\b\b\b\b\b\b\b\b\b\b\b\b\b\b\b\b\b\b\b\b\b\b\b\b\b\b\b\b\b\b\b\b\b\b\b\b\b\b\b\b\b\b\b\b\b\b\b\b\b\b\b\b\b\b\b\b\b\b\b\b\b\b\b\b\b\b\b\b\b\b\b\b\b\b\b\b\b\b\b\b\b\b\b\b\b\b\b\b\b\b\b\b\b\b\b\b\b\b\b\b\b\b\b\b\b\b\b\b\b\b\b\b\b\b\b\b\b\b\b\b\b\b\b\b\b\b\b\b\b\b\b\b\b\b\b\r154/154 [==============================] - 3s 20ms/step - categorical_accuracy: 0.8870 - auc: 0.9544 - student_loss: 0.2809 - distillation_loss: 0.0088 - val_categorical_accuracy: 0.8467 - val_auc: 0.9262 - val_student_loss: 0.1239\n",
            "Epoch 47/100\n",
            "153/154 [============================>.] - ETA: 0s - categorical_accuracy: 0.8905 - auc: 0.9551 - student_loss: 0.2809 - distillation_loss: 0.0088"
          ]
        },
        {
          "output_type": "stream",
          "name": "stderr",
          "text": [
            "WARNING:tensorflow:Early stopping conditioned on metric `val_loss` which is not available. Available metrics are: categorical_accuracy,auc,student_loss,distillation_loss,val_categorical_accuracy,val_auc,val_student_loss\n"
          ]
        },
        {
          "output_type": "stream",
          "name": "stdout",
          "text": [
            "\b\b\b\b\b\b\b\b\b\b\b\b\b\b\b\b\b\b\b\b\b\b\b\b\b\b\b\b\b\b\b\b\b\b\b\b\b\b\b\b\b\b\b\b\b\b\b\b\b\b\b\b\b\b\b\b\b\b\b\b\b\b\b\b\b\b\b\b\b\b\b\b\b\b\b\b\b\b\b\b\b\b\b\b\b\b\b\b\b\b\b\b\b\b\b\b\b\b\b\b\b\b\b\b\b\b\b\b\b\b\b\b\b\b\b\b\b\b\b\b\b\b\b\b\b\b\b\b\b\b\b\b\b\b\b\b\b\b\b\b\b\b\b\b\b\b\r154/154 [==============================] - 3s 22ms/step - categorical_accuracy: 0.8907 - auc: 0.9552 - student_loss: 0.2786 - distillation_loss: 0.0087 - val_categorical_accuracy: 0.8450 - val_auc: 0.9188 - val_student_loss: 0.1293\n",
            "Epoch 48/100\n",
            "154/154 [==============================] - ETA: 0s - categorical_accuracy: 0.8919 - auc: 0.9560 - student_loss: 0.2795 - distillation_loss: 0.0090"
          ]
        },
        {
          "output_type": "stream",
          "name": "stderr",
          "text": [
            "WARNING:tensorflow:Early stopping conditioned on metric `val_loss` which is not available. Available metrics are: categorical_accuracy,auc,student_loss,distillation_loss,val_categorical_accuracy,val_auc,val_student_loss\n"
          ]
        },
        {
          "output_type": "stream",
          "name": "stdout",
          "text": [
            "\b\b\b\b\b\b\b\b\b\b\b\b\b\b\b\b\b\b\b\b\b\b\b\b\b\b\b\b\b\b\b\b\b\b\b\b\b\b\b\b\b\b\b\b\b\b\b\b\b\b\b\b\b\b\b\b\b\b\b\b\b\b\b\b\b\b\b\b\b\b\b\b\b\b\b\b\b\b\b\b\b\b\b\b\b\b\b\b\b\b\b\b\b\b\b\b\b\b\b\b\b\b\b\b\b\b\b\b\b\b\b\b\b\b\b\b\b\b\b\b\b\b\b\b\b\b\b\b\b\b\b\b\b\b\b\b\b\b\b\b\b\b\b\b\b\b\r154/154 [==============================] - 3s 20ms/step - categorical_accuracy: 0.8919 - auc: 0.9560 - student_loss: 0.2809 - distillation_loss: 0.0089 - val_categorical_accuracy: 0.8450 - val_auc: 0.9226 - val_student_loss: 0.1233\n",
            "Epoch 49/100\n",
            "154/154 [==============================] - ETA: 0s - categorical_accuracy: 0.8894 - auc: 0.9549 - student_loss: 0.2831 - distillation_loss: 0.0085"
          ]
        },
        {
          "output_type": "stream",
          "name": "stderr",
          "text": [
            "WARNING:tensorflow:Early stopping conditioned on metric `val_loss` which is not available. Available metrics are: categorical_accuracy,auc,student_loss,distillation_loss,val_categorical_accuracy,val_auc,val_student_loss\n"
          ]
        },
        {
          "output_type": "stream",
          "name": "stdout",
          "text": [
            "\b\b\b\b\b\b\b\b\b\b\b\b\b\b\b\b\b\b\b\b\b\b\b\b\b\b\b\b\b\b\b\b\b\b\b\b\b\b\b\b\b\b\b\b\b\b\b\b\b\b\b\b\b\b\b\b\b\b\b\b\b\b\b\b\b\b\b\b\b\b\b\b\b\b\b\b\b\b\b\b\b\b\b\b\b\b\b\b\b\b\b\b\b\b\b\b\b\b\b\b\b\b\b\b\b\b\b\b\b\b\b\b\b\b\b\b\b\b\b\b\b\b\b\b\b\b\b\b\b\b\b\b\b\b\b\b\b\b\b\b\b\b\b\b\b\b\r154/154 [==============================] - 3s 20ms/step - categorical_accuracy: 0.8894 - auc: 0.9549 - student_loss: 0.2841 - distillation_loss: 0.0087 - val_categorical_accuracy: 0.8499 - val_auc: 0.9290 - val_student_loss: 0.1140\n",
            "Epoch 50/100\n",
            "154/154 [==============================] - ETA: 0s - categorical_accuracy: 0.8890 - auc: 0.9584 - student_loss: 0.2729 - distillation_loss: 0.0087"
          ]
        },
        {
          "output_type": "stream",
          "name": "stderr",
          "text": [
            "WARNING:tensorflow:Early stopping conditioned on metric `val_loss` which is not available. Available metrics are: categorical_accuracy,auc,student_loss,distillation_loss,val_categorical_accuracy,val_auc,val_student_loss\n"
          ]
        },
        {
          "output_type": "stream",
          "name": "stdout",
          "text": [
            "\b\b\b\b\b\b\b\b\b\b\b\b\b\b\b\b\b\b\b\b\b\b\b\b\b\b\b\b\b\b\b\b\b\b\b\b\b\b\b\b\b\b\b\b\b\b\b\b\b\b\b\b\b\b\b\b\b\b\b\b\b\b\b\b\b\b\b\b\b\b\b\b\b\b\b\b\b\b\b\b\b\b\b\b\b\b\b\b\b\b\b\b\b\b\b\b\b\b\b\b\b\b\b\b\b\b\b\b\b\b\b\b\b\b\b\b\b\b\b\b\b\b\b\b\b\b\b\b\b\b\b\b\b\b\b\b\b\b\b\b\b\b\b\b\b\b\r154/154 [==============================] - 3s 21ms/step - categorical_accuracy: 0.8890 - auc: 0.9584 - student_loss: 0.2717 - distillation_loss: 0.0086 - val_categorical_accuracy: 0.8385 - val_auc: 0.9156 - val_student_loss: 0.1371\n",
            "Epoch 51/100\n",
            "154/154 [==============================] - ETA: 0s - categorical_accuracy: 0.8931 - auc: 0.9588 - student_loss: 0.2704 - distillation_loss: 0.0087"
          ]
        },
        {
          "output_type": "stream",
          "name": "stderr",
          "text": [
            "WARNING:tensorflow:Early stopping conditioned on metric `val_loss` which is not available. Available metrics are: categorical_accuracy,auc,student_loss,distillation_loss,val_categorical_accuracy,val_auc,val_student_loss\n"
          ]
        },
        {
          "output_type": "stream",
          "name": "stdout",
          "text": [
            "\b\b\b\b\b\b\b\b\b\b\b\b\b\b\b\b\b\b\b\b\b\b\b\b\b\b\b\b\b\b\b\b\b\b\b\b\b\b\b\b\b\b\b\b\b\b\b\b\b\b\b\b\b\b\b\b\b\b\b\b\b\b\b\b\b\b\b\b\b\b\b\b\b\b\b\b\b\b\b\b\b\b\b\b\b\b\b\b\b\b\b\b\b\b\b\b\b\b\b\b\b\b\b\b\b\b\b\b\b\b\b\b\b\b\b\b\b\b\b\b\b\b\b\b\b\b\b\b\b\b\b\b\b\b\b\b\b\b\b\b\b\b\b\b\b\b\r154/154 [==============================] - 3s 20ms/step - categorical_accuracy: 0.8931 - auc: 0.9588 - student_loss: 0.2691 - distillation_loss: 0.0087 - val_categorical_accuracy: 0.8401 - val_auc: 0.9147 - val_student_loss: 0.1409\n",
            "Epoch 52/100\n",
            "154/154 [==============================] - ETA: 0s - categorical_accuracy: 0.8927 - auc: 0.9579 - student_loss: 0.2728 - distillation_loss: 0.0083"
          ]
        },
        {
          "output_type": "stream",
          "name": "stderr",
          "text": [
            "WARNING:tensorflow:Early stopping conditioned on metric `val_loss` which is not available. Available metrics are: categorical_accuracy,auc,student_loss,distillation_loss,val_categorical_accuracy,val_auc,val_student_loss\n"
          ]
        },
        {
          "output_type": "stream",
          "name": "stdout",
          "text": [
            "\b\b\b\b\b\b\b\b\b\b\b\b\b\b\b\b\b\b\b\b\b\b\b\b\b\b\b\b\b\b\b\b\b\b\b\b\b\b\b\b\b\b\b\b\b\b\b\b\b\b\b\b\b\b\b\b\b\b\b\b\b\b\b\b\b\b\b\b\b\b\b\b\b\b\b\b\b\b\b\b\b\b\b\b\b\b\b\b\b\b\b\b\b\b\b\b\b\b\b\b\b\b\b\b\b\b\b\b\b\b\b\b\b\b\b\b\b\b\b\b\b\b\b\b\b\b\b\b\b\b\b\b\b\b\b\b\b\b\b\b\b\b\b\b\b\b\r154/154 [==============================] - 3s 19ms/step - categorical_accuracy: 0.8927 - auc: 0.9579 - student_loss: 0.2713 - distillation_loss: 0.0083 - val_categorical_accuracy: 0.8499 - val_auc: 0.9259 - val_student_loss: 0.1179\n",
            "Epoch 53/100\n",
            "154/154 [==============================] - ETA: 0s - categorical_accuracy: 0.8894 - auc: 0.9577 - student_loss: 0.2746 - distillation_loss: 0.0085"
          ]
        },
        {
          "output_type": "stream",
          "name": "stderr",
          "text": [
            "WARNING:tensorflow:Early stopping conditioned on metric `val_loss` which is not available. Available metrics are: categorical_accuracy,auc,student_loss,distillation_loss,val_categorical_accuracy,val_auc,val_student_loss\n"
          ]
        },
        {
          "output_type": "stream",
          "name": "stdout",
          "text": [
            "\b\b\b\b\b\b\b\b\b\b\b\b\b\b\b\b\b\b\b\b\b\b\b\b\b\b\b\b\b\b\b\b\b\b\b\b\b\b\b\b\b\b\b\b\b\b\b\b\b\b\b\b\b\b\b\b\b\b\b\b\b\b\b\b\b\b\b\b\b\b\b\b\b\b\b\b\b\b\b\b\b\b\b\b\b\b\b\b\b\b\b\b\b\b\b\b\b\b\b\b\b\b\b\b\b\b\b\b\b\b\b\b\b\b\b\b\b\b\b\b\b\b\b\b\b\b\b\b\b\b\b\b\b\b\b\b\b\b\b\b\b\b\b\b\b\b\r154/154 [==============================] - 3s 19ms/step - categorical_accuracy: 0.8894 - auc: 0.9577 - student_loss: 0.2740 - distillation_loss: 0.0084 - val_categorical_accuracy: 0.8450 - val_auc: 0.9226 - val_student_loss: 0.1263\n",
            "Epoch 54/100\n",
            "152/154 [============================>.] - ETA: 0s - categorical_accuracy: 0.8931 - auc: 0.9589 - student_loss: 0.2718 - distillation_loss: 0.0085"
          ]
        },
        {
          "output_type": "stream",
          "name": "stderr",
          "text": [
            "WARNING:tensorflow:Early stopping conditioned on metric `val_loss` which is not available. Available metrics are: categorical_accuracy,auc,student_loss,distillation_loss,val_categorical_accuracy,val_auc,val_student_loss\n"
          ]
        },
        {
          "output_type": "stream",
          "name": "stdout",
          "text": [
            "\b\b\b\b\b\b\b\b\b\b\b\b\b\b\b\b\b\b\b\b\b\b\b\b\b\b\b\b\b\b\b\b\b\b\b\b\b\b\b\b\b\b\b\b\b\b\b\b\b\b\b\b\b\b\b\b\b\b\b\b\b\b\b\b\b\b\b\b\b\b\b\b\b\b\b\b\b\b\b\b\b\b\b\b\b\b\b\b\b\b\b\b\b\b\b\b\b\b\b\b\b\b\b\b\b\b\b\b\b\b\b\b\b\b\b\b\b\b\b\b\b\b\b\b\b\b\b\b\b\b\b\b\b\b\b\b\b\b\b\b\b\b\b\b\b\b\r154/154 [==============================] - 3s 20ms/step - categorical_accuracy: 0.8923 - auc: 0.9587 - student_loss: 0.2696 - distillation_loss: 0.0085 - val_categorical_accuracy: 0.8548 - val_auc: 0.9278 - val_student_loss: 0.1129\n",
            "Epoch 55/100\n",
            "154/154 [==============================] - ETA: 0s - categorical_accuracy: 0.8972 - auc: 0.9601 - student_loss: 0.2682 - distillation_loss: 0.0080"
          ]
        },
        {
          "output_type": "stream",
          "name": "stderr",
          "text": [
            "WARNING:tensorflow:Early stopping conditioned on metric `val_loss` which is not available. Available metrics are: categorical_accuracy,auc,student_loss,distillation_loss,val_categorical_accuracy,val_auc,val_student_loss\n"
          ]
        },
        {
          "output_type": "stream",
          "name": "stdout",
          "text": [
            "\b\b\b\b\b\b\b\b\b\b\b\b\b\b\b\b\b\b\b\b\b\b\b\b\b\b\b\b\b\b\b\b\b\b\b\b\b\b\b\b\b\b\b\b\b\b\b\b\b\b\b\b\b\b\b\b\b\b\b\b\b\b\b\b\b\b\b\b\b\b\b\b\b\b\b\b\b\b\b\b\b\b\b\b\b\b\b\b\b\b\b\b\b\b\b\b\b\b\b\b\b\b\b\b\b\b\b\b\b\b\b\b\b\b\b\b\b\b\b\b\b\b\b\b\b\b\b\b\b\b\b\b\b\b\b\b\b\b\b\b\b\b\b\b\b\b\r154/154 [==============================] - 3s 21ms/step - categorical_accuracy: 0.8972 - auc: 0.9601 - student_loss: 0.2672 - distillation_loss: 0.0080 - val_categorical_accuracy: 0.8515 - val_auc: 0.9279 - val_student_loss: 0.1111\n",
            "Epoch 56/100\n",
            "152/154 [============================>.] - ETA: 0s - categorical_accuracy: 0.8923 - auc: 0.9616 - student_loss: 0.2655 - distillation_loss: 0.0084"
          ]
        },
        {
          "output_type": "stream",
          "name": "stderr",
          "text": [
            "WARNING:tensorflow:Early stopping conditioned on metric `val_loss` which is not available. Available metrics are: categorical_accuracy,auc,student_loss,distillation_loss,val_categorical_accuracy,val_auc,val_student_loss\n"
          ]
        },
        {
          "output_type": "stream",
          "name": "stdout",
          "text": [
            "\b\b\b\b\b\b\b\b\b\b\b\b\b\b\b\b\b\b\b\b\b\b\b\b\b\b\b\b\b\b\b\b\b\b\b\b\b\b\b\b\b\b\b\b\b\b\b\b\b\b\b\b\b\b\b\b\b\b\b\b\b\b\b\b\b\b\b\b\b\b\b\b\b\b\b\b\b\b\b\b\b\b\b\b\b\b\b\b\b\b\b\b\b\b\b\b\b\b\b\b\b\b\b\b\b\b\b\b\b\b\b\b\b\b\b\b\b\b\b\b\b\b\b\b\b\b\b\b\b\b\b\b\b\b\b\b\b\b\b\b\b\b\b\b\b\b\r154/154 [==============================] - 3s 20ms/step - categorical_accuracy: 0.8923 - auc: 0.9614 - student_loss: 0.2667 - distillation_loss: 0.0084 - val_categorical_accuracy: 0.8499 - val_auc: 0.9272 - val_student_loss: 0.1165\n",
            "Epoch 57/100\n",
            "152/154 [============================>.] - ETA: 0s - categorical_accuracy: 0.8931 - auc: 0.9578 - student_loss: 0.2738 - distillation_loss: 0.0082"
          ]
        },
        {
          "output_type": "stream",
          "name": "stderr",
          "text": [
            "WARNING:tensorflow:Early stopping conditioned on metric `val_loss` which is not available. Available metrics are: categorical_accuracy,auc,student_loss,distillation_loss,val_categorical_accuracy,val_auc,val_student_loss\n"
          ]
        },
        {
          "output_type": "stream",
          "name": "stdout",
          "text": [
            "\b\b\b\b\b\b\b\b\b\b\b\b\b\b\b\b\b\b\b\b\b\b\b\b\b\b\b\b\b\b\b\b\b\b\b\b\b\b\b\b\b\b\b\b\b\b\b\b\b\b\b\b\b\b\b\b\b\b\b\b\b\b\b\b\b\b\b\b\b\b\b\b\b\b\b\b\b\b\b\b\b\b\b\b\b\b\b\b\b\b\b\b\b\b\b\b\b\b\b\b\b\b\b\b\b\b\b\b\b\b\b\b\b\b\b\b\b\b\b\b\b\b\b\b\b\b\b\b\b\b\b\b\b\b\b\b\b\b\b\b\b\b\b\b\b\b\r154/154 [==============================] - 3s 20ms/step - categorical_accuracy: 0.8935 - auc: 0.9580 - student_loss: 0.2712 - distillation_loss: 0.0081 - val_categorical_accuracy: 0.8483 - val_auc: 0.9255 - val_student_loss: 0.1237\n",
            "Epoch 58/100\n",
            "154/154 [==============================] - ETA: 0s - categorical_accuracy: 0.8947 - auc: 0.9615 - student_loss: 0.2643 - distillation_loss: 0.0086"
          ]
        },
        {
          "output_type": "stream",
          "name": "stderr",
          "text": [
            "WARNING:tensorflow:Early stopping conditioned on metric `val_loss` which is not available. Available metrics are: categorical_accuracy,auc,student_loss,distillation_loss,val_categorical_accuracy,val_auc,val_student_loss\n"
          ]
        },
        {
          "output_type": "stream",
          "name": "stdout",
          "text": [
            "\b\b\b\b\b\b\b\b\b\b\b\b\b\b\b\b\b\b\b\b\b\b\b\b\b\b\b\b\b\b\b\b\b\b\b\b\b\b\b\b\b\b\b\b\b\b\b\b\b\b\b\b\b\b\b\b\b\b\b\b\b\b\b\b\b\b\b\b\b\b\b\b\b\b\b\b\b\b\b\b\b\b\b\b\b\b\b\b\b\b\b\b\b\b\b\b\b\b\b\b\b\b\b\b\b\b\b\b\b\b\b\b\b\b\b\b\b\b\b\b\b\b\b\b\b\b\b\b\b\b\b\b\b\b\b\b\b\b\b\b\b\b\b\b\b\b\r154/154 [==============================] - 3s 20ms/step - categorical_accuracy: 0.8947 - auc: 0.9615 - student_loss: 0.2629 - distillation_loss: 0.0085 - val_categorical_accuracy: 0.8499 - val_auc: 0.9332 - val_student_loss: 0.1056\n",
            "Epoch 59/100\n",
            "154/154 [==============================] - ETA: 0s - categorical_accuracy: 0.8992 - auc: 0.9628 - student_loss: 0.2604 - distillation_loss: 0.0085"
          ]
        },
        {
          "output_type": "stream",
          "name": "stderr",
          "text": [
            "WARNING:tensorflow:Early stopping conditioned on metric `val_loss` which is not available. Available metrics are: categorical_accuracy,auc,student_loss,distillation_loss,val_categorical_accuracy,val_auc,val_student_loss\n"
          ]
        },
        {
          "output_type": "stream",
          "name": "stdout",
          "text": [
            "\b\b\b\b\b\b\b\b\b\b\b\b\b\b\b\b\b\b\b\b\b\b\b\b\b\b\b\b\b\b\b\b\b\b\b\b\b\b\b\b\b\b\b\b\b\b\b\b\b\b\b\b\b\b\b\b\b\b\b\b\b\b\b\b\b\b\b\b\b\b\b\b\b\b\b\b\b\b\b\b\b\b\b\b\b\b\b\b\b\b\b\b\b\b\b\b\b\b\b\b\b\b\b\b\b\b\b\b\b\b\b\b\b\b\b\b\b\b\b\b\b\b\b\b\b\b\b\b\b\b\b\b\b\b\b\b\b\b\b\b\b\b\b\b\b\b\r154/154 [==============================] - 3s 21ms/step - categorical_accuracy: 0.8992 - auc: 0.9628 - student_loss: 0.2592 - distillation_loss: 0.0084 - val_categorical_accuracy: 0.8450 - val_auc: 0.9246 - val_student_loss: 0.1104\n",
            "Epoch 60/100\n",
            "153/154 [============================>.] - ETA: 0s - categorical_accuracy: 0.8991 - auc: 0.9627 - student_loss: 0.2623 - distillation_loss: 0.0083"
          ]
        },
        {
          "output_type": "stream",
          "name": "stderr",
          "text": [
            "WARNING:tensorflow:Early stopping conditioned on metric `val_loss` which is not available. Available metrics are: categorical_accuracy,auc,student_loss,distillation_loss,val_categorical_accuracy,val_auc,val_student_loss\n"
          ]
        },
        {
          "output_type": "stream",
          "name": "stdout",
          "text": [
            "\b\b\b\b\b\b\b\b\b\b\b\b\b\b\b\b\b\b\b\b\b\b\b\b\b\b\b\b\b\b\b\b\b\b\b\b\b\b\b\b\b\b\b\b\b\b\b\b\b\b\b\b\b\b\b\b\b\b\b\b\b\b\b\b\b\b\b\b\b\b\b\b\b\b\b\b\b\b\b\b\b\b\b\b\b\b\b\b\b\b\b\b\b\b\b\b\b\b\b\b\b\b\b\b\b\b\b\b\b\b\b\b\b\b\b\b\b\b\b\b\b\b\b\b\b\b\b\b\b\b\b\b\b\b\b\b\b\b\b\b\b\b\b\b\b\b\r154/154 [==============================] - 3s 19ms/step - categorical_accuracy: 0.8992 - auc: 0.9626 - student_loss: 0.2641 - distillation_loss: 0.0084 - val_categorical_accuracy: 0.8515 - val_auc: 0.9223 - val_student_loss: 0.1207\n",
            "Epoch 61/100\n",
            "152/154 [============================>.] - ETA: 0s - categorical_accuracy: 0.8939 - auc: 0.9621 - student_loss: 0.2638 - distillation_loss: 0.0084"
          ]
        },
        {
          "output_type": "stream",
          "name": "stderr",
          "text": [
            "WARNING:tensorflow:Early stopping conditioned on metric `val_loss` which is not available. Available metrics are: categorical_accuracy,auc,student_loss,distillation_loss,val_categorical_accuracy,val_auc,val_student_loss\n"
          ]
        },
        {
          "output_type": "stream",
          "name": "stdout",
          "text": [
            "\b\b\b\b\b\b\b\b\b\b\b\b\b\b\b\b\b\b\b\b\b\b\b\b\b\b\b\b\b\b\b\b\b\b\b\b\b\b\b\b\b\b\b\b\b\b\b\b\b\b\b\b\b\b\b\b\b\b\b\b\b\b\b\b\b\b\b\b\b\b\b\b\b\b\b\b\b\b\b\b\b\b\b\b\b\b\b\b\b\b\b\b\b\b\b\b\b\b\b\b\b\b\b\b\b\b\b\b\b\b\b\b\b\b\b\b\b\b\b\b\b\b\b\b\b\b\b\b\b\b\b\b\b\b\b\b\b\b\b\b\b\b\b\b\b\b\r154/154 [==============================] - 3s 19ms/step - categorical_accuracy: 0.8943 - auc: 0.9624 - student_loss: 0.2620 - distillation_loss: 0.0083 - val_categorical_accuracy: 0.8499 - val_auc: 0.9308 - val_student_loss: 0.1015\n",
            "Epoch 62/100\n",
            "154/154 [==============================] - ETA: 0s - categorical_accuracy: 0.8960 - auc: 0.9630 - student_loss: 0.2607 - distillation_loss: 0.0084"
          ]
        },
        {
          "output_type": "stream",
          "name": "stderr",
          "text": [
            "WARNING:tensorflow:Early stopping conditioned on metric `val_loss` which is not available. Available metrics are: categorical_accuracy,auc,student_loss,distillation_loss,val_categorical_accuracy,val_auc,val_student_loss\n"
          ]
        },
        {
          "output_type": "stream",
          "name": "stdout",
          "text": [
            "\b\b\b\b\b\b\b\b\b\b\b\b\b\b\b\b\b\b\b\b\b\b\b\b\b\b\b\b\b\b\b\b\b\b\b\b\b\b\b\b\b\b\b\b\b\b\b\b\b\b\b\b\b\b\b\b\b\b\b\b\b\b\b\b\b\b\b\b\b\b\b\b\b\b\b\b\b\b\b\b\b\b\b\b\b\b\b\b\b\b\b\b\b\b\b\b\b\b\b\b\b\b\b\b\b\b\b\b\b\b\b\b\b\b\b\b\b\b\b\b\b\b\b\b\b\b\b\b\b\b\b\b\b\b\b\b\b\b\b\b\b\b\b\b\b\b\r154/154 [==============================] - 3s 20ms/step - categorical_accuracy: 0.8960 - auc: 0.9630 - student_loss: 0.2601 - distillation_loss: 0.0085 - val_categorical_accuracy: 0.8467 - val_auc: 0.9248 - val_student_loss: 0.1209\n",
            "Epoch 63/100\n",
            "154/154 [==============================] - ETA: 0s - categorical_accuracy: 0.8980 - auc: 0.9622 - student_loss: 0.2643 - distillation_loss: 0.0080"
          ]
        },
        {
          "output_type": "stream",
          "name": "stderr",
          "text": [
            "WARNING:tensorflow:Early stopping conditioned on metric `val_loss` which is not available. Available metrics are: categorical_accuracy,auc,student_loss,distillation_loss,val_categorical_accuracy,val_auc,val_student_loss\n"
          ]
        },
        {
          "output_type": "stream",
          "name": "stdout",
          "text": [
            "\b\b\b\b\b\b\b\b\b\b\b\b\b\b\b\b\b\b\b\b\b\b\b\b\b\b\b\b\b\b\b\b\b\b\b\b\b\b\b\b\b\b\b\b\b\b\b\b\b\b\b\b\b\b\b\b\b\b\b\b\b\b\b\b\b\b\b\b\b\b\b\b\b\b\b\b\b\b\b\b\b\b\b\b\b\b\b\b\b\b\b\b\b\b\b\b\b\b\b\b\b\b\b\b\b\b\b\b\b\b\b\b\b\b\b\b\b\b\b\b\b\b\b\b\b\b\b\b\b\b\b\b\b\b\b\b\b\b\b\b\b\b\b\b\b\b\r154/154 [==============================] - 3s 21ms/step - categorical_accuracy: 0.8980 - auc: 0.9622 - student_loss: 0.2661 - distillation_loss: 0.0079 - val_categorical_accuracy: 0.8515 - val_auc: 0.9263 - val_student_loss: 0.1065\n",
            "Epoch 64/100\n",
            "154/154 [==============================] - ETA: 0s - categorical_accuracy: 0.9004 - auc: 0.9640 - student_loss: 0.2580 - distillation_loss: 0.0081"
          ]
        },
        {
          "output_type": "stream",
          "name": "stderr",
          "text": [
            "WARNING:tensorflow:Early stopping conditioned on metric `val_loss` which is not available. Available metrics are: categorical_accuracy,auc,student_loss,distillation_loss,val_categorical_accuracy,val_auc,val_student_loss\n"
          ]
        },
        {
          "output_type": "stream",
          "name": "stdout",
          "text": [
            "\b\b\b\b\b\b\b\b\b\b\b\b\b\b\b\b\b\b\b\b\b\b\b\b\b\b\b\b\b\b\b\b\b\b\b\b\b\b\b\b\b\b\b\b\b\b\b\b\b\b\b\b\b\b\b\b\b\b\b\b\b\b\b\b\b\b\b\b\b\b\b\b\b\b\b\b\b\b\b\b\b\b\b\b\b\b\b\b\b\b\b\b\b\b\b\b\b\b\b\b\b\b\b\b\b\b\b\b\b\b\b\b\b\b\b\b\b\b\b\b\b\b\b\b\b\b\b\b\b\b\b\b\b\b\b\b\b\b\b\b\b\b\b\b\b\b\r154/154 [==============================] - 3s 20ms/step - categorical_accuracy: 0.9004 - auc: 0.9640 - student_loss: 0.2573 - distillation_loss: 0.0081 - val_categorical_accuracy: 0.8483 - val_auc: 0.9312 - val_student_loss: 0.1023\n",
            "Epoch 65/100\n",
            "154/154 [==============================] - ETA: 0s - categorical_accuracy: 0.8992 - auc: 0.9631 - student_loss: 0.2595 - distillation_loss: 0.0084"
          ]
        },
        {
          "output_type": "stream",
          "name": "stderr",
          "text": [
            "WARNING:tensorflow:Early stopping conditioned on metric `val_loss` which is not available. Available metrics are: categorical_accuracy,auc,student_loss,distillation_loss,val_categorical_accuracy,val_auc,val_student_loss\n"
          ]
        },
        {
          "output_type": "stream",
          "name": "stdout",
          "text": [
            "\b\b\b\b\b\b\b\b\b\b\b\b\b\b\b\b\b\b\b\b\b\b\b\b\b\b\b\b\b\b\b\b\b\b\b\b\b\b\b\b\b\b\b\b\b\b\b\b\b\b\b\b\b\b\b\b\b\b\b\b\b\b\b\b\b\b\b\b\b\b\b\b\b\b\b\b\b\b\b\b\b\b\b\b\b\b\b\b\b\b\b\b\b\b\b\b\b\b\b\b\b\b\b\b\b\b\b\b\b\b\b\b\b\b\b\b\b\b\b\b\b\b\b\b\b\b\b\b\b\b\b\b\b\b\b\b\b\b\b\b\b\b\b\b\b\b\r154/154 [==============================] - 3s 20ms/step - categorical_accuracy: 0.8992 - auc: 0.9631 - student_loss: 0.2582 - distillation_loss: 0.0084 - val_categorical_accuracy: 0.8467 - val_auc: 0.9217 - val_student_loss: 0.1222\n",
            "Epoch 66/100\n",
            "154/154 [==============================] - ETA: 0s - categorical_accuracy: 0.9025 - auc: 0.9646 - student_loss: 0.2560 - distillation_loss: 0.0084"
          ]
        },
        {
          "output_type": "stream",
          "name": "stderr",
          "text": [
            "WARNING:tensorflow:Early stopping conditioned on metric `val_loss` which is not available. Available metrics are: categorical_accuracy,auc,student_loss,distillation_loss,val_categorical_accuracy,val_auc,val_student_loss\n"
          ]
        },
        {
          "output_type": "stream",
          "name": "stdout",
          "text": [
            "\b\b\b\b\b\b\b\b\b\b\b\b\b\b\b\b\b\b\b\b\b\b\b\b\b\b\b\b\b\b\b\b\b\b\b\b\b\b\b\b\b\b\b\b\b\b\b\b\b\b\b\b\b\b\b\b\b\b\b\b\b\b\b\b\b\b\b\b\b\b\b\b\b\b\b\b\b\b\b\b\b\b\b\b\b\b\b\b\b\b\b\b\b\b\b\b\b\b\b\b\b\b\b\b\b\b\b\b\b\b\b\b\b\b\b\b\b\b\b\b\b\b\b\b\b\b\b\b\b\b\b\b\b\b\b\b\b\b\b\b\b\b\b\b\b\b\r154/154 [==============================] - 3s 19ms/step - categorical_accuracy: 0.9025 - auc: 0.9646 - student_loss: 0.2556 - distillation_loss: 0.0083 - val_categorical_accuracy: 0.8515 - val_auc: 0.9310 - val_student_loss: 0.1097\n",
            "Epoch 67/100\n",
            "152/154 [============================>.] - ETA: 0s - categorical_accuracy: 0.8972 - auc: 0.9652 - student_loss: 0.2555 - distillation_loss: 0.0080"
          ]
        },
        {
          "output_type": "stream",
          "name": "stderr",
          "text": [
            "WARNING:tensorflow:Early stopping conditioned on metric `val_loss` which is not available. Available metrics are: categorical_accuracy,auc,student_loss,distillation_loss,val_categorical_accuracy,val_auc,val_student_loss\n"
          ]
        },
        {
          "output_type": "stream",
          "name": "stdout",
          "text": [
            "\b\b\b\b\b\b\b\b\b\b\b\b\b\b\b\b\b\b\b\b\b\b\b\b\b\b\b\b\b\b\b\b\b\b\b\b\b\b\b\b\b\b\b\b\b\b\b\b\b\b\b\b\b\b\b\b\b\b\b\b\b\b\b\b\b\b\b\b\b\b\b\b\b\b\b\b\b\b\b\b\b\b\b\b\b\b\b\b\b\b\b\b\b\b\b\b\b\b\b\b\b\b\b\b\b\b\b\b\b\b\b\b\b\b\b\b\b\b\b\b\b\b\b\b\b\b\b\b\b\b\b\b\b\b\b\b\b\b\b\b\b\b\b\b\b\b\r154/154 [==============================] - 3s 20ms/step - categorical_accuracy: 0.8968 - auc: 0.9651 - student_loss: 0.2541 - distillation_loss: 0.0081 - val_categorical_accuracy: 0.8548 - val_auc: 0.9329 - val_student_loss: 0.1017\n",
            "Epoch 68/100\n",
            "153/154 [============================>.] - ETA: 0s - categorical_accuracy: 0.9048 - auc: 0.9671 - student_loss: 0.2497 - distillation_loss: 0.0083"
          ]
        },
        {
          "output_type": "stream",
          "name": "stderr",
          "text": [
            "WARNING:tensorflow:Early stopping conditioned on metric `val_loss` which is not available. Available metrics are: categorical_accuracy,auc,student_loss,distillation_loss,val_categorical_accuracy,val_auc,val_student_loss\n"
          ]
        },
        {
          "output_type": "stream",
          "name": "stdout",
          "text": [
            "\b\b\b\b\b\b\b\b\b\b\b\b\b\b\b\b\b\b\b\b\b\b\b\b\b\b\b\b\b\b\b\b\b\b\b\b\b\b\b\b\b\b\b\b\b\b\b\b\b\b\b\b\b\b\b\b\b\b\b\b\b\b\b\b\b\b\b\b\b\b\b\b\b\b\b\b\b\b\b\b\b\b\b\b\b\b\b\b\b\b\b\b\b\b\b\b\b\b\b\b\b\b\b\b\b\b\b\b\b\b\b\b\b\b\b\b\b\b\b\b\b\b\b\b\b\b\b\b\b\b\b\b\b\b\b\b\b\b\b\b\b\b\b\b\b\b\r154/154 [==============================] - 3s 20ms/step - categorical_accuracy: 0.9049 - auc: 0.9672 - student_loss: 0.2468 - distillation_loss: 0.0082 - val_categorical_accuracy: 0.8515 - val_auc: 0.9290 - val_student_loss: 0.1125\n",
            "Epoch 69/100\n",
            "154/154 [==============================] - ETA: 0s - categorical_accuracy: 0.9037 - auc: 0.9665 - student_loss: 0.2521 - distillation_loss: 0.0084"
          ]
        },
        {
          "output_type": "stream",
          "name": "stderr",
          "text": [
            "WARNING:tensorflow:Early stopping conditioned on metric `val_loss` which is not available. Available metrics are: categorical_accuracy,auc,student_loss,distillation_loss,val_categorical_accuracy,val_auc,val_student_loss\n"
          ]
        },
        {
          "output_type": "stream",
          "name": "stdout",
          "text": [
            "\b\b\b\b\b\b\b\b\b\b\b\b\b\b\b\b\b\b\b\b\b\b\b\b\b\b\b\b\b\b\b\b\b\b\b\b\b\b\b\b\b\b\b\b\b\b\b\b\b\b\b\b\b\b\b\b\b\b\b\b\b\b\b\b\b\b\b\b\b\b\b\b\b\b\b\b\b\b\b\b\b\b\b\b\b\b\b\b\b\b\b\b\b\b\b\b\b\b\b\b\b\b\b\b\b\b\b\b\b\b\b\b\b\b\b\b\b\b\b\b\b\b\b\b\b\b\b\b\b\b\b\b\b\b\b\b\b\b\b\b\b\b\b\b\b\b\r154/154 [==============================] - 3s 19ms/step - categorical_accuracy: 0.9037 - auc: 0.9665 - student_loss: 0.2536 - distillation_loss: 0.0085 - val_categorical_accuracy: 0.8515 - val_auc: 0.9322 - val_student_loss: 0.1167\n",
            "Epoch 70/100\n",
            "151/154 [============================>.] - ETA: 0s - categorical_accuracy: 0.8998 - auc: 0.9667 - student_loss: 0.2533 - distillation_loss: 0.0077"
          ]
        },
        {
          "output_type": "stream",
          "name": "stderr",
          "text": [
            "WARNING:tensorflow:Early stopping conditioned on metric `val_loss` which is not available. Available metrics are: categorical_accuracy,auc,student_loss,distillation_loss,val_categorical_accuracy,val_auc,val_student_loss\n"
          ]
        },
        {
          "output_type": "stream",
          "name": "stdout",
          "text": [
            "\b\b\b\b\b\b\b\b\b\b\b\b\b\b\b\b\b\b\b\b\b\b\b\b\b\b\b\b\b\b\b\b\b\b\b\b\b\b\b\b\b\b\b\b\b\b\b\b\b\b\b\b\b\b\b\b\b\b\b\b\b\b\b\b\b\b\b\b\b\b\b\b\b\b\b\b\b\b\b\b\b\b\b\b\b\b\b\b\b\b\b\b\b\b\b\b\b\b\b\b\b\b\b\b\b\b\b\b\b\b\b\b\b\b\b\b\b\b\b\b\b\b\b\b\b\b\b\b\b\b\b\b\b\b\b\b\b\b\b\b\b\b\b\b\b\b\r154/154 [==============================] - 3s 19ms/step - categorical_accuracy: 0.8996 - auc: 0.9665 - student_loss: 0.2531 - distillation_loss: 0.0078 - val_categorical_accuracy: 0.8564 - val_auc: 0.9335 - val_student_loss: 0.0912\n",
            "Epoch 71/100\n",
            "152/154 [============================>.] - ETA: 0s - categorical_accuracy: 0.9087 - auc: 0.9702 - student_loss: 0.2426 - distillation_loss: 0.0083"
          ]
        },
        {
          "output_type": "stream",
          "name": "stderr",
          "text": [
            "WARNING:tensorflow:Early stopping conditioned on metric `val_loss` which is not available. Available metrics are: categorical_accuracy,auc,student_loss,distillation_loss,val_categorical_accuracy,val_auc,val_student_loss\n"
          ]
        },
        {
          "output_type": "stream",
          "name": "stdout",
          "text": [
            "\b\b\b\b\b\b\b\b\b\b\b\b\b\b\b\b\b\b\b\b\b\b\b\b\b\b\b\b\b\b\b\b\b\b\b\b\b\b\b\b\b\b\b\b\b\b\b\b\b\b\b\b\b\b\b\b\b\b\b\b\b\b\b\b\b\b\b\b\b\b\b\b\b\b\b\b\b\b\b\b\b\b\b\b\b\b\b\b\b\b\b\b\b\b\b\b\b\b\b\b\b\b\b\b\b\b\b\b\b\b\b\b\b\b\b\b\b\b\b\b\b\b\b\b\b\b\b\b\b\b\b\b\b\b\b\b\b\b\b\b\b\b\b\b\b\b\r154/154 [==============================] - 3s 21ms/step - categorical_accuracy: 0.9078 - auc: 0.9698 - student_loss: 0.2479 - distillation_loss: 0.0083 - val_categorical_accuracy: 0.8418 - val_auc: 0.9221 - val_student_loss: 0.1233\n",
            "Epoch 72/100\n",
            "154/154 [==============================] - ETA: 0s - categorical_accuracy: 0.9074 - auc: 0.9686 - student_loss: 0.2493 - distillation_loss: 0.0080"
          ]
        },
        {
          "output_type": "stream",
          "name": "stderr",
          "text": [
            "WARNING:tensorflow:Early stopping conditioned on metric `val_loss` which is not available. Available metrics are: categorical_accuracy,auc,student_loss,distillation_loss,val_categorical_accuracy,val_auc,val_student_loss\n"
          ]
        },
        {
          "output_type": "stream",
          "name": "stdout",
          "text": [
            "\b\b\b\b\b\b\b\b\b\b\b\b\b\b\b\b\b\b\b\b\b\b\b\b\b\b\b\b\b\b\b\b\b\b\b\b\b\b\b\b\b\b\b\b\b\b\b\b\b\b\b\b\b\b\b\b\b\b\b\b\b\b\b\b\b\b\b\b\b\b\b\b\b\b\b\b\b\b\b\b\b\b\b\b\b\b\b\b\b\b\b\b\b\b\b\b\b\b\b\b\b\b\b\b\b\b\b\b\b\b\b\b\b\b\b\b\b\b\b\b\b\b\b\b\b\b\b\b\b\b\b\b\b\b\b\b\b\b\b\b\b\b\b\b\b\b\r154/154 [==============================] - 3s 21ms/step - categorical_accuracy: 0.9074 - auc: 0.9686 - student_loss: 0.2532 - distillation_loss: 0.0080 - val_categorical_accuracy: 0.8499 - val_auc: 0.9290 - val_student_loss: 0.1035\n",
            "Epoch 73/100\n",
            "152/154 [============================>.] - ETA: 0s - categorical_accuracy: 0.9100 - auc: 0.9675 - student_loss: 0.2492 - distillation_loss: 0.0082"
          ]
        },
        {
          "output_type": "stream",
          "name": "stderr",
          "text": [
            "WARNING:tensorflow:Early stopping conditioned on metric `val_loss` which is not available. Available metrics are: categorical_accuracy,auc,student_loss,distillation_loss,val_categorical_accuracy,val_auc,val_student_loss\n"
          ]
        },
        {
          "output_type": "stream",
          "name": "stdout",
          "text": [
            "\b\b\b\b\b\b\b\b\b\b\b\b\b\b\b\b\b\b\b\b\b\b\b\b\b\b\b\b\b\b\b\b\b\b\b\b\b\b\b\b\b\b\b\b\b\b\b\b\b\b\b\b\b\b\b\b\b\b\b\b\b\b\b\b\b\b\b\b\b\b\b\b\b\b\b\b\b\b\b\b\b\b\b\b\b\b\b\b\b\b\b\b\b\b\b\b\b\b\b\b\b\b\b\b\b\b\b\b\b\b\b\b\b\b\b\b\b\b\b\b\b\b\b\b\b\b\b\b\b\b\b\b\b\b\b\b\b\b\b\b\b\b\b\b\b\b\r154/154 [==============================] - 3s 20ms/step - categorical_accuracy: 0.9102 - auc: 0.9675 - student_loss: 0.2474 - distillation_loss: 0.0083 - val_categorical_accuracy: 0.8499 - val_auc: 0.9263 - val_student_loss: 0.1008\n",
            "Epoch 74/100\n",
            "154/154 [==============================] - ETA: 0s - categorical_accuracy: 0.9070 - auc: 0.9700 - student_loss: 0.2408 - distillation_loss: 0.0084"
          ]
        },
        {
          "output_type": "stream",
          "name": "stderr",
          "text": [
            "WARNING:tensorflow:Early stopping conditioned on metric `val_loss` which is not available. Available metrics are: categorical_accuracy,auc,student_loss,distillation_loss,val_categorical_accuracy,val_auc,val_student_loss\n"
          ]
        },
        {
          "output_type": "stream",
          "name": "stdout",
          "text": [
            "\b\b\b\b\b\b\b\b\b\b\b\b\b\b\b\b\b\b\b\b\b\b\b\b\b\b\b\b\b\b\b\b\b\b\b\b\b\b\b\b\b\b\b\b\b\b\b\b\b\b\b\b\b\b\b\b\b\b\b\b\b\b\b\b\b\b\b\b\b\b\b\b\b\b\b\b\b\b\b\b\b\b\b\b\b\b\b\b\b\b\b\b\b\b\b\b\b\b\b\b\b\b\b\b\b\b\b\b\b\b\b\b\b\b\b\b\b\b\b\b\b\b\b\b\b\b\b\b\b\b\b\b\b\b\b\b\b\b\b\b\b\b\b\b\b\b\r154/154 [==============================] - 3s 20ms/step - categorical_accuracy: 0.9070 - auc: 0.9700 - student_loss: 0.2405 - distillation_loss: 0.0084 - val_categorical_accuracy: 0.8434 - val_auc: 0.9227 - val_student_loss: 0.1246\n",
            "Epoch 75/100\n",
            "154/154 [==============================] - ETA: 0s - categorical_accuracy: 0.9086 - auc: 0.9710 - student_loss: 0.2394 - distillation_loss: 0.0081"
          ]
        },
        {
          "output_type": "stream",
          "name": "stderr",
          "text": [
            "WARNING:tensorflow:Early stopping conditioned on metric `val_loss` which is not available. Available metrics are: categorical_accuracy,auc,student_loss,distillation_loss,val_categorical_accuracy,val_auc,val_student_loss\n"
          ]
        },
        {
          "output_type": "stream",
          "name": "stdout",
          "text": [
            "\b\b\b\b\b\b\b\b\b\b\b\b\b\b\b\b\b\b\b\b\b\b\b\b\b\b\b\b\b\b\b\b\b\b\b\b\b\b\b\b\b\b\b\b\b\b\b\b\b\b\b\b\b\b\b\b\b\b\b\b\b\b\b\b\b\b\b\b\b\b\b\b\b\b\b\b\b\b\b\b\b\b\b\b\b\b\b\b\b\b\b\b\b\b\b\b\b\b\b\b\b\b\b\b\b\b\b\b\b\b\b\b\b\b\b\b\b\b\b\b\b\b\b\b\b\b\b\b\b\b\b\b\b\b\b\b\b\b\b\b\b\b\b\b\b\b\r154/154 [==============================] - 3s 20ms/step - categorical_accuracy: 0.9086 - auc: 0.9710 - student_loss: 0.2385 - distillation_loss: 0.0081 - val_categorical_accuracy: 0.8467 - val_auc: 0.9295 - val_student_loss: 0.0994\n",
            "Epoch 76/100\n",
            "154/154 [==============================] - ETA: 0s - categorical_accuracy: 0.9058 - auc: 0.9707 - student_loss: 0.2422 - distillation_loss: 0.0083"
          ]
        },
        {
          "output_type": "stream",
          "name": "stderr",
          "text": [
            "WARNING:tensorflow:Early stopping conditioned on metric `val_loss` which is not available. Available metrics are: categorical_accuracy,auc,student_loss,distillation_loss,val_categorical_accuracy,val_auc,val_student_loss\n"
          ]
        },
        {
          "output_type": "stream",
          "name": "stdout",
          "text": [
            "\b\b\b\b\b\b\b\b\b\b\b\b\b\b\b\b\b\b\b\b\b\b\b\b\b\b\b\b\b\b\b\b\b\b\b\b\b\b\b\b\b\b\b\b\b\b\b\b\b\b\b\b\b\b\b\b\b\b\b\b\b\b\b\b\b\b\b\b\b\b\b\b\b\b\b\b\b\b\b\b\b\b\b\b\b\b\b\b\b\b\b\b\b\b\b\b\b\b\b\b\b\b\b\b\b\b\b\b\b\b\b\b\b\b\b\b\b\b\b\b\b\b\b\b\b\b\b\b\b\b\b\b\b\b\b\b\b\b\b\b\b\b\b\b\b\b\r154/154 [==============================] - 3s 21ms/step - categorical_accuracy: 0.9058 - auc: 0.9707 - student_loss: 0.2434 - distillation_loss: 0.0085 - val_categorical_accuracy: 0.8483 - val_auc: 0.9254 - val_student_loss: 0.1132\n",
            "Epoch 77/100\n",
            "152/154 [============================>.] - ETA: 0s - categorical_accuracy: 0.9083 - auc: 0.9687 - student_loss: 0.2453 - distillation_loss: 0.0083"
          ]
        },
        {
          "output_type": "stream",
          "name": "stderr",
          "text": [
            "WARNING:tensorflow:Early stopping conditioned on metric `val_loss` which is not available. Available metrics are: categorical_accuracy,auc,student_loss,distillation_loss,val_categorical_accuracy,val_auc,val_student_loss\n"
          ]
        },
        {
          "output_type": "stream",
          "name": "stdout",
          "text": [
            "\b\b\b\b\b\b\b\b\b\b\b\b\b\b\b\b\b\b\b\b\b\b\b\b\b\b\b\b\b\b\b\b\b\b\b\b\b\b\b\b\b\b\b\b\b\b\b\b\b\b\b\b\b\b\b\b\b\b\b\b\b\b\b\b\b\b\b\b\b\b\b\b\b\b\b\b\b\b\b\b\b\b\b\b\b\b\b\b\b\b\b\b\b\b\b\b\b\b\b\b\b\b\b\b\b\b\b\b\b\b\b\b\b\b\b\b\b\b\b\b\b\b\b\b\b\b\b\b\b\b\b\b\b\b\b\b\b\b\b\b\b\b\b\b\b\b\r154/154 [==============================] - 3s 20ms/step - categorical_accuracy: 0.9086 - auc: 0.9690 - student_loss: 0.2433 - distillation_loss: 0.0083 - val_categorical_accuracy: 0.8548 - val_auc: 0.9268 - val_student_loss: 0.1079\n",
            "Epoch 78/100\n",
            "151/154 [============================>.] - ETA: 0s - categorical_accuracy: 0.9131 - auc: 0.9723 - student_loss: 0.2357 - distillation_loss: 0.0085"
          ]
        },
        {
          "output_type": "stream",
          "name": "stderr",
          "text": [
            "WARNING:tensorflow:Early stopping conditioned on metric `val_loss` which is not available. Available metrics are: categorical_accuracy,auc,student_loss,distillation_loss,val_categorical_accuracy,val_auc,val_student_loss\n"
          ]
        },
        {
          "output_type": "stream",
          "name": "stdout",
          "text": [
            "\b\b\b\b\b\b\b\b\b\b\b\b\b\b\b\b\b\b\b\b\b\b\b\b\b\b\b\b\b\b\b\b\b\b\b\b\b\b\b\b\b\b\b\b\b\b\b\b\b\b\b\b\b\b\b\b\b\b\b\b\b\b\b\b\b\b\b\b\b\b\b\b\b\b\b\b\b\b\b\b\b\b\b\b\b\b\b\b\b\b\b\b\b\b\b\b\b\b\b\b\b\b\b\b\b\b\b\b\b\b\b\b\b\b\b\b\b\b\b\b\b\b\b\b\b\b\b\b\b\b\b\b\b\b\b\b\b\b\b\b\b\b\b\b\b\b\r154/154 [==============================] - 3s 20ms/step - categorical_accuracy: 0.9131 - auc: 0.9721 - student_loss: 0.2436 - distillation_loss: 0.0085 - val_categorical_accuracy: 0.8499 - val_auc: 0.9268 - val_student_loss: 0.1142\n",
            "Epoch 79/100\n",
            "153/154 [============================>.] - ETA: 0s - categorical_accuracy: 0.9056 - auc: 0.9685 - student_loss: 0.2470 - distillation_loss: 0.0080"
          ]
        },
        {
          "output_type": "stream",
          "name": "stderr",
          "text": [
            "WARNING:tensorflow:Early stopping conditioned on metric `val_loss` which is not available. Available metrics are: categorical_accuracy,auc,student_loss,distillation_loss,val_categorical_accuracy,val_auc,val_student_loss\n"
          ]
        },
        {
          "output_type": "stream",
          "name": "stdout",
          "text": [
            "\b\b\b\b\b\b\b\b\b\b\b\b\b\b\b\b\b\b\b\b\b\b\b\b\b\b\b\b\b\b\b\b\b\b\b\b\b\b\b\b\b\b\b\b\b\b\b\b\b\b\b\b\b\b\b\b\b\b\b\b\b\b\b\b\b\b\b\b\b\b\b\b\b\b\b\b\b\b\b\b\b\b\b\b\b\b\b\b\b\b\b\b\b\b\b\b\b\b\b\b\b\b\b\b\b\b\b\b\b\b\b\b\b\b\b\b\b\b\b\b\b\b\b\b\b\b\b\b\b\b\b\b\b\b\b\b\b\b\b\b\b\b\b\b\b\b\r154/154 [==============================] - 3s 20ms/step - categorical_accuracy: 0.9058 - auc: 0.9686 - student_loss: 0.2454 - distillation_loss: 0.0079 - val_categorical_accuracy: 0.8434 - val_auc: 0.9201 - val_student_loss: 0.1257\n",
            "Epoch 80/100\n",
            "153/154 [============================>.] - ETA: 0s - categorical_accuracy: 0.9150 - auc: 0.9717 - student_loss: 0.2365 - distillation_loss: 0.0086"
          ]
        },
        {
          "output_type": "stream",
          "name": "stderr",
          "text": [
            "WARNING:tensorflow:Early stopping conditioned on metric `val_loss` which is not available. Available metrics are: categorical_accuracy,auc,student_loss,distillation_loss,val_categorical_accuracy,val_auc,val_student_loss\n"
          ]
        },
        {
          "output_type": "stream",
          "name": "stdout",
          "text": [
            "\b\b\b\b\b\b\b\b\b\b\b\b\b\b\b\b\b\b\b\b\b\b\b\b\b\b\b\b\b\b\b\b\b\b\b\b\b\b\b\b\b\b\b\b\b\b\b\b\b\b\b\b\b\b\b\b\b\b\b\b\b\b\b\b\b\b\b\b\b\b\b\b\b\b\b\b\b\b\b\b\b\b\b\b\b\b\b\b\b\b\b\b\b\b\b\b\b\b\b\b\b\b\b\b\b\b\b\b\b\b\b\b\b\b\b\b\b\b\b\b\b\b\b\b\b\b\b\b\b\b\b\b\b\b\b\b\b\b\b\b\b\b\b\b\b\b\r154/154 [==============================] - 3s 21ms/step - categorical_accuracy: 0.9151 - auc: 0.9716 - student_loss: 0.2375 - distillation_loss: 0.0086 - val_categorical_accuracy: 0.8499 - val_auc: 0.9294 - val_student_loss: 0.1047\n",
            "Epoch 81/100\n",
            "154/154 [==============================] - ETA: 0s - categorical_accuracy: 0.9074 - auc: 0.9733 - student_loss: 0.2322 - distillation_loss: 0.0084"
          ]
        },
        {
          "output_type": "stream",
          "name": "stderr",
          "text": [
            "WARNING:tensorflow:Early stopping conditioned on metric `val_loss` which is not available. Available metrics are: categorical_accuracy,auc,student_loss,distillation_loss,val_categorical_accuracy,val_auc,val_student_loss\n"
          ]
        },
        {
          "output_type": "stream",
          "name": "stdout",
          "text": [
            "\b\b\b\b\b\b\b\b\b\b\b\b\b\b\b\b\b\b\b\b\b\b\b\b\b\b\b\b\b\b\b\b\b\b\b\b\b\b\b\b\b\b\b\b\b\b\b\b\b\b\b\b\b\b\b\b\b\b\b\b\b\b\b\b\b\b\b\b\b\b\b\b\b\b\b\b\b\b\b\b\b\b\b\b\b\b\b\b\b\b\b\b\b\b\b\b\b\b\b\b\b\b\b\b\b\b\b\b\b\b\b\b\b\b\b\b\b\b\b\b\b\b\b\b\b\b\b\b\b\b\b\b\b\b\b\b\b\b\b\b\b\b\b\b\b\b\r154/154 [==============================] - 3s 20ms/step - categorical_accuracy: 0.9074 - auc: 0.9733 - student_loss: 0.2310 - distillation_loss: 0.0084 - val_categorical_accuracy: 0.8564 - val_auc: 0.9275 - val_student_loss: 0.1206\n",
            "Epoch 82/100\n",
            "154/154 [==============================] - ETA: 0s - categorical_accuracy: 0.9070 - auc: 0.9713 - student_loss: 0.2415 - distillation_loss: 0.0077"
          ]
        },
        {
          "output_type": "stream",
          "name": "stderr",
          "text": [
            "WARNING:tensorflow:Early stopping conditioned on metric `val_loss` which is not available. Available metrics are: categorical_accuracy,auc,student_loss,distillation_loss,val_categorical_accuracy,val_auc,val_student_loss\n"
          ]
        },
        {
          "output_type": "stream",
          "name": "stdout",
          "text": [
            "\b\b\b\b\b\b\b\b\b\b\b\b\b\b\b\b\b\b\b\b\b\b\b\b\b\b\b\b\b\b\b\b\b\b\b\b\b\b\b\b\b\b\b\b\b\b\b\b\b\b\b\b\b\b\b\b\b\b\b\b\b\b\b\b\b\b\b\b\b\b\b\b\b\b\b\b\b\b\b\b\b\b\b\b\b\b\b\b\b\b\b\b\b\b\b\b\b\b\b\b\b\b\b\b\b\b\b\b\b\b\b\b\b\b\b\b\b\b\b\b\b\b\b\b\b\b\b\b\b\b\b\b\b\b\b\b\b\b\b\b\b\b\b\b\b\b\r154/154 [==============================] - 3s 20ms/step - categorical_accuracy: 0.9070 - auc: 0.9713 - student_loss: 0.2436 - distillation_loss: 0.0076 - val_categorical_accuracy: 0.8467 - val_auc: 0.9174 - val_student_loss: 0.1388\n",
            "Epoch 83/100\n",
            "153/154 [============================>.] - ETA: 0s - categorical_accuracy: 0.9126 - auc: 0.9728 - student_loss: 0.2339 - distillation_loss: 0.0084"
          ]
        },
        {
          "output_type": "stream",
          "name": "stderr",
          "text": [
            "WARNING:tensorflow:Early stopping conditioned on metric `val_loss` which is not available. Available metrics are: categorical_accuracy,auc,student_loss,distillation_loss,val_categorical_accuracy,val_auc,val_student_loss\n"
          ]
        },
        {
          "output_type": "stream",
          "name": "stdout",
          "text": [
            "\b\b\b\b\b\b\b\b\b\b\b\b\b\b\b\b\b\b\b\b\b\b\b\b\b\b\b\b\b\b\b\b\b\b\b\b\b\b\b\b\b\b\b\b\b\b\b\b\b\b\b\b\b\b\b\b\b\b\b\b\b\b\b\b\b\b\b\b\b\b\b\b\b\b\b\b\b\b\b\b\b\b\b\b\b\b\b\b\b\b\b\b\b\b\b\b\b\b\b\b\b\b\b\b\b\b\b\b\b\b\b\b\b\b\b\b\b\b\b\b\b\b\b\b\b\b\b\b\b\b\b\b\b\b\b\b\b\b\b\b\b\b\b\b\b\b\r154/154 [==============================] - 3s 20ms/step - categorical_accuracy: 0.9127 - auc: 0.9728 - student_loss: 0.2341 - distillation_loss: 0.0084 - val_categorical_accuracy: 0.8515 - val_auc: 0.9246 - val_student_loss: 0.1029\n",
            "Epoch 84/100\n",
            "151/154 [============================>.] - ETA: 0s - categorical_accuracy: 0.9106 - auc: 0.9721 - student_loss: 0.2361 - distillation_loss: 0.0082"
          ]
        },
        {
          "output_type": "stream",
          "name": "stderr",
          "text": [
            "WARNING:tensorflow:Early stopping conditioned on metric `val_loss` which is not available. Available metrics are: categorical_accuracy,auc,student_loss,distillation_loss,val_categorical_accuracy,val_auc,val_student_loss\n"
          ]
        },
        {
          "output_type": "stream",
          "name": "stdout",
          "text": [
            "\b\b\b\b\b\b\b\b\b\b\b\b\b\b\b\b\b\b\b\b\b\b\b\b\b\b\b\b\b\b\b\b\b\b\b\b\b\b\b\b\b\b\b\b\b\b\b\b\b\b\b\b\b\b\b\b\b\b\b\b\b\b\b\b\b\b\b\b\b\b\b\b\b\b\b\b\b\b\b\b\b\b\b\b\b\b\b\b\b\b\b\b\b\b\b\b\b\b\b\b\b\b\b\b\b\b\b\b\b\b\b\b\b\b\b\b\b\b\b\b\b\b\b\b\b\b\b\b\b\b\b\b\b\b\b\b\b\b\b\b\b\b\b\b\b\b\r154/154 [==============================] - 3s 21ms/step - categorical_accuracy: 0.9102 - auc: 0.9722 - student_loss: 0.2386 - distillation_loss: 0.0082 - val_categorical_accuracy: 0.8532 - val_auc: 0.9273 - val_student_loss: 0.1185\n",
            "Epoch 85/100\n",
            "152/154 [============================>.] - ETA: 0s - categorical_accuracy: 0.9116 - auc: 0.9735 - student_loss: 0.2328 - distillation_loss: 0.0085"
          ]
        },
        {
          "output_type": "stream",
          "name": "stderr",
          "text": [
            "WARNING:tensorflow:Early stopping conditioned on metric `val_loss` which is not available. Available metrics are: categorical_accuracy,auc,student_loss,distillation_loss,val_categorical_accuracy,val_auc,val_student_loss\n"
          ]
        },
        {
          "output_type": "stream",
          "name": "stdout",
          "text": [
            "\b\b\b\b\b\b\b\b\b\b\b\b\b\b\b\b\b\b\b\b\b\b\b\b\b\b\b\b\b\b\b\b\b\b\b\b\b\b\b\b\b\b\b\b\b\b\b\b\b\b\b\b\b\b\b\b\b\b\b\b\b\b\b\b\b\b\b\b\b\b\b\b\b\b\b\b\b\b\b\b\b\b\b\b\b\b\b\b\b\b\b\b\b\b\b\b\b\b\b\b\b\b\b\b\b\b\b\b\b\b\b\b\b\b\b\b\b\b\b\b\b\b\b\b\b\b\b\b\b\b\b\b\b\b\b\b\b\b\b\b\b\b\b\b\b\b\r154/154 [==============================] - 3s 20ms/step - categorical_accuracy: 0.9111 - auc: 0.9735 - student_loss: 0.2342 - distillation_loss: 0.0084 - val_categorical_accuracy: 0.8467 - val_auc: 0.9210 - val_student_loss: 0.1152\n",
            "Epoch 86/100\n",
            "152/154 [============================>.] - ETA: 0s - categorical_accuracy: 0.9095 - auc: 0.9735 - student_loss: 0.2310 - distillation_loss: 0.0083"
          ]
        },
        {
          "output_type": "stream",
          "name": "stderr",
          "text": [
            "WARNING:tensorflow:Early stopping conditioned on metric `val_loss` which is not available. Available metrics are: categorical_accuracy,auc,student_loss,distillation_loss,val_categorical_accuracy,val_auc,val_student_loss\n"
          ]
        },
        {
          "output_type": "stream",
          "name": "stdout",
          "text": [
            "\b\b\b\b\b\b\b\b\b\b\b\b\b\b\b\b\b\b\b\b\b\b\b\b\b\b\b\b\b\b\b\b\b\b\b\b\b\b\b\b\b\b\b\b\b\b\b\b\b\b\b\b\b\b\b\b\b\b\b\b\b\b\b\b\b\b\b\b\b\b\b\b\b\b\b\b\b\b\b\b\b\b\b\b\b\b\b\b\b\b\b\b\b\b\b\b\b\b\b\b\b\b\b\b\b\b\b\b\b\b\b\b\b\b\b\b\b\b\b\b\b\b\b\b\b\b\b\b\b\b\b\b\b\b\b\b\b\b\b\b\b\b\b\b\b\b\r154/154 [==============================] - 3s 19ms/step - categorical_accuracy: 0.9102 - auc: 0.9738 - student_loss: 0.2289 - distillation_loss: 0.0082 - val_categorical_accuracy: 0.8499 - val_auc: 0.9273 - val_student_loss: 0.1051\n",
            "Epoch 87/100\n",
            "151/154 [============================>.] - ETA: 0s - categorical_accuracy: 0.9151 - auc: 0.9747 - student_loss: 0.2284 - distillation_loss: 0.0083"
          ]
        },
        {
          "output_type": "stream",
          "name": "stderr",
          "text": [
            "WARNING:tensorflow:Early stopping conditioned on metric `val_loss` which is not available. Available metrics are: categorical_accuracy,auc,student_loss,distillation_loss,val_categorical_accuracy,val_auc,val_student_loss\n"
          ]
        },
        {
          "output_type": "stream",
          "name": "stdout",
          "text": [
            "\b\b\b\b\b\b\b\b\b\b\b\b\b\b\b\b\b\b\b\b\b\b\b\b\b\b\b\b\b\b\b\b\b\b\b\b\b\b\b\b\b\b\b\b\b\b\b\b\b\b\b\b\b\b\b\b\b\b\b\b\b\b\b\b\b\b\b\b\b\b\b\b\b\b\b\b\b\b\b\b\b\b\b\b\b\b\b\b\b\b\b\b\b\b\b\b\b\b\b\b\b\b\b\b\b\b\b\b\b\b\b\b\b\b\b\b\b\b\b\b\b\b\b\b\b\b\b\b\b\b\b\b\b\b\b\b\b\b\b\b\b\b\b\b\b\b\r154/154 [==============================] - 3s 20ms/step - categorical_accuracy: 0.9155 - auc: 0.9748 - student_loss: 0.2296 - distillation_loss: 0.0086 - val_categorical_accuracy: 0.8418 - val_auc: 0.9259 - val_student_loss: 0.1084\n",
            "Epoch 88/100\n",
            "152/154 [============================>.] - ETA: 0s - categorical_accuracy: 0.9116 - auc: 0.9731 - student_loss: 0.2333 - distillation_loss: 0.0083"
          ]
        },
        {
          "output_type": "stream",
          "name": "stderr",
          "text": [
            "WARNING:tensorflow:Early stopping conditioned on metric `val_loss` which is not available. Available metrics are: categorical_accuracy,auc,student_loss,distillation_loss,val_categorical_accuracy,val_auc,val_student_loss\n"
          ]
        },
        {
          "output_type": "stream",
          "name": "stdout",
          "text": [
            "\b\b\b\b\b\b\b\b\b\b\b\b\b\b\b\b\b\b\b\b\b\b\b\b\b\b\b\b\b\b\b\b\b\b\b\b\b\b\b\b\b\b\b\b\b\b\b\b\b\b\b\b\b\b\b\b\b\b\b\b\b\b\b\b\b\b\b\b\b\b\b\b\b\b\b\b\b\b\b\b\b\b\b\b\b\b\b\b\b\b\b\b\b\b\b\b\b\b\b\b\b\b\b\b\b\b\b\b\b\b\b\b\b\b\b\b\b\b\b\b\b\b\b\b\b\b\b\b\b\b\b\b\b\b\b\b\b\b\b\b\b\b\b\b\b\b\r154/154 [==============================] - 3s 21ms/step - categorical_accuracy: 0.9123 - auc: 0.9733 - student_loss: 0.2304 - distillation_loss: 0.0083 - val_categorical_accuracy: 0.8581 - val_auc: 0.9322 - val_student_loss: 0.0838\n",
            "Epoch 89/100\n",
            "151/154 [============================>.] - ETA: 0s - categorical_accuracy: 0.9123 - auc: 0.9728 - student_loss: 0.2325 - distillation_loss: 0.0081"
          ]
        },
        {
          "output_type": "stream",
          "name": "stderr",
          "text": [
            "WARNING:tensorflow:Early stopping conditioned on metric `val_loss` which is not available. Available metrics are: categorical_accuracy,auc,student_loss,distillation_loss,val_categorical_accuracy,val_auc,val_student_loss\n"
          ]
        },
        {
          "output_type": "stream",
          "name": "stdout",
          "text": [
            "\b\b\b\b\b\b\b\b\b\b\b\b\b\b\b\b\b\b\b\b\b\b\b\b\b\b\b\b\b\b\b\b\b\b\b\b\b\b\b\b\b\b\b\b\b\b\b\b\b\b\b\b\b\b\b\b\b\b\b\b\b\b\b\b\b\b\b\b\b\b\b\b\b\b\b\b\b\b\b\b\b\b\b\b\b\b\b\b\b\b\b\b\b\b\b\b\b\b\b\b\b\b\b\b\b\b\b\b\b\b\b\b\b\b\b\b\b\b\b\b\b\b\b\b\b\b\b\b\b\b\b\b\b\b\b\b\b\b\b\b\b\b\b\b\b\b\r154/154 [==============================] - 3s 20ms/step - categorical_accuracy: 0.9115 - auc: 0.9724 - student_loss: 0.2381 - distillation_loss: 0.0080 - val_categorical_accuracy: 0.8450 - val_auc: 0.9248 - val_student_loss: 0.0947\n",
            "Epoch 90/100\n",
            "152/154 [============================>.] - ETA: 0s - categorical_accuracy: 0.9186 - auc: 0.9770 - student_loss: 0.2236 - distillation_loss: 0.0087"
          ]
        },
        {
          "output_type": "stream",
          "name": "stderr",
          "text": [
            "WARNING:tensorflow:Early stopping conditioned on metric `val_loss` which is not available. Available metrics are: categorical_accuracy,auc,student_loss,distillation_loss,val_categorical_accuracy,val_auc,val_student_loss\n"
          ]
        },
        {
          "output_type": "stream",
          "name": "stdout",
          "text": [
            "\b\b\b\b\b\b\b\b\b\b\b\b\b\b\b\b\b\b\b\b\b\b\b\b\b\b\b\b\b\b\b\b\b\b\b\b\b\b\b\b\b\b\b\b\b\b\b\b\b\b\b\b\b\b\b\b\b\b\b\b\b\b\b\b\b\b\b\b\b\b\b\b\b\b\b\b\b\b\b\b\b\b\b\b\b\b\b\b\b\b\b\b\b\b\b\b\b\b\b\b\b\b\b\b\b\b\b\b\b\b\b\b\b\b\b\b\b\b\b\b\b\b\b\b\b\b\b\b\b\b\b\b\b\b\b\b\b\b\b\b\b\b\b\b\b\b\r154/154 [==============================] - 3s 19ms/step - categorical_accuracy: 0.9184 - auc: 0.9770 - student_loss: 0.2265 - distillation_loss: 0.0086 - val_categorical_accuracy: 0.8467 - val_auc: 0.9272 - val_student_loss: 0.0923\n",
            "Epoch 91/100\n",
            "153/154 [============================>.] - ETA: 0s - categorical_accuracy: 0.9175 - auc: 0.9745 - student_loss: 0.2279 - distillation_loss: 0.0085"
          ]
        },
        {
          "output_type": "stream",
          "name": "stderr",
          "text": [
            "WARNING:tensorflow:Early stopping conditioned on metric `val_loss` which is not available. Available metrics are: categorical_accuracy,auc,student_loss,distillation_loss,val_categorical_accuracy,val_auc,val_student_loss\n"
          ]
        },
        {
          "output_type": "stream",
          "name": "stdout",
          "text": [
            "\b\b\b\b\b\b\b\b\b\b\b\b\b\b\b\b\b\b\b\b\b\b\b\b\b\b\b\b\b\b\b\b\b\b\b\b\b\b\b\b\b\b\b\b\b\b\b\b\b\b\b\b\b\b\b\b\b\b\b\b\b\b\b\b\b\b\b\b\b\b\b\b\b\b\b\b\b\b\b\b\b\b\b\b\b\b\b\b\b\b\b\b\b\b\b\b\b\b\b\b\b\b\b\b\b\b\b\b\b\b\b\b\b\b\b\b\b\b\b\b\b\b\b\b\b\b\b\b\b\b\b\b\b\b\b\b\b\b\b\b\b\b\b\b\b\b\r154/154 [==============================] - 3s 20ms/step - categorical_accuracy: 0.9176 - auc: 0.9746 - student_loss: 0.2260 - distillation_loss: 0.0084 - val_categorical_accuracy: 0.8450 - val_auc: 0.9281 - val_student_loss: 0.0971\n",
            "Epoch 92/100\n",
            "152/154 [============================>.] - ETA: 0s - categorical_accuracy: 0.9198 - auc: 0.9762 - student_loss: 0.2230 - distillation_loss: 0.0090"
          ]
        },
        {
          "output_type": "stream",
          "name": "stderr",
          "text": [
            "WARNING:tensorflow:Early stopping conditioned on metric `val_loss` which is not available. Available metrics are: categorical_accuracy,auc,student_loss,distillation_loss,val_categorical_accuracy,val_auc,val_student_loss\n"
          ]
        },
        {
          "output_type": "stream",
          "name": "stdout",
          "text": [
            "\b\b\b\b\b\b\b\b\b\b\b\b\b\b\b\b\b\b\b\b\b\b\b\b\b\b\b\b\b\b\b\b\b\b\b\b\b\b\b\b\b\b\b\b\b\b\b\b\b\b\b\b\b\b\b\b\b\b\b\b\b\b\b\b\b\b\b\b\b\b\b\b\b\b\b\b\b\b\b\b\b\b\b\b\b\b\b\b\b\b\b\b\b\b\b\b\b\b\b\b\b\b\b\b\b\b\b\b\b\b\b\b\b\b\b\b\b\b\b\b\b\b\b\b\b\b\b\b\b\b\b\b\b\b\b\b\b\b\b\b\b\b\b\b\b\b\r154/154 [==============================] - 3s 21ms/step - categorical_accuracy: 0.9200 - auc: 0.9763 - student_loss: 0.2221 - distillation_loss: 0.0091 - val_categorical_accuracy: 0.8450 - val_auc: 0.9253 - val_student_loss: 0.0996\n",
            "Epoch 93/100\n",
            "152/154 [============================>.] - ETA: 0s - categorical_accuracy: 0.9120 - auc: 0.9749 - student_loss: 0.2265 - distillation_loss: 0.0086"
          ]
        },
        {
          "output_type": "stream",
          "name": "stderr",
          "text": [
            "WARNING:tensorflow:Early stopping conditioned on metric `val_loss` which is not available. Available metrics are: categorical_accuracy,auc,student_loss,distillation_loss,val_categorical_accuracy,val_auc,val_student_loss\n"
          ]
        },
        {
          "output_type": "stream",
          "name": "stdout",
          "text": [
            "\b\b\b\b\b\b\b\b\b\b\b\b\b\b\b\b\b\b\b\b\b\b\b\b\b\b\b\b\b\b\b\b\b\b\b\b\b\b\b\b\b\b\b\b\b\b\b\b\b\b\b\b\b\b\b\b\b\b\b\b\b\b\b\b\b\b\b\b\b\b\b\b\b\b\b\b\b\b\b\b\b\b\b\b\b\b\b\b\b\b\b\b\b\b\b\b\b\b\b\b\b\b\b\b\b\b\b\b\b\b\b\b\b\b\b\b\b\b\b\b\b\b\b\b\b\b\b\b\b\b\b\b\b\b\b\b\b\b\b\b\b\b\b\b\b\b\r154/154 [==============================] - 3s 19ms/step - categorical_accuracy: 0.9127 - auc: 0.9752 - student_loss: 0.2249 - distillation_loss: 0.0085 - val_categorical_accuracy: 0.8450 - val_auc: 0.9288 - val_student_loss: 0.0972\n",
            "Epoch 94/100\n",
            "154/154 [==============================] - ETA: 0s - categorical_accuracy: 0.9176 - auc: 0.9760 - student_loss: 0.2229 - distillation_loss: 0.0086"
          ]
        },
        {
          "output_type": "stream",
          "name": "stderr",
          "text": [
            "WARNING:tensorflow:Early stopping conditioned on metric `val_loss` which is not available. Available metrics are: categorical_accuracy,auc,student_loss,distillation_loss,val_categorical_accuracy,val_auc,val_student_loss\n"
          ]
        },
        {
          "output_type": "stream",
          "name": "stdout",
          "text": [
            "\b\b\b\b\b\b\b\b\b\b\b\b\b\b\b\b\b\b\b\b\b\b\b\b\b\b\b\b\b\b\b\b\b\b\b\b\b\b\b\b\b\b\b\b\b\b\b\b\b\b\b\b\b\b\b\b\b\b\b\b\b\b\b\b\b\b\b\b\b\b\b\b\b\b\b\b\b\b\b\b\b\b\b\b\b\b\b\b\b\b\b\b\b\b\b\b\b\b\b\b\b\b\b\b\b\b\b\b\b\b\b\b\b\b\b\b\b\b\b\b\b\b\b\b\b\b\b\b\b\b\b\b\b\b\b\b\b\b\b\b\b\b\b\b\b\b\r154/154 [==============================] - 4s 23ms/step - categorical_accuracy: 0.9176 - auc: 0.9760 - student_loss: 0.2226 - distillation_loss: 0.0086 - val_categorical_accuracy: 0.8450 - val_auc: 0.9244 - val_student_loss: 0.1045\n",
            "Epoch 95/100\n",
            "152/154 [============================>.] - ETA: 0s - categorical_accuracy: 0.9182 - auc: 0.9771 - student_loss: 0.2213 - distillation_loss: 0.0085"
          ]
        },
        {
          "output_type": "stream",
          "name": "stderr",
          "text": [
            "WARNING:tensorflow:Early stopping conditioned on metric `val_loss` which is not available. Available metrics are: categorical_accuracy,auc,student_loss,distillation_loss,val_categorical_accuracy,val_auc,val_student_loss\n"
          ]
        },
        {
          "output_type": "stream",
          "name": "stdout",
          "text": [
            "\b\b\b\b\b\b\b\b\b\b\b\b\b\b\b\b\b\b\b\b\b\b\b\b\b\b\b\b\b\b\b\b\b\b\b\b\b\b\b\b\b\b\b\b\b\b\b\b\b\b\b\b\b\b\b\b\b\b\b\b\b\b\b\b\b\b\b\b\b\b\b\b\b\b\b\b\b\b\b\b\b\b\b\b\b\b\b\b\b\b\b\b\b\b\b\b\b\b\b\b\b\b\b\b\b\b\b\b\b\b\b\b\b\b\b\b\b\b\b\b\b\b\b\b\b\b\b\b\b\b\b\b\b\b\b\b\b\b\b\b\b\b\b\b\b\b\r154/154 [==============================] - 3s 19ms/step - categorical_accuracy: 0.9180 - auc: 0.9771 - student_loss: 0.2222 - distillation_loss: 0.0087 - val_categorical_accuracy: 0.8499 - val_auc: 0.9301 - val_student_loss: 0.0970\n",
            "Epoch 96/100\n",
            "152/154 [============================>.] - ETA: 0s - categorical_accuracy: 0.9095 - auc: 0.9759 - student_loss: 0.2252 - distillation_loss: 0.0080"
          ]
        },
        {
          "output_type": "stream",
          "name": "stderr",
          "text": [
            "WARNING:tensorflow:Early stopping conditioned on metric `val_loss` which is not available. Available metrics are: categorical_accuracy,auc,student_loss,distillation_loss,val_categorical_accuracy,val_auc,val_student_loss\n"
          ]
        },
        {
          "output_type": "stream",
          "name": "stdout",
          "text": [
            "\b\b\b\b\b\b\b\b\b\b\b\b\b\b\b\b\b\b\b\b\b\b\b\b\b\b\b\b\b\b\b\b\b\b\b\b\b\b\b\b\b\b\b\b\b\b\b\b\b\b\b\b\b\b\b\b\b\b\b\b\b\b\b\b\b\b\b\b\b\b\b\b\b\b\b\b\b\b\b\b\b\b\b\b\b\b\b\b\b\b\b\b\b\b\b\b\b\b\b\b\b\b\b\b\b\b\b\b\b\b\b\b\b\b\b\b\b\b\b\b\b\b\b\b\b\b\b\b\b\b\b\b\b\b\b\b\b\b\b\b\b\b\b\b\b\b\r154/154 [==============================] - 3s 20ms/step - categorical_accuracy: 0.9098 - auc: 0.9760 - student_loss: 0.2250 - distillation_loss: 0.0082 - val_categorical_accuracy: 0.8434 - val_auc: 0.9261 - val_student_loss: 0.1065\n",
            "Epoch 97/100\n",
            "154/154 [==============================] - ETA: 0s - categorical_accuracy: 0.9200 - auc: 0.9771 - student_loss: 0.2206 - distillation_loss: 0.0088"
          ]
        },
        {
          "output_type": "stream",
          "name": "stderr",
          "text": [
            "WARNING:tensorflow:Early stopping conditioned on metric `val_loss` which is not available. Available metrics are: categorical_accuracy,auc,student_loss,distillation_loss,val_categorical_accuracy,val_auc,val_student_loss\n"
          ]
        },
        {
          "output_type": "stream",
          "name": "stdout",
          "text": [
            "\b\b\b\b\b\b\b\b\b\b\b\b\b\b\b\b\b\b\b\b\b\b\b\b\b\b\b\b\b\b\b\b\b\b\b\b\b\b\b\b\b\b\b\b\b\b\b\b\b\b\b\b\b\b\b\b\b\b\b\b\b\b\b\b\b\b\b\b\b\b\b\b\b\b\b\b\b\b\b\b\b\b\b\b\b\b\b\b\b\b\b\b\b\b\b\b\b\b\b\b\b\b\b\b\b\b\b\b\b\b\b\b\b\b\b\b\b\b\b\b\b\b\b\b\b\b\b\b\b\b\b\b\b\b\b\b\b\b\b\b\b\b\b\b\b\b\r154/154 [==============================] - 3s 20ms/step - categorical_accuracy: 0.9200 - auc: 0.9771 - student_loss: 0.2200 - distillation_loss: 0.0088 - val_categorical_accuracy: 0.8434 - val_auc: 0.9271 - val_student_loss: 0.0902\n",
            "Epoch 98/100\n",
            "154/154 [==============================] - ETA: 0s - categorical_accuracy: 0.9204 - auc: 0.9776 - student_loss: 0.2196 - distillation_loss: 0.0087"
          ]
        },
        {
          "output_type": "stream",
          "name": "stderr",
          "text": [
            "WARNING:tensorflow:Early stopping conditioned on metric `val_loss` which is not available. Available metrics are: categorical_accuracy,auc,student_loss,distillation_loss,val_categorical_accuracy,val_auc,val_student_loss\n"
          ]
        },
        {
          "output_type": "stream",
          "name": "stdout",
          "text": [
            "\b\b\b\b\b\b\b\b\b\b\b\b\b\b\b\b\b\b\b\b\b\b\b\b\b\b\b\b\b\b\b\b\b\b\b\b\b\b\b\b\b\b\b\b\b\b\b\b\b\b\b\b\b\b\b\b\b\b\b\b\b\b\b\b\b\b\b\b\b\b\b\b\b\b\b\b\b\b\b\b\b\b\b\b\b\b\b\b\b\b\b\b\b\b\b\b\b\b\b\b\b\b\b\b\b\b\b\b\b\b\b\b\b\b\b\b\b\b\b\b\b\b\b\b\b\b\b\b\b\b\b\b\b\b\b\b\b\b\b\b\b\b\b\b\b\b\r154/154 [==============================] - 3s 20ms/step - categorical_accuracy: 0.9204 - auc: 0.9776 - student_loss: 0.2209 - distillation_loss: 0.0086 - val_categorical_accuracy: 0.8483 - val_auc: 0.9251 - val_student_loss: 0.0977\n",
            "Epoch 99/100\n",
            "151/154 [============================>.] - ETA: 0s - categorical_accuracy: 0.9230 - auc: 0.9791 - student_loss: 0.2143 - distillation_loss: 0.0089"
          ]
        },
        {
          "output_type": "stream",
          "name": "stderr",
          "text": [
            "WARNING:tensorflow:Early stopping conditioned on metric `val_loss` which is not available. Available metrics are: categorical_accuracy,auc,student_loss,distillation_loss,val_categorical_accuracy,val_auc,val_student_loss\n"
          ]
        },
        {
          "output_type": "stream",
          "name": "stdout",
          "text": [
            "\b\b\b\b\b\b\b\b\b\b\b\b\b\b\b\b\b\b\b\b\b\b\b\b\b\b\b\b\b\b\b\b\b\b\b\b\b\b\b\b\b\b\b\b\b\b\b\b\b\b\b\b\b\b\b\b\b\b\b\b\b\b\b\b\b\b\b\b\b\b\b\b\b\b\b\b\b\b\b\b\b\b\b\b\b\b\b\b\b\b\b\b\b\b\b\b\b\b\b\b\b\b\b\b\b\b\b\b\b\b\b\b\b\b\b\b\b\b\b\b\b\b\b\b\b\b\b\b\b\b\b\b\b\b\b\b\b\b\b\b\b\b\b\b\b\b\r154/154 [==============================] - 3s 19ms/step - categorical_accuracy: 0.9237 - auc: 0.9794 - student_loss: 0.2113 - distillation_loss: 0.0088 - val_categorical_accuracy: 0.8467 - val_auc: 0.9248 - val_student_loss: 0.0930\n",
            "Epoch 100/100\n",
            "154/154 [==============================] - ETA: 0s - categorical_accuracy: 0.9172 - auc: 0.9783 - student_loss: 0.2158 - distillation_loss: 0.0089"
          ]
        },
        {
          "output_type": "stream",
          "name": "stderr",
          "text": [
            "WARNING:tensorflow:Early stopping conditioned on metric `val_loss` which is not available. Available metrics are: categorical_accuracy,auc,student_loss,distillation_loss,val_categorical_accuracy,val_auc,val_student_loss\n"
          ]
        },
        {
          "output_type": "stream",
          "name": "stdout",
          "text": [
            "154/154 [==============================] - 3s 20ms/step - categorical_accuracy: 0.9172 - auc: 0.9783 - student_loss: 0.2147 - distillation_loss: 0.0089 - val_categorical_accuracy: 0.8467 - val_auc: 0.9192 - val_student_loss: 0.1031\n",
            "20/20 [==============================] - 0s 7ms/step - categorical_accuracy: 0.8467 - auc: 0.9192 - student_loss: 0.3417\n",
            "20/20 [==============================] - 1s 7ms/step\n",
            "[[250  80]\n",
            " [ 14 269]]\n",
            "Start train Fold  5\n",
            "Epoch 1/100\n"
          ]
        },
        {
          "output_type": "stream",
          "name": "stderr",
          "text": [
            "/usr/local/lib/python3.10/dist-packages/keras/src/backend.py:5575: UserWarning: \"`categorical_crossentropy` received `from_logits=True`, but the `output` argument was produced by a Softmax activation and thus does not represent logits. Was this intended?\n",
            "  output, from_logits = _get_logits(\n"
          ]
        },
        {
          "output_type": "stream",
          "name": "stdout",
          "text": [
            "152/154 [============================>.] - ETA: 0s - categorical_accuracy: 0.5855 - auc: 0.6556 - student_loss: 0.6574 - distillation_loss: 0.0474"
          ]
        },
        {
          "output_type": "stream",
          "name": "stderr",
          "text": [
            "WARNING:tensorflow:Early stopping conditioned on metric `val_loss` which is not available. Available metrics are: categorical_accuracy,auc,student_loss,distillation_loss,val_categorical_accuracy,val_auc,val_student_loss\n"
          ]
        },
        {
          "output_type": "stream",
          "name": "stdout",
          "text": [
            "\b\b\b\b\b\b\b\b\b\b\b\b\b\b\b\b\b\b\b\b\b\b\b\b\b\b\b\b\b\b\b\b\b\b\b\b\b\b\b\b\b\b\b\b\b\b\b\b\b\b\b\b\b\b\b\b\b\b\b\b\b\b\b\b\b\b\b\b\b\b\b\b\b\b\b\b\b\b\b\b\b\b\b\b\b\b\b\b\b\b\b\b\b\b\b\b\b\b\b\b\b\b\b\b\b\b\b\b\b\b\b\b\b\b\b\b\b\b\b\b\b\b\b\b\b\b\b\b\b\b\b\b\b\b\b\b\b\b\b\b\b\b\b\b\b\b\r154/154 [==============================] - 9s 26ms/step - categorical_accuracy: 0.5877 - auc: 0.6583 - student_loss: 0.6531 - distillation_loss: 0.0470 - val_categorical_accuracy: 0.7320 - val_auc: 0.8012 - val_student_loss: 0.5524\n",
            "Epoch 2/100\n",
            "154/154 [==============================] - ETA: 0s - categorical_accuracy: 0.7594 - auc: 0.8225 - student_loss: 0.5288 - distillation_loss: 0.0276"
          ]
        },
        {
          "output_type": "stream",
          "name": "stderr",
          "text": [
            "WARNING:tensorflow:Early stopping conditioned on metric `val_loss` which is not available. Available metrics are: categorical_accuracy,auc,student_loss,distillation_loss,val_categorical_accuracy,val_auc,val_student_loss\n"
          ]
        },
        {
          "output_type": "stream",
          "name": "stdout",
          "text": [
            "\b\b\b\b\b\b\b\b\b\b\b\b\b\b\b\b\b\b\b\b\b\b\b\b\b\b\b\b\b\b\b\b\b\b\b\b\b\b\b\b\b\b\b\b\b\b\b\b\b\b\b\b\b\b\b\b\b\b\b\b\b\b\b\b\b\b\b\b\b\b\b\b\b\b\b\b\b\b\b\b\b\b\b\b\b\b\b\b\b\b\b\b\b\b\b\b\b\b\b\b\b\b\b\b\b\b\b\b\b\b\b\b\b\b\b\b\b\b\b\b\b\b\b\b\b\b\b\b\b\b\b\b\b\b\b\b\b\b\b\b\b\b\b\b\b\b\r154/154 [==============================] - 3s 21ms/step - categorical_accuracy: 0.7594 - auc: 0.8225 - student_loss: 0.5285 - distillation_loss: 0.0276 - val_categorical_accuracy: 0.7810 - val_auc: 0.8428 - val_student_loss: 0.4367\n",
            "Epoch 3/100\n",
            "153/154 [============================>.] - ETA: 0s - categorical_accuracy: 0.7810 - auc: 0.8484 - student_loss: 0.4900 - distillation_loss: 0.0246"
          ]
        },
        {
          "output_type": "stream",
          "name": "stderr",
          "text": [
            "WARNING:tensorflow:Early stopping conditioned on metric `val_loss` which is not available. Available metrics are: categorical_accuracy,auc,student_loss,distillation_loss,val_categorical_accuracy,val_auc,val_student_loss\n"
          ]
        },
        {
          "output_type": "stream",
          "name": "stdout",
          "text": [
            "\b\b\b\b\b\b\b\b\b\b\b\b\b\b\b\b\b\b\b\b\b\b\b\b\b\b\b\b\b\b\b\b\b\b\b\b\b\b\b\b\b\b\b\b\b\b\b\b\b\b\b\b\b\b\b\b\b\b\b\b\b\b\b\b\b\b\b\b\b\b\b\b\b\b\b\b\b\b\b\b\b\b\b\b\b\b\b\b\b\b\b\b\b\b\b\b\b\b\b\b\b\b\b\b\b\b\b\b\b\b\b\b\b\b\b\b\b\b\b\b\b\b\b\b\b\b\b\b\b\b\b\b\b\b\b\b\b\b\b\b\b\b\b\b\b\b\r154/154 [==============================] - 3s 20ms/step - categorical_accuracy: 0.7814 - auc: 0.8486 - student_loss: 0.4889 - distillation_loss: 0.0245 - val_categorical_accuracy: 0.7908 - val_auc: 0.8586 - val_student_loss: 0.3828\n",
            "Epoch 4/100\n",
            "152/154 [============================>.] - ETA: 0s - categorical_accuracy: 0.7924 - auc: 0.8623 - student_loss: 0.4675 - distillation_loss: 0.0235"
          ]
        },
        {
          "output_type": "stream",
          "name": "stderr",
          "text": [
            "WARNING:tensorflow:Early stopping conditioned on metric `val_loss` which is not available. Available metrics are: categorical_accuracy,auc,student_loss,distillation_loss,val_categorical_accuracy,val_auc,val_student_loss\n"
          ]
        },
        {
          "output_type": "stream",
          "name": "stdout",
          "text": [
            "\b\b\b\b\b\b\b\b\b\b\b\b\b\b\b\b\b\b\b\b\b\b\b\b\b\b\b\b\b\b\b\b\b\b\b\b\b\b\b\b\b\b\b\b\b\b\b\b\b\b\b\b\b\b\b\b\b\b\b\b\b\b\b\b\b\b\b\b\b\b\b\b\b\b\b\b\b\b\b\b\b\b\b\b\b\b\b\b\b\b\b\b\b\b\b\b\b\b\b\b\b\b\b\b\b\b\b\b\b\b\b\b\b\b\b\b\b\b\b\b\b\b\b\b\b\b\b\b\b\b\b\b\b\b\b\b\b\b\b\b\b\b\b\b\b\b\r154/154 [==============================] - 3s 19ms/step - categorical_accuracy: 0.7920 - auc: 0.8624 - student_loss: 0.4655 - distillation_loss: 0.0233 - val_categorical_accuracy: 0.7941 - val_auc: 0.8726 - val_student_loss: 0.2786\n",
            "Epoch 5/100\n",
            "154/154 [==============================] - ETA: 0s - categorical_accuracy: 0.7977 - auc: 0.8729 - student_loss: 0.4507 - distillation_loss: 0.0218"
          ]
        },
        {
          "output_type": "stream",
          "name": "stderr",
          "text": [
            "WARNING:tensorflow:Early stopping conditioned on metric `val_loss` which is not available. Available metrics are: categorical_accuracy,auc,student_loss,distillation_loss,val_categorical_accuracy,val_auc,val_student_loss\n"
          ]
        },
        {
          "output_type": "stream",
          "name": "stdout",
          "text": [
            "\b\b\b\b\b\b\b\b\b\b\b\b\b\b\b\b\b\b\b\b\b\b\b\b\b\b\b\b\b\b\b\b\b\b\b\b\b\b\b\b\b\b\b\b\b\b\b\b\b\b\b\b\b\b\b\b\b\b\b\b\b\b\b\b\b\b\b\b\b\b\b\b\b\b\b\b\b\b\b\b\b\b\b\b\b\b\b\b\b\b\b\b\b\b\b\b\b\b\b\b\b\b\b\b\b\b\b\b\b\b\b\b\b\b\b\b\b\b\b\b\b\b\b\b\b\b\b\b\b\b\b\b\b\b\b\b\b\b\b\b\b\b\b\b\b\b\r154/154 [==============================] - 3s 20ms/step - categorical_accuracy: 0.7977 - auc: 0.8729 - student_loss: 0.4487 - distillation_loss: 0.0217 - val_categorical_accuracy: 0.7958 - val_auc: 0.8780 - val_student_loss: 0.3444\n",
            "Epoch 6/100\n",
            "154/154 [==============================] - ETA: 0s - categorical_accuracy: 0.8079 - auc: 0.8840 - student_loss: 0.4378 - distillation_loss: 0.0202"
          ]
        },
        {
          "output_type": "stream",
          "name": "stderr",
          "text": [
            "WARNING:tensorflow:Early stopping conditioned on metric `val_loss` which is not available. Available metrics are: categorical_accuracy,auc,student_loss,distillation_loss,val_categorical_accuracy,val_auc,val_student_loss\n"
          ]
        },
        {
          "output_type": "stream",
          "name": "stdout",
          "text": [
            "\b\b\b\b\b\b\b\b\b\b\b\b\b\b\b\b\b\b\b\b\b\b\b\b\b\b\b\b\b\b\b\b\b\b\b\b\b\b\b\b\b\b\b\b\b\b\b\b\b\b\b\b\b\b\b\b\b\b\b\b\b\b\b\b\b\b\b\b\b\b\b\b\b\b\b\b\b\b\b\b\b\b\b\b\b\b\b\b\b\b\b\b\b\b\b\b\b\b\b\b\b\b\b\b\b\b\b\b\b\b\b\b\b\b\b\b\b\b\b\b\b\b\b\b\b\b\b\b\b\b\b\b\b\b\b\b\b\b\b\b\b\b\b\b\b\b\r154/154 [==============================] - 3s 21ms/step - categorical_accuracy: 0.8079 - auc: 0.8840 - student_loss: 0.4439 - distillation_loss: 0.0202 - val_categorical_accuracy: 0.8105 - val_auc: 0.8963 - val_student_loss: 0.2503\n",
            "Epoch 7/100\n",
            "152/154 [============================>.] - ETA: 0s - categorical_accuracy: 0.8203 - auc: 0.8960 - student_loss: 0.4153 - distillation_loss: 0.0181"
          ]
        },
        {
          "output_type": "stream",
          "name": "stderr",
          "text": [
            "WARNING:tensorflow:Early stopping conditioned on metric `val_loss` which is not available. Available metrics are: categorical_accuracy,auc,student_loss,distillation_loss,val_categorical_accuracy,val_auc,val_student_loss\n"
          ]
        },
        {
          "output_type": "stream",
          "name": "stdout",
          "text": [
            "\b\b\b\b\b\b\b\b\b\b\b\b\b\b\b\b\b\b\b\b\b\b\b\b\b\b\b\b\b\b\b\b\b\b\b\b\b\b\b\b\b\b\b\b\b\b\b\b\b\b\b\b\b\b\b\b\b\b\b\b\b\b\b\b\b\b\b\b\b\b\b\b\b\b\b\b\b\b\b\b\b\b\b\b\b\b\b\b\b\b\b\b\b\b\b\b\b\b\b\b\b\b\b\b\b\b\b\b\b\b\b\b\b\b\b\b\b\b\b\b\b\b\b\b\b\b\b\b\b\b\b\b\b\b\b\b\b\b\b\b\b\b\b\b\b\b\r154/154 [==============================] - 3s 19ms/step - categorical_accuracy: 0.8210 - auc: 0.8965 - student_loss: 0.4184 - distillation_loss: 0.0185 - val_categorical_accuracy: 0.8268 - val_auc: 0.9057 - val_student_loss: 0.2620\n",
            "Epoch 8/100\n",
            "152/154 [============================>.] - ETA: 0s - categorical_accuracy: 0.8257 - auc: 0.9064 - student_loss: 0.3970 - distillation_loss: 0.0166"
          ]
        },
        {
          "output_type": "stream",
          "name": "stderr",
          "text": [
            "WARNING:tensorflow:Early stopping conditioned on metric `val_loss` which is not available. Available metrics are: categorical_accuracy,auc,student_loss,distillation_loss,val_categorical_accuracy,val_auc,val_student_loss\n"
          ]
        },
        {
          "output_type": "stream",
          "name": "stdout",
          "text": [
            "\b\b\b\b\b\b\b\b\b\b\b\b\b\b\b\b\b\b\b\b\b\b\b\b\b\b\b\b\b\b\b\b\b\b\b\b\b\b\b\b\b\b\b\b\b\b\b\b\b\b\b\b\b\b\b\b\b\b\b\b\b\b\b\b\b\b\b\b\b\b\b\b\b\b\b\b\b\b\b\b\b\b\b\b\b\b\b\b\b\b\b\b\b\b\b\b\b\b\b\b\b\b\b\b\b\b\b\b\b\b\b\b\b\b\b\b\b\b\b\b\b\b\b\b\b\b\b\b\b\b\b\b\b\b\b\b\b\b\b\b\b\b\b\b\b\b\r154/154 [==============================] - 3s 20ms/step - categorical_accuracy: 0.8250 - auc: 0.9053 - student_loss: 0.4027 - distillation_loss: 0.0165 - val_categorical_accuracy: 0.8252 - val_auc: 0.9110 - val_student_loss: 0.3500\n",
            "Epoch 9/100\n",
            "152/154 [============================>.] - ETA: 0s - categorical_accuracy: 0.8376 - auc: 0.9172 - student_loss: 0.3745 - distillation_loss: 0.0152"
          ]
        },
        {
          "output_type": "stream",
          "name": "stderr",
          "text": [
            "WARNING:tensorflow:Early stopping conditioned on metric `val_loss` which is not available. Available metrics are: categorical_accuracy,auc,student_loss,distillation_loss,val_categorical_accuracy,val_auc,val_student_loss\n"
          ]
        },
        {
          "output_type": "stream",
          "name": "stdout",
          "text": [
            "\b\b\b\b\b\b\b\b\b\b\b\b\b\b\b\b\b\b\b\b\b\b\b\b\b\b\b\b\b\b\b\b\b\b\b\b\b\b\b\b\b\b\b\b\b\b\b\b\b\b\b\b\b\b\b\b\b\b\b\b\b\b\b\b\b\b\b\b\b\b\b\b\b\b\b\b\b\b\b\b\b\b\b\b\b\b\b\b\b\b\b\b\b\b\b\b\b\b\b\b\b\b\b\b\b\b\b\b\b\b\b\b\b\b\b\b\b\b\b\b\b\b\b\b\b\b\b\b\b\b\b\b\b\b\b\b\b\b\b\b\b\b\b\b\b\b\r154/154 [==============================] - 3s 20ms/step - categorical_accuracy: 0.8385 - auc: 0.9176 - student_loss: 0.3713 - distillation_loss: 0.0157 - val_categorical_accuracy: 0.8399 - val_auc: 0.9211 - val_student_loss: 0.2950\n",
            "Epoch 10/100\n",
            "154/154 [==============================] - ETA: 0s - categorical_accuracy: 0.8393 - auc: 0.9168 - student_loss: 0.3719 - distillation_loss: 0.0145"
          ]
        },
        {
          "output_type": "stream",
          "name": "stderr",
          "text": [
            "WARNING:tensorflow:Early stopping conditioned on metric `val_loss` which is not available. Available metrics are: categorical_accuracy,auc,student_loss,distillation_loss,val_categorical_accuracy,val_auc,val_student_loss\n"
          ]
        },
        {
          "output_type": "stream",
          "name": "stdout",
          "text": [
            "\b\b\b\b\b\b\b\b\b\b\b\b\b\b\b\b\b\b\b\b\b\b\b\b\b\b\b\b\b\b\b\b\b\b\b\b\b\b\b\b\b\b\b\b\b\b\b\b\b\b\b\b\b\b\b\b\b\b\b\b\b\b\b\b\b\b\b\b\b\b\b\b\b\b\b\b\b\b\b\b\b\b\b\b\b\b\b\b\b\b\b\b\b\b\b\b\b\b\b\b\b\b\b\b\b\b\b\b\b\b\b\b\b\b\b\b\b\b\b\b\b\b\b\b\b\b\b\b\b\b\b\b\b\b\b\b\b\b\b\b\b\b\b\b\b\b\r154/154 [==============================] - 3s 20ms/step - categorical_accuracy: 0.8393 - auc: 0.9168 - student_loss: 0.3722 - distillation_loss: 0.0145 - val_categorical_accuracy: 0.8480 - val_auc: 0.9257 - val_student_loss: 0.2717\n",
            "Epoch 11/100\n",
            "153/154 [============================>.] - ETA: 0s - categorical_accuracy: 0.8374 - auc: 0.9208 - student_loss: 0.3622 - distillation_loss: 0.0141"
          ]
        },
        {
          "output_type": "stream",
          "name": "stderr",
          "text": [
            "WARNING:tensorflow:Early stopping conditioned on metric `val_loss` which is not available. Available metrics are: categorical_accuracy,auc,student_loss,distillation_loss,val_categorical_accuracy,val_auc,val_student_loss\n"
          ]
        },
        {
          "output_type": "stream",
          "name": "stdout",
          "text": [
            "\b\b\b\b\b\b\b\b\b\b\b\b\b\b\b\b\b\b\b\b\b\b\b\b\b\b\b\b\b\b\b\b\b\b\b\b\b\b\b\b\b\b\b\b\b\b\b\b\b\b\b\b\b\b\b\b\b\b\b\b\b\b\b\b\b\b\b\b\b\b\b\b\b\b\b\b\b\b\b\b\b\b\b\b\b\b\b\b\b\b\b\b\b\b\b\b\b\b\b\b\b\b\b\b\b\b\b\b\b\b\b\b\b\b\b\b\b\b\b\b\b\b\b\b\b\b\b\b\b\b\b\b\b\b\b\b\b\b\b\b\b\b\b\b\b\b\r154/154 [==============================] - 3s 19ms/step - categorical_accuracy: 0.8377 - auc: 0.9210 - student_loss: 0.3586 - distillation_loss: 0.0140 - val_categorical_accuracy: 0.8513 - val_auc: 0.9265 - val_student_loss: 0.2519\n",
            "Epoch 12/100\n",
            "154/154 [==============================] - ETA: 0s - categorical_accuracy: 0.8511 - auc: 0.9251 - student_loss: 0.3519 - distillation_loss: 0.0134"
          ]
        },
        {
          "output_type": "stream",
          "name": "stderr",
          "text": [
            "WARNING:tensorflow:Early stopping conditioned on metric `val_loss` which is not available. Available metrics are: categorical_accuracy,auc,student_loss,distillation_loss,val_categorical_accuracy,val_auc,val_student_loss\n"
          ]
        },
        {
          "output_type": "stream",
          "name": "stdout",
          "text": [
            "\b\b\b\b\b\b\b\b\b\b\b\b\b\b\b\b\b\b\b\b\b\b\b\b\b\b\b\b\b\b\b\b\b\b\b\b\b\b\b\b\b\b\b\b\b\b\b\b\b\b\b\b\b\b\b\b\b\b\b\b\b\b\b\b\b\b\b\b\b\b\b\b\b\b\b\b\b\b\b\b\b\b\b\b\b\b\b\b\b\b\b\b\b\b\b\b\b\b\b\b\b\b\b\b\b\b\b\b\b\b\b\b\b\b\b\b\b\b\b\b\b\b\b\b\b\b\b\b\b\b\b\b\b\b\b\b\b\b\b\b\b\b\b\b\b\b\r154/154 [==============================] - 3s 20ms/step - categorical_accuracy: 0.8511 - auc: 0.9251 - student_loss: 0.3503 - distillation_loss: 0.0133 - val_categorical_accuracy: 0.8513 - val_auc: 0.9298 - val_student_loss: 0.1498\n",
            "Epoch 13/100\n",
            "152/154 [============================>.] - ETA: 0s - categorical_accuracy: 0.8516 - auc: 0.9269 - student_loss: 0.3481 - distillation_loss: 0.0132"
          ]
        },
        {
          "output_type": "stream",
          "name": "stderr",
          "text": [
            "WARNING:tensorflow:Early stopping conditioned on metric `val_loss` which is not available. Available metrics are: categorical_accuracy,auc,student_loss,distillation_loss,val_categorical_accuracy,val_auc,val_student_loss\n"
          ]
        },
        {
          "output_type": "stream",
          "name": "stdout",
          "text": [
            "\b\b\b\b\b\b\b\b\b\b\b\b\b\b\b\b\b\b\b\b\b\b\b\b\b\b\b\b\b\b\b\b\b\b\b\b\b\b\b\b\b\b\b\b\b\b\b\b\b\b\b\b\b\b\b\b\b\b\b\b\b\b\b\b\b\b\b\b\b\b\b\b\b\b\b\b\b\b\b\b\b\b\b\b\b\b\b\b\b\b\b\b\b\b\b\b\b\b\b\b\b\b\b\b\b\b\b\b\b\b\b\b\b\b\b\b\b\b\b\b\b\b\b\b\b\b\b\b\b\b\b\b\b\b\b\b\b\b\b\b\b\b\b\b\b\b\r154/154 [==============================] - 3s 19ms/step - categorical_accuracy: 0.8520 - auc: 0.9269 - student_loss: 0.3477 - distillation_loss: 0.0131 - val_categorical_accuracy: 0.8562 - val_auc: 0.9297 - val_student_loss: 0.1878\n",
            "Epoch 14/100\n",
            "154/154 [==============================] - ETA: 0s - categorical_accuracy: 0.8573 - auc: 0.9274 - student_loss: 0.3482 - distillation_loss: 0.0129"
          ]
        },
        {
          "output_type": "stream",
          "name": "stderr",
          "text": [
            "WARNING:tensorflow:Early stopping conditioned on metric `val_loss` which is not available. Available metrics are: categorical_accuracy,auc,student_loss,distillation_loss,val_categorical_accuracy,val_auc,val_student_loss\n"
          ]
        },
        {
          "output_type": "stream",
          "name": "stdout",
          "text": [
            "\b\b\b\b\b\b\b\b\b\b\b\b\b\b\b\b\b\b\b\b\b\b\b\b\b\b\b\b\b\b\b\b\b\b\b\b\b\b\b\b\b\b\b\b\b\b\b\b\b\b\b\b\b\b\b\b\b\b\b\b\b\b\b\b\b\b\b\b\b\b\b\b\b\b\b\b\b\b\b\b\b\b\b\b\b\b\b\b\b\b\b\b\b\b\b\b\b\b\b\b\b\b\b\b\b\b\b\b\b\b\b\b\b\b\b\b\b\b\b\b\b\b\b\b\b\b\b\b\b\b\b\b\b\b\b\b\b\b\b\b\b\b\b\b\b\b\r154/154 [==============================] - 3s 20ms/step - categorical_accuracy: 0.8573 - auc: 0.9274 - student_loss: 0.3496 - distillation_loss: 0.0129 - val_categorical_accuracy: 0.8546 - val_auc: 0.9322 - val_student_loss: 0.1398\n",
            "Epoch 15/100\n",
            "151/154 [============================>.] - ETA: 0s - categorical_accuracy: 0.8564 - auc: 0.9293 - student_loss: 0.3432 - distillation_loss: 0.0125"
          ]
        },
        {
          "output_type": "stream",
          "name": "stderr",
          "text": [
            "WARNING:tensorflow:Early stopping conditioned on metric `val_loss` which is not available. Available metrics are: categorical_accuracy,auc,student_loss,distillation_loss,val_categorical_accuracy,val_auc,val_student_loss\n"
          ]
        },
        {
          "output_type": "stream",
          "name": "stdout",
          "text": [
            "\b\b\b\b\b\b\b\b\b\b\b\b\b\b\b\b\b\b\b\b\b\b\b\b\b\b\b\b\b\b\b\b\b\b\b\b\b\b\b\b\b\b\b\b\b\b\b\b\b\b\b\b\b\b\b\b\b\b\b\b\b\b\b\b\b\b\b\b\b\b\b\b\b\b\b\b\b\b\b\b\b\b\b\b\b\b\b\b\b\b\b\b\b\b\b\b\b\b\b\b\b\b\b\b\b\b\b\b\b\b\b\b\b\b\b\b\b\b\b\b\b\b\b\b\b\b\b\b\b\b\b\b\b\b\b\b\b\b\b\b\b\b\b\b\b\b\r154/154 [==============================] - 3s 20ms/step - categorical_accuracy: 0.8564 - auc: 0.9294 - student_loss: 0.3403 - distillation_loss: 0.0126 - val_categorical_accuracy: 0.8660 - val_auc: 0.9315 - val_student_loss: 0.1601\n",
            "Epoch 16/100\n",
            "152/154 [============================>.] - ETA: 0s - categorical_accuracy: 0.8631 - auc: 0.9324 - student_loss: 0.3356 - distillation_loss: 0.0122"
          ]
        },
        {
          "output_type": "stream",
          "name": "stderr",
          "text": [
            "WARNING:tensorflow:Early stopping conditioned on metric `val_loss` which is not available. Available metrics are: categorical_accuracy,auc,student_loss,distillation_loss,val_categorical_accuracy,val_auc,val_student_loss\n"
          ]
        },
        {
          "output_type": "stream",
          "name": "stdout",
          "text": [
            "\b\b\b\b\b\b\b\b\b\b\b\b\b\b\b\b\b\b\b\b\b\b\b\b\b\b\b\b\b\b\b\b\b\b\b\b\b\b\b\b\b\b\b\b\b\b\b\b\b\b\b\b\b\b\b\b\b\b\b\b\b\b\b\b\b\b\b\b\b\b\b\b\b\b\b\b\b\b\b\b\b\b\b\b\b\b\b\b\b\b\b\b\b\b\b\b\b\b\b\b\b\b\b\b\b\b\b\b\b\b\b\b\b\b\b\b\b\b\b\b\b\b\b\b\b\b\b\b\b\b\b\b\b\b\b\b\b\b\b\b\b\b\b\b\b\b\r154/154 [==============================] - 3s 19ms/step - categorical_accuracy: 0.8630 - auc: 0.9321 - student_loss: 0.3359 - distillation_loss: 0.0122 - val_categorical_accuracy: 0.8676 - val_auc: 0.9320 - val_student_loss: 0.1337\n",
            "Epoch 17/100\n",
            "153/154 [============================>.] - ETA: 0s - categorical_accuracy: 0.8607 - auc: 0.9332 - student_loss: 0.3333 - distillation_loss: 0.0124"
          ]
        },
        {
          "output_type": "stream",
          "name": "stderr",
          "text": [
            "WARNING:tensorflow:Early stopping conditioned on metric `val_loss` which is not available. Available metrics are: categorical_accuracy,auc,student_loss,distillation_loss,val_categorical_accuracy,val_auc,val_student_loss\n"
          ]
        },
        {
          "output_type": "stream",
          "name": "stdout",
          "text": [
            "\b\b\b\b\b\b\b\b\b\b\b\b\b\b\b\b\b\b\b\b\b\b\b\b\b\b\b\b\b\b\b\b\b\b\b\b\b\b\b\b\b\b\b\b\b\b\b\b\b\b\b\b\b\b\b\b\b\b\b\b\b\b\b\b\b\b\b\b\b\b\b\b\b\b\b\b\b\b\b\b\b\b\b\b\b\b\b\b\b\b\b\b\b\b\b\b\b\b\b\b\b\b\b\b\b\b\b\b\b\b\b\b\b\b\b\b\b\b\b\b\b\b\b\b\b\b\b\b\b\b\b\b\b\b\b\b\b\b\b\b\b\b\b\b\b\b\r154/154 [==============================] - 3s 19ms/step - categorical_accuracy: 0.8609 - auc: 0.9334 - student_loss: 0.3303 - distillation_loss: 0.0123 - val_categorical_accuracy: 0.8644 - val_auc: 0.9314 - val_student_loss: 0.2147\n",
            "Epoch 18/100\n",
            "154/154 [==============================] - ETA: 0s - categorical_accuracy: 0.8654 - auc: 0.9355 - student_loss: 0.3299 - distillation_loss: 0.0121"
          ]
        },
        {
          "output_type": "stream",
          "name": "stderr",
          "text": [
            "WARNING:tensorflow:Early stopping conditioned on metric `val_loss` which is not available. Available metrics are: categorical_accuracy,auc,student_loss,distillation_loss,val_categorical_accuracy,val_auc,val_student_loss\n"
          ]
        },
        {
          "output_type": "stream",
          "name": "stdout",
          "text": [
            "\b\b\b\b\b\b\b\b\b\b\b\b\b\b\b\b\b\b\b\b\b\b\b\b\b\b\b\b\b\b\b\b\b\b\b\b\b\b\b\b\b\b\b\b\b\b\b\b\b\b\b\b\b\b\b\b\b\b\b\b\b\b\b\b\b\b\b\b\b\b\b\b\b\b\b\b\b\b\b\b\b\b\b\b\b\b\b\b\b\b\b\b\b\b\b\b\b\b\b\b\b\b\b\b\b\b\b\b\b\b\b\b\b\b\b\b\b\b\b\b\b\b\b\b\b\b\b\b\b\b\b\b\b\b\b\b\b\b\b\b\b\b\b\b\b\b\r154/154 [==============================] - 3s 19ms/step - categorical_accuracy: 0.8654 - auc: 0.9355 - student_loss: 0.3308 - distillation_loss: 0.0120 - val_categorical_accuracy: 0.8595 - val_auc: 0.9312 - val_student_loss: 0.1600\n",
            "Epoch 19/100\n",
            "152/154 [============================>.] - ETA: 0s - categorical_accuracy: 0.8610 - auc: 0.9342 - student_loss: 0.3304 - distillation_loss: 0.0122"
          ]
        },
        {
          "output_type": "stream",
          "name": "stderr",
          "text": [
            "WARNING:tensorflow:Early stopping conditioned on metric `val_loss` which is not available. Available metrics are: categorical_accuracy,auc,student_loss,distillation_loss,val_categorical_accuracy,val_auc,val_student_loss\n"
          ]
        },
        {
          "output_type": "stream",
          "name": "stdout",
          "text": [
            "\b\b\b\b\b\b\b\b\b\b\b\b\b\b\b\b\b\b\b\b\b\b\b\b\b\b\b\b\b\b\b\b\b\b\b\b\b\b\b\b\b\b\b\b\b\b\b\b\b\b\b\b\b\b\b\b\b\b\b\b\b\b\b\b\b\b\b\b\b\b\b\b\b\b\b\b\b\b\b\b\b\b\b\b\b\b\b\b\b\b\b\b\b\b\b\b\b\b\b\b\b\b\b\b\b\b\b\b\b\b\b\b\b\b\b\b\b\b\b\b\b\b\b\b\b\b\b\b\b\b\b\b\b\b\b\b\b\b\b\b\b\b\b\b\b\b\r154/154 [==============================] - 3s 20ms/step - categorical_accuracy: 0.8622 - auc: 0.9349 - student_loss: 0.3271 - distillation_loss: 0.0121 - val_categorical_accuracy: 0.8676 - val_auc: 0.9340 - val_student_loss: 0.1219\n",
            "Epoch 20/100\n",
            "152/154 [============================>.] - ETA: 0s - categorical_accuracy: 0.8688 - auc: 0.9380 - student_loss: 0.3223 - distillation_loss: 0.0116"
          ]
        },
        {
          "output_type": "stream",
          "name": "stderr",
          "text": [
            "WARNING:tensorflow:Early stopping conditioned on metric `val_loss` which is not available. Available metrics are: categorical_accuracy,auc,student_loss,distillation_loss,val_categorical_accuracy,val_auc,val_student_loss\n"
          ]
        },
        {
          "output_type": "stream",
          "name": "stdout",
          "text": [
            "\b\b\b\b\b\b\b\b\b\b\b\b\b\b\b\b\b\b\b\b\b\b\b\b\b\b\b\b\b\b\b\b\b\b\b\b\b\b\b\b\b\b\b\b\b\b\b\b\b\b\b\b\b\b\b\b\b\b\b\b\b\b\b\b\b\b\b\b\b\b\b\b\b\b\b\b\b\b\b\b\b\b\b\b\b\b\b\b\b\b\b\b\b\b\b\b\b\b\b\b\b\b\b\b\b\b\b\b\b\b\b\b\b\b\b\b\b\b\b\b\b\b\b\b\b\b\b\b\b\b\b\b\b\b\b\b\b\b\b\b\b\b\b\b\b\b\r154/154 [==============================] - 3s 19ms/step - categorical_accuracy: 0.8683 - auc: 0.9381 - student_loss: 0.3221 - distillation_loss: 0.0116 - val_categorical_accuracy: 0.8709 - val_auc: 0.9340 - val_student_loss: 0.1670\n",
            "Epoch 21/100\n",
            "152/154 [============================>.] - ETA: 0s - categorical_accuracy: 0.8701 - auc: 0.9397 - student_loss: 0.3186 - distillation_loss: 0.0118"
          ]
        },
        {
          "output_type": "stream",
          "name": "stderr",
          "text": [
            "WARNING:tensorflow:Early stopping conditioned on metric `val_loss` which is not available. Available metrics are: categorical_accuracy,auc,student_loss,distillation_loss,val_categorical_accuracy,val_auc,val_student_loss\n"
          ]
        },
        {
          "output_type": "stream",
          "name": "stdout",
          "text": [
            "\b\b\b\b\b\b\b\b\b\b\b\b\b\b\b\b\b\b\b\b\b\b\b\b\b\b\b\b\b\b\b\b\b\b\b\b\b\b\b\b\b\b\b\b\b\b\b\b\b\b\b\b\b\b\b\b\b\b\b\b\b\b\b\b\b\b\b\b\b\b\b\b\b\b\b\b\b\b\b\b\b\b\b\b\b\b\b\b\b\b\b\b\b\b\b\b\b\b\b\b\b\b\b\b\b\b\b\b\b\b\b\b\b\b\b\b\b\b\b\b\b\b\b\b\b\b\b\b\b\b\b\b\b\b\b\b\b\b\b\b\b\b\b\b\b\b\r154/154 [==============================] - 3s 19ms/step - categorical_accuracy: 0.8699 - auc: 0.9388 - student_loss: 0.3210 - distillation_loss: 0.0120 - val_categorical_accuracy: 0.8660 - val_auc: 0.9342 - val_student_loss: 0.1193\n",
            "Epoch 22/100\n",
            "152/154 [============================>.] - ETA: 0s - categorical_accuracy: 0.8709 - auc: 0.9428 - student_loss: 0.3120 - distillation_loss: 0.0120"
          ]
        },
        {
          "output_type": "stream",
          "name": "stderr",
          "text": [
            "WARNING:tensorflow:Early stopping conditioned on metric `val_loss` which is not available. Available metrics are: categorical_accuracy,auc,student_loss,distillation_loss,val_categorical_accuracy,val_auc,val_student_loss\n"
          ]
        },
        {
          "output_type": "stream",
          "name": "stdout",
          "text": [
            "\b\b\b\b\b\b\b\b\b\b\b\b\b\b\b\b\b\b\b\b\b\b\b\b\b\b\b\b\b\b\b\b\b\b\b\b\b\b\b\b\b\b\b\b\b\b\b\b\b\b\b\b\b\b\b\b\b\b\b\b\b\b\b\b\b\b\b\b\b\b\b\b\b\b\b\b\b\b\b\b\b\b\b\b\b\b\b\b\b\b\b\b\b\b\b\b\b\b\b\b\b\b\b\b\b\b\b\b\b\b\b\b\b\b\b\b\b\b\b\b\b\b\b\b\b\b\b\b\b\b\b\b\b\b\b\b\b\b\b\b\b\b\b\b\b\b\r154/154 [==============================] - 3s 20ms/step - categorical_accuracy: 0.8707 - auc: 0.9423 - student_loss: 0.3113 - distillation_loss: 0.0120 - val_categorical_accuracy: 0.8725 - val_auc: 0.9345 - val_student_loss: 0.1385\n",
            "Epoch 23/100\n",
            "151/154 [============================>.] - ETA: 0s - categorical_accuracy: 0.8671 - auc: 0.9414 - student_loss: 0.3146 - distillation_loss: 0.0113"
          ]
        },
        {
          "output_type": "stream",
          "name": "stderr",
          "text": [
            "WARNING:tensorflow:Early stopping conditioned on metric `val_loss` which is not available. Available metrics are: categorical_accuracy,auc,student_loss,distillation_loss,val_categorical_accuracy,val_auc,val_student_loss\n"
          ]
        },
        {
          "output_type": "stream",
          "name": "stdout",
          "text": [
            "\b\b\b\b\b\b\b\b\b\b\b\b\b\b\b\b\b\b\b\b\b\b\b\b\b\b\b\b\b\b\b\b\b\b\b\b\b\b\b\b\b\b\b\b\b\b\b\b\b\b\b\b\b\b\b\b\b\b\b\b\b\b\b\b\b\b\b\b\b\b\b\b\b\b\b\b\b\b\b\b\b\b\b\b\b\b\b\b\b\b\b\b\b\b\b\b\b\b\b\b\b\b\b\b\b\b\b\b\b\b\b\b\b\b\b\b\b\b\b\b\b\b\b\b\b\b\b\b\b\b\b\b\b\b\b\b\b\b\b\b\b\b\b\b\b\b\r154/154 [==============================] - 3s 21ms/step - categorical_accuracy: 0.8687 - auc: 0.9423 - student_loss: 0.3119 - distillation_loss: 0.0112 - val_categorical_accuracy: 0.8725 - val_auc: 0.9345 - val_student_loss: 0.1328\n",
            "Epoch 24/100\n",
            "154/154 [==============================] - ETA: 0s - categorical_accuracy: 0.8744 - auc: 0.9420 - student_loss: 0.3112 - distillation_loss: 0.0114"
          ]
        },
        {
          "output_type": "stream",
          "name": "stderr",
          "text": [
            "WARNING:tensorflow:Early stopping conditioned on metric `val_loss` which is not available. Available metrics are: categorical_accuracy,auc,student_loss,distillation_loss,val_categorical_accuracy,val_auc,val_student_loss\n"
          ]
        },
        {
          "output_type": "stream",
          "name": "stdout",
          "text": [
            "\b\b\b\b\b\b\b\b\b\b\b\b\b\b\b\b\b\b\b\b\b\b\b\b\b\b\b\b\b\b\b\b\b\b\b\b\b\b\b\b\b\b\b\b\b\b\b\b\b\b\b\b\b\b\b\b\b\b\b\b\b\b\b\b\b\b\b\b\b\b\b\b\b\b\b\b\b\b\b\b\b\b\b\b\b\b\b\b\b\b\b\b\b\b\b\b\b\b\b\b\b\b\b\b\b\b\b\b\b\b\b\b\b\b\b\b\b\b\b\b\b\b\b\b\b\b\b\b\b\b\b\b\b\b\b\b\b\b\b\b\b\b\b\b\b\b\r154/154 [==============================] - 3s 20ms/step - categorical_accuracy: 0.8744 - auc: 0.9420 - student_loss: 0.3103 - distillation_loss: 0.0116 - val_categorical_accuracy: 0.8791 - val_auc: 0.9354 - val_student_loss: 0.1206\n",
            "Epoch 25/100\n",
            "154/154 [==============================] - ETA: 0s - categorical_accuracy: 0.8772 - auc: 0.9435 - student_loss: 0.3079 - distillation_loss: 0.0116"
          ]
        },
        {
          "output_type": "stream",
          "name": "stderr",
          "text": [
            "WARNING:tensorflow:Early stopping conditioned on metric `val_loss` which is not available. Available metrics are: categorical_accuracy,auc,student_loss,distillation_loss,val_categorical_accuracy,val_auc,val_student_loss\n"
          ]
        },
        {
          "output_type": "stream",
          "name": "stdout",
          "text": [
            "\b\b\b\b\b\b\b\b\b\b\b\b\b\b\b\b\b\b\b\b\b\b\b\b\b\b\b\b\b\b\b\b\b\b\b\b\b\b\b\b\b\b\b\b\b\b\b\b\b\b\b\b\b\b\b\b\b\b\b\b\b\b\b\b\b\b\b\b\b\b\b\b\b\b\b\b\b\b\b\b\b\b\b\b\b\b\b\b\b\b\b\b\b\b\b\b\b\b\b\b\b\b\b\b\b\b\b\b\b\b\b\b\b\b\b\b\b\b\b\b\b\b\b\b\b\b\b\b\b\b\b\b\b\b\b\b\b\b\b\b\b\b\b\b\b\b\r154/154 [==============================] - 3s 20ms/step - categorical_accuracy: 0.8772 - auc: 0.9435 - student_loss: 0.3072 - distillation_loss: 0.0117 - val_categorical_accuracy: 0.8660 - val_auc: 0.9337 - val_student_loss: 0.1319\n",
            "Epoch 26/100\n",
            "152/154 [============================>.] - ETA: 0s - categorical_accuracy: 0.8754 - auc: 0.9430 - student_loss: 0.3111 - distillation_loss: 0.0110"
          ]
        },
        {
          "output_type": "stream",
          "name": "stderr",
          "text": [
            "WARNING:tensorflow:Early stopping conditioned on metric `val_loss` which is not available. Available metrics are: categorical_accuracy,auc,student_loss,distillation_loss,val_categorical_accuracy,val_auc,val_student_loss\n"
          ]
        },
        {
          "output_type": "stream",
          "name": "stdout",
          "text": [
            "\b\b\b\b\b\b\b\b\b\b\b\b\b\b\b\b\b\b\b\b\b\b\b\b\b\b\b\b\b\b\b\b\b\b\b\b\b\b\b\b\b\b\b\b\b\b\b\b\b\b\b\b\b\b\b\b\b\b\b\b\b\b\b\b\b\b\b\b\b\b\b\b\b\b\b\b\b\b\b\b\b\b\b\b\b\b\b\b\b\b\b\b\b\b\b\b\b\b\b\b\b\b\b\b\b\b\b\b\b\b\b\b\b\b\b\b\b\b\b\b\b\b\b\b\b\b\b\b\b\b\b\b\b\b\b\b\b\b\b\b\b\b\b\b\b\b\r154/154 [==============================] - 3s 19ms/step - categorical_accuracy: 0.8756 - auc: 0.9427 - student_loss: 0.3086 - distillation_loss: 0.0110 - val_categorical_accuracy: 0.8742 - val_auc: 0.9355 - val_student_loss: 0.1092\n",
            "Epoch 27/100\n",
            "154/154 [==============================] - ETA: 0s - categorical_accuracy: 0.8723 - auc: 0.9460 - student_loss: 0.3051 - distillation_loss: 0.0112"
          ]
        },
        {
          "output_type": "stream",
          "name": "stderr",
          "text": [
            "WARNING:tensorflow:Early stopping conditioned on metric `val_loss` which is not available. Available metrics are: categorical_accuracy,auc,student_loss,distillation_loss,val_categorical_accuracy,val_auc,val_student_loss\n"
          ]
        },
        {
          "output_type": "stream",
          "name": "stdout",
          "text": [
            "\b\b\b\b\b\b\b\b\b\b\b\b\b\b\b\b\b\b\b\b\b\b\b\b\b\b\b\b\b\b\b\b\b\b\b\b\b\b\b\b\b\b\b\b\b\b\b\b\b\b\b\b\b\b\b\b\b\b\b\b\b\b\b\b\b\b\b\b\b\b\b\b\b\b\b\b\b\b\b\b\b\b\b\b\b\b\b\b\b\b\b\b\b\b\b\b\b\b\b\b\b\b\b\b\b\b\b\b\b\b\b\b\b\b\b\b\b\b\b\b\b\b\b\b\b\b\b\b\b\b\b\b\b\b\b\b\b\b\b\b\b\b\b\b\b\b\r154/154 [==============================] - 3s 21ms/step - categorical_accuracy: 0.8723 - auc: 0.9460 - student_loss: 0.3070 - distillation_loss: 0.0112 - val_categorical_accuracy: 0.8725 - val_auc: 0.9349 - val_student_loss: 0.1395\n",
            "Epoch 28/100\n",
            "153/154 [============================>.] - ETA: 0s - categorical_accuracy: 0.8746 - auc: 0.9433 - student_loss: 0.3089 - distillation_loss: 0.0109"
          ]
        },
        {
          "output_type": "stream",
          "name": "stderr",
          "text": [
            "WARNING:tensorflow:Early stopping conditioned on metric `val_loss` which is not available. Available metrics are: categorical_accuracy,auc,student_loss,distillation_loss,val_categorical_accuracy,val_auc,val_student_loss\n"
          ]
        },
        {
          "output_type": "stream",
          "name": "stdout",
          "text": [
            "\b\b\b\b\b\b\b\b\b\b\b\b\b\b\b\b\b\b\b\b\b\b\b\b\b\b\b\b\b\b\b\b\b\b\b\b\b\b\b\b\b\b\b\b\b\b\b\b\b\b\b\b\b\b\b\b\b\b\b\b\b\b\b\b\b\b\b\b\b\b\b\b\b\b\b\b\b\b\b\b\b\b\b\b\b\b\b\b\b\b\b\b\b\b\b\b\b\b\b\b\b\b\b\b\b\b\b\b\b\b\b\b\b\b\b\b\b\b\b\b\b\b\b\b\b\b\b\b\b\b\b\b\b\b\b\b\b\b\b\b\b\b\b\b\b\b\r154/154 [==============================] - 3s 20ms/step - categorical_accuracy: 0.8748 - auc: 0.9435 - student_loss: 0.3061 - distillation_loss: 0.0108 - val_categorical_accuracy: 0.8676 - val_auc: 0.9341 - val_student_loss: 0.1567\n",
            "Epoch 29/100\n",
            "152/154 [============================>.] - ETA: 0s - categorical_accuracy: 0.8779 - auc: 0.9453 - student_loss: 0.3040 - distillation_loss: 0.0108"
          ]
        },
        {
          "output_type": "stream",
          "name": "stderr",
          "text": [
            "WARNING:tensorflow:Early stopping conditioned on metric `val_loss` which is not available. Available metrics are: categorical_accuracy,auc,student_loss,distillation_loss,val_categorical_accuracy,val_auc,val_student_loss\n"
          ]
        },
        {
          "output_type": "stream",
          "name": "stdout",
          "text": [
            "\b\b\b\b\b\b\b\b\b\b\b\b\b\b\b\b\b\b\b\b\b\b\b\b\b\b\b\b\b\b\b\b\b\b\b\b\b\b\b\b\b\b\b\b\b\b\b\b\b\b\b\b\b\b\b\b\b\b\b\b\b\b\b\b\b\b\b\b\b\b\b\b\b\b\b\b\b\b\b\b\b\b\b\b\b\b\b\b\b\b\b\b\b\b\b\b\b\b\b\b\b\b\b\b\b\b\b\b\b\b\b\b\b\b\b\b\b\b\b\b\b\b\b\b\b\b\b\b\b\b\b\b\b\b\b\b\b\b\b\b\b\b\b\b\b\b\r154/154 [==============================] - 3s 19ms/step - categorical_accuracy: 0.8777 - auc: 0.9452 - student_loss: 0.3061 - distillation_loss: 0.0107 - val_categorical_accuracy: 0.8742 - val_auc: 0.9357 - val_student_loss: 0.1133\n",
            "Epoch 30/100\n",
            "151/154 [============================>.] - ETA: 0s - categorical_accuracy: 0.8804 - auc: 0.9482 - student_loss: 0.2989 - distillation_loss: 0.0110"
          ]
        },
        {
          "output_type": "stream",
          "name": "stderr",
          "text": [
            "WARNING:tensorflow:Early stopping conditioned on metric `val_loss` which is not available. Available metrics are: categorical_accuracy,auc,student_loss,distillation_loss,val_categorical_accuracy,val_auc,val_student_loss\n"
          ]
        },
        {
          "output_type": "stream",
          "name": "stdout",
          "text": [
            "\b\b\b\b\b\b\b\b\b\b\b\b\b\b\b\b\b\b\b\b\b\b\b\b\b\b\b\b\b\b\b\b\b\b\b\b\b\b\b\b\b\b\b\b\b\b\b\b\b\b\b\b\b\b\b\b\b\b\b\b\b\b\b\b\b\b\b\b\b\b\b\b\b\b\b\b\b\b\b\b\b\b\b\b\b\b\b\b\b\b\b\b\b\b\b\b\b\b\b\b\b\b\b\b\b\b\b\b\b\b\b\b\b\b\b\b\b\b\b\b\b\b\b\b\b\b\b\b\b\b\b\b\b\b\b\b\b\b\b\b\b\b\b\b\b\b\r154/154 [==============================] - 3s 19ms/step - categorical_accuracy: 0.8801 - auc: 0.9479 - student_loss: 0.3033 - distillation_loss: 0.0111 - val_categorical_accuracy: 0.8660 - val_auc: 0.9343 - val_student_loss: 0.1318\n",
            "Epoch 31/100\n",
            "154/154 [==============================] - ETA: 0s - categorical_accuracy: 0.8797 - auc: 0.9455 - student_loss: 0.3039 - distillation_loss: 0.0109"
          ]
        },
        {
          "output_type": "stream",
          "name": "stderr",
          "text": [
            "WARNING:tensorflow:Early stopping conditioned on metric `val_loss` which is not available. Available metrics are: categorical_accuracy,auc,student_loss,distillation_loss,val_categorical_accuracy,val_auc,val_student_loss\n"
          ]
        },
        {
          "output_type": "stream",
          "name": "stdout",
          "text": [
            "\b\b\b\b\b\b\b\b\b\b\b\b\b\b\b\b\b\b\b\b\b\b\b\b\b\b\b\b\b\b\b\b\b\b\b\b\b\b\b\b\b\b\b\b\b\b\b\b\b\b\b\b\b\b\b\b\b\b\b\b\b\b\b\b\b\b\b\b\b\b\b\b\b\b\b\b\b\b\b\b\b\b\b\b\b\b\b\b\b\b\b\b\b\b\b\b\b\b\b\b\b\b\b\b\b\b\b\b\b\b\b\b\b\b\b\b\b\b\b\b\b\b\b\b\b\b\b\b\b\b\b\b\b\b\b\b\b\b\b\b\b\b\b\b\b\b\r154/154 [==============================] - 3s 21ms/step - categorical_accuracy: 0.8797 - auc: 0.9455 - student_loss: 0.3044 - distillation_loss: 0.0108 - val_categorical_accuracy: 0.8676 - val_auc: 0.9344 - val_student_loss: 0.1265\n",
            "Epoch 32/100\n",
            "154/154 [==============================] - ETA: 0s - categorical_accuracy: 0.8850 - auc: 0.9489 - student_loss: 0.2959 - distillation_loss: 0.0110"
          ]
        },
        {
          "output_type": "stream",
          "name": "stderr",
          "text": [
            "WARNING:tensorflow:Early stopping conditioned on metric `val_loss` which is not available. Available metrics are: categorical_accuracy,auc,student_loss,distillation_loss,val_categorical_accuracy,val_auc,val_student_loss\n"
          ]
        },
        {
          "output_type": "stream",
          "name": "stdout",
          "text": [
            "\b\b\b\b\b\b\b\b\b\b\b\b\b\b\b\b\b\b\b\b\b\b\b\b\b\b\b\b\b\b\b\b\b\b\b\b\b\b\b\b\b\b\b\b\b\b\b\b\b\b\b\b\b\b\b\b\b\b\b\b\b\b\b\b\b\b\b\b\b\b\b\b\b\b\b\b\b\b\b\b\b\b\b\b\b\b\b\b\b\b\b\b\b\b\b\b\b\b\b\b\b\b\b\b\b\b\b\b\b\b\b\b\b\b\b\b\b\b\b\b\b\b\b\b\b\b\b\b\b\b\b\b\b\b\b\b\b\b\b\b\b\b\b\b\b\b\r154/154 [==============================] - 3s 20ms/step - categorical_accuracy: 0.8850 - auc: 0.9489 - student_loss: 0.2958 - distillation_loss: 0.0110 - val_categorical_accuracy: 0.8660 - val_auc: 0.9336 - val_student_loss: 0.1283\n",
            "Epoch 33/100\n",
            "153/154 [============================>.] - ETA: 0s - categorical_accuracy: 0.8803 - auc: 0.9473 - student_loss: 0.2991 - distillation_loss: 0.0106"
          ]
        },
        {
          "output_type": "stream",
          "name": "stderr",
          "text": [
            "WARNING:tensorflow:Early stopping conditioned on metric `val_loss` which is not available. Available metrics are: categorical_accuracy,auc,student_loss,distillation_loss,val_categorical_accuracy,val_auc,val_student_loss\n"
          ]
        },
        {
          "output_type": "stream",
          "name": "stdout",
          "text": [
            "\b\b\b\b\b\b\b\b\b\b\b\b\b\b\b\b\b\b\b\b\b\b\b\b\b\b\b\b\b\b\b\b\b\b\b\b\b\b\b\b\b\b\b\b\b\b\b\b\b\b\b\b\b\b\b\b\b\b\b\b\b\b\b\b\b\b\b\b\b\b\b\b\b\b\b\b\b\b\b\b\b\b\b\b\b\b\b\b\b\b\b\b\b\b\b\b\b\b\b\b\b\b\b\b\b\b\b\b\b\b\b\b\b\b\b\b\b\b\b\b\b\b\b\b\b\b\b\b\b\b\b\b\b\b\b\b\b\b\b\b\b\b\b\b\b\b\r154/154 [==============================] - 3s 19ms/step - categorical_accuracy: 0.8797 - auc: 0.9467 - student_loss: 0.3082 - distillation_loss: 0.0106 - val_categorical_accuracy: 0.8742 - val_auc: 0.9350 - val_student_loss: 0.1428\n",
            "Epoch 34/100\n",
            "152/154 [============================>.] - ETA: 0s - categorical_accuracy: 0.8758 - auc: 0.9505 - student_loss: 0.2930 - distillation_loss: 0.0109"
          ]
        },
        {
          "output_type": "stream",
          "name": "stderr",
          "text": [
            "WARNING:tensorflow:Early stopping conditioned on metric `val_loss` which is not available. Available metrics are: categorical_accuracy,auc,student_loss,distillation_loss,val_categorical_accuracy,val_auc,val_student_loss\n"
          ]
        },
        {
          "output_type": "stream",
          "name": "stdout",
          "text": [
            "\b\b\b\b\b\b\b\b\b\b\b\b\b\b\b\b\b\b\b\b\b\b\b\b\b\b\b\b\b\b\b\b\b\b\b\b\b\b\b\b\b\b\b\b\b\b\b\b\b\b\b\b\b\b\b\b\b\b\b\b\b\b\b\b\b\b\b\b\b\b\b\b\b\b\b\b\b\b\b\b\b\b\b\b\b\b\b\b\b\b\b\b\b\b\b\b\b\b\b\b\b\b\b\b\b\b\b\b\b\b\b\b\b\b\b\b\b\b\b\b\b\b\b\b\b\b\b\b\b\b\b\b\b\b\b\b\b\b\b\b\b\b\b\b\b\b\r154/154 [==============================] - 3s 19ms/step - categorical_accuracy: 0.8756 - auc: 0.9502 - student_loss: 0.2918 - distillation_loss: 0.0109 - val_categorical_accuracy: 0.8725 - val_auc: 0.9343 - val_student_loss: 0.1370\n",
            "Epoch 35/100\n",
            "152/154 [============================>.] - ETA: 0s - categorical_accuracy: 0.8816 - auc: 0.9506 - student_loss: 0.2925 - distillation_loss: 0.0107"
          ]
        },
        {
          "output_type": "stream",
          "name": "stderr",
          "text": [
            "WARNING:tensorflow:Early stopping conditioned on metric `val_loss` which is not available. Available metrics are: categorical_accuracy,auc,student_loss,distillation_loss,val_categorical_accuracy,val_auc,val_student_loss\n"
          ]
        },
        {
          "output_type": "stream",
          "name": "stdout",
          "text": [
            "\b\b\b\b\b\b\b\b\b\b\b\b\b\b\b\b\b\b\b\b\b\b\b\b\b\b\b\b\b\b\b\b\b\b\b\b\b\b\b\b\b\b\b\b\b\b\b\b\b\b\b\b\b\b\b\b\b\b\b\b\b\b\b\b\b\b\b\b\b\b\b\b\b\b\b\b\b\b\b\b\b\b\b\b\b\b\b\b\b\b\b\b\b\b\b\b\b\b\b\b\b\b\b\b\b\b\b\b\b\b\b\b\b\b\b\b\b\b\b\b\b\b\b\b\b\b\b\b\b\b\b\b\b\b\b\b\b\b\b\b\b\b\b\b\b\b\r154/154 [==============================] - 3s 20ms/step - categorical_accuracy: 0.8821 - auc: 0.9502 - student_loss: 0.2950 - distillation_loss: 0.0107 - val_categorical_accuracy: 0.8676 - val_auc: 0.9342 - val_student_loss: 0.1274\n",
            "Epoch 36/100\n",
            "154/154 [==============================] - ETA: 0s - categorical_accuracy: 0.8817 - auc: 0.9498 - student_loss: 0.2934 - distillation_loss: 0.0103"
          ]
        },
        {
          "output_type": "stream",
          "name": "stderr",
          "text": [
            "WARNING:tensorflow:Early stopping conditioned on metric `val_loss` which is not available. Available metrics are: categorical_accuracy,auc,student_loss,distillation_loss,val_categorical_accuracy,val_auc,val_student_loss\n"
          ]
        },
        {
          "output_type": "stream",
          "name": "stdout",
          "text": [
            "\b\b\b\b\b\b\b\b\b\b\b\b\b\b\b\b\b\b\b\b\b\b\b\b\b\b\b\b\b\b\b\b\b\b\b\b\b\b\b\b\b\b\b\b\b\b\b\b\b\b\b\b\b\b\b\b\b\b\b\b\b\b\b\b\b\b\b\b\b\b\b\b\b\b\b\b\b\b\b\b\b\b\b\b\b\b\b\b\b\b\b\b\b\b\b\b\b\b\b\b\b\b\b\b\b\b\b\b\b\b\b\b\b\b\b\b\b\b\b\b\b\b\b\b\b\b\b\b\b\b\b\b\b\b\b\b\b\b\b\b\b\b\b\b\b\b\r154/154 [==============================] - 3s 20ms/step - categorical_accuracy: 0.8817 - auc: 0.9498 - student_loss: 0.2933 - distillation_loss: 0.0103 - val_categorical_accuracy: 0.8693 - val_auc: 0.9350 - val_student_loss: 0.1307\n",
            "Epoch 37/100\n",
            "152/154 [============================>.] - ETA: 0s - categorical_accuracy: 0.8873 - auc: 0.9529 - student_loss: 0.2875 - distillation_loss: 0.0103"
          ]
        },
        {
          "output_type": "stream",
          "name": "stderr",
          "text": [
            "WARNING:tensorflow:Early stopping conditioned on metric `val_loss` which is not available. Available metrics are: categorical_accuracy,auc,student_loss,distillation_loss,val_categorical_accuracy,val_auc,val_student_loss\n"
          ]
        },
        {
          "output_type": "stream",
          "name": "stdout",
          "text": [
            "\b\b\b\b\b\b\b\b\b\b\b\b\b\b\b\b\b\b\b\b\b\b\b\b\b\b\b\b\b\b\b\b\b\b\b\b\b\b\b\b\b\b\b\b\b\b\b\b\b\b\b\b\b\b\b\b\b\b\b\b\b\b\b\b\b\b\b\b\b\b\b\b\b\b\b\b\b\b\b\b\b\b\b\b\b\b\b\b\b\b\b\b\b\b\b\b\b\b\b\b\b\b\b\b\b\b\b\b\b\b\b\b\b\b\b\b\b\b\b\b\b\b\b\b\b\b\b\b\b\b\b\b\b\b\b\b\b\b\b\b\b\b\b\b\b\b\r154/154 [==============================] - 3s 20ms/step - categorical_accuracy: 0.8862 - auc: 0.9525 - student_loss: 0.2923 - distillation_loss: 0.0104 - val_categorical_accuracy: 0.8709 - val_auc: 0.9336 - val_student_loss: 0.1389\n",
            "Epoch 38/100\n",
            "152/154 [============================>.] - ETA: 0s - categorical_accuracy: 0.8840 - auc: 0.9511 - student_loss: 0.2913 - distillation_loss: 0.0103"
          ]
        },
        {
          "output_type": "stream",
          "name": "stderr",
          "text": [
            "WARNING:tensorflow:Early stopping conditioned on metric `val_loss` which is not available. Available metrics are: categorical_accuracy,auc,student_loss,distillation_loss,val_categorical_accuracy,val_auc,val_student_loss\n"
          ]
        },
        {
          "output_type": "stream",
          "name": "stdout",
          "text": [
            "\b\b\b\b\b\b\b\b\b\b\b\b\b\b\b\b\b\b\b\b\b\b\b\b\b\b\b\b\b\b\b\b\b\b\b\b\b\b\b\b\b\b\b\b\b\b\b\b\b\b\b\b\b\b\b\b\b\b\b\b\b\b\b\b\b\b\b\b\b\b\b\b\b\b\b\b\b\b\b\b\b\b\b\b\b\b\b\b\b\b\b\b\b\b\b\b\b\b\b\b\b\b\b\b\b\b\b\b\b\b\b\b\b\b\b\b\b\b\b\b\b\b\b\b\b\b\b\b\b\b\b\b\b\b\b\b\b\b\b\b\b\b\b\b\b\b\r154/154 [==============================] - 3s 19ms/step - categorical_accuracy: 0.8838 - auc: 0.9508 - student_loss: 0.2913 - distillation_loss: 0.0107 - val_categorical_accuracy: 0.8742 - val_auc: 0.9348 - val_student_loss: 0.1095\n",
            "Epoch 39/100\n",
            "152/154 [============================>.] - ETA: 0s - categorical_accuracy: 0.8849 - auc: 0.9522 - student_loss: 0.2884 - distillation_loss: 0.0103"
          ]
        },
        {
          "output_type": "stream",
          "name": "stderr",
          "text": [
            "WARNING:tensorflow:Early stopping conditioned on metric `val_loss` which is not available. Available metrics are: categorical_accuracy,auc,student_loss,distillation_loss,val_categorical_accuracy,val_auc,val_student_loss\n"
          ]
        },
        {
          "output_type": "stream",
          "name": "stdout",
          "text": [
            "\b\b\b\b\b\b\b\b\b\b\b\b\b\b\b\b\b\b\b\b\b\b\b\b\b\b\b\b\b\b\b\b\b\b\b\b\b\b\b\b\b\b\b\b\b\b\b\b\b\b\b\b\b\b\b\b\b\b\b\b\b\b\b\b\b\b\b\b\b\b\b\b\b\b\b\b\b\b\b\b\b\b\b\b\b\b\b\b\b\b\b\b\b\b\b\b\b\b\b\b\b\b\b\b\b\b\b\b\b\b\b\b\b\b\b\b\b\b\b\b\b\b\b\b\b\b\b\b\b\b\b\b\b\b\b\b\b\b\b\b\b\b\b\b\b\b\r154/154 [==============================] - 3s 20ms/step - categorical_accuracy: 0.8858 - auc: 0.9527 - student_loss: 0.2859 - distillation_loss: 0.0102 - val_categorical_accuracy: 0.8644 - val_auc: 0.9340 - val_student_loss: 0.1226\n",
            "Epoch 40/100\n",
            "154/154 [==============================] - ETA: 0s - categorical_accuracy: 0.8862 - auc: 0.9526 - student_loss: 0.2860 - distillation_loss: 0.0100"
          ]
        },
        {
          "output_type": "stream",
          "name": "stderr",
          "text": [
            "WARNING:tensorflow:Early stopping conditioned on metric `val_loss` which is not available. Available metrics are: categorical_accuracy,auc,student_loss,distillation_loss,val_categorical_accuracy,val_auc,val_student_loss\n"
          ]
        },
        {
          "output_type": "stream",
          "name": "stdout",
          "text": [
            "\b\b\b\b\b\b\b\b\b\b\b\b\b\b\b\b\b\b\b\b\b\b\b\b\b\b\b\b\b\b\b\b\b\b\b\b\b\b\b\b\b\b\b\b\b\b\b\b\b\b\b\b\b\b\b\b\b\b\b\b\b\b\b\b\b\b\b\b\b\b\b\b\b\b\b\b\b\b\b\b\b\b\b\b\b\b\b\b\b\b\b\b\b\b\b\b\b\b\b\b\b\b\b\b\b\b\b\b\b\b\b\b\b\b\b\b\b\b\b\b\b\b\b\b\b\b\b\b\b\b\b\b\b\b\b\b\b\b\b\b\b\b\b\b\b\b\r154/154 [==============================] - 3s 20ms/step - categorical_accuracy: 0.8862 - auc: 0.9526 - student_loss: 0.2845 - distillation_loss: 0.0100 - val_categorical_accuracy: 0.8644 - val_auc: 0.9322 - val_student_loss: 0.1317\n",
            "Epoch 41/100\n",
            "153/154 [============================>.] - ETA: 0s - categorical_accuracy: 0.8852 - auc: 0.9536 - student_loss: 0.2845 - distillation_loss: 0.0101"
          ]
        },
        {
          "output_type": "stream",
          "name": "stderr",
          "text": [
            "WARNING:tensorflow:Early stopping conditioned on metric `val_loss` which is not available. Available metrics are: categorical_accuracy,auc,student_loss,distillation_loss,val_categorical_accuracy,val_auc,val_student_loss\n"
          ]
        },
        {
          "output_type": "stream",
          "name": "stdout",
          "text": [
            "\b\b\b\b\b\b\b\b\b\b\b\b\b\b\b\b\b\b\b\b\b\b\b\b\b\b\b\b\b\b\b\b\b\b\b\b\b\b\b\b\b\b\b\b\b\b\b\b\b\b\b\b\b\b\b\b\b\b\b\b\b\b\b\b\b\b\b\b\b\b\b\b\b\b\b\b\b\b\b\b\b\b\b\b\b\b\b\b\b\b\b\b\b\b\b\b\b\b\b\b\b\b\b\b\b\b\b\b\b\b\b\b\b\b\b\b\b\b\b\b\b\b\b\b\b\b\b\b\b\b\b\b\b\b\b\b\b\b\b\b\b\b\b\b\b\b\r154/154 [==============================] - 3s 20ms/step - categorical_accuracy: 0.8854 - auc: 0.9537 - student_loss: 0.2838 - distillation_loss: 0.0104 - val_categorical_accuracy: 0.8676 - val_auc: 0.9329 - val_student_loss: 0.1110\n",
            "Epoch 42/100\n",
            "153/154 [============================>.] - ETA: 0s - categorical_accuracy: 0.8856 - auc: 0.9544 - student_loss: 0.2836 - distillation_loss: 0.0102"
          ]
        },
        {
          "output_type": "stream",
          "name": "stderr",
          "text": [
            "WARNING:tensorflow:Early stopping conditioned on metric `val_loss` which is not available. Available metrics are: categorical_accuracy,auc,student_loss,distillation_loss,val_categorical_accuracy,val_auc,val_student_loss\n"
          ]
        },
        {
          "output_type": "stream",
          "name": "stdout",
          "text": [
            "\b\b\b\b\b\b\b\b\b\b\b\b\b\b\b\b\b\b\b\b\b\b\b\b\b\b\b\b\b\b\b\b\b\b\b\b\b\b\b\b\b\b\b\b\b\b\b\b\b\b\b\b\b\b\b\b\b\b\b\b\b\b\b\b\b\b\b\b\b\b\b\b\b\b\b\b\b\b\b\b\b\b\b\b\b\b\b\b\b\b\b\b\b\b\b\b\b\b\b\b\b\b\b\b\b\b\b\b\b\b\b\b\b\b\b\b\b\b\b\b\b\b\b\b\b\b\b\b\b\b\b\b\b\b\b\b\b\b\b\b\b\b\b\b\b\b\r154/154 [==============================] - 3s 19ms/step - categorical_accuracy: 0.8858 - auc: 0.9545 - student_loss: 0.2816 - distillation_loss: 0.0104 - val_categorical_accuracy: 0.8725 - val_auc: 0.9342 - val_student_loss: 0.1178\n",
            "Epoch 43/100\n",
            "154/154 [==============================] - ETA: 0s - categorical_accuracy: 0.8883 - auc: 0.9559 - student_loss: 0.2782 - distillation_loss: 0.0101"
          ]
        },
        {
          "output_type": "stream",
          "name": "stderr",
          "text": [
            "WARNING:tensorflow:Early stopping conditioned on metric `val_loss` which is not available. Available metrics are: categorical_accuracy,auc,student_loss,distillation_loss,val_categorical_accuracy,val_auc,val_student_loss\n"
          ]
        },
        {
          "output_type": "stream",
          "name": "stdout",
          "text": [
            "\b\b\b\b\b\b\b\b\b\b\b\b\b\b\b\b\b\b\b\b\b\b\b\b\b\b\b\b\b\b\b\b\b\b\b\b\b\b\b\b\b\b\b\b\b\b\b\b\b\b\b\b\b\b\b\b\b\b\b\b\b\b\b\b\b\b\b\b\b\b\b\b\b\b\b\b\b\b\b\b\b\b\b\b\b\b\b\b\b\b\b\b\b\b\b\b\b\b\b\b\b\b\b\b\b\b\b\b\b\b\b\b\b\b\b\b\b\b\b\b\b\b\b\b\b\b\b\b\b\b\b\b\b\b\b\b\b\b\b\b\b\b\b\b\b\b\r154/154 [==============================] - 3s 20ms/step - categorical_accuracy: 0.8883 - auc: 0.9559 - student_loss: 0.2770 - distillation_loss: 0.0101 - val_categorical_accuracy: 0.8742 - val_auc: 0.9336 - val_student_loss: 0.1270\n",
            "Epoch 44/100\n",
            "152/154 [============================>.] - ETA: 0s - categorical_accuracy: 0.8906 - auc: 0.9560 - student_loss: 0.2795 - distillation_loss: 0.0099"
          ]
        },
        {
          "output_type": "stream",
          "name": "stderr",
          "text": [
            "WARNING:tensorflow:Early stopping conditioned on metric `val_loss` which is not available. Available metrics are: categorical_accuracy,auc,student_loss,distillation_loss,val_categorical_accuracy,val_auc,val_student_loss\n"
          ]
        },
        {
          "output_type": "stream",
          "name": "stdout",
          "text": [
            "\b\b\b\b\b\b\b\b\b\b\b\b\b\b\b\b\b\b\b\b\b\b\b\b\b\b\b\b\b\b\b\b\b\b\b\b\b\b\b\b\b\b\b\b\b\b\b\b\b\b\b\b\b\b\b\b\b\b\b\b\b\b\b\b\b\b\b\b\b\b\b\b\b\b\b\b\b\b\b\b\b\b\b\b\b\b\b\b\b\b\b\b\b\b\b\b\b\b\b\b\b\b\b\b\b\b\b\b\b\b\b\b\b\b\b\b\b\b\b\b\b\b\b\b\b\b\b\b\b\b\b\b\b\b\b\b\b\b\b\b\b\b\b\b\b\b\r154/154 [==============================] - 3s 20ms/step - categorical_accuracy: 0.8911 - auc: 0.9562 - student_loss: 0.2765 - distillation_loss: 0.0100 - val_categorical_accuracy: 0.8693 - val_auc: 0.9339 - val_student_loss: 0.1103\n",
            "Epoch 45/100\n",
            "154/154 [==============================] - ETA: 0s - categorical_accuracy: 0.8899 - auc: 0.9567 - student_loss: 0.2768 - distillation_loss: 0.0101"
          ]
        },
        {
          "output_type": "stream",
          "name": "stderr",
          "text": [
            "WARNING:tensorflow:Early stopping conditioned on metric `val_loss` which is not available. Available metrics are: categorical_accuracy,auc,student_loss,distillation_loss,val_categorical_accuracy,val_auc,val_student_loss\n"
          ]
        },
        {
          "output_type": "stream",
          "name": "stdout",
          "text": [
            "\b\b\b\b\b\b\b\b\b\b\b\b\b\b\b\b\b\b\b\b\b\b\b\b\b\b\b\b\b\b\b\b\b\b\b\b\b\b\b\b\b\b\b\b\b\b\b\b\b\b\b\b\b\b\b\b\b\b\b\b\b\b\b\b\b\b\b\b\b\b\b\b\b\b\b\b\b\b\b\b\b\b\b\b\b\b\b\b\b\b\b\b\b\b\b\b\b\b\b\b\b\b\b\b\b\b\b\b\b\b\b\b\b\b\b\b\b\b\b\b\b\b\b\b\b\b\b\b\b\b\b\b\b\b\b\b\b\b\b\b\b\b\b\b\b\b\r154/154 [==============================] - 3s 19ms/step - categorical_accuracy: 0.8899 - auc: 0.9567 - student_loss: 0.2762 - distillation_loss: 0.0100 - val_categorical_accuracy: 0.8660 - val_auc: 0.9325 - val_student_loss: 0.1215\n",
            "Epoch 46/100\n",
            "151/154 [============================>.] - ETA: 0s - categorical_accuracy: 0.8887 - auc: 0.9584 - student_loss: 0.2735 - distillation_loss: 0.0100"
          ]
        },
        {
          "output_type": "stream",
          "name": "stderr",
          "text": [
            "WARNING:tensorflow:Early stopping conditioned on metric `val_loss` which is not available. Available metrics are: categorical_accuracy,auc,student_loss,distillation_loss,val_categorical_accuracy,val_auc,val_student_loss\n"
          ]
        },
        {
          "output_type": "stream",
          "name": "stdout",
          "text": [
            "\b\b\b\b\b\b\b\b\b\b\b\b\b\b\b\b\b\b\b\b\b\b\b\b\b\b\b\b\b\b\b\b\b\b\b\b\b\b\b\b\b\b\b\b\b\b\b\b\b\b\b\b\b\b\b\b\b\b\b\b\b\b\b\b\b\b\b\b\b\b\b\b\b\b\b\b\b\b\b\b\b\b\b\b\b\b\b\b\b\b\b\b\b\b\b\b\b\b\b\b\b\b\b\b\b\b\b\b\b\b\b\b\b\b\b\b\b\b\b\b\b\b\b\b\b\b\b\b\b\b\b\b\b\b\b\b\b\b\b\b\b\b\b\b\b\b\r154/154 [==============================] - 3s 19ms/step - categorical_accuracy: 0.8887 - auc: 0.9582 - student_loss: 0.2738 - distillation_loss: 0.0104 - val_categorical_accuracy: 0.8595 - val_auc: 0.9299 - val_student_loss: 0.1674\n",
            "Epoch 47/100\n",
            "152/154 [============================>.] - ETA: 0s - categorical_accuracy: 0.8939 - auc: 0.9575 - student_loss: 0.2749 - distillation_loss: 0.0101"
          ]
        },
        {
          "output_type": "stream",
          "name": "stderr",
          "text": [
            "WARNING:tensorflow:Early stopping conditioned on metric `val_loss` which is not available. Available metrics are: categorical_accuracy,auc,student_loss,distillation_loss,val_categorical_accuracy,val_auc,val_student_loss\n"
          ]
        },
        {
          "output_type": "stream",
          "name": "stdout",
          "text": [
            "\b\b\b\b\b\b\b\b\b\b\b\b\b\b\b\b\b\b\b\b\b\b\b\b\b\b\b\b\b\b\b\b\b\b\b\b\b\b\b\b\b\b\b\b\b\b\b\b\b\b\b\b\b\b\b\b\b\b\b\b\b\b\b\b\b\b\b\b\b\b\b\b\b\b\b\b\b\b\b\b\b\b\b\b\b\b\b\b\b\b\b\b\b\b\b\b\b\b\b\b\b\b\b\b\b\b\b\b\b\b\b\b\b\b\b\b\b\b\b\b\b\b\b\b\b\b\b\b\b\b\b\b\b\b\b\b\b\b\b\b\b\b\b\b\b\b\r154/154 [==============================] - 3s 19ms/step - categorical_accuracy: 0.8940 - auc: 0.9577 - student_loss: 0.2727 - distillation_loss: 0.0100 - val_categorical_accuracy: 0.8676 - val_auc: 0.9338 - val_student_loss: 0.1328\n",
            "Epoch 48/100\n",
            "154/154 [==============================] - ETA: 0s - categorical_accuracy: 0.8854 - auc: 0.9579 - student_loss: 0.2736 - distillation_loss: 0.0099"
          ]
        },
        {
          "output_type": "stream",
          "name": "stderr",
          "text": [
            "WARNING:tensorflow:Early stopping conditioned on metric `val_loss` which is not available. Available metrics are: categorical_accuracy,auc,student_loss,distillation_loss,val_categorical_accuracy,val_auc,val_student_loss\n"
          ]
        },
        {
          "output_type": "stream",
          "name": "stdout",
          "text": [
            "\b\b\b\b\b\b\b\b\b\b\b\b\b\b\b\b\b\b\b\b\b\b\b\b\b\b\b\b\b\b\b\b\b\b\b\b\b\b\b\b\b\b\b\b\b\b\b\b\b\b\b\b\b\b\b\b\b\b\b\b\b\b\b\b\b\b\b\b\b\b\b\b\b\b\b\b\b\b\b\b\b\b\b\b\b\b\b\b\b\b\b\b\b\b\b\b\b\b\b\b\b\b\b\b\b\b\b\b\b\b\b\b\b\b\b\b\b\b\b\b\b\b\b\b\b\b\b\b\b\b\b\b\b\b\b\b\b\b\b\b\b\b\b\b\b\b\r154/154 [==============================] - 3s 21ms/step - categorical_accuracy: 0.8854 - auc: 0.9579 - student_loss: 0.2732 - distillation_loss: 0.0099 - val_categorical_accuracy: 0.8758 - val_auc: 0.9337 - val_student_loss: 0.1363\n",
            "Epoch 49/100\n",
            "153/154 [============================>.] - ETA: 0s - categorical_accuracy: 0.8905 - auc: 0.9580 - student_loss: 0.2735 - distillation_loss: 0.0099"
          ]
        },
        {
          "output_type": "stream",
          "name": "stderr",
          "text": [
            "WARNING:tensorflow:Early stopping conditioned on metric `val_loss` which is not available. Available metrics are: categorical_accuracy,auc,student_loss,distillation_loss,val_categorical_accuracy,val_auc,val_student_loss\n"
          ]
        },
        {
          "output_type": "stream",
          "name": "stdout",
          "text": [
            "\b\b\b\b\b\b\b\b\b\b\b\b\b\b\b\b\b\b\b\b\b\b\b\b\b\b\b\b\b\b\b\b\b\b\b\b\b\b\b\b\b\b\b\b\b\b\b\b\b\b\b\b\b\b\b\b\b\b\b\b\b\b\b\b\b\b\b\b\b\b\b\b\b\b\b\b\b\b\b\b\b\b\b\b\b\b\b\b\b\b\b\b\b\b\b\b\b\b\b\b\b\b\b\b\b\b\b\b\b\b\b\b\b\b\b\b\b\b\b\b\b\b\b\b\b\b\b\b\b\b\b\b\b\b\b\b\b\b\b\b\b\b\b\b\b\b\r154/154 [==============================] - 3s 19ms/step - categorical_accuracy: 0.8903 - auc: 0.9579 - student_loss: 0.2750 - distillation_loss: 0.0099 - val_categorical_accuracy: 0.8775 - val_auc: 0.9346 - val_student_loss: 0.1330\n",
            "Epoch 50/100\n",
            "153/154 [============================>.] - ETA: 0s - categorical_accuracy: 0.8962 - auc: 0.9600 - student_loss: 0.2686 - distillation_loss: 0.0099"
          ]
        },
        {
          "output_type": "stream",
          "name": "stderr",
          "text": [
            "WARNING:tensorflow:Early stopping conditioned on metric `val_loss` which is not available. Available metrics are: categorical_accuracy,auc,student_loss,distillation_loss,val_categorical_accuracy,val_auc,val_student_loss\n"
          ]
        },
        {
          "output_type": "stream",
          "name": "stdout",
          "text": [
            "\b\b\b\b\b\b\b\b\b\b\b\b\b\b\b\b\b\b\b\b\b\b\b\b\b\b\b\b\b\b\b\b\b\b\b\b\b\b\b\b\b\b\b\b\b\b\b\b\b\b\b\b\b\b\b\b\b\b\b\b\b\b\b\b\b\b\b\b\b\b\b\b\b\b\b\b\b\b\b\b\b\b\b\b\b\b\b\b\b\b\b\b\b\b\b\b\b\b\b\b\b\b\b\b\b\b\b\b\b\b\b\b\b\b\b\b\b\b\b\b\b\b\b\b\b\b\b\b\b\b\b\b\b\b\b\b\b\b\b\b\b\b\b\b\b\b\r154/154 [==============================] - 3s 19ms/step - categorical_accuracy: 0.8964 - auc: 0.9601 - student_loss: 0.2672 - distillation_loss: 0.0098 - val_categorical_accuracy: 0.8644 - val_auc: 0.9334 - val_student_loss: 0.1096\n",
            "Epoch 51/100\n",
            "152/154 [============================>.] - ETA: 0s - categorical_accuracy: 0.8951 - auc: 0.9602 - student_loss: 0.2682 - distillation_loss: 0.0099"
          ]
        },
        {
          "output_type": "stream",
          "name": "stderr",
          "text": [
            "WARNING:tensorflow:Early stopping conditioned on metric `val_loss` which is not available. Available metrics are: categorical_accuracy,auc,student_loss,distillation_loss,val_categorical_accuracy,val_auc,val_student_loss\n"
          ]
        },
        {
          "output_type": "stream",
          "name": "stdout",
          "text": [
            "\b\b\b\b\b\b\b\b\b\b\b\b\b\b\b\b\b\b\b\b\b\b\b\b\b\b\b\b\b\b\b\b\b\b\b\b\b\b\b\b\b\b\b\b\b\b\b\b\b\b\b\b\b\b\b\b\b\b\b\b\b\b\b\b\b\b\b\b\b\b\b\b\b\b\b\b\b\b\b\b\b\b\b\b\b\b\b\b\b\b\b\b\b\b\b\b\b\b\b\b\b\b\b\b\b\b\b\b\b\b\b\b\b\b\b\b\b\b\b\b\b\b\b\b\b\b\b\b\b\b\b\b\b\b\b\b\b\b\b\b\b\b\b\b\b\b\r154/154 [==============================] - 3s 19ms/step - categorical_accuracy: 0.8948 - auc: 0.9601 - student_loss: 0.2675 - distillation_loss: 0.0099 - val_categorical_accuracy: 0.8725 - val_auc: 0.9334 - val_student_loss: 0.1342\n",
            "Epoch 52/100\n",
            "152/154 [============================>.] - ETA: 0s - categorical_accuracy: 0.8927 - auc: 0.9601 - student_loss: 0.2698 - distillation_loss: 0.0094"
          ]
        },
        {
          "output_type": "stream",
          "name": "stderr",
          "text": [
            "WARNING:tensorflow:Early stopping conditioned on metric `val_loss` which is not available. Available metrics are: categorical_accuracy,auc,student_loss,distillation_loss,val_categorical_accuracy,val_auc,val_student_loss\n"
          ]
        },
        {
          "output_type": "stream",
          "name": "stdout",
          "text": [
            "\b\b\b\b\b\b\b\b\b\b\b\b\b\b\b\b\b\b\b\b\b\b\b\b\b\b\b\b\b\b\b\b\b\b\b\b\b\b\b\b\b\b\b\b\b\b\b\b\b\b\b\b\b\b\b\b\b\b\b\b\b\b\b\b\b\b\b\b\b\b\b\b\b\b\b\b\b\b\b\b\b\b\b\b\b\b\b\b\b\b\b\b\b\b\b\b\b\b\b\b\b\b\b\b\b\b\b\b\b\b\b\b\b\b\b\b\b\b\b\b\b\b\b\b\b\b\b\b\b\b\b\b\b\b\b\b\b\b\b\b\b\b\b\b\b\b\r154/154 [==============================] - 3s 20ms/step - categorical_accuracy: 0.8927 - auc: 0.9601 - student_loss: 0.2677 - distillation_loss: 0.0093 - val_categorical_accuracy: 0.8709 - val_auc: 0.9325 - val_student_loss: 0.1474\n",
            "Epoch 53/100\n",
            "152/154 [============================>.] - ETA: 0s - categorical_accuracy: 0.8927 - auc: 0.9616 - student_loss: 0.2652 - distillation_loss: 0.0093"
          ]
        },
        {
          "output_type": "stream",
          "name": "stderr",
          "text": [
            "WARNING:tensorflow:Early stopping conditioned on metric `val_loss` which is not available. Available metrics are: categorical_accuracy,auc,student_loss,distillation_loss,val_categorical_accuracy,val_auc,val_student_loss\n"
          ]
        },
        {
          "output_type": "stream",
          "name": "stdout",
          "text": [
            "\b\b\b\b\b\b\b\b\b\b\b\b\b\b\b\b\b\b\b\b\b\b\b\b\b\b\b\b\b\b\b\b\b\b\b\b\b\b\b\b\b\b\b\b\b\b\b\b\b\b\b\b\b\b\b\b\b\b\b\b\b\b\b\b\b\b\b\b\b\b\b\b\b\b\b\b\b\b\b\b\b\b\b\b\b\b\b\b\b\b\b\b\b\b\b\b\b\b\b\b\b\b\b\b\b\b\b\b\b\b\b\b\b\b\b\b\b\b\b\b\b\b\b\b\b\b\b\b\b\b\b\b\b\b\b\b\b\b\b\b\b\b\b\b\b\b\r154/154 [==============================] - 3s 20ms/step - categorical_accuracy: 0.8915 - auc: 0.9612 - student_loss: 0.2668 - distillation_loss: 0.0093 - val_categorical_accuracy: 0.8742 - val_auc: 0.9326 - val_student_loss: 0.1492\n",
            "Epoch 54/100\n",
            "153/154 [============================>.] - ETA: 0s - categorical_accuracy: 0.8926 - auc: 0.9595 - student_loss: 0.2701 - distillation_loss: 0.0093"
          ]
        },
        {
          "output_type": "stream",
          "name": "stderr",
          "text": [
            "WARNING:tensorflow:Early stopping conditioned on metric `val_loss` which is not available. Available metrics are: categorical_accuracy,auc,student_loss,distillation_loss,val_categorical_accuracy,val_auc,val_student_loss\n"
          ]
        },
        {
          "output_type": "stream",
          "name": "stdout",
          "text": [
            "\b\b\b\b\b\b\b\b\b\b\b\b\b\b\b\b\b\b\b\b\b\b\b\b\b\b\b\b\b\b\b\b\b\b\b\b\b\b\b\b\b\b\b\b\b\b\b\b\b\b\b\b\b\b\b\b\b\b\b\b\b\b\b\b\b\b\b\b\b\b\b\b\b\b\b\b\b\b\b\b\b\b\b\b\b\b\b\b\b\b\b\b\b\b\b\b\b\b\b\b\b\b\b\b\b\b\b\b\b\b\b\b\b\b\b\b\b\b\b\b\b\b\b\b\b\b\b\b\b\b\b\b\b\b\b\b\b\b\b\b\b\b\b\b\b\b\r154/154 [==============================] - 3s 19ms/step - categorical_accuracy: 0.8923 - auc: 0.9595 - student_loss: 0.2711 - distillation_loss: 0.0094 - val_categorical_accuracy: 0.8693 - val_auc: 0.9321 - val_student_loss: 0.1577\n",
            "Epoch 55/100\n",
            "152/154 [============================>.] - ETA: 0s - categorical_accuracy: 0.8919 - auc: 0.9597 - student_loss: 0.2712 - distillation_loss: 0.0091"
          ]
        },
        {
          "output_type": "stream",
          "name": "stderr",
          "text": [
            "WARNING:tensorflow:Early stopping conditioned on metric `val_loss` which is not available. Available metrics are: categorical_accuracy,auc,student_loss,distillation_loss,val_categorical_accuracy,val_auc,val_student_loss\n"
          ]
        },
        {
          "output_type": "stream",
          "name": "stdout",
          "text": [
            "\b\b\b\b\b\b\b\b\b\b\b\b\b\b\b\b\b\b\b\b\b\b\b\b\b\b\b\b\b\b\b\b\b\b\b\b\b\b\b\b\b\b\b\b\b\b\b\b\b\b\b\b\b\b\b\b\b\b\b\b\b\b\b\b\b\b\b\b\b\b\b\b\b\b\b\b\b\b\b\b\b\b\b\b\b\b\b\b\b\b\b\b\b\b\b\b\b\b\b\b\b\b\b\b\b\b\b\b\b\b\b\b\b\b\b\b\b\b\b\b\b\b\b\b\b\b\b\b\b\b\b\b\b\b\b\b\b\b\b\b\b\b\b\b\b\b\r154/154 [==============================] - 3s 19ms/step - categorical_accuracy: 0.8911 - auc: 0.9596 - student_loss: 0.2686 - distillation_loss: 0.0091 - val_categorical_accuracy: 0.8676 - val_auc: 0.9335 - val_student_loss: 0.1010\n",
            "Epoch 56/100\n",
            "154/154 [==============================] - ETA: 0s - categorical_accuracy: 0.8956 - auc: 0.9613 - student_loss: 0.2642 - distillation_loss: 0.0096"
          ]
        },
        {
          "output_type": "stream",
          "name": "stderr",
          "text": [
            "WARNING:tensorflow:Early stopping conditioned on metric `val_loss` which is not available. Available metrics are: categorical_accuracy,auc,student_loss,distillation_loss,val_categorical_accuracy,val_auc,val_student_loss\n"
          ]
        },
        {
          "output_type": "stream",
          "name": "stdout",
          "text": [
            "\b\b\b\b\b\b\b\b\b\b\b\b\b\b\b\b\b\b\b\b\b\b\b\b\b\b\b\b\b\b\b\b\b\b\b\b\b\b\b\b\b\b\b\b\b\b\b\b\b\b\b\b\b\b\b\b\b\b\b\b\b\b\b\b\b\b\b\b\b\b\b\b\b\b\b\b\b\b\b\b\b\b\b\b\b\b\b\b\b\b\b\b\b\b\b\b\b\b\b\b\b\b\b\b\b\b\b\b\b\b\b\b\b\b\b\b\b\b\b\b\b\b\b\b\b\b\b\b\b\b\b\b\b\b\b\b\b\b\b\b\b\b\b\b\b\b\r154/154 [==============================] - 3s 20ms/step - categorical_accuracy: 0.8956 - auc: 0.9613 - student_loss: 0.2643 - distillation_loss: 0.0096 - val_categorical_accuracy: 0.8693 - val_auc: 0.9324 - val_student_loss: 0.1870\n",
            "Epoch 57/100\n",
            "152/154 [============================>.] - ETA: 0s - categorical_accuracy: 0.9021 - auc: 0.9640 - student_loss: 0.2612 - distillation_loss: 0.0091"
          ]
        },
        {
          "output_type": "stream",
          "name": "stderr",
          "text": [
            "WARNING:tensorflow:Early stopping conditioned on metric `val_loss` which is not available. Available metrics are: categorical_accuracy,auc,student_loss,distillation_loss,val_categorical_accuracy,val_auc,val_student_loss\n"
          ]
        },
        {
          "output_type": "stream",
          "name": "stdout",
          "text": [
            "\b\b\b\b\b\b\b\b\b\b\b\b\b\b\b\b\b\b\b\b\b\b\b\b\b\b\b\b\b\b\b\b\b\b\b\b\b\b\b\b\b\b\b\b\b\b\b\b\b\b\b\b\b\b\b\b\b\b\b\b\b\b\b\b\b\b\b\b\b\b\b\b\b\b\b\b\b\b\b\b\b\b\b\b\b\b\b\b\b\b\b\b\b\b\b\b\b\b\b\b\b\b\b\b\b\b\b\b\b\b\b\b\b\b\b\b\b\b\b\b\b\b\b\b\b\b\b\b\b\b\b\b\b\b\b\b\b\b\b\b\b\b\b\b\b\b\r154/154 [==============================] - 3s 20ms/step - categorical_accuracy: 0.9021 - auc: 0.9639 - student_loss: 0.2595 - distillation_loss: 0.0090 - val_categorical_accuracy: 0.8660 - val_auc: 0.9317 - val_student_loss: 0.1396\n",
            "Epoch 58/100\n",
            "154/154 [==============================] - ETA: 0s - categorical_accuracy: 0.9013 - auc: 0.9627 - student_loss: 0.2607 - distillation_loss: 0.0090"
          ]
        },
        {
          "output_type": "stream",
          "name": "stderr",
          "text": [
            "WARNING:tensorflow:Early stopping conditioned on metric `val_loss` which is not available. Available metrics are: categorical_accuracy,auc,student_loss,distillation_loss,val_categorical_accuracy,val_auc,val_student_loss\n"
          ]
        },
        {
          "output_type": "stream",
          "name": "stdout",
          "text": [
            "\b\b\b\b\b\b\b\b\b\b\b\b\b\b\b\b\b\b\b\b\b\b\b\b\b\b\b\b\b\b\b\b\b\b\b\b\b\b\b\b\b\b\b\b\b\b\b\b\b\b\b\b\b\b\b\b\b\b\b\b\b\b\b\b\b\b\b\b\b\b\b\b\b\b\b\b\b\b\b\b\b\b\b\b\b\b\b\b\b\b\b\b\b\b\b\b\b\b\b\b\b\b\b\b\b\b\b\b\b\b\b\b\b\b\b\b\b\b\b\b\b\b\b\b\b\b\b\b\b\b\b\b\b\b\b\b\b\b\b\b\b\b\b\b\b\b\r154/154 [==============================] - 3s 19ms/step - categorical_accuracy: 0.9013 - auc: 0.9627 - student_loss: 0.2602 - distillation_loss: 0.0090 - val_categorical_accuracy: 0.8644 - val_auc: 0.9319 - val_student_loss: 0.1578\n",
            "Epoch 59/100\n",
            "152/154 [============================>.] - ETA: 0s - categorical_accuracy: 0.9001 - auc: 0.9647 - student_loss: 0.2577 - distillation_loss: 0.0091"
          ]
        },
        {
          "output_type": "stream",
          "name": "stderr",
          "text": [
            "WARNING:tensorflow:Early stopping conditioned on metric `val_loss` which is not available. Available metrics are: categorical_accuracy,auc,student_loss,distillation_loss,val_categorical_accuracy,val_auc,val_student_loss\n"
          ]
        },
        {
          "output_type": "stream",
          "name": "stdout",
          "text": [
            "\b\b\b\b\b\b\b\b\b\b\b\b\b\b\b\b\b\b\b\b\b\b\b\b\b\b\b\b\b\b\b\b\b\b\b\b\b\b\b\b\b\b\b\b\b\b\b\b\b\b\b\b\b\b\b\b\b\b\b\b\b\b\b\b\b\b\b\b\b\b\b\b\b\b\b\b\b\b\b\b\b\b\b\b\b\b\b\b\b\b\b\b\b\b\b\b\b\b\b\b\b\b\b\b\b\b\b\b\b\b\b\b\b\b\b\b\b\b\b\b\b\b\b\b\b\b\b\b\b\b\b\b\b\b\b\b\b\b\b\b\b\b\b\b\b\b\r154/154 [==============================] - 3s 20ms/step - categorical_accuracy: 0.9001 - auc: 0.9646 - student_loss: 0.2570 - distillation_loss: 0.0091 - val_categorical_accuracy: 0.8676 - val_auc: 0.9316 - val_student_loss: 0.1766\n",
            "Epoch 60/100\n",
            "153/154 [============================>.] - ETA: 0s - categorical_accuracy: 0.8971 - auc: 0.9641 - student_loss: 0.2582 - distillation_loss: 0.0092"
          ]
        },
        {
          "output_type": "stream",
          "name": "stderr",
          "text": [
            "WARNING:tensorflow:Early stopping conditioned on metric `val_loss` which is not available. Available metrics are: categorical_accuracy,auc,student_loss,distillation_loss,val_categorical_accuracy,val_auc,val_student_loss\n"
          ]
        },
        {
          "output_type": "stream",
          "name": "stdout",
          "text": [
            "\b\b\b\b\b\b\b\b\b\b\b\b\b\b\b\b\b\b\b\b\b\b\b\b\b\b\b\b\b\b\b\b\b\b\b\b\b\b\b\b\b\b\b\b\b\b\b\b\b\b\b\b\b\b\b\b\b\b\b\b\b\b\b\b\b\b\b\b\b\b\b\b\b\b\b\b\b\b\b\b\b\b\b\b\b\b\b\b\b\b\b\b\b\b\b\b\b\b\b\b\b\b\b\b\b\b\b\b\b\b\b\b\b\b\b\b\b\b\b\b\b\b\b\b\b\b\b\b\b\b\b\b\b\b\b\b\b\b\b\b\b\b\b\b\b\b\r154/154 [==============================] - 3s 20ms/step - categorical_accuracy: 0.8972 - auc: 0.9642 - student_loss: 0.2566 - distillation_loss: 0.0091 - val_categorical_accuracy: 0.8644 - val_auc: 0.9318 - val_student_loss: 0.1525\n",
            "Epoch 61/100\n",
            "154/154 [==============================] - ETA: 0s - categorical_accuracy: 0.8997 - auc: 0.9630 - student_loss: 0.2605 - distillation_loss: 0.0089"
          ]
        },
        {
          "output_type": "stream",
          "name": "stderr",
          "text": [
            "WARNING:tensorflow:Early stopping conditioned on metric `val_loss` which is not available. Available metrics are: categorical_accuracy,auc,student_loss,distillation_loss,val_categorical_accuracy,val_auc,val_student_loss\n"
          ]
        },
        {
          "output_type": "stream",
          "name": "stdout",
          "text": [
            "\b\b\b\b\b\b\b\b\b\b\b\b\b\b\b\b\b\b\b\b\b\b\b\b\b\b\b\b\b\b\b\b\b\b\b\b\b\b\b\b\b\b\b\b\b\b\b\b\b\b\b\b\b\b\b\b\b\b\b\b\b\b\b\b\b\b\b\b\b\b\b\b\b\b\b\b\b\b\b\b\b\b\b\b\b\b\b\b\b\b\b\b\b\b\b\b\b\b\b\b\b\b\b\b\b\b\b\b\b\b\b\b\b\b\b\b\b\b\b\b\b\b\b\b\b\b\b\b\b\b\b\b\b\b\b\b\b\b\b\b\b\b\b\b\b\b\r154/154 [==============================] - 3s 20ms/step - categorical_accuracy: 0.8997 - auc: 0.9630 - student_loss: 0.2593 - distillation_loss: 0.0088 - val_categorical_accuracy: 0.8709 - val_auc: 0.9326 - val_student_loss: 0.1429\n",
            "Epoch 62/100\n",
            "152/154 [============================>.] - ETA: 0s - categorical_accuracy: 0.8997 - auc: 0.9682 - student_loss: 0.2485 - distillation_loss: 0.0094"
          ]
        },
        {
          "output_type": "stream",
          "name": "stderr",
          "text": [
            "WARNING:tensorflow:Early stopping conditioned on metric `val_loss` which is not available. Available metrics are: categorical_accuracy,auc,student_loss,distillation_loss,val_categorical_accuracy,val_auc,val_student_loss\n"
          ]
        },
        {
          "output_type": "stream",
          "name": "stdout",
          "text": [
            "\b\b\b\b\b\b\b\b\b\b\b\b\b\b\b\b\b\b\b\b\b\b\b\b\b\b\b\b\b\b\b\b\b\b\b\b\b\b\b\b\b\b\b\b\b\b\b\b\b\b\b\b\b\b\b\b\b\b\b\b\b\b\b\b\b\b\b\b\b\b\b\b\b\b\b\b\b\b\b\b\b\b\b\b\b\b\b\b\b\b\b\b\b\b\b\b\b\b\b\b\b\b\b\b\b\b\b\b\b\b\b\b\b\b\b\b\b\b\b\b\b\b\b\b\b\b\b\b\b\b\b\b\b\b\b\b\b\b\b\b\b\b\b\b\b\b\r154/154 [==============================] - 3s 19ms/step - categorical_accuracy: 0.8989 - auc: 0.9675 - student_loss: 0.2568 - distillation_loss: 0.0093 - val_categorical_accuracy: 0.8611 - val_auc: 0.9325 - val_student_loss: 0.1417\n",
            "Epoch 63/100\n",
            "153/154 [============================>.] - ETA: 0s - categorical_accuracy: 0.8987 - auc: 0.9673 - student_loss: 0.2516 - distillation_loss: 0.0092"
          ]
        },
        {
          "output_type": "stream",
          "name": "stderr",
          "text": [
            "WARNING:tensorflow:Early stopping conditioned on metric `val_loss` which is not available. Available metrics are: categorical_accuracy,auc,student_loss,distillation_loss,val_categorical_accuracy,val_auc,val_student_loss\n"
          ]
        },
        {
          "output_type": "stream",
          "name": "stdout",
          "text": [
            "\b\b\b\b\b\b\b\b\b\b\b\b\b\b\b\b\b\b\b\b\b\b\b\b\b\b\b\b\b\b\b\b\b\b\b\b\b\b\b\b\b\b\b\b\b\b\b\b\b\b\b\b\b\b\b\b\b\b\b\b\b\b\b\b\b\b\b\b\b\b\b\b\b\b\b\b\b\b\b\b\b\b\b\b\b\b\b\b\b\b\b\b\b\b\b\b\b\b\b\b\b\b\b\b\b\b\b\b\b\b\b\b\b\b\b\b\b\b\b\b\b\b\b\b\b\b\b\b\b\b\b\b\b\b\b\b\b\b\b\b\b\b\b\b\b\b\r154/154 [==============================] - 3s 19ms/step - categorical_accuracy: 0.8989 - auc: 0.9673 - student_loss: 0.2509 - distillation_loss: 0.0091 - val_categorical_accuracy: 0.8660 - val_auc: 0.9302 - val_student_loss: 0.1955\n",
            "Epoch 64/100\n",
            "154/154 [==============================] - ETA: 0s - categorical_accuracy: 0.9005 - auc: 0.9656 - student_loss: 0.2537 - distillation_loss: 0.0089"
          ]
        },
        {
          "output_type": "stream",
          "name": "stderr",
          "text": [
            "WARNING:tensorflow:Early stopping conditioned on metric `val_loss` which is not available. Available metrics are: categorical_accuracy,auc,student_loss,distillation_loss,val_categorical_accuracy,val_auc,val_student_loss\n"
          ]
        },
        {
          "output_type": "stream",
          "name": "stdout",
          "text": [
            "\b\b\b\b\b\b\b\b\b\b\b\b\b\b\b\b\b\b\b\b\b\b\b\b\b\b\b\b\b\b\b\b\b\b\b\b\b\b\b\b\b\b\b\b\b\b\b\b\b\b\b\b\b\b\b\b\b\b\b\b\b\b\b\b\b\b\b\b\b\b\b\b\b\b\b\b\b\b\b\b\b\b\b\b\b\b\b\b\b\b\b\b\b\b\b\b\b\b\b\b\b\b\b\b\b\b\b\b\b\b\b\b\b\b\b\b\b\b\b\b\b\b\b\b\b\b\b\b\b\b\b\b\b\b\b\b\b\b\b\b\b\b\b\b\b\b\r154/154 [==============================] - 3s 20ms/step - categorical_accuracy: 0.9005 - auc: 0.9656 - student_loss: 0.2530 - distillation_loss: 0.0089 - val_categorical_accuracy: 0.8709 - val_auc: 0.9323 - val_student_loss: 0.1821\n",
            "Epoch 65/100\n",
            "154/154 [==============================] - ETA: 0s - categorical_accuracy: 0.9009 - auc: 0.9670 - student_loss: 0.2514 - distillation_loss: 0.0089"
          ]
        },
        {
          "output_type": "stream",
          "name": "stderr",
          "text": [
            "WARNING:tensorflow:Early stopping conditioned on metric `val_loss` which is not available. Available metrics are: categorical_accuracy,auc,student_loss,distillation_loss,val_categorical_accuracy,val_auc,val_student_loss\n"
          ]
        },
        {
          "output_type": "stream",
          "name": "stdout",
          "text": [
            "\b\b\b\b\b\b\b\b\b\b\b\b\b\b\b\b\b\b\b\b\b\b\b\b\b\b\b\b\b\b\b\b\b\b\b\b\b\b\b\b\b\b\b\b\b\b\b\b\b\b\b\b\b\b\b\b\b\b\b\b\b\b\b\b\b\b\b\b\b\b\b\b\b\b\b\b\b\b\b\b\b\b\b\b\b\b\b\b\b\b\b\b\b\b\b\b\b\b\b\b\b\b\b\b\b\b\b\b\b\b\b\b\b\b\b\b\b\b\b\b\b\b\b\b\b\b\b\b\b\b\b\b\b\b\b\b\b\b\b\b\b\b\b\b\b\b\r154/154 [==============================] - 3s 20ms/step - categorical_accuracy: 0.9009 - auc: 0.9670 - student_loss: 0.2518 - distillation_loss: 0.0089 - val_categorical_accuracy: 0.8709 - val_auc: 0.9290 - val_student_loss: 0.2256\n",
            "Epoch 66/100\n",
            "154/154 [==============================] - ETA: 0s - categorical_accuracy: 0.9025 - auc: 0.9672 - student_loss: 0.2495 - distillation_loss: 0.0090"
          ]
        },
        {
          "output_type": "stream",
          "name": "stderr",
          "text": [
            "WARNING:tensorflow:Early stopping conditioned on metric `val_loss` which is not available. Available metrics are: categorical_accuracy,auc,student_loss,distillation_loss,val_categorical_accuracy,val_auc,val_student_loss\n"
          ]
        },
        {
          "output_type": "stream",
          "name": "stdout",
          "text": [
            "\b\b\b\b\b\b\b\b\b\b\b\b\b\b\b\b\b\b\b\b\b\b\b\b\b\b\b\b\b\b\b\b\b\b\b\b\b\b\b\b\b\b\b\b\b\b\b\b\b\b\b\b\b\b\b\b\b\b\b\b\b\b\b\b\b\b\b\b\b\b\b\b\b\b\b\b\b\b\b\b\b\b\b\b\b\b\b\b\b\b\b\b\b\b\b\b\b\b\b\b\b\b\b\b\b\b\b\b\b\b\b\b\b\b\b\b\b\b\b\b\b\b\b\b\b\b\b\b\b\b\b\b\b\b\b\b\b\b\b\b\b\b\b\b\b\b\r154/154 [==============================] - 3s 19ms/step - categorical_accuracy: 0.9025 - auc: 0.9672 - student_loss: 0.2484 - distillation_loss: 0.0089 - val_categorical_accuracy: 0.8693 - val_auc: 0.9290 - val_student_loss: 0.2086\n",
            "Epoch 67/100\n",
            "154/154 [==============================] - ETA: 0s - categorical_accuracy: 0.9025 - auc: 0.9671 - student_loss: 0.2496 - distillation_loss: 0.0090"
          ]
        },
        {
          "output_type": "stream",
          "name": "stderr",
          "text": [
            "WARNING:tensorflow:Early stopping conditioned on metric `val_loss` which is not available. Available metrics are: categorical_accuracy,auc,student_loss,distillation_loss,val_categorical_accuracy,val_auc,val_student_loss\n"
          ]
        },
        {
          "output_type": "stream",
          "name": "stdout",
          "text": [
            "\b\b\b\b\b\b\b\b\b\b\b\b\b\b\b\b\b\b\b\b\b\b\b\b\b\b\b\b\b\b\b\b\b\b\b\b\b\b\b\b\b\b\b\b\b\b\b\b\b\b\b\b\b\b\b\b\b\b\b\b\b\b\b\b\b\b\b\b\b\b\b\b\b\b\b\b\b\b\b\b\b\b\b\b\b\b\b\b\b\b\b\b\b\b\b\b\b\b\b\b\b\b\b\b\b\b\b\b\b\b\b\b\b\b\b\b\b\b\b\b\b\b\b\b\b\b\b\b\b\b\b\b\b\b\b\b\b\b\b\b\b\b\b\b\b\b\r154/154 [==============================] - 3s 19ms/step - categorical_accuracy: 0.9025 - auc: 0.9671 - student_loss: 0.2497 - distillation_loss: 0.0090 - val_categorical_accuracy: 0.8660 - val_auc: 0.9319 - val_student_loss: 0.1916\n",
            "Epoch 68/100\n",
            "151/154 [============================>.] - ETA: 0s - categorical_accuracy: 0.9060 - auc: 0.9694 - student_loss: 0.2447 - distillation_loss: 0.0090"
          ]
        },
        {
          "output_type": "stream",
          "name": "stderr",
          "text": [
            "WARNING:tensorflow:Early stopping conditioned on metric `val_loss` which is not available. Available metrics are: categorical_accuracy,auc,student_loss,distillation_loss,val_categorical_accuracy,val_auc,val_student_loss\n"
          ]
        },
        {
          "output_type": "stream",
          "name": "stdout",
          "text": [
            "\b\b\b\b\b\b\b\b\b\b\b\b\b\b\b\b\b\b\b\b\b\b\b\b\b\b\b\b\b\b\b\b\b\b\b\b\b\b\b\b\b\b\b\b\b\b\b\b\b\b\b\b\b\b\b\b\b\b\b\b\b\b\b\b\b\b\b\b\b\b\b\b\b\b\b\b\b\b\b\b\b\b\b\b\b\b\b\b\b\b\b\b\b\b\b\b\b\b\b\b\b\b\b\b\b\b\b\b\b\b\b\b\b\b\b\b\b\b\b\b\b\b\b\b\b\b\b\b\b\b\b\b\b\b\b\b\b\b\b\b\b\b\b\b\b\b\r154/154 [==============================] - 3s 19ms/step - categorical_accuracy: 0.9050 - auc: 0.9688 - student_loss: 0.2475 - distillation_loss: 0.0091 - val_categorical_accuracy: 0.8676 - val_auc: 0.9315 - val_student_loss: 0.1800\n",
            "Epoch 69/100\n",
            "154/154 [==============================] - ETA: 0s - categorical_accuracy: 0.8964 - auc: 0.9677 - student_loss: 0.2494 - distillation_loss: 0.0087"
          ]
        },
        {
          "output_type": "stream",
          "name": "stderr",
          "text": [
            "WARNING:tensorflow:Early stopping conditioned on metric `val_loss` which is not available. Available metrics are: categorical_accuracy,auc,student_loss,distillation_loss,val_categorical_accuracy,val_auc,val_student_loss\n"
          ]
        },
        {
          "output_type": "stream",
          "name": "stdout",
          "text": [
            "\b\b\b\b\b\b\b\b\b\b\b\b\b\b\b\b\b\b\b\b\b\b\b\b\b\b\b\b\b\b\b\b\b\b\b\b\b\b\b\b\b\b\b\b\b\b\b\b\b\b\b\b\b\b\b\b\b\b\b\b\b\b\b\b\b\b\b\b\b\b\b\b\b\b\b\b\b\b\b\b\b\b\b\b\b\b\b\b\b\b\b\b\b\b\b\b\b\b\b\b\b\b\b\b\b\b\b\b\b\b\b\b\b\b\b\b\b\b\b\b\b\b\b\b\b\b\b\b\b\b\b\b\b\b\b\b\b\b\b\b\b\b\b\b\b\b\r154/154 [==============================] - 3s 20ms/step - categorical_accuracy: 0.8964 - auc: 0.9677 - student_loss: 0.2493 - distillation_loss: 0.0087 - val_categorical_accuracy: 0.8693 - val_auc: 0.9313 - val_student_loss: 0.1875\n",
            "Epoch 70/100\n",
            "154/154 [==============================] - ETA: 0s - categorical_accuracy: 0.8997 - auc: 0.9688 - student_loss: 0.2454 - distillation_loss: 0.0087"
          ]
        },
        {
          "output_type": "stream",
          "name": "stderr",
          "text": [
            "WARNING:tensorflow:Early stopping conditioned on metric `val_loss` which is not available. Available metrics are: categorical_accuracy,auc,student_loss,distillation_loss,val_categorical_accuracy,val_auc,val_student_loss\n"
          ]
        },
        {
          "output_type": "stream",
          "name": "stdout",
          "text": [
            "\b\b\b\b\b\b\b\b\b\b\b\b\b\b\b\b\b\b\b\b\b\b\b\b\b\b\b\b\b\b\b\b\b\b\b\b\b\b\b\b\b\b\b\b\b\b\b\b\b\b\b\b\b\b\b\b\b\b\b\b\b\b\b\b\b\b\b\b\b\b\b\b\b\b\b\b\b\b\b\b\b\b\b\b\b\b\b\b\b\b\b\b\b\b\b\b\b\b\b\b\b\b\b\b\b\b\b\b\b\b\b\b\b\b\b\b\b\b\b\b\b\b\b\b\b\b\b\b\b\b\b\b\b\b\b\b\b\b\b\b\b\b\b\b\b\b\r154/154 [==============================] - 3s 20ms/step - categorical_accuracy: 0.8997 - auc: 0.9688 - student_loss: 0.2443 - distillation_loss: 0.0087 - val_categorical_accuracy: 0.8627 - val_auc: 0.9319 - val_student_loss: 0.1775\n",
            "Epoch 71/100\n",
            "153/154 [============================>.] - ETA: 0s - categorical_accuracy: 0.9056 - auc: 0.9691 - student_loss: 0.2449 - distillation_loss: 0.0086"
          ]
        },
        {
          "output_type": "stream",
          "name": "stderr",
          "text": [
            "WARNING:tensorflow:Early stopping conditioned on metric `val_loss` which is not available. Available metrics are: categorical_accuracy,auc,student_loss,distillation_loss,val_categorical_accuracy,val_auc,val_student_loss\n"
          ]
        },
        {
          "output_type": "stream",
          "name": "stdout",
          "text": [
            "\b\b\b\b\b\b\b\b\b\b\b\b\b\b\b\b\b\b\b\b\b\b\b\b\b\b\b\b\b\b\b\b\b\b\b\b\b\b\b\b\b\b\b\b\b\b\b\b\b\b\b\b\b\b\b\b\b\b\b\b\b\b\b\b\b\b\b\b\b\b\b\b\b\b\b\b\b\b\b\b\b\b\b\b\b\b\b\b\b\b\b\b\b\b\b\b\b\b\b\b\b\b\b\b\b\b\b\b\b\b\b\b\b\b\b\b\b\b\b\b\b\b\b\b\b\b\b\b\b\b\b\b\b\b\b\b\b\b\b\b\b\b\b\b\b\b\r154/154 [==============================] - 3s 19ms/step - categorical_accuracy: 0.9058 - auc: 0.9692 - student_loss: 0.2424 - distillation_loss: 0.0086 - val_categorical_accuracy: 0.8644 - val_auc: 0.9301 - val_student_loss: 0.1983\n",
            "Epoch 72/100\n",
            "153/154 [============================>.] - ETA: 0s - categorical_accuracy: 0.8995 - auc: 0.9678 - student_loss: 0.2499 - distillation_loss: 0.0087"
          ]
        },
        {
          "output_type": "stream",
          "name": "stderr",
          "text": [
            "WARNING:tensorflow:Early stopping conditioned on metric `val_loss` which is not available. Available metrics are: categorical_accuracy,auc,student_loss,distillation_loss,val_categorical_accuracy,val_auc,val_student_loss\n"
          ]
        },
        {
          "output_type": "stream",
          "name": "stdout",
          "text": [
            "\b\b\b\b\b\b\b\b\b\b\b\b\b\b\b\b\b\b\b\b\b\b\b\b\b\b\b\b\b\b\b\b\b\b\b\b\b\b\b\b\b\b\b\b\b\b\b\b\b\b\b\b\b\b\b\b\b\b\b\b\b\b\b\b\b\b\b\b\b\b\b\b\b\b\b\b\b\b\b\b\b\b\b\b\b\b\b\b\b\b\b\b\b\b\b\b\b\b\b\b\b\b\b\b\b\b\b\b\b\b\b\b\b\b\b\b\b\b\b\b\b\b\b\b\b\b\b\b\b\b\b\b\b\b\b\b\b\b\b\b\b\b\b\b\b\b\r154/154 [==============================] - 3s 20ms/step - categorical_accuracy: 0.8997 - auc: 0.9679 - student_loss: 0.2479 - distillation_loss: 0.0088 - val_categorical_accuracy: 0.8644 - val_auc: 0.9309 - val_student_loss: 0.1873\n",
            "Epoch 73/100\n",
            "152/154 [============================>.] - ETA: 0s - categorical_accuracy: 0.9046 - auc: 0.9706 - student_loss: 0.2396 - distillation_loss: 0.0091"
          ]
        },
        {
          "output_type": "stream",
          "name": "stderr",
          "text": [
            "WARNING:tensorflow:Early stopping conditioned on metric `val_loss` which is not available. Available metrics are: categorical_accuracy,auc,student_loss,distillation_loss,val_categorical_accuracy,val_auc,val_student_loss\n"
          ]
        },
        {
          "output_type": "stream",
          "name": "stdout",
          "text": [
            "\b\b\b\b\b\b\b\b\b\b\b\b\b\b\b\b\b\b\b\b\b\b\b\b\b\b\b\b\b\b\b\b\b\b\b\b\b\b\b\b\b\b\b\b\b\b\b\b\b\b\b\b\b\b\b\b\b\b\b\b\b\b\b\b\b\b\b\b\b\b\b\b\b\b\b\b\b\b\b\b\b\b\b\b\b\b\b\b\b\b\b\b\b\b\b\b\b\b\b\b\b\b\b\b\b\b\b\b\b\b\b\b\b\b\b\b\b\b\b\b\b\b\b\b\b\b\b\b\b\b\b\b\b\b\b\b\b\b\b\b\b\b\b\b\b\b\r154/154 [==============================] - 3s 21ms/step - categorical_accuracy: 0.9033 - auc: 0.9699 - student_loss: 0.2440 - distillation_loss: 0.0091 - val_categorical_accuracy: 0.8611 - val_auc: 0.9297 - val_student_loss: 0.2245\n",
            "Epoch 74/100\n",
            "153/154 [============================>.] - ETA: 0s - categorical_accuracy: 0.9060 - auc: 0.9701 - student_loss: 0.2439 - distillation_loss: 0.0085"
          ]
        },
        {
          "output_type": "stream",
          "name": "stderr",
          "text": [
            "WARNING:tensorflow:Early stopping conditioned on metric `val_loss` which is not available. Available metrics are: categorical_accuracy,auc,student_loss,distillation_loss,val_categorical_accuracy,val_auc,val_student_loss\n"
          ]
        },
        {
          "output_type": "stream",
          "name": "stdout",
          "text": [
            "\b\b\b\b\b\b\b\b\b\b\b\b\b\b\b\b\b\b\b\b\b\b\b\b\b\b\b\b\b\b\b\b\b\b\b\b\b\b\b\b\b\b\b\b\b\b\b\b\b\b\b\b\b\b\b\b\b\b\b\b\b\b\b\b\b\b\b\b\b\b\b\b\b\b\b\b\b\b\b\b\b\b\b\b\b\b\b\b\b\b\b\b\b\b\b\b\b\b\b\b\b\b\b\b\b\b\b\b\b\b\b\b\b\b\b\b\b\b\b\b\b\b\b\b\b\b\b\b\b\b\b\b\b\b\b\b\b\b\b\b\b\b\b\b\b\b\r154/154 [==============================] - 3s 20ms/step - categorical_accuracy: 0.9058 - auc: 0.9700 - student_loss: 0.2464 - distillation_loss: 0.0085 - val_categorical_accuracy: 0.8611 - val_auc: 0.9296 - val_student_loss: 0.2063\n",
            "Epoch 75/100\n",
            "152/154 [============================>.] - ETA: 0s - categorical_accuracy: 0.9038 - auc: 0.9700 - student_loss: 0.2434 - distillation_loss: 0.0085"
          ]
        },
        {
          "output_type": "stream",
          "name": "stderr",
          "text": [
            "WARNING:tensorflow:Early stopping conditioned on metric `val_loss` which is not available. Available metrics are: categorical_accuracy,auc,student_loss,distillation_loss,val_categorical_accuracy,val_auc,val_student_loss\n"
          ]
        },
        {
          "output_type": "stream",
          "name": "stdout",
          "text": [
            "\b\b\b\b\b\b\b\b\b\b\b\b\b\b\b\b\b\b\b\b\b\b\b\b\b\b\b\b\b\b\b\b\b\b\b\b\b\b\b\b\b\b\b\b\b\b\b\b\b\b\b\b\b\b\b\b\b\b\b\b\b\b\b\b\b\b\b\b\b\b\b\b\b\b\b\b\b\b\b\b\b\b\b\b\b\b\b\b\b\b\b\b\b\b\b\b\b\b\b\b\b\b\b\b\b\b\b\b\b\b\b\b\b\b\b\b\b\b\b\b\b\b\b\b\b\b\b\b\b\b\b\b\b\b\b\b\b\b\b\b\b\b\b\b\b\b\r154/154 [==============================] - 3s 19ms/step - categorical_accuracy: 0.9038 - auc: 0.9701 - student_loss: 0.2418 - distillation_loss: 0.0084 - val_categorical_accuracy: 0.8709 - val_auc: 0.9298 - val_student_loss: 0.2039\n",
            "Epoch 76/100\n",
            "154/154 [==============================] - ETA: 0s - categorical_accuracy: 0.9017 - auc: 0.9704 - student_loss: 0.2426 - distillation_loss: 0.0089"
          ]
        },
        {
          "output_type": "stream",
          "name": "stderr",
          "text": [
            "WARNING:tensorflow:Early stopping conditioned on metric `val_loss` which is not available. Available metrics are: categorical_accuracy,auc,student_loss,distillation_loss,val_categorical_accuracy,val_auc,val_student_loss\n"
          ]
        },
        {
          "output_type": "stream",
          "name": "stdout",
          "text": [
            "\b\b\b\b\b\b\b\b\b\b\b\b\b\b\b\b\b\b\b\b\b\b\b\b\b\b\b\b\b\b\b\b\b\b\b\b\b\b\b\b\b\b\b\b\b\b\b\b\b\b\b\b\b\b\b\b\b\b\b\b\b\b\b\b\b\b\b\b\b\b\b\b\b\b\b\b\b\b\b\b\b\b\b\b\b\b\b\b\b\b\b\b\b\b\b\b\b\b\b\b\b\b\b\b\b\b\b\b\b\b\b\b\b\b\b\b\b\b\b\b\b\b\b\b\b\b\b\b\b\b\b\b\b\b\b\b\b\b\b\b\b\b\b\b\b\b\r154/154 [==============================] - 3s 20ms/step - categorical_accuracy: 0.9017 - auc: 0.9704 - student_loss: 0.2436 - distillation_loss: 0.0089 - val_categorical_accuracy: 0.8676 - val_auc: 0.9277 - val_student_loss: 0.2609\n",
            "Epoch 77/100\n",
            "152/154 [============================>.] - ETA: 0s - categorical_accuracy: 0.9062 - auc: 0.9702 - student_loss: 0.2411 - distillation_loss: 0.0087"
          ]
        },
        {
          "output_type": "stream",
          "name": "stderr",
          "text": [
            "WARNING:tensorflow:Early stopping conditioned on metric `val_loss` which is not available. Available metrics are: categorical_accuracy,auc,student_loss,distillation_loss,val_categorical_accuracy,val_auc,val_student_loss\n"
          ]
        },
        {
          "output_type": "stream",
          "name": "stdout",
          "text": [
            "\b\b\b\b\b\b\b\b\b\b\b\b\b\b\b\b\b\b\b\b\b\b\b\b\b\b\b\b\b\b\b\b\b\b\b\b\b\b\b\b\b\b\b\b\b\b\b\b\b\b\b\b\b\b\b\b\b\b\b\b\b\b\b\b\b\b\b\b\b\b\b\b\b\b\b\b\b\b\b\b\b\b\b\b\b\b\b\b\b\b\b\b\b\b\b\b\b\b\b\b\b\b\b\b\b\b\b\b\b\b\b\b\b\b\b\b\b\b\b\b\b\b\b\b\b\b\b\b\b\b\b\b\b\b\b\b\b\b\b\b\b\b\b\b\b\b\r154/154 [==============================] - 3s 20ms/step - categorical_accuracy: 0.9066 - auc: 0.9704 - student_loss: 0.2402 - distillation_loss: 0.0087 - val_categorical_accuracy: 0.8725 - val_auc: 0.9310 - val_student_loss: 0.2368\n",
            "Epoch 78/100\n",
            "153/154 [============================>.] - ETA: 0s - categorical_accuracy: 0.9024 - auc: 0.9704 - student_loss: 0.2419 - distillation_loss: 0.0088"
          ]
        },
        {
          "output_type": "stream",
          "name": "stderr",
          "text": [
            "WARNING:tensorflow:Early stopping conditioned on metric `val_loss` which is not available. Available metrics are: categorical_accuracy,auc,student_loss,distillation_loss,val_categorical_accuracy,val_auc,val_student_loss\n"
          ]
        },
        {
          "output_type": "stream",
          "name": "stdout",
          "text": [
            "\b\b\b\b\b\b\b\b\b\b\b\b\b\b\b\b\b\b\b\b\b\b\b\b\b\b\b\b\b\b\b\b\b\b\b\b\b\b\b\b\b\b\b\b\b\b\b\b\b\b\b\b\b\b\b\b\b\b\b\b\b\b\b\b\b\b\b\b\b\b\b\b\b\b\b\b\b\b\b\b\b\b\b\b\b\b\b\b\b\b\b\b\b\b\b\b\b\b\b\b\b\b\b\b\b\b\b\b\b\b\b\b\b\b\b\b\b\b\b\b\b\b\b\b\b\b\b\b\b\b\b\b\b\b\b\b\b\b\b\b\b\b\b\b\b\b\r154/154 [==============================] - 3s 20ms/step - categorical_accuracy: 0.9025 - auc: 0.9704 - student_loss: 0.2396 - distillation_loss: 0.0087 - val_categorical_accuracy: 0.8693 - val_auc: 0.9325 - val_student_loss: 0.1987\n",
            "Epoch 79/100\n",
            "153/154 [============================>.] - ETA: 0s - categorical_accuracy: 0.9069 - auc: 0.9722 - student_loss: 0.2347 - distillation_loss: 0.0090"
          ]
        },
        {
          "output_type": "stream",
          "name": "stderr",
          "text": [
            "WARNING:tensorflow:Early stopping conditioned on metric `val_loss` which is not available. Available metrics are: categorical_accuracy,auc,student_loss,distillation_loss,val_categorical_accuracy,val_auc,val_student_loss\n"
          ]
        },
        {
          "output_type": "stream",
          "name": "stdout",
          "text": [
            "\b\b\b\b\b\b\b\b\b\b\b\b\b\b\b\b\b\b\b\b\b\b\b\b\b\b\b\b\b\b\b\b\b\b\b\b\b\b\b\b\b\b\b\b\b\b\b\b\b\b\b\b\b\b\b\b\b\b\b\b\b\b\b\b\b\b\b\b\b\b\b\b\b\b\b\b\b\b\b\b\b\b\b\b\b\b\b\b\b\b\b\b\b\b\b\b\b\b\b\b\b\b\b\b\b\b\b\b\b\b\b\b\b\b\b\b\b\b\b\b\b\b\b\b\b\b\b\b\b\b\b\b\b\b\b\b\b\b\b\b\b\b\b\b\b\b\r154/154 [==============================] - 3s 20ms/step - categorical_accuracy: 0.9070 - auc: 0.9722 - student_loss: 0.2342 - distillation_loss: 0.0089 - val_categorical_accuracy: 0.8627 - val_auc: 0.9323 - val_student_loss: 0.1869\n",
            "Epoch 80/100\n",
            "152/154 [============================>.] - ETA: 0s - categorical_accuracy: 0.9112 - auc: 0.9725 - student_loss: 0.2353 - distillation_loss: 0.0087"
          ]
        },
        {
          "output_type": "stream",
          "name": "stderr",
          "text": [
            "WARNING:tensorflow:Early stopping conditioned on metric `val_loss` which is not available. Available metrics are: categorical_accuracy,auc,student_loss,distillation_loss,val_categorical_accuracy,val_auc,val_student_loss\n"
          ]
        },
        {
          "output_type": "stream",
          "name": "stdout",
          "text": [
            "\b\b\b\b\b\b\b\b\b\b\b\b\b\b\b\b\b\b\b\b\b\b\b\b\b\b\b\b\b\b\b\b\b\b\b\b\b\b\b\b\b\b\b\b\b\b\b\b\b\b\b\b\b\b\b\b\b\b\b\b\b\b\b\b\b\b\b\b\b\b\b\b\b\b\b\b\b\b\b\b\b\b\b\b\b\b\b\b\b\b\b\b\b\b\b\b\b\b\b\b\b\b\b\b\b\b\b\b\b\b\b\b\b\b\b\b\b\b\b\b\b\b\b\b\b\b\b\b\b\b\b\b\b\b\b\b\b\b\b\b\b\b\b\b\b\b\r154/154 [==============================] - 3s 19ms/step - categorical_accuracy: 0.9103 - auc: 0.9722 - student_loss: 0.2381 - distillation_loss: 0.0088 - val_categorical_accuracy: 0.8660 - val_auc: 0.9306 - val_student_loss: 0.2033\n",
            "Epoch 81/100\n",
            "152/154 [============================>.] - ETA: 0s - categorical_accuracy: 0.9079 - auc: 0.9723 - student_loss: 0.2374 - distillation_loss: 0.0087"
          ]
        },
        {
          "output_type": "stream",
          "name": "stderr",
          "text": [
            "WARNING:tensorflow:Early stopping conditioned on metric `val_loss` which is not available. Available metrics are: categorical_accuracy,auc,student_loss,distillation_loss,val_categorical_accuracy,val_auc,val_student_loss\n"
          ]
        },
        {
          "output_type": "stream",
          "name": "stdout",
          "text": [
            "\b\b\b\b\b\b\b\b\b\b\b\b\b\b\b\b\b\b\b\b\b\b\b\b\b\b\b\b\b\b\b\b\b\b\b\b\b\b\b\b\b\b\b\b\b\b\b\b\b\b\b\b\b\b\b\b\b\b\b\b\b\b\b\b\b\b\b\b\b\b\b\b\b\b\b\b\b\b\b\b\b\b\b\b\b\b\b\b\b\b\b\b\b\b\b\b\b\b\b\b\b\b\b\b\b\b\b\b\b\b\b\b\b\b\b\b\b\b\b\b\b\b\b\b\b\b\b\b\b\b\b\b\b\b\b\b\b\b\b\b\b\b\b\b\b\b\r154/154 [==============================] - 3s 20ms/step - categorical_accuracy: 0.9082 - auc: 0.9725 - student_loss: 0.2346 - distillation_loss: 0.0086 - val_categorical_accuracy: 0.8676 - val_auc: 0.9305 - val_student_loss: 0.2050\n",
            "Epoch 82/100\n",
            "154/154 [==============================] - ETA: 0s - categorical_accuracy: 0.9115 - auc: 0.9744 - student_loss: 0.2303 - distillation_loss: 0.0089"
          ]
        },
        {
          "output_type": "stream",
          "name": "stderr",
          "text": [
            "WARNING:tensorflow:Early stopping conditioned on metric `val_loss` which is not available. Available metrics are: categorical_accuracy,auc,student_loss,distillation_loss,val_categorical_accuracy,val_auc,val_student_loss\n"
          ]
        },
        {
          "output_type": "stream",
          "name": "stdout",
          "text": [
            "\b\b\b\b\b\b\b\b\b\b\b\b\b\b\b\b\b\b\b\b\b\b\b\b\b\b\b\b\b\b\b\b\b\b\b\b\b\b\b\b\b\b\b\b\b\b\b\b\b\b\b\b\b\b\b\b\b\b\b\b\b\b\b\b\b\b\b\b\b\b\b\b\b\b\b\b\b\b\b\b\b\b\b\b\b\b\b\b\b\b\b\b\b\b\b\b\b\b\b\b\b\b\b\b\b\b\b\b\b\b\b\b\b\b\b\b\b\b\b\b\b\b\b\b\b\b\b\b\b\b\b\b\b\b\b\b\b\b\b\b\b\b\b\b\b\b\r154/154 [==============================] - 3s 21ms/step - categorical_accuracy: 0.9115 - auc: 0.9744 - student_loss: 0.2298 - distillation_loss: 0.0089 - val_categorical_accuracy: 0.8758 - val_auc: 0.9298 - val_student_loss: 0.2250\n",
            "Epoch 83/100\n",
            "153/154 [============================>.] - ETA: 0s - categorical_accuracy: 0.9069 - auc: 0.9712 - student_loss: 0.2374 - distillation_loss: 0.0085"
          ]
        },
        {
          "output_type": "stream",
          "name": "stderr",
          "text": [
            "WARNING:tensorflow:Early stopping conditioned on metric `val_loss` which is not available. Available metrics are: categorical_accuracy,auc,student_loss,distillation_loss,val_categorical_accuracy,val_auc,val_student_loss\n"
          ]
        },
        {
          "output_type": "stream",
          "name": "stdout",
          "text": [
            "\b\b\b\b\b\b\b\b\b\b\b\b\b\b\b\b\b\b\b\b\b\b\b\b\b\b\b\b\b\b\b\b\b\b\b\b\b\b\b\b\b\b\b\b\b\b\b\b\b\b\b\b\b\b\b\b\b\b\b\b\b\b\b\b\b\b\b\b\b\b\b\b\b\b\b\b\b\b\b\b\b\b\b\b\b\b\b\b\b\b\b\b\b\b\b\b\b\b\b\b\b\b\b\b\b\b\b\b\b\b\b\b\b\b\b\b\b\b\b\b\b\b\b\b\b\b\b\b\b\b\b\b\b\b\b\b\b\b\b\b\b\b\b\b\b\b\r154/154 [==============================] - 3s 19ms/step - categorical_accuracy: 0.9070 - auc: 0.9713 - student_loss: 0.2362 - distillation_loss: 0.0085 - val_categorical_accuracy: 0.8660 - val_auc: 0.9297 - val_student_loss: 0.2164\n",
            "Epoch 84/100\n",
            "154/154 [==============================] - ETA: 0s - categorical_accuracy: 0.9148 - auc: 0.9753 - student_loss: 0.2271 - distillation_loss: 0.0089"
          ]
        },
        {
          "output_type": "stream",
          "name": "stderr",
          "text": [
            "WARNING:tensorflow:Early stopping conditioned on metric `val_loss` which is not available. Available metrics are: categorical_accuracy,auc,student_loss,distillation_loss,val_categorical_accuracy,val_auc,val_student_loss\n"
          ]
        },
        {
          "output_type": "stream",
          "name": "stdout",
          "text": [
            "\b\b\b\b\b\b\b\b\b\b\b\b\b\b\b\b\b\b\b\b\b\b\b\b\b\b\b\b\b\b\b\b\b\b\b\b\b\b\b\b\b\b\b\b\b\b\b\b\b\b\b\b\b\b\b\b\b\b\b\b\b\b\b\b\b\b\b\b\b\b\b\b\b\b\b\b\b\b\b\b\b\b\b\b\b\b\b\b\b\b\b\b\b\b\b\b\b\b\b\b\b\b\b\b\b\b\b\b\b\b\b\b\b\b\b\b\b\b\b\b\b\b\b\b\b\b\b\b\b\b\b\b\b\b\b\b\b\b\b\b\b\b\b\b\b\b\r154/154 [==============================] - 3s 20ms/step - categorical_accuracy: 0.9148 - auc: 0.9753 - student_loss: 0.2267 - distillation_loss: 0.0090 - val_categorical_accuracy: 0.8693 - val_auc: 0.9305 - val_student_loss: 0.2136\n",
            "Epoch 85/100\n",
            "152/154 [============================>.] - ETA: 0s - categorical_accuracy: 0.9100 - auc: 0.9742 - student_loss: 0.2314 - distillation_loss: 0.0087"
          ]
        },
        {
          "output_type": "stream",
          "name": "stderr",
          "text": [
            "WARNING:tensorflow:Early stopping conditioned on metric `val_loss` which is not available. Available metrics are: categorical_accuracy,auc,student_loss,distillation_loss,val_categorical_accuracy,val_auc,val_student_loss\n"
          ]
        },
        {
          "output_type": "stream",
          "name": "stdout",
          "text": [
            "\b\b\b\b\b\b\b\b\b\b\b\b\b\b\b\b\b\b\b\b\b\b\b\b\b\b\b\b\b\b\b\b\b\b\b\b\b\b\b\b\b\b\b\b\b\b\b\b\b\b\b\b\b\b\b\b\b\b\b\b\b\b\b\b\b\b\b\b\b\b\b\b\b\b\b\b\b\b\b\b\b\b\b\b\b\b\b\b\b\b\b\b\b\b\b\b\b\b\b\b\b\b\b\b\b\b\b\b\b\b\b\b\b\b\b\b\b\b\b\b\b\b\b\b\b\b\b\b\b\b\b\b\b\b\b\b\b\b\b\b\b\b\b\b\b\b\r154/154 [==============================] - 3s 20ms/step - categorical_accuracy: 0.9095 - auc: 0.9741 - student_loss: 0.2297 - distillation_loss: 0.0087 - val_categorical_accuracy: 0.8676 - val_auc: 0.9296 - val_student_loss: 0.2217\n",
            "Epoch 86/100\n",
            "152/154 [============================>.] - ETA: 0s - categorical_accuracy: 0.9087 - auc: 0.9736 - student_loss: 0.2311 - distillation_loss: 0.0090"
          ]
        },
        {
          "output_type": "stream",
          "name": "stderr",
          "text": [
            "WARNING:tensorflow:Early stopping conditioned on metric `val_loss` which is not available. Available metrics are: categorical_accuracy,auc,student_loss,distillation_loss,val_categorical_accuracy,val_auc,val_student_loss\n"
          ]
        },
        {
          "output_type": "stream",
          "name": "stdout",
          "text": [
            "\b\b\b\b\b\b\b\b\b\b\b\b\b\b\b\b\b\b\b\b\b\b\b\b\b\b\b\b\b\b\b\b\b\b\b\b\b\b\b\b\b\b\b\b\b\b\b\b\b\b\b\b\b\b\b\b\b\b\b\b\b\b\b\b\b\b\b\b\b\b\b\b\b\b\b\b\b\b\b\b\b\b\b\b\b\b\b\b\b\b\b\b\b\b\b\b\b\b\b\b\b\b\b\b\b\b\b\b\b\b\b\b\b\b\b\b\b\b\b\b\b\b\b\b\b\b\b\b\b\b\b\b\b\b\b\b\b\b\b\b\b\b\b\b\b\b\r154/154 [==============================] - 3s 20ms/step - categorical_accuracy: 0.9095 - auc: 0.9739 - student_loss: 0.2283 - distillation_loss: 0.0090 - val_categorical_accuracy: 0.8611 - val_auc: 0.9317 - val_student_loss: 0.2030\n",
            "Epoch 87/100\n",
            "154/154 [==============================] - ETA: 0s - categorical_accuracy: 0.9038 - auc: 0.9733 - student_loss: 0.2356 - distillation_loss: 0.0086"
          ]
        },
        {
          "output_type": "stream",
          "name": "stderr",
          "text": [
            "WARNING:tensorflow:Early stopping conditioned on metric `val_loss` which is not available. Available metrics are: categorical_accuracy,auc,student_loss,distillation_loss,val_categorical_accuracy,val_auc,val_student_loss\n"
          ]
        },
        {
          "output_type": "stream",
          "name": "stdout",
          "text": [
            "\b\b\b\b\b\b\b\b\b\b\b\b\b\b\b\b\b\b\b\b\b\b\b\b\b\b\b\b\b\b\b\b\b\b\b\b\b\b\b\b\b\b\b\b\b\b\b\b\b\b\b\b\b\b\b\b\b\b\b\b\b\b\b\b\b\b\b\b\b\b\b\b\b\b\b\b\b\b\b\b\b\b\b\b\b\b\b\b\b\b\b\b\b\b\b\b\b\b\b\b\b\b\b\b\b\b\b\b\b\b\b\b\b\b\b\b\b\b\b\b\b\b\b\b\b\b\b\b\b\b\b\b\b\b\b\b\b\b\b\b\b\b\b\b\b\b\r154/154 [==============================] - 3s 20ms/step - categorical_accuracy: 0.9038 - auc: 0.9733 - student_loss: 0.2374 - distillation_loss: 0.0085 - val_categorical_accuracy: 0.8725 - val_auc: 0.9306 - val_student_loss: 0.2291\n",
            "Epoch 88/100\n",
            "154/154 [==============================] - ETA: 0s - categorical_accuracy: 0.9144 - auc: 0.9743 - student_loss: 0.2307 - distillation_loss: 0.0089"
          ]
        },
        {
          "output_type": "stream",
          "name": "stderr",
          "text": [
            "WARNING:tensorflow:Early stopping conditioned on metric `val_loss` which is not available. Available metrics are: categorical_accuracy,auc,student_loss,distillation_loss,val_categorical_accuracy,val_auc,val_student_loss\n"
          ]
        },
        {
          "output_type": "stream",
          "name": "stdout",
          "text": [
            "\b\b\b\b\b\b\b\b\b\b\b\b\b\b\b\b\b\b\b\b\b\b\b\b\b\b\b\b\b\b\b\b\b\b\b\b\b\b\b\b\b\b\b\b\b\b\b\b\b\b\b\b\b\b\b\b\b\b\b\b\b\b\b\b\b\b\b\b\b\b\b\b\b\b\b\b\b\b\b\b\b\b\b\b\b\b\b\b\b\b\b\b\b\b\b\b\b\b\b\b\b\b\b\b\b\b\b\b\b\b\b\b\b\b\b\b\b\b\b\b\b\b\b\b\b\b\b\b\b\b\b\b\b\b\b\b\b\b\b\b\b\b\b\b\b\b\r154/154 [==============================] - 3s 19ms/step - categorical_accuracy: 0.9144 - auc: 0.9743 - student_loss: 0.2309 - distillation_loss: 0.0090 - val_categorical_accuracy: 0.8644 - val_auc: 0.9305 - val_student_loss: 0.2283\n",
            "Epoch 89/100\n",
            "152/154 [============================>.] - ETA: 0s - categorical_accuracy: 0.9120 - auc: 0.9752 - student_loss: 0.2268 - distillation_loss: 0.0089"
          ]
        },
        {
          "output_type": "stream",
          "name": "stderr",
          "text": [
            "WARNING:tensorflow:Early stopping conditioned on metric `val_loss` which is not available. Available metrics are: categorical_accuracy,auc,student_loss,distillation_loss,val_categorical_accuracy,val_auc,val_student_loss\n"
          ]
        },
        {
          "output_type": "stream",
          "name": "stdout",
          "text": [
            "\b\b\b\b\b\b\b\b\b\b\b\b\b\b\b\b\b\b\b\b\b\b\b\b\b\b\b\b\b\b\b\b\b\b\b\b\b\b\b\b\b\b\b\b\b\b\b\b\b\b\b\b\b\b\b\b\b\b\b\b\b\b\b\b\b\b\b\b\b\b\b\b\b\b\b\b\b\b\b\b\b\b\b\b\b\b\b\b\b\b\b\b\b\b\b\b\b\b\b\b\b\b\b\b\b\b\b\b\b\b\b\b\b\b\b\b\b\b\b\b\b\b\b\b\b\b\b\b\b\b\b\b\b\b\b\b\b\b\b\b\b\b\b\b\b\b\r154/154 [==============================] - 3s 19ms/step - categorical_accuracy: 0.9123 - auc: 0.9753 - student_loss: 0.2280 - distillation_loss: 0.0089 - val_categorical_accuracy: 0.8611 - val_auc: 0.9283 - val_student_loss: 0.2550\n",
            "Epoch 90/100\n",
            "154/154 [==============================] - ETA: 0s - categorical_accuracy: 0.9103 - auc: 0.9753 - student_loss: 0.2275 - distillation_loss: 0.0088"
          ]
        },
        {
          "output_type": "stream",
          "name": "stderr",
          "text": [
            "WARNING:tensorflow:Early stopping conditioned on metric `val_loss` which is not available. Available metrics are: categorical_accuracy,auc,student_loss,distillation_loss,val_categorical_accuracy,val_auc,val_student_loss\n"
          ]
        },
        {
          "output_type": "stream",
          "name": "stdout",
          "text": [
            "\b\b\b\b\b\b\b\b\b\b\b\b\b\b\b\b\b\b\b\b\b\b\b\b\b\b\b\b\b\b\b\b\b\b\b\b\b\b\b\b\b\b\b\b\b\b\b\b\b\b\b\b\b\b\b\b\b\b\b\b\b\b\b\b\b\b\b\b\b\b\b\b\b\b\b\b\b\b\b\b\b\b\b\b\b\b\b\b\b\b\b\b\b\b\b\b\b\b\b\b\b\b\b\b\b\b\b\b\b\b\b\b\b\b\b\b\b\b\b\b\b\b\b\b\b\b\b\b\b\b\b\b\b\b\b\b\b\b\b\b\b\b\b\b\b\b\r154/154 [==============================] - 3s 20ms/step - categorical_accuracy: 0.9103 - auc: 0.9753 - student_loss: 0.2285 - distillation_loss: 0.0088 - val_categorical_accuracy: 0.8611 - val_auc: 0.9288 - val_student_loss: 0.2353\n",
            "Epoch 91/100\n",
            "153/154 [============================>.] - ETA: 0s - categorical_accuracy: 0.9191 - auc: 0.9767 - student_loss: 0.2232 - distillation_loss: 0.0091"
          ]
        },
        {
          "output_type": "stream",
          "name": "stderr",
          "text": [
            "WARNING:tensorflow:Early stopping conditioned on metric `val_loss` which is not available. Available metrics are: categorical_accuracy,auc,student_loss,distillation_loss,val_categorical_accuracy,val_auc,val_student_loss\n"
          ]
        },
        {
          "output_type": "stream",
          "name": "stdout",
          "text": [
            "\b\b\b\b\b\b\b\b\b\b\b\b\b\b\b\b\b\b\b\b\b\b\b\b\b\b\b\b\b\b\b\b\b\b\b\b\b\b\b\b\b\b\b\b\b\b\b\b\b\b\b\b\b\b\b\b\b\b\b\b\b\b\b\b\b\b\b\b\b\b\b\b\b\b\b\b\b\b\b\b\b\b\b\b\b\b\b\b\b\b\b\b\b\b\b\b\b\b\b\b\b\b\b\b\b\b\b\b\b\b\b\b\b\b\b\b\b\b\b\b\b\b\b\b\b\b\b\b\b\b\b\b\b\b\b\b\b\b\b\b\b\b\b\b\b\b\r154/154 [==============================] - 3s 19ms/step - categorical_accuracy: 0.9188 - auc: 0.9767 - student_loss: 0.2233 - distillation_loss: 0.0090 - val_categorical_accuracy: 0.8644 - val_auc: 0.9279 - val_student_loss: 0.2696\n",
            "Epoch 92/100\n",
            "151/154 [============================>.] - ETA: 0s - categorical_accuracy: 0.9156 - auc: 0.9769 - student_loss: 0.2221 - distillation_loss: 0.0093"
          ]
        },
        {
          "output_type": "stream",
          "name": "stderr",
          "text": [
            "WARNING:tensorflow:Early stopping conditioned on metric `val_loss` which is not available. Available metrics are: categorical_accuracy,auc,student_loss,distillation_loss,val_categorical_accuracy,val_auc,val_student_loss\n"
          ]
        },
        {
          "output_type": "stream",
          "name": "stdout",
          "text": [
            "\b\b\b\b\b\b\b\b\b\b\b\b\b\b\b\b\b\b\b\b\b\b\b\b\b\b\b\b\b\b\b\b\b\b\b\b\b\b\b\b\b\b\b\b\b\b\b\b\b\b\b\b\b\b\b\b\b\b\b\b\b\b\b\b\b\b\b\b\b\b\b\b\b\b\b\b\b\b\b\b\b\b\b\b\b\b\b\b\b\b\b\b\b\b\b\b\b\b\b\b\b\b\b\b\b\b\b\b\b\b\b\b\b\b\b\b\b\b\b\b\b\b\b\b\b\b\b\b\b\b\b\b\b\b\b\b\b\b\b\b\b\b\b\b\b\b\r154/154 [==============================] - 3s 19ms/step - categorical_accuracy: 0.9148 - auc: 0.9769 - student_loss: 0.2225 - distillation_loss: 0.0092 - val_categorical_accuracy: 0.8660 - val_auc: 0.9286 - val_student_loss: 0.2442\n",
            "Epoch 93/100\n",
            "151/154 [============================>.] - ETA: 0s - categorical_accuracy: 0.9127 - auc: 0.9769 - student_loss: 0.2226 - distillation_loss: 0.0090"
          ]
        },
        {
          "output_type": "stream",
          "name": "stderr",
          "text": [
            "WARNING:tensorflow:Early stopping conditioned on metric `val_loss` which is not available. Available metrics are: categorical_accuracy,auc,student_loss,distillation_loss,val_categorical_accuracy,val_auc,val_student_loss\n"
          ]
        },
        {
          "output_type": "stream",
          "name": "stdout",
          "text": [
            "\b\b\b\b\b\b\b\b\b\b\b\b\b\b\b\b\b\b\b\b\b\b\b\b\b\b\b\b\b\b\b\b\b\b\b\b\b\b\b\b\b\b\b\b\b\b\b\b\b\b\b\b\b\b\b\b\b\b\b\b\b\b\b\b\b\b\b\b\b\b\b\b\b\b\b\b\b\b\b\b\b\b\b\b\b\b\b\b\b\b\b\b\b\b\b\b\b\b\b\b\b\b\b\b\b\b\b\b\b\b\b\b\b\b\b\b\b\b\b\b\b\b\b\b\b\b\b\b\b\b\b\b\b\b\b\b\b\b\b\b\b\b\b\b\b\b\r154/154 [==============================] - 3s 19ms/step - categorical_accuracy: 0.9127 - auc: 0.9770 - student_loss: 0.2255 - distillation_loss: 0.0092 - val_categorical_accuracy: 0.8546 - val_auc: 0.9292 - val_student_loss: 0.2147\n",
            "Epoch 94/100\n",
            "154/154 [==============================] - ETA: 0s - categorical_accuracy: 0.9123 - auc: 0.9763 - student_loss: 0.2244 - distillation_loss: 0.0086"
          ]
        },
        {
          "output_type": "stream",
          "name": "stderr",
          "text": [
            "WARNING:tensorflow:Early stopping conditioned on metric `val_loss` which is not available. Available metrics are: categorical_accuracy,auc,student_loss,distillation_loss,val_categorical_accuracy,val_auc,val_student_loss\n"
          ]
        },
        {
          "output_type": "stream",
          "name": "stdout",
          "text": [
            "\b\b\b\b\b\b\b\b\b\b\b\b\b\b\b\b\b\b\b\b\b\b\b\b\b\b\b\b\b\b\b\b\b\b\b\b\b\b\b\b\b\b\b\b\b\b\b\b\b\b\b\b\b\b\b\b\b\b\b\b\b\b\b\b\b\b\b\b\b\b\b\b\b\b\b\b\b\b\b\b\b\b\b\b\b\b\b\b\b\b\b\b\b\b\b\b\b\b\b\b\b\b\b\b\b\b\b\b\b\b\b\b\b\b\b\b\b\b\b\b\b\b\b\b\b\b\b\b\b\b\b\b\b\b\b\b\b\b\b\b\b\b\b\b\b\b\r154/154 [==============================] - 3s 20ms/step - categorical_accuracy: 0.9123 - auc: 0.9763 - student_loss: 0.2233 - distillation_loss: 0.0086 - val_categorical_accuracy: 0.8611 - val_auc: 0.9310 - val_student_loss: 0.2109\n",
            "Epoch 95/100\n",
            "154/154 [==============================] - ETA: 0s - categorical_accuracy: 0.9131 - auc: 0.9773 - student_loss: 0.2188 - distillation_loss: 0.0094"
          ]
        },
        {
          "output_type": "stream",
          "name": "stderr",
          "text": [
            "WARNING:tensorflow:Early stopping conditioned on metric `val_loss` which is not available. Available metrics are: categorical_accuracy,auc,student_loss,distillation_loss,val_categorical_accuracy,val_auc,val_student_loss\n"
          ]
        },
        {
          "output_type": "stream",
          "name": "stdout",
          "text": [
            "\b\b\b\b\b\b\b\b\b\b\b\b\b\b\b\b\b\b\b\b\b\b\b\b\b\b\b\b\b\b\b\b\b\b\b\b\b\b\b\b\b\b\b\b\b\b\b\b\b\b\b\b\b\b\b\b\b\b\b\b\b\b\b\b\b\b\b\b\b\b\b\b\b\b\b\b\b\b\b\b\b\b\b\b\b\b\b\b\b\b\b\b\b\b\b\b\b\b\b\b\b\b\b\b\b\b\b\b\b\b\b\b\b\b\b\b\b\b\b\b\b\b\b\b\b\b\b\b\b\b\b\b\b\b\b\b\b\b\b\b\b\b\b\b\b\b\r154/154 [==============================] - 3s 20ms/step - categorical_accuracy: 0.9131 - auc: 0.9773 - student_loss: 0.2188 - distillation_loss: 0.0094 - val_categorical_accuracy: 0.8644 - val_auc: 0.9290 - val_student_loss: 0.2524\n",
            "Epoch 96/100\n",
            "151/154 [============================>.] - ETA: 0s - categorical_accuracy: 0.9164 - auc: 0.9791 - student_loss: 0.2162 - distillation_loss: 0.0091"
          ]
        },
        {
          "output_type": "stream",
          "name": "stderr",
          "text": [
            "WARNING:tensorflow:Early stopping conditioned on metric `val_loss` which is not available. Available metrics are: categorical_accuracy,auc,student_loss,distillation_loss,val_categorical_accuracy,val_auc,val_student_loss\n"
          ]
        },
        {
          "output_type": "stream",
          "name": "stdout",
          "text": [
            "\b\b\b\b\b\b\b\b\b\b\b\b\b\b\b\b\b\b\b\b\b\b\b\b\b\b\b\b\b\b\b\b\b\b\b\b\b\b\b\b\b\b\b\b\b\b\b\b\b\b\b\b\b\b\b\b\b\b\b\b\b\b\b\b\b\b\b\b\b\b\b\b\b\b\b\b\b\b\b\b\b\b\b\b\b\b\b\b\b\b\b\b\b\b\b\b\b\b\b\b\b\b\b\b\b\b\b\b\b\b\b\b\b\b\b\b\b\b\b\b\b\b\b\b\b\b\b\b\b\b\b\b\b\b\b\b\b\b\b\b\b\b\b\b\b\b\r154/154 [==============================] - 3s 20ms/step - categorical_accuracy: 0.9168 - auc: 0.9794 - student_loss: 0.2162 - distillation_loss: 0.0091 - val_categorical_accuracy: 0.8611 - val_auc: 0.9299 - val_student_loss: 0.2276\n",
            "Epoch 97/100\n",
            "151/154 [============================>.] - ETA: 0s - categorical_accuracy: 0.9123 - auc: 0.9781 - student_loss: 0.2188 - distillation_loss: 0.0090"
          ]
        },
        {
          "output_type": "stream",
          "name": "stderr",
          "text": [
            "WARNING:tensorflow:Early stopping conditioned on metric `val_loss` which is not available. Available metrics are: categorical_accuracy,auc,student_loss,distillation_loss,val_categorical_accuracy,val_auc,val_student_loss\n"
          ]
        },
        {
          "output_type": "stream",
          "name": "stdout",
          "text": [
            "\b\b\b\b\b\b\b\b\b\b\b\b\b\b\b\b\b\b\b\b\b\b\b\b\b\b\b\b\b\b\b\b\b\b\b\b\b\b\b\b\b\b\b\b\b\b\b\b\b\b\b\b\b\b\b\b\b\b\b\b\b\b\b\b\b\b\b\b\b\b\b\b\b\b\b\b\b\b\b\b\b\b\b\b\b\b\b\b\b\b\b\b\b\b\b\b\b\b\b\b\b\b\b\b\b\b\b\b\b\b\b\b\b\b\b\b\b\b\b\b\b\b\b\b\b\b\b\b\b\b\b\b\b\b\b\b\b\b\b\b\b\b\b\b\b\b\r154/154 [==============================] - 3s 19ms/step - categorical_accuracy: 0.9127 - auc: 0.9781 - student_loss: 0.2199 - distillation_loss: 0.0090 - val_categorical_accuracy: 0.8529 - val_auc: 0.9291 - val_student_loss: 0.2022\n",
            "Epoch 98/100\n",
            "153/154 [============================>.] - ETA: 0s - categorical_accuracy: 0.9097 - auc: 0.9769 - student_loss: 0.2218 - distillation_loss: 0.0087"
          ]
        },
        {
          "output_type": "stream",
          "name": "stderr",
          "text": [
            "WARNING:tensorflow:Early stopping conditioned on metric `val_loss` which is not available. Available metrics are: categorical_accuracy,auc,student_loss,distillation_loss,val_categorical_accuracy,val_auc,val_student_loss\n"
          ]
        },
        {
          "output_type": "stream",
          "name": "stdout",
          "text": [
            "\b\b\b\b\b\b\b\b\b\b\b\b\b\b\b\b\b\b\b\b\b\b\b\b\b\b\b\b\b\b\b\b\b\b\b\b\b\b\b\b\b\b\b\b\b\b\b\b\b\b\b\b\b\b\b\b\b\b\b\b\b\b\b\b\b\b\b\b\b\b\b\b\b\b\b\b\b\b\b\b\b\b\b\b\b\b\b\b\b\b\b\b\b\b\b\b\b\b\b\b\b\b\b\b\b\b\b\b\b\b\b\b\b\b\b\b\b\b\b\b\b\b\b\b\b\b\b\b\b\b\b\b\b\b\b\b\b\b\b\b\b\b\b\b\b\b\r154/154 [==============================] - 3s 20ms/step - categorical_accuracy: 0.9095 - auc: 0.9769 - student_loss: 0.2238 - distillation_loss: 0.0089 - val_categorical_accuracy: 0.8529 - val_auc: 0.9286 - val_student_loss: 0.2078\n",
            "Epoch 99/100\n",
            "154/154 [==============================] - ETA: 0s - categorical_accuracy: 0.9172 - auc: 0.9777 - student_loss: 0.2217 - distillation_loss: 0.0090"
          ]
        },
        {
          "output_type": "stream",
          "name": "stderr",
          "text": [
            "WARNING:tensorflow:Early stopping conditioned on metric `val_loss` which is not available. Available metrics are: categorical_accuracy,auc,student_loss,distillation_loss,val_categorical_accuracy,val_auc,val_student_loss\n"
          ]
        },
        {
          "output_type": "stream",
          "name": "stdout",
          "text": [
            "\b\b\b\b\b\b\b\b\b\b\b\b\b\b\b\b\b\b\b\b\b\b\b\b\b\b\b\b\b\b\b\b\b\b\b\b\b\b\b\b\b\b\b\b\b\b\b\b\b\b\b\b\b\b\b\b\b\b\b\b\b\b\b\b\b\b\b\b\b\b\b\b\b\b\b\b\b\b\b\b\b\b\b\b\b\b\b\b\b\b\b\b\b\b\b\b\b\b\b\b\b\b\b\b\b\b\b\b\b\b\b\b\b\b\b\b\b\b\b\b\b\b\b\b\b\b\b\b\b\b\b\b\b\b\b\b\b\b\b\b\b\b\b\b\b\b\r154/154 [==============================] - 3s 21ms/step - categorical_accuracy: 0.9172 - auc: 0.9777 - student_loss: 0.2232 - distillation_loss: 0.0090 - val_categorical_accuracy: 0.8676 - val_auc: 0.9301 - val_student_loss: 0.2299\n",
            "Epoch 100/100\n",
            "154/154 [==============================] - ETA: 0s - categorical_accuracy: 0.9188 - auc: 0.9778 - student_loss: 0.2190 - distillation_loss: 0.0089"
          ]
        },
        {
          "output_type": "stream",
          "name": "stderr",
          "text": [
            "WARNING:tensorflow:Early stopping conditioned on metric `val_loss` which is not available. Available metrics are: categorical_accuracy,auc,student_loss,distillation_loss,val_categorical_accuracy,val_auc,val_student_loss\n"
          ]
        },
        {
          "output_type": "stream",
          "name": "stdout",
          "text": [
            "154/154 [==============================] - 3s 20ms/step - categorical_accuracy: 0.9188 - auc: 0.9778 - student_loss: 0.2190 - distillation_loss: 0.0089 - val_categorical_accuracy: 0.8627 - val_auc: 0.9288 - val_student_loss: 0.2184\n",
            "20/20 [==============================] - 0s 7ms/step - categorical_accuracy: 0.8627 - auc: 0.9288 - student_loss: 0.3300\n",
            "20/20 [==============================] - 1s 7ms/step\n",
            "[[240  53]\n",
            " [ 31 288]]\n"
          ]
        }
      ]
    }
  ],
  "metadata": {
    "colab": {
      "machine_shape": "hm",
      "provenance": []
    },
    "kernelspec": {
      "display_name": "Python 3",
      "name": "python3"
    },
    "language_info": {
      "name": "python"
    }
  },
  "nbformat": 4,
  "nbformat_minor": 0
}